{
 "cells": [
  {
   "cell_type": "code",
   "execution_count": 1,
   "metadata": {},
   "outputs": [],
   "source": [
    "import os\n",
    "import sys\n",
    "\n",
    "import torch\n",
    "import torch.nn as nn\n",
    "import torch.optim as optim\n",
    "from torch.utils.data import DataLoader, TensorDataset\n",
    "from tqdm import tqdm\n",
    "\n",
    "import numpy as np\n",
    "import pandas as pd\n",
    "import matplotlib.pyplot as plt\n",
    "\n",
    "from models import new_models\n",
    "from config import load_data\n",
    "\n",
    "from ray import tune\n",
    "from ray.air.integrations.mlflow import MLflowLoggerCallback\n",
    "from ray.tune.schedulers import ASHAScheduler\n",
    "from torch.optim.lr_scheduler import ReduceLROnPlateau\n",
    "\n",
    "import mlflow\n",
    "from mlflow.tracking import MlflowClient"
   ]
  },
  {
   "attachments": {},
   "cell_type": "markdown",
   "metadata": {},
   "source": [
    "# Training"
   ]
  },
  {
   "cell_type": "code",
   "execution_count": 5,
   "metadata": {},
   "outputs": [],
   "source": [
    "def fit(net, loss_function, optimizer, data_loader, num_epochs, mode, lr_scheduler, use_amp=False):\n",
    "\thistory = {\"train\": {\"loss\": [], \"mae\": []}, \"val\": {\"loss\": [], \"mae\": []}}\n",
    "\tscaler = torch.cuda.amp.GradScaler(enabled=use_amp) # Mixed-precision support for compatible GPUs\n",
    "\tprint(\"\\nTraining the model:\")\n",
    "\tfor epoch in range(num_epochs):\n",
    "\t\tprint(\"\\nEpoch\", epoch+1)\n",
    "\t\tif epoch < num_epochs - 1:\n",
    "\t\t\tkeys = [\"train\", \"val\"]\n",
    "\t\telse:\n",
    "\t\t\tkeys = [\"train\", \"val\", \"test\"]\n",
    "\t\tfor key in keys:\n",
    "\t\t\tdataset_size = 0\n",
    "\t\t\tdataset_loss = 0.0\n",
    "\t\t\tif key == \"train\":\n",
    "\t\t\t\tnet.train()\n",
    "\t\t\telse:\n",
    "\t\t\t\tnet.eval()\n",
    "\t\t\tfor X_batch, y_batch in tqdm(data_loader[key]):\n",
    "\t\t\t\tX_batch, y_batch = X_batch.to(mode[\"device\"]), y_batch.to(mode[\"device\"])\n",
    "\t\t\t\twith torch.set_grad_enabled(mode=(key==\"train\")): # Autograd activated only during training\n",
    "\t\t\t\t\twith torch.cuda.amp.autocast(enabled=use_amp): # Mixed-precision support for compatible GPUs\n",
    "\t\t\t\t\t\tbatch_output = net(X_batch.float())\n",
    "\t\t\t\t\t\tbatch_loss = loss_function(batch_output, y_batch)\n",
    "\t\t\t\t\tif key == \"train\":\n",
    "\t\t\t\t\t\tscaler.scale(batch_loss).backward()\n",
    "\t\t\t\t\t\tscaler.step(optimizer) \t\n",
    "\t\t\t\t\t\tscaler.update()\n",
    "\t\t\t\t\t\toptimizer.zero_grad()\n",
    "\t\t\t\tdataset_size += y_batch.shape[0]\n",
    "\t\t\t\tdataset_loss += y_batch.shape[0] * batch_loss.item()\n",
    "\t\t\tdataset_loss /= dataset_size\n",
    "\t\t\tif key in [\"train\", \"val\"]:\n",
    "\t\t\t\thistory[key][\"loss\"].append(dataset_loss)\n",
    "\t\t\t\tif key == \"train\":\n",
    "\t\t\t\t\ttune.report(train_loss=dataset_loss)\n",
    "\t\t\t\telse:\n",
    "\t\t\t\t\tval_loss = dataset_loss\n",
    "\t\t\t\t\tlr_scheduler.step(metrics=val_loss)\n",
    "\t\t\t\t\ttune.report(val_loss=val_loss)\n",
    "\t\t\telse:\n",
    "\t\t\t\tprint(\"\\nEvaluating the model:\")\n",
    "\t\t\t\tprint(key, \"loss:\", dataset_loss)\n",
    "\t\t\t\ttune.report(test_loss=dataset_loss)\n",
    "\treturn net"
   ]
  },
  {
   "cell_type": "code",
   "execution_count": 6,
   "metadata": {},
   "outputs": [],
   "source": [
    "from config import load_data\n",
    "\n",
    "def train_model(config, data_dir):\n",
    "\n",
    "    use_GPU = torch.cuda.is_available()\n",
    "    if use_GPU:\n",
    "        mode = {\"name\": \"cuda\", \"device\": torch.device(\"cuda\")}\n",
    "    else:\n",
    "        mode = {\"name\": \"cpu\", \"device\": torch.device(\"cpu\")}\n",
    "\n",
    "    # Define hyperparameters\n",
    "    train_size = 0.6\n",
    "    val_size = 0.2\n",
    "    test_size = 0.2\n",
    "\n",
    "    sequence_length = config['sequence_length']\n",
    "    batch_size = config['batch_size']\n",
    "    num_epochs = config['num_epochs']\n",
    "    lr = config['lr']\n",
    "    weight_decay = config['weigth_decay']\n",
    "    vars = ['Nedbør Nilsebu']\n",
    "\n",
    "    ld = load_data(data_dir = data_dir, target_variable = config['target_variable'])\n",
    "    \n",
    "    X, y = ld.create_lagged_matrix(window_size=sequence_length, vars_to_lag=vars)\n",
    "\n",
    "    X_train, y_train, X_val, y_val, X_test, y_test = ld.split_data(X, y)\n",
    "\n",
    "    train_dataloader = ld.create_dataloader(X_train, y_train, sequence_length, batch_size=batch_size, shuffle=True)\n",
    "    val_dataloader = ld.create_dataloader(X_val, y_val, sequence_length, batch_size=batch_size, shuffle=True)\n",
    "    test_dataloader = ld.create_dataloader(X_test, y_test, sequence_length, batch_size=batch_size, shuffle=False)\n",
    "    \n",
    "    # Model inputs\n",
    "    if vars:\n",
    "        input_size = len(vars) + 1\n",
    "    else:\n",
    "        input_size = 1\n",
    "    hidden_size = config['hidden_size']\n",
    "    num_layers = config['num_layers']\n",
    "    output_size = 1\n",
    "\n",
    "    if config['arch'] == \"FCN\":\n",
    "        net = new_models.FCN(input_size,\n",
    "                    hidden_size,\n",
    "                    num_layers,\n",
    "                    output_size,\n",
    "                    )\n",
    "    elif config['arch'] ==  \"FCNTemporalAttention\":\n",
    "        net = new_models.FCNTemporalAttention(input_size,\n",
    "                    hidden_size,\n",
    "                    num_layers,\n",
    "                    output_size,\n",
    "                    )\n",
    "    elif config['arch'] == \"LSTM\":\n",
    "        net = new_models.LSTM(input_size,\n",
    "                    hidden_size,\n",
    "                    num_layers,\n",
    "                    output_size,\n",
    "                    )\n",
    "    elif config['arch'] == \"LSTMTemporalAttention\":\n",
    "        net = new_models.LSTMTemporalAttention(input_size,\n",
    "                    hidden_size,\n",
    "                    num_layers,\n",
    "                    output_size,\n",
    "                    )\n",
    "\n",
    "    data_loader = {\n",
    "    \"train\": train_dataloader,\n",
    "    \"val\": val_dataloader,\n",
    "    \"test\": test_dataloader,\n",
    "    }\n",
    "    \n",
    "    net.to(mode[\"device\"])\n",
    "\n",
    "    loss_function = nn.MSELoss().to(mode[\"device\"])\n",
    "    optimizer = optim.Adam(net.parameters(), lr=lr, weight_decay=weight_decay)\n",
    "\n",
    "    # Define your learning rate scheduler\n",
    "    lr_scheduler = ReduceLROnPlateau(optimizer, mode='min', factor=0.5, patience=5, verbose=True)\n",
    "                                           \n",
    "    scaler = torch.cuda.amp.GradScaler(enabled=False) # Mixed-precision support for compatible GPUs\n",
    "    for epoch in range(num_epochs):\n",
    "        print(\"\\nEpoch\", epoch+1)\n",
    "        if epoch < num_epochs - 1:\n",
    "            keys = [\"train\", \"val\"]\n",
    "        else:\n",
    "            keys = [\"train\", \"val\", \"test\"]\n",
    "        for key in keys:\n",
    "            dataset_size = 0\n",
    "            dataset_loss = 0.0\n",
    "            if key == \"train\":\n",
    "                net.train()\n",
    "            else:\n",
    "                net.eval()\n",
    "            for X_batch, y_batch in tqdm(data_loader[key]):\n",
    "                X_batch, y_batch = X_batch.to(mode[\"device\"]), y_batch.to(mode[\"device\"])\n",
    "                with torch.set_grad_enabled(mode=(key==\"train\")): # Autograd activated only during training\n",
    "                    with torch.cuda.amp.autocast(enabled=False): # Mixed-precision support for compatible GPUs\n",
    "                        batch_output = net(X_batch.float())\n",
    "                        batch_loss = loss_function(batch_output, y_batch)\n",
    "                    if key == \"train\":\n",
    "                        scaler.scale(batch_loss).backward()\n",
    "                        scaler.step(optimizer) \t\n",
    "                        scaler.update()\n",
    "                        optimizer.zero_grad()\n",
    "                dataset_size += y_batch.shape[0]\n",
    "                dataset_loss += y_batch.shape[0] * batch_loss.item()\n",
    "\n",
    "            dataset_loss /= dataset_size\n",
    "\n",
    "            # Report results to Ray Tune\n",
    "            if key == \"train\":\n",
    "                tune.report(train_loss=dataset_loss)\n",
    "            elif key == \"val\":\n",
    "                # Update learning rate\n",
    "                lr_scheduler.step(metrics=dataset_loss)\n",
    "                tune.report(val_loss=dataset_loss)\n",
    "            else:\n",
    "                print(\"\\nEvaluating the model:\")\n",
    "                print(key, \"loss:\", dataset_loss)\n",
    "                tune.report(test_loss=dataset_loss)\n",
    "\n",
    "                \n",
    "    out_name = \"\"\n",
    "    for k, v in config.items():\n",
    "        if not k in ['weights_dir', 'cwd']:\n",
    "            out_name += '{}-{}_'.format(k, v)\n",
    "    torch.save(net.state_dict(), os.path.join(config['cwd'], config['weights_dir'], out_name[:-1] + '.pth'))"
   ]
  },
  {
   "cell_type": "code",
   "execution_count": 7,
   "metadata": {},
   "outputs": [],
   "source": [
    "client = MlflowClient()\n",
    "cwd = os.getcwd()\n",
    "exp_base_name = \"Test_of_interface\"\n",
    "\n",
    "created = 0\n",
    "for i in range(100):\n",
    "    try:\n",
    "        exp_name = exp_base_name+\"_{}\".format(i)\n",
    "        experiment_id = client.create_experiment(exp_name)\n",
    "        created=1\n",
    "        break\n",
    "    except (TypeError, mlflow.exceptions.MlflowException):\n",
    "        continue\n",
    "\n",
    "if not created:\n",
    "    print(\"ERROR: Try new experiment name.\")\n",
    "    sys.exit(1)\n",
    "\n",
    "weights_root = \"./model_weights/\"\n",
    "weights_dir = weights_root+exp_name+'/'\n",
    "os.mkdir(weights_dir)"
   ]
  },
  {
   "cell_type": "code",
   "execution_count": 8,
   "metadata": {},
   "outputs": [],
   "source": [
    "data_dir = \"./data/\"\n",
    "target_variable = 'Q_Kalltveit'"
   ]
  },
  {
   "cell_type": "code",
   "execution_count": 9,
   "metadata": {},
   "outputs": [
    {
     "name": "stderr",
     "output_type": "stream",
     "text": [
      "2023-03-24 17:43:41,851\tINFO worker.py:1538 -- Started a local Ray instance.\n"
     ]
    },
    {
     "data": {
      "text/html": [
       "<div class=\"tuneStatus\">\n",
       "  <div style=\"display: flex;flex-direction: row\">\n",
       "    <div style=\"display: flex;flex-direction: column;\">\n",
       "      <h3>Tune Status</h3>\n",
       "      <table>\n",
       "<tbody>\n",
       "<tr><td>Current time:</td><td>2023-03-24 17:43:48</td></tr>\n",
       "<tr><td>Running for: </td><td>00:00:04.08        </td></tr>\n",
       "<tr><td>Memory:      </td><td>14.2/31.9 GiB      </td></tr>\n",
       "</tbody>\n",
       "</table>\n",
       "    </div>\n",
       "    <div class=\"vDivider\"></div>\n",
       "    <div class=\"systemInfo\">\n",
       "      <h3>System Info</h3>\n",
       "      Using FIFO scheduling algorithm.<br>Resources requested: 12.0/12 CPUs, 1.0/1 GPUs, 0.0/11.43 GiB heap, 0.0/5.71 GiB objects\n",
       "    </div>\n",
       "    \n",
       "  </div>\n",
       "  <div class=\"hDivider\"></div>\n",
       "  <div class=\"trialStatus\">\n",
       "    <h3>Trial Status</h3>\n",
       "    <table>\n",
       "<thead>\n",
       "<tr><th>Trial name             </th><th>status  </th><th>loc           </th><th>arch                </th><th style=\"text-align: right;\">  batch_size</th><th style=\"text-align: right;\">  hidden_size</th><th style=\"text-align: right;\">         lr</th><th style=\"text-align: right;\">  num_epochs</th><th style=\"text-align: right;\">  num_layers</th><th style=\"text-align: right;\">  sequence_length</th><th>variables     </th><th style=\"text-align: right;\">  weigth_decay</th></tr>\n",
       "</thead>\n",
       "<tbody>\n",
       "<tr><td>train_model_0a8f8_00000</td><td>RUNNING </td><td>127.0.0.1:8784</td><td>LSTM                </td><td style=\"text-align: right;\">         256</td><td style=\"text-align: right;\">           64</td><td style=\"text-align: right;\">0.00464666 </td><td style=\"text-align: right;\">         150</td><td style=\"text-align: right;\">           3</td><td style=\"text-align: right;\">               25</td><td>              </td><td style=\"text-align: right;\">        0     </td></tr>\n",
       "<tr><td>train_model_0a8f8_00001</td><td>PENDING </td><td>              </td><td>LSTMTemporalAtt_b620</td><td style=\"text-align: right;\">         256</td><td style=\"text-align: right;\">           64</td><td style=\"text-align: right;\">0.00583044 </td><td style=\"text-align: right;\">         150</td><td style=\"text-align: right;\">           4</td><td style=\"text-align: right;\">               25</td><td>              </td><td style=\"text-align: right;\">        0.001 </td></tr>\n",
       "<tr><td>train_model_0a8f8_00002</td><td>PENDING </td><td>              </td><td>LSTM                </td><td style=\"text-align: right;\">         512</td><td style=\"text-align: right;\">           64</td><td style=\"text-align: right;\">0.00213488 </td><td style=\"text-align: right;\">         150</td><td style=\"text-align: right;\">           3</td><td style=\"text-align: right;\">               25</td><td>Nedbør Nilsebu</td><td style=\"text-align: right;\">        0.0001</td></tr>\n",
       "<tr><td>train_model_0a8f8_00003</td><td>PENDING </td><td>              </td><td>LSTMTemporalAtt_b620</td><td style=\"text-align: right;\">         512</td><td style=\"text-align: right;\">           64</td><td style=\"text-align: right;\">0.000194323</td><td style=\"text-align: right;\">         150</td><td style=\"text-align: right;\">           4</td><td style=\"text-align: right;\">               25</td><td>Nedbør Nilsebu</td><td style=\"text-align: right;\">        0.0001</td></tr>\n",
       "<tr><td>train_model_0a8f8_00004</td><td>PENDING </td><td>              </td><td>LSTM                </td><td style=\"text-align: right;\">         512</td><td style=\"text-align: right;\">           64</td><td style=\"text-align: right;\">0.00053192 </td><td style=\"text-align: right;\">         150</td><td style=\"text-align: right;\">           4</td><td style=\"text-align: right;\">               25</td><td>Q_Lyngsaana   </td><td style=\"text-align: right;\">        0     </td></tr>\n",
       "<tr><td>train_model_0a8f8_00005</td><td>PENDING </td><td>              </td><td>LSTMTemporalAtt_b620</td><td style=\"text-align: right;\">         256</td><td style=\"text-align: right;\">           64</td><td style=\"text-align: right;\">0.000421152</td><td style=\"text-align: right;\">         150</td><td style=\"text-align: right;\">           4</td><td style=\"text-align: right;\">               25</td><td>Q_Lyngsaana   </td><td style=\"text-align: right;\">        0.001 </td></tr>\n",
       "</tbody>\n",
       "</table>\n",
       "  </div>\n",
       "</div>\n",
       "<style>\n",
       ".tuneStatus {\n",
       "  color: var(--jp-ui-font-color1);\n",
       "}\n",
       ".tuneStatus .systemInfo {\n",
       "  display: flex;\n",
       "  flex-direction: column;\n",
       "}\n",
       ".tuneStatus td {\n",
       "  white-space: nowrap;\n",
       "}\n",
       ".tuneStatus .trialStatus {\n",
       "  display: flex;\n",
       "  flex-direction: column;\n",
       "}\n",
       ".tuneStatus h3 {\n",
       "  font-weight: bold;\n",
       "}\n",
       ".tuneStatus .hDivider {\n",
       "  border-bottom-width: var(--jp-border-width);\n",
       "  border-bottom-color: var(--jp-border-color0);\n",
       "  border-bottom-style: solid;\n",
       "}\n",
       ".tuneStatus .vDivider {\n",
       "  border-left-width: var(--jp-border-width);\n",
       "  border-left-color: var(--jp-border-color0);\n",
       "  border-left-style: solid;\n",
       "  margin: 0.5em 1em 0.5em 1em;\n",
       "}\n",
       "</style>\n"
      ],
      "text/plain": [
       "<IPython.core.display.HTML object>"
      ]
     },
     "metadata": {},
     "output_type": "display_data"
    },
    {
     "name": "stderr",
     "output_type": "stream",
     "text": [
      "  0%|          | 0/173 [00:00<?, ?it/s]\n"
     ]
    },
    {
     "name": "stdout",
     "output_type": "stream",
     "text": [
      "\u001b[2m\u001b[36m(func pid=8784)\u001b[0m \n",
      "\u001b[2m\u001b[36m(func pid=8784)\u001b[0m Epoch 1\n"
     ]
    },
    {
     "name": "stderr",
     "output_type": "stream",
     "text": [
      "  1%|          | 1/173 [00:00<00:46,  3.72it/s]\n",
      " 10%|▉         | 17/173 [00:00<00:02, 57.36it/s]\n",
      " 19%|█▉        | 33/173 [00:00<00:01, 90.53it/s]\n",
      " 28%|██▊       | 48/173 [00:00<00:01, 109.36it/s]\n",
      " 36%|███▋      | 63/173 [00:00<00:00, 119.98it/s]\n",
      " 46%|████▌     | 80/173 [00:00<00:00, 135.15it/s]\n",
      " 55%|█████▌    | 96/173 [00:00<00:00, 142.06it/s]\n",
      " 65%|██████▍   | 112/173 [00:00<00:00, 144.86it/s]\n",
      " 74%|███████▍  | 128/173 [00:01<00:00, 149.33it/s]\n",
      " 84%|████████▍ | 145/173 [00:01<00:00, 154.65it/s]\n",
      " 94%|█████████▍| 163/173 [00:01<00:00, 158.99it/s]\n"
     ]
    },
    {
     "data": {
      "text/html": [
       "<div class=\"trialProgress\">\n",
       "  <h3>Trial Progress</h3>\n",
       "  <table>\n",
       "<thead>\n",
       "<tr><th>Trial name             </th><th>date               </th><th>done  </th><th>episodes_total  </th><th>experiment_id                   </th><th>experiment_tag                                                                                                                  </th><th>hostname       </th><th style=\"text-align: right;\">  iterations_since_restore</th><th>node_ip  </th><th style=\"text-align: right;\">  pid</th><th style=\"text-align: right;\">  test_loss</th><th style=\"text-align: right;\">  time_since_restore</th><th style=\"text-align: right;\">  time_this_iter_s</th><th style=\"text-align: right;\">  time_total_s</th><th style=\"text-align: right;\">  timestamp</th><th style=\"text-align: right;\">  timesteps_since_restore</th><th>timesteps_total  </th><th style=\"text-align: right;\">  training_iteration</th><th>trial_id   </th><th style=\"text-align: right;\">  warmup_time</th></tr>\n",
       "</thead>\n",
       "<tbody>\n",
       "<tr><td>train_model_0a8f8_00000</td><td>2023-03-24_17-47-13</td><td>True  </td><td>                </td><td>50c57ebe6811421a9337e13ba787a5e9</td><td>0_arch=LSTM,batch_size=256,hidden_size=64,lr=0.0046,num_epochs=150,num_layers=3,sequence_length=25,variables=None,weigth_decay=0</td><td>DESKTOP-D4IVECG</td><td style=\"text-align: right;\">                       301</td><td>127.0.0.1</td><td style=\"text-align: right;\"> 8784</td><td style=\"text-align: right;\">   0.382813</td><td style=\"text-align: right;\">             204.574</td><td style=\"text-align: right;\">          0.141423</td><td style=\"text-align: right;\">       204.574</td><td style=\"text-align: right;\"> 1679676433</td><td style=\"text-align: right;\">                        0</td><td>                 </td><td style=\"text-align: right;\">                 301</td><td>0a8f8_00000</td><td style=\"text-align: right;\">   0.00394416</td></tr>\n",
       "</tbody>\n",
       "</table>\n",
       "</div>\n",
       "<style>\n",
       ".trialProgress {\n",
       "  display: flex;\n",
       "  flex-direction: column;\n",
       "  color: var(--jp-ui-font-color1);\n",
       "}\n",
       ".trialProgress h3 {\n",
       "  font-weight: bold;\n",
       "}\n",
       ".trialProgress td {\n",
       "  white-space: nowrap;\n",
       "}\n",
       "</style>\n"
      ],
      "text/plain": [
       "<IPython.core.display.HTML object>"
      ]
     },
     "metadata": {},
     "output_type": "display_data"
    },
    {
     "name": "stderr",
     "output_type": "stream",
     "text": [
      "100%|██████████| 173/173 [00:01<00:00, 127.50it/s]\n",
      "  0%|          | 0/50 [00:00<?, ?it/s]\n",
      "100%|██████████| 50/50 [00:00<00:00, 370.88it/s]\n",
      "  0%|          | 0/173 [00:00<?, ?it/s]\n",
      "  9%|▉         | 16/173 [00:00<00:00, 159.93it/s]\n"
     ]
    },
    {
     "name": "stdout",
     "output_type": "stream",
     "text": [
      "\u001b[2m\u001b[36m(func pid=8784)\u001b[0m \n",
      "\u001b[2m\u001b[36m(func pid=8784)\u001b[0m Epoch 2\n"
     ]
    },
    {
     "name": "stderr",
     "output_type": "stream",
     "text": [
      " 19%|█▉        | 33/173 [00:00<00:00, 163.12it/s]\n",
      " 29%|██▉       | 50/173 [00:00<00:00, 164.05it/s]\n",
      " 39%|███▊      | 67/173 [00:00<00:00, 164.65it/s]\n",
      " 49%|████▊     | 84/173 [00:00<00:00, 165.84it/s]\n",
      " 58%|█████▊    | 101/173 [00:00<00:00, 166.66it/s]\n",
      " 68%|██████▊   | 118/173 [00:00<00:00, 165.05it/s]\n",
      " 78%|███████▊  | 135/173 [00:00<00:00, 164.41it/s]\n",
      " 88%|████████▊ | 152/173 [00:00<00:00, 164.86it/s]\n",
      "100%|██████████| 173/173 [00:01<00:00, 164.31it/s]\n",
      "  0%|          | 0/50 [00:00<?, ?it/s]\n",
      "100%|██████████| 50/50 [00:00<00:00, 371.01it/s]\n",
      "  0%|          | 0/173 [00:00<?, ?it/s]\n",
      "  3%|▎         | 6/173 [00:00<00:03, 52.28it/s]\n"
     ]
    },
    {
     "name": "stdout",
     "output_type": "stream",
     "text": [
      "\u001b[2m\u001b[36m(func pid=8784)\u001b[0m \n",
      "\u001b[2m\u001b[36m(func pid=8784)\u001b[0m Epoch 3\n"
     ]
    },
    {
     "name": "stderr",
     "output_type": "stream",
     "text": [
      " 13%|█▎        | 23/173 [00:00<00:01, 116.25it/s]\n",
      " 23%|██▎       | 40/173 [00:00<00:00, 139.80it/s]\n",
      " 33%|███▎      | 57/173 [00:00<00:00, 147.97it/s]\n",
      " 43%|████▎     | 75/173 [00:00<00:00, 156.51it/s]\n",
      " 53%|█████▎    | 92/173 [00:00<00:00, 160.34it/s]\n",
      " 63%|██████▎   | 109/173 [00:00<00:00, 159.94it/s]\n",
      " 73%|███████▎  | 126/173 [00:00<00:00, 156.22it/s]\n",
      " 82%|████████▏ | 142/173 [00:00<00:00, 155.07it/s]\n",
      " 91%|█████████▏| 158/173 [00:01<00:00, 155.92it/s]\n",
      "100%|██████████| 173/173 [00:01<00:00, 150.45it/s]\n",
      "  0%|          | 0/50 [00:00<?, ?it/s]\n",
      " 72%|███████▏  | 36/50 [00:00<00:00, 360.00it/s]\n",
      "100%|██████████| 50/50 [00:00<00:00, 366.63it/s]\n",
      "  0%|          | 0/173 [00:00<?, ?it/s]\n",
      " 10%|▉         | 17/173 [00:00<00:00, 161.63it/s]\n"
     ]
    },
    {
     "name": "stdout",
     "output_type": "stream",
     "text": [
      "\u001b[2m\u001b[36m(func pid=8784)\u001b[0m \n",
      "\u001b[2m\u001b[36m(func pid=8784)\u001b[0m Epoch 4\n"
     ]
    },
    {
     "name": "stderr",
     "output_type": "stream",
     "text": [
      " 20%|█▉        | 34/173 [00:00<00:00, 163.59it/s]\n",
      " 29%|██▉       | 51/173 [00:00<00:00, 157.35it/s]\n",
      " 39%|███▊      | 67/173 [00:00<00:00, 156.83it/s]\n",
      " 48%|████▊     | 83/173 [00:00<00:00, 152.48it/s]\n",
      " 58%|█████▊    | 100/173 [00:00<00:00, 156.63it/s]\n",
      " 68%|██████▊   | 118/173 [00:00<00:00, 160.56it/s]\n",
      " 78%|███████▊  | 135/173 [00:00<00:00, 162.39it/s]\n",
      " 88%|████████▊ | 152/173 [00:00<00:00, 164.13it/s]\n",
      "100%|██████████| 173/173 [00:01<00:00, 160.94it/s]\n",
      "  0%|          | 0/50 [00:00<?, ?it/s]\n",
      "100%|██████████| 50/50 [00:00<00:00, 381.93it/s]\n",
      "  0%|          | 0/173 [00:00<?, ?it/s]\n",
      "  9%|▉         | 16/173 [00:00<00:00, 158.69it/s]\n"
     ]
    },
    {
     "name": "stdout",
     "output_type": "stream",
     "text": [
      "\u001b[2m\u001b[36m(func pid=8784)\u001b[0m \n",
      "\u001b[2m\u001b[36m(func pid=8784)\u001b[0m Epoch 5\n"
     ]
    },
    {
     "name": "stderr",
     "output_type": "stream",
     "text": [
      " 19%|█▉        | 33/173 [00:00<00:00, 162.31it/s]\n",
      " 29%|██▉       | 50/173 [00:00<00:00, 163.57it/s]\n",
      " 39%|███▉      | 68/173 [00:00<00:00, 166.82it/s]\n",
      " 49%|████▉     | 85/173 [00:00<00:00, 165.51it/s]\n",
      " 60%|█████▉    | 103/173 [00:00<00:00, 167.61it/s]\n",
      " 69%|██████▉   | 120/173 [00:00<00:00, 165.99it/s]\n",
      "100%|██████████| 173/173 [00:01<00:00, 167.28it/s]\n",
      "  0%|          | 0/50 [00:00<?, ?it/s]\n",
      " 60%|██████    | 30/50 [00:00<00:00, 292.09it/s]\n",
      "100%|██████████| 50/50 [00:00<00:00, 321.95it/s]\n",
      "  0%|          | 0/173 [00:00<?, ?it/s]\n",
      " 10%|▉         | 17/173 [00:00<00:00, 165.55it/s]\n"
     ]
    },
    {
     "name": "stdout",
     "output_type": "stream",
     "text": [
      "\u001b[2m\u001b[36m(func pid=8784)\u001b[0m \n",
      "\u001b[2m\u001b[36m(func pid=8784)\u001b[0m Epoch 6\n"
     ]
    },
    {
     "name": "stderr",
     "output_type": "stream",
     "text": [
      " 20%|█▉        | 34/173 [00:00<00:00, 161.01it/s]\n",
      " 29%|██▉       | 51/173 [00:00<00:00, 144.73it/s]\n",
      " 39%|███▊      | 67/173 [00:00<00:00, 148.04it/s]\n",
      " 48%|████▊     | 83/173 [00:00<00:00, 151.47it/s]\n",
      " 57%|█████▋    | 99/173 [00:00<00:00, 153.92it/s]\n",
      " 67%|██████▋   | 116/173 [00:00<00:00, 157.56it/s]\n",
      " 77%|███████▋  | 133/173 [00:00<00:00, 158.75it/s]\n",
      " 86%|████████▌ | 149/173 [00:00<00:00, 157.89it/s]\n",
      "100%|██████████| 173/173 [00:01<00:00, 155.02it/s]\n",
      "  0%|          | 0/50 [00:00<?, ?it/s]\n",
      "100%|██████████| 50/50 [00:00<00:00, 363.38it/s]\n",
      "  0%|          | 0/173 [00:00<?, ?it/s]\n"
     ]
    },
    {
     "name": "stdout",
     "output_type": "stream",
     "text": [
      "\u001b[2m\u001b[36m(func pid=8784)\u001b[0m \n",
      "\u001b[2m\u001b[36m(func pid=8784)\u001b[0m Epoch 7\n"
     ]
    },
    {
     "name": "stderr",
     "output_type": "stream",
     "text": [
      "  9%|▊         | 15/173 [00:00<00:01, 147.07it/s]\n",
      " 17%|█▋        | 30/173 [00:00<00:00, 144.74it/s]\n",
      " 27%|██▋       | 47/173 [00:00<00:00, 150.83it/s]\n",
      " 37%|███▋      | 64/173 [00:00<00:00, 156.75it/s]\n",
      " 47%|████▋     | 81/173 [00:00<00:00, 159.75it/s]\n",
      " 57%|█████▋    | 98/173 [00:00<00:00, 162.09it/s]\n",
      " 66%|██████▋   | 115/173 [00:00<00:00, 153.44it/s]\n",
      " 85%|████████▍ | 147/173 [00:00<00:00, 154.10it/s]\n",
      " 94%|█████████▍| 163/173 [00:01<00:00, 153.59it/s]\n",
      "100%|██████████| 173/173 [00:01<00:00, 153.67it/s]\n",
      "  0%|          | 0/50 [00:00<?, ?it/s]\n",
      " 58%|█████▊    | 29/50 [00:00<00:00, 289.03it/s]\n",
      "100%|██████████| 50/50 [00:00<00:00, 204.23it/s]\n",
      "  0%|          | 0/173 [00:00<?, ?it/s]\n",
      " 10%|▉         | 17/173 [00:00<00:00, 165.78it/s]\n"
     ]
    },
    {
     "name": "stdout",
     "output_type": "stream",
     "text": [
      "\u001b[2m\u001b[36m(func pid=8784)\u001b[0m \n",
      "\u001b[2m\u001b[36m(func pid=8784)\u001b[0m Epoch 8\n"
     ]
    },
    {
     "name": "stderr",
     "output_type": "stream",
     "text": [
      " 20%|█▉        | 34/173 [00:00<00:00, 167.14it/s]\n",
      " 29%|██▉       | 51/173 [00:00<00:00, 164.67it/s]\n",
      " 39%|███▉      | 68/173 [00:00<00:00, 161.32it/s]\n",
      " 49%|████▉     | 85/173 [00:00<00:00, 160.92it/s]\n",
      " 59%|█████▉    | 102/173 [00:00<00:00, 163.28it/s]\n",
      " 69%|██████▉   | 120/173 [00:00<00:00, 166.91it/s]\n",
      " 79%|███████▉  | 137/173 [00:00<00:00, 167.51it/s]\n",
      " 89%|████████▉ | 154/173 [00:00<00:00, 167.17it/s]\n",
      "100%|██████████| 173/173 [00:01<00:00, 166.11it/s]\n",
      "  0%|          | 0/50 [00:00<?, ?it/s]\n",
      " 76%|███████▌  | 38/50 [00:00<00:00, 373.40it/s]\n",
      "100%|██████████| 50/50 [00:00<00:00, 373.16it/s]\n",
      "  0%|          | 0/173 [00:00<?, ?it/s]\n",
      " 10%|▉         | 17/173 [00:00<00:00, 163.69it/s]\n"
     ]
    },
    {
     "name": "stdout",
     "output_type": "stream",
     "text": [
      "\u001b[2m\u001b[36m(func pid=8784)\u001b[0m \n",
      "\u001b[2m\u001b[36m(func pid=8784)\u001b[0m Epoch 9\n"
     ]
    },
    {
     "name": "stderr",
     "output_type": "stream",
     "text": [
      " 20%|██        | 35/173 [00:00<00:00, 168.08it/s]\n",
      " 30%|███       | 52/173 [00:00<00:00, 168.57it/s]\n",
      " 40%|███▉      | 69/173 [00:00<00:00, 168.98it/s]\n",
      " 50%|█████     | 87/173 [00:00<00:00, 171.14it/s]\n",
      " 61%|██████    | 105/173 [00:00<00:00, 171.67it/s]\n",
      " 71%|███████   | 123/173 [00:00<00:00, 170.96it/s]\n",
      "100%|██████████| 173/173 [00:01<00:00, 170.47it/s]\n",
      "  0%|          | 0/50 [00:00<?, ?it/s]\n",
      "100%|██████████| 50/50 [00:00<00:00, 366.87it/s]\n",
      "  0%|          | 0/173 [00:00<?, ?it/s]\n",
      " 10%|▉         | 17/173 [00:00<00:00, 164.50it/s]\n"
     ]
    },
    {
     "name": "stdout",
     "output_type": "stream",
     "text": [
      "\u001b[2m\u001b[36m(func pid=8784)\u001b[0m \n",
      "\u001b[2m\u001b[36m(func pid=8784)\u001b[0m Epoch 10\n"
     ]
    },
    {
     "name": "stderr",
     "output_type": "stream",
     "text": [
      " 20%|██        | 35/173 [00:00<00:00, 168.01it/s]\n",
      " 30%|███       | 52/173 [00:00<00:00, 168.21it/s]\n",
      " 40%|███▉      | 69/173 [00:00<00:00, 160.81it/s]\n",
      " 50%|████▉     | 86/173 [00:00<00:00, 158.87it/s]\n",
      " 60%|██████    | 104/173 [00:00<00:00, 164.45it/s]\n",
      " 70%|██████▉   | 121/173 [00:00<00:00, 166.17it/s]\n",
      " 80%|████████  | 139/173 [00:00<00:00, 168.14it/s]\n",
      " 91%|█████████ | 157/173 [00:00<00:00, 168.77it/s]\n",
      "100%|██████████| 173/173 [00:01<00:00, 166.22it/s]\n",
      "  0%|          | 0/50 [00:00<?, ?it/s]\n",
      "100%|██████████| 50/50 [00:00<00:00, 369.98it/s]\n",
      "  0%|          | 0/173 [00:00<?, ?it/s]\n",
      "  8%|▊         | 14/173 [00:00<00:01, 139.89it/s]\n"
     ]
    },
    {
     "name": "stdout",
     "output_type": "stream",
     "text": [
      "\u001b[2m\u001b[36m(func pid=8784)\u001b[0m \n",
      "\u001b[2m\u001b[36m(func pid=8784)\u001b[0m Epoch 11\n"
     ]
    },
    {
     "name": "stderr",
     "output_type": "stream",
     "text": [
      " 26%|██▌       | 45/173 [00:00<00:00, 149.88it/s]\n",
      " 43%|████▎     | 75/173 [00:00<00:00, 146.26it/s]\n",
      " 53%|█████▎    | 91/173 [00:00<00:00, 148.58it/s]\n",
      " 61%|██████▏   | 106/173 [00:00<00:00, 148.93it/s]\n",
      " 70%|██████▉   | 121/173 [00:00<00:00, 146.23it/s]\n",
      " 79%|███████▊  | 136/173 [00:00<00:00, 147.17it/s]\n",
      " 87%|████████▋ | 151/173 [00:01<00:00, 146.84it/s]\n",
      "100%|██████████| 173/173 [00:01<00:00, 148.03it/s]\n",
      "  0%|          | 0/50 [00:00<?, ?it/s]\n",
      "100%|██████████| 50/50 [00:00<00:00, 375.61it/s]\n",
      "  0%|          | 0/173 [00:00<?, ?it/s]\n"
     ]
    },
    {
     "name": "stdout",
     "output_type": "stream",
     "text": [
      "\u001b[2m\u001b[36m(func pid=8784)\u001b[0m \n",
      "\u001b[2m\u001b[36m(func pid=8784)\u001b[0m Epoch 12\n"
     ]
    },
    {
     "name": "stderr",
     "output_type": "stream",
     "text": [
      " 10%|▉         | 17/173 [00:00<00:00, 165.00it/s]\n",
      " 20%|█▉        | 34/173 [00:00<00:00, 156.22it/s]\n",
      " 29%|██▉       | 51/173 [00:00<00:00, 158.17it/s]\n",
      " 39%|███▉      | 68/173 [00:00<00:00, 162.34it/s]\n",
      " 49%|████▉     | 85/173 [00:00<00:00, 163.62it/s]\n",
      " 60%|█████▉    | 103/173 [00:00<00:00, 166.74it/s]\n",
      " 69%|██████▉   | 120/173 [00:00<00:00, 166.68it/s]\n",
      " 79%|███████▉  | 137/173 [00:00<00:00, 167.55it/s]\n",
      " 89%|████████▉ | 154/173 [00:00<00:00, 158.75it/s]\n",
      " 98%|█████████▊| 170/173 [00:01<00:00, 154.62it/s]\n",
      "100%|██████████| 173/173 [00:01<00:00, 159.61it/s]\n",
      "  0%|          | 0/50 [00:00<?, ?it/s]\n",
      " 42%|████▏     | 21/50 [00:00<00:00, 150.05it/s]\n",
      "100%|██████████| 50/50 [00:00<00:00, 222.05it/s]\n",
      "  0%|          | 0/173 [00:00<?, ?it/s]\n",
      "  9%|▊         | 15/173 [00:00<00:01, 147.92it/s]\n"
     ]
    },
    {
     "name": "stdout",
     "output_type": "stream",
     "text": [
      "\u001b[2m\u001b[36m(func pid=8784)\u001b[0m \n",
      "\u001b[2m\u001b[36m(func pid=8784)\u001b[0m Epoch 13\n"
     ]
    },
    {
     "name": "stderr",
     "output_type": "stream",
     "text": [
      " 17%|█▋        | 30/173 [00:00<00:00, 143.69it/s]\n",
      " 27%|██▋       | 47/173 [00:00<00:00, 152.24it/s]\n",
      " 37%|███▋      | 64/173 [00:00<00:00, 154.82it/s]\n",
      " 46%|████▌     | 80/173 [00:00<00:00, 150.91it/s]\n",
      " 55%|█████▌    | 96/173 [00:00<00:00, 153.13it/s]\n",
      " 65%|██████▍   | 112/173 [00:00<00:00, 150.50it/s]\n",
      " 75%|███████▍  | 129/173 [00:00<00:00, 155.62it/s]\n",
      " 84%|████████▍ | 145/173 [00:00<00:00, 151.93it/s]\n",
      "  0%|          | 0/50 [00:00<?, ?it/s]\n",
      "100%|██████████| 50/50 [00:00<00:00, 322.05it/s]\n",
      "  0%|          | 0/173 [00:00<?, ?it/s]\n",
      "  9%|▉         | 16/173 [00:00<00:01, 153.60it/s]\n"
     ]
    },
    {
     "name": "stdout",
     "output_type": "stream",
     "text": [
      "\u001b[2m\u001b[36m(func pid=8784)\u001b[0m \n",
      "\u001b[2m\u001b[36m(func pid=8784)\u001b[0m Epoch 14\n"
     ]
    },
    {
     "name": "stderr",
     "output_type": "stream",
     "text": [
      " 18%|█▊        | 32/173 [00:00<00:00, 157.26it/s]\n",
      " 28%|██▊       | 49/173 [00:00<00:00, 158.84it/s]\n",
      " 38%|███▊      | 65/173 [00:00<00:00, 157.59it/s]\n",
      " 47%|████▋     | 81/173 [00:00<00:00, 151.31it/s]\n",
      " 57%|█████▋    | 98/173 [00:00<00:00, 155.17it/s]\n",
      " 66%|██████▋   | 115/173 [00:00<00:00, 159.78it/s]\n",
      " 76%|███████▋  | 132/173 [00:00<00:00, 160.28it/s]\n",
      " 86%|████████▌ | 149/173 [00:00<00:00, 160.23it/s]\n",
      " 96%|█████████▌| 166/173 [00:01<00:00, 158.58it/s]\n",
      "100%|██████████| 173/173 [00:01<00:00, 157.55it/s]\n",
      "  0%|          | 0/50 [00:00<?, ?it/s]\n",
      " 74%|███████▍  | 37/50 [00:00<00:00, 364.61it/s]\n",
      "100%|██████████| 50/50 [00:00<00:00, 368.14it/s]\n",
      "  0%|          | 0/173 [00:00<?, ?it/s]\n",
      " 10%|▉         | 17/173 [00:00<00:00, 166.68it/s]\n"
     ]
    },
    {
     "name": "stdout",
     "output_type": "stream",
     "text": [
      "\u001b[2m\u001b[36m(func pid=8784)\u001b[0m \n",
      "\u001b[2m\u001b[36m(func pid=8784)\u001b[0m Epoch 15\n"
     ]
    },
    {
     "name": "stderr",
     "output_type": "stream",
     "text": [
      " 20%|█▉        | 34/173 [00:00<00:00, 168.51it/s]\n",
      " 29%|██▉       | 51/173 [00:00<00:00, 164.64it/s]\n",
      " 39%|███▉      | 68/173 [00:00<00:00, 165.71it/s]\n",
      " 49%|████▉     | 85/173 [00:00<00:00, 150.30it/s]\n",
      " 58%|█████▊    | 101/173 [00:00<00:00, 143.18it/s]\n",
      " 67%|██████▋   | 116/173 [00:00<00:00, 141.38it/s]\n",
      " 76%|███████▌  | 131/173 [00:00<00:00, 134.84it/s]\n",
      " 86%|████████▌ | 148/173 [00:01<00:00, 142.82it/s]\n",
      " 95%|█████████▍| 164/173 [00:01<00:00, 146.35it/s]\n",
      "100%|██████████| 173/173 [00:01<00:00, 149.13it/s]\n",
      "  0%|          | 0/50 [00:00<?, ?it/s]\n",
      " 68%|██████▊   | 34/50 [00:00<00:00, 334.17it/s]\n",
      "100%|██████████| 50/50 [00:00<00:00, 328.88it/s]\n",
      "  0%|          | 0/173 [00:00<?, ?it/s]\n",
      "  8%|▊         | 14/173 [00:00<00:01, 136.95it/s]\n"
     ]
    },
    {
     "name": "stdout",
     "output_type": "stream",
     "text": [
      "\u001b[2m\u001b[36m(func pid=8784)\u001b[0m \n",
      "\u001b[2m\u001b[36m(func pid=8784)\u001b[0m Epoch 16\n"
     ]
    },
    {
     "name": "stderr",
     "output_type": "stream",
     "text": [
      " 16%|█▌        | 28/173 [00:00<00:01, 135.44it/s]\n",
      " 24%|██▍       | 42/173 [00:00<00:00, 135.68it/s]\n",
      " 34%|███▍      | 59/173 [00:00<00:00, 146.05it/s]\n",
      " 43%|████▎     | 75/173 [00:00<00:00, 148.02it/s]\n",
      " 52%|█████▏    | 90/173 [00:00<00:00, 147.59it/s]\n",
      " 61%|██████    | 105/173 [00:00<00:00, 142.49it/s]\n",
      " 69%|██████▉   | 120/173 [00:00<00:00, 143.69it/s]\n",
      " 79%|███████▊  | 136/173 [00:00<00:00, 146.16it/s]\n",
      " 88%|████████▊ | 153/173 [00:01<00:00, 150.98it/s]\n",
      "100%|██████████| 173/173 [00:01<00:00, 146.58it/s]\n",
      "  0%|          | 0/50 [00:00<?, ?it/s]\n",
      " 74%|███████▍  | 37/50 [00:00<00:00, 362.77it/s]\n",
      "100%|██████████| 50/50 [00:00<00:00, 361.99it/s]\n",
      "  0%|          | 0/173 [00:00<?, ?it/s]\n",
      "  9%|▉         | 16/173 [00:00<00:00, 159.40it/s]\n"
     ]
    },
    {
     "name": "stdout",
     "output_type": "stream",
     "text": [
      "\u001b[2m\u001b[36m(func pid=8784)\u001b[0m \n",
      "\u001b[2m\u001b[36m(func pid=8784)\u001b[0m Epoch 17\n"
     ]
    },
    {
     "name": "stderr",
     "output_type": "stream",
     "text": [
      " 19%|█▉        | 33/173 [00:00<00:00, 161.56it/s]\n",
      " 29%|██▉       | 50/173 [00:00<00:00, 147.06it/s]\n",
      " 38%|███▊      | 65/173 [00:00<00:00, 144.00it/s]\n",
      " 47%|████▋     | 81/173 [00:00<00:00, 147.27it/s]\n",
      " 57%|█████▋    | 98/173 [00:00<00:00, 152.88it/s]\n",
      " 66%|██████▌   | 114/173 [00:00<00:00, 151.57it/s]\n",
      " 75%|███████▌  | 130/173 [00:00<00:00, 153.62it/s]\n",
      " 85%|████████▍ | 147/173 [00:00<00:00, 156.69it/s]\n",
      " 95%|█████████▌| 165/173 [00:01<00:00, 160.37it/s]\n",
      "100%|██████████| 173/173 [00:01<00:00, 154.73it/s]\n",
      "  0%|          | 0/50 [00:00<?, ?it/s]\n",
      " 18%|█▊        | 9/50 [00:00<00:00, 87.37it/s]\n",
      "100%|██████████| 50/50 [00:00<00:00, 232.54it/s]\n",
      "  0%|          | 0/173 [00:00<?, ?it/s]\n",
      "  9%|▉         | 16/173 [00:00<00:00, 158.89it/s]\n"
     ]
    },
    {
     "name": "stdout",
     "output_type": "stream",
     "text": [
      "\u001b[2m\u001b[36m(func pid=8784)\u001b[0m \n",
      "\u001b[2m\u001b[36m(func pid=8784)\u001b[0m Epoch 18\n"
     ]
    },
    {
     "name": "stderr",
     "output_type": "stream",
     "text": [
      " 19%|█▉        | 33/173 [00:00<00:00, 161.46it/s]\n",
      " 29%|██▉       | 50/173 [00:00<00:00, 163.19it/s]\n",
      " 39%|███▊      | 67/173 [00:00<00:00, 165.82it/s]\n",
      " 49%|████▊     | 84/173 [00:00<00:00, 151.85it/s]\n",
      " 59%|█████▉    | 102/173 [00:00<00:00, 157.89it/s]\n",
      " 69%|██████▉   | 119/173 [00:00<00:00, 161.11it/s]\n",
      " 79%|███████▊  | 136/173 [00:00<00:00, 156.29it/s]\n",
      " 88%|████████▊ | 152/173 [00:00<00:00, 155.58it/s]\n",
      " 97%|█████████▋| 168/173 [00:01<00:00, 151.28it/s]\n",
      "100%|██████████| 173/173 [00:01<00:00, 155.16it/s]\n",
      "  0%|          | 0/50 [00:00<?, ?it/s]\n",
      "100%|██████████| 50/50 [00:00<00:00, 343.14it/s]\n",
      "  0%|          | 0/173 [00:00<?, ?it/s]\n",
      " 10%|█         | 18/173 [00:00<00:00, 170.77it/s]\n"
     ]
    },
    {
     "name": "stdout",
     "output_type": "stream",
     "text": [
      "\u001b[2m\u001b[36m(func pid=8784)\u001b[0m \n",
      "\u001b[2m\u001b[36m(func pid=8784)\u001b[0m Epoch 19\n"
     ]
    },
    {
     "name": "stderr",
     "output_type": "stream",
     "text": [
      " 21%|██        | 36/173 [00:00<00:00, 163.42it/s]\n",
      " 31%|███       | 53/173 [00:00<00:00, 161.45it/s]\n",
      " 41%|████      | 71/173 [00:00<00:00, 165.14it/s]\n",
      " 51%|█████     | 88/173 [00:00<00:00, 165.18it/s]\n",
      " 61%|██████▏   | 106/173 [00:00<00:00, 168.95it/s]\n",
      " 71%|███████   | 123/173 [00:00<00:00, 167.74it/s]\n",
      " 81%|████████  | 140/173 [00:00<00:00, 161.14it/s]\n",
      " 91%|█████████ | 157/173 [00:00<00:00, 148.10it/s]\n",
      "100%|██████████| 173/173 [00:01<00:00, 156.95it/s]\n",
      "  0%|          | 0/50 [00:00<?, ?it/s]\n",
      " 68%|██████▊   | 34/50 [00:00<00:00, 333.50it/s]\n",
      "100%|██████████| 50/50 [00:00<00:00, 342.80it/s]\n",
      "  0%|          | 0/173 [00:00<?, ?it/s]\n"
     ]
    },
    {
     "name": "stdout",
     "output_type": "stream",
     "text": [
      "\u001b[2m\u001b[36m(func pid=8784)\u001b[0m \n",
      "\u001b[2m\u001b[36m(func pid=8784)\u001b[0m Epoch 20\n"
     ]
    },
    {
     "name": "stderr",
     "output_type": "stream",
     "text": [
      "  9%|▉         | 16/173 [00:00<00:01, 150.53it/s]\n",
      " 18%|█▊        | 32/173 [00:00<00:00, 149.99it/s]\n",
      " 28%|██▊       | 49/173 [00:00<00:00, 156.04it/s]\n",
      " 38%|███▊      | 66/173 [00:00<00:00, 160.24it/s]\n",
      " 49%|████▊     | 84/173 [00:00<00:00, 165.44it/s]\n",
      " 58%|█████▊    | 101/173 [00:00<00:00, 161.65it/s]\n",
      " 68%|██████▊   | 118/173 [00:00<00:00, 163.49it/s]\n",
      " 78%|███████▊  | 135/173 [00:00<00:00, 163.06it/s]\n",
      " 88%|████████▊ | 152/173 [00:00<00:00, 154.23it/s]\n",
      "100%|██████████| 173/173 [00:01<00:00, 159.18it/s]\n",
      " 74%|███████▍  | 37/50 [00:00<00:00, 360.73it/s]\n",
      "100%|██████████| 50/50 [00:00<00:00, 365.60it/s]\n",
      "  0%|          | 0/173 [00:00<?, ?it/s]\n"
     ]
    },
    {
     "name": "stdout",
     "output_type": "stream",
     "text": [
      "\u001b[2m\u001b[36m(func pid=8784)\u001b[0m \n",
      "\u001b[2m\u001b[36m(func pid=8784)\u001b[0m Epoch 21\n"
     ]
    },
    {
     "name": "stderr",
     "output_type": "stream",
     "text": [
      " 10%|▉         | 17/173 [00:00<00:00, 166.49it/s]\n",
      " 20%|█▉        | 34/173 [00:00<00:00, 167.75it/s]\n",
      " 29%|██▉       | 51/173 [00:00<00:00, 156.34it/s]\n",
      " 39%|███▊      | 67/173 [00:00<00:00, 155.13it/s]\n",
      " 48%|████▊     | 83/173 [00:00<00:00, 155.55it/s]\n",
      " 57%|█████▋    | 99/173 [00:00<00:00, 153.12it/s]\n",
      " 66%|██████▋   | 115/173 [00:00<00:00, 154.66it/s]\n",
      " 76%|███████▌  | 131/173 [00:00<00:00, 151.40it/s]\n",
      "  0%|          | 0/50 [00:00<?, ?it/s]\n",
      "100%|██████████| 50/50 [00:00<00:00, 278.80it/s]\n",
      "  0%|          | 0/173 [00:00<?, ?it/s]\n",
      "  8%|▊         | 14/173 [00:00<00:01, 126.03it/s]\n"
     ]
    },
    {
     "name": "stdout",
     "output_type": "stream",
     "text": [
      "\u001b[2m\u001b[36m(func pid=8784)\u001b[0m \n",
      "\u001b[2m\u001b[36m(func pid=8784)\u001b[0m Epoch 22\n"
     ]
    },
    {
     "name": "stderr",
     "output_type": "stream",
     "text": [
      " 17%|█▋        | 29/173 [00:00<00:01, 135.03it/s]\n",
      " 26%|██▌       | 45/173 [00:00<00:00, 144.07it/s]\n",
      " 36%|███▌      | 62/173 [00:00<00:00, 153.89it/s]\n",
      " 45%|████▌     | 78/173 [00:00<00:00, 153.32it/s]\n",
      " 55%|█████▍    | 95/173 [00:00<00:00, 158.77it/s]\n",
      " 65%|██████▌   | 113/173 [00:00<00:00, 163.12it/s]\n",
      " 76%|███████▌  | 131/173 [00:00<00:00, 167.38it/s]\n",
      " 86%|████████▌ | 148/173 [00:00<00:00, 162.48it/s]\n",
      " 95%|█████████▌| 165/173 [00:01<00:00, 134.10it/s]\n",
      "100%|██████████| 173/173 [00:01<00:00, 146.98it/s]\n",
      "  0%|          | 0/50 [00:00<?, ?it/s]\n",
      " 76%|███████▌  | 38/50 [00:00<00:00, 372.30it/s]\n",
      "100%|██████████| 50/50 [00:00<00:00, 376.16it/s]\n",
      "  0%|          | 0/173 [00:00<?, ?it/s]\n"
     ]
    },
    {
     "name": "stdout",
     "output_type": "stream",
     "text": [
      "\u001b[2m\u001b[36m(func pid=8784)\u001b[0m \n",
      "\u001b[2m\u001b[36m(func pid=8784)\u001b[0m Epoch 23\n"
     ]
    },
    {
     "name": "stderr",
     "output_type": "stream",
     "text": [
      "  9%|▉         | 16/173 [00:00<00:00, 159.05it/s]\n",
      " 18%|█▊        | 32/173 [00:00<00:00, 157.80it/s]\n",
      " 28%|██▊       | 49/173 [00:00<00:00, 162.46it/s]\n",
      " 38%|███▊      | 66/173 [00:00<00:00, 161.88it/s]\n",
      " 48%|████▊     | 83/173 [00:00<00:00, 159.29it/s]\n",
      " 58%|█████▊    | 100/173 [00:00<00:00, 162.09it/s]\n",
      " 68%|██████▊   | 117/173 [00:00<00:00, 164.46it/s]\n",
      " 77%|███████▋  | 134/173 [00:00<00:00, 164.62it/s]\n",
      " 87%|████████▋ | 151/173 [00:00<00:00, 162.03it/s]\n",
      " 97%|█████████▋| 168/173 [00:01<00:00, 161.63it/s]\n",
      "100%|██████████| 173/173 [00:01<00:00, 161.83it/s]\n",
      "  0%|          | 0/50 [00:00<?, ?it/s]\n",
      "100%|██████████| 50/50 [00:00<00:00, 369.89it/s]\n",
      "  0%|          | 0/173 [00:00<?, ?it/s]\n"
     ]
    },
    {
     "name": "stdout",
     "output_type": "stream",
     "text": [
      "\u001b[2m\u001b[36m(func pid=8784)\u001b[0m \n",
      "\u001b[2m\u001b[36m(func pid=8784)\u001b[0m Epoch 24\n"
     ]
    },
    {
     "name": "stderr",
     "output_type": "stream",
     "text": [
      "  9%|▉         | 16/173 [00:00<00:00, 158.62it/s]\n",
      " 18%|█▊        | 32/173 [00:00<00:00, 157.61it/s]\n",
      " 28%|██▊       | 48/173 [00:00<00:00, 158.66it/s]\n",
      " 37%|███▋      | 64/173 [00:00<00:00, 152.11it/s]\n",
      " 46%|████▌     | 80/173 [00:00<00:00, 140.56it/s]\n",
      " 56%|█████▌    | 97/173 [00:00<00:00, 147.83it/s]\n",
      " 67%|██████▋   | 116/173 [00:00<00:00, 157.93it/s]\n",
      " 77%|███████▋  | 133/173 [00:00<00:00, 161.11it/s]\n",
      " 87%|████████▋ | 151/173 [00:00<00:00, 165.19it/s]\n",
      "100%|██████████| 173/173 [00:01<00:00, 157.87it/s]\n",
      " 74%|███████▍  | 37/50 [00:00<00:00, 369.14it/s]\n",
      "100%|██████████| 50/50 [00:00<00:00, 351.85it/s]\n",
      "  0%|          | 0/173 [00:00<?, ?it/s]\n"
     ]
    },
    {
     "name": "stdout",
     "output_type": "stream",
     "text": [
      "\u001b[2m\u001b[36m(func pid=8784)\u001b[0m \n",
      "\u001b[2m\u001b[36m(func pid=8784)\u001b[0m Epoch 25\n"
     ]
    },
    {
     "name": "stderr",
     "output_type": "stream",
     "text": [
      " 10%|▉         | 17/173 [00:00<00:00, 164.28it/s]\n",
      " 20%|█▉        | 34/173 [00:00<00:00, 147.28it/s]\n",
      " 29%|██▉       | 51/173 [00:00<00:00, 152.62it/s]\n",
      " 39%|███▊      | 67/173 [00:00<00:00, 151.92it/s]\n",
      " 49%|████▊     | 84/173 [00:00<00:00, 156.23it/s]\n",
      " 58%|█████▊    | 101/173 [00:00<00:00, 158.02it/s]\n",
      " 68%|██████▊   | 118/173 [00:00<00:00, 160.73it/s]\n",
      " 78%|███████▊  | 135/173 [00:00<00:00, 160.58it/s]\n",
      "  0%|          | 0/50 [00:00<?, ?it/s]\n",
      "100%|██████████| 50/50 [00:00<00:00, 300.95it/s]\n",
      "  0%|          | 0/173 [00:00<?, ?it/s]\n",
      "  9%|▊         | 15/173 [00:00<00:01, 139.42it/s]\n"
     ]
    },
    {
     "name": "stdout",
     "output_type": "stream",
     "text": [
      "\u001b[2m\u001b[36m(func pid=8784)\u001b[0m \n",
      "\u001b[2m\u001b[36m(func pid=8784)\u001b[0m Epoch 26\n"
     ]
    },
    {
     "name": "stderr",
     "output_type": "stream",
     "text": [
      " 17%|█▋        | 29/173 [00:00<00:01, 135.61it/s]\n",
      " 27%|██▋       | 46/173 [00:00<00:00, 148.22it/s]\n",
      " 36%|███▋      | 63/173 [00:00<00:00, 154.63it/s]\n",
      " 46%|████▌     | 80/173 [00:00<00:00, 159.00it/s]\n",
      " 57%|█████▋    | 98/173 [00:00<00:00, 163.30it/s]\n",
      " 66%|██████▋   | 115/173 [00:00<00:00, 163.38it/s]\n",
      " 76%|███████▋  | 132/173 [00:00<00:00, 161.27it/s]\n",
      " 86%|████████▌ | 149/173 [00:00<00:00, 160.16it/s]\n",
      "100%|██████████| 173/173 [00:01<00:00, 157.87it/s]\n",
      "  0%|          | 0/50 [00:00<?, ?it/s]\n",
      " 72%|███████▏  | 36/50 [00:00<00:00, 352.37it/s]\n",
      "100%|██████████| 50/50 [00:00<00:00, 356.65it/s]\n",
      "  0%|          | 0/173 [00:00<?, ?it/s]\n",
      "  9%|▉         | 16/173 [00:00<00:00, 158.39it/s]\n"
     ]
    },
    {
     "name": "stdout",
     "output_type": "stream",
     "text": [
      "\u001b[2m\u001b[36m(func pid=8784)\u001b[0m \n",
      "\u001b[2m\u001b[36m(func pid=8784)\u001b[0m Epoch 27\n"
     ]
    },
    {
     "name": "stderr",
     "output_type": "stream",
     "text": [
      " 19%|█▉        | 33/173 [00:00<00:00, 161.46it/s]\n",
      " 29%|██▉       | 50/173 [00:00<00:00, 143.61it/s]\n",
      " 39%|███▊      | 67/173 [00:00<00:00, 151.85it/s]\n",
      " 49%|████▊     | 84/173 [00:00<00:00, 155.21it/s]\n",
      " 58%|█████▊    | 100/173 [00:00<00:00, 153.81it/s]\n",
      " 67%|██████▋   | 116/173 [00:00<00:00, 154.47it/s]\n",
      " 77%|███████▋  | 133/173 [00:00<00:00, 157.18it/s]\n",
      " 86%|████████▌ | 149/173 [00:01<00:00, 127.29it/s]\n",
      "100%|██████████| 173/173 [00:01<00:00, 146.01it/s]\n",
      "  0%|          | 0/50 [00:00<?, ?it/s]\n",
      "100%|██████████| 50/50 [00:00<00:00, 346.23it/s]\n",
      "  0%|          | 0/173 [00:00<?, ?it/s]\n"
     ]
    },
    {
     "name": "stdout",
     "output_type": "stream",
     "text": [
      "\u001b[2m\u001b[36m(func pid=8784)\u001b[0m \n",
      "\u001b[2m\u001b[36m(func pid=8784)\u001b[0m Epoch 28\n"
     ]
    },
    {
     "name": "stderr",
     "output_type": "stream",
     "text": [
      " 10%|▉         | 17/173 [00:00<00:00, 163.03it/s]\n",
      " 20%|█▉        | 34/173 [00:00<00:00, 160.15it/s]\n",
      " 29%|██▉       | 51/173 [00:00<00:00, 159.69it/s]\n",
      " 39%|███▉      | 68/173 [00:00<00:00, 161.75it/s]\n",
      " 49%|████▉     | 85/173 [00:00<00:00, 157.63it/s]\n",
      " 60%|█████▉    | 103/173 [00:00<00:00, 164.05it/s]\n",
      " 69%|██████▉   | 120/173 [00:00<00:00, 164.08it/s]\n",
      " 79%|███████▉  | 137/173 [00:00<00:00, 165.40it/s]\n",
      " 90%|█████████ | 156/173 [00:00<00:00, 169.92it/s]\n",
      "100%|██████████| 173/173 [00:01<00:00, 164.53it/s]\n",
      "  0%|          | 0/50 [00:00<?, ?it/s]\n",
      "100%|██████████| 50/50 [00:00<00:00, 381.64it/s]\n",
      "  0%|          | 0/173 [00:00<?, ?it/s]\n"
     ]
    },
    {
     "name": "stdout",
     "output_type": "stream",
     "text": [
      "\u001b[2m\u001b[36m(func pid=8784)\u001b[0m \n",
      "\u001b[2m\u001b[36m(func pid=8784)\u001b[0m Epoch 29\n"
     ]
    },
    {
     "name": "stderr",
     "output_type": "stream",
     "text": [
      " 10%|█         | 18/173 [00:00<00:00, 172.77it/s]\n",
      " 21%|██        | 36/173 [00:00<00:00, 170.39it/s]\n",
      " 31%|███       | 54/173 [00:00<00:00, 172.88it/s]\n",
      " 42%|████▏     | 72/173 [00:00<00:00, 172.65it/s]\n",
      " 52%|█████▏    | 90/173 [00:00<00:00, 168.46it/s]\n",
      " 62%|██████▏   | 108/173 [00:00<00:00, 170.00it/s]\n",
      " 73%|███████▎  | 126/173 [00:00<00:00, 170.82it/s]\n",
      " 83%|████████▎ | 144/173 [00:00<00:00, 170.49it/s]\n",
      " 72%|███████▏  | 36/50 [00:00<00:00, 351.11it/s]\n",
      "100%|██████████| 50/50 [00:00<00:00, 325.49it/s]\n",
      "  0%|          | 0/173 [00:00<?, ?it/s]\n",
      "  9%|▉         | 16/173 [00:00<00:00, 159.66it/s]\n"
     ]
    },
    {
     "name": "stdout",
     "output_type": "stream",
     "text": [
      "\u001b[2m\u001b[36m(func pid=8784)\u001b[0m \n",
      "\u001b[2m\u001b[36m(func pid=8784)\u001b[0m Epoch 30\n"
     ]
    },
    {
     "name": "stderr",
     "output_type": "stream",
     "text": [
      " 19%|█▉        | 33/173 [00:00<00:00, 163.87it/s]\n",
      " 29%|██▉       | 50/173 [00:00<00:00, 165.88it/s]\n",
      " 39%|███▊      | 67/173 [00:00<00:00, 165.36it/s]\n",
      " 49%|████▊     | 84/173 [00:00<00:00, 164.87it/s]\n",
      " 59%|█████▉    | 102/173 [00:00<00:00, 168.50it/s]\n",
      " 69%|██████▉   | 120/173 [00:00<00:00, 169.77it/s]\n",
      " 79%|███████▉  | 137/173 [00:00<00:00, 167.66it/s]\n",
      " 89%|████████▉ | 154/173 [00:00<00:00, 167.75it/s]\n",
      "100%|██████████| 173/173 [00:01<00:00, 166.74it/s]\n",
      "  0%|          | 0/50 [00:00<?, ?it/s]\n",
      " 76%|███████▌  | 38/50 [00:00<00:00, 375.79it/s]\n",
      "100%|██████████| 50/50 [00:00<00:00, 375.82it/s]\n",
      "  0%|          | 0/173 [00:00<?, ?it/s]\n",
      "  9%|▉         | 16/173 [00:00<00:01, 152.78it/s]\n"
     ]
    },
    {
     "name": "stdout",
     "output_type": "stream",
     "text": [
      "\u001b[2m\u001b[36m(func pid=8784)\u001b[0m \n",
      "\u001b[2m\u001b[36m(func pid=8784)\u001b[0m Epoch 31\n"
     ]
    },
    {
     "name": "stderr",
     "output_type": "stream",
     "text": [
      " 18%|█▊        | 32/173 [00:00<00:00, 155.29it/s]\n",
      " 28%|██▊       | 48/173 [00:00<00:00, 151.96it/s]\n",
      " 38%|███▊      | 66/173 [00:00<00:00, 162.57it/s]\n",
      " 49%|████▊     | 84/173 [00:00<00:00, 167.72it/s]\n",
      " 58%|█████▊    | 101/173 [00:00<00:00, 166.65it/s]\n",
      " 68%|██████▊   | 118/173 [00:00<00:00, 163.50it/s]\n",
      " 78%|███████▊  | 135/173 [00:00<00:00, 165.24it/s]\n",
      " 88%|████████▊ | 153/173 [00:00<00:00, 167.07it/s]\n",
      "100%|██████████| 173/173 [00:01<00:00, 165.31it/s]\n",
      "  0%|          | 0/50 [00:00<?, ?it/s]\n",
      " 76%|███████▌  | 38/50 [00:00<00:00, 376.34it/s]\n",
      "100%|██████████| 50/50 [00:00<00:00, 376.07it/s]\n",
      "  0%|          | 0/173 [00:00<?, ?it/s]\n",
      " 10%|█         | 18/173 [00:00<00:00, 172.30it/s]\n"
     ]
    },
    {
     "name": "stdout",
     "output_type": "stream",
     "text": [
      "\u001b[2m\u001b[36m(func pid=8784)\u001b[0m \n",
      "\u001b[2m\u001b[36m(func pid=8784)\u001b[0m Epoch 32\n"
     ]
    },
    {
     "name": "stderr",
     "output_type": "stream",
     "text": [
      " 21%|██        | 36/173 [00:00<00:00, 173.92it/s]\n",
      " 31%|███       | 54/173 [00:00<00:00, 165.43it/s]\n",
      " 41%|████      | 71/173 [00:00<00:00, 153.37it/s]\n",
      " 50%|█████     | 87/173 [00:00<00:00, 152.99it/s]\n",
      " 60%|█████▉    | 103/173 [00:00<00:00, 150.44it/s]\n",
      " 69%|██████▉   | 119/173 [00:00<00:00, 152.64it/s]\n",
      " 78%|███████▊  | 135/173 [00:00<00:00, 127.22it/s]\n",
      " 88%|████████▊ | 153/173 [00:01<00:00, 139.42it/s]\n",
      " 98%|█████████▊| 170/173 [00:01<00:00, 146.06it/s]\n",
      "100%|██████████| 173/173 [00:01<00:00, 148.43it/s]\n",
      "  0%|          | 0/50 [00:00<?, ?it/s]\n",
      "100%|██████████| 50/50 [00:00<00:00, 381.50it/s]\n",
      "  0%|          | 0/173 [00:00<?, ?it/s]\n",
      "  9%|▉         | 16/173 [00:00<00:01, 155.71it/s]\n"
     ]
    },
    {
     "name": "stdout",
     "output_type": "stream",
     "text": [
      "\u001b[2m\u001b[36m(func pid=8784)\u001b[0m \n",
      "\u001b[2m\u001b[36m(func pid=8784)\u001b[0m Epoch 33\n"
     ]
    },
    {
     "name": "stderr",
     "output_type": "stream",
     "text": [
      " 18%|█▊        | 32/173 [00:00<00:00, 157.10it/s]\n",
      " 28%|██▊       | 49/173 [00:00<00:00, 160.92it/s]\n",
      " 39%|███▊      | 67/173 [00:00<00:00, 167.11it/s]\n",
      " 50%|████▉     | 86/173 [00:00<00:00, 171.82it/s]\n",
      " 60%|██████    | 104/173 [00:00<00:00, 164.47it/s]\n",
      " 70%|██████▉   | 121/173 [00:00<00:00, 165.19it/s]\n",
      "  0%|          | 0/50 [00:00<?, ?it/s]\n",
      "100%|██████████| 50/50 [00:00<00:00, 352.14it/s]\n",
      "  0%|          | 0/173 [00:00<?, ?it/s]\n",
      "  9%|▉         | 16/173 [00:00<00:00, 158.61it/s]\n"
     ]
    },
    {
     "name": "stdout",
     "output_type": "stream",
     "text": [
      "\u001b[2m\u001b[36m(func pid=8784)\u001b[0m \n",
      "\u001b[2m\u001b[36m(func pid=8784)\u001b[0m Epoch 34\n"
     ]
    },
    {
     "name": "stderr",
     "output_type": "stream",
     "text": [
      " 20%|█▉        | 34/173 [00:00<00:00, 166.88it/s]\n",
      " 30%|███       | 52/173 [00:00<00:00, 169.12it/s]\n",
      " 40%|████      | 70/173 [00:00<00:00, 172.70it/s]\n",
      " 51%|█████     | 88/173 [00:00<00:00, 172.90it/s]\n",
      " 61%|██████▏   | 106/173 [00:00<00:00, 168.38it/s]\n",
      " 71%|███████   | 123/173 [00:00<00:00, 162.88it/s]\n",
      " 81%|████████  | 140/173 [00:00<00:00, 161.59it/s]\n",
      " 91%|█████████ | 157/173 [00:00<00:00, 153.48it/s]\n",
      "100%|██████████| 173/173 [00:01<00:00, 161.23it/s]\n",
      "  0%|          | 0/50 [00:00<?, ?it/s]\n",
      "100%|██████████| 50/50 [00:00<00:00, 371.07it/s]\n",
      "  0%|          | 0/173 [00:00<?, ?it/s]\n",
      " 10%|▉         | 17/173 [00:00<00:00, 169.81it/s]\n"
     ]
    },
    {
     "name": "stdout",
     "output_type": "stream",
     "text": [
      "\u001b[2m\u001b[36m(func pid=8784)\u001b[0m \n",
      "\u001b[2m\u001b[36m(func pid=8784)\u001b[0m Epoch 35\n"
     ]
    },
    {
     "name": "stderr",
     "output_type": "stream",
     "text": [
      " 20%|██        | 35/173 [00:00<00:00, 171.65it/s]\n",
      " 31%|███       | 53/173 [00:00<00:00, 167.15it/s]\n",
      " 40%|████      | 70/173 [00:00<00:00, 160.34it/s]\n",
      " 50%|█████     | 87/173 [00:00<00:00, 163.11it/s]\n",
      " 61%|██████    | 105/173 [00:00<00:00, 166.33it/s]\n",
      " 71%|███████   | 123/173 [00:00<00:00, 170.29it/s]\n",
      " 82%|████████▏ | 142/173 [00:00<00:00, 173.32it/s]\n",
      "100%|██████████| 173/173 [00:01<00:00, 169.06it/s]\n",
      "  0%|          | 0/50 [00:00<?, ?it/s]\n",
      "100%|██████████| 50/50 [00:00<00:00, 387.47it/s]\n",
      "  0%|          | 0/173 [00:00<?, ?it/s]\n"
     ]
    },
    {
     "name": "stdout",
     "output_type": "stream",
     "text": [
      "\u001b[2m\u001b[36m(func pid=8784)\u001b[0m \n",
      "\u001b[2m\u001b[36m(func pid=8784)\u001b[0m Epoch 36\n"
     ]
    },
    {
     "name": "stderr",
     "output_type": "stream",
     "text": [
      " 10%|█         | 18/173 [00:00<00:00, 170.21it/s]\n",
      " 21%|██        | 36/173 [00:00<00:00, 171.97it/s]\n",
      " 31%|███       | 54/173 [00:00<00:00, 172.47it/s]\n",
      " 42%|████▏     | 72/173 [00:00<00:00, 172.76it/s]\n",
      " 52%|█████▏    | 90/173 [00:00<00:00, 172.27it/s]\n",
      " 62%|██████▏   | 108/173 [00:00<00:00, 171.80it/s]\n",
      " 73%|███████▎  | 126/173 [00:00<00:00, 173.30it/s]\n",
      " 83%|████████▎ | 144/173 [00:00<00:00, 173.31it/s]\n",
      " 94%|█████████▎| 162/173 [00:00<00:00, 172.13it/s]\n",
      "100%|██████████| 173/173 [00:01<00:00, 172.06it/s]\n",
      "  0%|          | 0/50 [00:00<?, ?it/s]\n",
      " 76%|███████▌  | 38/50 [00:00<00:00, 376.96it/s]\n",
      "100%|██████████| 50/50 [00:00<00:00, 383.89it/s]\n",
      "  0%|          | 0/173 [00:00<?, ?it/s]\n"
     ]
    },
    {
     "name": "stdout",
     "output_type": "stream",
     "text": [
      "\u001b[2m\u001b[36m(func pid=8784)\u001b[0m \n",
      "\u001b[2m\u001b[36m(func pid=8784)\u001b[0m Epoch 37\n"
     ]
    },
    {
     "name": "stderr",
     "output_type": "stream",
     "text": [
      "  9%|▉         | 16/173 [00:00<00:00, 159.03it/s]\n",
      " 20%|█▉        | 34/173 [00:00<00:00, 167.36it/s]\n",
      " 29%|██▉       | 51/173 [00:00<00:00, 168.47it/s]\n",
      " 39%|███▉      | 68/173 [00:00<00:00, 168.34it/s]\n",
      " 49%|████▉     | 85/173 [00:00<00:00, 164.87it/s]\n",
      " 59%|█████▉    | 102/173 [00:00<00:00, 153.24it/s]\n",
      " 68%|██████▊   | 118/173 [00:00<00:00, 126.26it/s]\n",
      " 77%|███████▋  | 134/173 [00:00<00:00, 134.64it/s]\n",
      "100%|██████████| 173/173 [00:01<00:00, 148.66it/s]\n",
      "  0%|          | 0/50 [00:00<?, ?it/s]\n",
      "100%|██████████| 50/50 [00:00<00:00, 367.52it/s]\n",
      "  0%|          | 0/173 [00:00<?, ?it/s]\n",
      " 10%|▉         | 17/173 [00:00<00:00, 162.71it/s]\n"
     ]
    },
    {
     "name": "stdout",
     "output_type": "stream",
     "text": [
      "\u001b[2m\u001b[36m(func pid=8784)\u001b[0m \n",
      "\u001b[2m\u001b[36m(func pid=8784)\u001b[0m Epoch 38\n"
     ]
    },
    {
     "name": "stderr",
     "output_type": "stream",
     "text": [
      " 20%|██        | 35/173 [00:00<00:00, 169.05it/s]\n",
      " 31%|███       | 53/173 [00:00<00:00, 171.64it/s]\n",
      " 41%|████      | 71/173 [00:00<00:00, 173.68it/s]\n",
      " 51%|█████▏    | 89/173 [00:00<00:00, 171.09it/s]\n",
      " 62%|██████▏   | 107/173 [00:00<00:00, 172.93it/s]\n",
      " 72%|███████▏  | 125/173 [00:00<00:00, 174.04it/s]\n",
      " 83%|████████▎ | 143/173 [00:00<00:00, 172.05it/s]\n",
      "100%|██████████| 173/173 [00:01<00:00, 171.80it/s]\n",
      "  0%|          | 0/50 [00:00<?, ?it/s]\n",
      "100%|██████████| 50/50 [00:00<00:00, 386.72it/s]\n",
      "  0%|          | 0/173 [00:00<?, ?it/s]\n",
      "  9%|▉         | 16/173 [00:00<00:01, 154.82it/s]\n",
      " 20%|█▉        | 34/173 [00:00<00:00, 165.04it/s]\n"
     ]
    },
    {
     "name": "stdout",
     "output_type": "stream",
     "text": [
      "\u001b[2m\u001b[36m(func pid=8784)\u001b[0m \n",
      "\u001b[2m\u001b[36m(func pid=8784)\u001b[0m Epoch 39\n"
     ]
    },
    {
     "name": "stderr",
     "output_type": "stream",
     "text": [
      " 30%|███       | 52/173 [00:00<00:00, 171.10it/s]\n",
      " 41%|████      | 71/173 [00:00<00:00, 174.50it/s]\n",
      " 51%|█████▏    | 89/173 [00:00<00:00, 176.43it/s]\n",
      " 62%|██████▏   | 107/173 [00:00<00:00, 176.97it/s]\n",
      " 72%|███████▏  | 125/173 [00:00<00:00, 177.36it/s]\n",
      " 83%|████████▎ | 143/173 [00:00<00:00, 175.26it/s]\n",
      " 93%|█████████▎| 161/173 [00:00<00:00, 172.60it/s]\n",
      "100%|██████████| 173/173 [00:01<00:00, 171.83it/s]\n",
      "  0%|          | 0/50 [00:00<?, ?it/s]\n",
      " 76%|███████▌  | 38/50 [00:00<00:00, 373.19it/s]\n",
      "100%|██████████| 50/50 [00:00<00:00, 376.44it/s]\n",
      "  0%|          | 0/173 [00:00<?, ?it/s]\n"
     ]
    },
    {
     "name": "stdout",
     "output_type": "stream",
     "text": [
      "\u001b[2m\u001b[36m(func pid=8784)\u001b[0m Epoch 00039: reducing learning rate of group 0 to 2.3233e-03.\n",
      "\u001b[2m\u001b[36m(func pid=8784)\u001b[0m \n",
      "\u001b[2m\u001b[36m(func pid=8784)\u001b[0m Epoch 40\n"
     ]
    },
    {
     "name": "stderr",
     "output_type": "stream",
     "text": [
      "  9%|▉         | 16/173 [00:00<00:00, 157.05it/s]\n",
      " 18%|█▊        | 32/173 [00:00<00:00, 155.27it/s]\n",
      " 29%|██▉       | 50/173 [00:00<00:00, 162.63it/s]\n",
      " 39%|███▉      | 68/173 [00:00<00:00, 165.88it/s]\n",
      " 50%|████▉     | 86/173 [00:00<00:00, 169.60it/s]\n",
      " 60%|█████▉    | 103/173 [00:00<00:00, 168.97it/s]\n",
      " 69%|██████▉   | 120/173 [00:00<00:00, 157.59it/s]\n",
      " 79%|███████▊  | 136/173 [00:00<00:00, 151.92it/s]\n",
      " 88%|████████▊ | 152/173 [00:00<00:00, 146.50it/s]\n",
      "100%|██████████| 173/173 [00:01<00:00, 151.51it/s]\n",
      "  0%|          | 0/50 [00:00<?, ?it/s]\n",
      "100%|██████████| 50/50 [00:00<00:00, 342.11it/s]\n",
      "  0%|          | 0/173 [00:00<?, ?it/s]\n",
      " 10%|▉         | 17/173 [00:00<00:00, 164.12it/s]\n"
     ]
    },
    {
     "name": "stdout",
     "output_type": "stream",
     "text": [
      "\u001b[2m\u001b[36m(func pid=8784)\u001b[0m \n",
      "\u001b[2m\u001b[36m(func pid=8784)\u001b[0m Epoch 41\n"
     ]
    },
    {
     "name": "stderr",
     "output_type": "stream",
     "text": [
      " 20%|██        | 35/173 [00:00<00:00, 170.11it/s]\n",
      " 31%|███       | 53/173 [00:00<00:00, 162.34it/s]\n",
      " 41%|████      | 71/173 [00:00<00:00, 167.00it/s]\n",
      " 51%|█████▏    | 89/173 [00:00<00:00, 169.84it/s]\n",
      " 62%|██████▏   | 107/173 [00:00<00:00, 167.49it/s]\n",
      " 72%|███████▏  | 124/173 [00:00<00:00, 158.60it/s]\n",
      "100%|██████████| 173/173 [00:01<00:00, 163.07it/s]\n",
      "  0%|          | 0/50 [00:00<?, ?it/s]\n",
      "100%|██████████| 50/50 [00:00<00:00, 382.66it/s]\n",
      "  0%|          | 0/173 [00:00<?, ?it/s]\n",
      "  7%|▋         | 12/173 [00:00<00:01, 114.80it/s]\n"
     ]
    },
    {
     "name": "stdout",
     "output_type": "stream",
     "text": [
      "\u001b[2m\u001b[36m(func pid=8784)\u001b[0m \n",
      "\u001b[2m\u001b[36m(func pid=8784)\u001b[0m Epoch 42\n"
     ]
    },
    {
     "name": "stderr",
     "output_type": "stream",
     "text": [
      " 16%|█▌        | 27/173 [00:00<00:01, 133.32it/s]\n",
      " 24%|██▍       | 42/173 [00:00<00:00, 139.50it/s]\n",
      " 32%|███▏      | 56/173 [00:00<00:00, 137.66it/s]\n",
      " 40%|████      | 70/173 [00:00<00:00, 137.90it/s]\n",
      " 49%|████▊     | 84/173 [00:00<00:00, 135.97it/s]\n",
      " 65%|██████▌   | 113/173 [00:00<00:00, 113.02it/s]\n",
      " 75%|███████▍  | 129/173 [00:01<00:00, 124.46it/s]\n",
      " 84%|████████▍ | 145/173 [00:01<00:00, 132.57it/s]\n",
      " 94%|█████████▎| 162/173 [00:01<00:00, 141.47it/s]\n",
      "100%|██████████| 173/173 [00:01<00:00, 131.96it/s]\n",
      "  0%|          | 0/50 [00:00<?, ?it/s]\n",
      " 78%|███████▊  | 39/50 [00:00<00:00, 378.91it/s]\n",
      "100%|██████████| 50/50 [00:00<00:00, 377.90it/s]\n",
      "  0%|          | 0/173 [00:00<?, ?it/s]\n",
      " 10%|▉         | 17/173 [00:00<00:00, 166.93it/s]\n"
     ]
    },
    {
     "name": "stdout",
     "output_type": "stream",
     "text": [
      "\u001b[2m\u001b[36m(func pid=8784)\u001b[0m \n",
      "\u001b[2m\u001b[36m(func pid=8784)\u001b[0m Epoch 43\n"
     ]
    },
    {
     "name": "stderr",
     "output_type": "stream",
     "text": [
      " 20%|█▉        | 34/173 [00:00<00:00, 166.75it/s]\n",
      " 29%|██▉       | 51/173 [00:00<00:00, 160.05it/s]\n",
      " 39%|███▉      | 68/173 [00:00<00:00, 163.22it/s]\n",
      " 50%|████▉     | 86/173 [00:00<00:00, 165.79it/s]\n",
      " 60%|█████▉    | 103/173 [00:00<00:00, 166.54it/s]\n",
      " 69%|██████▉   | 120/173 [00:00<00:00, 166.48it/s]\n",
      " 79%|███████▉  | 137/173 [00:00<00:00, 165.02it/s]\n",
      " 89%|████████▉ | 154/173 [00:00<00:00, 165.16it/s]\n",
      "100%|██████████| 173/173 [00:01<00:00, 164.15it/s]\n",
      "  0%|          | 0/50 [00:00<?, ?it/s]\n",
      " 74%|███████▍  | 37/50 [00:00<00:00, 368.64it/s]\n",
      "100%|██████████| 50/50 [00:00<00:00, 372.68it/s]\n",
      "  0%|          | 0/173 [00:00<?, ?it/s]\n",
      "  8%|▊         | 14/173 [00:00<00:01, 139.95it/s]\n"
     ]
    },
    {
     "name": "stdout",
     "output_type": "stream",
     "text": [
      "\u001b[2m\u001b[36m(func pid=8784)\u001b[0m \n",
      "\u001b[2m\u001b[36m(func pid=8784)\u001b[0m Epoch 44\n"
     ]
    },
    {
     "name": "stderr",
     "output_type": "stream",
     "text": [
      " 17%|█▋        | 30/173 [00:00<00:00, 150.47it/s]\n",
      " 28%|██▊       | 48/173 [00:00<00:00, 160.80it/s]\n",
      " 38%|███▊      | 66/173 [00:00<00:00, 165.45it/s]\n",
      " 48%|████▊     | 83/173 [00:00<00:00, 165.79it/s]\n",
      " 58%|█████▊    | 100/173 [00:00<00:00, 166.14it/s]\n",
      " 68%|██████▊   | 117/173 [00:00<00:00, 165.04it/s]\n",
      " 78%|███████▊  | 135/173 [00:00<00:00, 166.75it/s]\n",
      " 88%|████████▊ | 152/173 [00:00<00:00, 166.22it/s]\n",
      "100%|██████████| 173/173 [00:01<00:00, 163.80it/s]\n",
      "  0%|          | 0/50 [00:00<?, ?it/s]\n",
      " 78%|███████▊  | 39/50 [00:00<00:00, 378.81it/s]\n",
      "100%|██████████| 50/50 [00:00<00:00, 376.23it/s]\n",
      "  0%|          | 0/173 [00:00<?, ?it/s]\n",
      "  9%|▉         | 16/173 [00:00<00:00, 159.61it/s]\n"
     ]
    },
    {
     "name": "stdout",
     "output_type": "stream",
     "text": [
      "\u001b[2m\u001b[36m(func pid=8784)\u001b[0m \n",
      "\u001b[2m\u001b[36m(func pid=8784)\u001b[0m Epoch 45\n"
     ]
    },
    {
     "name": "stderr",
     "output_type": "stream",
     "text": [
      " 20%|█▉        | 34/173 [00:00<00:00, 168.23it/s]\n",
      " 29%|██▉       | 51/173 [00:00<00:00, 163.90it/s]\n",
      " 39%|███▉      | 68/173 [00:00<00:00, 154.16it/s]\n",
      " 49%|████▉     | 85/173 [00:00<00:00, 157.93it/s]\n",
      " 59%|█████▉    | 102/173 [00:00<00:00, 159.66it/s]\n",
      " 69%|██████▉   | 119/173 [00:00<00:00, 158.25it/s]\n",
      " 78%|███████▊  | 135/173 [00:00<00:00, 150.70it/s]\n",
      " 87%|████████▋ | 151/173 [00:00<00:00, 148.07it/s]\n",
      "100%|██████████| 173/173 [00:01<00:00, 152.18it/s]\n",
      "  0%|          | 0/50 [00:00<?, ?it/s]\n",
      " 68%|██████▊   | 34/50 [00:00<00:00, 335.73it/s]\n",
      "100%|██████████| 50/50 [00:00<00:00, 320.54it/s]\n",
      "  0%|          | 0/173 [00:00<?, ?it/s]\n",
      "  8%|▊         | 14/173 [00:00<00:01, 135.19it/s]\n"
     ]
    },
    {
     "name": "stdout",
     "output_type": "stream",
     "text": [
      "\u001b[2m\u001b[36m(func pid=8784)\u001b[0m \n",
      "\u001b[2m\u001b[36m(func pid=8784)\u001b[0m Epoch 46\n"
     ]
    },
    {
     "name": "stderr",
     "output_type": "stream",
     "text": [
      " 17%|█▋        | 30/173 [00:00<00:00, 149.47it/s]\n",
      " 27%|██▋       | 47/173 [00:00<00:00, 156.80it/s]\n",
      " 36%|███▋      | 63/173 [00:00<00:00, 155.87it/s]\n",
      " 47%|████▋     | 81/173 [00:00<00:00, 161.72it/s]\n",
      " 57%|█████▋    | 99/173 [00:00<00:00, 165.45it/s]\n",
      " 68%|██████▊   | 117/173 [00:00<00:00, 167.87it/s]\n",
      " 78%|███████▊  | 135/173 [00:00<00:00, 169.66it/s]\n",
      " 88%|████████▊ | 153/173 [00:00<00:00, 170.68it/s]\n",
      "100%|██████████| 173/173 [00:01<00:00, 164.29it/s]\n",
      "  0%|          | 0/50 [00:00<?, ?it/s]\n",
      " 78%|███████▊  | 39/50 [00:00<00:00, 379.20it/s]\n",
      "100%|██████████| 50/50 [00:00<00:00, 379.34it/s]\n",
      "  0%|          | 0/173 [00:00<?, ?it/s]\n",
      " 10%|▉         | 17/173 [00:00<00:00, 168.51it/s]\n"
     ]
    },
    {
     "name": "stdout",
     "output_type": "stream",
     "text": [
      "\u001b[2m\u001b[36m(func pid=8784)\u001b[0m \n",
      "\u001b[2m\u001b[36m(func pid=8784)\u001b[0m Epoch 47\n"
     ]
    },
    {
     "name": "stderr",
     "output_type": "stream",
     "text": [
      " 20%|██        | 35/173 [00:00<00:00, 172.52it/s]\n",
      " 31%|███       | 53/173 [00:00<00:00, 173.40it/s]\n",
      " 41%|████      | 71/173 [00:00<00:00, 173.22it/s]\n",
      " 51%|█████▏    | 89/173 [00:00<00:00, 137.31it/s]\n",
      " 62%|██████▏   | 108/173 [00:00<00:00, 149.56it/s]\n",
      " 73%|███████▎  | 126/173 [00:00<00:00, 155.91it/s]\n",
      " 83%|████████▎ | 144/173 [00:00<00:00, 161.59it/s]\n",
      " 94%|█████████▎| 162/173 [00:01<00:00, 164.05it/s]\n",
      "100%|██████████| 173/173 [00:01<00:00, 160.86it/s]\n",
      "  0%|          | 0/50 [00:00<?, ?it/s]\n",
      " 78%|███████▊  | 39/50 [00:00<00:00, 384.64it/s]\n",
      "100%|██████████| 50/50 [00:00<00:00, 385.73it/s]\n",
      "  0%|          | 0/173 [00:00<?, ?it/s]\n",
      "  8%|▊         | 14/173 [00:00<00:01, 138.87it/s]\n"
     ]
    },
    {
     "name": "stdout",
     "output_type": "stream",
     "text": [
      "\u001b[2m\u001b[36m(func pid=8784)\u001b[0m \n",
      "\u001b[2m\u001b[36m(func pid=8784)\u001b[0m Epoch 48\n"
     ]
    },
    {
     "name": "stderr",
     "output_type": "stream",
     "text": [
      " 18%|█▊        | 32/173 [00:00<00:00, 161.07it/s]\n",
      " 29%|██▉       | 51/173 [00:00<00:00, 170.01it/s]\n",
      " 40%|███▉      | 69/173 [00:00<00:00, 170.21it/s]\n",
      " 50%|█████     | 87/173 [00:00<00:00, 170.79it/s]\n",
      " 61%|██████    | 105/173 [00:00<00:00, 171.48it/s]\n",
      " 71%|███████   | 123/173 [00:00<00:00, 173.11it/s]\n",
      " 82%|████████▏ | 141/173 [00:00<00:00, 173.63it/s]\n",
      "100%|██████████| 173/173 [00:01<00:00, 171.10it/s]\n",
      "  0%|          | 0/50 [00:00<?, ?it/s]\n",
      "100%|██████████| 50/50 [00:00<00:00, 385.37it/s]\n",
      "  0%|          | 0/173 [00:00<?, ?it/s]\n",
      " 10%|▉         | 17/173 [00:00<00:00, 166.46it/s]\n"
     ]
    },
    {
     "name": "stdout",
     "output_type": "stream",
     "text": [
      "\u001b[2m\u001b[36m(func pid=8784)\u001b[0m \n",
      "\u001b[2m\u001b[36m(func pid=8784)\u001b[0m Epoch 49\n"
     ]
    },
    {
     "name": "stderr",
     "output_type": "stream",
     "text": [
      " 20%|██        | 35/173 [00:00<00:00, 168.14it/s]\n",
      " 30%|███       | 52/173 [00:00<00:00, 166.17it/s]\n",
      " 40%|███▉      | 69/173 [00:00<00:00, 162.96it/s]\n",
      " 50%|████▉     | 86/173 [00:00<00:00, 159.98it/s]\n",
      " 60%|█████▉    | 103/173 [00:00<00:00, 160.01it/s]\n",
      " 70%|██████▉   | 121/173 [00:00<00:00, 164.86it/s]\n",
      " 80%|████████  | 139/173 [00:00<00:00, 168.87it/s]\n",
      "  0%|          | 0/50 [00:00<?, ?it/s]\n",
      "100%|██████████| 50/50 [00:00<00:00, 382.39it/s]\n",
      "  0%|          | 0/173 [00:00<?, ?it/s]\n"
     ]
    },
    {
     "name": "stdout",
     "output_type": "stream",
     "text": [
      "\u001b[2m\u001b[36m(func pid=8784)\u001b[0m \n",
      "\u001b[2m\u001b[36m(func pid=8784)\u001b[0m Epoch 50\n"
     ]
    },
    {
     "name": "stderr",
     "output_type": "stream",
     "text": [
      " 10%|█         | 18/173 [00:00<00:00, 172.93it/s]\n",
      " 21%|██        | 36/173 [00:00<00:00, 176.98it/s]\n",
      " 31%|███       | 54/173 [00:00<00:00, 174.64it/s]\n",
      " 42%|████▏     | 72/173 [00:00<00:00, 176.06it/s]\n",
      " 52%|█████▏    | 90/173 [00:00<00:00, 174.96it/s]\n",
      " 62%|██████▏   | 108/173 [00:00<00:00, 174.75it/s]\n",
      " 73%|███████▎  | 126/173 [00:00<00:00, 173.20it/s]\n",
      " 83%|████████▎ | 144/173 [00:00<00:00, 173.21it/s]\n",
      " 94%|█████████▎| 162/173 [00:00<00:00, 170.15it/s]\n",
      "100%|██████████| 173/173 [00:01<00:00, 172.82it/s]\n",
      "  0%|          | 0/50 [00:00<?, ?it/s]\n",
      "100%|██████████| 50/50 [00:00<00:00, 383.48it/s]\n",
      "  0%|          | 0/173 [00:00<?, ?it/s]\n"
     ]
    },
    {
     "name": "stdout",
     "output_type": "stream",
     "text": [
      "\u001b[2m\u001b[36m(func pid=8784)\u001b[0m \n",
      "\u001b[2m\u001b[36m(func pid=8784)\u001b[0m Epoch 51\n"
     ]
    },
    {
     "name": "stderr",
     "output_type": "stream",
     "text": [
      " 10%|█         | 18/173 [00:00<00:00, 171.78it/s]\n",
      " 21%|██        | 36/173 [00:00<00:00, 173.36it/s]\n",
      " 31%|███       | 54/173 [00:00<00:00, 167.44it/s]\n",
      " 41%|████      | 71/173 [00:00<00:00, 166.88it/s]\n",
      " 51%|█████▏    | 89/173 [00:00<00:00, 166.51it/s]\n",
      " 62%|██████▏   | 107/173 [00:00<00:00, 169.92it/s]\n",
      " 72%|███████▏  | 125/173 [00:00<00:00, 172.61it/s]\n",
      " 83%|████████▎ | 143/173 [00:00<00:00, 171.60it/s]\n",
      "100%|██████████| 173/173 [00:01<00:00, 169.84it/s]\n",
      "  0%|          | 0/50 [00:00<?, ?it/s]\n",
      "100%|██████████| 50/50 [00:00<00:00, 378.91it/s]\n",
      "  0%|          | 0/173 [00:00<?, ?it/s]\n",
      " 10%|▉         | 17/173 [00:00<00:00, 168.93it/s]\n"
     ]
    },
    {
     "name": "stdout",
     "output_type": "stream",
     "text": [
      "\u001b[2m\u001b[36m(func pid=8784)\u001b[0m \n",
      "\u001b[2m\u001b[36m(func pid=8784)\u001b[0m Epoch 52\n"
     ]
    },
    {
     "name": "stderr",
     "output_type": "stream",
     "text": [
      " 20%|██        | 35/173 [00:00<00:00, 173.63it/s]\n",
      " 31%|███       | 53/173 [00:00<00:00, 174.02it/s]\n",
      " 41%|████      | 71/173 [00:00<00:00, 133.24it/s]\n",
      " 51%|█████     | 88/173 [00:00<00:00, 143.27it/s]\n",
      " 61%|██████▏   | 106/173 [00:00<00:00, 152.34it/s]\n",
      " 72%|███████▏  | 124/173 [00:00<00:00, 158.64it/s]\n",
      " 82%|████████▏ | 142/173 [00:00<00:00, 162.68it/s]\n",
      " 92%|█████████▏| 160/173 [00:01<00:00, 165.63it/s]\n",
      "100%|██████████| 173/173 [00:01<00:00, 159.56it/s]\n",
      "  0%|          | 0/50 [00:00<?, ?it/s]\n",
      "100%|██████████| 50/50 [00:00<00:00, 381.34it/s]\n",
      "  0%|          | 0/173 [00:00<?, ?it/s]\n",
      " 10%|█         | 18/173 [00:00<00:00, 170.81it/s]\n"
     ]
    },
    {
     "name": "stdout",
     "output_type": "stream",
     "text": [
      "\u001b[2m\u001b[36m(func pid=8784)\u001b[0m \n",
      "\u001b[2m\u001b[36m(func pid=8784)\u001b[0m Epoch 53\n"
     ]
    },
    {
     "name": "stderr",
     "output_type": "stream",
     "text": [
      " 21%|██        | 36/173 [00:00<00:00, 170.61it/s]\n",
      " 31%|███       | 54/173 [00:00<00:00, 164.18it/s]\n",
      " 42%|████▏     | 72/173 [00:00<00:00, 167.69it/s]\n",
      " 51%|█████▏    | 89/173 [00:00<00:00, 165.62it/s]\n",
      " 62%|██████▏   | 107/173 [00:00<00:00, 167.20it/s]\n",
      " 72%|███████▏  | 125/173 [00:00<00:00, 169.60it/s]\n",
      "  0%|          | 0/50 [00:00<?, ?it/s]\n",
      "100%|██████████| 50/50 [00:00<00:00, 369.90it/s]\n",
      "  0%|          | 0/173 [00:00<?, ?it/s]\n",
      " 10%|█         | 18/173 [00:00<00:00, 170.84it/s]\n"
     ]
    },
    {
     "name": "stdout",
     "output_type": "stream",
     "text": [
      "\u001b[2m\u001b[36m(func pid=8784)\u001b[0m \n",
      "\u001b[2m\u001b[36m(func pid=8784)\u001b[0m Epoch 54\n"
     ]
    },
    {
     "name": "stderr",
     "output_type": "stream",
     "text": [
      " 21%|██        | 36/173 [00:00<00:00, 172.20it/s]\n",
      " 42%|████▏     | 72/173 [00:00<00:00, 172.49it/s]\n",
      " 52%|█████▏    | 90/173 [00:00<00:00, 171.41it/s]\n",
      " 62%|██████▏   | 108/173 [00:00<00:00, 169.87it/s]\n",
      " 73%|███████▎  | 126/173 [00:00<00:00, 170.92it/s]\n",
      " 83%|████████▎ | 144/173 [00:00<00:00, 169.64it/s]\n",
      " 93%|█████████▎| 161/173 [00:00<00:00, 167.00it/s]\n",
      "100%|██████████| 173/173 [00:01<00:00, 165.66it/s]\n",
      "  0%|          | 0/50 [00:00<?, ?it/s]\n",
      "100%|██████████| 50/50 [00:00<00:00, 373.76it/s]\n",
      "  0%|          | 0/173 [00:00<?, ?it/s]\n"
     ]
    },
    {
     "name": "stdout",
     "output_type": "stream",
     "text": [
      "\u001b[2m\u001b[36m(func pid=8784)\u001b[0m Epoch 00054: reducing learning rate of group 0 to 1.1617e-03.\n",
      "\u001b[2m\u001b[36m(func pid=8784)\u001b[0m \n",
      "\u001b[2m\u001b[36m(func pid=8784)\u001b[0m Epoch 55\n"
     ]
    },
    {
     "name": "stderr",
     "output_type": "stream",
     "text": [
      " 10%|▉         | 17/173 [00:00<00:00, 164.41it/s]\n",
      " 20%|██        | 35/173 [00:00<00:00, 170.45it/s]\n",
      " 31%|███       | 53/173 [00:00<00:00, 172.01it/s]\n",
      " 41%|████      | 71/173 [00:00<00:00, 170.36it/s]\n",
      " 51%|█████▏    | 89/173 [00:00<00:00, 171.04it/s]\n",
      " 62%|██████▏   | 107/173 [00:00<00:00, 172.16it/s]\n",
      " 72%|███████▏  | 125/173 [00:00<00:00, 172.82it/s]\n",
      " 83%|████████▎ | 143/173 [00:00<00:00, 173.39it/s]\n",
      " 93%|█████████▎| 161/173 [00:00<00:00, 171.34it/s]\n",
      "100%|██████████| 173/173 [00:01<00:00, 170.95it/s]\n",
      "  0%|          | 0/50 [00:00<?, ?it/s]\n",
      " 78%|███████▊  | 39/50 [00:00<00:00, 382.67it/s]\n",
      "100%|██████████| 50/50 [00:00<00:00, 385.71it/s]\n",
      "  0%|          | 0/173 [00:00<?, ?it/s]\n"
     ]
    },
    {
     "name": "stdout",
     "output_type": "stream",
     "text": [
      "\u001b[2m\u001b[36m(func pid=8784)\u001b[0m \n",
      "\u001b[2m\u001b[36m(func pid=8784)\u001b[0m Epoch 56\n"
     ]
    },
    {
     "name": "stderr",
     "output_type": "stream",
     "text": [
      " 10%|█         | 18/173 [00:00<00:00, 171.36it/s]\n",
      " 21%|██        | 36/173 [00:00<00:00, 170.65it/s]\n",
      " 31%|███       | 54/173 [00:00<00:00, 170.34it/s]\n",
      " 42%|████▏     | 72/173 [00:00<00:00, 169.85it/s]\n",
      " 52%|█████▏    | 90/173 [00:00<00:00, 170.68it/s]\n",
      " 62%|██████▏   | 108/173 [00:00<00:00, 171.24it/s]\n",
      " 73%|███████▎  | 126/173 [00:00<00:00, 171.80it/s]\n",
      " 83%|████████▎ | 144/173 [00:00<00:00, 173.26it/s]\n",
      "100%|██████████| 173/173 [00:01<00:00, 171.15it/s]\n",
      "  0%|          | 0/50 [00:00<?, ?it/s]\n",
      "100%|██████████| 50/50 [00:00<00:00, 384.32it/s]\n",
      "  0%|          | 0/173 [00:00<?, ?it/s]\n"
     ]
    },
    {
     "name": "stdout",
     "output_type": "stream",
     "text": [
      "\u001b[2m\u001b[36m(func pid=8784)\u001b[0m \n",
      "\u001b[2m\u001b[36m(func pid=8784)\u001b[0m Epoch 57\n"
     ]
    },
    {
     "name": "stderr",
     "output_type": "stream",
     "text": [
      " 10%|█         | 18/173 [00:00<00:00, 168.64it/s]\n",
      " 20%|██        | 35/173 [00:00<00:00, 167.34it/s]\n",
      " 30%|███       | 52/173 [00:00<00:00, 127.11it/s]\n",
      " 40%|███▉      | 69/173 [00:00<00:00, 140.96it/s]\n",
      " 50%|█████     | 87/173 [00:00<00:00, 151.51it/s]\n",
      " 60%|██████    | 104/173 [00:00<00:00, 156.32it/s]\n",
      " 71%|███████   | 122/173 [00:00<00:00, 161.05it/s]\n",
      " 81%|████████  | 140/173 [00:00<00:00, 164.71it/s]\n",
      "100%|██████████| 173/173 [00:01<00:00, 158.71it/s]\n",
      "  0%|          | 0/50 [00:00<?, ?it/s]\n",
      " 76%|███████▌  | 38/50 [00:00<00:00, 373.89it/s]\n",
      "100%|██████████| 50/50 [00:00<00:00, 364.92it/s]\n",
      "  0%|          | 0/173 [00:00<?, ?it/s]\n",
      " 10%|█         | 18/173 [00:00<00:00, 171.06it/s]\n"
     ]
    },
    {
     "name": "stdout",
     "output_type": "stream",
     "text": [
      "\u001b[2m\u001b[36m(func pid=8784)\u001b[0m \n",
      "\u001b[2m\u001b[36m(func pid=8784)\u001b[0m Epoch 58\n"
     ]
    },
    {
     "name": "stderr",
     "output_type": "stream",
     "text": [
      " 21%|██        | 36/173 [00:00<00:00, 170.23it/s]\n",
      " 31%|███       | 54/173 [00:00<00:00, 170.91it/s]\n",
      " 42%|████▏     | 72/173 [00:00<00:00, 170.99it/s]\n",
      " 52%|█████▏    | 90/173 [00:00<00:00, 171.88it/s]\n",
      " 62%|██████▏   | 108/173 [00:00<00:00, 172.79it/s]\n",
      " 73%|███████▎  | 126/173 [00:00<00:00, 172.47it/s]\n",
      " 83%|████████▎ | 144/173 [00:00<00:00, 171.08it/s]\n",
      "100%|██████████| 173/173 [00:01<00:00, 170.24it/s]\n",
      "  0%|          | 0/50 [00:00<?, ?it/s]\n",
      "100%|██████████| 50/50 [00:00<00:00, 380.81it/s]\n",
      "  0%|          | 0/173 [00:00<?, ?it/s]\n",
      " 10%|▉         | 17/173 [00:00<00:00, 165.06it/s]\n"
     ]
    },
    {
     "name": "stdout",
     "output_type": "stream",
     "text": [
      "\u001b[2m\u001b[36m(func pid=8784)\u001b[0m \n",
      "\u001b[2m\u001b[36m(func pid=8784)\u001b[0m Epoch 59\n"
     ]
    },
    {
     "name": "stderr",
     "output_type": "stream",
     "text": [
      " 20%|█▉        | 34/173 [00:00<00:00, 163.81it/s]\n",
      " 30%|███       | 52/173 [00:00<00:00, 166.81it/s]\n",
      " 40%|████      | 70/173 [00:00<00:00, 168.68it/s]\n",
      " 50%|█████     | 87/173 [00:00<00:00, 168.96it/s]\n",
      " 61%|██████    | 105/173 [00:00<00:00, 170.03it/s]\n",
      " 71%|███████   | 123/173 [00:00<00:00, 170.41it/s]\n",
      " 82%|████████▏ | 141/173 [00:00<00:00, 172.17it/s]\n",
      " 92%|█████████▏| 159/173 [00:00<00:00, 172.90it/s]\n",
      "100%|██████████| 173/173 [00:01<00:00, 170.26it/s]\n",
      "  0%|          | 0/50 [00:00<?, ?it/s]\n",
      "100%|██████████| 50/50 [00:00<00:00, 389.45it/s]\n",
      "  0%|          | 0/173 [00:00<?, ?it/s]\n",
      " 10%|▉         | 17/173 [00:00<00:00, 168.46it/s]\n"
     ]
    },
    {
     "name": "stdout",
     "output_type": "stream",
     "text": [
      "\u001b[2m\u001b[36m(func pid=8784)\u001b[0m \n",
      "\u001b[2m\u001b[36m(func pid=8784)\u001b[0m Epoch 60\n"
     ]
    },
    {
     "name": "stderr",
     "output_type": "stream",
     "text": [
      " 20%|█▉        | 34/173 [00:00<00:00, 167.59it/s]\n",
      " 29%|██▉       | 51/173 [00:00<00:00, 156.38it/s]\n",
      " 40%|███▉      | 69/173 [00:00<00:00, 162.35it/s]\n",
      " 50%|████▉     | 86/173 [00:00<00:00, 163.31it/s]\n",
      " 60%|█████▉    | 103/173 [00:00<00:00, 164.92it/s]\n",
      " 70%|██████▉   | 121/173 [00:00<00:00, 168.85it/s]\n",
      " 80%|████████  | 139/173 [00:00<00:00, 169.42it/s]\n",
      " 91%|█████████ | 157/173 [00:00<00:00, 171.13it/s]\n",
      "100%|██████████| 173/173 [00:01<00:00, 166.87it/s]\n",
      "  0%|          | 0/50 [00:00<?, ?it/s]\n",
      " 78%|███████▊  | 39/50 [00:00<00:00, 386.71it/s]\n",
      "100%|██████████| 50/50 [00:00<00:00, 391.15it/s]\n",
      "\u001b[2m\u001b[36m(func pid=8784)\u001b[0m \n",
      "  0%|          | 0/173 [00:00<?, ?it/s]\n"
     ]
    },
    {
     "name": "stdout",
     "output_type": "stream",
     "text": [
      "\u001b[2m\u001b[36m(func pid=8784)\u001b[0m Epoch 00060: reducing learning rate of group 0 to 5.8083e-04.\n",
      "\u001b[2m\u001b[36m(func pid=8784)\u001b[0m \n",
      "\u001b[2m\u001b[36m(func pid=8784)\u001b[0m Epoch 61\n"
     ]
    },
    {
     "name": "stderr",
     "output_type": "stream",
     "text": [
      " 10%|▉         | 17/173 [00:00<00:00, 167.28it/s]\n",
      " 20%|██        | 35/173 [00:00<00:00, 169.27it/s]\n",
      " 31%|███       | 53/173 [00:00<00:00, 170.52it/s]\n",
      " 41%|████      | 71/173 [00:00<00:00, 170.21it/s]\n",
      " 51%|█████▏    | 89/173 [00:00<00:00, 170.11it/s]\n",
      " 62%|██████▏   | 107/173 [00:00<00:00, 171.53it/s]\n",
      " 72%|███████▏  | 125/173 [00:00<00:00, 172.75it/s]\n",
      " 83%|████████▎ | 143/173 [00:00<00:00, 172.23it/s]\n",
      "  0%|          | 0/50 [00:00<?, ?it/s]\n",
      "100%|██████████| 50/50 [00:00<00:00, 379.38it/s]\n",
      "  0%|          | 0/173 [00:00<?, ?it/s]\n",
      " 10%|▉         | 17/173 [00:00<00:00, 169.64it/s]\n"
     ]
    },
    {
     "name": "stdout",
     "output_type": "stream",
     "text": [
      "\u001b[2m\u001b[36m(func pid=8784)\u001b[0m \n",
      "\u001b[2m\u001b[36m(func pid=8784)\u001b[0m Epoch 62\n"
     ]
    },
    {
     "name": "stderr",
     "output_type": "stream",
     "text": [
      " 20%|█▉        | 34/173 [00:00<00:01, 120.34it/s]\n",
      " 30%|███       | 52/173 [00:00<00:00, 140.12it/s]\n",
      " 40%|████      | 70/173 [00:00<00:00, 152.06it/s]\n",
      " 51%|█████     | 88/173 [00:00<00:00, 158.77it/s]\n",
      " 61%|██████▏   | 106/173 [00:00<00:00, 162.82it/s]\n",
      " 71%|███████   | 123/173 [00:00<00:00, 163.09it/s]\n",
      " 82%|████████▏ | 141/173 [00:00<00:00, 166.10it/s]\n",
      " 92%|█████████▏| 159/173 [00:01<00:00, 167.72it/s]\n",
      "100%|██████████| 173/173 [00:01<00:00, 159.73it/s]\n",
      "  0%|          | 0/50 [00:00<?, ?it/s]\n",
      "100%|██████████| 50/50 [00:00<00:00, 384.40it/s]\n",
      "  0%|          | 0/173 [00:00<?, ?it/s]\n",
      " 10%|▉         | 17/173 [00:00<00:00, 163.99it/s]\n"
     ]
    },
    {
     "name": "stdout",
     "output_type": "stream",
     "text": [
      "\u001b[2m\u001b[36m(func pid=8784)\u001b[0m \n",
      "\u001b[2m\u001b[36m(func pid=8784)\u001b[0m Epoch 63\n"
     ]
    },
    {
     "name": "stderr",
     "output_type": "stream",
     "text": [
      " 20%|██        | 35/173 [00:00<00:00, 170.03it/s]\n",
      " 31%|███       | 53/173 [00:00<00:00, 169.49it/s]\n",
      " 41%|████      | 71/173 [00:00<00:00, 171.39it/s]\n",
      " 51%|█████▏    | 89/173 [00:00<00:00, 172.97it/s]\n",
      " 62%|██████▏   | 107/173 [00:00<00:00, 173.32it/s]\n",
      " 72%|███████▏  | 125/173 [00:00<00:00, 171.90it/s]\n",
      " 83%|████████▎ | 143/173 [00:00<00:00, 172.46it/s]\n",
      "100%|██████████| 173/173 [00:01<00:00, 170.85it/s]\n",
      "  0%|          | 0/50 [00:00<?, ?it/s]\n",
      "100%|██████████| 50/50 [00:00<00:00, 358.55it/s]\n",
      "  0%|          | 0/173 [00:00<?, ?it/s]\n",
      " 10%|▉         | 17/173 [00:00<00:00, 168.23it/s]\n"
     ]
    },
    {
     "name": "stdout",
     "output_type": "stream",
     "text": [
      "\u001b[2m\u001b[36m(func pid=8784)\u001b[0m \n",
      "\u001b[2m\u001b[36m(func pid=8784)\u001b[0m Epoch 64\n"
     ]
    },
    {
     "name": "stderr",
     "output_type": "stream",
     "text": [
      " 20%|██        | 35/173 [00:00<00:00, 169.20it/s]\n",
      " 40%|████      | 70/173 [00:00<00:00, 173.07it/s]\n",
      " 51%|█████     | 88/173 [00:00<00:00, 173.00it/s]\n",
      " 61%|██████▏   | 106/173 [00:00<00:00, 172.57it/s]\n",
      " 72%|███████▏  | 124/173 [00:00<00:00, 173.14it/s]\n",
      " 82%|████████▏ | 142/173 [00:00<00:00, 172.20it/s]\n",
      " 92%|█████████▏| 160/173 [00:00<00:00, 172.38it/s]\n",
      "100%|██████████| 173/173 [00:01<00:00, 169.10it/s]\n",
      "  0%|          | 0/50 [00:00<?, ?it/s]\n",
      " 76%|███████▌  | 38/50 [00:00<00:00, 378.35it/s]\n",
      "100%|██████████| 50/50 [00:00<00:00, 379.21it/s]\n",
      "  0%|          | 0/173 [00:00<?, ?it/s]\n"
     ]
    },
    {
     "name": "stdout",
     "output_type": "stream",
     "text": [
      "\u001b[2m\u001b[36m(func pid=8784)\u001b[0m \n",
      "\u001b[2m\u001b[36m(func pid=8784)\u001b[0m Epoch 65\n"
     ]
    },
    {
     "name": "stderr",
     "output_type": "stream",
     "text": [
      " 10%|▉         | 17/173 [00:00<00:00, 166.73it/s]\n",
      " 20%|██        | 35/173 [00:00<00:00, 170.68it/s]\n",
      " 31%|███       | 53/173 [00:00<00:00, 171.15it/s]\n",
      " 41%|████      | 71/173 [00:00<00:00, 171.46it/s]\n",
      " 51%|█████▏    | 89/173 [00:00<00:00, 171.58it/s]\n",
      " 62%|██████▏   | 107/173 [00:00<00:00, 171.71it/s]\n",
      " 72%|███████▏  | 125/173 [00:00<00:00, 172.52it/s]\n",
      " 83%|████████▎ | 143/173 [00:00<00:00, 172.72it/s]\n",
      " 93%|█████████▎| 161/173 [00:00<00:00, 170.80it/s]\n",
      "100%|██████████| 173/173 [00:01<00:00, 171.07it/s]\n",
      "  0%|          | 0/50 [00:00<?, ?it/s]\n",
      "100%|██████████| 50/50 [00:00<00:00, 365.87it/s]\n",
      "  0%|          | 0/173 [00:00<?, ?it/s]\n",
      "  9%|▉         | 16/173 [00:00<00:01, 155.09it/s]\n"
     ]
    },
    {
     "name": "stdout",
     "output_type": "stream",
     "text": [
      "\u001b[2m\u001b[36m(func pid=8784)\u001b[0m \n",
      "\u001b[2m\u001b[36m(func pid=8784)\u001b[0m Epoch 66\n"
     ]
    },
    {
     "name": "stderr",
     "output_type": "stream",
     "text": [
      " 18%|█▊        | 32/173 [00:00<00:00, 154.06it/s]\n",
      " 28%|██▊       | 49/173 [00:00<00:00, 159.38it/s]\n",
      " 39%|███▊      | 67/173 [00:00<00:00, 165.43it/s]\n",
      " 49%|████▉     | 85/173 [00:00<00:00, 168.64it/s]\n",
      " 60%|█████▉    | 103/173 [00:00<00:00, 170.39it/s]\n",
      " 70%|██████▉   | 121/173 [00:00<00:00, 170.16it/s]\n",
      " 80%|████████  | 139/173 [00:00<00:00, 171.42it/s]\n",
      " 91%|█████████ | 157/173 [00:00<00:00, 172.72it/s]\n",
      "100%|██████████| 173/173 [00:01<00:00, 168.80it/s]\n",
      "  0%|          | 0/50 [00:00<?, ?it/s]\n",
      "100%|██████████| 50/50 [00:00<00:00, 383.76it/s]\n",
      "  0%|          | 0/173 [00:00<?, ?it/s]\n"
     ]
    },
    {
     "name": "stdout",
     "output_type": "stream",
     "text": [
      "\u001b[2m\u001b[36m(func pid=8784)\u001b[0m Epoch 00066: reducing learning rate of group 0 to 2.9042e-04.\n",
      "\u001b[2m\u001b[36m(func pid=8784)\u001b[0m \n",
      "\u001b[2m\u001b[36m(func pid=8784)\u001b[0m Epoch 67\n"
     ]
    },
    {
     "name": "stderr",
     "output_type": "stream",
     "text": [
      "  4%|▍         | 7/173 [00:00<00:02, 59.92it/s]\n",
      " 14%|█▍        | 25/173 [00:00<00:01, 124.05it/s]\n",
      " 25%|██▍       | 43/173 [00:00<00:00, 147.08it/s]\n",
      " 35%|███▌      | 61/173 [00:00<00:00, 157.35it/s]\n",
      " 46%|████▌     | 79/173 [00:00<00:00, 162.86it/s]\n",
      " 56%|█████▌    | 97/173 [00:00<00:00, 167.57it/s]\n",
      " 66%|██████▋   | 115/173 [00:00<00:00, 169.82it/s]\n",
      " 77%|███████▋  | 133/173 [00:00<00:00, 170.04it/s]\n",
      " 87%|████████▋ | 151/173 [00:00<00:00, 170.74it/s]\n",
      " 98%|█████████▊| 169/173 [00:01<00:00, 172.38it/s]\n",
      "100%|██████████| 173/173 [00:01<00:00, 161.39it/s]\n",
      "  0%|          | 0/50 [00:00<?, ?it/s]\n",
      "100%|██████████| 50/50 [00:00<00:00, 384.70it/s]\n",
      "  0%|          | 0/173 [00:00<?, ?it/s]\n",
      " 10%|▉         | 17/173 [00:00<00:00, 166.24it/s]\n"
     ]
    },
    {
     "name": "stdout",
     "output_type": "stream",
     "text": [
      "\u001b[2m\u001b[36m(func pid=8784)\u001b[0m \n",
      "\u001b[2m\u001b[36m(func pid=8784)\u001b[0m Epoch 68\n"
     ]
    },
    {
     "name": "stderr",
     "output_type": "stream",
     "text": [
      " 20%|██        | 35/173 [00:00<00:00, 170.38it/s]\n",
      " 31%|███       | 53/173 [00:00<00:00, 173.71it/s]\n",
      " 41%|████      | 71/173 [00:00<00:00, 173.57it/s]\n",
      " 51%|█████▏    | 89/173 [00:00<00:00, 174.00it/s]\n",
      " 62%|██████▏   | 107/173 [00:00<00:00, 171.34it/s]\n",
      " 72%|███████▏  | 125/173 [00:00<00:00, 169.49it/s]\n",
      " 92%|█████████▏| 160/173 [00:00<00:00, 171.11it/s]\n",
      "100%|██████████| 173/173 [00:01<00:00, 171.56it/s]\n",
      "  0%|          | 0/50 [00:00<?, ?it/s]\n",
      "100%|██████████| 50/50 [00:00<00:00, 383.64it/s]\n",
      "  0%|          | 0/173 [00:00<?, ?it/s]\n",
      " 10%|█         | 18/173 [00:00<00:00, 171.60it/s]\n"
     ]
    },
    {
     "name": "stdout",
     "output_type": "stream",
     "text": [
      "\u001b[2m\u001b[36m(func pid=8784)\u001b[0m \n",
      "\u001b[2m\u001b[36m(func pid=8784)\u001b[0m Epoch 69\n"
     ]
    },
    {
     "name": "stderr",
     "output_type": "stream",
     "text": [
      " 21%|██        | 36/173 [00:00<00:00, 171.73it/s]\n",
      " 31%|███       | 54/173 [00:00<00:00, 160.34it/s]\n",
      " 42%|████▏     | 72/173 [00:00<00:00, 164.60it/s]\n",
      " 52%|█████▏    | 90/173 [00:00<00:00, 166.98it/s]\n",
      " 62%|██████▏   | 107/173 [00:00<00:00, 165.63it/s]\n",
      " 72%|███████▏  | 124/173 [00:00<00:00, 163.60it/s]\n",
      " 82%|████████▏ | 141/173 [00:00<00:00, 163.98it/s]\n",
      " 92%|█████████▏| 159/173 [00:00<00:00, 166.84it/s]\n",
      "  0%|          | 0/50 [00:00<?, ?it/s]\n",
      " 74%|███████▍  | 37/50 [00:00<00:00, 360.86it/s]\n",
      "100%|██████████| 50/50 [00:00<00:00, 362.83it/s]\n",
      "  0%|          | 0/173 [00:00<?, ?it/s]\n",
      " 10%|▉         | 17/173 [00:00<00:00, 161.95it/s]\n"
     ]
    },
    {
     "name": "stdout",
     "output_type": "stream",
     "text": [
      "\u001b[2m\u001b[36m(func pid=8784)\u001b[0m \n",
      "\u001b[2m\u001b[36m(func pid=8784)\u001b[0m Epoch 70\n"
     ]
    },
    {
     "name": "stderr",
     "output_type": "stream",
     "text": [
      " 20%|█▉        | 34/173 [00:00<00:00, 161.33it/s]\n",
      " 29%|██▉       | 51/173 [00:00<00:00, 152.17it/s]\n",
      " 39%|███▉      | 68/173 [00:00<00:00, 157.12it/s]\n",
      " 50%|████▉     | 86/173 [00:00<00:00, 162.72it/s]\n",
      " 60%|██████    | 104/173 [00:00<00:00, 165.58it/s]\n",
      " 70%|██████▉   | 121/173 [00:00<00:00, 166.11it/s]\n",
      " 80%|████████  | 139/173 [00:00<00:00, 168.79it/s]\n",
      " 90%|█████████ | 156/173 [00:00<00:00, 168.69it/s]\n",
      "100%|██████████| 173/173 [00:01<00:00, 164.51it/s]\n",
      "  0%|          | 0/50 [00:00<?, ?it/s]\n",
      " 76%|███████▌  | 38/50 [00:00<00:00, 376.45it/s]\n",
      "100%|██████████| 50/50 [00:00<00:00, 381.49it/s]\n",
      "  0%|          | 0/173 [00:00<?, ?it/s]\n",
      " 10%|▉         | 17/173 [00:00<00:00, 164.00it/s]\n"
     ]
    },
    {
     "name": "stdout",
     "output_type": "stream",
     "text": [
      "\u001b[2m\u001b[36m(func pid=8784)\u001b[0m \n",
      "\u001b[2m\u001b[36m(func pid=8784)\u001b[0m Epoch 71\n"
     ]
    },
    {
     "name": "stderr",
     "output_type": "stream",
     "text": [
      " 20%|█▉        | 34/173 [00:00<00:00, 164.41it/s]\n",
      " 29%|██▉       | 51/173 [00:00<00:00, 165.11it/s]\n",
      " 39%|███▉      | 68/173 [00:00<00:00, 166.03it/s]\n",
      " 49%|████▉     | 85/173 [00:00<00:00, 167.19it/s]\n",
      " 59%|█████▉    | 102/173 [00:00<00:00, 166.22it/s]\n",
      " 69%|██████▉   | 119/173 [00:00<00:00, 166.69it/s]\n",
      " 79%|███████▊  | 136/173 [00:00<00:00, 166.13it/s]\n",
      " 88%|████████▊ | 153/173 [00:00<00:00, 162.68it/s]\n",
      "100%|██████████| 173/173 [00:01<00:00, 163.65it/s]\n",
      "  0%|          | 0/50 [00:00<?, ?it/s]\n",
      " 78%|███████▊  | 39/50 [00:00<00:00, 220.77it/s]\n",
      "100%|██████████| 50/50 [00:00<00:00, 236.17it/s]\n",
      "  0%|          | 0/173 [00:00<?, ?it/s]\n",
      "  8%|▊         | 14/173 [00:00<00:01, 139.63it/s]\n"
     ]
    },
    {
     "name": "stdout",
     "output_type": "stream",
     "text": [
      "\u001b[2m\u001b[36m(func pid=8784)\u001b[0m \n",
      "\u001b[2m\u001b[36m(func pid=8784)\u001b[0m Epoch 72\n"
     ]
    },
    {
     "name": "stderr",
     "output_type": "stream",
     "text": [
      " 17%|█▋        | 29/173 [00:00<00:01, 142.39it/s]\n",
      " 25%|██▌       | 44/173 [00:00<00:00, 138.60it/s]\n",
      " 34%|███▎      | 58/173 [00:00<00:00, 138.88it/s]\n",
      " 42%|████▏     | 73/173 [00:00<00:00, 140.81it/s]\n",
      " 51%|█████▏    | 89/173 [00:00<00:00, 145.16it/s]\n",
      " 61%|██████    | 105/173 [00:00<00:00, 147.66it/s]\n",
      " 71%|███████   | 122/173 [00:00<00:00, 151.83it/s]\n",
      " 80%|███████▉  | 138/173 [00:00<00:00, 150.03it/s]\n",
      " 89%|████████▉ | 154/173 [00:01<00:00, 149.65it/s]\n",
      "100%|██████████| 173/173 [00:01<00:00, 148.58it/s]\n",
      " 78%|███████▊  | 39/50 [00:00<00:00, 382.64it/s]\n",
      "100%|██████████| 50/50 [00:00<00:00, 381.49it/s]\n",
      "  0%|          | 0/173 [00:00<?, ?it/s]\n",
      " 10%|▉         | 17/173 [00:00<00:00, 162.73it/s]\n"
     ]
    },
    {
     "name": "stdout",
     "output_type": "stream",
     "text": [
      "\u001b[2m\u001b[36m(func pid=8784)\u001b[0m \n",
      "\u001b[2m\u001b[36m(func pid=8784)\u001b[0m Epoch 73\n"
     ]
    },
    {
     "name": "stderr",
     "output_type": "stream",
     "text": [
      " 20%|█▉        | 34/173 [00:00<00:00, 165.97it/s]\n",
      " 30%|███       | 52/173 [00:00<00:00, 168.95it/s]\n",
      " 40%|███▉      | 69/173 [00:00<00:00, 164.95it/s]\n",
      " 50%|████▉     | 86/173 [00:00<00:00, 161.08it/s]\n",
      " 60%|██████    | 104/173 [00:00<00:00, 165.52it/s]\n",
      " 70%|██████▉   | 121/173 [00:00<00:00, 158.48it/s]\n",
      " 79%|███████▉  | 137/173 [00:00<00:00, 158.49it/s]\n",
      " 89%|████████▉ | 154/173 [00:00<00:00, 159.97it/s]\n",
      "  0%|          | 0/50 [00:00<?, ?it/s]\n",
      "100%|██████████| 50/50 [00:00<00:00, 378.47it/s]\n",
      "  0%|          | 0/173 [00:00<?, ?it/s]\n",
      "  9%|▉         | 16/173 [00:00<00:01, 156.61it/s]\n"
     ]
    },
    {
     "name": "stdout",
     "output_type": "stream",
     "text": [
      "\u001b[2m\u001b[36m(func pid=8784)\u001b[0m \n",
      "\u001b[2m\u001b[36m(func pid=8784)\u001b[0m Epoch 74\n"
     ]
    },
    {
     "name": "stderr",
     "output_type": "stream",
     "text": [
      " 18%|█▊        | 32/173 [00:00<00:00, 157.27it/s]\n",
      " 29%|██▉       | 50/173 [00:00<00:00, 164.17it/s]\n",
      " 39%|███▊      | 67/173 [00:00<00:00, 165.19it/s]\n",
      " 49%|████▊     | 84/173 [00:00<00:00, 166.39it/s]\n",
      " 58%|█████▊    | 101/173 [00:00<00:00, 165.86it/s]\n",
      " 68%|██████▊   | 118/173 [00:00<00:00, 164.01it/s]\n",
      " 79%|███████▊  | 136/173 [00:00<00:00, 168.00it/s]\n",
      " 89%|████████▉ | 154/173 [00:00<00:00, 169.96it/s]\n",
      "100%|██████████| 173/173 [00:01<00:00, 167.28it/s]\n",
      "  0%|          | 0/50 [00:00<?, ?it/s]\n",
      " 78%|███████▊  | 39/50 [00:00<00:00, 382.97it/s]\n",
      "100%|██████████| 50/50 [00:00<00:00, 379.76it/s]\n",
      "  0%|          | 0/173 [00:00<?, ?it/s]\n",
      " 10%|▉         | 17/173 [00:00<00:00, 163.61it/s]\n"
     ]
    },
    {
     "name": "stdout",
     "output_type": "stream",
     "text": [
      "\u001b[2m\u001b[36m(func pid=8784)\u001b[0m \n",
      "\u001b[2m\u001b[36m(func pid=8784)\u001b[0m Epoch 75\n"
     ]
    },
    {
     "name": "stderr",
     "output_type": "stream",
     "text": [
      " 20%|█▉        | 34/173 [00:00<00:00, 161.48it/s]\n",
      " 29%|██▉       | 51/173 [00:00<00:00, 163.67it/s]\n",
      " 39%|███▉      | 68/173 [00:00<00:00, 165.04it/s]\n",
      " 50%|████▉     | 86/173 [00:00<00:00, 169.65it/s]\n",
      " 60%|██████    | 104/173 [00:00<00:00, 171.57it/s]\n",
      " 71%|███████   | 122/173 [00:00<00:00, 173.03it/s]\n",
      " 81%|████████  | 140/173 [00:00<00:00, 172.58it/s]\n",
      " 91%|█████████▏| 158/173 [00:00<00:00, 172.19it/s]\n",
      "100%|██████████| 173/173 [00:01<00:00, 169.54it/s]\n",
      "  0%|          | 0/50 [00:00<?, ?it/s]\n",
      "100%|██████████| 50/50 [00:00<00:00, 392.60it/s]\n",
      "  0%|          | 0/173 [00:00<?, ?it/s]\n",
      " 10%|█         | 18/173 [00:00<00:00, 170.75it/s]\n"
     ]
    },
    {
     "name": "stdout",
     "output_type": "stream",
     "text": [
      "\u001b[2m\u001b[36m(func pid=8784)\u001b[0m \n",
      "\u001b[2m\u001b[36m(func pid=8784)\u001b[0m Epoch 76\n"
     ]
    },
    {
     "name": "stderr",
     "output_type": "stream",
     "text": [
      " 21%|██        | 36/173 [00:00<00:00, 174.50it/s]\n",
      " 31%|███       | 54/173 [00:00<00:00, 175.17it/s]\n",
      " 42%|████▏     | 72/173 [00:00<00:00, 175.11it/s]\n",
      " 52%|█████▏    | 90/173 [00:00<00:00, 175.77it/s]\n",
      " 62%|██████▏   | 108/173 [00:00<00:00, 175.87it/s]\n",
      " 73%|███████▎  | 126/173 [00:00<00:00, 175.99it/s]\n",
      " 94%|█████████▎| 162/173 [00:00<00:00, 175.43it/s]\n",
      "100%|██████████| 173/173 [00:00<00:00, 174.89it/s]\n",
      "  0%|          | 0/50 [00:00<?, ?it/s]\n",
      "100%|██████████| 50/50 [00:00<00:00, 246.09it/s]\n",
      "  0%|          | 0/173 [00:00<?, ?it/s]\n",
      " 10%|▉         | 17/173 [00:00<00:00, 166.52it/s]\n"
     ]
    },
    {
     "name": "stdout",
     "output_type": "stream",
     "text": [
      "\u001b[2m\u001b[36m(func pid=8784)\u001b[0m \n",
      "\u001b[2m\u001b[36m(func pid=8784)\u001b[0m Epoch 77\n"
     ]
    },
    {
     "name": "stderr",
     "output_type": "stream",
     "text": [
      " 20%|█▉        | 34/173 [00:00<00:00, 163.25it/s]\n",
      " 29%|██▉       | 51/173 [00:00<00:00, 164.54it/s]\n",
      " 40%|███▉      | 69/173 [00:00<00:00, 167.32it/s]\n",
      " 50%|█████     | 87/173 [00:00<00:00, 170.68it/s]\n",
      " 61%|██████    | 105/173 [00:00<00:00, 171.43it/s]\n",
      " 71%|███████   | 123/173 [00:00<00:00, 167.76it/s]\n",
      " 82%|████████▏ | 141/173 [00:00<00:00, 170.97it/s]\n",
      " 92%|█████████▏| 159/173 [00:00<00:00, 170.08it/s]\n",
      "100%|██████████| 173/173 [00:01<00:00, 168.10it/s]\n",
      "  0%|          | 0/50 [00:00<?, ?it/s]\n",
      "100%|██████████| 50/50 [00:00<00:00, 341.67it/s]\n",
      "  0%|          | 0/173 [00:00<?, ?it/s]\n",
      " 10%|▉         | 17/173 [00:00<00:00, 162.87it/s]\n"
     ]
    },
    {
     "name": "stdout",
     "output_type": "stream",
     "text": [
      "\u001b[2m\u001b[36m(func pid=8784)\u001b[0m \n",
      "\u001b[2m\u001b[36m(func pid=8784)\u001b[0m Epoch 78\n"
     ]
    },
    {
     "name": "stderr",
     "output_type": "stream",
     "text": [
      " 20%|██        | 35/173 [00:00<00:00, 170.72it/s]\n",
      " 31%|███       | 53/173 [00:00<00:00, 171.26it/s]\n",
      " 41%|████      | 71/173 [00:00<00:00, 171.09it/s]\n",
      " 51%|█████▏    | 89/173 [00:00<00:00, 170.86it/s]\n",
      " 62%|██████▏   | 107/173 [00:00<00:00, 169.91it/s]\n",
      " 72%|███████▏  | 124/173 [00:00<00:00, 169.51it/s]\n",
      " 82%|████████▏ | 142/173 [00:00<00:00, 169.95it/s]\n",
      "100%|██████████| 173/173 [00:01<00:00, 170.04it/s]\n",
      "  0%|          | 0/50 [00:00<?, ?it/s]\n",
      "100%|██████████| 50/50 [00:00<00:00, 349.32it/s]\n",
      "  0%|          | 0/173 [00:00<?, ?it/s]\n",
      "  9%|▉         | 16/173 [00:00<00:00, 159.26it/s]\n"
     ]
    },
    {
     "name": "stdout",
     "output_type": "stream",
     "text": [
      "\u001b[2m\u001b[36m(func pid=8784)\u001b[0m \n",
      "\u001b[2m\u001b[36m(func pid=8784)\u001b[0m Epoch 79\n"
     ]
    },
    {
     "name": "stderr",
     "output_type": "stream",
     "text": [
      " 19%|█▉        | 33/173 [00:00<00:00, 161.56it/s]\n",
      " 29%|██▉       | 51/173 [00:00<00:00, 167.19it/s]\n",
      " 50%|█████     | 87/173 [00:00<00:00, 170.68it/s]\n",
      " 61%|██████    | 105/173 [00:00<00:00, 170.83it/s]\n",
      " 71%|███████   | 123/173 [00:00<00:00, 171.59it/s]\n",
      " 82%|████████▏ | 141/173 [00:00<00:00, 171.45it/s]\n",
      " 92%|█████████▏| 159/173 [00:00<00:00, 171.54it/s]\n",
      "100%|██████████| 173/173 [00:01<00:00, 168.83it/s]\n",
      "  0%|          | 0/50 [00:00<?, ?it/s]\n",
      "100%|██████████| 50/50 [00:00<00:00, 375.31it/s]\n",
      "  0%|          | 0/173 [00:00<?, ?it/s]\n"
     ]
    },
    {
     "name": "stdout",
     "output_type": "stream",
     "text": [
      "\u001b[2m\u001b[36m(func pid=8784)\u001b[0m \n",
      "\u001b[2m\u001b[36m(func pid=8784)\u001b[0m Epoch 80\n"
     ]
    },
    {
     "name": "stderr",
     "output_type": "stream",
     "text": [
      " 10%|▉         | 17/173 [00:00<00:00, 166.54it/s]\n",
      " 20%|█▉        | 34/173 [00:00<00:00, 167.78it/s]\n",
      " 29%|██▉       | 51/173 [00:00<00:00, 168.50it/s]\n",
      " 40%|███▉      | 69/173 [00:00<00:00, 169.29it/s]\n",
      " 50%|████▉     | 86/173 [00:00<00:00, 160.91it/s]\n",
      " 60%|█████▉    | 103/173 [00:00<00:00, 161.22it/s]\n",
      " 70%|██████▉   | 121/173 [00:00<00:00, 164.62it/s]\n",
      " 80%|████████  | 139/173 [00:00<00:00, 167.81it/s]\n",
      " 91%|█████████ | 157/173 [00:00<00:00, 169.89it/s]\n",
      "100%|██████████| 173/173 [00:01<00:00, 167.11it/s]\n",
      "  0%|          | 0/50 [00:00<?, ?it/s]\n",
      " 72%|███████▏  | 36/50 [00:00<00:00, 357.69it/s]\n",
      "100%|██████████| 50/50 [00:00<00:00, 362.18it/s]\n",
      "  0%|          | 0/173 [00:00<?, ?it/s]\n"
     ]
    },
    {
     "name": "stdout",
     "output_type": "stream",
     "text": [
      "\u001b[2m\u001b[36m(func pid=8784)\u001b[0m Epoch 00080: reducing learning rate of group 0 to 1.4521e-04.\n",
      "\u001b[2m\u001b[36m(func pid=8784)\u001b[0m \n",
      "\u001b[2m\u001b[36m(func pid=8784)\u001b[0m Epoch 81\n"
     ]
    },
    {
     "name": "stderr",
     "output_type": "stream",
     "text": [
      "  9%|▉         | 16/173 [00:00<00:00, 157.10it/s]\n",
      " 19%|█▉        | 33/173 [00:00<00:00, 163.56it/s]\n",
      " 29%|██▉       | 51/173 [00:00<00:00, 169.33it/s]\n",
      " 39%|███▉      | 68/173 [00:00<00:00, 169.20it/s]\n",
      " 50%|████▉     | 86/173 [00:00<00:00, 171.80it/s]\n",
      " 60%|██████    | 104/173 [00:00<00:00, 167.02it/s]\n",
      " 71%|███████   | 122/173 [00:00<00:00, 169.12it/s]\n",
      " 80%|████████  | 139/173 [00:00<00:00, 168.43it/s]\n",
      " 20%|██        | 10/50 [00:00<00:00, 97.43it/s]\n",
      "100%|██████████| 50/50 [00:00<00:00, 239.55it/s]\n",
      "  0%|          | 0/173 [00:00<?, ?it/s]\n",
      " 10%|▉         | 17/173 [00:00<00:00, 169.05it/s]\n"
     ]
    },
    {
     "name": "stdout",
     "output_type": "stream",
     "text": [
      "\u001b[2m\u001b[36m(func pid=8784)\u001b[0m \n",
      "\u001b[2m\u001b[36m(func pid=8784)\u001b[0m Epoch 82\n"
     ]
    },
    {
     "name": "stderr",
     "output_type": "stream",
     "text": [
      " 20%|█▉        | 34/173 [00:00<00:00, 165.50it/s]\n",
      " 29%|██▉       | 51/173 [00:00<00:00, 166.08it/s]\n",
      " 40%|███▉      | 69/173 [00:00<00:00, 167.80it/s]\n",
      " 50%|████▉     | 86/173 [00:00<00:00, 168.43it/s]\n",
      " 60%|██████    | 104/173 [00:00<00:00, 169.46it/s]\n",
      " 71%|███████   | 122/173 [00:00<00:00, 169.49it/s]\n",
      " 81%|████████  | 140/173 [00:00<00:00, 171.84it/s]\n",
      " 91%|█████████▏| 158/173 [00:00<00:00, 171.49it/s]\n",
      "100%|██████████| 173/173 [00:01<00:00, 170.03it/s]\n",
      "  0%|          | 0/50 [00:00<?, ?it/s]\n",
      "100%|██████████| 50/50 [00:00<00:00, 376.74it/s]\n",
      "  0%|          | 0/173 [00:00<?, ?it/s]\n",
      " 10%|▉         | 17/173 [00:00<00:00, 167.98it/s]\n",
      " 20%|██        | 35/173 [00:00<00:00, 170.61it/s]\n"
     ]
    },
    {
     "name": "stdout",
     "output_type": "stream",
     "text": [
      "\u001b[2m\u001b[36m(func pid=8784)\u001b[0m \n",
      "\u001b[2m\u001b[36m(func pid=8784)\u001b[0m Epoch 83\n"
     ]
    },
    {
     "name": "stderr",
     "output_type": "stream",
     "text": [
      " 31%|███       | 53/173 [00:00<00:00, 171.44it/s]\n",
      " 41%|████      | 71/173 [00:00<00:00, 171.51it/s]\n",
      " 51%|█████▏    | 89/173 [00:00<00:00, 171.43it/s]\n",
      " 62%|██████▏   | 107/173 [00:00<00:00, 170.82it/s]\n",
      " 72%|███████▏  | 125/173 [00:00<00:00, 171.57it/s]\n",
      " 83%|████████▎ | 143/173 [00:00<00:00, 171.03it/s]\n",
      " 93%|█████████▎| 161/173 [00:00<00:00, 169.80it/s]\n",
      "100%|██████████| 173/173 [00:01<00:00, 170.61it/s]\n",
      "  0%|          | 0/50 [00:00<?, ?it/s]\n",
      " 78%|███████▊  | 39/50 [00:00<00:00, 386.10it/s]\n",
      "100%|██████████| 50/50 [00:00<00:00, 382.75it/s]\n",
      "  0%|          | 0/173 [00:00<?, ?it/s]\n",
      "  8%|▊         | 13/173 [00:00<00:01, 129.56it/s]\n"
     ]
    },
    {
     "name": "stdout",
     "output_type": "stream",
     "text": [
      "\u001b[2m\u001b[36m(func pid=8784)\u001b[0m \n",
      "\u001b[2m\u001b[36m(func pid=8784)\u001b[0m Epoch 84\n"
     ]
    },
    {
     "name": "stderr",
     "output_type": "stream",
     "text": [
      " 17%|█▋        | 30/173 [00:00<00:00, 152.80it/s]\n",
      " 27%|██▋       | 46/173 [00:00<00:00, 154.32it/s]\n",
      " 36%|███▌      | 62/173 [00:00<00:00, 153.53it/s]\n",
      " 45%|████▌     | 78/173 [00:00<00:00, 154.21it/s]\n",
      " 55%|█████▍    | 95/173 [00:00<00:00, 156.35it/s]\n",
      " 65%|██████▌   | 113/173 [00:00<00:00, 161.43it/s]\n",
      " 75%|███████▌  | 130/173 [00:00<00:00, 163.61it/s]\n",
      " 85%|████████▍ | 147/173 [00:00<00:00, 164.50it/s]\n",
      "100%|██████████| 173/173 [00:01<00:00, 159.99it/s]\n",
      "  0%|          | 0/50 [00:00<?, ?it/s]\n",
      "100%|██████████| 50/50 [00:00<00:00, 382.63it/s]\n",
      "  0%|          | 0/173 [00:00<?, ?it/s]\n",
      " 10%|█         | 18/173 [00:00<00:00, 171.71it/s]\n"
     ]
    },
    {
     "name": "stdout",
     "output_type": "stream",
     "text": [
      "\u001b[2m\u001b[36m(func pid=8784)\u001b[0m \n",
      "\u001b[2m\u001b[36m(func pid=8784)\u001b[0m Epoch 85\n"
     ]
    },
    {
     "name": "stderr",
     "output_type": "stream",
     "text": [
      " 21%|██        | 36/173 [00:00<00:00, 169.71it/s]\n",
      " 31%|███       | 53/173 [00:00<00:00, 169.74it/s]\n",
      " 40%|████      | 70/173 [00:00<00:00, 169.04it/s]\n",
      " 51%|█████     | 88/173 [00:00<00:00, 169.84it/s]\n",
      " 61%|██████▏   | 106/173 [00:00<00:00, 170.02it/s]\n",
      " 72%|███████▏  | 124/173 [00:00<00:00, 169.81it/s]\n",
      "100%|██████████| 173/173 [00:01<00:00, 169.57it/s]\n",
      "  0%|          | 0/50 [00:00<?, ?it/s]\n",
      " 76%|███████▌  | 38/50 [00:00<00:00, 379.96it/s]\n",
      "100%|██████████| 50/50 [00:00<00:00, 381.80it/s]\n",
      "  0%|          | 0/173 [00:00<?, ?it/s]\n",
      " 10%|█         | 18/173 [00:00<00:00, 171.95it/s]\n"
     ]
    },
    {
     "name": "stdout",
     "output_type": "stream",
     "text": [
      "\u001b[2m\u001b[36m(func pid=8784)\u001b[0m \n",
      "\u001b[2m\u001b[36m(func pid=8784)\u001b[0m Epoch 86\n"
     ]
    },
    {
     "name": "stderr",
     "output_type": "stream",
     "text": [
      " 21%|██        | 36/173 [00:00<00:00, 169.27it/s]\n",
      " 31%|███       | 54/173 [00:00<00:00, 170.50it/s]\n",
      " 42%|████▏     | 72/173 [00:00<00:00, 170.86it/s]\n",
      " 52%|█████▏    | 90/173 [00:00<00:00, 169.92it/s]\n",
      " 62%|██████▏   | 107/173 [00:00<00:00, 168.70it/s]\n",
      " 72%|███████▏  | 125/173 [00:00<00:00, 169.24it/s]\n",
      " 83%|████████▎ | 143/173 [00:00<00:00, 169.93it/s]\n",
      " 92%|█████████▏| 160/173 [00:00<00:00, 169.93it/s]\n",
      "100%|██████████| 173/173 [00:01<00:00, 158.30it/s]\n",
      "  0%|          | 0/50 [00:00<?, ?it/s]\n",
      "100%|██████████| 50/50 [00:00<00:00, 385.53it/s]\n",
      "  0%|          | 0/173 [00:00<?, ?it/s]\n",
      " 10%|▉         | 17/173 [00:00<00:00, 166.45it/s]\n"
     ]
    },
    {
     "name": "stdout",
     "output_type": "stream",
     "text": [
      "\u001b[2m\u001b[36m(func pid=8784)\u001b[0m Epoch 00086: reducing learning rate of group 0 to 7.2604e-05.\n",
      "\u001b[2m\u001b[36m(func pid=8784)\u001b[0m \n",
      "\u001b[2m\u001b[36m(func pid=8784)\u001b[0m Epoch 87\n"
     ]
    },
    {
     "name": "stderr",
     "output_type": "stream",
     "text": [
      " 20%|█▉        | 34/173 [00:00<00:00, 166.66it/s]\n",
      " 29%|██▉       | 51/173 [00:00<00:00, 167.53it/s]\n",
      " 40%|███▉      | 69/173 [00:00<00:00, 169.50it/s]\n",
      " 50%|████▉     | 86/173 [00:00<00:00, 167.44it/s]\n",
      " 60%|█████▉    | 103/173 [00:00<00:00, 167.22it/s]\n",
      " 69%|██████▉   | 120/173 [00:00<00:00, 164.08it/s]\n",
      " 79%|███████▉  | 137/173 [00:00<00:00, 162.20it/s]\n",
      " 89%|████████▉ | 154/173 [00:00<00:00, 160.69it/s]\n",
      "100%|██████████| 173/173 [00:01<00:00, 164.92it/s]\n",
      " 78%|███████▊  | 39/50 [00:00<00:00, 379.47it/s]\n",
      "100%|██████████| 50/50 [00:00<00:00, 379.42it/s]\n",
      "  0%|          | 0/173 [00:00<?, ?it/s]\n",
      " 10%|▉         | 17/173 [00:00<00:00, 163.16it/s]\n"
     ]
    },
    {
     "name": "stdout",
     "output_type": "stream",
     "text": [
      "\u001b[2m\u001b[36m(func pid=8784)\u001b[0m \n",
      "\u001b[2m\u001b[36m(func pid=8784)\u001b[0m Epoch 88\n"
     ]
    },
    {
     "name": "stderr",
     "output_type": "stream",
     "text": [
      " 20%|█▉        | 34/173 [00:00<00:00, 166.55it/s]\n",
      " 29%|██▉       | 51/173 [00:00<00:00, 167.81it/s]\n",
      " 40%|███▉      | 69/173 [00:00<00:00, 170.01it/s]\n",
      " 50%|████▉     | 86/173 [00:00<00:00, 169.48it/s]\n",
      " 60%|█████▉    | 103/173 [00:00<00:00, 167.84it/s]\n",
      " 69%|██████▉   | 120/173 [00:00<00:00, 167.99it/s]\n",
      " 80%|███████▉  | 138/173 [00:00<00:00, 169.20it/s]\n",
      " 90%|████████▉ | 155/173 [00:00<00:00, 165.91it/s]\n",
      "100%|██████████| 173/173 [00:01<00:00, 166.17it/s]\n",
      "  0%|          | 0/50 [00:00<?, ?it/s]\n",
      "100%|██████████| 50/50 [00:00<00:00, 381.16it/s]\n",
      "  0%|          | 0/173 [00:00<?, ?it/s]\n",
      " 10%|▉         | 17/173 [00:00<00:00, 169.92it/s]\n"
     ]
    },
    {
     "name": "stdout",
     "output_type": "stream",
     "text": [
      "\u001b[2m\u001b[36m(func pid=8784)\u001b[0m \n",
      "\u001b[2m\u001b[36m(func pid=8784)\u001b[0m Epoch 89\n"
     ]
    },
    {
     "name": "stderr",
     "output_type": "stream",
     "text": [
      " 20%|██        | 35/173 [00:00<00:00, 174.86it/s]\n",
      " 31%|███       | 53/173 [00:00<00:00, 173.99it/s]\n",
      " 41%|████      | 71/173 [00:00<00:00, 173.85it/s]\n",
      " 51%|█████▏    | 89/173 [00:00<00:00, 174.05it/s]\n",
      " 62%|██████▏   | 107/173 [00:00<00:00, 174.37it/s]\n",
      " 72%|███████▏  | 125/173 [00:00<00:00, 172.63it/s]\n",
      "  0%|          | 0/50 [00:00<?, ?it/s]\n",
      "100%|██████████| 50/50 [00:00<00:00, 334.81it/s]\n",
      "  0%|          | 0/173 [00:00<?, ?it/s]\n",
      "  9%|▉         | 16/173 [00:00<00:01, 152.08it/s]\n"
     ]
    },
    {
     "name": "stdout",
     "output_type": "stream",
     "text": [
      "\u001b[2m\u001b[36m(func pid=8784)\u001b[0m \n",
      "\u001b[2m\u001b[36m(func pid=8784)\u001b[0m Epoch 90\n"
     ]
    },
    {
     "name": "stderr",
     "output_type": "stream",
     "text": [
      " 19%|█▉        | 33/173 [00:00<00:00, 159.16it/s]\n",
      " 29%|██▉       | 50/173 [00:00<00:00, 162.78it/s]\n",
      " 39%|███▊      | 67/173 [00:00<00:00, 163.98it/s]\n",
      " 49%|████▉     | 85/173 [00:00<00:00, 166.83it/s]\n",
      " 60%|█████▉    | 103/173 [00:00<00:00, 168.84it/s]\n",
      " 69%|██████▉   | 120/173 [00:00<00:00, 169.05it/s]\n",
      " 80%|███████▉  | 138/173 [00:00<00:00, 169.92it/s]\n",
      " 90%|████████▉ | 155/173 [00:00<00:00, 168.73it/s]\n",
      "100%|██████████| 173/173 [00:01<00:00, 167.50it/s]\n",
      "  0%|          | 0/50 [00:00<?, ?it/s]\n",
      "100%|██████████| 50/50 [00:00<00:00, 387.46it/s]\n",
      "  0%|          | 0/173 [00:00<?, ?it/s]\n"
     ]
    },
    {
     "name": "stdout",
     "output_type": "stream",
     "text": [
      "\u001b[2m\u001b[36m(func pid=8784)\u001b[0m \n",
      "\u001b[2m\u001b[36m(func pid=8784)\u001b[0m Epoch 91\n"
     ]
    },
    {
     "name": "stderr",
     "output_type": "stream",
     "text": [
      " 10%|▉         | 17/173 [00:00<00:00, 167.67it/s]\n",
      " 20%|█▉        | 34/173 [00:00<00:00, 167.98it/s]\n",
      " 29%|██▉       | 51/173 [00:00<00:00, 165.94it/s]\n",
      " 39%|███▉      | 68/173 [00:00<00:00, 166.15it/s]\n",
      " 50%|████▉     | 86/173 [00:00<00:00, 168.82it/s]\n",
      " 60%|██████    | 104/173 [00:00<00:00, 170.13it/s]\n",
      " 71%|███████   | 122/173 [00:00<00:00, 163.76it/s]\n",
      " 80%|████████  | 139/173 [00:00<00:00, 162.36it/s]\n",
      " 90%|█████████ | 156/173 [00:01<00:00, 132.33it/s]\n",
      "100%|██████████| 173/173 [00:01<00:00, 153.30it/s]\n",
      "  0%|          | 0/50 [00:00<?, ?it/s]\n",
      " 76%|███████▌  | 38/50 [00:00<00:00, 376.17it/s]\n",
      "100%|██████████| 50/50 [00:00<00:00, 376.37it/s]\n",
      "  0%|          | 0/173 [00:00<?, ?it/s]\n"
     ]
    },
    {
     "name": "stdout",
     "output_type": "stream",
     "text": [
      "\u001b[2m\u001b[36m(func pid=8784)\u001b[0m \n",
      "\u001b[2m\u001b[36m(func pid=8784)\u001b[0m Epoch 92\n"
     ]
    },
    {
     "name": "stderr",
     "output_type": "stream",
     "text": [
      " 10%|▉         | 17/173 [00:00<00:00, 168.29it/s]\n",
      " 20%|█▉        | 34/173 [00:00<00:00, 165.41it/s]\n",
      " 29%|██▉       | 51/173 [00:00<00:00, 165.18it/s]\n",
      " 39%|███▉      | 68/173 [00:00<00:00, 166.32it/s]\n",
      " 49%|████▉     | 85/173 [00:00<00:00, 167.31it/s]\n",
      " 59%|█████▉    | 102/173 [00:00<00:00, 168.05it/s]\n",
      " 69%|██████▉   | 120/173 [00:00<00:00, 169.26it/s]\n",
      " 80%|███████▉  | 138/173 [00:00<00:00, 170.96it/s]\n",
      " 90%|█████████ | 156/173 [00:00<00:00, 170.92it/s]\n",
      "100%|██████████| 173/173 [00:01<00:00, 168.98it/s]\n",
      "  0%|          | 0/50 [00:00<?, ?it/s]\n",
      "100%|██████████| 50/50 [00:00<00:00, 371.24it/s]\n",
      "  0%|          | 0/173 [00:00<?, ?it/s]\n"
     ]
    },
    {
     "name": "stdout",
     "output_type": "stream",
     "text": [
      "\u001b[2m\u001b[36m(func pid=8784)\u001b[0m Epoch 00092: reducing learning rate of group 0 to 3.6302e-05.\n",
      "\u001b[2m\u001b[36m(func pid=8784)\u001b[0m \n",
      "\u001b[2m\u001b[36m(func pid=8784)\u001b[0m Epoch 93\n"
     ]
    },
    {
     "name": "stderr",
     "output_type": "stream",
     "text": [
      " 10%|▉         | 17/173 [00:00<00:00, 164.69it/s]\n",
      " 20%|█▉        | 34/173 [00:00<00:00, 159.53it/s]\n",
      " 30%|███       | 52/173 [00:00<00:00, 164.44it/s]\n",
      " 40%|████      | 70/173 [00:00<00:00, 166.90it/s]\n",
      " 51%|█████     | 88/173 [00:00<00:00, 168.58it/s]\n",
      " 61%|██████    | 105/173 [00:00<00:00, 168.44it/s]\n",
      " 71%|███████   | 122/173 [00:00<00:00, 168.54it/s]\n",
      " 80%|████████  | 139/173 [00:00<00:00, 168.08it/s]\n",
      "100%|██████████| 173/173 [00:01<00:00, 165.11it/s]\n",
      "  0%|          | 0/50 [00:00<?, ?it/s]\n",
      "100%|██████████| 50/50 [00:00<00:00, 359.65it/s]\n",
      "  0%|          | 0/173 [00:00<?, ?it/s]\n",
      " 10%|▉         | 17/173 [00:00<00:00, 162.76it/s]\n"
     ]
    },
    {
     "name": "stdout",
     "output_type": "stream",
     "text": [
      "\u001b[2m\u001b[36m(func pid=8784)\u001b[0m \n",
      "\u001b[2m\u001b[36m(func pid=8784)\u001b[0m Epoch 94\n"
     ]
    },
    {
     "name": "stderr",
     "output_type": "stream",
     "text": [
      " 20%|█▉        | 34/173 [00:00<00:00, 163.06it/s]\n",
      " 29%|██▉       | 51/173 [00:00<00:00, 165.66it/s]\n",
      " 40%|███▉      | 69/173 [00:00<00:00, 168.84it/s]\n",
      " 50%|████▉     | 86/173 [00:00<00:00, 164.64it/s]\n",
      " 60%|█████▉    | 103/173 [00:00<00:00, 164.31it/s]\n",
      " 69%|██████▉   | 120/173 [00:00<00:00, 165.40it/s]\n",
      " 79%|███████▉  | 137/173 [00:00<00:00, 166.36it/s]\n",
      " 90%|████████▉ | 155/173 [00:00<00:00, 168.13it/s]\n",
      "100%|██████████| 173/173 [00:01<00:00, 167.13it/s]\n",
      "  0%|          | 0/50 [00:00<?, ?it/s]\n",
      "100%|██████████| 50/50 [00:00<00:00, 383.48it/s]\n",
      "  0%|          | 0/173 [00:00<?, ?it/s]\n",
      " 10%|▉         | 17/173 [00:00<00:00, 168.59it/s]\n"
     ]
    },
    {
     "name": "stdout",
     "output_type": "stream",
     "text": [
      "\u001b[2m\u001b[36m(func pid=8784)\u001b[0m \n",
      "\u001b[2m\u001b[36m(func pid=8784)\u001b[0m Epoch 95\n"
     ]
    },
    {
     "name": "stderr",
     "output_type": "stream",
     "text": [
      " 20%|█▉        | 34/173 [00:00<00:00, 162.33it/s]\n",
      " 29%|██▉       | 51/173 [00:00<00:00, 152.65it/s]\n",
      " 39%|███▉      | 68/173 [00:00<00:00, 156.45it/s]\n",
      " 50%|████▉     | 86/173 [00:00<00:00, 161.85it/s]\n",
      " 60%|██████    | 104/173 [00:00<00:00, 165.00it/s]\n",
      " 70%|██████▉   | 121/173 [00:00<00:00, 165.00it/s]\n",
      " 80%|███████▉  | 138/173 [00:00<00:00, 163.50it/s]\n",
      " 90%|████████▉ | 155/173 [00:00<00:00, 163.91it/s]\n",
      "100%|██████████| 173/173 [00:01<00:00, 162.74it/s]\n",
      "  0%|          | 0/50 [00:00<?, ?it/s]\n",
      "100%|██████████| 50/50 [00:00<00:00, 389.12it/s]\n",
      "  0%|          | 0/173 [00:00<?, ?it/s]\n",
      " 10%|▉         | 17/173 [00:00<00:00, 166.55it/s]\n"
     ]
    },
    {
     "name": "stdout",
     "output_type": "stream",
     "text": [
      "\u001b[2m\u001b[36m(func pid=8784)\u001b[0m \n",
      "\u001b[2m\u001b[36m(func pid=8784)\u001b[0m Epoch 96\n"
     ]
    },
    {
     "name": "stderr",
     "output_type": "stream",
     "text": [
      " 20%|██        | 35/173 [00:00<00:00, 170.40it/s]\n",
      " 31%|███       | 53/173 [00:00<00:00, 169.97it/s]\n",
      " 41%|████      | 71/173 [00:00<00:00, 170.84it/s]\n",
      " 51%|█████▏    | 89/173 [00:00<00:00, 170.40it/s]\n",
      " 62%|██████▏   | 107/173 [00:00<00:00, 169.55it/s]\n",
      " 72%|███████▏  | 125/173 [00:00<00:00, 170.16it/s]\n",
      " 83%|████████▎ | 143/173 [00:00<00:00, 139.34it/s]\n",
      " 93%|█████████▎| 161/173 [00:01<00:00, 147.70it/s]\n",
      "100%|██████████| 173/173 [00:01<00:00, 158.52it/s]\n",
      "  0%|          | 0/50 [00:00<?, ?it/s]\n",
      " 76%|███████▌  | 38/50 [00:00<00:00, 377.10it/s]\n",
      "100%|██████████| 50/50 [00:00<00:00, 375.73it/s]\n",
      "  0%|          | 0/173 [00:00<?, ?it/s]\n"
     ]
    },
    {
     "name": "stdout",
     "output_type": "stream",
     "text": [
      "\u001b[2m\u001b[36m(func pid=8784)\u001b[0m \n",
      "\u001b[2m\u001b[36m(func pid=8784)\u001b[0m Epoch 97\n"
     ]
    },
    {
     "name": "stderr",
     "output_type": "stream",
     "text": [
      " 10%|▉         | 17/173 [00:00<00:00, 168.15it/s]\n",
      " 20%|██        | 35/173 [00:00<00:00, 169.35it/s]\n",
      " 31%|███       | 53/173 [00:00<00:00, 171.89it/s]\n",
      " 41%|████      | 71/173 [00:00<00:00, 172.58it/s]\n",
      " 51%|█████▏    | 89/173 [00:00<00:00, 172.63it/s]\n",
      " 62%|██████▏   | 107/173 [00:00<00:00, 170.50it/s]\n",
      " 72%|███████▏  | 125/173 [00:00<00:00, 166.12it/s]\n",
      " 82%|████████▏ | 142/173 [00:00<00:00, 162.85it/s]\n",
      "  0%|          | 0/50 [00:00<?, ?it/s]\n",
      "100%|██████████| 50/50 [00:00<00:00, 347.45it/s]\n",
      "  0%|          | 0/173 [00:00<?, ?it/s]\n"
     ]
    },
    {
     "name": "stdout",
     "output_type": "stream",
     "text": [
      "\u001b[2m\u001b[36m(func pid=8784)\u001b[0m \n",
      "\u001b[2m\u001b[36m(func pid=8784)\u001b[0m Epoch 98\n"
     ]
    },
    {
     "name": "stderr",
     "output_type": "stream",
     "text": [
      " 10%|▉         | 17/173 [00:00<00:00, 167.44it/s]\n",
      " 20%|██        | 35/173 [00:00<00:00, 169.60it/s]\n",
      " 31%|███       | 53/173 [00:00<00:00, 171.57it/s]\n",
      " 41%|████      | 71/173 [00:00<00:00, 170.58it/s]\n",
      " 51%|█████▏    | 89/173 [00:00<00:00, 170.19it/s]\n",
      " 62%|██████▏   | 107/173 [00:00<00:00, 170.99it/s]\n",
      " 72%|███████▏  | 125/173 [00:00<00:00, 171.82it/s]\n",
      " 83%|████████▎ | 143/173 [00:00<00:00, 169.54it/s]\n",
      " 92%|█████████▏| 160/173 [00:00<00:00, 168.23it/s]\n",
      "100%|██████████| 173/173 [00:01<00:00, 169.28it/s]\n",
      "  0%|          | 0/50 [00:00<?, ?it/s]\n",
      " 76%|███████▌  | 38/50 [00:00<00:00, 371.74it/s]\n",
      "100%|██████████| 50/50 [00:00<00:00, 371.07it/s]\n",
      "  0%|          | 0/173 [00:00<?, ?it/s]\n"
     ]
    },
    {
     "name": "stdout",
     "output_type": "stream",
     "text": [
      "\u001b[2m\u001b[36m(func pid=8784)\u001b[0m Epoch 00098: reducing learning rate of group 0 to 1.8151e-05.\n",
      "\u001b[2m\u001b[36m(func pid=8784)\u001b[0m \n",
      "\u001b[2m\u001b[36m(func pid=8784)\u001b[0m Epoch 99\n"
     ]
    },
    {
     "name": "stderr",
     "output_type": "stream",
     "text": [
      " 10%|▉         | 17/173 [00:00<00:00, 168.83it/s]\n",
      " 20%|█▉        | 34/173 [00:00<00:00, 169.16it/s]\n",
      " 29%|██▉       | 51/173 [00:00<00:00, 164.49it/s]\n",
      " 39%|███▉      | 68/173 [00:00<00:00, 158.03it/s]\n",
      " 50%|████▉     | 86/173 [00:00<00:00, 162.15it/s]\n",
      " 60%|█████▉    | 103/173 [00:00<00:00, 164.48it/s]\n",
      " 69%|██████▉   | 120/173 [00:00<00:00, 164.98it/s]\n",
      " 80%|███████▉  | 138/173 [00:00<00:00, 167.03it/s]\n",
      " 90%|████████▉ | 155/173 [00:00<00:00, 167.10it/s]\n",
      "100%|██████████| 173/173 [00:01<00:00, 165.41it/s]\n",
      "  0%|          | 0/50 [00:00<?, ?it/s]\n",
      " 74%|███████▍  | 37/50 [00:00<00:00, 368.93it/s]\n",
      "100%|██████████| 50/50 [00:00<00:00, 370.64it/s]\n",
      "  0%|          | 0/173 [00:00<?, ?it/s]\n"
     ]
    },
    {
     "name": "stdout",
     "output_type": "stream",
     "text": [
      "\u001b[2m\u001b[36m(func pid=8784)\u001b[0m \n",
      "\u001b[2m\u001b[36m(func pid=8784)\u001b[0m Epoch 100\n"
     ]
    },
    {
     "name": "stderr",
     "output_type": "stream",
     "text": [
      " 10%|▉         | 17/173 [00:00<00:00, 166.70it/s]\n",
      " 20%|█▉        | 34/173 [00:00<00:00, 166.55it/s]\n",
      " 29%|██▉       | 51/173 [00:00<00:00, 165.62it/s]\n",
      " 39%|███▉      | 68/173 [00:00<00:00, 163.55it/s]\n",
      " 50%|████▉     | 86/173 [00:00<00:00, 166.03it/s]\n",
      " 60%|█████▉    | 103/173 [00:00<00:00, 167.28it/s]\n",
      " 70%|██████▉   | 121/173 [00:00<00:00, 168.10it/s]\n",
      " 80%|███████▉  | 138/173 [00:00<00:00, 166.19it/s]\n",
      " 90%|████████▉ | 155/173 [00:00<00:00, 164.72it/s]\n",
      "100%|██████████| 173/173 [00:01<00:00, 165.45it/s]\n",
      "  0%|          | 0/50 [00:00<?, ?it/s]\n",
      " 76%|███████▌  | 38/50 [00:00<00:00, 376.23it/s]\n",
      "100%|██████████| 50/50 [00:00<00:00, 376.93it/s]\n",
      "  0%|          | 0/173 [00:00<?, ?it/s]\n"
     ]
    },
    {
     "name": "stdout",
     "output_type": "stream",
     "text": [
      "\u001b[2m\u001b[36m(func pid=8784)\u001b[0m \n",
      "\u001b[2m\u001b[36m(func pid=8784)\u001b[0m Epoch 101\n"
     ]
    },
    {
     "name": "stderr",
     "output_type": "stream",
     "text": [
      " 10%|▉         | 17/173 [00:00<00:00, 168.40it/s]\n",
      " 20%|██        | 35/173 [00:00<00:00, 170.36it/s]\n",
      " 31%|███       | 53/173 [00:00<00:00, 173.10it/s]\n",
      " 41%|████      | 71/173 [00:00<00:00, 159.06it/s]\n",
      " 51%|█████     | 88/173 [00:00<00:00, 162.15it/s]\n",
      " 61%|██████    | 105/173 [00:00<00:00, 160.96it/s]\n",
      " 71%|███████   | 122/173 [00:00<00:00, 128.65it/s]\n",
      " 80%|████████  | 139/173 [00:00<00:00, 138.59it/s]\n",
      "100%|██████████| 173/173 [00:01<00:00, 152.18it/s]\n",
      "  0%|          | 0/50 [00:00<?, ?it/s]\n",
      " 76%|███████▌  | 38/50 [00:00<00:00, 373.12it/s]\n",
      "100%|██████████| 50/50 [00:00<00:00, 370.63it/s]\n",
      "  0%|          | 0/173 [00:00<?, ?it/s]\n",
      " 10%|▉         | 17/173 [00:00<00:00, 165.34it/s]\n"
     ]
    },
    {
     "name": "stdout",
     "output_type": "stream",
     "text": [
      "\u001b[2m\u001b[36m(func pid=8784)\u001b[0m \n",
      "\u001b[2m\u001b[36m(func pid=8784)\u001b[0m Epoch 102\n"
     ]
    },
    {
     "name": "stderr",
     "output_type": "stream",
     "text": [
      " 20%|█▉        | 34/173 [00:00<00:00, 162.13it/s]\n",
      " 30%|███       | 52/173 [00:00<00:00, 166.58it/s]\n",
      " 40%|████      | 70/173 [00:00<00:00, 169.23it/s]\n",
      " 50%|█████     | 87/173 [00:00<00:00, 169.29it/s]\n",
      " 60%|██████    | 104/173 [00:00<00:00, 166.47it/s]\n",
      " 71%|███████   | 122/173 [00:00<00:00, 168.05it/s]\n",
      " 80%|████████  | 139/173 [00:00<00:00, 168.04it/s]\n",
      " 91%|█████████ | 157/173 [00:00<00:00, 170.60it/s]\n",
      "100%|██████████| 173/173 [00:01<00:00, 168.14it/s]\n",
      "  0%|          | 0/50 [00:00<?, ?it/s]\n",
      " 72%|███████▏  | 36/50 [00:00<00:00, 354.27it/s]\n",
      "100%|██████████| 50/50 [00:00<00:00, 353.56it/s]\n",
      "  0%|          | 0/173 [00:00<?, ?it/s]\n",
      "  9%|▉         | 16/173 [00:00<00:01, 155.62it/s]\n"
     ]
    },
    {
     "name": "stdout",
     "output_type": "stream",
     "text": [
      "\u001b[2m\u001b[36m(func pid=8784)\u001b[0m \n",
      "\u001b[2m\u001b[36m(func pid=8784)\u001b[0m Epoch 103\n"
     ]
    },
    {
     "name": "stderr",
     "output_type": "stream",
     "text": [
      " 18%|█▊        | 32/173 [00:00<00:00, 157.28it/s]\n",
      " 28%|██▊       | 48/173 [00:00<00:00, 153.11it/s]\n",
      " 38%|███▊      | 65/173 [00:00<00:00, 155.78it/s]\n",
      " 47%|████▋     | 81/173 [00:00<00:00, 152.96it/s]\n",
      " 57%|█████▋    | 98/173 [00:00<00:00, 158.41it/s]\n",
      " 67%|██████▋   | 116/173 [00:00<00:00, 161.04it/s]\n",
      " 77%|███████▋  | 133/173 [00:00<00:00, 163.61it/s]\n",
      " 87%|████████▋ | 150/173 [00:00<00:00, 159.97it/s]\n",
      "100%|██████████| 173/173 [00:01<00:00, 157.77it/s]\n",
      "  0%|          | 0/50 [00:00<?, ?it/s]\n",
      "100%|██████████| 50/50 [00:00<00:00, 375.64it/s]\n",
      "  0%|          | 0/173 [00:00<?, ?it/s]\n",
      " 10%|▉         | 17/173 [00:00<00:00, 160.89it/s]\n"
     ]
    },
    {
     "name": "stdout",
     "output_type": "stream",
     "text": [
      "\u001b[2m\u001b[36m(func pid=8784)\u001b[0m \n",
      "\u001b[2m\u001b[36m(func pid=8784)\u001b[0m Epoch 104\n"
     ]
    },
    {
     "name": "stderr",
     "output_type": "stream",
     "text": [
      " 20%|█▉        | 34/173 [00:00<00:00, 159.80it/s]\n",
      " 29%|██▉       | 51/173 [00:00<00:00, 164.15it/s]\n",
      " 39%|███▉      | 68/173 [00:00<00:00, 164.44it/s]\n",
      " 49%|████▉     | 85/173 [00:00<00:00, 162.10it/s]\n",
      " 59%|█████▉    | 102/173 [00:00<00:00, 162.91it/s]\n",
      " 69%|██████▉   | 120/173 [00:00<00:00, 166.28it/s]\n",
      " 79%|███████▉  | 137/173 [00:00<00:00, 166.27it/s]\n",
      " 90%|████████▉ | 155/173 [00:00<00:00, 167.98it/s]\n",
      "100%|██████████| 173/173 [00:01<00:00, 165.13it/s]\n",
      "  0%|          | 0/50 [00:00<?, ?it/s]\n",
      "100%|██████████| 50/50 [00:00<00:00, 376.25it/s]\n",
      "  0%|          | 0/173 [00:00<?, ?it/s]\n"
     ]
    },
    {
     "name": "stdout",
     "output_type": "stream",
     "text": [
      "\u001b[2m\u001b[36m(func pid=8784)\u001b[0m Epoch 00104: reducing learning rate of group 0 to 9.0755e-06.\n",
      "\u001b[2m\u001b[36m(func pid=8784)\u001b[0m \n",
      "\u001b[2m\u001b[36m(func pid=8784)\u001b[0m Epoch 105\n"
     ]
    },
    {
     "name": "stderr",
     "output_type": "stream",
     "text": [
      " 10%|█         | 18/173 [00:00<00:00, 172.91it/s]\n",
      " 21%|██        | 36/173 [00:00<00:00, 171.10it/s]\n",
      " 31%|███       | 54/173 [00:00<00:00, 172.04it/s]\n",
      " 42%|████▏     | 72/173 [00:00<00:00, 170.68it/s]\n",
      " 52%|█████▏    | 90/173 [00:00<00:00, 170.92it/s]\n",
      " 62%|██████▏   | 108/173 [00:00<00:00, 172.14it/s]\n",
      " 73%|███████▎  | 126/173 [00:00<00:00, 170.41it/s]\n",
      " 83%|████████▎ | 144/173 [00:00<00:00, 171.14it/s]\n",
      " 94%|█████████▎| 162/173 [00:00<00:00, 170.66it/s]\n",
      "  0%|          | 0/50 [00:00<?, ?it/s]\n",
      " 70%|███████   | 35/50 [00:00<00:00, 347.19it/s]\n",
      "100%|██████████| 50/50 [00:00<00:00, 359.25it/s]\n",
      "  0%|          | 0/173 [00:00<?, ?it/s]\n",
      " 10%|▉         | 17/173 [00:00<00:00, 168.02it/s]\n"
     ]
    },
    {
     "name": "stdout",
     "output_type": "stream",
     "text": [
      "\u001b[2m\u001b[36m(func pid=8784)\u001b[0m \n",
      "\u001b[2m\u001b[36m(func pid=8784)\u001b[0m Epoch 106\n"
     ]
    },
    {
     "name": "stderr",
     "output_type": "stream",
     "text": [
      " 20%|█▉        | 34/173 [00:00<00:00, 167.42it/s]\n",
      " 29%|██▉       | 51/173 [00:00<00:00, 168.43it/s]\n",
      " 39%|███▉      | 68/173 [00:00<00:00, 169.00it/s]\n",
      " 50%|████▉     | 86/173 [00:00<00:00, 169.83it/s]\n",
      " 60%|█████▉    | 103/173 [00:00<00:00, 134.86it/s]\n",
      " 69%|██████▉   | 119/173 [00:00<00:00, 139.70it/s]\n",
      " 79%|███████▊  | 136/173 [00:00<00:00, 147.08it/s]\n",
      " 88%|████████▊ | 153/173 [00:00<00:00, 153.49it/s]\n",
      " 99%|█████████▉| 171/173 [00:01<00:00, 159.91it/s]\n",
      "100%|██████████| 173/173 [00:01<00:00, 155.85it/s]\n",
      "  0%|          | 0/50 [00:00<?, ?it/s]\n",
      "100%|██████████| 50/50 [00:00<00:00, 381.96it/s]\n",
      "  0%|          | 0/173 [00:00<?, ?it/s]\n",
      " 10%|▉         | 17/173 [00:00<00:00, 164.69it/s]\n"
     ]
    },
    {
     "name": "stdout",
     "output_type": "stream",
     "text": [
      "\u001b[2m\u001b[36m(func pid=8784)\u001b[0m \n",
      "\u001b[2m\u001b[36m(func pid=8784)\u001b[0m Epoch 107\n"
     ]
    },
    {
     "name": "stderr",
     "output_type": "stream",
     "text": [
      " 20%|██        | 35/173 [00:00<00:00, 169.19it/s]\n",
      " 31%|███       | 53/173 [00:00<00:00, 169.06it/s]\n",
      " 41%|████      | 71/173 [00:00<00:00, 169.61it/s]\n",
      " 51%|█████▏    | 89/173 [00:00<00:00, 170.24it/s]\n",
      " 62%|██████▏   | 107/173 [00:00<00:00, 171.07it/s]\n",
      " 72%|███████▏  | 125/173 [00:00<00:00, 170.11it/s]\n",
      " 83%|████████▎ | 143/173 [00:00<00:00, 170.67it/s]\n",
      "100%|██████████| 173/173 [00:01<00:00, 170.56it/s]\n",
      "  0%|          | 0/50 [00:00<?, ?it/s]\n",
      "100%|██████████| 50/50 [00:00<00:00, 361.74it/s]\n",
      "  0%|          | 0/173 [00:00<?, ?it/s]\n",
      " 10%|▉         | 17/173 [00:00<00:00, 169.90it/s]\n"
     ]
    },
    {
     "name": "stdout",
     "output_type": "stream",
     "text": [
      "\u001b[2m\u001b[36m(func pid=8784)\u001b[0m \n",
      "\u001b[2m\u001b[36m(func pid=8784)\u001b[0m Epoch 108\n"
     ]
    },
    {
     "name": "stderr",
     "output_type": "stream",
     "text": [
      " 20%|█▉        | 34/173 [00:00<00:00, 168.27it/s]\n",
      " 30%|███       | 52/173 [00:00<00:00, 170.29it/s]\n",
      " 40%|████      | 70/173 [00:00<00:00, 166.10it/s]\n",
      " 51%|█████     | 88/173 [00:00<00:00, 167.52it/s]\n",
      " 72%|███████▏  | 124/173 [00:00<00:00, 171.41it/s]\n",
      " 82%|████████▏ | 142/173 [00:00<00:00, 169.69it/s]\n",
      "100%|██████████| 173/173 [00:01<00:00, 167.27it/s]\n",
      "  0%|          | 0/50 [00:00<?, ?it/s]\n",
      "100%|██████████| 50/50 [00:00<00:00, 378.21it/s]\n",
      "  0%|          | 0/173 [00:00<?, ?it/s]\n"
     ]
    },
    {
     "name": "stdout",
     "output_type": "stream",
     "text": [
      "\u001b[2m\u001b[36m(func pid=8784)\u001b[0m \n",
      "\u001b[2m\u001b[36m(func pid=8784)\u001b[0m Epoch 109\n"
     ]
    },
    {
     "name": "stderr",
     "output_type": "stream",
     "text": [
      " 10%|▉         | 17/173 [00:00<00:00, 169.92it/s]\n",
      " 20%|██        | 35/173 [00:00<00:00, 173.73it/s]\n",
      " 31%|███       | 53/173 [00:00<00:00, 172.97it/s]\n",
      " 41%|████      | 71/173 [00:00<00:00, 167.70it/s]\n",
      " 51%|█████     | 88/173 [00:00<00:00, 165.03it/s]\n",
      " 61%|██████    | 105/173 [00:00<00:00, 164.09it/s]\n",
      " 71%|███████   | 122/173 [00:00<00:00, 163.56it/s]\n",
      " 80%|████████  | 139/173 [00:00<00:00, 159.76it/s]\n",
      " 91%|█████████ | 157/173 [00:00<00:00, 165.58it/s]\n",
      "100%|██████████| 173/173 [00:01<00:00, 166.01it/s]\n",
      "  0%|          | 0/50 [00:00<?, ?it/s]\n",
      "100%|██████████| 50/50 [00:00<00:00, 326.33it/s]\n",
      "  0%|          | 0/173 [00:00<?, ?it/s]\n",
      " 10%|▉         | 17/173 [00:00<00:00, 166.07it/s]\n"
     ]
    },
    {
     "name": "stdout",
     "output_type": "stream",
     "text": [
      "\u001b[2m\u001b[36m(func pid=8784)\u001b[0m \n",
      "\u001b[2m\u001b[36m(func pid=8784)\u001b[0m Epoch 110\n"
     ]
    },
    {
     "name": "stderr",
     "output_type": "stream",
     "text": [
      " 20%|█▉        | 34/173 [00:00<00:00, 164.95it/s]\n",
      " 29%|██▉       | 51/173 [00:00<00:00, 166.39it/s]\n",
      " 39%|███▉      | 68/173 [00:00<00:00, 166.03it/s]\n",
      " 49%|████▉     | 85/173 [00:00<00:00, 165.39it/s]\n",
      " 59%|█████▉    | 102/173 [00:00<00:00, 164.24it/s]\n",
      " 69%|██████▉   | 120/173 [00:00<00:00, 167.23it/s]\n",
      " 79%|███████▉  | 137/173 [00:00<00:00, 162.84it/s]\n",
      " 89%|████████▉ | 154/173 [00:00<00:00, 164.07it/s]\n",
      "100%|██████████| 173/173 [00:01<00:00, 164.70it/s]\n",
      "  0%|          | 0/50 [00:00<?, ?it/s]\n",
      "100%|██████████| 50/50 [00:00<00:00, 374.29it/s]\n"
     ]
    },
    {
     "name": "stdout",
     "output_type": "stream",
     "text": [
      "\u001b[2m\u001b[36m(func pid=8784)\u001b[0m Epoch 00110: reducing learning rate of group 0 to 4.5378e-06.\n",
      "\u001b[2m\u001b[36m(func pid=8784)\u001b[0m \n",
      "\u001b[2m\u001b[36m(func pid=8784)\u001b[0m Epoch 111\n"
     ]
    },
    {
     "name": "stderr",
     "output_type": "stream",
     "text": [
      "  0%|          | 0/173 [00:00<?, ?it/s]\n",
      " 10%|▉         | 17/173 [00:00<00:00, 162.18it/s]\n",
      " 20%|█▉        | 34/173 [00:00<00:00, 162.01it/s]\n",
      " 29%|██▉       | 51/173 [00:00<00:00, 157.15it/s]\n",
      " 39%|███▉      | 68/173 [00:00<00:00, 159.10it/s]\n",
      " 49%|████▊     | 84/173 [00:00<00:00, 127.25it/s]\n",
      " 59%|█████▉    | 102/173 [00:00<00:00, 139.71it/s]\n",
      " 68%|██████▊   | 117/173 [00:00<00:00, 141.70it/s]\n",
      " 77%|███████▋  | 134/173 [00:00<00:00, 149.70it/s]\n",
      " 87%|████████▋ | 150/173 [00:01<00:00, 152.17it/s]\n",
      " 96%|█████████▌| 166/173 [00:01<00:00, 154.08it/s]\n",
      "100%|██████████| 173/173 [00:01<00:00, 149.92it/s]\n",
      "  0%|          | 0/50 [00:00<?, ?it/s]\n",
      " 74%|███████▍  | 37/50 [00:00<00:00, 365.53it/s]\n",
      "100%|██████████| 50/50 [00:00<00:00, 371.40it/s]\n",
      "  0%|          | 0/173 [00:00<?, ?it/s]\n"
     ]
    },
    {
     "name": "stdout",
     "output_type": "stream",
     "text": [
      "\u001b[2m\u001b[36m(func pid=8784)\u001b[0m \n",
      "\u001b[2m\u001b[36m(func pid=8784)\u001b[0m Epoch 112\n"
     ]
    },
    {
     "name": "stderr",
     "output_type": "stream",
     "text": [
      "  9%|▉         | 16/173 [00:00<00:00, 158.86it/s]\n",
      " 19%|█▉        | 33/173 [00:00<00:00, 163.28it/s]\n",
      " 29%|██▉       | 50/173 [00:00<00:00, 164.14it/s]\n",
      " 39%|███▊      | 67/173 [00:00<00:00, 162.65it/s]\n",
      " 49%|████▊     | 84/173 [00:00<00:00, 163.08it/s]\n",
      " 58%|█████▊    | 101/173 [00:00<00:00, 160.13it/s]\n",
      " 69%|██████▉   | 119/173 [00:00<00:00, 164.05it/s]\n",
      " 79%|███████▉  | 137/173 [00:00<00:00, 167.86it/s]\n",
      " 90%|████████▉ | 155/173 [00:00<00:00, 170.10it/s]\n",
      "100%|██████████| 173/173 [00:01<00:00, 163.68it/s]\n",
      "  0%|          | 0/50 [00:00<?, ?it/s]\n",
      " 76%|███████▌  | 38/50 [00:00<00:00, 377.29it/s]\n",
      "100%|██████████| 50/50 [00:00<00:00, 379.89it/s]\n",
      "  0%|          | 0/173 [00:00<?, ?it/s]\n"
     ]
    },
    {
     "name": "stdout",
     "output_type": "stream",
     "text": [
      "\u001b[2m\u001b[36m(func pid=8784)\u001b[0m \n",
      "\u001b[2m\u001b[36m(func pid=8784)\u001b[0m Epoch 113\n"
     ]
    },
    {
     "name": "stderr",
     "output_type": "stream",
     "text": [
      " 10%|█         | 18/173 [00:00<00:00, 170.48it/s]\n",
      " 21%|██        | 36/173 [00:00<00:00, 167.31it/s]\n",
      " 31%|███       | 53/173 [00:00<00:00, 162.46it/s]\n",
      " 40%|████      | 70/173 [00:00<00:00, 156.90it/s]\n",
      " 50%|█████     | 87/173 [00:00<00:00, 157.77it/s]\n",
      " 60%|█████▉    | 103/173 [00:00<00:00, 152.23it/s]\n",
      " 69%|██████▉   | 119/173 [00:00<00:00, 154.18it/s]\n",
      " 79%|███████▊  | 136/173 [00:00<00:00, 156.83it/s]\n",
      "  0%|          | 0/50 [00:00<?, ?it/s]\n",
      "100%|██████████| 50/50 [00:00<00:00, 335.13it/s]\n",
      "  0%|          | 0/173 [00:00<?, ?it/s]\n",
      "  9%|▊         | 15/173 [00:00<00:01, 149.10it/s]\n"
     ]
    },
    {
     "name": "stdout",
     "output_type": "stream",
     "text": [
      "\u001b[2m\u001b[36m(func pid=8784)\u001b[0m \n",
      "\u001b[2m\u001b[36m(func pid=8784)\u001b[0m Epoch 114\n"
     ]
    },
    {
     "name": "stderr",
     "output_type": "stream",
     "text": [
      " 18%|█▊        | 31/173 [00:00<00:00, 154.68it/s]\n",
      " 28%|██▊       | 49/173 [00:00<00:00, 162.98it/s]\n",
      " 38%|███▊      | 66/173 [00:00<00:00, 165.09it/s]\n",
      " 49%|████▊     | 84/173 [00:00<00:00, 167.48it/s]\n",
      " 59%|█████▉    | 102/173 [00:00<00:00, 168.93it/s]\n",
      " 69%|██████▉   | 120/173 [00:00<00:00, 169.61it/s]\n",
      " 79%|███████▉  | 137/173 [00:00<00:00, 161.15it/s]\n",
      " 89%|████████▉ | 154/173 [00:00<00:00, 153.84it/s]\n",
      "100%|██████████| 173/173 [00:01<00:00, 156.76it/s]\n",
      "  0%|          | 0/50 [00:00<?, ?it/s]\n",
      "100%|██████████| 50/50 [00:00<00:00, 333.77it/s]\n",
      "  0%|          | 0/173 [00:00<?, ?it/s]\n"
     ]
    },
    {
     "name": "stdout",
     "output_type": "stream",
     "text": [
      "\u001b[2m\u001b[36m(func pid=8784)\u001b[0m \n",
      "\u001b[2m\u001b[36m(func pid=8784)\u001b[0m Epoch 115\n"
     ]
    },
    {
     "name": "stderr",
     "output_type": "stream",
     "text": [
      "  9%|▉         | 16/173 [00:00<00:01, 152.15it/s]\n",
      " 19%|█▉        | 33/173 [00:00<00:00, 155.94it/s]\n",
      " 29%|██▉       | 50/173 [00:00<00:00, 161.61it/s]\n",
      " 39%|███▉      | 68/173 [00:00<00:00, 166.74it/s]\n",
      " 50%|████▉     | 86/173 [00:00<00:00, 169.78it/s]\n",
      " 60%|██████    | 104/173 [00:00<00:00, 171.81it/s]\n",
      " 71%|███████   | 122/173 [00:00<00:00, 170.85it/s]\n",
      " 81%|████████  | 140/173 [00:00<00:00, 173.15it/s]\n",
      " 91%|█████████▏| 158/173 [00:00<00:00, 171.88it/s]\n",
      "100%|██████████| 173/173 [00:01<00:00, 169.44it/s]\n",
      "  0%|          | 0/50 [00:00<?, ?it/s]\n",
      "100%|██████████| 50/50 [00:00<00:00, 352.84it/s]\n",
      "  0%|          | 0/173 [00:00<?, ?it/s]\n"
     ]
    },
    {
     "name": "stdout",
     "output_type": "stream",
     "text": [
      "\u001b[2m\u001b[36m(func pid=8784)\u001b[0m \n",
      "\u001b[2m\u001b[36m(func pid=8784)\u001b[0m Epoch 116\n"
     ]
    },
    {
     "name": "stderr",
     "output_type": "stream",
     "text": [
      "  9%|▊         | 15/173 [00:00<00:01, 147.12it/s]\n",
      " 18%|█▊        | 31/173 [00:00<00:00, 147.63it/s]\n",
      " 27%|██▋       | 47/173 [00:00<00:00, 152.47it/s]\n",
      " 36%|███▋      | 63/173 [00:00<00:00, 124.07it/s]\n",
      " 47%|████▋     | 81/173 [00:00<00:00, 140.10it/s]\n",
      " 57%|█████▋    | 98/173 [00:00<00:00, 149.12it/s]\n",
      " 67%|██████▋   | 116/173 [00:00<00:00, 156.02it/s]\n",
      " 77%|███████▋  | 134/173 [00:00<00:00, 161.38it/s]\n",
      " 88%|████████▊ | 152/173 [00:00<00:00, 166.18it/s]\n",
      "100%|██████████| 173/173 [00:01<00:00, 155.60it/s]\n",
      "  0%|          | 0/50 [00:00<?, ?it/s]\n",
      " 78%|███████▊  | 39/50 [00:00<00:00, 387.02it/s]\n",
      "100%|██████████| 50/50 [00:00<00:00, 391.34it/s]\n",
      "  0%|          | 0/173 [00:00<?, ?it/s]\n"
     ]
    },
    {
     "name": "stdout",
     "output_type": "stream",
     "text": [
      "\u001b[2m\u001b[36m(func pid=8784)\u001b[0m Epoch 00116: reducing learning rate of group 0 to 2.2689e-06.\n",
      "\u001b[2m\u001b[36m(func pid=8784)\u001b[0m \n",
      "\u001b[2m\u001b[36m(func pid=8784)\u001b[0m Epoch 117\n"
     ]
    },
    {
     "name": "stderr",
     "output_type": "stream",
     "text": [
      " 10%|▉         | 17/173 [00:00<00:00, 166.87it/s]\n",
      " 20%|█▉        | 34/173 [00:00<00:00, 166.90it/s]\n",
      " 29%|██▉       | 51/173 [00:00<00:00, 166.09it/s]\n",
      " 40%|███▉      | 69/173 [00:00<00:00, 170.31it/s]\n",
      " 50%|█████     | 87/173 [00:00<00:00, 171.23it/s]\n",
      " 61%|██████    | 105/173 [00:00<00:00, 167.35it/s]\n",
      " 71%|███████   | 122/173 [00:00<00:00, 147.39it/s]\n",
      " 80%|███████▉  | 138/173 [00:00<00:00, 138.23it/s]\n",
      " 88%|████████▊ | 153/173 [00:01<00:00, 138.18it/s]\n",
      "  0%|          | 0/50 [00:00<?, ?it/s]\n",
      "100%|██████████| 50/50 [00:00<00:00, 299.19it/s]\n",
      "  0%|          | 0/173 [00:00<?, ?it/s]\n",
      "  8%|▊         | 14/173 [00:00<00:01, 130.93it/s]\n"
     ]
    },
    {
     "name": "stdout",
     "output_type": "stream",
     "text": [
      "\u001b[2m\u001b[36m(func pid=8784)\u001b[0m \n",
      "\u001b[2m\u001b[36m(func pid=8784)\u001b[0m Epoch 118\n"
     ]
    },
    {
     "name": "stderr",
     "output_type": "stream",
     "text": [
      " 17%|█▋        | 29/173 [00:00<00:01, 140.61it/s]\n",
      " 27%|██▋       | 46/173 [00:00<00:00, 152.73it/s]\n",
      " 36%|███▌      | 62/173 [00:00<00:00, 147.58it/s]\n",
      " 45%|████▍     | 77/173 [00:00<00:00, 145.38it/s]\n",
      " 54%|█████▍    | 94/173 [00:00<00:00, 151.81it/s]\n",
      " 64%|██████▍   | 111/173 [00:00<00:00, 154.64it/s]\n",
      " 73%|███████▎  | 127/173 [00:00<00:00, 154.03it/s]\n",
      " 92%|█████████▏| 159/173 [00:01<00:00, 154.70it/s]\n",
      "100%|██████████| 173/173 [00:01<00:00, 151.79it/s]\n",
      "  0%|          | 0/50 [00:00<?, ?it/s]\n",
      "100%|██████████| 50/50 [00:00<00:00, 386.38it/s]\n",
      "  0%|          | 0/173 [00:00<?, ?it/s]\n",
      " 10%|▉         | 17/173 [00:00<00:00, 167.01it/s]\n",
      " 20%|█▉        | 34/173 [00:00<00:00, 168.40it/s]\n"
     ]
    },
    {
     "name": "stdout",
     "output_type": "stream",
     "text": [
      "\u001b[2m\u001b[36m(func pid=8784)\u001b[0m \n",
      "\u001b[2m\u001b[36m(func pid=8784)\u001b[0m Epoch 119\n"
     ]
    },
    {
     "name": "stderr",
     "output_type": "stream",
     "text": [
      " 29%|██▉       | 51/173 [00:00<00:00, 159.12it/s]\n",
      " 40%|███▉      | 69/173 [00:00<00:00, 165.23it/s]\n",
      " 50%|█████     | 87/173 [00:00<00:00, 167.91it/s]\n",
      " 60%|██████    | 104/173 [00:00<00:00, 167.42it/s]\n",
      " 70%|██████▉   | 121/173 [00:00<00:00, 162.25it/s]\n",
      " 80%|███████▉  | 138/173 [00:00<00:00, 161.02it/s]\n",
      " 90%|████████▉ | 155/173 [00:00<00:00, 159.99it/s]\n",
      "100%|██████████| 173/173 [00:01<00:00, 163.21it/s]\n",
      "  0%|          | 0/50 [00:00<?, ?it/s]\n",
      "100%|██████████| 50/50 [00:00<00:00, 374.19it/s]\n",
      "  0%|          | 0/173 [00:00<?, ?it/s]\n",
      " 10%|▉         | 17/173 [00:00<00:00, 164.23it/s]\n"
     ]
    },
    {
     "name": "stdout",
     "output_type": "stream",
     "text": [
      "\u001b[2m\u001b[36m(func pid=8784)\u001b[0m \n",
      "\u001b[2m\u001b[36m(func pid=8784)\u001b[0m Epoch 120\n"
     ]
    },
    {
     "name": "stderr",
     "output_type": "stream",
     "text": [
      " 20%|█▉        | 34/173 [00:00<00:00, 158.92it/s]\n",
      " 29%|██▉       | 50/173 [00:00<00:00, 157.72it/s]\n",
      " 38%|███▊      | 66/173 [00:00<00:00, 153.77it/s]\n",
      " 48%|████▊     | 83/173 [00:00<00:00, 157.22it/s]\n",
      " 68%|██████▊   | 118/173 [00:00<00:00, 164.32it/s]\n",
      " 79%|███████▊  | 136/173 [00:00<00:00, 168.27it/s]\n",
      " 89%|████████▉ | 154/173 [00:00<00:00, 170.34it/s]\n",
      " 99%|█████████▉| 172/173 [00:01<00:00, 166.08it/s]\n",
      "100%|██████████| 173/173 [00:01<00:00, 163.15it/s]\n",
      "  0%|          | 0/50 [00:00<?, ?it/s]\n",
      "100%|██████████| 50/50 [00:00<00:00, 358.33it/s]\n",
      "  0%|          | 0/173 [00:00<?, ?it/s]\n",
      "  9%|▉         | 16/173 [00:00<00:01, 153.38it/s]\n"
     ]
    },
    {
     "name": "stdout",
     "output_type": "stream",
     "text": [
      "\u001b[2m\u001b[36m(func pid=8784)\u001b[0m \n",
      "\u001b[2m\u001b[36m(func pid=8784)\u001b[0m Epoch 121\n"
     ]
    },
    {
     "name": "stderr",
     "output_type": "stream",
     "text": [
      " 19%|█▉        | 33/173 [00:00<00:00, 158.73it/s]\n",
      " 28%|██▊       | 49/173 [00:00<00:01, 118.63it/s]\n",
      " 47%|████▋     | 82/173 [00:00<00:00, 143.40it/s]\n",
      " 57%|█████▋    | 99/173 [00:00<00:00, 149.81it/s]\n",
      " 66%|██████▋   | 115/173 [00:00<00:00, 146.75it/s]\n",
      " 76%|███████▋  | 132/173 [00:00<00:00, 152.57it/s]\n",
      " 87%|████████▋ | 150/173 [00:01<00:00, 158.84it/s]\n",
      "100%|██████████| 173/173 [00:01<00:00, 149.91it/s]\n",
      "  0%|          | 0/50 [00:00<?, ?it/s]\n",
      " 66%|██████▌   | 33/50 [00:00<00:00, 329.00it/s]\n",
      "100%|██████████| 50/50 [00:00<00:00, 344.55it/s]\n",
      "  0%|          | 0/173 [00:00<?, ?it/s]\n",
      " 10%|▉         | 17/173 [00:00<00:00, 160.38it/s]\n"
     ]
    },
    {
     "name": "stdout",
     "output_type": "stream",
     "text": [
      "\u001b[2m\u001b[36m(func pid=8784)\u001b[0m \n",
      "\u001b[2m\u001b[36m(func pid=8784)\u001b[0m Epoch 122\n"
     ]
    },
    {
     "name": "stderr",
     "output_type": "stream",
     "text": [
      " 20%|█▉        | 34/173 [00:00<00:00, 156.13it/s]\n",
      " 29%|██▉       | 51/173 [00:00<00:00, 161.58it/s]\n",
      " 39%|███▉      | 68/173 [00:00<00:00, 159.99it/s]\n",
      " 49%|████▉     | 85/173 [00:00<00:00, 160.14it/s]\n",
      " 59%|█████▉    | 102/173 [00:00<00:00, 155.26it/s]\n",
      " 69%|██████▉   | 120/173 [00:00<00:00, 160.81it/s]\n",
      " 79%|███████▉  | 137/173 [00:00<00:00, 162.62it/s]\n",
      " 89%|████████▉ | 154/173 [00:00<00:00, 163.79it/s]\n",
      "100%|██████████| 173/173 [00:01<00:00, 160.52it/s]\n",
      "  0%|          | 0/50 [00:00<?, ?it/s]\n",
      "100%|██████████| 50/50 [00:00<00:00, 363.28it/s]\n",
      "  0%|          | 0/173 [00:00<?, ?it/s]\n"
     ]
    },
    {
     "name": "stdout",
     "output_type": "stream",
     "text": [
      "\u001b[2m\u001b[36m(func pid=8784)\u001b[0m Epoch 00122: reducing learning rate of group 0 to 1.1344e-06.\n",
      "\u001b[2m\u001b[36m(func pid=8784)\u001b[0m \n",
      "\u001b[2m\u001b[36m(func pid=8784)\u001b[0m Epoch 123\n"
     ]
    },
    {
     "name": "stderr",
     "output_type": "stream",
     "text": [
      " 17%|█▋        | 30/173 [00:00<00:00, 146.33it/s]\n",
      " 26%|██▌       | 45/173 [00:00<00:00, 142.71it/s]\n",
      " 35%|███▍      | 60/173 [00:00<00:00, 139.77it/s]\n",
      " 45%|████▍     | 77/173 [00:00<00:00, 146.89it/s]\n",
      " 54%|█████▍    | 94/173 [00:00<00:00, 154.35it/s]\n",
      " 64%|██████▎   | 110/173 [00:00<00:00, 155.20it/s]\n",
      " 73%|███████▎  | 126/173 [00:00<00:00, 135.60it/s]\n",
      " 82%|████████▏ | 142/173 [00:00<00:00, 142.19it/s]\n",
      " 91%|█████████▏| 158/173 [00:01<00:00, 146.91it/s]\n",
      "100%|██████████| 173/173 [00:01<00:00, 145.64it/s]\n",
      "  0%|          | 0/50 [00:00<?, ?it/s]\n",
      "100%|██████████| 50/50 [00:00<00:00, 367.37it/s]\n",
      "  0%|          | 0/173 [00:00<?, ?it/s]\n",
      " 10%|▉         | 17/173 [00:00<00:00, 164.61it/s]\n"
     ]
    },
    {
     "name": "stdout",
     "output_type": "stream",
     "text": [
      "\u001b[2m\u001b[36m(func pid=8784)\u001b[0m \n",
      "\u001b[2m\u001b[36m(func pid=8784)\u001b[0m Epoch 124\n"
     ]
    },
    {
     "name": "stderr",
     "output_type": "stream",
     "text": [
      " 20%|██        | 35/173 [00:00<00:00, 169.98it/s]\n",
      " 40%|███▉      | 69/173 [00:00<00:00, 167.77it/s]\n",
      " 50%|████▉     | 86/173 [00:00<00:00, 165.80it/s]\n",
      " 60%|██████    | 104/173 [00:00<00:00, 168.32it/s]\n",
      " 71%|███████   | 122/173 [00:00<00:00, 169.55it/s]\n",
      " 81%|████████  | 140/173 [00:00<00:00, 170.32it/s]\n",
      " 91%|█████████▏| 158/173 [00:00<00:00, 171.52it/s]\n",
      "100%|██████████| 173/173 [00:01<00:00, 169.10it/s]\n",
      "  0%|          | 0/50 [00:00<?, ?it/s]\n",
      "100%|██████████| 50/50 [00:00<00:00, 359.78it/s]\n",
      "  0%|          | 0/173 [00:00<?, ?it/s]\n",
      " 10%|█         | 18/173 [00:00<00:00, 171.41it/s]\n"
     ]
    },
    {
     "name": "stdout",
     "output_type": "stream",
     "text": [
      "\u001b[2m\u001b[36m(func pid=8784)\u001b[0m \n",
      "\u001b[2m\u001b[36m(func pid=8784)\u001b[0m Epoch 125\n"
     ]
    },
    {
     "name": "stderr",
     "output_type": "stream",
     "text": [
      " 21%|██        | 36/173 [00:00<00:00, 169.58it/s]\n",
      " 31%|███       | 53/173 [00:00<00:00, 161.87it/s]\n",
      " 40%|████      | 70/173 [00:00<00:00, 157.74it/s]\n",
      " 50%|████▉     | 86/173 [00:00<00:00, 156.38it/s]\n",
      " 70%|██████▉   | 121/173 [00:00<00:00, 163.39it/s]\n",
      " 68%|██████▊   | 34/50 [00:00<00:00, 332.83it/s]\n",
      "100%|██████████| 50/50 [00:00<00:00, 319.64it/s]\n",
      "  0%|          | 0/173 [00:00<?, ?it/s]\n",
      " 10%|▉         | 17/173 [00:00<00:00, 166.65it/s]\n"
     ]
    },
    {
     "name": "stdout",
     "output_type": "stream",
     "text": [
      "\u001b[2m\u001b[36m(func pid=8784)\u001b[0m \n",
      "\u001b[2m\u001b[36m(func pid=8784)\u001b[0m Epoch 126\n"
     ]
    },
    {
     "name": "stderr",
     "output_type": "stream",
     "text": [
      " 20%|█▉        | 34/173 [00:00<00:01, 111.72it/s]\n",
      " 28%|██▊       | 49/173 [00:00<00:00, 124.89it/s]\n",
      " 38%|███▊      | 65/173 [00:00<00:00, 136.27it/s]\n",
      " 46%|████▌     | 80/173 [00:00<00:00, 140.53it/s]\n",
      " 55%|█████▍    | 95/173 [00:00<00:00, 143.24it/s]\n",
      " 65%|██████▍   | 112/173 [00:00<00:00, 151.53it/s]\n",
      " 75%|███████▍  | 129/173 [00:00<00:00, 157.05it/s]\n",
      " 84%|████████▍ | 146/173 [00:00<00:00, 160.42it/s]\n",
      "100%|██████████| 173/173 [00:01<00:00, 149.79it/s]\n",
      "  0%|          | 0/50 [00:00<?, ?it/s]\n",
      "100%|██████████| 50/50 [00:00<00:00, 366.96it/s]\n",
      "  0%|          | 0/173 [00:00<?, ?it/s]\n",
      " 10%|▉         | 17/173 [00:00<00:00, 164.79it/s]\n"
     ]
    },
    {
     "name": "stdout",
     "output_type": "stream",
     "text": [
      "\u001b[2m\u001b[36m(func pid=8784)\u001b[0m \n",
      "\u001b[2m\u001b[36m(func pid=8784)\u001b[0m Epoch 127\n"
     ]
    },
    {
     "name": "stderr",
     "output_type": "stream",
     "text": [
      " 20%|██        | 35/173 [00:00<00:00, 167.86it/s]\n",
      " 30%|███       | 52/173 [00:00<00:00, 167.27it/s]\n",
      " 40%|████      | 70/173 [00:00<00:00, 170.13it/s]\n",
      " 51%|█████     | 88/173 [00:00<00:00, 169.97it/s]\n",
      " 61%|██████    | 105/173 [00:00<00:00, 168.93it/s]\n",
      " 71%|███████   | 122/173 [00:00<00:00, 169.23it/s]\n",
      " 80%|████████  | 139/173 [00:00<00:00, 148.93it/s]\n",
      " 90%|████████▉ | 155/173 [00:00<00:00, 147.58it/s]\n",
      " 99%|█████████▉| 171/173 [00:01<00:00, 148.10it/s]\n",
      "100%|██████████| 173/173 [00:01<00:00, 157.51it/s]\n",
      "  0%|          | 0/50 [00:00<?, ?it/s]\n",
      " 68%|██████▊   | 34/50 [00:00<00:00, 327.70it/s]\n",
      "100%|██████████| 50/50 [00:00<00:00, 317.07it/s]\n",
      "  0%|          | 0/173 [00:00<?, ?it/s]\n",
      " 10%|▉         | 17/173 [00:00<00:00, 158.85it/s]\n"
     ]
    },
    {
     "name": "stdout",
     "output_type": "stream",
     "text": [
      "\u001b[2m\u001b[36m(func pid=8784)\u001b[0m \n",
      "\u001b[2m\u001b[36m(func pid=8784)\u001b[0m Epoch 128\n"
     ]
    },
    {
     "name": "stderr",
     "output_type": "stream",
     "text": [
      " 19%|█▉        | 33/173 [00:00<00:00, 150.18it/s]\n",
      " 28%|██▊       | 49/173 [00:00<00:00, 148.82it/s]\n",
      " 37%|███▋      | 64/173 [00:00<00:00, 147.93it/s]\n",
      " 47%|████▋     | 81/173 [00:00<00:00, 155.04it/s]\n",
      " 57%|█████▋    | 98/173 [00:00<00:00, 154.88it/s]\n",
      " 66%|██████▌   | 114/173 [00:00<00:00, 150.95it/s]\n",
      " 75%|███████▌  | 130/173 [00:00<00:00, 146.01it/s]\n",
      " 84%|████████▍ | 145/173 [00:00<00:00, 142.98it/s]\n",
      " 92%|█████████▏| 160/173 [00:01<00:00, 143.34it/s]\n",
      "100%|██████████| 173/173 [00:01<00:00, 147.63it/s]\n",
      "  0%|          | 0/50 [00:00<?, ?it/s]\n",
      "100%|██████████| 50/50 [00:00<00:00, 337.28it/s]\n",
      "  0%|          | 0/173 [00:00<?, ?it/s]\n"
     ]
    },
    {
     "name": "stdout",
     "output_type": "stream",
     "text": [
      "\u001b[2m\u001b[36m(func pid=8784)\u001b[0m Epoch 00128: reducing learning rate of group 0 to 5.6722e-07.\n",
      "\u001b[2m\u001b[36m(func pid=8784)\u001b[0m \n",
      "\u001b[2m\u001b[36m(func pid=8784)\u001b[0m Epoch 129\n"
     ]
    },
    {
     "name": "stderr",
     "output_type": "stream",
     "text": [
      "  8%|▊         | 14/173 [00:00<00:01, 135.94it/s]\n",
      " 17%|█▋        | 30/173 [00:00<00:00, 144.74it/s]\n",
      " 35%|███▌      | 61/173 [00:00<00:00, 147.29it/s]\n",
      " 44%|████▍     | 76/173 [00:00<00:00, 143.32it/s]\n",
      " 53%|█████▎    | 91/173 [00:00<00:00, 145.03it/s]\n",
      " 61%|██████▏   | 106/173 [00:00<00:00, 146.11it/s]\n",
      " 70%|██████▉   | 121/173 [00:00<00:00, 146.02it/s]\n",
      " 79%|███████▉  | 137/173 [00:00<00:00, 147.87it/s]\n",
      " 88%|████████▊ | 153/173 [00:01<00:00, 150.17it/s]\n",
      "  0%|          | 0/50 [00:00<?, ?it/s]\n",
      "100%|██████████| 50/50 [00:00<00:00, 349.93it/s]\n",
      "  0%|          | 0/173 [00:00<?, ?it/s]\n",
      "  9%|▉         | 16/173 [00:00<00:01, 155.17it/s]\n"
     ]
    },
    {
     "name": "stdout",
     "output_type": "stream",
     "text": [
      "\u001b[2m\u001b[36m(func pid=8784)\u001b[0m \n",
      "\u001b[2m\u001b[36m(func pid=8784)\u001b[0m Epoch 130\n"
     ]
    },
    {
     "name": "stderr",
     "output_type": "stream",
     "text": [
      " 18%|█▊        | 32/173 [00:00<00:00, 151.93it/s]\n",
      " 28%|██▊       | 48/173 [00:00<00:00, 146.30it/s]\n",
      " 36%|███▋      | 63/173 [00:00<00:00, 146.65it/s]\n",
      " 45%|████▌     | 78/173 [00:00<00:00, 146.30it/s]\n",
      " 54%|█████▍    | 93/173 [00:00<00:00, 142.80it/s]\n",
      " 62%|██████▏   | 108/173 [00:00<00:00, 139.82it/s]\n",
      " 71%|███████   | 123/173 [00:00<00:00, 135.41it/s]\n",
      " 80%|████████  | 139/173 [00:00<00:00, 139.78it/s]\n",
      " 89%|████████▉ | 154/173 [00:01<00:00, 135.34it/s]\n",
      "100%|██████████| 173/173 [00:01<00:00, 140.63it/s]\n",
      "  0%|          | 0/50 [00:00<?, ?it/s]\n",
      "100%|██████████| 50/50 [00:00<00:00, 349.28it/s]\n",
      "  0%|          | 0/173 [00:00<?, ?it/s]\n",
      "  5%|▍         | 8/173 [00:00<00:02, 59.23it/s]\n"
     ]
    },
    {
     "name": "stdout",
     "output_type": "stream",
     "text": [
      "\u001b[2m\u001b[36m(func pid=8784)\u001b[0m \n",
      "\u001b[2m\u001b[36m(func pid=8784)\u001b[0m Epoch 131\n"
     ]
    },
    {
     "name": "stderr",
     "output_type": "stream",
     "text": [
      " 14%|█▍        | 24/173 [00:00<00:01, 108.26it/s]\n",
      " 23%|██▎       | 40/173 [00:00<00:01, 126.27it/s]\n",
      " 31%|███       | 54/173 [00:00<00:00, 126.09it/s]\n",
      " 40%|███▉      | 69/173 [00:00<00:00, 131.56it/s]\n",
      " 48%|████▊     | 83/173 [00:00<00:00, 134.22it/s]\n",
      " 57%|█████▋    | 99/173 [00:00<00:00, 140.50it/s]\n",
      " 66%|██████▌   | 114/173 [00:00<00:00, 141.72it/s]\n",
      " 76%|███████▌  | 131/173 [00:00<00:00, 147.65it/s]\n",
      " 94%|█████████▎| 162/173 [00:01<00:00, 148.42it/s]\n",
      "100%|██████████| 173/173 [00:01<00:00, 137.75it/s]\n",
      "  0%|          | 0/50 [00:00<?, ?it/s]\n",
      "100%|██████████| 50/50 [00:00<00:00, 345.24it/s]\n",
      "  0%|          | 0/173 [00:00<?, ?it/s]\n",
      "  9%|▉         | 16/173 [00:00<00:01, 151.50it/s]\n"
     ]
    },
    {
     "name": "stdout",
     "output_type": "stream",
     "text": [
      "\u001b[2m\u001b[36m(func pid=8784)\u001b[0m \n",
      "\u001b[2m\u001b[36m(func pid=8784)\u001b[0m Epoch 132\n"
     ]
    },
    {
     "name": "stderr",
     "output_type": "stream",
     "text": [
      " 18%|█▊        | 32/173 [00:00<00:00, 154.32it/s]\n",
      " 28%|██▊       | 48/173 [00:00<00:00, 149.23it/s]\n",
      " 36%|███▋      | 63/173 [00:00<00:00, 149.20it/s]\n",
      " 45%|████▌     | 78/173 [00:00<00:00, 138.78it/s]\n",
      " 53%|█████▎    | 92/173 [00:00<00:00, 135.66it/s]\n",
      " 62%|██████▏   | 107/173 [00:00<00:00, 139.28it/s]\n",
      " 71%|███████   | 122/173 [00:00<00:00, 142.38it/s]\n",
      " 80%|███████▉  | 138/173 [00:00<00:00, 147.44it/s]\n",
      " 89%|████████▉ | 154/173 [00:01<00:00, 150.59it/s]\n",
      "100%|██████████| 173/173 [00:01<00:00, 146.65it/s]\n",
      "  0%|          | 0/50 [00:00<?, ?it/s]\n",
      "100%|██████████| 50/50 [00:00<00:00, 337.33it/s]\n",
      "  0%|          | 0/173 [00:00<?, ?it/s]\n",
      "  8%|▊         | 14/173 [00:00<00:01, 138.36it/s]\n"
     ]
    },
    {
     "name": "stdout",
     "output_type": "stream",
     "text": [
      "\u001b[2m\u001b[36m(func pid=8784)\u001b[0m \n",
      "\u001b[2m\u001b[36m(func pid=8784)\u001b[0m Epoch 133\n"
     ]
    },
    {
     "name": "stderr",
     "output_type": "stream",
     "text": [
      " 17%|█▋        | 29/173 [00:00<00:01, 141.05it/s]\n",
      " 26%|██▌       | 45/173 [00:00<00:00, 148.28it/s]\n",
      " 35%|███▍      | 60/173 [00:00<00:00, 148.84it/s]\n",
      " 43%|████▎     | 75/173 [00:00<00:00, 146.71it/s]\n",
      " 52%|█████▏    | 90/173 [00:00<00:00, 142.48it/s]\n",
      " 61%|██████    | 105/173 [00:00<00:00, 142.79it/s]\n",
      " 71%|███████   | 122/173 [00:00<00:00, 148.72it/s]\n",
      " 79%|███████▉  | 137/173 [00:00<00:00, 148.78it/s]\n",
      " 66%|██████▌   | 33/50 [00:00<00:00, 323.97it/s]\n",
      "100%|██████████| 50/50 [00:00<00:00, 332.30it/s]\n",
      "  0%|          | 0/173 [00:00<?, ?it/s]\n",
      "  8%|▊         | 14/173 [00:00<00:01, 133.46it/s]\n"
     ]
    },
    {
     "name": "stdout",
     "output_type": "stream",
     "text": [
      "\u001b[2m\u001b[36m(func pid=8784)\u001b[0m \n",
      "\u001b[2m\u001b[36m(func pid=8784)\u001b[0m Epoch 134\n"
     ]
    },
    {
     "name": "stderr",
     "output_type": "stream",
     "text": [
      " 16%|█▌        | 28/173 [00:00<00:01, 122.94it/s]\n",
      " 24%|██▎       | 41/173 [00:00<00:01, 119.33it/s]\n",
      " 32%|███▏      | 55/173 [00:00<00:00, 124.24it/s]\n",
      " 40%|███▉      | 69/173 [00:00<00:00, 126.13it/s]\n",
      " 47%|████▋     | 82/173 [00:00<00:00, 125.71it/s]\n",
      " 56%|█████▌    | 97/173 [00:00<00:00, 130.09it/s]\n",
      " 65%|██████▍   | 112/173 [00:00<00:00, 134.46it/s]\n",
      " 75%|███████▍  | 129/173 [00:00<00:00, 142.03it/s]\n",
      " 84%|████████▍ | 145/173 [00:01<00:00, 145.22it/s]\n",
      " 92%|█████████▏| 160/173 [00:01<00:00, 145.41it/s]\n",
      "100%|██████████| 173/173 [00:01<00:00, 135.34it/s]\n",
      "  0%|          | 0/50 [00:00<?, ?it/s]\n",
      "100%|██████████| 50/50 [00:00<00:00, 303.18it/s]\n"
     ]
    },
    {
     "name": "stdout",
     "output_type": "stream",
     "text": [
      "\u001b[2m\u001b[36m(func pid=8784)\u001b[0m Epoch 00134: reducing learning rate of group 0 to 2.8361e-07.\n",
      "\u001b[2m\u001b[36m(func pid=8784)\u001b[0m \n",
      "\u001b[2m\u001b[36m(func pid=8784)\u001b[0m Epoch 135\n"
     ]
    },
    {
     "name": "stderr",
     "output_type": "stream",
     "text": [
      "  0%|          | 0/173 [00:00<?, ?it/s]\n",
      "  8%|▊         | 14/173 [00:00<00:01, 133.47it/s]\n",
      " 17%|█▋        | 29/173 [00:00<00:01, 138.96it/s]\n",
      " 25%|██▌       | 44/173 [00:00<00:00, 141.38it/s]\n",
      " 34%|███▍      | 59/173 [00:00<00:00, 141.55it/s]\n",
      " 43%|████▎     | 74/173 [00:00<00:00, 144.43it/s]\n",
      " 52%|█████▏    | 90/173 [00:00<00:00, 146.72it/s]\n",
      " 61%|██████    | 105/173 [00:00<00:00, 145.86it/s]\n",
      " 70%|██████▉   | 121/173 [00:00<00:00, 149.84it/s]\n",
      " 79%|███████▉  | 137/173 [00:00<00:00, 151.22it/s]\n",
      " 88%|████████▊ | 153/173 [00:01<00:00, 150.78it/s]\n",
      "100%|██████████| 173/173 [00:01<00:00, 147.65it/s]\n",
      "  0%|          | 0/50 [00:00<?, ?it/s]\n",
      " 62%|██████▏   | 31/50 [00:00<00:00, 301.50it/s]\n",
      "100%|██████████| 50/50 [00:00<00:00, 194.64it/s]\n",
      "  0%|          | 0/173 [00:00<?, ?it/s]\n"
     ]
    },
    {
     "name": "stdout",
     "output_type": "stream",
     "text": [
      "\u001b[2m\u001b[36m(func pid=8784)\u001b[0m \n",
      "\u001b[2m\u001b[36m(func pid=8784)\u001b[0m Epoch 136\n"
     ]
    },
    {
     "name": "stderr",
     "output_type": "stream",
     "text": [
      "  9%|▉         | 16/173 [00:00<00:01, 150.89it/s]\n",
      " 18%|█▊        | 32/173 [00:00<00:00, 150.99it/s]\n",
      " 28%|██▊       | 48/173 [00:00<00:00, 151.31it/s]\n",
      " 37%|███▋      | 64/173 [00:00<00:00, 150.73it/s]\n",
      " 46%|████▌     | 80/173 [00:00<00:00, 147.91it/s]\n",
      " 55%|█████▍    | 95/173 [00:00<00:00, 140.08it/s]\n",
      " 64%|██████▎   | 110/173 [00:00<00:00, 135.63it/s]\n",
      " 72%|███████▏  | 124/173 [00:00<00:00, 136.90it/s]\n",
      " 81%|████████  | 140/173 [00:00<00:00, 143.53it/s]\n",
      " 90%|█████████ | 156/173 [00:01<00:00, 147.14it/s]\n",
      "100%|██████████| 173/173 [00:01<00:00, 145.32it/s]\n",
      "  0%|          | 0/50 [00:00<?, ?it/s]\n",
      " 64%|██████▍   | 32/50 [00:00<00:00, 313.89it/s]\n",
      "100%|██████████| 50/50 [00:00<00:00, 320.41it/s]\n",
      "  0%|          | 0/173 [00:00<?, ?it/s]\n",
      "  8%|▊         | 13/173 [00:00<00:01, 123.88it/s]\n"
     ]
    },
    {
     "name": "stdout",
     "output_type": "stream",
     "text": [
      "\u001b[2m\u001b[36m(func pid=8784)\u001b[0m \n",
      "\u001b[2m\u001b[36m(func pid=8784)\u001b[0m Epoch 137\n"
     ]
    },
    {
     "name": "stderr",
     "output_type": "stream",
     "text": [
      " 17%|█▋        | 29/173 [00:00<00:01, 138.22it/s]\n",
      " 25%|██▌       | 44/173 [00:00<00:00, 140.30it/s]\n",
      " 34%|███▍      | 59/173 [00:00<00:00, 140.93it/s]\n",
      " 43%|████▎     | 75/173 [00:00<00:00, 144.65it/s]\n",
      " 53%|█████▎    | 91/173 [00:00<00:00, 149.23it/s]\n",
      " 62%|██████▏   | 107/173 [00:00<00:00, 150.01it/s]\n",
      " 71%|███████   | 123/173 [00:00<00:00, 152.09it/s]\n",
      " 81%|████████  | 140/173 [00:00<00:00, 157.20it/s]\n",
      "  0%|          | 0/50 [00:00<?, ?it/s]\n",
      "100%|██████████| 50/50 [00:00<00:00, 329.48it/s]\n",
      "  0%|          | 0/173 [00:00<?, ?it/s]\n",
      "  9%|▉         | 16/173 [00:00<00:00, 159.98it/s]\n"
     ]
    },
    {
     "name": "stdout",
     "output_type": "stream",
     "text": [
      "\u001b[2m\u001b[36m(func pid=8784)\u001b[0m \n",
      "\u001b[2m\u001b[36m(func pid=8784)\u001b[0m Epoch 138\n"
     ]
    },
    {
     "name": "stderr",
     "output_type": "stream",
     "text": [
      " 20%|█▉        | 34/173 [00:00<00:00, 165.77it/s]\n",
      " 29%|██▉       | 51/173 [00:00<00:00, 166.74it/s]\n",
      " 39%|███▉      | 68/173 [00:00<00:00, 165.07it/s]\n",
      " 49%|████▉     | 85/173 [00:00<00:00, 158.90it/s]\n",
      " 59%|█████▉    | 102/173 [00:00<00:00, 160.95it/s]\n",
      " 69%|██████▉   | 119/173 [00:00<00:00, 159.81it/s]\n",
      " 79%|███████▊  | 136/173 [00:00<00:00, 149.63it/s]\n",
      " 88%|████████▊ | 152/173 [00:00<00:00, 143.53it/s]\n",
      "100%|██████████| 173/173 [00:01<00:00, 151.77it/s]\n",
      "  0%|          | 0/50 [00:00<?, ?it/s]\n",
      "100%|██████████| 50/50 [00:00<00:00, 362.49it/s]\n",
      "  0%|          | 0/173 [00:00<?, ?it/s]\n"
     ]
    },
    {
     "name": "stdout",
     "output_type": "stream",
     "text": [
      "\u001b[2m\u001b[36m(func pid=8784)\u001b[0m \n",
      "\u001b[2m\u001b[36m(func pid=8784)\u001b[0m Epoch 139\n"
     ]
    },
    {
     "name": "stderr",
     "output_type": "stream",
     "text": [
      "  9%|▉         | 16/173 [00:00<00:01, 156.98it/s]\n",
      " 18%|█▊        | 32/173 [00:00<00:00, 147.98it/s]\n",
      " 28%|██▊       | 48/173 [00:00<00:00, 149.47it/s]\n",
      " 36%|███▋      | 63/173 [00:00<00:00, 146.94it/s]\n",
      " 45%|████▌     | 78/173 [00:00<00:00, 147.99it/s]\n",
      " 54%|█████▍    | 94/173 [00:00<00:00, 150.52it/s]\n",
      " 64%|██████▎   | 110/173 [00:00<00:00, 151.03it/s]\n",
      " 73%|███████▎  | 126/173 [00:00<00:00, 153.79it/s]\n",
      " 83%|████████▎ | 144/173 [00:00<00:00, 159.58it/s]\n",
      " 93%|█████████▎| 161/173 [00:01<00:00, 161.14it/s]\n",
      "100%|██████████| 173/173 [00:01<00:00, 154.60it/s]\n",
      "  0%|          | 0/50 [00:00<?, ?it/s]\n",
      " 68%|██████▊   | 34/50 [00:00<00:00, 339.97it/s]\n",
      "100%|██████████| 50/50 [00:00<00:00, 337.98it/s]\n",
      "  0%|          | 0/173 [00:00<?, ?it/s]\n",
      "  9%|▊         | 15/173 [00:00<00:01, 145.06it/s]\n",
      " 17%|█▋        | 30/173 [00:00<00:01, 141.78it/s]\n"
     ]
    },
    {
     "name": "stdout",
     "output_type": "stream",
     "text": [
      "\u001b[2m\u001b[36m(func pid=8784)\u001b[0m \n",
      "\u001b[2m\u001b[36m(func pid=8784)\u001b[0m Epoch 140\n"
     ]
    },
    {
     "name": "stderr",
     "output_type": "stream",
     "text": [
      " 26%|██▌       | 45/173 [00:00<00:00, 144.66it/s]\n",
      " 35%|███▌      | 61/173 [00:00<00:00, 147.17it/s]\n",
      " 45%|████▍     | 77/173 [00:00<00:00, 150.08it/s]\n",
      " 54%|█████▍    | 93/173 [00:00<00:00, 149.39it/s]\n",
      " 64%|██████▎   | 110/173 [00:00<00:00, 153.61it/s]\n",
      " 73%|███████▎  | 127/173 [00:00<00:00, 156.68it/s]\n",
      " 83%|████████▎ | 144/173 [00:00<00:00, 158.91it/s]\n",
      " 92%|█████████▏| 160/173 [00:01<00:00, 159.12it/s]\n",
      "100%|██████████| 173/173 [00:01<00:00, 154.19it/s]\n",
      "  0%|          | 0/50 [00:00<?, ?it/s]\n",
      " 46%|████▌     | 23/50 [00:00<00:00, 156.11it/s]\n",
      "100%|██████████| 50/50 [00:00<00:00, 223.34it/s]\n",
      "  0%|          | 0/173 [00:00<?, ?it/s]\n"
     ]
    },
    {
     "name": "stdout",
     "output_type": "stream",
     "text": [
      "\u001b[2m\u001b[36m(func pid=8784)\u001b[0m Epoch 00140: reducing learning rate of group 0 to 1.4180e-07.\n",
      "\u001b[2m\u001b[36m(func pid=8784)\u001b[0m \n",
      "\u001b[2m\u001b[36m(func pid=8784)\u001b[0m Epoch 141\n"
     ]
    },
    {
     "name": "stderr",
     "output_type": "stream",
     "text": [
      " 10%|▉         | 17/173 [00:00<00:00, 162.49it/s]\n",
      " 20%|█▉        | 34/173 [00:00<00:00, 152.60it/s]\n",
      " 29%|██▉       | 50/173 [00:00<00:00, 142.96it/s]\n",
      " 38%|███▊      | 65/173 [00:00<00:00, 131.84it/s]\n",
      " 46%|████▌     | 80/173 [00:00<00:00, 135.15it/s]\n",
      " 56%|█████▌    | 97/173 [00:00<00:00, 145.08it/s]\n",
      " 66%|██████▌   | 114/173 [00:00<00:00, 150.71it/s]\n",
      " 75%|███████▌  | 130/173 [00:00<00:00, 150.76it/s]\n",
      " 85%|████████▍ | 147/173 [00:00<00:00, 156.04it/s]\n",
      " 94%|█████████▍| 163/173 [00:01<00:00, 156.32it/s]\n",
      " 64%|██████▍   | 32/50 [00:00<00:00, 316.44it/s]\n",
      "100%|██████████| 50/50 [00:00<00:00, 331.34it/s]\n",
      "  0%|          | 0/173 [00:00<?, ?it/s]\n",
      "  9%|▉         | 16/173 [00:00<00:01, 151.63it/s]\n"
     ]
    },
    {
     "name": "stdout",
     "output_type": "stream",
     "text": [
      "\u001b[2m\u001b[36m(func pid=8784)\u001b[0m \n",
      "\u001b[2m\u001b[36m(func pid=8784)\u001b[0m Epoch 142\n"
     ]
    },
    {
     "name": "stderr",
     "output_type": "stream",
     "text": [
      " 18%|█▊        | 32/173 [00:00<00:00, 154.48it/s]\n",
      " 28%|██▊       | 48/173 [00:00<00:00, 152.75it/s]\n",
      " 37%|███▋      | 64/173 [00:00<00:00, 152.84it/s]\n",
      " 46%|████▌     | 80/173 [00:00<00:00, 154.65it/s]\n",
      " 55%|█████▌    | 96/173 [00:00<00:00, 152.67it/s]\n",
      " 65%|██████▌   | 113/173 [00:00<00:00, 155.47it/s]\n",
      " 75%|███████▍  | 129/173 [00:00<00:00, 155.34it/s]\n",
      " 84%|████████▍ | 145/173 [00:00<00:00, 152.99it/s]\n",
      " 93%|█████████▎| 161/173 [00:01<00:00, 150.58it/s]\n",
      "100%|██████████| 173/173 [00:01<00:00, 152.71it/s]\n",
      "  0%|          | 0/50 [00:00<?, ?it/s]\n",
      " 68%|██████▊   | 34/50 [00:00<00:00, 336.16it/s]\n",
      "100%|██████████| 50/50 [00:00<00:00, 337.74it/s]\n",
      "  0%|          | 0/173 [00:00<?, ?it/s]\n",
      "  9%|▉         | 16/173 [00:00<00:01, 155.44it/s]\n",
      " 18%|█▊        | 32/173 [00:00<00:00, 154.49it/s]\n"
     ]
    },
    {
     "name": "stdout",
     "output_type": "stream",
     "text": [
      "\u001b[2m\u001b[36m(func pid=8784)\u001b[0m \n",
      "\u001b[2m\u001b[36m(func pid=8784)\u001b[0m Epoch 143\n"
     ]
    },
    {
     "name": "stderr",
     "output_type": "stream",
     "text": [
      " 28%|██▊       | 48/173 [00:00<00:00, 155.19it/s]\n",
      " 37%|███▋      | 64/173 [00:00<00:00, 156.82it/s]\n",
      " 46%|████▌     | 80/173 [00:00<00:00, 154.65it/s]\n",
      " 55%|█████▌    | 96/173 [00:00<00:00, 156.31it/s]\n",
      " 65%|██████▍   | 112/173 [00:00<00:00, 157.05it/s]\n",
      " 74%|███████▍  | 128/173 [00:00<00:00, 156.63it/s]\n",
      " 83%|████████▎ | 144/173 [00:00<00:00, 155.82it/s]\n",
      " 92%|█████████▏| 160/173 [00:01<00:00, 149.44it/s]\n",
      "100%|██████████| 173/173 [00:01<00:00, 153.00it/s]\n",
      "  0%|          | 0/50 [00:00<?, ?it/s]\n",
      "100%|██████████| 50/50 [00:00<00:00, 342.65it/s]\n",
      "  0%|          | 0/173 [00:00<?, ?it/s]\n",
      "  9%|▉         | 16/173 [00:00<00:01, 155.10it/s]\n"
     ]
    },
    {
     "name": "stdout",
     "output_type": "stream",
     "text": [
      "\u001b[2m\u001b[36m(func pid=8784)\u001b[0m \n",
      "\u001b[2m\u001b[36m(func pid=8784)\u001b[0m Epoch 144\n"
     ]
    },
    {
     "name": "stderr",
     "output_type": "stream",
     "text": [
      " 18%|█▊        | 32/173 [00:00<00:00, 156.08it/s]\n",
      " 28%|██▊       | 48/173 [00:00<00:00, 151.22it/s]\n",
      " 37%|███▋      | 64/173 [00:00<00:00, 151.93it/s]\n",
      " 46%|████▌     | 80/173 [00:00<00:00, 153.15it/s]\n",
      " 55%|█████▌    | 96/173 [00:00<00:00, 153.48it/s]\n",
      " 65%|██████▍   | 112/173 [00:00<00:00, 151.40it/s]\n",
      " 74%|███████▍  | 128/173 [00:00<00:00, 152.42it/s]\n",
      " 84%|████████▍ | 145/173 [00:00<00:00, 154.98it/s]\n",
      " 93%|█████████▎| 161/173 [00:01<00:00, 152.45it/s]\n",
      "100%|██████████| 173/173 [00:01<00:00, 152.98it/s]\n",
      "  0%|          | 0/50 [00:00<?, ?it/s]\n",
      "100%|██████████| 50/50 [00:00<00:00, 331.07it/s]\n",
      "  0%|          | 0/173 [00:00<?, ?it/s]\n"
     ]
    },
    {
     "name": "stdout",
     "output_type": "stream",
     "text": [
      "\u001b[2m\u001b[36m(func pid=8784)\u001b[0m \n",
      "\u001b[2m\u001b[36m(func pid=8784)\u001b[0m Epoch 145\n"
     ]
    },
    {
     "name": "stderr",
     "output_type": "stream",
     "text": [
      "  8%|▊         | 14/173 [00:00<00:01, 136.14it/s]\n",
      " 16%|█▌        | 28/173 [00:00<00:01, 125.17it/s]\n",
      " 24%|██▍       | 42/173 [00:00<00:01, 128.85it/s]\n",
      " 33%|███▎      | 57/173 [00:00<00:00, 134.72it/s]\n",
      " 42%|████▏     | 73/173 [00:00<00:00, 140.60it/s]\n",
      " 51%|█████     | 88/173 [00:00<00:00, 143.14it/s]\n",
      " 60%|█████▉    | 103/173 [00:00<00:00, 144.04it/s]\n",
      " 68%|██████▊   | 118/173 [00:00<00:00, 145.77it/s]\n",
      " 78%|███████▊  | 135/173 [00:00<00:00, 150.45it/s]\n",
      " 12%|█▏        | 6/50 [00:00<00:00, 59.49it/s]\n",
      " 84%|████████▍ | 42/50 [00:00<00:00, 233.65it/s]\n",
      "100%|██████████| 50/50 [00:00<00:00, 218.52it/s]\n",
      "  0%|          | 0/173 [00:00<?, ?it/s]\n",
      "  9%|▊         | 15/173 [00:00<00:01, 143.85it/s]\n"
     ]
    },
    {
     "name": "stdout",
     "output_type": "stream",
     "text": [
      "\u001b[2m\u001b[36m(func pid=8784)\u001b[0m \n",
      "\u001b[2m\u001b[36m(func pid=8784)\u001b[0m Epoch 146\n"
     ]
    },
    {
     "name": "stderr",
     "output_type": "stream",
     "text": [
      " 17%|█▋        | 30/173 [00:00<00:00, 147.34it/s]\n",
      " 26%|██▌       | 45/173 [00:00<00:00, 146.07it/s]\n",
      " 35%|███▍      | 60/173 [00:00<00:00, 142.51it/s]\n",
      " 43%|████▎     | 75/173 [00:00<00:00, 142.43it/s]\n",
      " 53%|█████▎    | 91/173 [00:00<00:00, 145.66it/s]\n",
      " 61%|██████▏   | 106/173 [00:00<00:00, 146.02it/s]\n",
      " 71%|███████   | 122/173 [00:00<00:00, 148.07it/s]\n",
      " 80%|███████▉  | 138/173 [00:00<00:00, 150.37it/s]\n",
      " 89%|████████▉ | 154/173 [00:01<00:00, 148.46it/s]\n",
      "100%|██████████| 173/173 [00:01<00:00, 146.95it/s]\n",
      "  0%|          | 0/50 [00:00<?, ?it/s]\n",
      "100%|██████████| 50/50 [00:00<00:00, 351.99it/s]\n",
      "  0%|          | 0/173 [00:00<?, ?it/s]\n"
     ]
    },
    {
     "name": "stdout",
     "output_type": "stream",
     "text": [
      "\u001b[2m\u001b[36m(func pid=8784)\u001b[0m Epoch 00146: reducing learning rate of group 0 to 7.0902e-08.\n",
      "\u001b[2m\u001b[36m(func pid=8784)\u001b[0m \n",
      "\u001b[2m\u001b[36m(func pid=8784)\u001b[0m Epoch 147\n"
     ]
    },
    {
     "name": "stderr",
     "output_type": "stream",
     "text": [
      "  9%|▊         | 15/173 [00:00<00:01, 142.27it/s]\n",
      " 18%|█▊        | 31/173 [00:00<00:00, 147.84it/s]\n",
      " 27%|██▋       | 46/173 [00:00<00:00, 146.03it/s]\n",
      " 35%|███▌      | 61/173 [00:00<00:00, 144.16it/s]\n",
      " 44%|████▍     | 76/173 [00:00<00:00, 145.40it/s]\n",
      " 53%|█████▎    | 92/173 [00:00<00:00, 148.46it/s]\n",
      " 62%|██████▏   | 107/173 [00:00<00:00, 146.48it/s]\n",
      " 71%|███████   | 123/173 [00:00<00:00, 149.41it/s]\n",
      " 80%|███████▉  | 138/173 [00:00<00:00, 148.51it/s]\n",
      " 89%|████████▉ | 154/173 [00:01<00:00, 149.94it/s]\n",
      "100%|██████████| 173/173 [00:01<00:00, 148.53it/s]\n",
      "  0%|          | 0/50 [00:00<?, ?it/s]\n",
      "100%|██████████| 50/50 [00:00<00:00, 337.65it/s]\n",
      "  0%|          | 0/173 [00:00<?, ?it/s]\n",
      "  9%|▊         | 15/173 [00:00<00:01, 149.74it/s]\n"
     ]
    },
    {
     "name": "stdout",
     "output_type": "stream",
     "text": [
      "\u001b[2m\u001b[36m(func pid=8784)\u001b[0m \n",
      "\u001b[2m\u001b[36m(func pid=8784)\u001b[0m Epoch 148\n"
     ]
    },
    {
     "name": "stderr",
     "output_type": "stream",
     "text": [
      " 17%|█▋        | 30/173 [00:00<00:00, 147.01it/s]\n",
      " 26%|██▌       | 45/173 [00:00<00:00, 143.37it/s]\n",
      " 35%|███▍      | 60/173 [00:00<00:00, 145.31it/s]\n",
      " 43%|████▎     | 75/173 [00:00<00:00, 146.95it/s]\n",
      " 53%|█████▎    | 92/173 [00:00<00:00, 152.10it/s]\n",
      " 62%|██████▏   | 108/173 [00:00<00:00, 152.23it/s]\n",
      " 72%|███████▏  | 124/173 [00:00<00:00, 148.21it/s]\n",
      " 81%|████████  | 140/173 [00:00<00:00, 151.30it/s]\n",
      " 90%|█████████ | 156/173 [00:01<00:00, 150.74it/s]\n",
      "100%|██████████| 173/173 [00:01<00:00, 148.98it/s]\n",
      "  0%|          | 0/50 [00:00<?, ?it/s]\n",
      " 68%|██████▊   | 34/50 [00:00<00:00, 332.09it/s]\n",
      "100%|██████████| 50/50 [00:00<00:00, 296.84it/s]\n",
      "  0%|          | 0/173 [00:00<?, ?it/s]\n",
      " 17%|█▋        | 30/173 [00:00<00:00, 145.58it/s]\n"
     ]
    },
    {
     "name": "stdout",
     "output_type": "stream",
     "text": [
      "\u001b[2m\u001b[36m(func pid=8784)\u001b[0m \n",
      "\u001b[2m\u001b[36m(func pid=8784)\u001b[0m Epoch 149\n"
     ]
    },
    {
     "name": "stderr",
     "output_type": "stream",
     "text": [
      " 27%|██▋       | 46/173 [00:00<00:00, 147.77it/s]\n",
      " 36%|███▌      | 62/173 [00:00<00:00, 149.82it/s]\n",
      " 45%|████▌     | 78/173 [00:00<00:00, 151.25it/s]\n",
      " 54%|█████▍    | 94/173 [00:00<00:00, 151.71it/s]\n",
      " 64%|██████▎   | 110/173 [00:00<00:00, 150.06it/s]\n",
      " 73%|███████▎  | 126/173 [00:00<00:00, 152.59it/s]\n",
      " 82%|████████▏ | 142/173 [00:00<00:00, 154.71it/s]\n",
      " 92%|█████████▏| 159/173 [00:01<00:00, 156.24it/s]\n",
      "  0%|          | 0/50 [00:00<?, ?it/s]\n",
      "100%|██████████| 50/50 [00:00<00:00, 331.14it/s]\n",
      "  0%|          | 0/173 [00:00<?, ?it/s]\n",
      " 10%|▉         | 17/173 [00:00<00:00, 160.26it/s]\n"
     ]
    },
    {
     "name": "stdout",
     "output_type": "stream",
     "text": [
      "\u001b[2m\u001b[36m(func pid=8784)\u001b[0m \n",
      "\u001b[2m\u001b[36m(func pid=8784)\u001b[0m Epoch 150\n"
     ]
    },
    {
     "name": "stderr",
     "output_type": "stream",
     "text": [
      " 20%|█▉        | 34/173 [00:00<00:00, 163.13it/s]\n",
      " 29%|██▉       | 51/173 [00:00<00:00, 159.12it/s]\n",
      " 39%|███▊      | 67/173 [00:00<00:00, 155.79it/s]\n",
      " 48%|████▊     | 83/173 [00:00<00:00, 155.19it/s]\n",
      " 66%|██████▋   | 115/173 [00:00<00:00, 157.29it/s]\n",
      " 76%|███████▋  | 132/173 [00:00<00:00, 160.24it/s]\n",
      " 86%|████████▌ | 149/173 [00:00<00:00, 160.31it/s]\n",
      " 96%|█████████▌| 166/173 [00:01<00:00, 129.98it/s]\n",
      "100%|██████████| 173/173 [00:01<00:00, 147.97it/s]\n",
      "  0%|          | 0/50 [00:00<?, ?it/s]\n",
      " 70%|███████   | 35/50 [00:00<00:00, 337.11it/s]\n",
      "100%|██████████| 50/50 [00:00<00:00, 347.05it/s]\n",
      "  0%|          | 0/25 [00:00<?, ?it/s]\n"
     ]
    },
    {
     "name": "stdout",
     "output_type": "stream",
     "text": [
      "\u001b[2m\u001b[36m(func pid=19104)\u001b[0m \n",
      "\u001b[2m\u001b[36m(func pid=19104)\u001b[0m Epoch 1\n"
     ]
    },
    {
     "name": "stderr",
     "output_type": "stream",
     "text": [
      "  1%|          | 1/173 [00:00<00:49,  3.48it/s]\n",
      "  7%|▋         | 12/173 [00:00<00:04, 38.32it/s]\n",
      " 14%|█▍        | 24/173 [00:00<00:02, 62.66it/s]\n",
      " 20%|██        | 35/173 [00:00<00:01, 77.18it/s]\n",
      " 27%|██▋       | 47/173 [00:00<00:01, 89.23it/s]\n",
      " 34%|███▍      | 59/173 [00:00<00:01, 97.98it/s]\n",
      " 41%|████      | 71/173 [00:00<00:00, 103.58it/s]\n",
      " 48%|████▊     | 83/173 [00:01<00:00, 106.09it/s]\n",
      " 55%|█████▍    | 95/173 [00:01<00:00, 108.48it/s]\n",
      " 62%|██████▏   | 107/173 [00:01<00:00, 110.96it/s]\n",
      " 69%|██████▉   | 119/173 [00:01<00:00, 112.92it/s]\n",
      " 76%|███████▌  | 131/173 [00:01<00:00, 112.59it/s]\n",
      "100%|██████████| 173/173 [00:01<00:00, 96.10it/s] \n",
      "  0%|          | 0/50 [00:00<?, ?it/s]\n",
      " 60%|██████    | 30/50 [00:00<00:00, 292.26it/s]\n",
      "100%|██████████| 50/50 [00:00<00:00, 296.57it/s]\n",
      "  0%|          | 0/173 [00:00<?, ?it/s]\n",
      "  6%|▋         | 11/173 [00:00<00:01, 107.88it/s]\n"
     ]
    },
    {
     "name": "stdout",
     "output_type": "stream",
     "text": [
      "\u001b[2m\u001b[36m(func pid=19104)\u001b[0m \n",
      "\u001b[2m\u001b[36m(func pid=19104)\u001b[0m Epoch 2\n"
     ]
    },
    {
     "name": "stderr",
     "output_type": "stream",
     "text": [
      " 13%|█▎        | 23/173 [00:00<00:01, 110.36it/s]\n",
      " 20%|██        | 35/173 [00:00<00:01, 110.69it/s]\n",
      " 27%|██▋       | 47/173 [00:00<00:01, 112.25it/s]\n",
      " 34%|███▍      | 59/173 [00:00<00:01, 112.13it/s]\n",
      " 41%|████      | 71/173 [00:00<00:00, 110.44it/s]\n",
      " 48%|████▊     | 83/173 [00:00<00:00, 109.05it/s]\n",
      " 54%|█████▍    | 94/173 [00:00<00:00, 108.57it/s]\n",
      " 61%|██████    | 105/173 [00:00<00:00, 108.75it/s]\n",
      " 67%|██████▋   | 116/173 [00:01<00:00, 108.77it/s]\n",
      " 74%|███████▍  | 128/173 [00:01<00:00, 109.54it/s]\n",
      " 81%|████████  | 140/173 [00:01<00:00, 110.25it/s]\n",
      " 88%|████████▊ | 152/173 [00:01<00:00, 109.32it/s]\n",
      " 95%|█████████▍| 164/173 [00:01<00:00, 109.57it/s]\n",
      "100%|██████████| 173/173 [00:01<00:00, 110.10it/s]\n",
      "  0%|          | 0/50 [00:00<?, ?it/s]\n",
      " 60%|██████    | 30/50 [00:00<00:00, 297.32it/s]\n",
      "100%|██████████| 50/50 [00:00<00:00, 303.32it/s]\n",
      "  0%|          | 0/173 [00:00<?, ?it/s]\n"
     ]
    },
    {
     "name": "stdout",
     "output_type": "stream",
     "text": [
      "\u001b[2m\u001b[36m(func pid=19104)\u001b[0m \n",
      "\u001b[2m\u001b[36m(func pid=19104)\u001b[0m Epoch 3\n"
     ]
    },
    {
     "name": "stderr",
     "output_type": "stream",
     "text": [
      "  3%|▎         | 6/173 [00:00<00:03, 41.93it/s]\n",
      " 10%|▉         | 17/173 [00:00<00:02, 75.13it/s]\n",
      " 23%|██▎       | 40/173 [00:00<00:01, 97.79it/s]\n",
      " 30%|███       | 52/173 [00:00<00:01, 104.98it/s]\n",
      " 36%|███▋      | 63/173 [00:00<00:01, 105.94it/s]\n",
      " 43%|████▎     | 75/173 [00:00<00:00, 107.73it/s]\n",
      " 50%|█████     | 87/173 [00:00<00:00, 109.27it/s]\n",
      " 57%|█████▋    | 99/173 [00:00<00:00, 112.32it/s]\n",
      " 64%|██████▍   | 111/173 [00:01<00:00, 111.90it/s]\n",
      " 71%|███████   | 123/173 [00:01<00:00, 112.97it/s]\n",
      " 78%|███████▊  | 135/173 [00:01<00:00, 111.16it/s]\n",
      " 85%|████████▍ | 147/173 [00:01<00:00, 113.25it/s]\n",
      "  0%|          | 0/50 [00:00<?, ?it/s]\n",
      "100%|██████████| 50/50 [00:00<00:00, 299.42it/s]\n",
      "  0%|          | 0/173 [00:00<?, ?it/s]\n",
      "  7%|▋         | 12/173 [00:00<00:01, 111.15it/s]\n"
     ]
    },
    {
     "name": "stdout",
     "output_type": "stream",
     "text": [
      "\u001b[2m\u001b[36m(func pid=19104)\u001b[0m \n",
      "\u001b[2m\u001b[36m(func pid=19104)\u001b[0m Epoch 4\n"
     ]
    },
    {
     "name": "stderr",
     "output_type": "stream",
     "text": [
      " 14%|█▍        | 24/173 [00:00<00:01, 111.51it/s]\n",
      " 21%|██        | 36/173 [00:00<00:01, 114.30it/s]\n",
      " 28%|██▊       | 48/173 [00:00<00:01, 115.85it/s]\n",
      " 35%|███▍      | 60/173 [00:00<00:00, 117.13it/s]\n",
      " 42%|████▏     | 72/173 [00:00<00:00, 117.53it/s]\n",
      " 49%|████▉     | 85/173 [00:00<00:00, 118.92it/s]\n",
      " 56%|█████▌    | 97/173 [00:00<00:00, 116.40it/s]\n",
      " 63%|██████▎   | 109/173 [00:00<00:00, 114.72it/s]\n",
      " 70%|██████▉   | 121/173 [00:01<00:00, 115.94it/s]\n",
      " 77%|███████▋  | 133/173 [00:01<00:00, 116.84it/s]\n",
      " 84%|████████▍ | 145/173 [00:01<00:00, 117.13it/s]\n",
      "  0%|          | 0/50 [00:00<?, ?it/s]\n",
      "100%|██████████| 50/50 [00:00<00:00, 270.02it/s]\n",
      "  0%|          | 0/173 [00:00<?, ?it/s]\n",
      "  7%|▋         | 12/173 [00:00<00:01, 114.42it/s]\n"
     ]
    },
    {
     "name": "stdout",
     "output_type": "stream",
     "text": [
      "\u001b[2m\u001b[36m(func pid=19104)\u001b[0m \n",
      "\u001b[2m\u001b[36m(func pid=19104)\u001b[0m Epoch 5\n"
     ]
    },
    {
     "name": "stderr",
     "output_type": "stream",
     "text": [
      " 14%|█▍        | 24/173 [00:00<00:01, 114.74it/s]\n",
      " 21%|██        | 36/173 [00:00<00:01, 115.21it/s]\n",
      " 28%|██▊       | 48/173 [00:00<00:01, 117.02it/s]\n",
      " 35%|███▍      | 60/173 [00:00<00:00, 117.65it/s]\n",
      " 42%|████▏     | 73/173 [00:00<00:00, 119.42it/s]\n",
      " 56%|█████▌    | 97/173 [00:00<00:00, 116.53it/s]\n",
      " 63%|██████▎   | 109/173 [00:00<00:00, 117.10it/s]\n",
      " 70%|██████▉   | 121/173 [00:01<00:00, 116.71it/s]\n",
      " 77%|███████▋  | 134/173 [00:01<00:00, 117.47it/s]\n",
      " 84%|████████▍ | 146/173 [00:01<00:00, 117.31it/s]\n",
      " 91%|█████████▏| 158/173 [00:01<00:00, 116.30it/s]\n",
      "100%|██████████| 173/173 [00:01<00:00, 116.23it/s]\n",
      "  0%|          | 0/50 [00:00<?, ?it/s]\n",
      "100%|██████████| 50/50 [00:00<00:00, 300.96it/s]\n",
      "  0%|          | 0/173 [00:00<?, ?it/s]\n"
     ]
    },
    {
     "name": "stdout",
     "output_type": "stream",
     "text": [
      "\u001b[2m\u001b[36m(func pid=19104)\u001b[0m \n",
      "\u001b[2m\u001b[36m(func pid=19104)\u001b[0m Epoch 6\n"
     ]
    },
    {
     "name": "stderr",
     "output_type": "stream",
     "text": [
      "  6%|▋         | 11/173 [00:00<00:01, 109.70it/s]\n",
      " 14%|█▍        | 24/173 [00:00<00:01, 115.50it/s]\n",
      " 21%|██▏       | 37/173 [00:00<00:01, 118.05it/s]\n",
      " 28%|██▊       | 49/173 [00:00<00:01, 117.43it/s]\n",
      " 36%|███▌      | 62/173 [00:00<00:00, 118.91it/s]\n",
      " 43%|████▎     | 74/173 [00:00<00:00, 118.72it/s]\n",
      " 50%|█████     | 87/173 [00:00<00:00, 119.81it/s]\n",
      " 58%|█████▊    | 100/173 [00:00<00:00, 119.97it/s]\n",
      " 65%|██████▍   | 112/173 [00:00<00:00, 119.58it/s]\n",
      " 72%|███████▏  | 125/173 [00:01<00:00, 120.29it/s]\n",
      " 80%|███████▉  | 138/173 [00:01<00:00, 120.23it/s]\n",
      " 87%|████████▋ | 151/173 [00:01<00:00, 119.94it/s]\n",
      "  0%|          | 0/50 [00:00<?, ?it/s]\n",
      "100%|██████████| 50/50 [00:00<00:00, 303.36it/s]\n",
      "  0%|          | 0/173 [00:00<?, ?it/s]\n",
      "  7%|▋         | 12/173 [00:00<00:01, 116.66it/s]\n"
     ]
    },
    {
     "name": "stdout",
     "output_type": "stream",
     "text": [
      "\u001b[2m\u001b[36m(func pid=19104)\u001b[0m \n",
      "\u001b[2m\u001b[36m(func pid=19104)\u001b[0m Epoch 7\n"
     ]
    },
    {
     "name": "stderr",
     "output_type": "stream",
     "text": [
      " 14%|█▍        | 25/173 [00:00<00:01, 119.51it/s]\n",
      " 21%|██▏       | 37/173 [00:00<00:01, 119.27it/s]\n",
      " 29%|██▉       | 50/173 [00:00<00:01, 119.97it/s]\n",
      " 36%|███▌      | 62/173 [00:00<00:00, 118.46it/s]\n",
      " 43%|████▎     | 74/173 [00:00<00:00, 117.07it/s]\n",
      " 50%|████▉     | 86/173 [00:00<00:00, 117.14it/s]\n",
      " 57%|█████▋    | 98/173 [00:00<00:00, 117.70it/s]\n",
      " 64%|██████▎   | 110/173 [00:00<00:00, 116.31it/s]\n",
      " 71%|███████   | 122/173 [00:01<00:00, 115.66it/s]\n",
      " 77%|███████▋  | 134/173 [00:01<00:00, 116.28it/s]\n",
      " 85%|████████▍ | 147/173 [00:01<00:00, 118.22it/s]\n",
      " 92%|█████████▏| 159/173 [00:01<00:00, 118.01it/s]\n",
      "  0%|          | 0/50 [00:00<?, ?it/s]\n",
      " 60%|██████    | 30/50 [00:00<00:00, 290.86it/s]\n",
      "100%|██████████| 50/50 [00:00<00:00, 201.60it/s]\n",
      "  0%|          | 0/173 [00:00<?, ?it/s]\n",
      "  7%|▋         | 12/173 [00:00<00:01, 115.03it/s]\n"
     ]
    },
    {
     "name": "stdout",
     "output_type": "stream",
     "text": [
      "\u001b[2m\u001b[36m(func pid=19104)\u001b[0m \n",
      "\u001b[2m\u001b[36m(func pid=19104)\u001b[0m Epoch 8\n"
     ]
    },
    {
     "name": "stderr",
     "output_type": "stream",
     "text": [
      " 14%|█▍        | 25/173 [00:00<00:01, 119.16it/s]\n",
      " 21%|██▏       | 37/173 [00:00<00:01, 115.81it/s]\n",
      " 28%|██▊       | 49/173 [00:00<00:01, 115.73it/s]\n",
      " 36%|███▌      | 62/173 [00:00<00:00, 117.80it/s]\n",
      " 43%|████▎     | 74/173 [00:00<00:00, 118.15it/s]\n",
      " 50%|████▉     | 86/173 [00:00<00:00, 116.38it/s]\n",
      " 57%|█████▋    | 98/173 [00:00<00:00, 116.34it/s]\n",
      " 64%|██████▎   | 110/173 [00:00<00:00, 115.77it/s]\n",
      " 71%|███████   | 122/173 [00:01<00:00, 116.09it/s]\n",
      " 77%|███████▋  | 134/173 [00:01<00:00, 114.66it/s]\n",
      " 84%|████████▍ | 146/173 [00:01<00:00, 114.58it/s]\n",
      " 91%|█████████▏| 158/173 [00:01<00:00, 113.33it/s]\n",
      "100%|██████████| 173/173 [00:01<00:00, 115.71it/s]\n",
      "  0%|          | 0/50 [00:00<?, ?it/s]\n",
      "100%|██████████| 50/50 [00:00<00:00, 284.81it/s]\n",
      "  0%|          | 0/173 [00:00<?, ?it/s]\n",
      "  7%|▋         | 12/173 [00:00<00:01, 113.13it/s]\n"
     ]
    },
    {
     "name": "stdout",
     "output_type": "stream",
     "text": [
      "\u001b[2m\u001b[36m(func pid=19104)\u001b[0m \n",
      "\u001b[2m\u001b[36m(func pid=19104)\u001b[0m Epoch 9\n"
     ]
    },
    {
     "name": "stderr",
     "output_type": "stream",
     "text": [
      " 14%|█▍        | 24/173 [00:00<00:01, 116.55it/s]\n",
      " 21%|██        | 36/173 [00:00<00:01, 114.58it/s]\n",
      " 28%|██▊       | 48/173 [00:00<00:01, 114.43it/s]\n",
      " 35%|███▍      | 60/173 [00:00<00:00, 115.56it/s]\n",
      " 42%|████▏     | 72/173 [00:00<00:00, 116.01it/s]\n",
      " 49%|████▊     | 84/173 [00:00<00:00, 114.97it/s]\n",
      " 55%|█████▌    | 96/173 [00:00<00:00, 116.27it/s]\n",
      " 63%|██████▎   | 109/173 [00:00<00:00, 118.14it/s]\n",
      " 70%|██████▉   | 121/173 [00:01<00:00, 115.47it/s]\n",
      " 77%|███████▋  | 133/173 [00:01<00:00, 116.60it/s]\n",
      " 84%|████████▍ | 146/173 [00:01<00:00, 118.46it/s]\n",
      " 92%|█████████▏| 159/173 [00:01<00:00, 119.09it/s]\n",
      "  0%|          | 0/50 [00:00<?, ?it/s]\n",
      "100%|██████████| 50/50 [00:00<00:00, 314.51it/s]\n",
      "  0%|          | 0/173 [00:00<?, ?it/s]\n",
      "  8%|▊         | 13/173 [00:00<00:01, 121.51it/s]\n"
     ]
    },
    {
     "name": "stdout",
     "output_type": "stream",
     "text": [
      "\u001b[2m\u001b[36m(func pid=19104)\u001b[0m \n",
      "\u001b[2m\u001b[36m(func pid=19104)\u001b[0m Epoch 10\n"
     ]
    },
    {
     "name": "stderr",
     "output_type": "stream",
     "text": [
      " 15%|█▌        | 26/173 [00:00<00:01, 124.28it/s]\n",
      " 23%|██▎       | 39/173 [00:00<00:01, 123.40it/s]\n",
      " 30%|███       | 52/173 [00:00<00:00, 123.88it/s]\n",
      " 38%|███▊      | 65/173 [00:00<00:00, 123.57it/s]\n",
      " 45%|████▌     | 78/173 [00:00<00:00, 122.53it/s]\n",
      " 53%|█████▎    | 91/173 [00:00<00:00, 120.31it/s]\n",
      " 60%|██████    | 104/173 [00:00<00:00, 120.61it/s]\n",
      " 68%|██████▊   | 117/173 [00:00<00:00, 120.99it/s]\n",
      " 75%|███████▌  | 130/173 [00:01<00:00, 121.38it/s]\n",
      " 83%|████████▎ | 143/173 [00:01<00:00, 119.78it/s]\n",
      "100%|██████████| 173/173 [00:01<00:00, 121.49it/s]\n",
      "  0%|          | 0/50 [00:00<?, ?it/s]\n",
      " 64%|██████▍   | 32/50 [00:00<00:00, 311.04it/s]\n",
      "100%|██████████| 50/50 [00:00<00:00, 310.65it/s]\n",
      "  0%|          | 0/173 [00:00<?, ?it/s]\n",
      "  8%|▊         | 13/173 [00:00<00:01, 120.48it/s]\n"
     ]
    },
    {
     "name": "stdout",
     "output_type": "stream",
     "text": [
      "\u001b[2m\u001b[36m(func pid=19104)\u001b[0m \n",
      "\u001b[2m\u001b[36m(func pid=19104)\u001b[0m Epoch 11\n"
     ]
    },
    {
     "name": "stderr",
     "output_type": "stream",
     "text": [
      " 15%|█▌        | 26/173 [00:00<00:01, 118.57it/s]\n",
      " 22%|██▏       | 38/173 [00:00<00:01, 118.10it/s]\n",
      " 29%|██▉       | 51/173 [00:00<00:01, 119.94it/s]\n",
      " 37%|███▋      | 64/173 [00:00<00:00, 120.49it/s]\n",
      " 45%|████▍     | 77/173 [00:00<00:00, 120.41it/s]\n",
      " 52%|█████▏    | 90/173 [00:00<00:00, 121.78it/s]\n",
      " 60%|█████▉    | 103/173 [00:00<00:00, 120.78it/s]\n",
      " 67%|██████▋   | 116/173 [00:00<00:00, 120.59it/s]\n",
      " 75%|███████▍  | 129/173 [00:01<00:00, 120.84it/s]\n",
      " 82%|████████▏ | 142/173 [00:01<00:00, 120.73it/s]\n",
      " 90%|████████▉ | 155/173 [00:01<00:00, 120.94it/s]\n",
      " 97%|█████████▋| 168/173 [00:01<00:00, 120.49it/s]\n",
      "100%|██████████| 173/173 [00:01<00:00, 120.33it/s]\n",
      "  0%|          | 0/50 [00:00<?, ?it/s]\n",
      " 64%|██████▍   | 32/50 [00:00<00:00, 313.47it/s]\n",
      "100%|██████████| 50/50 [00:00<00:00, 314.35it/s]\n",
      "  0%|          | 0/173 [00:00<?, ?it/s]\n",
      "  7%|▋         | 12/173 [00:00<00:01, 115.43it/s]\n"
     ]
    },
    {
     "name": "stdout",
     "output_type": "stream",
     "text": [
      "\u001b[2m\u001b[36m(func pid=19104)\u001b[0m \n",
      "\u001b[2m\u001b[36m(func pid=19104)\u001b[0m Epoch 12\n"
     ]
    },
    {
     "name": "stderr",
     "output_type": "stream",
     "text": [
      " 14%|█▍        | 24/173 [00:00<00:01, 106.08it/s]\n",
      " 20%|██        | 35/173 [00:00<00:01, 106.14it/s]\n",
      " 28%|██▊       | 48/173 [00:00<00:01, 111.74it/s]\n",
      " 35%|███▍      | 60/173 [00:00<00:00, 114.24it/s]\n",
      " 42%|████▏     | 72/173 [00:00<00:00, 115.65it/s]\n",
      " 49%|████▊     | 84/173 [00:00<00:00, 115.58it/s]\n",
      " 55%|█████▌    | 96/173 [00:00<00:00, 116.38it/s]\n",
      " 63%|██████▎   | 109/173 [00:00<00:00, 117.90it/s]\n",
      " 71%|███████   | 122/173 [00:01<00:00, 119.76it/s]\n",
      " 78%|███████▊  | 135/173 [00:01<00:00, 120.59it/s]\n",
      " 86%|████████▌ | 148/173 [00:01<00:00, 119.53it/s]\n",
      "  0%|          | 0/50 [00:00<?, ?it/s]\n",
      " 42%|████▏     | 21/50 [00:00<00:00, 141.01it/s]\n",
      "100%|██████████| 50/50 [00:00<00:00, 207.00it/s]\n",
      "  0%|          | 0/173 [00:00<?, ?it/s]\n",
      "  7%|▋         | 12/173 [00:00<00:01, 118.89it/s]\n"
     ]
    },
    {
     "name": "stdout",
     "output_type": "stream",
     "text": [
      "\u001b[2m\u001b[36m(func pid=19104)\u001b[0m \n",
      "\u001b[2m\u001b[36m(func pid=19104)\u001b[0m Epoch 13\n"
     ]
    },
    {
     "name": "stderr",
     "output_type": "stream",
     "text": [
      " 14%|█▍        | 24/173 [00:00<00:01, 117.13it/s]\n",
      " 21%|██        | 36/173 [00:00<00:01, 116.58it/s]\n",
      " 28%|██▊       | 48/173 [00:00<00:01, 116.94it/s]\n",
      " 35%|███▌      | 61/173 [00:00<00:00, 118.55it/s]\n",
      " 42%|████▏     | 73/173 [00:00<00:00, 118.91it/s]\n",
      " 50%|████▉     | 86/173 [00:00<00:00, 119.23it/s]\n",
      " 57%|█████▋    | 99/173 [00:00<00:00, 119.88it/s]\n",
      " 64%|██████▍   | 111/173 [00:00<00:00, 119.28it/s]\n",
      " 71%|███████   | 123/173 [00:01<00:00, 119.47it/s]\n",
      " 79%|███████▊  | 136/173 [00:01<00:00, 120.11it/s]\n",
      " 86%|████████▌ | 149/173 [00:01<00:00, 119.90it/s]\n",
      "100%|██████████| 173/173 [00:01<00:00, 118.97it/s]\n",
      "  0%|          | 0/50 [00:00<?, ?it/s]\n",
      " 60%|██████    | 30/50 [00:00<00:00, 298.70it/s]\n",
      "100%|██████████| 50/50 [00:00<00:00, 314.08it/s]\n",
      "  0%|          | 0/173 [00:00<?, ?it/s]\n",
      "  8%|▊         | 13/173 [00:00<00:01, 125.03it/s]\n"
     ]
    },
    {
     "name": "stdout",
     "output_type": "stream",
     "text": [
      "\u001b[2m\u001b[36m(func pid=19104)\u001b[0m \n",
      "\u001b[2m\u001b[36m(func pid=19104)\u001b[0m Epoch 14\n"
     ]
    },
    {
     "name": "stderr",
     "output_type": "stream",
     "text": [
      " 15%|█▌        | 26/173 [00:00<00:01, 121.49it/s]\n",
      " 23%|██▎       | 39/173 [00:00<00:01, 122.18it/s]\n",
      " 30%|███       | 52/173 [00:00<00:00, 122.27it/s]\n",
      " 38%|███▊      | 65/173 [00:00<00:00, 122.49it/s]\n",
      " 45%|████▌     | 78/173 [00:00<00:00, 122.54it/s]\n",
      " 53%|█████▎    | 91/173 [00:00<00:00, 121.73it/s]\n",
      " 60%|██████    | 104/173 [00:00<00:00, 122.86it/s]\n",
      " 68%|██████▊   | 117/173 [00:00<00:00, 124.55it/s]\n",
      " 75%|███████▌  | 130/173 [00:01<00:00, 123.63it/s]\n",
      " 83%|████████▎ | 143/173 [00:01<00:00, 125.14it/s]\n",
      " 90%|█████████ | 156/173 [00:01<00:00, 124.78it/s]\n",
      "100%|██████████| 173/173 [00:01<00:00, 123.50it/s]\n",
      "  0%|          | 0/50 [00:00<?, ?it/s]\n",
      "100%|██████████| 50/50 [00:00<00:00, 325.35it/s]\n",
      "  0%|          | 0/173 [00:00<?, ?it/s]\n",
      "  8%|▊         | 13/173 [00:00<00:01, 120.60it/s]\n"
     ]
    },
    {
     "name": "stdout",
     "output_type": "stream",
     "text": [
      "\u001b[2m\u001b[36m(func pid=19104)\u001b[0m \n",
      "\u001b[2m\u001b[36m(func pid=19104)\u001b[0m Epoch 15\n"
     ]
    },
    {
     "name": "stderr",
     "output_type": "stream",
     "text": [
      " 15%|█▌        | 26/173 [00:00<00:01, 114.49it/s]\n",
      " 22%|██▏       | 38/173 [00:00<00:01, 116.19it/s]\n",
      " 29%|██▉       | 51/173 [00:00<00:01, 119.14it/s]\n",
      " 36%|███▋      | 63/173 [00:00<00:00, 118.59it/s]\n",
      " 44%|████▍     | 76/173 [00:00<00:00, 120.70it/s]\n",
      " 51%|█████▏    | 89/173 [00:00<00:00, 122.52it/s]\n",
      " 59%|█████▉    | 102/173 [00:00<00:00, 124.06it/s]\n",
      " 66%|██████▋   | 115/173 [00:00<00:00, 124.59it/s]\n",
      " 74%|███████▍  | 128/173 [00:01<00:00, 124.41it/s]\n",
      " 82%|████████▏ | 141/173 [00:01<00:00, 124.72it/s]\n",
      " 89%|████████▉ | 154/173 [00:01<00:00, 124.77it/s]\n",
      "100%|██████████| 173/173 [00:01<00:00, 122.29it/s]\n",
      "  0%|          | 0/50 [00:00<?, ?it/s]\n",
      " 64%|██████▍   | 32/50 [00:00<00:00, 312.41it/s]\n",
      "100%|██████████| 50/50 [00:00<00:00, 315.72it/s]\n",
      "  0%|          | 0/173 [00:00<?, ?it/s]\n",
      "  8%|▊         | 13/173 [00:00<00:01, 122.46it/s]\n"
     ]
    },
    {
     "name": "stdout",
     "output_type": "stream",
     "text": [
      "\u001b[2m\u001b[36m(func pid=19104)\u001b[0m \n",
      "\u001b[2m\u001b[36m(func pid=19104)\u001b[0m Epoch 16\n"
     ]
    },
    {
     "name": "stderr",
     "output_type": "stream",
     "text": [
      " 15%|█▌        | 26/173 [00:00<00:01, 124.12it/s]\n",
      " 23%|██▎       | 39/173 [00:00<00:01, 124.46it/s]\n",
      " 30%|███       | 52/173 [00:00<00:00, 124.66it/s]\n",
      " 38%|███▊      | 65/173 [00:00<00:00, 125.24it/s]\n",
      " 45%|████▌     | 78/173 [00:00<00:00, 125.13it/s]\n",
      " 53%|█████▎    | 91/173 [00:00<00:00, 125.91it/s]\n",
      " 60%|██████    | 104/173 [00:00<00:00, 124.91it/s]\n",
      " 68%|██████▊   | 117/173 [00:00<00:00, 123.70it/s]\n",
      " 75%|███████▌  | 130/173 [00:01<00:00, 124.18it/s]\n",
      " 83%|████████▎ | 143/173 [00:01<00:00, 123.68it/s]\n",
      " 90%|█████████ | 156/173 [00:01<00:00, 123.34it/s]\n",
      "100%|██████████| 173/173 [00:01<00:00, 124.12it/s]\n",
      "  0%|          | 0/50 [00:00<?, ?it/s]\n",
      "100%|██████████| 50/50 [00:00<00:00, 311.18it/s]\n",
      "  0%|          | 0/173 [00:00<?, ?it/s]\n",
      "  7%|▋         | 12/173 [00:00<00:01, 118.57it/s]\n"
     ]
    },
    {
     "name": "stdout",
     "output_type": "stream",
     "text": [
      "\u001b[2m\u001b[36m(func pid=19104)\u001b[0m \n",
      "\u001b[2m\u001b[36m(func pid=19104)\u001b[0m Epoch 17\n"
     ]
    },
    {
     "name": "stderr",
     "output_type": "stream",
     "text": [
      " 14%|█▍        | 25/173 [00:00<00:01, 119.08it/s]\n",
      " 22%|██▏       | 38/173 [00:00<00:01, 120.62it/s]\n",
      " 29%|██▉       | 51/173 [00:00<00:01, 120.19it/s]\n",
      " 37%|███▋      | 64/173 [00:00<00:00, 120.64it/s]\n",
      " 45%|████▍     | 77/173 [00:00<00:00, 119.46it/s]\n",
      " 52%|█████▏    | 90/173 [00:00<00:00, 119.98it/s]\n",
      " 59%|█████▉    | 102/173 [00:00<00:00, 119.74it/s]\n",
      " 66%|██████▋   | 115/173 [00:00<00:00, 119.86it/s]\n",
      " 73%|███████▎  | 127/173 [00:01<00:00, 116.82it/s]\n",
      " 80%|████████  | 139/173 [00:01<00:00, 112.56it/s]\n",
      " 87%|████████▋ | 151/173 [00:01<00:00, 111.73it/s]\n",
      " 94%|█████████▍| 163/173 [00:01<00:00, 110.64it/s]\n",
      "100%|██████████| 173/173 [00:01<00:00, 115.64it/s]\n",
      "  0%|          | 0/50 [00:00<?, ?it/s]\n",
      " 12%|█▏        | 6/50 [00:00<00:00, 58.84it/s]\n",
      "100%|██████████| 50/50 [00:00<00:00, 199.11it/s]\n",
      "  0%|          | 0/173 [00:00<?, ?it/s]\n",
      "  6%|▋         | 11/173 [00:00<00:01, 105.75it/s]\n",
      " 13%|█▎        | 22/173 [00:00<00:01, 106.49it/s]\n"
     ]
    },
    {
     "name": "stdout",
     "output_type": "stream",
     "text": [
      "\u001b[2m\u001b[36m(func pid=19104)\u001b[0m \n",
      "\u001b[2m\u001b[36m(func pid=19104)\u001b[0m Epoch 18\n"
     ]
    },
    {
     "name": "stderr",
     "output_type": "stream",
     "text": [
      " 19%|█▉        | 33/173 [00:00<00:01, 105.73it/s]\n",
      " 25%|██▌       | 44/173 [00:00<00:01, 104.94it/s]\n",
      " 32%|███▏      | 55/173 [00:00<00:01, 106.69it/s]\n",
      " 39%|███▉      | 68/173 [00:00<00:00, 112.55it/s]\n",
      " 47%|████▋     | 81/173 [00:00<00:00, 115.42it/s]\n",
      " 54%|█████▍    | 93/173 [00:00<00:00, 115.11it/s]\n",
      " 61%|██████    | 105/173 [00:00<00:00, 112.36it/s]\n",
      " 68%|██████▊   | 117/173 [00:01<00:00, 110.90it/s]\n",
      " 75%|███████▍  | 129/173 [00:01<00:00, 111.31it/s]\n",
      " 82%|████████▏ | 141/173 [00:01<00:00, 93.09it/s] \n",
      " 87%|████████▋ | 151/173 [00:01<00:00, 88.84it/s]\n",
      "  0%|          | 0/50 [00:00<?, ?it/s]\n",
      " 46%|████▌     | 23/50 [00:00<00:00, 223.78it/s]\n",
      "100%|██████████| 50/50 [00:00<00:00, 230.79it/s]\n",
      "  0%|          | 0/173 [00:00<?, ?it/s]\n",
      "  6%|▌         | 10/173 [00:00<00:01, 95.81it/s]\n"
     ]
    },
    {
     "name": "stdout",
     "output_type": "stream",
     "text": [
      "\u001b[2m\u001b[36m(func pid=19104)\u001b[0m \n",
      "\u001b[2m\u001b[36m(func pid=19104)\u001b[0m Epoch 19\n"
     ]
    },
    {
     "name": "stderr",
     "output_type": "stream",
     "text": [
      " 12%|█▏        | 21/173 [00:00<00:01, 101.64it/s]\n",
      " 18%|█▊        | 32/173 [00:00<00:01, 103.59it/s]\n",
      " 25%|██▍       | 43/173 [00:00<00:01, 102.95it/s]\n",
      " 31%|███       | 54/173 [00:00<00:01, 101.05it/s]\n",
      " 38%|███▊      | 65/173 [00:00<00:01, 100.50it/s]\n",
      " 44%|████▍     | 76/173 [00:00<00:00, 101.39it/s]\n",
      " 50%|█████     | 87/173 [00:00<00:00, 100.46it/s]\n",
      " 57%|█████▋    | 98/173 [00:00<00:00, 100.79it/s]\n",
      " 63%|██████▎   | 109/173 [00:01<00:00, 100.64it/s]\n",
      " 69%|██████▉   | 120/173 [00:01<00:00, 103.30it/s]\n",
      " 76%|███████▌  | 131/173 [00:01<00:00, 104.96it/s]\n",
      " 82%|████████▏ | 142/173 [00:01<00:00, 104.27it/s]\n",
      " 88%|████████▊ | 153/173 [00:01<00:00, 103.09it/s]\n",
      " 95%|█████████▍| 164/173 [00:01<00:00, 96.61it/s] \n",
      "  0%|          | 0/50 [00:00<?, ?it/s]\n",
      " 48%|████▊     | 24/50 [00:00<00:00, 239.82it/s]\n",
      "100%|██████████| 50/50 [00:00<00:00, 236.89it/s]\n",
      "  0%|          | 0/173 [00:00<?, ?it/s]\n",
      "  5%|▌         | 9/173 [00:00<00:01, 86.50it/s]\n"
     ]
    },
    {
     "name": "stdout",
     "output_type": "stream",
     "text": [
      "\u001b[2m\u001b[36m(func pid=19104)\u001b[0m \n",
      "\u001b[2m\u001b[36m(func pid=19104)\u001b[0m Epoch 20\n"
     ]
    },
    {
     "name": "stderr",
     "output_type": "stream",
     "text": [
      " 10%|█         | 18/173 [00:00<00:01, 77.73it/s]\n",
      " 15%|█▌        | 26/173 [00:00<00:01, 73.83it/s]\n",
      " 20%|█▉        | 34/173 [00:00<00:01, 74.09it/s]\n",
      " 24%|██▍       | 42/173 [00:00<00:01, 72.73it/s]\n",
      " 30%|███       | 52/173 [00:00<00:01, 78.76it/s]\n",
      " 36%|███▌      | 62/173 [00:00<00:01, 84.67it/s]\n",
      " 42%|████▏     | 72/173 [00:00<00:01, 86.69it/s]\n",
      " 47%|████▋     | 82/173 [00:00<00:01, 88.53it/s]\n",
      " 53%|█████▎    | 91/173 [00:01<00:00, 88.23it/s]\n",
      " 58%|█████▊    | 101/173 [00:01<00:00, 90.21it/s]\n",
      " 64%|██████▍   | 111/173 [00:01<00:00, 90.53it/s]\n",
      " 70%|██████▉   | 121/173 [00:01<00:00, 91.92it/s]\n",
      " 76%|███████▌  | 131/173 [00:01<00:00, 93.91it/s]\n",
      " 82%|████████▏ | 141/173 [00:01<00:00, 94.34it/s]\n",
      " 87%|████████▋ | 151/173 [00:01<00:00, 91.21it/s]\n",
      " 94%|█████████▎| 162/173 [00:01<00:00, 94.62it/s]\n",
      "100%|██████████| 173/173 [00:01<00:00, 88.05it/s]\n",
      "  0%|          | 0/50 [00:00<?, ?it/s]\n",
      " 54%|█████▍    | 27/50 [00:00<00:00, 269.00it/s]\n",
      "100%|██████████| 50/50 [00:00<00:00, 275.69it/s]\n",
      "  0%|          | 0/173 [00:00<?, ?it/s]\n"
     ]
    },
    {
     "name": "stdout",
     "output_type": "stream",
     "text": [
      "\u001b[2m\u001b[36m(func pid=19104)\u001b[0m Epoch 00020: reducing learning rate of group 0 to 2.9152e-03.\n",
      "\u001b[2m\u001b[36m(func pid=19104)\u001b[0m \n",
      "\u001b[2m\u001b[36m(func pid=19104)\u001b[0m Epoch 21\n"
     ]
    },
    {
     "name": "stderr",
     "output_type": "stream",
     "text": [
      "  6%|▋         | 11/173 [00:00<00:01, 103.05it/s]\n",
      " 13%|█▎        | 22/173 [00:00<00:01, 102.89it/s]\n",
      " 19%|█▉        | 33/173 [00:00<00:01, 100.31it/s]\n",
      " 25%|██▌       | 44/173 [00:00<00:01, 97.70it/s] \n",
      " 33%|███▎      | 57/173 [00:00<00:01, 106.04it/s]\n",
      " 39%|███▉      | 68/173 [00:00<00:01, 101.54it/s]\n",
      " 46%|████▌     | 80/173 [00:00<00:00, 104.81it/s]\n",
      " 53%|█████▎    | 92/173 [00:00<00:00, 108.98it/s]\n",
      " 60%|██████    | 104/173 [00:00<00:00, 111.65it/s]\n",
      " 67%|██████▋   | 116/173 [00:01<00:00, 112.07it/s]\n",
      " 74%|███████▍  | 128/173 [00:01<00:00, 114.22it/s]\n",
      " 82%|████████▏ | 141/173 [00:01<00:00, 116.96it/s]\n",
      " 88%|████████▊ | 153/173 [00:01<00:00, 116.84it/s]\n",
      " 95%|█████████▌| 165/173 [00:01<00:00, 117.41it/s]\n",
      "  0%|          | 0/50 [00:00<?, ?it/s]\n",
      "100%|██████████| 50/50 [00:00<00:00, 290.50it/s]\n",
      "  0%|          | 0/173 [00:00<?, ?it/s]\n",
      "  7%|▋         | 12/173 [00:00<00:01, 113.20it/s]\n"
     ]
    },
    {
     "name": "stdout",
     "output_type": "stream",
     "text": [
      "\u001b[2m\u001b[36m(func pid=19104)\u001b[0m \n",
      "\u001b[2m\u001b[36m(func pid=19104)\u001b[0m Epoch 22\n"
     ]
    },
    {
     "name": "stderr",
     "output_type": "stream",
     "text": [
      " 14%|█▍        | 24/173 [00:00<00:01, 112.00it/s]\n",
      " 21%|██        | 36/173 [00:00<00:01, 109.31it/s]\n",
      " 28%|██▊       | 48/173 [00:00<00:01, 110.38it/s]\n",
      " 35%|███▍      | 60/173 [00:00<00:01, 112.72it/s]\n",
      " 42%|████▏     | 72/173 [00:00<00:00, 110.24it/s]\n",
      " 49%|████▊     | 84/173 [00:00<00:00, 108.24it/s]\n",
      " 55%|█████▍    | 95/173 [00:00<00:00, 107.77it/s]\n",
      " 61%|██████▏   | 106/173 [00:00<00:00, 103.86it/s]\n",
      " 68%|██████▊   | 117/173 [00:01<00:00, 100.33it/s]\n",
      " 74%|███████▍  | 128/173 [00:01<00:00, 98.84it/s] \n",
      " 80%|████████  | 139/173 [00:01<00:00, 100.97it/s]\n",
      " 87%|████████▋ | 150/173 [00:01<00:00, 99.85it/s] \n",
      "100%|██████████| 173/173 [00:01<00:00, 98.10it/s]\n",
      "  0%|          | 0/50 [00:00<?, ?it/s]\n",
      " 54%|█████▍    | 27/50 [00:00<00:00, 258.28it/s]\n",
      "100%|██████████| 50/50 [00:00<00:00, 266.02it/s]\n",
      "  0%|          | 0/173 [00:00<?, ?it/s]\n",
      "  7%|▋         | 12/173 [00:00<00:01, 113.36it/s]\n"
     ]
    },
    {
     "name": "stdout",
     "output_type": "stream",
     "text": [
      "\u001b[2m\u001b[36m(func pid=19104)\u001b[0m \n",
      "\u001b[2m\u001b[36m(func pid=19104)\u001b[0m Epoch 23\n"
     ]
    },
    {
     "name": "stderr",
     "output_type": "stream",
     "text": [
      " 14%|█▍        | 24/173 [00:00<00:01, 113.13it/s]\n",
      " 21%|██        | 36/173 [00:00<00:01, 108.80it/s]\n",
      " 27%|██▋       | 47/173 [00:00<00:01, 108.61it/s]\n",
      " 34%|███▎      | 58/173 [00:00<00:01, 106.93it/s]\n",
      " 40%|████      | 70/173 [00:00<00:00, 108.41it/s]\n",
      " 47%|████▋     | 81/173 [00:00<00:00, 107.70it/s]\n",
      " 53%|█████▎    | 92/173 [00:00<00:00, 108.36it/s]\n",
      " 60%|█████▉    | 103/173 [00:00<00:00, 108.68it/s]\n",
      " 66%|██████▌   | 114/173 [00:01<00:00, 106.56it/s]\n",
      " 72%|███████▏  | 125/173 [00:01<00:00, 106.88it/s]\n",
      " 79%|███████▊  | 136/173 [00:01<00:00, 106.51it/s]\n",
      " 86%|████████▌ | 148/173 [00:01<00:00, 107.94it/s]\n",
      " 92%|█████████▏| 159/173 [00:01<00:00, 104.85it/s]\n",
      "100%|██████████| 173/173 [00:01<00:00, 106.60it/s]\n",
      "  0%|          | 0/50 [00:00<?, ?it/s]\n",
      " 58%|█████▊    | 29/50 [00:00<00:00, 289.89it/s]\n",
      "100%|██████████| 50/50 [00:00<00:00, 293.25it/s]\n",
      "  0%|          | 0/173 [00:00<?, ?it/s]\n",
      "  7%|▋         | 12/173 [00:00<00:01, 116.67it/s]\n"
     ]
    },
    {
     "name": "stdout",
     "output_type": "stream",
     "text": [
      "\u001b[2m\u001b[36m(func pid=19104)\u001b[0m \n",
      "\u001b[2m\u001b[36m(func pid=19104)\u001b[0m Epoch 24\n"
     ]
    },
    {
     "name": "stderr",
     "output_type": "stream",
     "text": [
      " 14%|█▍        | 24/173 [00:00<00:01, 115.81it/s]\n",
      " 21%|██        | 36/173 [00:00<00:01, 113.63it/s]\n",
      " 28%|██▊       | 48/173 [00:00<00:01, 109.78it/s]\n",
      " 35%|███▍      | 60/173 [00:00<00:01, 107.96it/s]\n",
      " 41%|████      | 71/173 [00:00<00:00, 106.41it/s]\n",
      " 47%|████▋     | 82/173 [00:00<00:00, 102.69it/s]\n",
      " 54%|█████▍    | 93/173 [00:00<00:00, 104.23it/s]\n",
      " 60%|██████    | 104/173 [00:00<00:00, 99.30it/s]\n",
      " 67%|██████▋   | 116/173 [00:01<00:00, 102.79it/s]\n",
      " 74%|███████▍  | 128/173 [00:01<00:00, 105.28it/s]\n",
      " 81%|████████  | 140/173 [00:01<00:00, 107.60it/s]\n",
      " 88%|████████▊ | 152/173 [00:01<00:00, 109.02it/s]\n",
      "100%|██████████| 173/173 [00:01<00:00, 107.51it/s]\n",
      "  0%|          | 0/50 [00:00<?, ?it/s]\n",
      " 56%|█████▌    | 28/50 [00:00<00:00, 274.24it/s]\n",
      "100%|██████████| 50/50 [00:00<00:00, 273.09it/s]\n",
      "  0%|          | 0/173 [00:00<?, ?it/s]\n",
      "  6%|▋         | 11/173 [00:00<00:01, 108.63it/s]\n"
     ]
    },
    {
     "name": "stdout",
     "output_type": "stream",
     "text": [
      "\u001b[2m\u001b[36m(func pid=19104)\u001b[0m \n",
      "\u001b[2m\u001b[36m(func pid=19104)\u001b[0m Epoch 25\n"
     ]
    },
    {
     "name": "stderr",
     "output_type": "stream",
     "text": [
      " 13%|█▎        | 23/173 [00:00<00:01, 109.17it/s]\n",
      " 20%|█▉        | 34/173 [00:00<00:01, 100.60it/s]\n",
      " 26%|██▌       | 45/173 [00:00<00:01, 100.51it/s]\n",
      " 32%|███▏      | 56/173 [00:00<00:01, 102.56it/s]\n",
      " 39%|███▊      | 67/173 [00:00<00:01, 103.58it/s]\n",
      " 46%|████▌     | 79/173 [00:00<00:00, 106.79it/s]\n",
      " 53%|█████▎    | 91/173 [00:00<00:00, 107.86it/s]\n",
      " 60%|█████▉    | 103/173 [00:00<00:00, 109.18it/s]\n",
      " 66%|██████▋   | 115/173 [00:01<00:00, 111.22it/s]\n",
      " 73%|███████▎  | 127/173 [00:01<00:00, 111.99it/s]\n",
      " 80%|████████  | 139/173 [00:01<00:00, 114.01it/s]\n",
      " 87%|████████▋ | 151/173 [00:01<00:00, 115.03it/s]\n",
      "100%|██████████| 173/173 [00:01<00:00, 109.10it/s]\n",
      "  0%|          | 0/50 [00:00<?, ?it/s]\n",
      " 52%|█████▏    | 26/50 [00:00<00:00, 258.46it/s]\n",
      "100%|██████████| 50/50 [00:00<00:00, 277.04it/s]\n",
      "  0%|          | 0/173 [00:00<?, ?it/s]\n",
      "  7%|▋         | 12/173 [00:00<00:01, 116.52it/s]\n"
     ]
    },
    {
     "name": "stdout",
     "output_type": "stream",
     "text": [
      "\u001b[2m\u001b[36m(func pid=19104)\u001b[0m \n",
      "\u001b[2m\u001b[36m(func pid=19104)\u001b[0m Epoch 26\n"
     ]
    },
    {
     "name": "stderr",
     "output_type": "stream",
     "text": [
      " 14%|█▍        | 24/173 [00:00<00:01, 117.87it/s]\n",
      " 21%|██        | 36/173 [00:00<00:01, 116.97it/s]\n",
      " 28%|██▊       | 48/173 [00:00<00:01, 114.27it/s]\n",
      " 35%|███▍      | 60/173 [00:00<00:01, 111.74it/s]\n",
      " 42%|████▏     | 72/173 [00:00<00:00, 111.10it/s]\n",
      " 49%|████▊     | 84/173 [00:00<00:00, 108.47it/s]\n",
      " 55%|█████▍    | 95/173 [00:00<00:00, 107.65it/s]\n",
      " 61%|██████▏   | 106/173 [00:00<00:00, 106.82it/s]\n",
      " 68%|██████▊   | 117/173 [00:01<00:00, 107.10it/s]\n",
      " 75%|███████▍  | 129/173 [00:01<00:00, 108.52it/s]\n",
      " 82%|████████▏ | 141/173 [00:01<00:00, 109.71it/s]\n",
      " 88%|████████▊ | 153/173 [00:01<00:00, 111.50it/s]\n",
      " 95%|█████████▌| 165/173 [00:01<00:00, 112.91it/s]\n",
      "100%|██████████| 173/173 [00:01<00:00, 111.26it/s]\n",
      "  0%|          | 0/50 [00:00<?, ?it/s]\n",
      " 60%|██████    | 30/50 [00:00<00:00, 299.83it/s]\n",
      "100%|██████████| 50/50 [00:00<00:00, 294.23it/s]\n",
      "  0%|          | 0/173 [00:00<?, ?it/s]\n",
      "  8%|▊         | 13/173 [00:00<00:01, 126.25it/s]\n"
     ]
    },
    {
     "name": "stdout",
     "output_type": "stream",
     "text": [
      "\u001b[2m\u001b[36m(func pid=19104)\u001b[0m \n",
      "\u001b[2m\u001b[36m(func pid=19104)\u001b[0m Epoch 27\n"
     ]
    },
    {
     "name": "stderr",
     "output_type": "stream",
     "text": [
      " 16%|█▌        | 27/173 [00:00<00:01, 129.09it/s]\n",
      " 23%|██▎       | 40/173 [00:00<00:01, 127.60it/s]\n",
      " 31%|███       | 53/173 [00:00<00:00, 125.17it/s]\n",
      " 38%|███▊      | 66/173 [00:00<00:00, 112.05it/s]\n",
      " 45%|████▌     | 78/173 [00:00<00:00, 112.52it/s]\n",
      " 53%|█████▎    | 91/173 [00:00<00:00, 115.24it/s]\n",
      " 60%|█████▉    | 103/173 [00:00<00:00, 115.34it/s]\n",
      " 66%|██████▋   | 115/173 [00:00<00:00, 114.92it/s]\n",
      " 73%|███████▎  | 127/173 [00:01<00:00, 115.80it/s]\n",
      " 80%|████████  | 139/173 [00:01<00:00, 116.65it/s]\n",
      "  0%|          | 0/50 [00:00<?, ?it/s]\n",
      "100%|██████████| 50/50 [00:00<00:00, 320.43it/s]\n",
      "  0%|          | 0/173 [00:00<?, ?it/s]\n",
      "  7%|▋         | 12/173 [00:00<00:01, 110.20it/s]\n"
     ]
    },
    {
     "name": "stdout",
     "output_type": "stream",
     "text": [
      "\u001b[2m\u001b[36m(func pid=19104)\u001b[0m \n",
      "\u001b[2m\u001b[36m(func pid=19104)\u001b[0m Epoch 28\n"
     ]
    },
    {
     "name": "stderr",
     "output_type": "stream",
     "text": [
      " 14%|█▍        | 24/173 [00:00<00:01, 107.79it/s]\n",
      " 21%|██        | 36/173 [00:00<00:01, 112.53it/s]\n",
      " 28%|██▊       | 49/173 [00:00<00:01, 118.16it/s]\n",
      " 36%|███▌      | 62/173 [00:00<00:00, 121.18it/s]\n",
      " 43%|████▎     | 75/173 [00:00<00:00, 122.47it/s]\n",
      " 51%|█████▏    | 89/173 [00:00<00:00, 125.07it/s]\n",
      " 60%|█████▉    | 103/173 [00:00<00:00, 126.71it/s]\n",
      " 67%|██████▋   | 116/173 [00:00<00:00, 127.30it/s]\n",
      " 75%|███████▍  | 129/173 [00:01<00:00, 126.15it/s]\n",
      " 82%|████████▏ | 142/173 [00:01<00:00, 125.94it/s]\n",
      " 90%|████████▉ | 155/173 [00:01<00:00, 125.60it/s]\n",
      "100%|██████████| 173/173 [00:01<00:00, 122.35it/s]\n",
      "  0%|          | 0/50 [00:00<?, ?it/s]\n",
      "100%|██████████| 50/50 [00:00<00:00, 302.97it/s]\n",
      "  0%|          | 0/173 [00:00<?, ?it/s]\n",
      "  6%|▋         | 11/173 [00:00<00:01, 106.28it/s]\n"
     ]
    },
    {
     "name": "stdout",
     "output_type": "stream",
     "text": [
      "\u001b[2m\u001b[36m(func pid=19104)\u001b[0m \n",
      "\u001b[2m\u001b[36m(func pid=19104)\u001b[0m Epoch 29\n"
     ]
    },
    {
     "name": "stderr",
     "output_type": "stream",
     "text": [
      " 13%|█▎        | 23/173 [00:00<00:01, 110.13it/s]\n",
      " 21%|██        | 36/173 [00:00<00:01, 116.00it/s]\n",
      " 28%|██▊       | 49/173 [00:00<00:01, 120.51it/s]\n",
      " 36%|███▌      | 62/173 [00:00<00:00, 120.62it/s]\n",
      " 43%|████▎     | 75/173 [00:00<00:00, 121.65it/s]\n",
      " 51%|█████     | 88/173 [00:00<00:00, 122.62it/s]\n",
      " 58%|█████▊    | 101/173 [00:00<00:00, 117.15it/s]\n",
      " 66%|██████▌   | 114/173 [00:00<00:00, 119.76it/s]\n",
      " 73%|███████▎  | 127/173 [00:01<00:00, 118.05it/s]\n",
      " 80%|████████  | 139/173 [00:01<00:00, 114.62it/s]\n",
      " 87%|████████▋ | 151/173 [00:01<00:00, 114.88it/s]\n",
      "100%|██████████| 173/173 [00:01<00:00, 117.72it/s]\n",
      "  0%|          | 0/50 [00:00<?, ?it/s]\n",
      "100%|██████████| 50/50 [00:00<00:00, 339.53it/s]\n",
      "  0%|          | 0/173 [00:00<?, ?it/s]\n",
      "  6%|▋         | 11/173 [00:00<00:01, 109.27it/s]\n"
     ]
    },
    {
     "name": "stdout",
     "output_type": "stream",
     "text": [
      "\u001b[2m\u001b[36m(func pid=19104)\u001b[0m \n",
      "\u001b[2m\u001b[36m(func pid=19104)\u001b[0m Epoch 30\n"
     ]
    },
    {
     "name": "stderr",
     "output_type": "stream",
     "text": [
      " 14%|█▍        | 24/173 [00:00<00:01, 116.47it/s]\n",
      " 21%|██        | 36/173 [00:00<00:01, 115.18it/s]\n",
      " 28%|██▊       | 48/173 [00:00<00:01, 115.44it/s]\n",
      " 35%|███▌      | 61/173 [00:00<00:00, 119.21it/s]\n",
      " 43%|████▎     | 74/173 [00:00<00:00, 121.56it/s]\n",
      " 50%|█████     | 87/173 [00:00<00:00, 120.39it/s]\n",
      " 65%|██████▌   | 113/173 [00:00<00:00, 122.11it/s]\n",
      " 73%|███████▎  | 126/173 [00:01<00:00, 122.81it/s]\n",
      " 80%|████████  | 139/173 [00:01<00:00, 124.77it/s]\n",
      " 88%|████████▊ | 152/173 [00:01<00:00, 125.05it/s]\n",
      " 95%|█████████▌| 165/173 [00:01<00:00, 124.93it/s]\n",
      " 42%|████▏     | 21/50 [00:00<00:00, 206.58it/s]\n",
      "100%|██████████| 50/50 [00:00<00:00, 232.51it/s]\n",
      "  0%|          | 0/173 [00:00<?, ?it/s]\n",
      "  7%|▋         | 12/173 [00:00<00:01, 114.40it/s]\n"
     ]
    },
    {
     "name": "stdout",
     "output_type": "stream",
     "text": [
      "\u001b[2m\u001b[36m(func pid=19104)\u001b[0m \n",
      "\u001b[2m\u001b[36m(func pid=19104)\u001b[0m Epoch 31\n"
     ]
    },
    {
     "name": "stderr",
     "output_type": "stream",
     "text": [
      " 14%|█▍        | 24/173 [00:00<00:01, 114.20it/s]\n",
      " 21%|██        | 36/173 [00:00<00:01, 107.84it/s]\n",
      " 27%|██▋       | 47/173 [00:00<00:01, 105.46it/s]\n",
      " 34%|███▎      | 58/173 [00:00<00:01, 104.18it/s]\n",
      " 40%|███▉      | 69/173 [00:00<00:00, 104.67it/s]\n",
      " 46%|████▌     | 80/173 [00:00<00:00, 102.79it/s]\n",
      " 54%|█████▍    | 93/173 [00:00<00:00, 108.68it/s]\n",
      " 60%|██████    | 104/173 [00:00<00:00, 106.86it/s]\n",
      " 66%|██████▋   | 115/173 [00:01<00:00, 107.22it/s]\n",
      " 73%|███████▎  | 127/173 [00:01<00:00, 109.80it/s]\n",
      " 81%|████████  | 140/173 [00:01<00:00, 112.96it/s]\n",
      " 88%|████████▊ | 152/173 [00:01<00:00, 113.97it/s]\n",
      " 95%|█████████▍| 164/173 [00:01<00:00, 111.81it/s]\n",
      "  0%|          | 0/50 [00:00<?, ?it/s]\n",
      "100%|██████████| 50/50 [00:00<00:00, 289.40it/s]\n",
      "  0%|          | 0/173 [00:00<?, ?it/s]\n",
      "  6%|▌         | 10/173 [00:00<00:01, 92.61it/s]\n"
     ]
    },
    {
     "name": "stdout",
     "output_type": "stream",
     "text": [
      "\u001b[2m\u001b[36m(func pid=19104)\u001b[0m \n",
      "\u001b[2m\u001b[36m(func pid=19104)\u001b[0m Epoch 32\n"
     ]
    },
    {
     "name": "stderr",
     "output_type": "stream",
     "text": [
      " 12%|█▏        | 21/173 [00:00<00:01, 102.49it/s]\n",
      " 18%|█▊        | 32/173 [00:00<00:01, 105.84it/s]\n",
      " 25%|██▍       | 43/173 [00:00<00:01, 104.61it/s]\n",
      " 31%|███       | 54/173 [00:00<00:01, 103.93it/s]\n",
      " 38%|███▊      | 65/173 [00:00<00:01, 96.46it/s] \n",
      " 43%|████▎     | 75/173 [00:00<00:01, 97.14it/s]\n",
      " 49%|████▉     | 85/173 [00:00<00:00, 95.64it/s]\n",
      " 57%|█████▋    | 98/173 [00:00<00:00, 103.76it/s]\n",
      " 64%|██████▍   | 111/173 [00:01<00:00, 108.86it/s]\n",
      " 71%|███████   | 123/173 [00:01<00:00, 111.78it/s]\n",
      " 78%|███████▊  | 135/173 [00:01<00:00, 93.91it/s] \n",
      " 85%|████████▍ | 147/173 [00:01<00:00, 100.51it/s]\n",
      " 92%|█████████▏| 160/173 [00:01<00:00, 106.16it/s]\n",
      "100%|██████████| 173/173 [00:01<00:00, 103.54it/s]\n",
      "  0%|          | 0/50 [00:00<?, ?it/s]\n",
      " 64%|██████▍   | 32/50 [00:00<00:00, 317.36it/s]\n",
      "100%|██████████| 50/50 [00:00<00:00, 318.64it/s]\n",
      "  0%|          | 0/173 [00:00<?, ?it/s]\n",
      "  7%|▋         | 12/173 [00:00<00:01, 118.26it/s]\n"
     ]
    },
    {
     "name": "stdout",
     "output_type": "stream",
     "text": [
      "\u001b[2m\u001b[36m(func pid=19104)\u001b[0m \n",
      "\u001b[2m\u001b[36m(func pid=19104)\u001b[0m Epoch 33\n"
     ]
    },
    {
     "name": "stderr",
     "output_type": "stream",
     "text": [
      " 14%|█▍        | 25/173 [00:00<00:01, 119.86it/s]\n",
      " 22%|██▏       | 38/173 [00:00<00:01, 121.79it/s]\n",
      " 29%|██▉       | 51/173 [00:00<00:00, 122.75it/s]\n",
      " 37%|███▋      | 64/173 [00:00<00:00, 121.83it/s]\n",
      " 45%|████▍     | 77/173 [00:00<00:00, 122.12it/s]\n",
      " 52%|█████▏    | 90/173 [00:00<00:00, 122.68it/s]\n",
      " 60%|█████▉    | 103/173 [00:00<00:00, 122.60it/s]\n",
      " 67%|██████▋   | 116/173 [00:00<00:00, 121.61it/s]\n",
      " 75%|███████▍  | 129/173 [00:01<00:00, 121.23it/s]\n",
      " 82%|████████▏ | 142/173 [00:01<00:00, 120.96it/s]\n",
      " 90%|████████▉ | 155/173 [00:01<00:00, 120.75it/s]\n",
      "100%|██████████| 173/173 [00:01<00:00, 121.61it/s]\n",
      "  0%|          | 0/50 [00:00<?, ?it/s]\n",
      " 52%|█████▏    | 26/50 [00:00<00:00, 257.59it/s]\n",
      "100%|██████████| 50/50 [00:00<00:00, 276.35it/s]\n",
      "  0%|          | 0/173 [00:00<?, ?it/s]\n",
      "  8%|▊         | 13/173 [00:00<00:01, 125.02it/s]\n"
     ]
    },
    {
     "name": "stdout",
     "output_type": "stream",
     "text": [
      "\u001b[2m\u001b[36m(func pid=19104)\u001b[0m \n",
      "\u001b[2m\u001b[36m(func pid=19104)\u001b[0m Epoch 34\n"
     ]
    },
    {
     "name": "stderr",
     "output_type": "stream",
     "text": [
      " 15%|█▌        | 26/173 [00:00<00:01, 119.97it/s]\n",
      " 23%|██▎       | 39/173 [00:00<00:01, 120.65it/s]\n",
      " 30%|███       | 52/173 [00:00<00:01, 120.03it/s]\n",
      " 38%|███▊      | 65/173 [00:00<00:00, 120.47it/s]\n",
      " 45%|████▌     | 78/173 [00:00<00:00, 119.31it/s]\n",
      " 53%|█████▎    | 91/173 [00:00<00:00, 120.08it/s]\n",
      " 60%|██████    | 104/173 [00:00<00:00, 119.86it/s]\n",
      " 68%|██████▊   | 117/173 [00:00<00:00, 120.79it/s]\n",
      " 75%|███████▌  | 130/173 [00:01<00:00, 119.52it/s]\n",
      " 82%|████████▏ | 142/173 [00:01<00:00, 119.37it/s]\n",
      " 90%|████████▉ | 155/173 [00:01<00:00, 120.50it/s]\n",
      "  0%|          | 0/50 [00:00<?, ?it/s]\n",
      "100%|██████████| 50/50 [00:00<00:00, 305.18it/s]\n",
      "  0%|          | 0/173 [00:00<?, ?it/s]\n",
      "  7%|▋         | 12/173 [00:00<00:01, 117.67it/s]\n"
     ]
    },
    {
     "name": "stdout",
     "output_type": "stream",
     "text": [
      "\u001b[2m\u001b[36m(func pid=19104)\u001b[0m \n",
      "\u001b[2m\u001b[36m(func pid=19104)\u001b[0m Epoch 35\n"
     ]
    },
    {
     "name": "stderr",
     "output_type": "stream",
     "text": [
      " 14%|█▍        | 25/173 [00:00<00:01, 119.86it/s]\n",
      " 21%|██▏       | 37/173 [00:00<00:01, 119.02it/s]\n",
      " 29%|██▉       | 50/173 [00:00<00:01, 120.38it/s]\n",
      " 36%|███▋      | 63/173 [00:00<00:00, 119.94it/s]\n",
      " 43%|████▎     | 75/173 [00:00<00:00, 119.58it/s]\n",
      " 50%|█████     | 87/173 [00:00<00:00, 119.32it/s]\n",
      " 57%|█████▋    | 99/173 [00:00<00:00, 119.17it/s]\n",
      " 65%|██████▍   | 112/173 [00:00<00:00, 120.21it/s]\n",
      " 72%|███████▏  | 125/173 [00:01<00:00, 121.04it/s]\n",
      " 80%|████████  | 139/173 [00:01<00:00, 124.86it/s]\n",
      " 88%|████████▊ | 152/173 [00:01<00:00, 125.22it/s]\n",
      " 95%|█████████▌| 165/173 [00:01<00:00, 125.57it/s]\n",
      "100%|██████████| 173/173 [00:01<00:00, 122.07it/s]\n",
      "  0%|          | 0/50 [00:00<?, ?it/s]\n",
      " 66%|██████▌   | 33/50 [00:00<00:00, 323.42it/s]\n",
      "100%|██████████| 50/50 [00:00<00:00, 324.70it/s]\n",
      "  0%|          | 0/173 [00:00<?, ?it/s]\n",
      "  8%|▊         | 13/173 [00:00<00:01, 123.81it/s]\n"
     ]
    },
    {
     "name": "stdout",
     "output_type": "stream",
     "text": [
      "\u001b[2m\u001b[36m(func pid=19104)\u001b[0m \n",
      "\u001b[2m\u001b[36m(func pid=19104)\u001b[0m Epoch 36\n"
     ]
    },
    {
     "name": "stderr",
     "output_type": "stream",
     "text": [
      " 16%|█▌        | 27/173 [00:00<00:01, 128.03it/s]\n",
      " 23%|██▎       | 40/173 [00:00<00:01, 124.76it/s]\n",
      " 31%|███       | 53/173 [00:00<00:00, 124.78it/s]\n",
      " 38%|███▊      | 66/173 [00:00<00:00, 126.41it/s]\n",
      " 46%|████▌     | 79/173 [00:00<00:00, 125.93it/s]\n",
      " 53%|█████▎    | 92/173 [00:00<00:00, 126.69it/s]\n",
      " 61%|██████    | 105/173 [00:00<00:00, 119.39it/s]\n",
      " 68%|██████▊   | 118/173 [00:00<00:00, 120.17it/s]\n",
      " 76%|███████▌  | 131/173 [00:01<00:00, 117.02it/s]\n",
      " 83%|████████▎ | 143/173 [00:01<00:00, 117.54it/s]\n",
      " 90%|████████▉ | 155/173 [00:01<00:00, 117.90it/s]\n",
      "100%|██████████| 173/173 [00:01<00:00, 120.77it/s]\n",
      "  0%|          | 0/50 [00:00<?, ?it/s]\n",
      " 62%|██████▏   | 31/50 [00:00<00:00, 306.59it/s]\n",
      "100%|██████████| 50/50 [00:00<00:00, 308.69it/s]\n",
      "  0%|          | 0/173 [00:00<?, ?it/s]\n",
      "  7%|▋         | 12/173 [00:00<00:01, 114.66it/s]\n"
     ]
    },
    {
     "name": "stdout",
     "output_type": "stream",
     "text": [
      "\u001b[2m\u001b[36m(func pid=19104)\u001b[0m \n",
      "\u001b[2m\u001b[36m(func pid=19104)\u001b[0m Epoch 37\n"
     ]
    },
    {
     "name": "stderr",
     "output_type": "stream",
     "text": [
      " 14%|█▍        | 25/173 [00:00<00:01, 121.51it/s]\n",
      " 22%|██▏       | 38/173 [00:00<00:01, 123.65it/s]\n",
      " 29%|██▉       | 51/173 [00:00<00:00, 124.12it/s]\n",
      " 37%|███▋      | 64/173 [00:00<00:00, 123.61it/s]\n",
      " 45%|████▍     | 77/173 [00:00<00:00, 118.71it/s]\n",
      " 51%|█████▏    | 89/173 [00:00<00:00, 118.60it/s]\n",
      " 58%|█████▊    | 101/173 [00:00<00:00, 118.75it/s]\n",
      " 65%|██████▌   | 113/173 [00:01<00:00, 93.66it/s] \n",
      " 73%|███████▎  | 126/173 [00:01<00:00, 100.95it/s]\n",
      " 80%|████████  | 139/173 [00:01<00:00, 106.47it/s]\n",
      " 87%|████████▋ | 151/173 [00:01<00:00, 109.50it/s]\n",
      " 95%|█████████▍| 164/173 [00:01<00:00, 112.94it/s]\n",
      "  0%|          | 0/50 [00:00<?, ?it/s]\n",
      "100%|██████████| 50/50 [00:00<00:00, 289.17it/s]\n",
      "  0%|          | 0/173 [00:00<?, ?it/s]\n",
      "  8%|▊         | 13/173 [00:00<00:01, 124.18it/s]\n"
     ]
    },
    {
     "name": "stdout",
     "output_type": "stream",
     "text": [
      "\u001b[2m\u001b[36m(func pid=19104)\u001b[0m \n",
      "\u001b[2m\u001b[36m(func pid=19104)\u001b[0m Epoch 38\n"
     ]
    },
    {
     "name": "stderr",
     "output_type": "stream",
     "text": [
      " 15%|█▌        | 26/173 [00:00<00:01, 121.56it/s]\n",
      " 23%|██▎       | 39/173 [00:00<00:01, 121.02it/s]\n",
      " 30%|███       | 52/173 [00:00<00:00, 121.15it/s]\n",
      " 38%|███▊      | 65/173 [00:00<00:00, 119.73it/s]\n",
      " 45%|████▌     | 78/173 [00:00<00:00, 120.68it/s]\n",
      " 53%|█████▎    | 91/173 [00:00<00:00, 120.52it/s]\n",
      " 60%|██████    | 104/173 [00:00<00:00, 120.55it/s]\n",
      " 68%|██████▊   | 117/173 [00:00<00:00, 120.49it/s]\n",
      " 75%|███████▌  | 130/173 [00:01<00:00, 120.26it/s]\n",
      " 83%|████████▎ | 143/173 [00:01<00:00, 120.11it/s]\n",
      " 90%|█████████ | 156/173 [00:01<00:00, 121.04it/s]\n",
      " 98%|█████████▊| 169/173 [00:01<00:00, 119.71it/s]\n",
      "100%|██████████| 173/173 [00:01<00:00, 120.30it/s]\n",
      "  0%|          | 0/50 [00:00<?, ?it/s]\n",
      " 60%|██████    | 30/50 [00:00<00:00, 291.53it/s]\n",
      "100%|██████████| 50/50 [00:00<00:00, 302.83it/s]\n",
      "  0%|          | 0/173 [00:00<?, ?it/s]\n",
      "  8%|▊         | 13/173 [00:00<00:01, 123.79it/s]\n"
     ]
    },
    {
     "name": "stdout",
     "output_type": "stream",
     "text": [
      "\u001b[2m\u001b[36m(func pid=19104)\u001b[0m Epoch 00038: reducing learning rate of group 0 to 1.4576e-03.\n",
      "\u001b[2m\u001b[36m(func pid=19104)\u001b[0m \n",
      "\u001b[2m\u001b[36m(func pid=19104)\u001b[0m Epoch 39\n"
     ]
    },
    {
     "name": "stderr",
     "output_type": "stream",
     "text": [
      " 15%|█▌        | 26/173 [00:00<00:01, 122.18it/s]\n",
      " 23%|██▎       | 39/173 [00:00<00:01, 121.84it/s]\n",
      " 30%|███       | 52/173 [00:00<00:00, 124.04it/s]\n",
      " 38%|███▊      | 65/173 [00:00<00:00, 123.52it/s]\n",
      " 45%|████▌     | 78/173 [00:00<00:00, 124.82it/s]\n",
      " 53%|█████▎    | 91/173 [00:00<00:00, 124.12it/s]\n",
      " 60%|██████    | 104/173 [00:00<00:00, 122.92it/s]\n",
      " 68%|██████▊   | 117/173 [00:00<00:00, 124.32it/s]\n",
      " 75%|███████▌  | 130/173 [00:01<00:00, 124.29it/s]\n",
      " 83%|████████▎ | 143/173 [00:01<00:00, 125.45it/s]\n",
      " 90%|█████████ | 156/173 [00:01<00:00, 126.43it/s]\n",
      "100%|██████████| 173/173 [00:01<00:00, 124.09it/s]\n",
      "  0%|          | 0/50 [00:00<?, ?it/s]\n",
      "100%|██████████| 50/50 [00:00<00:00, 325.62it/s]\n",
      "  8%|▊         | 13/173 [00:00<00:01, 129.99it/s]\n",
      " 15%|█▌        | 26/173 [00:00<00:01, 127.80it/s]\n"
     ]
    },
    {
     "name": "stdout",
     "output_type": "stream",
     "text": [
      "\u001b[2m\u001b[36m(func pid=19104)\u001b[0m \n",
      "\u001b[2m\u001b[36m(func pid=19104)\u001b[0m Epoch 40\n"
     ]
    },
    {
     "name": "stderr",
     "output_type": "stream",
     "text": [
      " 23%|██▎       | 40/173 [00:00<00:01, 128.68it/s]\n",
      " 31%|███       | 53/173 [00:00<00:00, 127.24it/s]\n",
      " 39%|███▊      | 67/173 [00:00<00:00, 129.38it/s]\n",
      " 46%|████▌     | 80/173 [00:00<00:00, 129.20it/s]\n",
      " 54%|█████▍    | 93/173 [00:00<00:00, 128.67it/s]\n",
      " 61%|██████▏   | 106/173 [00:00<00:00, 128.25it/s]\n",
      " 69%|██████▉   | 119/173 [00:00<00:00, 128.36it/s]\n",
      " 76%|███████▋  | 132/173 [00:01<00:00, 125.87it/s]\n",
      " 84%|████████▍ | 145/173 [00:01<00:00, 127.09it/s]\n",
      " 91%|█████████▏| 158/173 [00:01<00:00, 126.47it/s]\n",
      "100%|██████████| 50/50 [00:00<00:00, 326.70it/s]\n",
      "  0%|          | 0/173 [00:00<?, ?it/s]\n",
      "  6%|▌         | 10/173 [00:00<00:01, 97.97it/s]\n"
     ]
    },
    {
     "name": "stdout",
     "output_type": "stream",
     "text": [
      "\u001b[2m\u001b[36m(func pid=19104)\u001b[0m \n",
      "\u001b[2m\u001b[36m(func pid=19104)\u001b[0m Epoch 41\n"
     ]
    },
    {
     "name": "stderr",
     "output_type": "stream",
     "text": [
      " 13%|█▎        | 23/173 [00:00<00:01, 115.99it/s]\n",
      " 21%|██        | 36/173 [00:00<00:01, 121.79it/s]\n",
      " 29%|██▉       | 50/173 [00:00<00:00, 125.89it/s]\n",
      " 36%|███▋      | 63/173 [00:00<00:00, 125.14it/s]\n",
      " 44%|████▍     | 76/173 [00:00<00:00, 126.35it/s]\n",
      " 51%|█████▏    | 89/173 [00:00<00:00, 127.37it/s]\n",
      " 59%|█████▉    | 102/173 [00:00<00:00, 126.81it/s]\n",
      " 66%|██████▋   | 115/173 [00:00<00:00, 127.36it/s]\n",
      " 74%|███████▍  | 128/173 [00:01<00:00, 127.77it/s]\n",
      " 82%|████████▏ | 141/173 [00:01<00:00, 128.42it/s]\n",
      " 90%|████████▉ | 155/173 [00:01<00:00, 128.73it/s]\n",
      "100%|██████████| 173/173 [00:01<00:00, 125.63it/s]\n",
      "  0%|          | 0/50 [00:00<?, ?it/s]\n",
      "100%|██████████| 50/50 [00:00<00:00, 319.19it/s]\n",
      "  0%|          | 0/173 [00:00<?, ?it/s]\n"
     ]
    },
    {
     "name": "stdout",
     "output_type": "stream",
     "text": [
      "\u001b[2m\u001b[36m(func pid=19104)\u001b[0m \n",
      "\u001b[2m\u001b[36m(func pid=19104)\u001b[0m Epoch 42\n"
     ]
    },
    {
     "name": "stderr",
     "output_type": "stream",
     "text": [
      "  8%|▊         | 13/173 [00:00<00:01, 120.73it/s]\n",
      " 15%|█▌        | 26/173 [00:00<00:01, 120.59it/s]\n",
      " 23%|██▎       | 39/173 [00:00<00:01, 121.11it/s]\n",
      " 30%|███       | 52/173 [00:00<00:01, 120.38it/s]\n",
      " 38%|███▊      | 65/173 [00:00<00:00, 121.34it/s]\n",
      " 45%|████▌     | 78/173 [00:00<00:00, 123.97it/s]\n",
      " 53%|█████▎    | 92/173 [00:00<00:00, 102.68it/s]\n",
      " 61%|██████    | 105/173 [00:00<00:00, 108.43it/s]\n",
      " 68%|██████▊   | 118/173 [00:01<00:00, 112.83it/s]\n",
      " 76%|███████▌  | 131/173 [00:01<00:00, 117.53it/s]\n",
      " 83%|████████▎ | 144/173 [00:01<00:00, 120.78it/s]\n",
      " 91%|█████████ | 157/173 [00:01<00:00, 123.10it/s]\n",
      "100%|██████████| 50/50 [00:00<00:00, 332.68it/s]\n",
      "  0%|          | 0/173 [00:00<?, ?it/s]\n",
      "  8%|▊         | 13/173 [00:00<00:01, 122.40it/s]\n"
     ]
    },
    {
     "name": "stdout",
     "output_type": "stream",
     "text": [
      "\u001b[2m\u001b[36m(func pid=19104)\u001b[0m \n",
      "\u001b[2m\u001b[36m(func pid=19104)\u001b[0m Epoch 43\n"
     ]
    },
    {
     "name": "stderr",
     "output_type": "stream",
     "text": [
      " 15%|█▌        | 26/173 [00:00<00:01, 123.27it/s]\n",
      " 23%|██▎       | 39/173 [00:00<00:01, 125.19it/s]\n",
      " 30%|███       | 52/173 [00:00<00:00, 126.57it/s]\n",
      " 38%|███▊      | 65/173 [00:00<00:00, 127.22it/s]\n",
      " 45%|████▌     | 78/173 [00:00<00:00, 125.73it/s]\n",
      " 53%|█████▎    | 91/173 [00:00<00:00, 124.62it/s]\n",
      " 60%|██████    | 104/173 [00:00<00:00, 124.47it/s]\n",
      " 68%|██████▊   | 117/173 [00:00<00:00, 123.48it/s]\n",
      " 75%|███████▌  | 130/173 [00:01<00:00, 122.36it/s]\n",
      " 83%|████████▎ | 143/173 [00:01<00:00, 121.17it/s]\n",
      " 90%|█████████ | 156/173 [00:01<00:00, 120.90it/s]\n",
      "100%|██████████| 173/173 [00:01<00:00, 122.23it/s]\n",
      "100%|██████████| 50/50 [00:00<00:00, 258.93it/s]\n",
      "  0%|          | 0/173 [00:00<?, ?it/s]\n",
      "  6%|▋         | 11/173 [00:00<00:01, 103.04it/s]\n"
     ]
    },
    {
     "name": "stdout",
     "output_type": "stream",
     "text": [
      "\u001b[2m\u001b[36m(func pid=19104)\u001b[0m \n",
      "\u001b[2m\u001b[36m(func pid=19104)\u001b[0m Epoch 44\n"
     ]
    },
    {
     "name": "stderr",
     "output_type": "stream",
     "text": [
      " 13%|█▎        | 22/173 [00:00<00:01, 105.68it/s]\n",
      " 20%|█▉        | 34/173 [00:00<00:01, 108.73it/s]\n",
      " 27%|██▋       | 47/173 [00:00<00:01, 114.08it/s]\n",
      " 35%|███▍      | 60/173 [00:00<00:00, 116.91it/s]\n",
      " 42%|████▏     | 72/173 [00:00<00:00, 116.76it/s]\n",
      " 49%|████▊     | 84/173 [00:00<00:00, 114.71it/s]\n",
      " 55%|█████▌    | 96/173 [00:00<00:00, 114.77it/s]\n",
      " 63%|██████▎   | 109/173 [00:00<00:00, 116.84it/s]\n",
      " 70%|██████▉   | 121/173 [00:01<00:00, 116.78it/s]\n",
      " 77%|███████▋  | 134/173 [00:01<00:00, 118.85it/s]\n",
      " 85%|████████▍ | 147/173 [00:01<00:00, 119.76it/s]\n",
      " 92%|█████████▏| 160/173 [00:01<00:00, 121.65it/s]\n",
      "100%|██████████| 173/173 [00:01<00:00, 117.30it/s]\n",
      "  0%|          | 0/50 [00:00<?, ?it/s]\n",
      " 66%|██████▌   | 33/50 [00:00<00:00, 320.05it/s]\n",
      "100%|██████████| 50/50 [00:00<00:00, 325.42it/s]\n",
      "  0%|          | 0/173 [00:00<?, ?it/s]\n",
      "  7%|▋         | 12/173 [00:00<00:01, 113.99it/s]\n"
     ]
    },
    {
     "name": "stdout",
     "output_type": "stream",
     "text": [
      "\u001b[2m\u001b[36m(func pid=19104)\u001b[0m Epoch 00044: reducing learning rate of group 0 to 7.2880e-04.\n",
      "\u001b[2m\u001b[36m(func pid=19104)\u001b[0m \n",
      "\u001b[2m\u001b[36m(func pid=19104)\u001b[0m Epoch 45\n"
     ]
    },
    {
     "name": "stderr",
     "output_type": "stream",
     "text": [
      " 14%|█▍        | 24/173 [00:00<00:01, 116.16it/s]\n",
      " 21%|██        | 36/173 [00:00<00:01, 117.38it/s]\n",
      " 28%|██▊       | 49/173 [00:00<00:01, 121.39it/s]\n",
      " 36%|███▌      | 62/173 [00:00<00:00, 120.16it/s]\n",
      " 43%|████▎     | 75/173 [00:00<00:00, 115.71it/s]\n",
      " 50%|█████     | 87/173 [00:00<00:00, 115.27it/s]\n",
      " 57%|█████▋    | 99/173 [00:00<00:00, 115.96it/s]\n",
      " 65%|██████▍   | 112/173 [00:00<00:00, 117.86it/s]\n",
      " 72%|███████▏  | 125/173 [00:01<00:00, 119.24it/s]\n",
      " 80%|███████▉  | 138/173 [00:01<00:00, 121.19it/s]\n",
      " 87%|████████▋ | 151/173 [00:01<00:00, 121.82it/s]\n",
      " 95%|█████████▍| 164/173 [00:01<00:00, 121.01it/s]\n",
      "  0%|          | 0/173 [00:00<?, ?it/s]\n",
      "  6%|▌         | 10/173 [00:00<00:01, 92.59it/s]\n"
     ]
    },
    {
     "name": "stdout",
     "output_type": "stream",
     "text": [
      "\u001b[2m\u001b[36m(func pid=19104)\u001b[0m \n",
      "\u001b[2m\u001b[36m(func pid=19104)\u001b[0m Epoch 46\n"
     ]
    },
    {
     "name": "stderr",
     "output_type": "stream",
     "text": [
      " 13%|█▎        | 22/173 [00:00<00:01, 106.85it/s]\n",
      " 20%|██        | 35/173 [00:00<00:01, 115.27it/s]\n",
      " 28%|██▊       | 48/173 [00:00<00:01, 119.46it/s]\n",
      " 35%|███▍      | 60/173 [00:00<00:00, 115.25it/s]\n",
      " 42%|████▏     | 73/173 [00:00<00:00, 117.76it/s]\n",
      " 50%|█████     | 87/173 [00:00<00:00, 122.08it/s]\n",
      " 58%|█████▊    | 100/173 [00:00<00:00, 122.40it/s]\n",
      " 65%|██████▌   | 113/173 [00:00<00:00, 122.08it/s]\n",
      " 73%|███████▎  | 126/173 [00:01<00:00, 123.89it/s]\n",
      " 80%|████████  | 139/173 [00:01<00:00, 122.83it/s]\n",
      " 88%|████████▊ | 152/173 [00:01<00:00, 123.08it/s]\n",
      "100%|██████████| 173/173 [00:01<00:00, 119.83it/s]\n",
      "  0%|          | 0/173 [00:00<?, ?it/s]\n",
      "  7%|▋         | 12/173 [00:00<00:01, 114.01it/s]\n"
     ]
    },
    {
     "name": "stdout",
     "output_type": "stream",
     "text": [
      "\u001b[2m\u001b[36m(func pid=19104)\u001b[0m \n",
      "\u001b[2m\u001b[36m(func pid=19104)\u001b[0m Epoch 47\n"
     ]
    },
    {
     "name": "stderr",
     "output_type": "stream",
     "text": [
      " 14%|█▍        | 25/173 [00:00<00:01, 118.12it/s]\n",
      " 21%|██▏       | 37/173 [00:00<00:01, 118.48it/s]\n",
      " 29%|██▉       | 50/173 [00:00<00:01, 121.48it/s]\n",
      " 36%|███▋      | 63/173 [00:00<00:00, 122.36it/s]\n",
      " 44%|████▍     | 76/173 [00:00<00:00, 99.36it/s] \n",
      " 51%|█████▏    | 89/173 [00:00<00:00, 106.56it/s]\n",
      " 59%|█████▉    | 102/173 [00:00<00:00, 112.29it/s]\n",
      " 66%|██████▋   | 115/173 [00:01<00:00, 114.72it/s]\n",
      " 74%|███████▍  | 128/173 [00:01<00:00, 116.81it/s]\n",
      " 81%|████████  | 140/173 [00:01<00:00, 116.99it/s]\n",
      " 88%|████████▊ | 153/173 [00:01<00:00, 118.42it/s]\n",
      "100%|██████████| 173/173 [00:01<00:00, 116.14it/s]\n",
      "  0%|          | 0/50 [00:00<?, ?it/s]\n",
      "100%|██████████| 50/50 [00:00<00:00, 326.90it/s]\n",
      "  0%|          | 0/173 [00:00<?, ?it/s]\n",
      "  8%|▊         | 13/173 [00:00<00:01, 124.91it/s]\n"
     ]
    },
    {
     "name": "stdout",
     "output_type": "stream",
     "text": [
      "\u001b[2m\u001b[36m(func pid=19104)\u001b[0m \n",
      "\u001b[2m\u001b[36m(func pid=19104)\u001b[0m Epoch 48\n"
     ]
    },
    {
     "name": "stderr",
     "output_type": "stream",
     "text": [
      " 15%|█▌        | 26/173 [00:00<00:01, 124.96it/s]\n",
      " 23%|██▎       | 39/173 [00:00<00:01, 123.96it/s]\n",
      " 30%|███       | 52/173 [00:00<00:00, 124.74it/s]\n",
      " 38%|███▊      | 65/173 [00:00<00:00, 121.91it/s]\n",
      " 45%|████▌     | 78/173 [00:00<00:00, 122.46it/s]\n",
      " 53%|█████▎    | 91/173 [00:00<00:00, 122.91it/s]\n",
      " 60%|██████    | 104/173 [00:00<00:00, 124.48it/s]\n",
      " 68%|██████▊   | 117/173 [00:00<00:00, 124.95it/s]\n",
      " 75%|███████▌  | 130/173 [00:01<00:00, 124.08it/s]\n",
      " 83%|████████▎ | 143/173 [00:01<00:00, 123.03it/s]\n",
      " 90%|█████████ | 156/173 [00:01<00:00, 121.67it/s]\n",
      " 98%|█████████▊| 169/173 [00:01<00:00, 122.72it/s]\n",
      "100%|██████████| 173/173 [00:01<00:00, 123.05it/s]\n",
      "  0%|          | 0/50 [00:00<?, ?it/s]\n",
      "100%|██████████| 50/50 [00:00<00:00, 311.13it/s]\n",
      "  0%|          | 0/173 [00:00<?, ?it/s]\n",
      "  7%|▋         | 12/173 [00:00<00:01, 112.97it/s]\n"
     ]
    },
    {
     "name": "stdout",
     "output_type": "stream",
     "text": [
      "\u001b[2m\u001b[36m(func pid=19104)\u001b[0m \n",
      "\u001b[2m\u001b[36m(func pid=19104)\u001b[0m Epoch 49\n"
     ]
    },
    {
     "name": "stderr",
     "output_type": "stream",
     "text": [
      " 14%|█▍        | 25/173 [00:00<00:01, 120.48it/s]\n",
      " 22%|██▏       | 38/173 [00:00<00:01, 121.76it/s]\n",
      " 29%|██▉       | 51/173 [00:00<00:01, 120.80it/s]\n",
      " 37%|███▋      | 64/173 [00:00<00:00, 122.70it/s]\n",
      " 45%|████▍     | 77/173 [00:00<00:00, 121.58it/s]\n",
      " 52%|█████▏    | 90/173 [00:00<00:00, 120.48it/s]\n",
      " 60%|█████▉    | 103/173 [00:00<00:00, 121.05it/s]\n",
      " 67%|██████▋   | 116/173 [00:00<00:00, 120.51it/s]\n",
      " 75%|███████▍  | 129/173 [00:01<00:00, 121.49it/s]\n",
      " 82%|████████▏ | 142/173 [00:01<00:00, 120.97it/s]\n",
      " 90%|████████▉ | 155/173 [00:01<00:00, 119.88it/s]\n",
      " 97%|█████████▋| 167/173 [00:01<00:00, 116.92it/s]\n",
      "100%|██████████| 173/173 [00:01<00:00, 118.91it/s]\n",
      "  0%|          | 0/50 [00:00<?, ?it/s]\n",
      "100%|██████████| 50/50 [00:00<00:00, 301.38it/s]\n",
      "  0%|          | 0/173 [00:00<?, ?it/s]\n",
      "  6%|▌         | 10/173 [00:00<00:02, 77.68it/s]\n"
     ]
    },
    {
     "name": "stdout",
     "output_type": "stream",
     "text": [
      "\u001b[2m\u001b[36m(func pid=19104)\u001b[0m \n",
      "\u001b[2m\u001b[36m(func pid=19104)\u001b[0m Epoch 50\n"
     ]
    },
    {
     "name": "stderr",
     "output_type": "stream",
     "text": [
      " 13%|█▎        | 22/173 [00:00<00:01, 96.83it/s]\n",
      " 20%|██        | 35/173 [00:00<00:01, 107.84it/s]\n",
      " 27%|██▋       | 47/173 [00:00<00:01, 112.29it/s]\n",
      " 35%|███▍      | 60/173 [00:00<00:00, 116.24it/s]\n",
      " 42%|████▏     | 73/173 [00:00<00:00, 119.58it/s]\n",
      " 50%|████▉     | 86/173 [00:00<00:00, 119.65it/s]\n",
      " 57%|█████▋    | 99/173 [00:00<00:00, 119.64it/s]\n",
      " 65%|██████▍   | 112/173 [00:00<00:00, 120.62it/s]\n",
      " 72%|███████▏  | 125/173 [00:01<00:00, 122.64it/s]\n",
      " 80%|███████▉  | 138/173 [00:01<00:00, 122.01it/s]\n",
      " 87%|████████▋ | 151/173 [00:01<00:00, 122.17it/s]\n",
      " 95%|█████████▍| 164/173 [00:01<00:00, 123.40it/s]\n",
      "100%|██████████| 173/173 [00:01<00:00, 117.86it/s]\n",
      "  0%|          | 0/50 [00:00<?, ?it/s]\n",
      " 62%|██████▏   | 31/50 [00:00<00:00, 307.01it/s]\n",
      "100%|██████████| 50/50 [00:00<00:00, 305.10it/s]\n",
      "  0%|          | 0/173 [00:00<?, ?it/s]\n",
      "  8%|▊         | 13/173 [00:00<00:01, 117.07it/s]\n"
     ]
    },
    {
     "name": "stdout",
     "output_type": "stream",
     "text": [
      "\u001b[2m\u001b[36m(func pid=19104)\u001b[0m \n",
      "\u001b[2m\u001b[36m(func pid=19104)\u001b[0m Epoch 51\n"
     ]
    },
    {
     "name": "stderr",
     "output_type": "stream",
     "text": [
      " 15%|█▌        | 26/173 [00:00<00:01, 120.24it/s]\n",
      " 23%|██▎       | 39/173 [00:00<00:01, 116.48it/s]\n",
      " 29%|██▉       | 51/173 [00:00<00:01, 116.83it/s]\n",
      " 37%|███▋      | 64/173 [00:00<00:00, 118.17it/s]\n",
      " 45%|████▍     | 77/173 [00:00<00:00, 119.58it/s]\n",
      " 51%|█████▏    | 89/173 [00:00<00:00, 119.03it/s]\n",
      " 59%|█████▉    | 102/173 [00:00<00:00, 119.47it/s]\n",
      " 66%|██████▋   | 115/173 [00:00<00:00, 120.05it/s]\n",
      " 75%|███████▍  | 129/173 [00:01<00:00, 123.11it/s]\n",
      " 82%|████████▏ | 142/173 [00:01<00:00, 122.27it/s]\n",
      " 90%|████████▉ | 155/173 [00:01<00:00, 121.51it/s]\n",
      "100%|██████████| 173/173 [00:01<00:00, 120.06it/s]\n",
      "  0%|          | 0/50 [00:00<?, ?it/s]\n",
      "  0%|          | 0/173 [00:00<?, ?it/s]\n",
      "  7%|▋         | 12/173 [00:00<00:01, 116.24it/s]\n"
     ]
    },
    {
     "name": "stdout",
     "output_type": "stream",
     "text": [
      "\u001b[2m\u001b[36m(func pid=19104)\u001b[0m \n",
      "\u001b[2m\u001b[36m(func pid=19104)\u001b[0m Epoch 52\n"
     ]
    },
    {
     "name": "stderr",
     "output_type": "stream",
     "text": [
      " 14%|█▍        | 25/173 [00:00<00:01, 121.21it/s]\n",
      " 22%|██▏       | 38/173 [00:00<00:01, 122.61it/s]\n",
      " 29%|██▉       | 51/173 [00:00<00:00, 125.35it/s]\n",
      " 37%|███▋      | 64/173 [00:00<00:01, 100.28it/s]\n",
      " 45%|████▍     | 77/173 [00:00<00:00, 107.33it/s]\n",
      " 52%|█████▏    | 90/173 [00:00<00:00, 113.51it/s]\n",
      " 60%|██████    | 104/173 [00:00<00:00, 118.04it/s]\n",
      " 68%|██████▊   | 117/173 [00:01<00:00, 120.25it/s]\n",
      " 75%|███████▌  | 130/173 [00:01<00:00, 123.04it/s]\n",
      " 83%|████████▎ | 144/173 [00:01<00:00, 125.42it/s]\n",
      " 91%|█████████ | 157/173 [00:01<00:00, 126.73it/s]\n",
      "100%|██████████| 173/173 [00:01<00:00, 120.31it/s]\n",
      "100%|██████████| 50/50 [00:00<00:00, 330.94it/s]\n",
      "  0%|          | 0/173 [00:00<?, ?it/s]\n",
      "  6%|▌         | 10/173 [00:00<00:01, 96.72it/s]\n"
     ]
    },
    {
     "name": "stdout",
     "output_type": "stream",
     "text": [
      "\u001b[2m\u001b[36m(func pid=19104)\u001b[0m \n",
      "\u001b[2m\u001b[36m(func pid=19104)\u001b[0m Epoch 53\n"
     ]
    },
    {
     "name": "stderr",
     "output_type": "stream",
     "text": [
      " 13%|█▎        | 23/173 [00:00<00:01, 115.37it/s]\n",
      " 21%|██        | 36/173 [00:00<00:01, 119.44it/s]\n",
      " 28%|██▊       | 49/173 [00:00<00:01, 123.42it/s]\n",
      " 36%|███▌      | 62/173 [00:00<00:00, 125.58it/s]\n",
      " 43%|████▎     | 75/173 [00:00<00:00, 125.62it/s]\n",
      " 51%|█████▏    | 89/173 [00:00<00:00, 127.34it/s]\n",
      " 59%|█████▉    | 102/173 [00:00<00:00, 127.03it/s]\n",
      " 66%|██████▋   | 115/173 [00:00<00:00, 126.70it/s]\n",
      " 74%|███████▍  | 128/173 [00:01<00:00, 125.86it/s]\n",
      " 82%|████████▏ | 141/173 [00:01<00:00, 126.35it/s]\n",
      " 89%|████████▉ | 154/173 [00:01<00:00, 126.23it/s]\n",
      "100%|██████████| 173/173 [00:01<00:00, 125.06it/s]\n",
      "  0%|          | 0/50 [00:00<?, ?it/s]\n",
      "100%|██████████| 50/50 [00:00<00:00, 331.51it/s]\n",
      "  0%|          | 0/173 [00:00<?, ?it/s]\n",
      "  8%|▊         | 13/173 [00:00<00:01, 127.50it/s]\n"
     ]
    },
    {
     "name": "stdout",
     "output_type": "stream",
     "text": [
      "\u001b[2m\u001b[36m(func pid=19104)\u001b[0m \n",
      "\u001b[2m\u001b[36m(func pid=19104)\u001b[0m Epoch 54\n"
     ]
    },
    {
     "name": "stderr",
     "output_type": "stream",
     "text": [
      " 15%|█▌        | 26/173 [00:00<00:01, 127.86it/s]\n",
      " 23%|██▎       | 39/173 [00:00<00:01, 127.40it/s]\n",
      " 30%|███       | 52/173 [00:00<00:00, 126.46it/s]\n",
      " 38%|███▊      | 65/173 [00:00<00:00, 125.92it/s]\n",
      " 45%|████▌     | 78/173 [00:00<00:00, 125.61it/s]\n",
      " 53%|█████▎    | 91/173 [00:00<00:00, 125.35it/s]\n",
      " 60%|██████    | 104/173 [00:00<00:00, 124.89it/s]\n",
      " 68%|██████▊   | 117/173 [00:00<00:00, 121.95it/s]\n",
      " 75%|███████▌  | 130/173 [00:01<00:00, 122.25it/s]\n",
      " 83%|████████▎ | 143/173 [00:01<00:00, 122.96it/s]\n",
      " 90%|█████████ | 156/173 [00:01<00:00, 124.00it/s]\n",
      "100%|██████████| 173/173 [00:01<00:00, 124.19it/s]\n",
      "  0%|          | 0/50 [00:00<?, ?it/s]\n",
      "100%|██████████| 50/50 [00:00<00:00, 322.39it/s]\n",
      "  0%|          | 0/173 [00:00<?, ?it/s]\n",
      "  8%|▊         | 13/173 [00:00<00:01, 124.59it/s]\n"
     ]
    },
    {
     "name": "stdout",
     "output_type": "stream",
     "text": [
      "\u001b[2m\u001b[36m(func pid=19104)\u001b[0m \n",
      "\u001b[2m\u001b[36m(func pid=19104)\u001b[0m Epoch 55\n"
     ]
    },
    {
     "name": "stderr",
     "output_type": "stream",
     "text": [
      " 15%|█▌        | 26/173 [00:00<00:01, 125.49it/s]\n",
      " 23%|██▎       | 39/173 [00:00<00:01, 122.21it/s]\n",
      " 30%|███       | 52/173 [00:00<00:01, 118.64it/s]\n",
      " 38%|███▊      | 65/173 [00:00<00:00, 119.47it/s]\n",
      " 45%|████▍     | 77/173 [00:00<00:00, 119.61it/s]\n",
      " 52%|█████▏    | 90/173 [00:00<00:00, 120.58it/s]\n",
      " 60%|█████▉    | 103/173 [00:00<00:00, 121.25it/s]\n",
      " 67%|██████▋   | 116/173 [00:00<00:00, 120.58it/s]\n",
      " 75%|███████▍  | 129/173 [00:01<00:00, 115.50it/s]\n",
      " 82%|████████▏ | 141/173 [00:01<00:00, 116.52it/s]\n",
      " 89%|████████▉ | 154/173 [00:01<00:00, 118.67it/s]\n",
      "  0%|          | 0/50 [00:00<?, ?it/s]\n",
      "  0%|          | 0/173 [00:00<?, ?it/s]\n",
      "  6%|▌         | 10/173 [00:00<00:01, 98.86it/s]\n",
      " 13%|█▎        | 23/173 [00:00<00:01, 113.05it/s]\n"
     ]
    },
    {
     "name": "stdout",
     "output_type": "stream",
     "text": [
      "\u001b[2m\u001b[36m(func pid=19104)\u001b[0m \n",
      "\u001b[2m\u001b[36m(func pid=19104)\u001b[0m Epoch 56\n"
     ]
    },
    {
     "name": "stderr",
     "output_type": "stream",
     "text": [
      " 21%|██        | 36/173 [00:00<00:01, 117.53it/s]\n",
      " 28%|██▊       | 49/173 [00:00<00:01, 119.20it/s]\n",
      " 35%|███▌      | 61/173 [00:00<00:00, 119.04it/s]\n",
      " 43%|████▎     | 74/173 [00:00<00:00, 119.43it/s]\n",
      " 50%|████▉     | 86/173 [00:00<00:00, 119.60it/s]\n",
      " 57%|█████▋    | 99/173 [00:00<00:00, 121.40it/s]\n",
      " 65%|██████▍   | 112/173 [00:00<00:00, 121.08it/s]\n",
      " 72%|███████▏  | 125/173 [00:01<00:00, 120.48it/s]\n",
      " 80%|███████▉  | 138/173 [00:01<00:00, 120.79it/s]\n",
      " 87%|████████▋ | 151/173 [00:01<00:00, 120.05it/s]\n",
      " 95%|█████████▍| 164/173 [00:01<00:00, 120.80it/s]\n",
      "100%|██████████| 173/173 [00:01<00:00, 119.24it/s]\n",
      "  0%|          | 0/50 [00:00<?, ?it/s]\n",
      " 60%|██████    | 30/50 [00:00<00:00, 297.01it/s]\n",
      "100%|██████████| 50/50 [00:00<00:00, 300.86it/s]\n",
      "  0%|          | 0/173 [00:00<?, ?it/s]\n",
      "  7%|▋         | 12/173 [00:00<00:01, 119.80it/s]\n"
     ]
    },
    {
     "name": "stdout",
     "output_type": "stream",
     "text": [
      "\u001b[2m\u001b[36m(func pid=19104)\u001b[0m \n",
      "\u001b[2m\u001b[36m(func pid=19104)\u001b[0m Epoch 57\n"
     ]
    },
    {
     "name": "stderr",
     "output_type": "stream",
     "text": [
      " 14%|█▍        | 25/173 [00:00<00:01, 120.89it/s]\n",
      " 22%|██▏       | 38/173 [00:00<00:01, 120.61it/s]\n",
      " 29%|██▉       | 51/173 [00:00<00:01, 94.64it/s] \n",
      " 36%|███▋      | 63/173 [00:00<00:01, 101.46it/s]\n",
      " 44%|████▍     | 76/173 [00:00<00:00, 107.33it/s]\n",
      " 51%|█████▏    | 89/173 [00:00<00:00, 111.35it/s]\n",
      " 59%|█████▉    | 102/173 [00:00<00:00, 114.22it/s]\n",
      " 66%|██████▌   | 114/173 [00:01<00:00, 115.07it/s]\n",
      " 73%|███████▎  | 127/173 [00:01<00:00, 117.37it/s]\n",
      " 80%|████████  | 139/173 [00:01<00:00, 117.77it/s]\n",
      " 88%|████████▊ | 152/173 [00:01<00:00, 118.97it/s]\n",
      "100%|██████████| 173/173 [00:01<00:00, 114.11it/s]\n",
      "  0%|          | 0/50 [00:00<?, ?it/s]\n",
      " 62%|██████▏   | 31/50 [00:00<00:00, 297.73it/s]\n",
      "100%|██████████| 50/50 [00:00<00:00, 301.14it/s]\n",
      "  0%|          | 0/173 [00:00<?, ?it/s]\n",
      "  7%|▋         | 12/173 [00:00<00:01, 116.68it/s]\n"
     ]
    },
    {
     "name": "stdout",
     "output_type": "stream",
     "text": [
      "\u001b[2m\u001b[36m(func pid=19104)\u001b[0m \n",
      "\u001b[2m\u001b[36m(func pid=19104)\u001b[0m Epoch 58\n"
     ]
    },
    {
     "name": "stderr",
     "output_type": "stream",
     "text": [
      " 14%|█▍        | 24/173 [00:00<00:01, 115.07it/s]\n",
      " 21%|██▏       | 37/173 [00:00<00:01, 117.05it/s]\n",
      " 28%|██▊       | 49/173 [00:00<00:01, 118.02it/s]\n",
      " 35%|███▌      | 61/173 [00:00<00:00, 115.97it/s]\n",
      " 42%|████▏     | 73/173 [00:00<00:00, 116.93it/s]\n",
      " 50%|████▉     | 86/173 [00:00<00:00, 118.08it/s]\n",
      " 57%|█████▋    | 98/173 [00:00<00:00, 117.96it/s]\n",
      " 64%|██████▎   | 110/173 [00:00<00:00, 118.52it/s]\n",
      " 71%|███████   | 123/173 [00:01<00:00, 120.00it/s]\n",
      " 78%|███████▊  | 135/173 [00:01<00:00, 119.87it/s]\n",
      " 86%|████████▌ | 148/173 [00:01<00:00, 119.58it/s]\n",
      "  0%|          | 0/50 [00:00<?, ?it/s]\n",
      " 56%|█████▌    | 28/50 [00:00<00:00, 277.15it/s]\n",
      "100%|██████████| 50/50 [00:00<00:00, 283.71it/s]\n",
      "  0%|          | 0/173 [00:00<?, ?it/s]\n",
      "  7%|▋         | 12/173 [00:00<00:01, 110.26it/s]\n"
     ]
    },
    {
     "name": "stdout",
     "output_type": "stream",
     "text": [
      "\u001b[2m\u001b[36m(func pid=19104)\u001b[0m \n",
      "\u001b[2m\u001b[36m(func pid=19104)\u001b[0m Epoch 59\n"
     ]
    },
    {
     "name": "stderr",
     "output_type": "stream",
     "text": [
      " 14%|█▍        | 24/173 [00:00<00:01, 114.50it/s]\n",
      " 21%|██        | 36/173 [00:00<00:01, 113.03it/s]\n",
      " 28%|██▊       | 49/173 [00:00<00:01, 115.74it/s]\n",
      " 35%|███▌      | 61/173 [00:00<00:00, 116.41it/s]\n",
      " 43%|████▎     | 74/173 [00:00<00:00, 118.61it/s]\n",
      " 50%|████▉     | 86/173 [00:00<00:00, 118.66it/s]\n",
      " 57%|█████▋    | 99/173 [00:00<00:00, 119.91it/s]\n",
      " 64%|██████▍   | 111/173 [00:00<00:00, 119.58it/s]\n",
      " 72%|███████▏  | 124/173 [00:01<00:00, 120.16it/s]\n",
      " 79%|███████▉  | 137/173 [00:01<00:00, 121.99it/s]\n",
      " 87%|████████▋ | 150/173 [00:01<00:00, 122.26it/s]\n",
      "100%|██████████| 173/173 [00:01<00:00, 119.53it/s]\n",
      "  0%|          | 0/50 [00:00<?, ?it/s]\n",
      "100%|██████████| 50/50 [00:00<00:00, 318.75it/s]\n",
      "  0%|          | 0/173 [00:00<?, ?it/s]\n",
      "  8%|▊         | 13/173 [00:00<00:01, 122.95it/s]\n"
     ]
    },
    {
     "name": "stdout",
     "output_type": "stream",
     "text": [
      "\u001b[2m\u001b[36m(func pid=19104)\u001b[0m \n",
      "\u001b[2m\u001b[36m(func pid=19104)\u001b[0m Epoch 60\n"
     ]
    },
    {
     "name": "stderr",
     "output_type": "stream",
     "text": [
      " 15%|█▌        | 26/173 [00:00<00:01, 123.16it/s]\n",
      " 23%|██▎       | 39/173 [00:00<00:01, 120.80it/s]\n",
      " 30%|███       | 52/173 [00:00<00:00, 123.35it/s]\n",
      " 38%|███▊      | 65/173 [00:00<00:00, 123.12it/s]\n",
      " 45%|████▌     | 78/173 [00:00<00:00, 121.70it/s]\n",
      " 53%|█████▎    | 91/173 [00:00<00:00, 120.87it/s]\n",
      " 60%|██████    | 104/173 [00:00<00:00, 120.76it/s]\n",
      " 68%|██████▊   | 117/173 [00:00<00:00, 114.69it/s]\n",
      " 75%|███████▌  | 130/173 [00:01<00:00, 116.70it/s]\n",
      " 83%|████████▎ | 143/173 [00:01<00:00, 119.82it/s]\n",
      " 91%|█████████ | 157/173 [00:01<00:00, 123.42it/s]\n",
      "100%|██████████| 173/173 [00:01<00:00, 121.46it/s]\n",
      "  0%|          | 0/50 [00:00<?, ?it/s]\n",
      " 66%|██████▌   | 33/50 [00:00<00:00, 325.74it/s]\n",
      "100%|██████████| 50/50 [00:00<00:00, 325.63it/s]\n",
      "  0%|          | 0/173 [00:00<?, ?it/s]\n"
     ]
    },
    {
     "name": "stdout",
     "output_type": "stream",
     "text": [
      "\u001b[2m\u001b[36m(func pid=19104)\u001b[0m \n",
      "\u001b[2m\u001b[36m(func pid=19104)\u001b[0m Epoch 61\n"
     ]
    },
    {
     "name": "stderr",
     "output_type": "stream",
     "text": [
      "  8%|▊         | 13/173 [00:00<00:01, 126.81it/s]\n",
      " 16%|█▌        | 27/173 [00:00<00:01, 128.91it/s]\n",
      " 23%|██▎       | 40/173 [00:00<00:01, 128.87it/s]\n",
      " 31%|███       | 53/173 [00:00<00:00, 128.07it/s]\n",
      " 38%|███▊      | 66/173 [00:00<00:00, 128.71it/s]\n",
      " 46%|████▌     | 79/173 [00:00<00:00, 126.81it/s]\n",
      " 53%|█████▎    | 92/173 [00:00<00:00, 124.24it/s]\n",
      " 61%|██████    | 105/173 [00:00<00:00, 124.50it/s]\n",
      " 68%|██████▊   | 118/173 [00:00<00:00, 124.70it/s]\n",
      " 76%|███████▌  | 131/173 [00:01<00:00, 123.10it/s]\n",
      " 83%|████████▎ | 144/173 [00:01<00:00, 124.27it/s]\n",
      " 91%|█████████ | 157/173 [00:01<00:00, 125.95it/s]\n",
      "  0%|          | 0/50 [00:00<?, ?it/s]\n",
      " 60%|██████    | 30/50 [00:00<00:00, 299.26it/s]\n",
      "100%|██████████| 50/50 [00:00<00:00, 308.73it/s]\n",
      "  0%|          | 0/173 [00:00<?, ?it/s]\n",
      "  8%|▊         | 13/173 [00:00<00:01, 123.95it/s]\n"
     ]
    },
    {
     "name": "stdout",
     "output_type": "stream",
     "text": [
      "\u001b[2m\u001b[36m(func pid=19104)\u001b[0m Epoch 00061: reducing learning rate of group 0 to 3.6440e-04.\n",
      "\u001b[2m\u001b[36m(func pid=19104)\u001b[0m \n",
      "\u001b[2m\u001b[36m(func pid=19104)\u001b[0m Epoch 62\n"
     ]
    },
    {
     "name": "stderr",
     "output_type": "stream",
     "text": [
      " 15%|█▌        | 26/173 [00:00<00:01, 87.60it/s] \n",
      " 23%|██▎       | 39/173 [00:00<00:01, 102.56it/s]\n",
      " 30%|███       | 52/173 [00:00<00:01, 110.44it/s]\n",
      " 38%|███▊      | 65/173 [00:00<00:00, 115.72it/s]\n",
      " 45%|████▌     | 78/173 [00:00<00:00, 118.99it/s]\n",
      " 53%|█████▎    | 91/173 [00:00<00:00, 121.23it/s]\n",
      " 60%|██████    | 104/173 [00:00<00:00, 123.07it/s]\n",
      " 68%|██████▊   | 117/173 [00:01<00:00, 124.85it/s]\n",
      " 75%|███████▌  | 130/173 [00:01<00:00, 125.42it/s]\n",
      " 83%|████████▎ | 143/173 [00:01<00:00, 125.89it/s]\n",
      " 90%|█████████ | 156/173 [00:01<00:00, 126.78it/s]\n",
      "100%|██████████| 173/173 [00:01<00:00, 119.58it/s]\n",
      "  0%|          | 0/50 [00:00<?, ?it/s]\n",
      " 58%|█████▊    | 29/50 [00:00<00:00, 282.49it/s]\n",
      "100%|██████████| 50/50 [00:00<00:00, 295.69it/s]\n",
      "  0%|          | 0/173 [00:00<?, ?it/s]\n"
     ]
    },
    {
     "name": "stdout",
     "output_type": "stream",
     "text": [
      "\u001b[2m\u001b[36m(func pid=19104)\u001b[0m \n",
      "\u001b[2m\u001b[36m(func pid=19104)\u001b[0m Epoch 63\n"
     ]
    },
    {
     "name": "stderr",
     "output_type": "stream",
     "text": [
      "  7%|▋         | 12/173 [00:00<00:01, 113.97it/s]\n",
      " 14%|█▍        | 24/173 [00:00<00:01, 110.88it/s]\n",
      " 21%|██        | 36/173 [00:00<00:01, 107.94it/s]\n",
      " 35%|███▍      | 60/173 [00:00<00:01, 111.51it/s]\n",
      " 42%|████▏     | 72/173 [00:00<00:00, 107.92it/s]\n",
      " 48%|████▊     | 83/173 [00:00<00:00, 105.94it/s]\n",
      " 54%|█████▍    | 94/173 [00:00<00:00, 104.09it/s]\n",
      " 61%|██████    | 105/173 [00:00<00:00, 104.33it/s]\n",
      " 68%|██████▊   | 117/173 [00:01<00:00, 106.66it/s]\n",
      " 75%|███████▍  | 129/173 [00:01<00:00, 108.03it/s]\n",
      " 81%|████████  | 140/173 [00:01<00:00, 106.50it/s]\n",
      " 94%|█████████▍| 163/173 [00:01<00:00, 107.27it/s]\n",
      "100%|██████████| 173/173 [00:01<00:00, 106.56it/s]\n",
      "  0%|          | 0/50 [00:00<?, ?it/s]\n",
      " 56%|█████▌    | 28/50 [00:00<00:00, 276.56it/s]\n",
      "100%|██████████| 50/50 [00:00<00:00, 283.43it/s]\n",
      "  0%|          | 0/173 [00:00<?, ?it/s]\n",
      "  7%|▋         | 12/173 [00:00<00:01, 112.15it/s]\n"
     ]
    },
    {
     "name": "stdout",
     "output_type": "stream",
     "text": [
      "\u001b[2m\u001b[36m(func pid=19104)\u001b[0m \n",
      "\u001b[2m\u001b[36m(func pid=19104)\u001b[0m Epoch 64\n"
     ]
    },
    {
     "name": "stderr",
     "output_type": "stream",
     "text": [
      " 14%|█▍        | 24/173 [00:00<00:01, 111.60it/s]\n",
      " 21%|██        | 36/173 [00:00<00:01, 112.76it/s]\n",
      " 28%|██▊       | 48/173 [00:00<00:01, 114.68it/s]\n",
      " 35%|███▌      | 61/173 [00:00<00:00, 117.15it/s]\n",
      " 42%|████▏     | 73/173 [00:00<00:00, 117.77it/s]\n",
      " 49%|████▉     | 85/173 [00:00<00:00, 118.41it/s]\n",
      " 56%|█████▌    | 97/173 [00:00<00:00, 115.29it/s]\n",
      " 63%|██████▎   | 109/173 [00:00<00:00, 114.35it/s]\n",
      " 70%|██████▉   | 121/173 [00:01<00:00, 115.66it/s]\n",
      " 77%|███████▋  | 134/173 [00:01<00:00, 116.14it/s]\n",
      " 84%|████████▍ | 146/173 [00:01<00:00, 109.50it/s]\n",
      " 91%|█████████▏| 158/173 [00:01<00:00, 108.74it/s]\n",
      "100%|██████████| 173/173 [00:01<00:00, 113.75it/s]\n",
      "  0%|          | 0/50 [00:00<?, ?it/s]\n",
      "100%|██████████| 50/50 [00:00<00:00, 276.48it/s]\n",
      "  0%|          | 0/173 [00:00<?, ?it/s]\n",
      "  8%|▊         | 13/173 [00:00<00:01, 122.00it/s]\n"
     ]
    },
    {
     "name": "stdout",
     "output_type": "stream",
     "text": [
      "\u001b[2m\u001b[36m(func pid=19104)\u001b[0m \n",
      "\u001b[2m\u001b[36m(func pid=19104)\u001b[0m Epoch 65\n"
     ]
    },
    {
     "name": "stderr",
     "output_type": "stream",
     "text": [
      " 15%|█▌        | 26/173 [00:00<00:01, 118.44it/s]\n",
      " 22%|██▏       | 38/173 [00:00<00:01, 118.04it/s]\n",
      " 29%|██▉       | 50/173 [00:00<00:01, 116.92it/s]\n",
      " 36%|███▌      | 62/173 [00:00<00:00, 116.78it/s]\n",
      " 43%|████▎     | 75/173 [00:00<00:00, 119.23it/s]\n",
      " 51%|█████     | 88/173 [00:00<00:00, 120.66it/s]\n",
      " 58%|█████▊    | 101/173 [00:00<00:00, 121.07it/s]\n",
      " 66%|██████▌   | 114/173 [00:00<00:00, 120.67it/s]\n",
      " 73%|███████▎  | 127/173 [00:01<00:00, 120.66it/s]\n",
      " 81%|████████  | 140/173 [00:01<00:00, 121.64it/s]\n",
      " 88%|████████▊ | 153/173 [00:01<00:00, 121.28it/s]\n",
      " 96%|█████████▌| 166/173 [00:01<00:00, 122.01it/s]\n",
      "100%|██████████| 173/173 [00:01<00:00, 119.76it/s]\n",
      "  0%|          | 0/50 [00:00<?, ?it/s]\n",
      " 64%|██████▍   | 32/50 [00:00<00:00, 317.21it/s]\n",
      "100%|██████████| 50/50 [00:00<00:00, 321.64it/s]\n",
      "  0%|          | 0/173 [00:00<?, ?it/s]\n",
      "  8%|▊         | 13/173 [00:00<00:01, 120.95it/s]\n"
     ]
    },
    {
     "name": "stdout",
     "output_type": "stream",
     "text": [
      "\u001b[2m\u001b[36m(func pid=19104)\u001b[0m \n",
      "\u001b[2m\u001b[36m(func pid=19104)\u001b[0m Epoch 66\n"
     ]
    },
    {
     "name": "stderr",
     "output_type": "stream",
     "text": [
      " 15%|█▌        | 26/173 [00:00<00:01, 116.49it/s]\n",
      " 23%|██▎       | 39/173 [00:00<00:01, 117.97it/s]\n",
      " 30%|███       | 52/173 [00:00<00:01, 117.54it/s]\n",
      " 37%|███▋      | 64/173 [00:00<00:00, 114.23it/s]\n",
      " 44%|████▍     | 76/173 [00:00<00:00, 113.92it/s]\n",
      " 51%|█████▏    | 89/173 [00:00<00:00, 115.97it/s]\n",
      " 59%|█████▉    | 102/173 [00:00<00:00, 120.12it/s]\n",
      " 66%|██████▋   | 115/173 [00:00<00:00, 121.71it/s]\n",
      " 74%|███████▍  | 128/173 [00:01<00:00, 123.10it/s]\n",
      " 82%|████████▏ | 142/173 [00:01<00:00, 125.13it/s]\n",
      " 90%|████████▉ | 155/173 [00:01<00:00, 125.65it/s]\n",
      " 97%|█████████▋| 168/173 [00:01<00:00, 126.58it/s]\n",
      "100%|██████████| 173/173 [00:01<00:00, 121.43it/s]\n",
      "  0%|          | 0/50 [00:00<?, ?it/s]\n",
      "100%|██████████| 50/50 [00:00<00:00, 328.76it/s]\n",
      "  0%|          | 0/173 [00:00<?, ?it/s]\n"
     ]
    },
    {
     "name": "stdout",
     "output_type": "stream",
     "text": [
      "\u001b[2m\u001b[36m(func pid=19104)\u001b[0m \n",
      "\u001b[2m\u001b[36m(func pid=19104)\u001b[0m Epoch 67\n"
     ]
    },
    {
     "name": "stderr",
     "output_type": "stream",
     "text": [
      "  4%|▍         | 7/173 [00:00<00:03, 52.22it/s]\n",
      " 12%|█▏        | 20/173 [00:00<00:01, 91.44it/s]\n",
      " 19%|█▉        | 33/173 [00:00<00:01, 105.93it/s]\n",
      " 27%|██▋       | 46/173 [00:00<00:01, 114.01it/s]\n",
      " 34%|███▍      | 59/173 [00:00<00:00, 118.71it/s]\n",
      " 42%|████▏     | 72/173 [00:00<00:00, 122.04it/s]\n",
      " 49%|████▉     | 85/173 [00:00<00:00, 122.15it/s]\n",
      " 57%|█████▋    | 98/173 [00:00<00:00, 123.51it/s]\n",
      " 64%|██████▍   | 111/173 [00:00<00:00, 125.45it/s]\n",
      " 72%|███████▏  | 124/173 [00:01<00:00, 126.49it/s]\n",
      " 79%|███████▉  | 137/173 [00:01<00:00, 126.31it/s]\n",
      " 87%|████████▋ | 150/173 [00:01<00:00, 126.73it/s]\n",
      " 94%|█████████▍| 163/173 [00:01<00:00, 126.58it/s]\n",
      "  0%|          | 0/50 [00:00<?, ?it/s]\n",
      "100%|██████████| 50/50 [00:00<00:00, 324.07it/s]\n",
      "  0%|          | 0/173 [00:00<?, ?it/s]\n"
     ]
    },
    {
     "name": "stdout",
     "output_type": "stream",
     "text": [
      "\u001b[2m\u001b[36m(func pid=19104)\u001b[0m Epoch 00067: reducing learning rate of group 0 to 1.8220e-04.\n",
      "\u001b[2m\u001b[36m(func pid=19104)\u001b[0m \n",
      "\u001b[2m\u001b[36m(func pid=19104)\u001b[0m Epoch 68\n"
     ]
    },
    {
     "name": "stderr",
     "output_type": "stream",
     "text": [
      "  7%|▋         | 12/173 [00:00<00:01, 118.76it/s]\n",
      " 14%|█▍        | 25/173 [00:00<00:01, 121.88it/s]\n",
      " 22%|██▏       | 38/173 [00:00<00:01, 124.21it/s]\n",
      " 29%|██▉       | 51/173 [00:00<00:00, 124.64it/s]\n",
      " 37%|███▋      | 64/173 [00:00<00:00, 124.67it/s]\n",
      " 45%|████▍     | 77/173 [00:00<00:00, 124.38it/s]\n",
      " 52%|█████▏    | 90/173 [00:00<00:00, 124.71it/s]\n",
      " 60%|█████▉    | 103/173 [00:00<00:00, 123.26it/s]\n",
      " 67%|██████▋   | 116/173 [00:00<00:00, 123.11it/s]\n",
      " 75%|███████▍  | 129/173 [00:01<00:00, 122.61it/s]\n",
      " 82%|████████▏ | 142/173 [00:01<00:00, 123.68it/s]\n",
      " 90%|████████▉ | 155/173 [00:01<00:00, 124.33it/s]\n",
      " 97%|█████████▋| 168/173 [00:01<00:00, 124.57it/s]\n",
      "100%|██████████| 173/173 [00:01<00:00, 123.62it/s]\n",
      "  0%|          | 0/50 [00:00<?, ?it/s]\n",
      " 62%|██████▏   | 31/50 [00:00<00:00, 303.23it/s]\n",
      "100%|██████████| 50/50 [00:00<00:00, 305.45it/s]\n",
      "  0%|          | 0/173 [00:00<?, ?it/s]\n",
      "  6%|▌         | 10/173 [00:00<00:01, 96.05it/s]\n"
     ]
    },
    {
     "name": "stdout",
     "output_type": "stream",
     "text": [
      "\u001b[2m\u001b[36m(func pid=19104)\u001b[0m \n",
      "\u001b[2m\u001b[36m(func pid=19104)\u001b[0m Epoch 69\n"
     ]
    },
    {
     "name": "stderr",
     "output_type": "stream",
     "text": [
      " 13%|█▎        | 23/173 [00:00<00:01, 110.24it/s]\n",
      " 21%|██        | 36/173 [00:00<00:01, 115.30it/s]\n",
      " 28%|██▊       | 48/173 [00:00<00:01, 116.25it/s]\n",
      " 35%|███▌      | 61/173 [00:00<00:00, 118.44it/s]\n",
      " 42%|████▏     | 73/173 [00:00<00:00, 118.56it/s]\n",
      " 50%|████▉     | 86/173 [00:00<00:00, 119.21it/s]\n",
      " 57%|█████▋    | 99/173 [00:00<00:00, 121.36it/s]\n",
      " 65%|██████▍   | 112/173 [00:00<00:00, 123.63it/s]\n",
      " 72%|███████▏  | 125/173 [00:01<00:00, 123.28it/s]\n",
      " 80%|███████▉  | 138/173 [00:01<00:00, 123.44it/s]\n",
      " 87%|████████▋ | 151/173 [00:01<00:00, 122.06it/s]\n",
      "100%|██████████| 173/173 [00:01<00:00, 119.63it/s]\n",
      "  0%|          | 0/50 [00:00<?, ?it/s]\n",
      "100%|██████████| 50/50 [00:00<00:00, 313.97it/s]\n",
      "  0%|          | 0/173 [00:00<?, ?it/s]\n",
      "  8%|▊         | 13/173 [00:00<00:01, 122.02it/s]\n"
     ]
    },
    {
     "name": "stdout",
     "output_type": "stream",
     "text": [
      "\u001b[2m\u001b[36m(func pid=19104)\u001b[0m \n",
      "\u001b[2m\u001b[36m(func pid=19104)\u001b[0m Epoch 70\n"
     ]
    },
    {
     "name": "stderr",
     "output_type": "stream",
     "text": [
      " 15%|█▌        | 26/173 [00:00<00:01, 122.44it/s]\n",
      " 23%|██▎       | 39/173 [00:00<00:01, 123.03it/s]\n",
      " 30%|███       | 52/173 [00:00<00:00, 122.86it/s]\n",
      " 38%|███▊      | 65/173 [00:00<00:00, 117.04it/s]\n",
      " 45%|████▍     | 77/173 [00:00<00:00, 113.71it/s]\n",
      " 51%|█████▏    | 89/173 [00:00<00:00, 115.08it/s]\n",
      " 58%|█████▊    | 101/173 [00:00<00:00, 116.14it/s]\n",
      " 65%|██████▌   | 113/173 [00:00<00:00, 114.59it/s]\n",
      " 72%|███████▏  | 125/173 [00:01<00:00, 110.53it/s]\n",
      " 79%|███████▉  | 137/173 [00:01<00:00, 107.52it/s]\n",
      " 86%|████████▌ | 148/173 [00:01<00:00, 100.83it/s]\n",
      " 92%|█████████▏| 159/173 [00:01<00:00, 99.27it/s] \n",
      "100%|██████████| 173/173 [00:01<00:00, 107.70it/s]\n",
      "  0%|          | 0/50 [00:00<?, ?it/s]\n",
      " 46%|████▌     | 23/50 [00:00<00:00, 222.49it/s]\n",
      "100%|██████████| 50/50 [00:00<00:00, 218.66it/s]\n",
      "  0%|          | 0/173 [00:00<?, ?it/s]\n",
      "  5%|▍         | 8/173 [00:00<00:02, 79.73it/s]\n"
     ]
    },
    {
     "name": "stdout",
     "output_type": "stream",
     "text": [
      "\u001b[2m\u001b[36m(func pid=19104)\u001b[0m \n",
      "\u001b[2m\u001b[36m(func pid=19104)\u001b[0m Epoch 71\n"
     ]
    },
    {
     "name": "stderr",
     "output_type": "stream",
     "text": [
      "  9%|▉         | 16/173 [00:00<00:02, 72.71it/s]\n",
      " 14%|█▍        | 25/173 [00:00<00:01, 77.31it/s]\n",
      " 20%|█▉        | 34/173 [00:00<00:01, 80.22it/s]\n",
      " 25%|██▍       | 43/173 [00:00<00:01, 83.09it/s]\n",
      " 30%|███       | 52/173 [00:00<00:01, 83.89it/s]\n",
      " 35%|███▌      | 61/173 [00:00<00:01, 85.62it/s]\n",
      " 41%|████      | 71/173 [00:00<00:01, 87.81it/s]\n",
      " 47%|████▋     | 81/173 [00:00<00:01, 91.03it/s]\n",
      " 53%|█████▎    | 91/173 [00:01<00:00, 88.10it/s]\n",
      " 58%|█████▊    | 101/173 [00:01<00:00, 90.21it/s]\n",
      " 64%|██████▍   | 111/173 [00:01<00:00, 86.81it/s]\n",
      " 69%|██████▉   | 120/173 [00:01<00:00, 84.39it/s]\n",
      " 75%|███████▍  | 129/173 [00:01<00:00, 81.63it/s]\n",
      " 80%|███████▉  | 138/173 [00:01<00:00, 82.82it/s]\n",
      " 85%|████████▍ | 147/173 [00:01<00:00, 83.89it/s]\n",
      " 90%|█████████ | 156/173 [00:01<00:00, 84.46it/s]\n",
      " 95%|█████████▌| 165/173 [00:01<00:00, 85.71it/s]\n",
      "100%|██████████| 173/173 [00:02<00:00, 84.14it/s]\n",
      "  0%|          | 0/50 [00:00<?, ?it/s]\n",
      " 44%|████▍     | 22/50 [00:00<00:00, 213.82it/s]\n",
      " 88%|████████▊ | 44/50 [00:00<00:00, 133.05it/s]\n",
      "100%|██████████| 50/50 [00:00<00:00, 147.69it/s]\n",
      "  0%|          | 0/173 [00:00<?, ?it/s]\n"
     ]
    },
    {
     "name": "stdout",
     "output_type": "stream",
     "text": [
      "\u001b[2m\u001b[36m(func pid=19104)\u001b[0m \n",
      "\u001b[2m\u001b[36m(func pid=19104)\u001b[0m Epoch 72\n"
     ]
    },
    {
     "name": "stderr",
     "output_type": "stream",
     "text": [
      "  5%|▌         | 9/173 [00:00<00:02, 80.30it/s]\n",
      " 10%|█         | 18/173 [00:00<00:02, 67.94it/s]\n",
      " 16%|█▌        | 27/173 [00:00<00:01, 73.32it/s]\n",
      " 21%|██        | 36/173 [00:00<00:01, 76.19it/s]\n",
      " 26%|██▌       | 45/173 [00:00<00:01, 79.78it/s]\n",
      " 31%|███       | 54/173 [00:00<00:01, 79.78it/s]\n",
      " 37%|███▋      | 64/173 [00:00<00:01, 82.91it/s]\n",
      " 43%|████▎     | 74/173 [00:00<00:01, 86.18it/s]\n",
      " 48%|████▊     | 83/173 [00:01<00:01, 83.59it/s]\n",
      " 54%|█████▍    | 93/173 [00:01<00:00, 86.00it/s]\n",
      " 60%|█████▉    | 103/173 [00:01<00:00, 87.40it/s]\n",
      " 66%|██████▌   | 114/173 [00:01<00:00, 90.89it/s]\n",
      " 73%|███████▎  | 126/173 [00:01<00:00, 96.97it/s]\n",
      " 80%|███████▉  | 138/173 [00:01<00:00, 102.78it/s]\n",
      " 86%|████████▌ | 149/173 [00:01<00:00, 103.09it/s]\n",
      " 93%|█████████▎| 161/173 [00:01<00:00, 105.87it/s]\n",
      "100%|██████████| 173/173 [00:01<00:00, 91.43it/s] \n",
      "100%|██████████| 50/50 [00:00<00:00, 271.28it/s]\n",
      "  0%|          | 0/173 [00:00<?, ?it/s]\n",
      "  5%|▌         | 9/173 [00:00<00:01, 87.59it/s]\n"
     ]
    },
    {
     "name": "stdout",
     "output_type": "stream",
     "text": [
      "\u001b[2m\u001b[36m(func pid=19104)\u001b[0m \n",
      "\u001b[2m\u001b[36m(func pid=19104)\u001b[0m Epoch 73\n"
     ]
    },
    {
     "name": "stderr",
     "output_type": "stream",
     "text": [
      " 12%|█▏        | 20/173 [00:00<00:01, 96.82it/s]\n",
      " 18%|█▊        | 31/173 [00:00<00:01, 99.83it/s]\n",
      " 24%|██▍       | 42/173 [00:00<00:01, 101.01it/s]\n",
      " 31%|███       | 53/173 [00:00<00:01, 102.35it/s]\n",
      " 37%|███▋      | 64/173 [00:00<00:01, 103.84it/s]\n",
      " 44%|████▍     | 76/173 [00:00<00:00, 107.25it/s]\n",
      " 51%|█████     | 88/173 [00:00<00:00, 109.49it/s]\n",
      " 58%|█████▊    | 100/173 [00:00<00:00, 112.35it/s]\n",
      " 65%|██████▍   | 112/173 [00:01<00:00, 112.26it/s]\n",
      " 72%|███████▏  | 124/173 [00:01<00:00, 113.51it/s]\n",
      " 79%|███████▊  | 136/173 [00:01<00:00, 113.73it/s]\n",
      " 86%|████████▌ | 148/173 [00:01<00:00, 110.32it/s]\n",
      " 92%|█████████▏| 160/173 [00:01<00:00, 105.91it/s]\n",
      "100%|██████████| 173/173 [00:01<00:00, 106.52it/s]\n",
      "  0%|          | 0/50 [00:00<?, ?it/s]\n",
      "100%|██████████| 50/50 [00:00<00:00, 287.29it/s]\n"
     ]
    },
    {
     "name": "stdout",
     "output_type": "stream",
     "text": [
      "\u001b[2m\u001b[36m(func pid=19104)\u001b[0m Epoch 00073: reducing learning rate of group 0 to 9.1101e-05.\n",
      "\u001b[2m\u001b[36m(func pid=19104)\u001b[0m \n",
      "\u001b[2m\u001b[36m(func pid=19104)\u001b[0m Epoch 74\n"
     ]
    },
    {
     "name": "stderr",
     "output_type": "stream",
     "text": [
      "  0%|          | 0/173 [00:00<?, ?it/s]\n",
      "  6%|▌         | 10/173 [00:00<00:01, 99.88it/s]\n",
      " 12%|█▏        | 21/173 [00:00<00:01, 102.22it/s]\n",
      " 19%|█▉        | 33/173 [00:00<00:01, 107.23it/s]\n",
      " 26%|██▌       | 45/173 [00:00<00:01, 108.88it/s]\n",
      " 32%|███▏      | 56/173 [00:00<00:01, 105.57it/s]\n",
      " 39%|███▊      | 67/173 [00:00<00:01, 100.84it/s]\n",
      " 45%|████▌     | 78/173 [00:00<00:00, 99.69it/s] \n",
      " 51%|█████     | 88/173 [00:00<00:00, 99.21it/s]\n",
      " 57%|█████▋    | 98/173 [00:00<00:00, 95.10it/s]\n",
      " 62%|██████▏   | 108/173 [00:01<00:00, 94.68it/s]\n",
      " 68%|██████▊   | 118/173 [00:01<00:00, 95.93it/s]\n",
      " 75%|███████▍  | 129/173 [00:01<00:00, 98.90it/s]\n",
      " 80%|████████  | 139/173 [00:01<00:00, 98.07it/s]\n",
      " 87%|████████▋ | 150/173 [00:01<00:00, 100.39it/s]\n",
      " 93%|█████████▎| 161/173 [00:01<00:00, 100.81it/s]\n",
      "100%|██████████| 173/173 [00:01<00:00, 100.46it/s]\n",
      "  0%|          | 0/50 [00:00<?, ?it/s]\n",
      " 54%|█████▍    | 27/50 [00:00<00:00, 267.20it/s]\n",
      "100%|██████████| 50/50 [00:00<00:00, 267.20it/s]\n",
      "  0%|          | 0/173 [00:00<?, ?it/s]\n",
      "  6%|▌         | 10/173 [00:00<00:01, 99.82it/s]\n"
     ]
    },
    {
     "name": "stdout",
     "output_type": "stream",
     "text": [
      "\u001b[2m\u001b[36m(func pid=19104)\u001b[0m \n",
      "\u001b[2m\u001b[36m(func pid=19104)\u001b[0m Epoch 75\n"
     ]
    },
    {
     "name": "stderr",
     "output_type": "stream",
     "text": [
      " 12%|█▏        | 20/173 [00:00<00:01, 99.92it/s]\n",
      " 17%|█▋        | 30/173 [00:00<00:01, 99.70it/s]\n",
      " 24%|██▎       | 41/173 [00:00<00:01, 101.51it/s]\n",
      " 30%|███       | 52/173 [00:00<00:01, 101.61it/s]\n",
      " 37%|███▋      | 64/173 [00:00<00:01, 104.25it/s]\n",
      " 43%|████▎     | 75/173 [00:00<00:00, 105.69it/s]\n",
      " 50%|█████     | 87/173 [00:00<00:00, 108.52it/s]\n",
      " 57%|█████▋    | 99/173 [00:00<00:00, 110.64it/s]\n",
      " 64%|██████▍   | 111/173 [00:01<00:00, 108.44it/s]\n",
      " 71%|███████   | 123/173 [00:01<00:00, 109.35it/s]\n",
      " 77%|███████▋  | 134/173 [00:01<00:00, 108.63it/s]\n",
      " 84%|████████▍ | 145/173 [00:01<00:00, 105.53it/s]\n",
      " 90%|█████████ | 156/173 [00:01<00:00, 103.39it/s]\n",
      " 97%|█████████▋| 167/173 [00:01<00:00, 105.14it/s]\n",
      "100%|██████████| 173/173 [00:01<00:00, 105.26it/s]\n",
      "  0%|          | 0/50 [00:00<?, ?it/s]\n",
      " 56%|█████▌    | 28/50 [00:00<00:00, 269.51it/s]\n",
      "100%|██████████| 50/50 [00:00<00:00, 267.78it/s]\n",
      "  0%|          | 0/173 [00:00<?, ?it/s]\n",
      "  6%|▌         | 10/173 [00:00<00:01, 94.31it/s]\n"
     ]
    },
    {
     "name": "stdout",
     "output_type": "stream",
     "text": [
      "\u001b[2m\u001b[36m(func pid=19104)\u001b[0m \n",
      "\u001b[2m\u001b[36m(func pid=19104)\u001b[0m Epoch 76\n"
     ]
    },
    {
     "name": "stderr",
     "output_type": "stream",
     "text": [
      " 12%|█▏        | 21/173 [00:00<00:01, 98.29it/s]\n",
      " 18%|█▊        | 32/173 [00:00<00:01, 102.62it/s]\n",
      " 25%|██▍       | 43/173 [00:00<00:01, 103.71it/s]\n",
      " 31%|███       | 54/173 [00:00<00:01, 105.29it/s]\n",
      " 38%|███▊      | 65/173 [00:00<00:01, 104.80it/s]\n",
      " 44%|████▍     | 76/173 [00:00<00:00, 100.36it/s]\n",
      " 50%|█████     | 87/173 [00:00<00:00, 101.14it/s]\n",
      " 57%|█████▋    | 98/173 [00:00<00:00, 101.04it/s]\n",
      " 63%|██████▎   | 109/173 [00:01<00:00, 100.38it/s]\n",
      " 69%|██████▉   | 120/173 [00:01<00:00, 101.44it/s]\n",
      " 76%|███████▌  | 131/173 [00:01<00:00, 101.85it/s]\n",
      " 82%|████████▏ | 142/173 [00:01<00:00, 102.06it/s]\n",
      " 88%|████████▊ | 153/173 [00:01<00:00, 103.50it/s]\n",
      " 95%|█████████▍| 164/173 [00:01<00:00, 103.86it/s]\n",
      "100%|██████████| 173/173 [00:01<00:00, 102.20it/s]\n",
      "  0%|          | 0/50 [00:00<?, ?it/s]\n",
      " 44%|████▍     | 22/50 [00:00<00:00, 134.99it/s]\n",
      "100%|██████████| 50/50 [00:00<00:00, 173.15it/s]\n",
      "  0%|          | 0/173 [00:00<?, ?it/s]\n",
      "  6%|▌         | 10/173 [00:00<00:01, 92.31it/s]\n"
     ]
    },
    {
     "name": "stdout",
     "output_type": "stream",
     "text": [
      "\u001b[2m\u001b[36m(func pid=19104)\u001b[0m \n",
      "\u001b[2m\u001b[36m(func pid=19104)\u001b[0m Epoch 77\n"
     ]
    },
    {
     "name": "stderr",
     "output_type": "stream",
     "text": [
      " 12%|█▏        | 20/173 [00:00<00:01, 96.32it/s]\n",
      " 18%|█▊        | 31/173 [00:00<00:01, 100.95it/s]\n",
      " 24%|██▍       | 42/173 [00:00<00:01, 101.24it/s]\n",
      " 31%|███       | 53/173 [00:00<00:01, 100.17it/s]\n",
      " 37%|███▋      | 64/173 [00:00<00:01, 100.67it/s]\n",
      " 43%|████▎     | 75/173 [00:00<00:00, 102.36it/s]\n",
      " 50%|████▉     | 86/173 [00:00<00:00, 103.84it/s]\n",
      " 56%|█████▌    | 97/173 [00:00<00:00, 96.05it/s] \n",
      " 62%|██████▏   | 107/173 [00:01<00:00, 94.58it/s]\n",
      " 68%|██████▊   | 118/173 [00:01<00:00, 96.70it/s]\n",
      " 75%|███████▍  | 129/173 [00:01<00:00, 98.01it/s]\n",
      " 81%|████████  | 140/173 [00:01<00:00, 100.34it/s]\n",
      " 87%|████████▋ | 151/173 [00:01<00:00, 102.11it/s]\n",
      " 94%|█████████▎| 162/173 [00:01<00:00, 102.60it/s]\n",
      "100%|██████████| 173/173 [00:01<00:00, 100.17it/s]\n",
      "  0%|          | 0/50 [00:00<?, ?it/s]\n",
      " 52%|█████▏    | 26/50 [00:00<00:00, 250.10it/s]\n",
      "100%|██████████| 50/50 [00:00<00:00, 243.90it/s]\n",
      "  0%|          | 0/173 [00:00<?, ?it/s]\n"
     ]
    },
    {
     "name": "stdout",
     "output_type": "stream",
     "text": [
      "\u001b[2m\u001b[36m(func pid=19104)\u001b[0m \n",
      "\u001b[2m\u001b[36m(func pid=19104)\u001b[0m Epoch 78\n"
     ]
    },
    {
     "name": "stderr",
     "output_type": "stream",
     "text": [
      "  6%|▌         | 10/173 [00:00<00:01, 93.22it/s]\n",
      " 12%|█▏        | 21/173 [00:00<00:01, 98.87it/s]\n",
      " 18%|█▊        | 31/173 [00:00<00:01, 96.71it/s]\n",
      " 24%|██▍       | 42/173 [00:00<00:01, 97.97it/s]\n",
      " 31%|███       | 53/173 [00:00<00:01, 97.85it/s]\n",
      " 36%|███▋      | 63/173 [00:00<00:01, 98.07it/s]\n",
      " 43%|████▎     | 74/173 [00:00<00:00, 100.26it/s]\n",
      " 49%|████▉     | 85/173 [00:00<00:00, 99.93it/s] \n",
      " 55%|█████▌    | 96/173 [00:00<00:00, 100.59it/s]\n",
      " 62%|██████▏   | 107/173 [00:01<00:00, 100.98it/s]\n",
      " 68%|██████▊   | 118/173 [00:01<00:00, 102.11it/s]\n",
      " 75%|███████▌  | 130/173 [00:01<00:00, 105.37it/s]\n",
      " 82%|████████▏ | 141/173 [00:01<00:00, 106.53it/s]\n",
      " 88%|████████▊ | 153/173 [00:01<00:00, 109.30it/s]\n",
      " 58%|█████▊    | 29/50 [00:00<00:00, 280.42it/s]\n",
      "100%|██████████| 50/50 [00:00<00:00, 284.37it/s]\n",
      "  0%|          | 0/173 [00:00<?, ?it/s]\n",
      "  7%|▋         | 12/173 [00:00<00:01, 119.00it/s]\n"
     ]
    },
    {
     "name": "stdout",
     "output_type": "stream",
     "text": [
      "\u001b[2m\u001b[36m(func pid=19104)\u001b[0m \n",
      "\u001b[2m\u001b[36m(func pid=19104)\u001b[0m Epoch 79\n"
     ]
    },
    {
     "name": "stderr",
     "output_type": "stream",
     "text": [
      " 14%|█▍        | 24/173 [00:00<00:01, 111.36it/s]\n",
      " 28%|██▊       | 48/173 [00:00<00:01, 114.51it/s]\n",
      " 35%|███▍      | 60/173 [00:00<00:00, 114.84it/s]\n",
      " 42%|████▏     | 72/173 [00:00<00:00, 115.68it/s]\n",
      " 49%|████▉     | 85/173 [00:00<00:00, 117.65it/s]\n",
      " 56%|█████▌    | 97/173 [00:00<00:00, 116.23it/s]\n",
      " 63%|██████▎   | 109/173 [00:00<00:00, 112.58it/s]\n",
      " 70%|██████▉   | 121/173 [00:01<00:00, 112.79it/s]\n",
      " 77%|███████▋  | 133/173 [00:01<00:00, 111.93it/s]\n",
      " 84%|████████▍ | 146/173 [00:01<00:00, 114.55it/s]\n",
      " 91%|█████████▏| 158/173 [00:01<00:00, 114.80it/s]\n",
      "100%|██████████| 173/173 [00:01<00:00, 114.45it/s]\n",
      "  0%|          | 0/50 [00:00<?, ?it/s]\n",
      "100%|██████████| 50/50 [00:00<00:00, 295.94it/s]\n",
      "  0%|          | 0/173 [00:00<?, ?it/s]\n"
     ]
    },
    {
     "name": "stdout",
     "output_type": "stream",
     "text": [
      "\u001b[2m\u001b[36m(func pid=19104)\u001b[0m Epoch 00079: reducing learning rate of group 0 to 4.5550e-05.\n",
      "\u001b[2m\u001b[36m(func pid=19104)\u001b[0m \n",
      "\u001b[2m\u001b[36m(func pid=19104)\u001b[0m Epoch 80\n"
     ]
    },
    {
     "name": "stderr",
     "output_type": "stream",
     "text": [
      "  7%|▋         | 12/173 [00:00<00:01, 111.63it/s]\n",
      " 14%|█▍        | 24/173 [00:00<00:01, 106.66it/s]\n",
      " 20%|██        | 35/173 [00:00<00:01, 106.72it/s]\n",
      " 27%|██▋       | 47/173 [00:00<00:01, 111.25it/s]\n",
      " 34%|███▍      | 59/173 [00:00<00:01, 113.49it/s]\n",
      " 41%|████      | 71/173 [00:00<00:00, 113.24it/s]\n",
      " 48%|████▊     | 83/173 [00:00<00:00, 113.82it/s]\n",
      " 55%|█████▍    | 95/173 [00:00<00:00, 114.74it/s]\n",
      " 62%|██████▏   | 107/173 [00:00<00:00, 114.45it/s]\n",
      " 69%|██████▉   | 119/173 [00:01<00:00, 112.09it/s]\n",
      " 76%|███████▌  | 131/173 [00:01<00:00, 111.22it/s]\n",
      " 83%|████████▎ | 143/173 [00:01<00:00, 109.95it/s]\n",
      " 90%|████████▉ | 155/173 [00:01<00:00, 109.82it/s]\n",
      " 97%|█████████▋| 167/173 [00:01<00:00, 111.80it/s]\n",
      "100%|██████████| 173/173 [00:01<00:00, 111.59it/s]\n",
      "  0%|          | 0/50 [00:00<?, ?it/s]\n",
      " 62%|██████▏   | 31/50 [00:00<00:00, 302.73it/s]\n",
      "100%|██████████| 50/50 [00:00<00:00, 302.70it/s]\n",
      "  0%|          | 0/173 [00:00<?, ?it/s]\n",
      "  6%|▌         | 10/173 [00:00<00:01, 99.87it/s]\n"
     ]
    },
    {
     "name": "stdout",
     "output_type": "stream",
     "text": [
      "\u001b[2m\u001b[36m(func pid=19104)\u001b[0m \n",
      "\u001b[2m\u001b[36m(func pid=19104)\u001b[0m Epoch 81\n"
     ]
    },
    {
     "name": "stderr",
     "output_type": "stream",
     "text": [
      " 12%|█▏        | 21/173 [00:00<00:01, 102.15it/s]\n",
      " 19%|█▉        | 33/173 [00:00<00:01, 104.17it/s]\n",
      " 25%|██▌       | 44/173 [00:00<00:01, 102.09it/s]\n",
      " 32%|███▏      | 55/173 [00:00<00:01, 102.70it/s]\n",
      " 39%|███▊      | 67/173 [00:00<00:01, 105.23it/s]\n",
      " 46%|████▌     | 80/173 [00:00<00:00, 110.12it/s]\n",
      " 53%|█████▎    | 92/173 [00:00<00:00, 110.73it/s]\n",
      " 60%|██████    | 104/173 [00:00<00:00, 109.66it/s]\n",
      " 67%|██████▋   | 116/173 [00:01<00:00, 111.43it/s]\n",
      " 74%|███████▍  | 128/173 [00:01<00:00, 112.59it/s]\n",
      " 81%|████████  | 140/173 [00:01<00:00, 113.78it/s]\n",
      " 88%|████████▊ | 152/173 [00:01<00:00, 112.83it/s]\n",
      " 12%|█▏        | 6/50 [00:00<00:00, 54.66it/s]\n",
      " 62%|██████▏   | 31/50 [00:00<00:00, 162.36it/s]\n",
      "100%|██████████| 50/50 [00:00<00:00, 179.94it/s]\n",
      "  0%|          | 0/173 [00:00<?, ?it/s]\n",
      "  7%|▋         | 12/173 [00:00<00:01, 112.25it/s]\n"
     ]
    },
    {
     "name": "stdout",
     "output_type": "stream",
     "text": [
      "\u001b[2m\u001b[36m(func pid=19104)\u001b[0m \n",
      "\u001b[2m\u001b[36m(func pid=19104)\u001b[0m Epoch 82\n"
     ]
    },
    {
     "name": "stderr",
     "output_type": "stream",
     "text": [
      " 14%|█▍        | 25/173 [00:00<00:01, 117.00it/s]\n",
      " 22%|██▏       | 38/173 [00:00<00:01, 119.06it/s]\n",
      " 29%|██▉       | 50/173 [00:00<00:01, 111.36it/s]\n",
      " 36%|███▌      | 62/173 [00:00<00:00, 111.64it/s]\n",
      " 43%|████▎     | 74/173 [00:00<00:00, 113.93it/s]\n",
      " 50%|████▉     | 86/173 [00:00<00:00, 115.51it/s]\n",
      " 57%|█████▋    | 99/173 [00:00<00:00, 117.47it/s]\n",
      " 65%|██████▍   | 112/173 [00:00<00:00, 119.05it/s]\n",
      " 72%|███████▏  | 125/173 [00:01<00:00, 119.84it/s]\n",
      " 79%|███████▉  | 137/173 [00:01<00:00, 119.43it/s]\n",
      " 86%|████████▌ | 149/173 [00:01<00:00, 118.63it/s]\n",
      " 94%|█████████▎| 162/173 [00:01<00:00, 119.30it/s]\n",
      "100%|██████████| 173/173 [00:01<00:00, 117.45it/s]\n",
      "  0%|          | 0/50 [00:00<?, ?it/s]\n",
      " 62%|██████▏   | 31/50 [00:00<00:00, 303.58it/s]\n",
      "100%|██████████| 50/50 [00:00<00:00, 310.15it/s]\n",
      "  0%|          | 0/173 [00:00<?, ?it/s]\n",
      "  8%|▊         | 13/173 [00:00<00:01, 121.64it/s]\n"
     ]
    },
    {
     "name": "stdout",
     "output_type": "stream",
     "text": [
      "\u001b[2m\u001b[36m(func pid=19104)\u001b[0m \n",
      "\u001b[2m\u001b[36m(func pid=19104)\u001b[0m Epoch 83\n"
     ]
    },
    {
     "name": "stderr",
     "output_type": "stream",
     "text": [
      " 15%|█▌        | 26/173 [00:00<00:01, 123.41it/s]\n",
      " 23%|██▎       | 39/173 [00:00<00:01, 123.74it/s]\n",
      " 30%|███       | 52/173 [00:00<00:00, 122.26it/s]\n",
      " 38%|███▊      | 65/173 [00:00<00:00, 122.13it/s]\n",
      " 45%|████▌     | 78/173 [00:00<00:00, 121.11it/s]\n",
      " 53%|█████▎    | 91/173 [00:00<00:00, 121.97it/s]\n",
      " 60%|██████    | 104/173 [00:00<00:00, 120.39it/s]\n",
      " 68%|██████▊   | 117/173 [00:00<00:00, 121.01it/s]\n",
      " 75%|███████▌  | 130/173 [00:01<00:00, 119.86it/s]\n",
      " 82%|████████▏ | 142/173 [00:01<00:00, 118.21it/s]\n",
      " 89%|████████▉ | 154/173 [00:01<00:00, 118.02it/s]\n",
      " 97%|█████████▋| 167/173 [00:01<00:00, 118.67it/s]\n",
      "100%|██████████| 173/173 [00:01<00:00, 120.06it/s]\n",
      "  0%|          | 0/50 [00:00<?, ?it/s]\n",
      " 58%|█████▊    | 29/50 [00:00<00:00, 284.47it/s]\n",
      "100%|██████████| 50/50 [00:00<00:00, 282.46it/s]\n",
      "  0%|          | 0/173 [00:00<?, ?it/s]\n",
      "  6%|▋         | 11/173 [00:00<00:01, 108.02it/s]\n"
     ]
    },
    {
     "name": "stdout",
     "output_type": "stream",
     "text": [
      "\u001b[2m\u001b[36m(func pid=19104)\u001b[0m \n",
      "\u001b[2m\u001b[36m(func pid=19104)\u001b[0m Epoch 84\n"
     ]
    },
    {
     "name": "stderr",
     "output_type": "stream",
     "text": [
      " 13%|█▎        | 23/173 [00:00<00:01, 114.80it/s]\n",
      " 20%|██        | 35/173 [00:00<00:01, 114.73it/s]\n",
      " 27%|██▋       | 47/173 [00:00<00:01, 114.42it/s]\n",
      " 34%|███▍      | 59/173 [00:00<00:00, 114.49it/s]\n",
      " 41%|████      | 71/173 [00:00<00:00, 115.89it/s]\n",
      " 48%|████▊     | 83/173 [00:00<00:00, 116.68it/s]\n",
      " 55%|█████▍    | 95/173 [00:00<00:00, 116.36it/s]\n",
      " 62%|██████▏   | 107/173 [00:00<00:00, 116.29it/s]\n",
      " 69%|██████▉   | 119/173 [00:01<00:00, 116.50it/s]\n",
      " 76%|███████▌  | 131/173 [00:01<00:00, 111.86it/s]\n",
      " 83%|████████▎ | 143/173 [00:01<00:00, 105.94it/s]\n",
      " 89%|████████▉ | 154/173 [00:01<00:00, 105.04it/s]\n",
      "100%|██████████| 173/173 [00:01<00:00, 111.11it/s]\n",
      "  0%|          | 0/50 [00:00<?, ?it/s]\n",
      " 50%|█████     | 25/50 [00:00<00:00, 246.02it/s]\n",
      "100%|██████████| 50/50 [00:00<00:00, 221.43it/s]\n",
      "  0%|          | 0/173 [00:00<?, ?it/s]\n",
      "  6%|▋         | 11/173 [00:00<00:01, 104.45it/s]\n"
     ]
    },
    {
     "name": "stdout",
     "output_type": "stream",
     "text": [
      "\u001b[2m\u001b[36m(func pid=19104)\u001b[0m \n",
      "\u001b[2m\u001b[36m(func pid=19104)\u001b[0m Epoch 85\n"
     ]
    },
    {
     "name": "stderr",
     "output_type": "stream",
     "text": [
      " 13%|█▎        | 22/173 [00:00<00:01, 102.14it/s]\n",
      " 19%|█▉        | 33/173 [00:00<00:01, 103.94it/s]\n",
      " 25%|██▌       | 44/173 [00:00<00:01, 106.08it/s]\n",
      " 32%|███▏      | 55/173 [00:00<00:01, 106.12it/s]\n",
      " 38%|███▊      | 66/173 [00:00<00:00, 107.03it/s]\n",
      " 45%|████▍     | 77/173 [00:00<00:00, 107.67it/s]\n",
      " 51%|█████     | 88/173 [00:00<00:00, 105.42it/s]\n",
      " 57%|█████▋    | 99/173 [00:00<00:00, 103.49it/s]\n",
      " 64%|██████▎   | 110/173 [00:01<00:00, 103.62it/s]\n",
      " 70%|██████▉   | 121/173 [00:01<00:00, 103.49it/s]\n",
      " 77%|███████▋  | 133/173 [00:01<00:00, 105.18it/s]\n",
      " 83%|████████▎ | 144/173 [00:01<00:00, 103.88it/s]\n",
      " 90%|████████▉ | 155/173 [00:01<00:00, 105.38it/s]\n",
      " 96%|█████████▌| 166/173 [00:01<00:00, 106.09it/s]\n",
      "100%|██████████| 173/173 [00:01<00:00, 104.97it/s]\n",
      "  0%|          | 0/50 [00:00<?, ?it/s]\n",
      " 54%|█████▍    | 27/50 [00:00<00:00, 264.02it/s]\n",
      "100%|██████████| 50/50 [00:00<00:00, 260.40it/s]\n"
     ]
    },
    {
     "name": "stdout",
     "output_type": "stream",
     "text": [
      "\u001b[2m\u001b[36m(func pid=19104)\u001b[0m Epoch 00085: reducing learning rate of group 0 to 2.2775e-05.\n",
      "\u001b[2m\u001b[36m(func pid=19104)\u001b[0m \n",
      "\u001b[2m\u001b[36m(func pid=19104)\u001b[0m Epoch 86\n"
     ]
    },
    {
     "name": "stderr",
     "output_type": "stream",
     "text": [
      "  0%|          | 0/173 [00:00<?, ?it/s]\n",
      "  6%|▌         | 10/173 [00:00<00:01, 97.80it/s]\n",
      " 12%|█▏        | 21/173 [00:00<00:01, 102.57it/s]\n",
      " 18%|█▊        | 32/173 [00:00<00:01, 98.43it/s] \n",
      " 24%|██▍       | 42/173 [00:00<00:01, 98.95it/s]\n",
      " 31%|███       | 53/173 [00:00<00:01, 99.07it/s]\n",
      " 36%|███▋      | 63/173 [00:00<00:01, 98.40it/s]\n",
      " 43%|████▎     | 74/173 [00:00<00:00, 100.16it/s]\n",
      " 49%|████▉     | 85/173 [00:00<00:00, 99.77it/s] \n",
      " 55%|█████▍    | 95/173 [00:00<00:00, 99.01it/s]\n",
      " 61%|██████▏   | 106/173 [00:01<00:00, 99.10it/s]\n",
      " 67%|██████▋   | 116/173 [00:01<00:00, 97.02it/s]\n",
      " 73%|███████▎  | 126/173 [00:01<00:00, 97.61it/s]\n",
      " 79%|███████▊  | 136/173 [00:01<00:00, 96.78it/s]\n",
      " 84%|████████▍ | 146/173 [00:01<00:00, 95.06it/s]\n",
      " 90%|█████████ | 156/173 [00:01<00:00, 92.82it/s]\n",
      " 96%|█████████▌| 166/173 [00:01<00:00, 73.39it/s]\n",
      "100%|██████████| 173/173 [00:01<00:00, 91.58it/s]\n",
      "  0%|          | 0/50 [00:00<?, ?it/s]\n",
      " 46%|████▌     | 23/50 [00:00<00:00, 222.40it/s]\n",
      "100%|██████████| 50/50 [00:00<00:00, 222.26it/s]\n",
      "  0%|          | 0/173 [00:00<?, ?it/s]\n",
      "  5%|▌         | 9/173 [00:00<00:01, 88.17it/s]\n"
     ]
    },
    {
     "name": "stdout",
     "output_type": "stream",
     "text": [
      "\u001b[2m\u001b[36m(func pid=19104)\u001b[0m \n",
      "\u001b[2m\u001b[36m(func pid=19104)\u001b[0m Epoch 87\n"
     ]
    },
    {
     "name": "stderr",
     "output_type": "stream",
     "text": [
      " 11%|█         | 19/173 [00:00<00:01, 93.34it/s]\n",
      " 17%|█▋        | 30/173 [00:00<00:01, 96.05it/s]\n",
      " 23%|██▎       | 40/173 [00:00<00:01, 95.72it/s]\n",
      " 29%|██▉       | 51/173 [00:00<00:01, 98.00it/s]\n",
      " 36%|███▌      | 62/173 [00:00<00:01, 98.77it/s]\n",
      " 42%|████▏     | 72/173 [00:00<00:01, 97.94it/s]\n",
      " 47%|████▋     | 82/173 [00:00<00:00, 98.27it/s]\n",
      " 53%|█████▎    | 92/173 [00:00<00:00, 98.61it/s]\n",
      " 60%|█████▉    | 103/173 [00:01<00:00, 99.65it/s]\n",
      " 66%|██████▌   | 114/173 [00:01<00:00, 101.38it/s]\n",
      " 72%|███████▏  | 125/173 [00:01<00:00, 100.59it/s]\n",
      " 79%|███████▊  | 136/173 [00:01<00:00, 100.87it/s]\n",
      " 85%|████████▍ | 147/173 [00:01<00:00, 101.03it/s]\n",
      " 91%|█████████▏| 158/173 [00:01<00:00, 99.65it/s] \n",
      "  0%|          | 0/50 [00:00<?, ?it/s]\n",
      " 48%|████▊     | 24/50 [00:00<00:00, 232.74it/s]\n",
      "100%|██████████| 50/50 [00:00<00:00, 244.49it/s]\n",
      "  0%|          | 0/173 [00:00<?, ?it/s]\n",
      "  6%|▌         | 10/173 [00:00<00:01, 98.01it/s]\n"
     ]
    },
    {
     "name": "stdout",
     "output_type": "stream",
     "text": [
      "\u001b[2m\u001b[36m(func pid=19104)\u001b[0m \n",
      "\u001b[2m\u001b[36m(func pid=19104)\u001b[0m Epoch 88\n"
     ]
    },
    {
     "name": "stderr",
     "output_type": "stream",
     "text": [
      " 12%|█▏        | 20/173 [00:00<00:01, 98.45it/s]\n",
      " 17%|█▋        | 30/173 [00:00<00:01, 98.33it/s]\n",
      " 23%|██▎       | 40/173 [00:00<00:01, 98.69it/s]\n",
      " 29%|██▉       | 51/173 [00:00<00:01, 100.23it/s]\n",
      " 36%|███▌      | 62/173 [00:00<00:01, 101.10it/s]\n",
      " 42%|████▏     | 73/173 [00:00<00:01, 93.85it/s] \n",
      " 49%|████▊     | 84/173 [00:00<00:00, 96.18it/s]\n",
      " 55%|█████▍    | 95/173 [00:00<00:00, 99.08it/s]\n",
      " 61%|██████▏   | 106/173 [00:01<00:00, 101.96it/s]\n",
      " 68%|██████▊   | 117/173 [00:01<00:00, 103.11it/s]\n",
      " 74%|███████▍  | 128/173 [00:01<00:00, 100.14it/s]\n",
      " 80%|████████  | 139/173 [00:01<00:00, 101.61it/s]\n",
      " 87%|████████▋ | 150/173 [00:01<00:00, 101.33it/s]\n",
      " 94%|█████████▎| 162/173 [00:01<00:00, 103.99it/s]\n",
      "100%|██████████| 173/173 [00:01<00:00, 100.89it/s]\n",
      "  0%|          | 0/50 [00:00<?, ?it/s]\n",
      " 56%|█████▌    | 28/50 [00:00<00:00, 271.08it/s]\n",
      "100%|██████████| 50/50 [00:00<00:00, 258.63it/s]\n",
      "  0%|          | 0/173 [00:00<?, ?it/s]\n",
      "  6%|▌         | 10/173 [00:00<00:01, 94.36it/s]\n"
     ]
    },
    {
     "name": "stdout",
     "output_type": "stream",
     "text": [
      "\u001b[2m\u001b[36m(func pid=19104)\u001b[0m \n",
      "\u001b[2m\u001b[36m(func pid=19104)\u001b[0m Epoch 89\n"
     ]
    },
    {
     "name": "stderr",
     "output_type": "stream",
     "text": [
      " 12%|█▏        | 21/173 [00:00<00:01, 100.56it/s]\n",
      " 18%|█▊        | 32/173 [00:00<00:01, 100.68it/s]\n",
      " 25%|██▍       | 43/173 [00:00<00:01, 100.45it/s]\n",
      " 31%|███       | 54/173 [00:00<00:01, 97.91it/s] \n",
      " 37%|███▋      | 64/173 [00:00<00:01, 94.75it/s]\n",
      " 43%|████▎     | 75/173 [00:00<00:01, 97.30it/s]\n",
      " 50%|████▉     | 86/173 [00:00<00:00, 100.21it/s]\n",
      " 56%|█████▌    | 97/173 [00:00<00:00, 101.08it/s]\n",
      " 62%|██████▏   | 108/173 [00:01<00:00, 102.49it/s]\n",
      " 69%|██████▉   | 119/173 [00:01<00:00, 102.10it/s]\n",
      " 75%|███████▌  | 130/173 [00:01<00:00, 102.73it/s]\n",
      " 82%|████████▏ | 141/173 [00:01<00:00, 102.19it/s]\n",
      " 88%|████████▊ | 152/173 [00:01<00:00, 100.25it/s]\n",
      " 94%|█████████▍| 163/173 [00:01<00:00, 94.81it/s] \n",
      "100%|██████████| 173/173 [00:01<00:00, 98.63it/s]\n",
      "  0%|          | 0/50 [00:00<?, ?it/s]\n",
      " 58%|█████▊    | 29/50 [00:00<00:00, 286.33it/s]\n",
      "100%|██████████| 50/50 [00:00<00:00, 289.02it/s]\n",
      "  0%|          | 0/173 [00:00<?, ?it/s]\n",
      "  7%|▋         | 12/173 [00:00<00:01, 116.50it/s]\n"
     ]
    },
    {
     "name": "stdout",
     "output_type": "stream",
     "text": [
      "\u001b[2m\u001b[36m(func pid=19104)\u001b[0m \n",
      "\u001b[2m\u001b[36m(func pid=19104)\u001b[0m Epoch 90\n"
     ]
    },
    {
     "name": "stderr",
     "output_type": "stream",
     "text": [
      " 14%|█▍        | 24/173 [00:00<00:01, 117.22it/s]\n",
      " 21%|██▏       | 37/173 [00:00<00:01, 119.09it/s]\n",
      " 28%|██▊       | 49/173 [00:00<00:01, 118.42it/s]\n",
      " 35%|███▌      | 61/173 [00:00<00:00, 118.78it/s]\n",
      " 42%|████▏     | 73/173 [00:00<00:00, 117.17it/s]\n",
      " 49%|████▉     | 85/173 [00:00<00:00, 117.66it/s]\n",
      " 56%|█████▌    | 97/173 [00:00<00:00, 117.91it/s]\n",
      " 63%|██████▎   | 109/173 [00:00<00:00, 116.55it/s]\n",
      " 70%|██████▉   | 121/173 [00:01<00:00, 116.89it/s]\n",
      " 77%|███████▋  | 133/173 [00:01<00:00, 117.65it/s]\n",
      " 84%|████████▍ | 145/173 [00:01<00:00, 115.57it/s]\n",
      " 91%|█████████▏| 158/173 [00:01<00:00, 116.71it/s]\n",
      "  0%|          | 0/50 [00:00<?, ?it/s]\n",
      " 46%|████▌     | 23/50 [00:00<00:00, 223.35it/s]\n",
      "100%|██████████| 50/50 [00:00<00:00, 241.57it/s]\n",
      "  0%|          | 0/173 [00:00<?, ?it/s]\n",
      "  7%|▋         | 12/173 [00:00<00:01, 112.23it/s]\n"
     ]
    },
    {
     "name": "stdout",
     "output_type": "stream",
     "text": [
      "\u001b[2m\u001b[36m(func pid=19104)\u001b[0m \n",
      "\u001b[2m\u001b[36m(func pid=19104)\u001b[0m Epoch 91\n"
     ]
    },
    {
     "name": "stderr",
     "output_type": "stream",
     "text": [
      " 14%|█▍        | 24/173 [00:00<00:01, 115.33it/s]\n",
      " 21%|██        | 36/173 [00:00<00:01, 113.94it/s]\n",
      " 28%|██▊       | 48/173 [00:00<00:01, 110.77it/s]\n",
      " 35%|███▍      | 60/173 [00:00<00:01, 108.20it/s]\n",
      " 42%|████▏     | 72/173 [00:00<00:00, 109.14it/s]\n",
      " 48%|████▊     | 83/173 [00:00<00:00, 102.85it/s]\n",
      " 55%|█████▍    | 95/173 [00:00<00:00, 107.83it/s]\n",
      " 62%|██████▏   | 107/173 [00:00<00:00, 111.16it/s]\n",
      " 69%|██████▉   | 119/173 [00:01<00:00, 111.02it/s]\n",
      " 76%|███████▋  | 132/173 [00:01<00:00, 114.05it/s]\n",
      " 83%|████████▎ | 144/173 [00:01<00:00, 90.29it/s] \n",
      " 90%|█████████ | 156/173 [00:01<00:00, 95.33it/s]\n",
      "100%|██████████| 173/173 [00:01<00:00, 104.72it/s]\n",
      "  0%|          | 0/50 [00:00<?, ?it/s]\n",
      " 52%|█████▏    | 26/50 [00:00<00:00, 249.42it/s]\n",
      "100%|██████████| 50/50 [00:00<00:00, 253.58it/s]\n",
      "  0%|          | 0/173 [00:00<?, ?it/s]\n"
     ]
    },
    {
     "name": "stdout",
     "output_type": "stream",
     "text": [
      "\u001b[2m\u001b[36m(func pid=19104)\u001b[0m Epoch 00091: reducing learning rate of group 0 to 1.1388e-05.\n",
      "\u001b[2m\u001b[36m(func pid=19104)\u001b[0m \n",
      "\u001b[2m\u001b[36m(func pid=19104)\u001b[0m Epoch 92\n"
     ]
    },
    {
     "name": "stderr",
     "output_type": "stream",
     "text": [
      "  6%|▋         | 11/173 [00:00<00:01, 105.82it/s]\n",
      " 13%|█▎        | 23/173 [00:00<00:01, 108.37it/s]\n",
      " 20%|██        | 35/173 [00:00<00:01, 113.00it/s]\n",
      " 27%|██▋       | 47/173 [00:00<00:01, 113.90it/s]\n",
      " 34%|███▍      | 59/173 [00:00<00:01, 110.89it/s]\n",
      " 41%|████      | 71/173 [00:00<00:00, 108.25it/s]\n",
      " 47%|████▋     | 82/173 [00:00<00:00, 106.56it/s]\n",
      " 54%|█████▍    | 93/173 [00:00<00:00, 107.23it/s]\n",
      " 61%|██████    | 105/173 [00:00<00:00, 110.80it/s]\n",
      " 68%|██████▊   | 117/173 [00:01<00:00, 111.56it/s]\n",
      " 75%|███████▍  | 129/173 [00:01<00:00, 113.00it/s]\n",
      " 82%|████████▏ | 141/173 [00:01<00:00, 114.40it/s]\n",
      " 88%|████████▊ | 153/173 [00:01<00:00, 114.59it/s]\n",
      "100%|██████████| 173/173 [00:01<00:00, 111.68it/s]\n",
      "  0%|          | 0/50 [00:00<?, ?it/s]\n",
      " 58%|█████▊    | 29/50 [00:00<00:00, 277.50it/s]\n",
      "100%|██████████| 50/50 [00:00<00:00, 277.05it/s]\n",
      "  0%|          | 0/173 [00:00<?, ?it/s]\n",
      "  7%|▋         | 12/173 [00:00<00:01, 113.02it/s]\n"
     ]
    },
    {
     "name": "stdout",
     "output_type": "stream",
     "text": [
      "\u001b[2m\u001b[36m(func pid=19104)\u001b[0m \n",
      "\u001b[2m\u001b[36m(func pid=19104)\u001b[0m Epoch 93\n"
     ]
    },
    {
     "name": "stderr",
     "output_type": "stream",
     "text": [
      " 14%|█▍        | 24/173 [00:00<00:01, 112.41it/s]\n",
      " 21%|██        | 36/173 [00:00<00:01, 114.79it/s]\n",
      " 28%|██▊       | 48/173 [00:00<00:01, 116.23it/s]\n",
      " 35%|███▍      | 60/173 [00:00<00:00, 114.75it/s]\n",
      " 42%|████▏     | 72/173 [00:00<00:00, 109.06it/s]\n",
      " 48%|████▊     | 83/173 [00:00<00:00, 108.50it/s]\n",
      " 54%|█████▍    | 94/173 [00:00<00:00, 106.83it/s]\n",
      " 61%|██████    | 105/173 [00:00<00:00, 104.66it/s]\n",
      " 67%|██████▋   | 116/173 [00:01<00:00, 106.10it/s]\n",
      " 74%|███████▍  | 128/173 [00:01<00:00, 107.75it/s]\n",
      " 80%|████████  | 139/173 [00:01<00:00, 108.12it/s]\n",
      " 87%|████████▋ | 150/173 [00:01<00:00, 104.05it/s]\n",
      " 52%|█████▏    | 26/50 [00:00<00:00, 259.83it/s]\n",
      "100%|██████████| 50/50 [00:00<00:00, 261.87it/s]\n",
      "  0%|          | 0/173 [00:00<?, ?it/s]\n",
      "  6%|▋         | 11/173 [00:00<00:01, 102.04it/s]\n"
     ]
    },
    {
     "name": "stdout",
     "output_type": "stream",
     "text": [
      "\u001b[2m\u001b[36m(func pid=19104)\u001b[0m \n",
      "\u001b[2m\u001b[36m(func pid=19104)\u001b[0m Epoch 94\n"
     ]
    },
    {
     "name": "stderr",
     "output_type": "stream",
     "text": [
      " 13%|█▎        | 22/173 [00:00<00:01, 105.98it/s]\n",
      " 20%|█▉        | 34/173 [00:00<00:01, 107.69it/s]\n",
      " 27%|██▋       | 46/173 [00:00<00:01, 109.43it/s]\n",
      " 34%|███▎      | 58/173 [00:00<00:01, 113.06it/s]\n",
      " 41%|████      | 71/173 [00:00<00:00, 115.26it/s]\n",
      " 48%|████▊     | 83/173 [00:00<00:00, 115.23it/s]\n",
      " 55%|█████▍    | 95/173 [00:00<00:00, 113.33it/s]\n",
      " 62%|██████▏   | 108/173 [00:00<00:00, 116.87it/s]\n",
      " 70%|██████▉   | 121/173 [00:01<00:00, 118.35it/s]\n",
      " 77%|███████▋  | 133/173 [00:01<00:00, 113.79it/s]\n",
      " 84%|████████▍ | 146/173 [00:01<00:00, 116.14it/s]\n",
      " 92%|█████████▏| 159/173 [00:01<00:00, 119.33it/s]\n",
      "100%|██████████| 173/173 [00:01<00:00, 114.81it/s]\n",
      "  0%|          | 0/50 [00:00<?, ?it/s]\n",
      "100%|██████████| 50/50 [00:00<00:00, 288.01it/s]\n",
      "  0%|          | 0/173 [00:00<?, ?it/s]\n",
      "  7%|▋         | 12/173 [00:00<00:01, 117.65it/s]\n"
     ]
    },
    {
     "name": "stdout",
     "output_type": "stream",
     "text": [
      "\u001b[2m\u001b[36m(func pid=19104)\u001b[0m \n",
      "\u001b[2m\u001b[36m(func pid=19104)\u001b[0m Epoch 95\n"
     ]
    },
    {
     "name": "stderr",
     "output_type": "stream",
     "text": [
      " 14%|█▍        | 25/173 [00:00<00:01, 120.92it/s]\n",
      " 22%|██▏       | 38/173 [00:00<00:01, 115.83it/s]\n",
      " 29%|██▉       | 50/173 [00:00<00:01, 114.89it/s]\n",
      " 36%|███▌      | 62/173 [00:00<00:00, 115.04it/s]\n",
      " 43%|████▎     | 74/173 [00:00<00:00, 114.94it/s]\n",
      " 50%|████▉     | 86/173 [00:00<00:00, 115.64it/s]\n",
      " 57%|█████▋    | 98/173 [00:00<00:00, 115.98it/s]\n",
      " 64%|██████▍   | 111/173 [00:00<00:00, 118.01it/s]\n",
      " 72%|███████▏  | 124/173 [00:01<00:00, 118.97it/s]\n",
      " 79%|███████▉  | 137/173 [00:01<00:00, 120.52it/s]\n",
      " 87%|████████▋ | 150/173 [00:01<00:00, 121.91it/s]\n",
      " 94%|█████████▍| 163/173 [00:01<00:00, 122.90it/s]\n",
      "100%|██████████| 173/173 [00:01<00:00, 118.97it/s]\n",
      "  0%|          | 0/50 [00:00<?, ?it/s]\n",
      "100%|██████████| 50/50 [00:00<00:00, 320.56it/s]\n",
      "  0%|          | 0/173 [00:00<?, ?it/s]\n",
      "  7%|▋         | 12/173 [00:00<00:01, 111.82it/s]\n"
     ]
    },
    {
     "name": "stdout",
     "output_type": "stream",
     "text": [
      "\u001b[2m\u001b[36m(func pid=19104)\u001b[0m \n",
      "\u001b[2m\u001b[36m(func pid=19104)\u001b[0m Epoch 96\n"
     ]
    },
    {
     "name": "stderr",
     "output_type": "stream",
     "text": [
      " 14%|█▍        | 25/173 [00:00<00:01, 116.83it/s]\n",
      " 22%|██▏       | 38/173 [00:00<00:01, 120.56it/s]\n",
      " 29%|██▉       | 51/173 [00:00<00:01, 121.40it/s]\n",
      " 37%|███▋      | 64/173 [00:00<00:00, 113.78it/s]\n",
      " 44%|████▍     | 76/173 [00:00<00:00, 109.03it/s]\n",
      " 51%|█████     | 88/173 [00:00<00:00, 110.86it/s]\n",
      " 58%|█████▊    | 100/173 [00:00<00:00, 109.64it/s]\n",
      " 65%|██████▍   | 112/173 [00:00<00:00, 112.32it/s]\n",
      " 72%|███████▏  | 124/173 [00:01<00:00, 113.93it/s]\n",
      " 79%|███████▊  | 136/173 [00:01<00:00, 90.70it/s] \n",
      " 86%|████████▌ | 149/173 [00:01<00:00, 98.21it/s]\n",
      " 93%|█████████▎| 161/173 [00:01<00:00, 103.28it/s]\n",
      "100%|██████████| 173/173 [00:01<00:00, 108.06it/s]\n",
      "  0%|          | 0/50 [00:00<?, ?it/s]\n",
      " 56%|█████▌    | 28/50 [00:00<00:00, 275.12it/s]\n",
      "100%|██████████| 50/50 [00:00<00:00, 284.05it/s]\n",
      "  0%|          | 0/173 [00:00<?, ?it/s]\n",
      "  7%|▋         | 12/173 [00:00<00:01, 114.16it/s]\n"
     ]
    },
    {
     "name": "stdout",
     "output_type": "stream",
     "text": [
      "\u001b[2m\u001b[36m(func pid=19104)\u001b[0m \n",
      "\u001b[2m\u001b[36m(func pid=19104)\u001b[0m Epoch 97\n"
     ]
    },
    {
     "name": "stderr",
     "output_type": "stream",
     "text": [
      " 14%|█▍        | 24/173 [00:00<00:01, 116.96it/s]\n",
      " 21%|██        | 36/173 [00:00<00:01, 116.27it/s]\n",
      " 28%|██▊       | 48/173 [00:00<00:01, 115.45it/s]\n",
      " 35%|███▍      | 60/173 [00:00<00:00, 113.06it/s]\n",
      " 42%|████▏     | 72/173 [00:00<00:00, 111.97it/s]\n",
      " 49%|████▉     | 85/173 [00:00<00:00, 115.53it/s]\n",
      " 57%|█████▋    | 98/173 [00:00<00:00, 117.14it/s]\n",
      " 64%|██████▍   | 111/173 [00:00<00:00, 118.99it/s]\n",
      " 72%|███████▏  | 124/173 [00:01<00:00, 120.53it/s]\n",
      " 79%|███████▉  | 137/173 [00:01<00:00, 121.95it/s]\n",
      " 87%|████████▋ | 150/173 [00:01<00:00, 123.55it/s]\n",
      "100%|██████████| 173/173 [00:01<00:00, 119.16it/s]\n",
      "  0%|          | 0/50 [00:00<?, ?it/s]\n",
      " 62%|██████▏   | 31/50 [00:00<00:00, 307.49it/s]\n",
      "100%|██████████| 50/50 [00:00<00:00, 315.16it/s]\n",
      "  0%|          | 0/173 [00:00<?, ?it/s]\n",
      "  7%|▋         | 12/173 [00:00<00:01, 115.95it/s]\n"
     ]
    },
    {
     "name": "stdout",
     "output_type": "stream",
     "text": [
      "\u001b[2m\u001b[36m(func pid=19104)\u001b[0m Epoch 00097: reducing learning rate of group 0 to 5.6938e-06.\n",
      "\u001b[2m\u001b[36m(func pid=19104)\u001b[0m \n",
      "\u001b[2m\u001b[36m(func pid=19104)\u001b[0m Epoch 98\n"
     ]
    },
    {
     "name": "stderr",
     "output_type": "stream",
     "text": [
      " 14%|█▍        | 24/173 [00:00<00:01, 117.97it/s]\n",
      " 21%|██▏       | 37/173 [00:00<00:01, 121.11it/s]\n",
      " 29%|██▉       | 50/173 [00:00<00:01, 119.52it/s]\n",
      " 36%|███▋      | 63/173 [00:00<00:00, 120.62it/s]\n",
      " 44%|████▍     | 76/173 [00:00<00:00, 111.15it/s]\n",
      " 51%|█████     | 88/173 [00:00<00:00, 107.55it/s]\n",
      " 57%|█████▋    | 99/173 [00:00<00:00, 105.55it/s]\n",
      " 64%|██████▍   | 111/173 [00:00<00:00, 108.46it/s]\n",
      " 71%|███████   | 122/173 [00:01<00:00, 107.66it/s]\n",
      " 77%|███████▋  | 133/173 [00:01<00:00, 108.01it/s]\n",
      " 84%|████████▍ | 145/173 [00:01<00:00, 109.34it/s]\n",
      " 91%|█████████ | 157/173 [00:01<00:00, 112.36it/s]\n",
      "100%|██████████| 173/173 [00:01<00:00, 112.78it/s]\n",
      "  0%|          | 0/50 [00:00<?, ?it/s]\n",
      "100%|██████████| 50/50 [00:00<00:00, 312.54it/s]\n",
      "  0%|          | 0/173 [00:00<?, ?it/s]\n",
      "  6%|▋         | 11/173 [00:00<00:01, 109.81it/s]\n"
     ]
    },
    {
     "name": "stdout",
     "output_type": "stream",
     "text": [
      "\u001b[2m\u001b[36m(func pid=19104)\u001b[0m \n",
      "\u001b[2m\u001b[36m(func pid=19104)\u001b[0m Epoch 99\n"
     ]
    },
    {
     "name": "stderr",
     "output_type": "stream",
     "text": [
      " 14%|█▍        | 24/173 [00:00<00:01, 118.44it/s]\n",
      " 21%|██        | 36/173 [00:00<00:01, 118.00it/s]\n",
      " 28%|██▊       | 48/173 [00:00<00:01, 115.17it/s]\n",
      " 35%|███▌      | 61/173 [00:00<00:00, 117.54it/s]\n",
      " 43%|████▎     | 74/173 [00:00<00:00, 120.50it/s]\n",
      " 50%|█████     | 87/173 [00:00<00:00, 121.82it/s]\n",
      " 58%|█████▊    | 100/173 [00:00<00:00, 121.35it/s]\n",
      " 65%|██████▌   | 113/173 [00:00<00:00, 122.62it/s]\n",
      " 80%|████████  | 139/173 [00:01<00:00, 121.43it/s]\n",
      " 88%|████████▊ | 152/173 [00:01<00:00, 122.10it/s]\n",
      " 95%|█████████▌| 165/173 [00:01<00:00, 122.41it/s]\n",
      "100%|██████████| 173/173 [00:01<00:00, 120.46it/s]\n",
      "  0%|          | 0/50 [00:00<?, ?it/s]\n",
      " 62%|██████▏   | 31/50 [00:00<00:00, 303.20it/s]\n",
      "100%|██████████| 50/50 [00:00<00:00, 305.41it/s]\n",
      "  0%|          | 0/173 [00:00<?, ?it/s]\n",
      "  7%|▋         | 12/173 [00:00<00:01, 115.36it/s]\n",
      " 14%|█▍        | 25/173 [00:00<00:01, 120.35it/s]\n"
     ]
    },
    {
     "name": "stdout",
     "output_type": "stream",
     "text": [
      "\u001b[2m\u001b[36m(func pid=19104)\u001b[0m \n",
      "\u001b[2m\u001b[36m(func pid=19104)\u001b[0m Epoch 100\n"
     ]
    },
    {
     "name": "stderr",
     "output_type": "stream",
     "text": [
      " 22%|██▏       | 38/173 [00:00<00:01, 120.15it/s]\n",
      " 29%|██▉       | 51/173 [00:00<00:01, 121.36it/s]\n",
      " 37%|███▋      | 64/173 [00:00<00:00, 119.56it/s]\n",
      " 45%|████▍     | 77/173 [00:00<00:00, 120.59it/s]\n",
      " 52%|█████▏    | 90/173 [00:00<00:00, 120.25it/s]\n",
      " 60%|█████▉    | 103/173 [00:00<00:00, 120.77it/s]\n",
      " 67%|██████▋   | 116/173 [00:00<00:00, 119.57it/s]\n",
      " 74%|███████▍  | 128/173 [00:01<00:00, 119.69it/s]\n",
      " 81%|████████  | 140/173 [00:01<00:00, 118.03it/s]\n",
      " 88%|████████▊ | 152/173 [00:01<00:00, 117.52it/s]\n",
      " 95%|█████████▍| 164/173 [00:01<00:00, 116.27it/s]\n",
      "100%|██████████| 173/173 [00:01<00:00, 118.25it/s]\n",
      "  0%|          | 0/50 [00:00<?, ?it/s]\n",
      " 58%|█████▊    | 29/50 [00:00<00:00, 289.89it/s]\n",
      "100%|██████████| 50/50 [00:00<00:00, 293.93it/s]\n",
      "  0%|          | 0/173 [00:00<?, ?it/s]\n",
      "  6%|▋         | 11/173 [00:00<00:01, 109.94it/s]\n",
      " 13%|█▎        | 23/173 [00:00<00:01, 112.93it/s]\n"
     ]
    },
    {
     "name": "stdout",
     "output_type": "stream",
     "text": [
      "\u001b[2m\u001b[36m(func pid=19104)\u001b[0m \n",
      "\u001b[2m\u001b[36m(func pid=19104)\u001b[0m Epoch 101\n"
     ]
    },
    {
     "name": "stderr",
     "output_type": "stream",
     "text": [
      " 21%|██        | 36/173 [00:00<00:01, 115.96it/s]\n",
      " 28%|██▊       | 48/173 [00:00<00:01, 117.04it/s]\n",
      " 35%|███▌      | 61/173 [00:00<00:00, 118.83it/s]\n",
      " 42%|████▏     | 73/173 [00:00<00:00, 116.20it/s]\n",
      " 49%|████▉     | 85/173 [00:00<00:00, 116.96it/s]\n",
      " 57%|█████▋    | 98/173 [00:00<00:00, 118.10it/s]\n",
      " 64%|██████▎   | 110/173 [00:01<00:00, 95.38it/s]\n",
      " 71%|███████   | 122/173 [00:01<00:00, 100.43it/s]\n",
      " 77%|███████▋  | 134/173 [00:01<00:00, 105.30it/s]\n",
      " 84%|████████▍ | 146/173 [00:01<00:00, 107.03it/s]\n",
      " 91%|█████████▏| 158/173 [00:01<00:00, 108.49it/s]\n",
      "100%|██████████| 173/173 [00:01<00:00, 110.17it/s]\n",
      "  0%|          | 0/50 [00:00<?, ?it/s]\n",
      "100%|██████████| 50/50 [00:00<00:00, 300.67it/s]\n",
      "  0%|          | 0/173 [00:00<?, ?it/s]\n",
      "  8%|▊         | 13/173 [00:00<00:01, 123.17it/s]\n"
     ]
    },
    {
     "name": "stdout",
     "output_type": "stream",
     "text": [
      "\u001b[2m\u001b[36m(func pid=19104)\u001b[0m \n",
      "\u001b[2m\u001b[36m(func pid=19104)\u001b[0m Epoch 102\n"
     ]
    },
    {
     "name": "stderr",
     "output_type": "stream",
     "text": [
      " 15%|█▌        | 26/173 [00:00<00:01, 121.50it/s]\n",
      " 23%|██▎       | 39/173 [00:00<00:01, 114.93it/s]\n",
      " 29%|██▉       | 51/173 [00:00<00:01, 113.22it/s]\n",
      " 36%|███▋      | 63/173 [00:00<00:00, 113.58it/s]\n",
      " 44%|████▍     | 76/173 [00:00<00:00, 115.83it/s]\n",
      " 51%|█████     | 88/173 [00:00<00:00, 117.11it/s]\n",
      " 58%|█████▊    | 100/173 [00:00<00:00, 117.90it/s]\n",
      " 65%|██████▌   | 113/173 [00:00<00:00, 118.80it/s]\n",
      " 73%|███████▎  | 126/173 [00:01<00:00, 119.64it/s]\n",
      " 87%|████████▋ | 150/173 [00:01<00:00, 115.29it/s]\n",
      " 94%|█████████▍| 163/173 [00:01<00:00, 117.70it/s]\n",
      "  0%|          | 0/50 [00:00<?, ?it/s]\n",
      "100%|██████████| 50/50 [00:00<00:00, 296.08it/s]\n",
      "  0%|          | 0/173 [00:00<?, ?it/s]\n",
      "  7%|▋         | 12/173 [00:00<00:01, 116.20it/s]\n"
     ]
    },
    {
     "name": "stdout",
     "output_type": "stream",
     "text": [
      "\u001b[2m\u001b[36m(func pid=19104)\u001b[0m \n",
      "\u001b[2m\u001b[36m(func pid=19104)\u001b[0m Epoch 103\n"
     ]
    },
    {
     "name": "stderr",
     "output_type": "stream",
     "text": [
      " 14%|█▍        | 24/173 [00:00<00:01, 109.94it/s]\n",
      " 21%|██▏       | 37/173 [00:00<00:01, 114.82it/s]\n",
      " 29%|██▉       | 50/173 [00:00<00:01, 116.63it/s]\n",
      " 36%|███▌      | 62/173 [00:00<00:00, 117.20it/s]\n",
      " 43%|████▎     | 74/173 [00:00<00:00, 116.07it/s]\n",
      " 50%|████▉     | 86/173 [00:00<00:00, 114.66it/s]\n",
      " 57%|█████▋    | 98/173 [00:00<00:00, 114.99it/s]\n",
      " 64%|██████▎   | 110/173 [00:00<00:00, 113.92it/s]\n",
      " 71%|███████   | 122/173 [00:01<00:00, 115.22it/s]\n",
      " 77%|███████▋  | 134/173 [00:01<00:00, 113.74it/s]\n",
      " 84%|████████▍ | 146/173 [00:01<00:00, 111.99it/s]\n",
      " 91%|█████████▏| 158/173 [00:01<00:00, 111.81it/s]\n",
      "100%|██████████| 173/173 [00:01<00:00, 113.89it/s]\n",
      "  0%|          | 0/50 [00:00<?, ?it/s]\n",
      " 54%|█████▍    | 27/50 [00:00<00:00, 265.28it/s]\n",
      "100%|██████████| 50/50 [00:00<00:00, 270.66it/s]\n",
      "  0%|          | 0/173 [00:00<?, ?it/s]\n",
      "  7%|▋         | 12/173 [00:00<00:01, 115.97it/s]\n"
     ]
    },
    {
     "name": "stdout",
     "output_type": "stream",
     "text": [
      "\u001b[2m\u001b[36m(func pid=19104)\u001b[0m Epoch 00103: reducing learning rate of group 0 to 2.8469e-06.\n",
      "\u001b[2m\u001b[36m(func pid=19104)\u001b[0m \n",
      "\u001b[2m\u001b[36m(func pid=19104)\u001b[0m Epoch 104\n"
     ]
    },
    {
     "name": "stderr",
     "output_type": "stream",
     "text": [
      " 14%|█▍        | 24/173 [00:00<00:01, 114.59it/s]\n",
      " 21%|██        | 36/173 [00:00<00:01, 116.33it/s]\n",
      " 28%|██▊       | 48/173 [00:00<00:01, 115.34it/s]\n",
      " 35%|███▍      | 60/173 [00:00<00:00, 116.63it/s]\n",
      " 42%|████▏     | 72/173 [00:00<00:00, 117.19it/s]\n",
      " 49%|████▉     | 85/173 [00:00<00:00, 118.87it/s]\n",
      " 56%|█████▌    | 97/173 [00:00<00:00, 118.43it/s]\n",
      " 64%|██████▎   | 110/173 [00:00<00:00, 119.34it/s]\n",
      " 71%|███████   | 123/173 [00:01<00:00, 119.35it/s]\n",
      " 78%|███████▊  | 135/173 [00:01<00:00, 112.24it/s]\n",
      " 85%|████████▍ | 147/173 [00:01<00:00, 112.91it/s]\n",
      " 92%|█████████▏| 159/173 [00:01<00:00, 113.87it/s]\n",
      "100%|██████████| 173/173 [00:01<00:00, 115.97it/s]\n",
      "  0%|          | 0/50 [00:00<?, ?it/s]\n",
      " 66%|██████▌   | 33/50 [00:00<00:00, 327.67it/s]\n",
      "100%|██████████| 50/50 [00:00<00:00, 317.00it/s]\n",
      "  0%|          | 0/173 [00:00<?, ?it/s]\n",
      "  7%|▋         | 12/173 [00:00<00:01, 117.02it/s]\n"
     ]
    },
    {
     "name": "stdout",
     "output_type": "stream",
     "text": [
      "\u001b[2m\u001b[36m(func pid=19104)\u001b[0m \n",
      "\u001b[2m\u001b[36m(func pid=19104)\u001b[0m Epoch 105\n"
     ]
    },
    {
     "name": "stderr",
     "output_type": "stream",
     "text": [
      " 14%|█▍        | 24/173 [00:00<00:01, 117.95it/s]\n",
      " 21%|██        | 36/173 [00:00<00:01, 116.63it/s]\n",
      " 28%|██▊       | 48/173 [00:00<00:01, 115.73it/s]\n",
      " 35%|███▍      | 60/173 [00:00<00:00, 116.54it/s]\n",
      " 42%|████▏     | 72/173 [00:00<00:00, 117.31it/s]\n",
      " 49%|████▉     | 85/173 [00:00<00:00, 120.66it/s]\n",
      " 57%|█████▋    | 98/173 [00:00<00:00, 121.23it/s]\n",
      " 64%|██████▍   | 111/173 [00:00<00:00, 120.76it/s]\n",
      " 72%|███████▏  | 124/173 [00:01<00:00, 117.22it/s]\n",
      " 79%|███████▊  | 136/173 [00:01<00:00, 118.02it/s]\n",
      " 86%|████████▌ | 148/173 [00:01<00:00, 116.54it/s]\n",
      " 92%|█████████▏| 160/173 [00:01<00:00, 114.55it/s]\n",
      "  0%|          | 0/50 [00:00<?, ?it/s]\n",
      "100%|██████████| 50/50 [00:00<00:00, 292.08it/s]\n",
      "  0%|          | 0/173 [00:00<?, ?it/s]\n",
      "  7%|▋         | 12/173 [00:00<00:01, 118.96it/s]\n"
     ]
    },
    {
     "name": "stdout",
     "output_type": "stream",
     "text": [
      "\u001b[2m\u001b[36m(func pid=19104)\u001b[0m \n",
      "\u001b[2m\u001b[36m(func pid=19104)\u001b[0m Epoch 106\n"
     ]
    },
    {
     "name": "stderr",
     "output_type": "stream",
     "text": [
      " 14%|█▍        | 24/173 [00:00<00:01, 118.83it/s]\n",
      " 21%|██        | 36/173 [00:00<00:01, 119.36it/s]\n",
      " 28%|██▊       | 48/173 [00:00<00:01, 118.51it/s]\n",
      " 35%|███▍      | 60/173 [00:00<00:00, 117.48it/s]\n",
      " 42%|████▏     | 72/173 [00:00<00:00, 118.14it/s]\n",
      " 49%|████▉     | 85/173 [00:00<00:00, 118.78it/s]\n",
      " 56%|█████▌    | 97/173 [00:00<00:00, 96.36it/s] \n",
      " 64%|██████▎   | 110/173 [00:01<00:00, 103.11it/s]\n",
      " 71%|███████   | 122/173 [00:01<00:00, 107.09it/s]\n",
      " 78%|███████▊  | 135/173 [00:01<00:00, 109.66it/s]\n",
      " 85%|████████▍ | 147/173 [00:01<00:00, 105.20it/s]\n",
      " 91%|█████████▏| 158/173 [00:01<00:00, 105.48it/s]\n",
      "100%|██████████| 173/173 [00:01<00:00, 108.67it/s]\n",
      "  0%|          | 0/50 [00:00<?, ?it/s]\n",
      " 56%|█████▌    | 28/50 [00:00<00:00, 273.56it/s]\n",
      "100%|██████████| 50/50 [00:00<00:00, 279.76it/s]\n",
      "  0%|          | 0/173 [00:00<?, ?it/s]\n"
     ]
    },
    {
     "name": "stdout",
     "output_type": "stream",
     "text": [
      "\u001b[2m\u001b[36m(func pid=19104)\u001b[0m \n",
      "\u001b[2m\u001b[36m(func pid=19104)\u001b[0m Epoch 107\n"
     ]
    },
    {
     "name": "stderr",
     "output_type": "stream",
     "text": [
      "  7%|▋         | 12/173 [00:00<00:01, 113.34it/s]\n",
      " 14%|█▍        | 24/173 [00:00<00:01, 117.14it/s]\n",
      " 21%|██▏       | 37/173 [00:00<00:01, 119.65it/s]\n",
      " 28%|██▊       | 49/173 [00:00<00:01, 118.67it/s]\n",
      " 35%|███▌      | 61/173 [00:00<00:00, 116.73it/s]\n",
      " 43%|████▎     | 74/173 [00:00<00:00, 118.03it/s]\n",
      " 50%|████▉     | 86/173 [00:00<00:00, 118.34it/s]\n",
      " 57%|█████▋    | 98/173 [00:00<00:00, 118.50it/s]\n",
      " 64%|██████▍   | 111/173 [00:00<00:00, 119.09it/s]\n",
      " 72%|███████▏  | 124/173 [00:01<00:00, 119.16it/s]\n",
      " 79%|███████▉  | 137/173 [00:01<00:00, 119.51it/s]\n",
      " 86%|████████▌ | 149/173 [00:01<00:00, 119.52it/s]\n",
      " 94%|█████████▎| 162/173 [00:01<00:00, 119.97it/s]\n",
      "100%|██████████| 173/173 [00:01<00:00, 118.73it/s]\n",
      "  0%|          | 0/50 [00:00<?, ?it/s]\n",
      " 58%|█████▊    | 29/50 [00:00<00:00, 284.06it/s]\n",
      "100%|██████████| 50/50 [00:00<00:00, 288.95it/s]\n",
      "  0%|          | 0/173 [00:00<?, ?it/s]\n"
     ]
    },
    {
     "name": "stdout",
     "output_type": "stream",
     "text": [
      "\u001b[2m\u001b[36m(func pid=19104)\u001b[0m \n",
      "\u001b[2m\u001b[36m(func pid=19104)\u001b[0m Epoch 108\n"
     ]
    },
    {
     "name": "stderr",
     "output_type": "stream",
     "text": [
      "  6%|▋         | 11/173 [00:00<00:01, 106.59it/s]\n",
      " 13%|█▎        | 22/173 [00:00<00:01, 97.12it/s] \n",
      " 20%|█▉        | 34/173 [00:00<00:01, 103.62it/s]\n",
      " 26%|██▌       | 45/173 [00:00<00:01, 105.45it/s]\n",
      " 33%|███▎      | 57/173 [00:00<00:01, 108.56it/s]\n",
      " 39%|███▉      | 68/173 [00:00<00:00, 108.39it/s]\n",
      " 46%|████▌     | 79/173 [00:00<00:00, 108.89it/s]\n",
      " 53%|█████▎    | 91/173 [00:00<00:00, 109.29it/s]\n",
      " 60%|█████▉    | 103/173 [00:00<00:00, 109.89it/s]\n",
      " 66%|██████▋   | 115/173 [00:01<00:00, 112.54it/s]\n",
      " 73%|███████▎  | 127/173 [00:01<00:00, 112.22it/s]\n",
      " 80%|████████  | 139/173 [00:01<00:00, 112.73it/s]\n",
      "100%|██████████| 173/173 [00:01<00:00, 111.22it/s]\n",
      "  0%|          | 0/50 [00:00<?, ?it/s]\n",
      " 60%|██████    | 30/50 [00:00<00:00, 295.56it/s]\n",
      "100%|██████████| 50/50 [00:00<00:00, 302.41it/s]\n",
      "  0%|          | 0/173 [00:00<?, ?it/s]\n",
      "  7%|▋         | 12/173 [00:00<00:01, 114.32it/s]\n"
     ]
    },
    {
     "name": "stdout",
     "output_type": "stream",
     "text": [
      "\u001b[2m\u001b[36m(func pid=19104)\u001b[0m \n",
      "\u001b[2m\u001b[36m(func pid=19104)\u001b[0m Epoch 109\n"
     ]
    },
    {
     "name": "stderr",
     "output_type": "stream",
     "text": [
      " 14%|█▍        | 25/173 [00:00<00:01, 118.90it/s]\n",
      " 21%|██▏       | 37/173 [00:00<00:01, 117.41it/s]\n",
      " 29%|██▉       | 50/173 [00:00<00:01, 119.44it/s]\n",
      " 36%|███▌      | 62/173 [00:00<00:00, 115.75it/s]\n",
      " 43%|████▎     | 75/173 [00:00<00:00, 117.41it/s]\n",
      " 51%|█████     | 88/173 [00:00<00:00, 118.69it/s]\n",
      " 58%|█████▊    | 100/173 [00:00<00:00, 118.02it/s]\n",
      " 65%|██████▌   | 113/173 [00:00<00:00, 119.01it/s]\n",
      " 73%|███████▎  | 126/173 [00:01<00:00, 119.53it/s]\n",
      " 80%|███████▉  | 138/173 [00:01<00:00, 119.55it/s]\n",
      " 87%|████████▋ | 151/173 [00:01<00:00, 119.89it/s]\n",
      " 95%|█████████▍| 164/173 [00:01<00:00, 119.73it/s]\n",
      "100%|██████████| 173/173 [00:01<00:00, 118.72it/s]\n",
      "  0%|          | 0/50 [00:00<?, ?it/s]\n",
      " 64%|██████▍   | 32/50 [00:00<00:00, 308.39it/s]\n",
      "100%|██████████| 50/50 [00:00<00:00, 307.33it/s]\n",
      "  0%|          | 0/173 [00:00<?, ?it/s]\n",
      "  7%|▋         | 12/173 [00:00<00:01, 116.30it/s]\n"
     ]
    },
    {
     "name": "stdout",
     "output_type": "stream",
     "text": [
      "\u001b[2m\u001b[36m(func pid=19104)\u001b[0m Epoch 00109: reducing learning rate of group 0 to 1.4234e-06.\n",
      "\u001b[2m\u001b[36m(func pid=19104)\u001b[0m \n",
      "\u001b[2m\u001b[36m(func pid=19104)\u001b[0m Epoch 110\n"
     ]
    },
    {
     "name": "stderr",
     "output_type": "stream",
     "text": [
      " 14%|█▍        | 25/173 [00:00<00:01, 120.05it/s]\n",
      " 22%|██▏       | 38/173 [00:00<00:01, 120.64it/s]\n",
      " 29%|██▉       | 51/173 [00:00<00:01, 120.57it/s]\n",
      " 37%|███▋      | 64/173 [00:00<00:00, 120.96it/s]\n",
      " 45%|████▍     | 77/173 [00:00<00:00, 121.47it/s]\n",
      " 52%|█████▏    | 90/173 [00:00<00:00, 120.01it/s]\n",
      " 60%|█████▉    | 103/173 [00:00<00:00, 119.75it/s]\n",
      " 67%|██████▋   | 116/173 [00:00<00:00, 119.97it/s]\n",
      " 75%|███████▍  | 129/173 [00:01<00:00, 120.40it/s]\n",
      " 82%|████████▏ | 142/173 [00:01<00:00, 120.14it/s]\n",
      " 90%|████████▉ | 155/173 [00:01<00:00, 119.51it/s]\n",
      "100%|██████████| 173/173 [00:01<00:00, 120.04it/s]\n",
      "  0%|          | 0/50 [00:00<?, ?it/s]\n",
      " 62%|██████▏   | 31/50 [00:00<00:00, 298.33it/s]\n",
      "100%|██████████| 50/50 [00:00<00:00, 302.05it/s]\n",
      "  0%|          | 0/173 [00:00<?, ?it/s]\n",
      "  6%|▌         | 10/173 [00:00<00:01, 92.81it/s]\n"
     ]
    },
    {
     "name": "stdout",
     "output_type": "stream",
     "text": [
      "\u001b[2m\u001b[36m(func pid=19104)\u001b[0m \n",
      "\u001b[2m\u001b[36m(func pid=19104)\u001b[0m Epoch 111\n"
     ]
    },
    {
     "name": "stderr",
     "output_type": "stream",
     "text": [
      " 13%|█▎        | 22/173 [00:00<00:01, 108.23it/s]\n",
      " 20%|█▉        | 34/173 [00:00<00:01, 111.57it/s]\n",
      " 27%|██▋       | 46/173 [00:00<00:01, 114.77it/s]\n",
      " 34%|███▎      | 58/173 [00:00<00:00, 116.56it/s]\n",
      " 40%|████      | 70/173 [00:00<00:00, 115.84it/s]\n",
      " 47%|████▋     | 82/173 [00:00<00:00, 92.24it/s] \n",
      " 54%|█████▍    | 93/173 [00:00<00:00, 96.78it/s]\n",
      " 61%|██████    | 105/173 [00:01<00:00, 103.14it/s]\n",
      " 68%|██████▊   | 118/173 [00:01<00:00, 108.52it/s]\n",
      " 75%|███████▌  | 130/173 [00:01<00:00, 111.57it/s]\n",
      " 82%|████████▏ | 142/173 [00:01<00:00, 111.96it/s]\n",
      " 90%|████████▉ | 155/173 [00:01<00:00, 116.18it/s]\n",
      "  0%|          | 0/50 [00:00<?, ?it/s]\n",
      "100%|██████████| 50/50 [00:00<00:00, 297.38it/s]\n",
      "  0%|          | 0/173 [00:00<?, ?it/s]\n",
      "  7%|▋         | 12/173 [00:00<00:01, 112.64it/s]\n"
     ]
    },
    {
     "name": "stdout",
     "output_type": "stream",
     "text": [
      "\u001b[2m\u001b[36m(func pid=19104)\u001b[0m \n",
      "\u001b[2m\u001b[36m(func pid=19104)\u001b[0m Epoch 112\n"
     ]
    },
    {
     "name": "stderr",
     "output_type": "stream",
     "text": [
      " 14%|█▍        | 25/173 [00:00<00:01, 117.47it/s]\n",
      " 21%|██▏       | 37/173 [00:00<00:01, 115.63it/s]\n",
      " 28%|██▊       | 49/173 [00:00<00:01, 113.76it/s]\n",
      " 35%|███▌      | 61/173 [00:00<00:00, 114.02it/s]\n",
      " 43%|████▎     | 74/173 [00:00<00:00, 115.74it/s]\n",
      " 50%|█████     | 87/173 [00:00<00:00, 117.42it/s]\n",
      " 58%|█████▊    | 100/173 [00:00<00:00, 119.02it/s]\n",
      " 72%|███████▏  | 125/173 [00:01<00:00, 119.07it/s]\n",
      " 79%|███████▉  | 137/173 [00:01<00:00, 119.27it/s]\n",
      " 86%|████████▌ | 149/173 [00:01<00:00, 117.42it/s]\n",
      " 93%|█████████▎| 161/173 [00:01<00:00, 117.48it/s]\n",
      "100%|██████████| 173/173 [00:01<00:00, 117.38it/s]\n",
      "  0%|          | 0/50 [00:00<?, ?it/s]\n",
      "100%|██████████| 50/50 [00:00<00:00, 293.05it/s]\n",
      "  0%|          | 0/173 [00:00<?, ?it/s]\n",
      "  6%|▋         | 11/173 [00:00<00:01, 109.94it/s]\n"
     ]
    },
    {
     "name": "stdout",
     "output_type": "stream",
     "text": [
      "\u001b[2m\u001b[36m(func pid=19104)\u001b[0m \n",
      "\u001b[2m\u001b[36m(func pid=19104)\u001b[0m Epoch 113\n"
     ]
    },
    {
     "name": "stderr",
     "output_type": "stream",
     "text": [
      " 13%|█▎        | 23/173 [00:00<00:01, 110.66it/s]\n",
      " 20%|██        | 35/173 [00:00<00:01, 104.44it/s]\n",
      " 27%|██▋       | 46/173 [00:00<00:01, 103.94it/s]\n",
      " 34%|███▍      | 59/173 [00:00<00:01, 109.31it/s]\n",
      " 41%|████      | 71/173 [00:00<00:00, 110.17it/s]\n",
      " 48%|████▊     | 83/173 [00:00<00:00, 112.36it/s]\n",
      " 55%|█████▍    | 95/173 [00:00<00:00, 111.44it/s]\n",
      " 62%|██████▏   | 107/173 [00:00<00:00, 109.51it/s]\n",
      " 68%|██████▊   | 118/173 [00:01<00:00, 109.09it/s]\n",
      " 75%|███████▍  | 129/173 [00:01<00:00, 108.71it/s]\n",
      " 82%|████████▏ | 141/173 [00:01<00:00, 108.89it/s]\n",
      " 88%|████████▊ | 152/173 [00:01<00:00, 108.82it/s]\n",
      "100%|██████████| 173/173 [00:01<00:00, 109.20it/s]\n",
      "  0%|          | 0/50 [00:00<?, ?it/s]\n",
      " 56%|█████▌    | 28/50 [00:00<00:00, 273.56it/s]\n",
      "100%|██████████| 50/50 [00:00<00:00, 276.16it/s]\n",
      "  0%|          | 0/173 [00:00<?, ?it/s]\n",
      "  6%|▋         | 11/173 [00:00<00:01, 105.71it/s]\n"
     ]
    },
    {
     "name": "stdout",
     "output_type": "stream",
     "text": [
      "\u001b[2m\u001b[36m(func pid=19104)\u001b[0m \n",
      "\u001b[2m\u001b[36m(func pid=19104)\u001b[0m Epoch 114\n"
     ]
    },
    {
     "name": "stderr",
     "output_type": "stream",
     "text": [
      " 13%|█▎        | 22/173 [00:00<00:01, 104.31it/s]\n",
      " 19%|█▉        | 33/173 [00:00<00:01, 105.72it/s]\n",
      " 26%|██▌       | 45/173 [00:00<00:01, 109.54it/s]\n",
      " 33%|███▎      | 57/173 [00:00<00:01, 110.93it/s]\n",
      " 40%|███▉      | 69/173 [00:00<00:00, 110.24it/s]\n",
      " 47%|████▋     | 81/173 [00:00<00:00, 110.87it/s]\n",
      " 54%|█████▍    | 93/173 [00:00<00:00, 110.79it/s]\n",
      " 61%|██████    | 105/173 [00:00<00:00, 111.51it/s]\n",
      " 68%|██████▊   | 117/173 [00:01<00:00, 110.86it/s]\n",
      " 75%|███████▍  | 129/173 [00:01<00:00, 110.09it/s]\n",
      " 82%|████████▏ | 141/173 [00:01<00:00, 108.85it/s]\n",
      " 88%|████████▊ | 152/173 [00:01<00:00, 108.79it/s]\n",
      "100%|██████████| 173/173 [00:01<00:00, 109.79it/s]\n",
      "  0%|          | 0/50 [00:00<?, ?it/s]\n",
      " 56%|█████▌    | 28/50 [00:00<00:00, 272.02it/s]\n",
      "100%|██████████| 50/50 [00:00<00:00, 276.33it/s]\n",
      "  0%|          | 0/173 [00:00<?, ?it/s]\n",
      "  6%|▋         | 11/173 [00:00<00:01, 103.56it/s]\n"
     ]
    },
    {
     "name": "stdout",
     "output_type": "stream",
     "text": [
      "\u001b[2m\u001b[36m(func pid=19104)\u001b[0m \n",
      "\u001b[2m\u001b[36m(func pid=19104)\u001b[0m Epoch 115\n"
     ]
    },
    {
     "name": "stderr",
     "output_type": "stream",
     "text": [
      " 13%|█▎        | 23/173 [00:00<00:01, 107.47it/s]\n",
      " 27%|██▋       | 47/173 [00:00<00:01, 111.79it/s]\n",
      " 34%|███▍      | 59/173 [00:00<00:01, 109.80it/s]\n",
      " 41%|████      | 71/173 [00:00<00:00, 111.74it/s]\n",
      " 48%|████▊     | 83/173 [00:00<00:00, 112.12it/s]\n",
      " 55%|█████▍    | 95/173 [00:00<00:00, 111.42it/s]\n",
      " 62%|██████▏   | 107/173 [00:00<00:00, 111.30it/s]\n",
      " 69%|██████▉   | 119/173 [00:01<00:00, 111.42it/s]\n",
      " 76%|███████▌  | 131/173 [00:01<00:00, 111.54it/s]\n",
      " 83%|████████▎ | 143/173 [00:01<00:00, 111.43it/s]\n",
      " 90%|████████▉ | 155/173 [00:01<00:00, 109.24it/s]\n",
      " 96%|█████████▌| 166/173 [00:01<00:00, 108.22it/s]\n",
      "100%|██████████| 173/173 [00:01<00:00, 110.25it/s]\n",
      " 58%|█████▊    | 29/50 [00:00<00:00, 285.37it/s]\n",
      "100%|██████████| 50/50 [00:00<00:00, 277.82it/s]\n"
     ]
    },
    {
     "name": "stdout",
     "output_type": "stream",
     "text": [
      "\u001b[2m\u001b[36m(func pid=19104)\u001b[0m Epoch 00115: reducing learning rate of group 0 to 7.1172e-07.\n",
      "\u001b[2m\u001b[36m(func pid=19104)\u001b[0m \n",
      "\u001b[2m\u001b[36m(func pid=19104)\u001b[0m Epoch 116\n"
     ]
    },
    {
     "name": "stderr",
     "output_type": "stream",
     "text": [
      "  0%|          | 0/173 [00:00<?, ?it/s]\n",
      "  6%|▋         | 11/173 [00:00<00:01, 104.66it/s]\n",
      " 14%|█▍        | 24/173 [00:00<00:01, 112.94it/s]\n",
      " 21%|██        | 36/173 [00:00<00:01, 110.23it/s]\n",
      " 28%|██▊       | 48/173 [00:00<00:01, 112.13it/s]\n",
      " 35%|███▍      | 60/173 [00:00<00:01, 89.55it/s] \n",
      " 41%|████      | 71/173 [00:00<00:01, 94.50it/s]\n",
      " 48%|████▊     | 83/173 [00:00<00:00, 99.98it/s]\n",
      " 54%|█████▍    | 94/173 [00:00<00:00, 102.54it/s]\n",
      " 61%|██████▏   | 106/173 [00:01<00:00, 105.98it/s]\n",
      " 68%|██████▊   | 118/173 [00:01<00:00, 109.42it/s]\n",
      " 75%|███████▌  | 130/173 [00:01<00:00, 110.56it/s]\n",
      " 82%|████████▏ | 142/173 [00:01<00:00, 112.68it/s]\n",
      " 89%|████████▉ | 154/173 [00:01<00:00, 114.11it/s]\n",
      " 96%|█████████▌| 166/173 [00:01<00:00, 115.52it/s]\n",
      "100%|██████████| 173/173 [00:01<00:00, 107.83it/s]\n",
      "  0%|          | 0/50 [00:00<?, ?it/s]\n",
      " 52%|█████▏    | 26/50 [00:00<00:00, 256.93it/s]\n",
      "100%|██████████| 50/50 [00:00<00:00, 271.53it/s]\n",
      "  0%|          | 0/173 [00:00<?, ?it/s]\n"
     ]
    },
    {
     "name": "stdout",
     "output_type": "stream",
     "text": [
      "\u001b[2m\u001b[36m(func pid=19104)\u001b[0m \n",
      "\u001b[2m\u001b[36m(func pid=19104)\u001b[0m Epoch 117\n"
     ]
    },
    {
     "name": "stderr",
     "output_type": "stream",
     "text": [
      "  7%|▋         | 12/173 [00:00<00:01, 117.69it/s]\n",
      " 14%|█▍        | 24/173 [00:00<00:01, 114.56it/s]\n",
      " 21%|██        | 36/173 [00:00<00:01, 116.30it/s]\n",
      " 28%|██▊       | 48/173 [00:00<00:01, 113.90it/s]\n",
      " 35%|███▍      | 60/173 [00:00<00:00, 114.00it/s]\n",
      " 42%|████▏     | 72/173 [00:00<00:00, 114.12it/s]\n",
      " 49%|████▊     | 84/173 [00:00<00:00, 113.67it/s]\n",
      " 55%|█████▌    | 96/173 [00:00<00:00, 114.04it/s]\n",
      " 62%|██████▏   | 108/173 [00:00<00:00, 115.50it/s]\n",
      " 70%|██████▉   | 121/173 [00:01<00:00, 116.93it/s]\n",
      " 77%|███████▋  | 133/173 [00:01<00:00, 117.28it/s]\n",
      " 84%|████████▍ | 146/173 [00:01<00:00, 118.51it/s]\n",
      "  0%|          | 0/50 [00:00<?, ?it/s]\n",
      "100%|██████████| 50/50 [00:00<00:00, 299.48it/s]\n",
      "  0%|          | 0/173 [00:00<?, ?it/s]\n",
      "  7%|▋         | 12/173 [00:00<00:01, 117.48it/s]\n"
     ]
    },
    {
     "name": "stdout",
     "output_type": "stream",
     "text": [
      "\u001b[2m\u001b[36m(func pid=19104)\u001b[0m \n",
      "\u001b[2m\u001b[36m(func pid=19104)\u001b[0m Epoch 118\n"
     ]
    },
    {
     "name": "stderr",
     "output_type": "stream",
     "text": [
      " 14%|█▍        | 24/173 [00:00<00:01, 117.54it/s]\n",
      " 21%|██▏       | 37/173 [00:00<00:01, 119.30it/s]\n",
      " 29%|██▉       | 50/173 [00:00<00:01, 120.29it/s]\n",
      " 36%|███▋      | 63/173 [00:00<00:00, 119.85it/s]\n",
      " 43%|████▎     | 75/173 [00:00<00:00, 119.73it/s]\n",
      " 51%|█████     | 88/173 [00:00<00:00, 120.47it/s]\n",
      " 58%|█████▊    | 101/173 [00:00<00:00, 119.72it/s]\n",
      " 66%|██████▌   | 114/173 [00:00<00:00, 119.93it/s]\n",
      " 73%|███████▎  | 126/173 [00:01<00:00, 119.18it/s]\n",
      " 80%|████████  | 139/173 [00:01<00:00, 121.04it/s]\n",
      " 88%|████████▊ | 152/173 [00:01<00:00, 119.15it/s]\n",
      " 95%|█████████▌| 165/173 [00:01<00:00, 120.82it/s]\n",
      "100%|██████████| 173/173 [00:01<00:00, 120.13it/s]\n",
      "  0%|          | 0/50 [00:00<?, ?it/s]\n",
      " 64%|██████▍   | 32/50 [00:00<00:00, 313.65it/s]\n",
      "100%|██████████| 50/50 [00:00<00:00, 320.28it/s]\n",
      "  0%|          | 0/173 [00:00<?, ?it/s]\n"
     ]
    },
    {
     "name": "stdout",
     "output_type": "stream",
     "text": [
      "\u001b[2m\u001b[36m(func pid=19104)\u001b[0m \n",
      "\u001b[2m\u001b[36m(func pid=19104)\u001b[0m Epoch 119\n"
     ]
    },
    {
     "name": "stderr",
     "output_type": "stream",
     "text": [
      "  8%|▊         | 13/173 [00:00<00:01, 121.83it/s]\n",
      " 15%|█▌        | 26/173 [00:00<00:01, 123.73it/s]\n",
      " 23%|██▎       | 39/173 [00:00<00:01, 123.79it/s]\n",
      " 30%|███       | 52/173 [00:00<00:00, 122.76it/s]\n",
      " 38%|███▊      | 65/173 [00:00<00:00, 124.54it/s]\n",
      " 45%|████▌     | 78/173 [00:00<00:00, 123.75it/s]\n",
      " 53%|█████▎    | 91/173 [00:00<00:00, 125.03it/s]\n",
      " 60%|██████    | 104/173 [00:00<00:00, 123.31it/s]\n",
      " 68%|██████▊   | 117/173 [00:00<00:00, 122.56it/s]\n",
      " 75%|███████▌  | 130/173 [00:01<00:00, 121.86it/s]\n",
      " 83%|████████▎ | 143/173 [00:01<00:00, 122.15it/s]\n",
      " 90%|█████████ | 156/173 [00:01<00:00, 121.80it/s]\n",
      "100%|██████████| 173/173 [00:01<00:00, 123.07it/s]\n",
      "  0%|          | 0/50 [00:00<?, ?it/s]\n",
      "100%|██████████| 50/50 [00:00<00:00, 324.19it/s]\n",
      "  0%|          | 0/173 [00:00<?, ?it/s]\n"
     ]
    },
    {
     "name": "stdout",
     "output_type": "stream",
     "text": [
      "\u001b[2m\u001b[36m(func pid=19104)\u001b[0m \n",
      "\u001b[2m\u001b[36m(func pid=19104)\u001b[0m Epoch 120\n"
     ]
    },
    {
     "name": "stderr",
     "output_type": "stream",
     "text": [
      "  8%|▊         | 13/173 [00:00<00:01, 124.65it/s]\n",
      " 15%|█▌        | 26/173 [00:00<00:01, 123.78it/s]\n",
      " 23%|██▎       | 39/173 [00:00<00:01, 123.61it/s]\n",
      " 30%|███       | 52/173 [00:00<00:00, 121.88it/s]\n",
      " 38%|███▊      | 65/173 [00:00<00:00, 123.70it/s]\n",
      " 45%|████▌     | 78/173 [00:00<00:00, 124.17it/s]\n",
      " 53%|█████▎    | 91/173 [00:00<00:00, 125.37it/s]\n",
      " 60%|██████    | 104/173 [00:00<00:00, 124.06it/s]\n",
      " 68%|██████▊   | 117/173 [00:00<00:00, 122.50it/s]\n",
      " 75%|███████▌  | 130/173 [00:01<00:00, 122.24it/s]\n",
      " 52%|█████▏    | 26/50 [00:00<00:00, 254.75it/s]\n",
      "100%|██████████| 50/50 [00:00<00:00, 277.40it/s]\n",
      "  0%|          | 0/173 [00:00<?, ?it/s]\n",
      "  7%|▋         | 12/173 [00:00<00:01, 118.37it/s]\n"
     ]
    },
    {
     "name": "stdout",
     "output_type": "stream",
     "text": [
      "\u001b[2m\u001b[36m(func pid=19104)\u001b[0m \n",
      "\u001b[2m\u001b[36m(func pid=19104)\u001b[0m Epoch 121\n"
     ]
    },
    {
     "name": "stderr",
     "output_type": "stream",
     "text": [
      " 14%|█▍        | 24/173 [00:00<00:01, 118.55it/s]\n",
      " 21%|██▏       | 37/173 [00:00<00:01, 121.08it/s]\n",
      " 29%|██▉       | 50/173 [00:00<00:01, 92.91it/s] \n",
      " 36%|███▋      | 63/173 [00:00<00:01, 101.65it/s]\n",
      " 43%|████▎     | 75/173 [00:00<00:00, 105.39it/s]\n",
      " 51%|█████     | 88/173 [00:00<00:00, 110.13it/s]\n",
      " 58%|█████▊    | 101/173 [00:00<00:00, 113.86it/s]\n",
      " 65%|██████▌   | 113/173 [00:01<00:00, 114.35it/s]\n",
      " 73%|███████▎  | 126/173 [00:01<00:00, 115.81it/s]\n",
      " 80%|███████▉  | 138/173 [00:01<00:00, 115.79it/s]\n",
      " 87%|████████▋ | 150/173 [00:01<00:00, 115.56it/s]\n",
      " 94%|█████████▎| 162/173 [00:01<00:00, 115.89it/s]\n",
      "100%|██████████| 173/173 [00:01<00:00, 112.42it/s]\n",
      "  0%|          | 0/50 [00:00<?, ?it/s]\n",
      " 60%|██████    | 30/50 [00:00<00:00, 298.08it/s]\n",
      "100%|██████████| 50/50 [00:00<00:00, 297.42it/s]\n",
      "  0%|          | 0/173 [00:00<?, ?it/s]\n",
      "  7%|▋         | 12/173 [00:00<00:01, 117.92it/s]\n"
     ]
    },
    {
     "name": "stdout",
     "output_type": "stream",
     "text": [
      "\u001b[2m\u001b[36m(func pid=19104)\u001b[0m Epoch 00121: reducing learning rate of group 0 to 3.5586e-07.\n",
      "\u001b[2m\u001b[36m(func pid=19104)\u001b[0m \n",
      "\u001b[2m\u001b[36m(func pid=19104)\u001b[0m Epoch 122\n"
     ]
    },
    {
     "name": "stderr",
     "output_type": "stream",
     "text": [
      " 14%|█▍        | 25/173 [00:00<00:01, 119.81it/s]\n",
      " 22%|██▏       | 38/173 [00:00<00:01, 119.68it/s]\n",
      " 29%|██▉       | 50/173 [00:00<00:01, 119.34it/s]\n",
      " 36%|███▌      | 62/173 [00:00<00:00, 119.14it/s]\n",
      " 43%|████▎     | 75/173 [00:00<00:00, 120.44it/s]\n",
      " 51%|█████     | 88/173 [00:00<00:00, 120.38it/s]\n",
      " 58%|█████▊    | 101/173 [00:00<00:00, 120.70it/s]\n",
      " 66%|██████▌   | 114/173 [00:00<00:00, 119.85it/s]\n",
      " 73%|███████▎  | 127/173 [00:01<00:00, 119.97it/s]\n",
      " 81%|████████  | 140/173 [00:01<00:00, 120.57it/s]\n",
      " 88%|████████▊ | 153/173 [00:01<00:00, 120.28it/s]\n",
      " 96%|█████████▌| 166/173 [00:01<00:00, 120.01it/s]\n",
      "100%|██████████| 173/173 [00:01<00:00, 119.83it/s]\n",
      "  0%|          | 0/50 [00:00<?, ?it/s]\n",
      " 62%|██████▏   | 31/50 [00:00<00:00, 304.45it/s]\n",
      "100%|██████████| 50/50 [00:00<00:00, 304.68it/s]\n",
      "  0%|          | 0/173 [00:00<?, ?it/s]\n",
      "  7%|▋         | 12/173 [00:00<00:01, 113.99it/s]\n"
     ]
    },
    {
     "name": "stdout",
     "output_type": "stream",
     "text": [
      "\u001b[2m\u001b[36m(func pid=19104)\u001b[0m \n",
      "\u001b[2m\u001b[36m(func pid=19104)\u001b[0m Epoch 123\n"
     ]
    },
    {
     "name": "stderr",
     "output_type": "stream",
     "text": [
      " 14%|█▍        | 24/173 [00:00<00:01, 117.42it/s]\n",
      " 21%|██        | 36/173 [00:00<00:01, 117.64it/s]\n",
      " 28%|██▊       | 48/173 [00:00<00:01, 115.95it/s]\n",
      " 35%|███▍      | 60/173 [00:00<00:00, 117.38it/s]\n",
      " 42%|████▏     | 73/173 [00:00<00:00, 118.05it/s]\n",
      " 50%|████▉     | 86/173 [00:00<00:00, 118.81it/s]\n",
      " 57%|█████▋    | 98/173 [00:00<00:00, 119.17it/s]\n",
      " 64%|██████▎   | 110/173 [00:00<00:00, 118.04it/s]\n",
      " 71%|███████   | 122/173 [00:01<00:00, 114.82it/s]\n",
      " 77%|███████▋  | 134/173 [00:01<00:00, 112.70it/s]\n",
      " 84%|████████▍ | 146/173 [00:01<00:00, 109.42it/s]\n",
      " 91%|█████████ | 157/173 [00:01<00:00, 108.69it/s]\n",
      "  0%|          | 0/50 [00:00<?, ?it/s]\n",
      " 56%|█████▌    | 28/50 [00:00<00:00, 273.22it/s]\n",
      "100%|██████████| 50/50 [00:00<00:00, 279.92it/s]\n",
      "  0%|          | 0/173 [00:00<?, ?it/s]\n",
      "  7%|▋         | 12/173 [00:00<00:01, 119.02it/s]\n"
     ]
    },
    {
     "name": "stdout",
     "output_type": "stream",
     "text": [
      "\u001b[2m\u001b[36m(func pid=19104)\u001b[0m \n",
      "\u001b[2m\u001b[36m(func pid=19104)\u001b[0m Epoch 124\n"
     ]
    },
    {
     "name": "stderr",
     "output_type": "stream",
     "text": [
      " 14%|█▍        | 24/173 [00:00<00:01, 116.17it/s]\n",
      " 21%|██        | 36/173 [00:00<00:01, 107.30it/s]\n",
      " 28%|██▊       | 48/173 [00:00<00:01, 108.78it/s]\n",
      " 34%|███▍      | 59/173 [00:00<00:01, 107.68it/s]\n",
      " 40%|████      | 70/173 [00:00<00:01, 102.11it/s]\n",
      " 47%|████▋     | 82/173 [00:00<00:00, 105.07it/s]\n",
      " 54%|█████▍    | 94/173 [00:00<00:00, 109.18it/s]\n",
      " 62%|██████▏   | 107/173 [00:00<00:00, 113.34it/s]\n",
      " 69%|██████▉   | 120/173 [00:01<00:00, 116.48it/s]\n",
      " 76%|███████▋  | 132/173 [00:01<00:00, 115.51it/s]\n",
      " 83%|████████▎ | 144/173 [00:01<00:00, 114.83it/s]\n",
      " 90%|█████████ | 156/173 [00:01<00:00, 112.97it/s]\n",
      "100%|██████████| 173/173 [00:01<00:00, 111.29it/s]\n",
      "  0%|          | 0/50 [00:00<?, ?it/s]\n",
      "100%|██████████| 50/50 [00:00<00:00, 315.15it/s]\n",
      "  0%|          | 0/173 [00:00<?, ?it/s]\n",
      "  7%|▋         | 12/173 [00:00<00:01, 119.99it/s]\n"
     ]
    },
    {
     "name": "stdout",
     "output_type": "stream",
     "text": [
      "\u001b[2m\u001b[36m(func pid=19104)\u001b[0m \n",
      "\u001b[2m\u001b[36m(func pid=19104)\u001b[0m Epoch 125\n"
     ]
    },
    {
     "name": "stderr",
     "output_type": "stream",
     "text": [
      " 14%|█▍        | 24/173 [00:00<00:01, 106.85it/s]\n",
      " 20%|██        | 35/173 [00:00<00:01, 102.46it/s]\n",
      " 27%|██▋       | 46/173 [00:00<00:01, 101.04it/s]\n",
      " 34%|███▎      | 58/173 [00:00<00:01, 105.39it/s]\n",
      " 41%|████      | 71/173 [00:00<00:00, 111.04it/s]\n",
      " 49%|████▊     | 84/173 [00:00<00:00, 114.08it/s]\n",
      " 56%|█████▌    | 97/173 [00:00<00:00, 116.10it/s]\n",
      " 64%|██████▍   | 111/173 [00:00<00:00, 120.65it/s]\n",
      " 72%|███████▏  | 124/173 [00:01<00:00, 120.90it/s]\n",
      " 79%|███████▉  | 137/173 [00:01<00:00, 122.17it/s]\n",
      " 87%|████████▋ | 150/173 [00:01<00:00, 124.39it/s]\n",
      "100%|██████████| 173/173 [00:01<00:00, 117.12it/s]\n",
      "  0%|          | 0/50 [00:00<?, ?it/s]\n",
      "100%|██████████| 50/50 [00:00<00:00, 312.35it/s]\n",
      "  0%|          | 0/173 [00:00<?, ?it/s]\n",
      "  7%|▋         | 12/173 [00:00<00:01, 119.02it/s]\n"
     ]
    },
    {
     "name": "stdout",
     "output_type": "stream",
     "text": [
      "\u001b[2m\u001b[36m(func pid=19104)\u001b[0m \n",
      "\u001b[2m\u001b[36m(func pid=19104)\u001b[0m Epoch 126\n"
     ]
    },
    {
     "name": "stderr",
     "output_type": "stream",
     "text": [
      " 14%|█▍        | 25/173 [00:00<00:01, 85.01it/s] \n",
      " 21%|██▏       | 37/173 [00:00<00:01, 97.05it/s]\n",
      " 29%|██▉       | 50/173 [00:00<00:01, 105.72it/s]\n",
      " 36%|███▌      | 62/173 [00:00<00:01, 109.94it/s]\n",
      " 43%|████▎     | 75/173 [00:00<00:00, 116.18it/s]\n",
      " 51%|█████     | 88/173 [00:00<00:00, 117.87it/s]\n",
      " 58%|█████▊    | 101/173 [00:00<00:00, 118.62it/s]\n",
      " 65%|██████▌   | 113/173 [00:01<00:00, 118.90it/s]\n",
      " 72%|███████▏  | 125/173 [00:01<00:00, 115.17it/s]\n",
      " 79%|███████▉  | 137/173 [00:01<00:00, 115.69it/s]\n",
      " 86%|████████▌ | 149/173 [00:01<00:00, 112.53it/s]\n",
      "100%|██████████| 173/173 [00:01<00:00, 112.70it/s]\n",
      "  0%|          | 0/50 [00:00<?, ?it/s]\n",
      " 62%|██████▏   | 31/50 [00:00<00:00, 303.72it/s]\n",
      "100%|██████████| 50/50 [00:00<00:00, 275.84it/s]\n",
      "  0%|          | 0/173 [00:00<?, ?it/s]\n",
      "  8%|▊         | 13/173 [00:00<00:01, 125.02it/s]\n"
     ]
    },
    {
     "name": "stdout",
     "output_type": "stream",
     "text": [
      "\u001b[2m\u001b[36m(func pid=19104)\u001b[0m \n",
      "\u001b[2m\u001b[36m(func pid=19104)\u001b[0m Epoch 127\n"
     ]
    },
    {
     "name": "stderr",
     "output_type": "stream",
     "text": [
      " 15%|█▌        | 26/173 [00:00<00:01, 122.50it/s]\n",
      " 23%|██▎       | 39/173 [00:00<00:01, 122.40it/s]\n",
      " 30%|███       | 52/173 [00:00<00:00, 121.10it/s]\n",
      " 38%|███▊      | 65/173 [00:00<00:00, 122.53it/s]\n",
      " 45%|████▌     | 78/173 [00:00<00:00, 124.60it/s]\n",
      " 53%|█████▎    | 91/173 [00:00<00:00, 124.29it/s]\n",
      " 60%|██████    | 104/173 [00:00<00:00, 124.12it/s]\n",
      " 68%|██████▊   | 117/173 [00:00<00:00, 121.89it/s]\n",
      " 75%|███████▌  | 130/173 [00:01<00:00, 122.71it/s]\n",
      " 83%|████████▎ | 143/173 [00:01<00:00, 123.40it/s]\n",
      " 90%|█████████ | 156/173 [00:01<00:00, 122.92it/s]\n",
      "100%|██████████| 173/173 [00:01<00:00, 122.77it/s]\n",
      "  0%|          | 0/50 [00:00<?, ?it/s]\n",
      " 64%|██████▍   | 32/50 [00:00<00:00, 318.64it/s]\n",
      "100%|██████████| 50/50 [00:00<00:00, 320.54it/s]\n",
      "  0%|          | 0/173 [00:00<?, ?it/s]\n"
     ]
    },
    {
     "name": "stdout",
     "output_type": "stream",
     "text": [
      "\u001b[2m\u001b[36m(func pid=19104)\u001b[0m Epoch 00127: reducing learning rate of group 0 to 1.7793e-07.\n",
      "\u001b[2m\u001b[36m(func pid=19104)\u001b[0m \n",
      "\u001b[2m\u001b[36m(func pid=19104)\u001b[0m Epoch 128\n"
     ]
    },
    {
     "name": "stderr",
     "output_type": "stream",
     "text": [
      "  8%|▊         | 13/173 [00:00<00:01, 122.74it/s]\n",
      " 15%|█▌        | 26/173 [00:00<00:01, 122.07it/s]\n",
      " 23%|██▎       | 39/173 [00:00<00:01, 117.98it/s]\n",
      " 29%|██▉       | 51/173 [00:00<00:01, 116.32it/s]\n",
      " 36%|███▋      | 63/173 [00:00<00:00, 114.14it/s]\n",
      " 43%|████▎     | 75/173 [00:00<00:00, 111.69it/s]\n",
      " 50%|█████     | 87/173 [00:00<00:00, 112.82it/s]\n",
      " 58%|█████▊    | 100/173 [00:00<00:00, 115.22it/s]\n",
      " 65%|██████▌   | 113/173 [00:00<00:00, 117.21it/s]\n",
      " 72%|███████▏  | 125/173 [00:01<00:00, 118.01it/s]\n",
      " 79%|███████▉  | 137/173 [00:01<00:00, 118.26it/s]\n",
      " 87%|████████▋ | 150/173 [00:01<00:00, 119.19it/s]\n",
      " 94%|█████████▍| 163/173 [00:01<00:00, 119.62it/s]\n",
      "100%|██████████| 173/173 [00:01<00:00, 117.23it/s]\n",
      "  0%|          | 0/50 [00:00<?, ?it/s]\n",
      "100%|██████████| 50/50 [00:00<00:00, 312.64it/s]\n",
      "  0%|          | 0/173 [00:00<?, ?it/s]\n",
      "  7%|▋         | 12/173 [00:00<00:01, 116.49it/s]\n"
     ]
    },
    {
     "name": "stdout",
     "output_type": "stream",
     "text": [
      "\u001b[2m\u001b[36m(func pid=19104)\u001b[0m \n",
      "\u001b[2m\u001b[36m(func pid=19104)\u001b[0m Epoch 129\n"
     ]
    },
    {
     "name": "stderr",
     "output_type": "stream",
     "text": [
      " 14%|█▍        | 25/173 [00:00<00:01, 119.04it/s]\n",
      " 21%|██▏       | 37/173 [00:00<00:01, 118.40it/s]\n",
      " 29%|██▉       | 50/173 [00:00<00:01, 120.83it/s]\n",
      " 36%|███▋      | 63/173 [00:00<00:00, 120.34it/s]\n",
      " 44%|████▍     | 76/173 [00:00<00:00, 120.42it/s]\n",
      " 51%|█████▏    | 89/173 [00:00<00:00, 119.63it/s]\n",
      " 59%|█████▉    | 102/173 [00:00<00:00, 120.55it/s]\n",
      " 66%|██████▋   | 115/173 [00:00<00:00, 120.02it/s]\n",
      " 74%|███████▍  | 128/173 [00:01<00:00, 120.62it/s]\n",
      " 82%|████████▏ | 141/173 [00:01<00:00, 120.12it/s]\n",
      " 89%|████████▉ | 154/173 [00:01<00:00, 120.24it/s]\n",
      "  0%|          | 0/50 [00:00<?, ?it/s]\n",
      "100%|██████████| 50/50 [00:00<00:00, 292.44it/s]\n",
      "  0%|          | 0/173 [00:00<?, ?it/s]\n",
      "  7%|▋         | 12/173 [00:00<00:01, 119.99it/s]\n"
     ]
    },
    {
     "name": "stdout",
     "output_type": "stream",
     "text": [
      "\u001b[2m\u001b[36m(func pid=19104)\u001b[0m \n",
      "\u001b[2m\u001b[36m(func pid=19104)\u001b[0m Epoch 130\n"
     ]
    },
    {
     "name": "stderr",
     "output_type": "stream",
     "text": [
      " 14%|█▍        | 25/173 [00:00<00:01, 120.60it/s]\n",
      " 22%|██▏       | 38/173 [00:00<00:01, 114.21it/s]\n",
      " 29%|██▉       | 50/173 [00:00<00:01, 113.90it/s]\n",
      " 36%|███▋      | 63/173 [00:00<00:00, 116.55it/s]\n",
      " 43%|████▎     | 75/173 [00:00<00:00, 117.26it/s]\n",
      " 51%|█████     | 88/173 [00:00<00:00, 118.36it/s]\n",
      " 58%|█████▊    | 100/173 [00:00<00:00, 116.29it/s]\n",
      " 65%|██████▍   | 112/173 [00:00<00:00, 115.65it/s]\n",
      " 72%|███████▏  | 124/173 [00:01<00:00, 115.85it/s]\n",
      " 79%|███████▊  | 136/173 [00:01<00:00, 114.49it/s]\n",
      " 86%|████████▌ | 148/173 [00:01<00:00, 115.67it/s]\n",
      " 93%|█████████▎| 161/173 [00:01<00:00, 117.58it/s]\n",
      "100%|██████████| 173/173 [00:01<00:00, 116.72it/s]\n",
      "  0%|          | 0/50 [00:00<?, ?it/s]\n",
      " 64%|██████▍   | 32/50 [00:00<00:00, 314.20it/s]\n",
      "100%|██████████| 50/50 [00:00<00:00, 316.35it/s]\n",
      "  0%|          | 0/173 [00:00<?, ?it/s]\n",
      "  5%|▍         | 8/173 [00:00<00:03, 53.20it/s]\n"
     ]
    },
    {
     "name": "stdout",
     "output_type": "stream",
     "text": [
      "\u001b[2m\u001b[36m(func pid=19104)\u001b[0m \n",
      "\u001b[2m\u001b[36m(func pid=19104)\u001b[0m Epoch 131\n"
     ]
    },
    {
     "name": "stderr",
     "output_type": "stream",
     "text": [
      " 10%|█         | 18/173 [00:00<00:02, 75.91it/s]\n",
      " 17%|█▋        | 30/173 [00:00<00:01, 93.48it/s]\n",
      " 25%|██▍       | 43/173 [00:00<00:01, 105.10it/s]\n",
      " 32%|███▏      | 55/173 [00:00<00:01, 109.73it/s]\n",
      " 39%|███▉      | 68/173 [00:00<00:00, 113.72it/s]\n",
      " 46%|████▌     | 80/173 [00:00<00:00, 115.44it/s]\n",
      " 53%|█████▎    | 92/173 [00:00<00:00, 116.78it/s]\n",
      " 61%|██████    | 105/173 [00:00<00:00, 120.48it/s]\n",
      " 68%|██████▊   | 118/173 [00:01<00:00, 114.36it/s]\n",
      " 75%|███████▌  | 130/173 [00:01<00:00, 110.80it/s]\n",
      " 82%|████████▏ | 142/173 [00:01<00:00, 107.85it/s]\n",
      " 89%|████████▉ | 154/173 [00:01<00:00, 108.62it/s]\n",
      " 97%|█████████▋| 167/173 [00:01<00:00, 112.41it/s]\n",
      "100%|██████████| 173/173 [00:01<00:00, 108.20it/s]\n",
      "  0%|          | 0/50 [00:00<?, ?it/s]\n",
      " 58%|█████▊    | 29/50 [00:00<00:00, 286.80it/s]\n",
      "100%|██████████| 50/50 [00:00<00:00, 285.17it/s]\n",
      "  0%|          | 0/173 [00:00<?, ?it/s]\n",
      "  7%|▋         | 12/173 [00:00<00:01, 117.76it/s]\n"
     ]
    },
    {
     "name": "stdout",
     "output_type": "stream",
     "text": [
      "\u001b[2m\u001b[36m(func pid=19104)\u001b[0m \n",
      "\u001b[2m\u001b[36m(func pid=19104)\u001b[0m Epoch 132\n"
     ]
    },
    {
     "name": "stderr",
     "output_type": "stream",
     "text": [
      " 14%|█▍        | 25/173 [00:00<00:01, 118.60it/s]\n",
      " 21%|██▏       | 37/173 [00:00<00:01, 118.70it/s]\n",
      " 29%|██▉       | 50/173 [00:00<00:01, 121.08it/s]\n",
      " 36%|███▋      | 63/173 [00:00<00:00, 122.13it/s]\n",
      " 44%|████▍     | 76/173 [00:00<00:00, 117.77it/s]\n",
      " 51%|█████     | 88/173 [00:00<00:00, 115.98it/s]\n",
      " 58%|█████▊    | 101/173 [00:00<00:00, 117.33it/s]\n",
      " 65%|██████▌   | 113/173 [00:00<00:00, 113.31it/s]\n",
      " 72%|███████▏  | 125/173 [00:01<00:00, 113.03it/s]\n",
      " 79%|███████▉  | 137/173 [00:01<00:00, 111.40it/s]\n",
      " 86%|████████▌ | 149/173 [00:01<00:00, 113.43it/s]\n",
      " 93%|█████████▎| 161/173 [00:01<00:00, 114.62it/s]\n",
      "  0%|          | 0/50 [00:00<?, ?it/s]\n",
      "100%|██████████| 50/50 [00:00<00:00, 299.49it/s]\n",
      "  0%|          | 0/173 [00:00<?, ?it/s]\n",
      "  7%|▋         | 12/173 [00:00<00:01, 116.31it/s]\n"
     ]
    },
    {
     "name": "stdout",
     "output_type": "stream",
     "text": [
      "\u001b[2m\u001b[36m(func pid=19104)\u001b[0m \n",
      "\u001b[2m\u001b[36m(func pid=19104)\u001b[0m Epoch 133\n"
     ]
    },
    {
     "name": "stderr",
     "output_type": "stream",
     "text": [
      " 14%|█▍        | 25/173 [00:00<00:01, 119.64it/s]\n",
      " 21%|██▏       | 37/173 [00:00<00:01, 119.79it/s]\n",
      " 28%|██▊       | 49/173 [00:00<00:01, 118.96it/s]\n",
      " 36%|███▌      | 62/173 [00:00<00:00, 119.19it/s]\n",
      " 43%|████▎     | 75/173 [00:00<00:00, 120.23it/s]\n",
      " 51%|█████     | 88/173 [00:00<00:00, 119.55it/s]\n",
      " 58%|█████▊    | 100/173 [00:00<00:00, 118.86it/s]\n",
      " 65%|██████▌   | 113/173 [00:00<00:00, 120.01it/s]\n",
      " 72%|███████▏  | 125/173 [00:01<00:00, 114.31it/s]\n",
      " 79%|███████▉  | 137/173 [00:01<00:00, 112.49it/s]\n",
      " 86%|████████▌ | 149/173 [00:01<00:00, 110.77it/s]\n",
      " 93%|█████████▎| 161/173 [00:01<00:00, 113.33it/s]\n",
      "100%|██████████| 173/173 [00:01<00:00, 116.36it/s]\n",
      "  0%|          | 0/50 [00:00<?, ?it/s]\n",
      " 62%|██████▏   | 31/50 [00:00<00:00, 303.96it/s]\n",
      "100%|██████████| 50/50 [00:00<00:00, 306.85it/s]\n",
      "  0%|          | 0/173 [00:00<?, ?it/s]\n",
      "  7%|▋         | 12/173 [00:00<00:01, 112.05it/s]\n"
     ]
    },
    {
     "name": "stdout",
     "output_type": "stream",
     "text": [
      "\u001b[2m\u001b[36m(func pid=19104)\u001b[0m Epoch 00133: reducing learning rate of group 0 to 8.8965e-08.\n",
      "\u001b[2m\u001b[36m(func pid=19104)\u001b[0m \n",
      "\u001b[2m\u001b[36m(func pid=19104)\u001b[0m Epoch 134\n"
     ]
    },
    {
     "name": "stderr",
     "output_type": "stream",
     "text": [
      " 14%|█▍        | 25/173 [00:00<00:01, 118.37it/s]\n",
      " 22%|██▏       | 38/173 [00:00<00:01, 119.85it/s]\n",
      " 29%|██▉       | 50/173 [00:00<00:01, 116.81it/s]\n",
      " 36%|███▋      | 63/173 [00:00<00:00, 119.74it/s]\n",
      " 43%|████▎     | 75/173 [00:00<00:00, 119.38it/s]\n",
      " 51%|█████     | 88/173 [00:00<00:00, 120.46it/s]\n",
      " 58%|█████▊    | 101/173 [00:00<00:00, 120.43it/s]\n",
      " 66%|██████▌   | 114/173 [00:00<00:00, 120.31it/s]\n",
      " 73%|███████▎  | 127/173 [00:01<00:00, 120.83it/s]\n",
      " 81%|████████  | 140/173 [00:01<00:00, 120.30it/s]\n",
      " 88%|████████▊ | 153/173 [00:01<00:00, 120.99it/s]\n",
      "100%|██████████| 173/173 [00:01<00:00, 119.88it/s]\n",
      "  0%|          | 0/50 [00:00<?, ?it/s]\n",
      " 46%|████▌     | 23/50 [00:00<00:00, 221.69it/s]\n",
      "100%|██████████| 50/50 [00:00<00:00, 248.03it/s]\n",
      "  0%|          | 0/173 [00:00<?, ?it/s]\n",
      "  7%|▋         | 12/173 [00:00<00:01, 117.85it/s]\n"
     ]
    },
    {
     "name": "stdout",
     "output_type": "stream",
     "text": [
      "\u001b[2m\u001b[36m(func pid=19104)\u001b[0m \n",
      "\u001b[2m\u001b[36m(func pid=19104)\u001b[0m Epoch 135\n"
     ]
    },
    {
     "name": "stderr",
     "output_type": "stream",
     "text": [
      " 14%|█▍        | 24/173 [00:00<00:01, 118.35it/s]\n",
      " 21%|██        | 36/173 [00:00<00:01, 117.83it/s]\n",
      " 28%|██▊       | 49/173 [00:00<00:01, 119.96it/s]\n",
      " 35%|███▌      | 61/173 [00:00<00:00, 119.55it/s]\n",
      " 42%|████▏     | 73/173 [00:00<00:00, 116.62it/s]\n",
      " 49%|████▉     | 85/173 [00:00<00:00, 114.80it/s]\n",
      " 56%|█████▌    | 97/173 [00:00<00:00, 116.05it/s]\n",
      " 64%|██████▎   | 110/173 [00:00<00:00, 117.91it/s]\n",
      " 71%|███████   | 122/173 [00:01<00:00, 118.05it/s]\n",
      " 78%|███████▊  | 135/173 [00:01<00:00, 119.08it/s]\n",
      " 85%|████████▍ | 147/173 [00:01<00:00, 119.32it/s]\n",
      "100%|██████████| 173/173 [00:01<00:00, 118.43it/s]\n",
      "  0%|          | 0/50 [00:00<?, ?it/s]\n",
      " 60%|██████    | 30/50 [00:00<00:00, 292.00it/s]\n",
      "100%|██████████| 50/50 [00:00<00:00, 184.88it/s]\n",
      "  0%|          | 0/173 [00:00<?, ?it/s]\n",
      "  7%|▋         | 12/173 [00:00<00:01, 117.04it/s]\n"
     ]
    },
    {
     "name": "stdout",
     "output_type": "stream",
     "text": [
      "\u001b[2m\u001b[36m(func pid=19104)\u001b[0m \n",
      "\u001b[2m\u001b[36m(func pid=19104)\u001b[0m Epoch 136\n"
     ]
    },
    {
     "name": "stderr",
     "output_type": "stream",
     "text": [
      " 14%|█▍        | 24/173 [00:00<00:01, 115.57it/s]\n",
      " 21%|██        | 36/173 [00:00<00:01, 116.07it/s]\n",
      " 28%|██▊       | 48/173 [00:00<00:01, 117.01it/s]\n",
      " 35%|███▍      | 60/173 [00:00<00:00, 114.89it/s]\n",
      " 42%|████▏     | 72/173 [00:00<00:00, 113.60it/s]\n",
      " 49%|████▊     | 84/173 [00:00<00:00, 114.99it/s]\n",
      " 55%|█████▌    | 96/173 [00:00<00:00, 113.97it/s]\n",
      " 62%|██████▏   | 108/173 [00:00<00:00, 115.04it/s]\n",
      " 69%|██████▉   | 120/173 [00:01<00:00, 115.22it/s]\n",
      " 76%|███████▋  | 132/173 [00:01<00:00, 115.74it/s]\n",
      " 83%|████████▎ | 144/173 [00:01<00:00, 116.81it/s]\n",
      " 90%|█████████ | 156/173 [00:01<00:00, 117.60it/s]\n",
      "100%|██████████| 173/173 [00:01<00:00, 116.26it/s]\n",
      "  0%|          | 0/50 [00:00<?, ?it/s]\n",
      " 58%|█████▊    | 29/50 [00:00<00:00, 286.42it/s]\n",
      "100%|██████████| 50/50 [00:00<00:00, 292.54it/s]\n",
      "  0%|          | 0/173 [00:00<?, ?it/s]\n",
      "  7%|▋         | 12/173 [00:00<00:01, 115.24it/s]\n"
     ]
    },
    {
     "name": "stdout",
     "output_type": "stream",
     "text": [
      "\u001b[2m\u001b[36m(func pid=19104)\u001b[0m \n",
      "\u001b[2m\u001b[36m(func pid=19104)\u001b[0m Epoch 137\n"
     ]
    },
    {
     "name": "stderr",
     "output_type": "stream",
     "text": [
      " 14%|█▍        | 25/173 [00:00<00:01, 118.84it/s]\n",
      " 21%|██▏       | 37/173 [00:00<00:01, 117.40it/s]\n",
      " 28%|██▊       | 49/173 [00:00<00:01, 116.04it/s]\n",
      " 35%|███▌      | 61/173 [00:00<00:00, 114.75it/s]\n",
      " 42%|████▏     | 73/173 [00:00<00:00, 116.09it/s]\n",
      " 49%|████▉     | 85/173 [00:00<00:00, 117.31it/s]\n",
      " 56%|█████▌    | 97/173 [00:00<00:00, 117.30it/s]\n",
      " 63%|██████▎   | 109/173 [00:00<00:00, 116.45it/s]\n",
      " 70%|██████▉   | 121/173 [00:01<00:00, 116.52it/s]\n",
      " 77%|███████▋  | 133/173 [00:01<00:00, 116.88it/s]\n",
      " 84%|████████▍ | 145/173 [00:01<00:00, 115.92it/s]\n",
      " 91%|█████████ | 157/173 [00:01<00:00, 116.55it/s]\n",
      "100%|██████████| 173/173 [00:01<00:00, 116.82it/s]\n",
      " 62%|██████▏   | 31/50 [00:00<00:00, 303.30it/s]\n",
      "100%|██████████| 50/50 [00:00<00:00, 308.25it/s]\n",
      "  0%|          | 0/173 [00:00<?, ?it/s]\n"
     ]
    },
    {
     "name": "stdout",
     "output_type": "stream",
     "text": [
      "\u001b[2m\u001b[36m(func pid=19104)\u001b[0m \n",
      "\u001b[2m\u001b[36m(func pid=19104)\u001b[0m Epoch 138\n"
     ]
    },
    {
     "name": "stderr",
     "output_type": "stream",
     "text": [
      " 14%|█▍        | 24/173 [00:00<00:01, 119.13it/s]\n",
      " 21%|██        | 36/173 [00:00<00:01, 115.55it/s]\n",
      " 28%|██▊       | 48/173 [00:00<00:01, 113.33it/s]\n",
      " 35%|███▍      | 60/173 [00:00<00:01, 112.42it/s]\n",
      " 42%|████▏     | 72/173 [00:00<00:00, 112.97it/s]\n",
      " 49%|████▊     | 84/173 [00:00<00:00, 110.24it/s]\n",
      " 55%|█████▌    | 96/173 [00:00<00:00, 110.63it/s]\n",
      " 62%|██████▏   | 108/173 [00:00<00:00, 110.44it/s]\n",
      " 69%|██████▉   | 120/173 [00:01<00:00, 112.46it/s]\n",
      " 76%|███████▋  | 132/173 [00:01<00:00, 112.13it/s]\n",
      " 83%|████████▎ | 144/173 [00:01<00:00, 109.65it/s]\n",
      " 90%|█████████ | 156/173 [00:01<00:00, 111.51it/s]\n",
      " 98%|█████████▊| 169/173 [00:01<00:00, 113.96it/s]\n",
      "100%|██████████| 173/173 [00:01<00:00, 112.75it/s]\n",
      "  0%|          | 0/50 [00:00<?, ?it/s]\n",
      " 58%|█████▊    | 29/50 [00:00<00:00, 284.71it/s]\n",
      "100%|██████████| 50/50 [00:00<00:00, 287.34it/s]\n",
      "  0%|          | 0/173 [00:00<?, ?it/s]\n",
      "  7%|▋         | 12/173 [00:00<00:01, 114.73it/s]\n"
     ]
    },
    {
     "name": "stdout",
     "output_type": "stream",
     "text": [
      "\u001b[2m\u001b[36m(func pid=19104)\u001b[0m \n",
      "\u001b[2m\u001b[36m(func pid=19104)\u001b[0m Epoch 139\n"
     ]
    },
    {
     "name": "stderr",
     "output_type": "stream",
     "text": [
      " 14%|█▍        | 25/173 [00:00<00:01, 118.38it/s]\n",
      " 21%|██▏       | 37/173 [00:00<00:01, 116.57it/s]\n",
      " 29%|██▉       | 50/173 [00:00<00:01, 119.40it/s]\n",
      " 36%|███▋      | 63/173 [00:00<00:00, 120.04it/s]\n",
      " 44%|████▍     | 76/173 [00:00<00:00, 120.29it/s]\n",
      " 51%|█████▏    | 89/173 [00:00<00:00, 119.93it/s]\n",
      " 58%|█████▊    | 101/173 [00:00<00:00, 119.18it/s]\n",
      " 66%|██████▌   | 114/173 [00:00<00:00, 120.30it/s]\n",
      " 73%|███████▎  | 127/173 [00:01<00:00, 120.13it/s]\n",
      " 81%|████████  | 140/173 [00:01<00:00, 120.72it/s]\n",
      " 88%|████████▊ | 153/173 [00:01<00:00, 119.25it/s]\n",
      " 96%|█████████▌| 166/173 [00:01<00:00, 119.92it/s]\n",
      "100%|██████████| 173/173 [00:01<00:00, 119.35it/s]\n",
      "  0%|          | 0/50 [00:00<?, ?it/s]\n",
      " 62%|██████▏   | 31/50 [00:00<00:00, 307.64it/s]\n",
      "100%|██████████| 50/50 [00:00<00:00, 270.68it/s]\n"
     ]
    },
    {
     "name": "stdout",
     "output_type": "stream",
     "text": [
      "\u001b[2m\u001b[36m(func pid=19104)\u001b[0m Epoch 00139: reducing learning rate of group 0 to 4.4483e-08.\n",
      "\u001b[2m\u001b[36m(func pid=19104)\u001b[0m \n",
      "\u001b[2m\u001b[36m(func pid=19104)\u001b[0m Epoch 140\n"
     ]
    },
    {
     "name": "stderr",
     "output_type": "stream",
     "text": [
      "  0%|          | 0/173 [00:00<?, ?it/s]\n",
      "  7%|▋         | 12/173 [00:00<00:01, 115.38it/s]\n",
      " 14%|█▍        | 25/173 [00:00<00:01, 119.61it/s]\n",
      " 22%|██▏       | 38/173 [00:00<00:01, 119.53it/s]\n",
      " 29%|██▉       | 51/173 [00:00<00:01, 120.72it/s]\n",
      " 37%|███▋      | 64/173 [00:00<00:00, 117.29it/s]\n",
      " 44%|████▍     | 76/173 [00:00<00:00, 117.94it/s]\n",
      " 51%|█████     | 88/173 [00:00<00:00, 118.43it/s]\n",
      " 58%|█████▊    | 100/173 [00:00<00:00, 118.35it/s]\n",
      " 65%|██████▌   | 113/173 [00:00<00:00, 120.00it/s]\n",
      " 73%|███████▎  | 126/173 [00:01<00:00, 120.01it/s]\n",
      " 80%|████████  | 139/173 [00:01<00:00, 119.53it/s]\n",
      " 88%|████████▊ | 152/173 [00:01<00:00, 119.34it/s]\n",
      " 95%|█████████▌| 165/173 [00:01<00:00, 120.38it/s]\n",
      "100%|██████████| 173/173 [00:01<00:00, 119.11it/s]\n",
      "  0%|          | 0/50 [00:00<?, ?it/s]\n",
      " 46%|████▌     | 23/50 [00:00<00:00, 153.53it/s]\n",
      "100%|██████████| 50/50 [00:00<00:00, 211.75it/s]\n",
      "  0%|          | 0/173 [00:00<?, ?it/s]\n"
     ]
    },
    {
     "name": "stdout",
     "output_type": "stream",
     "text": [
      "\u001b[2m\u001b[36m(func pid=19104)\u001b[0m \n",
      "\u001b[2m\u001b[36m(func pid=19104)\u001b[0m Epoch 141\n"
     ]
    },
    {
     "name": "stderr",
     "output_type": "stream",
     "text": [
      "  7%|▋         | 12/173 [00:00<00:01, 118.56it/s]\n",
      " 14%|█▍        | 24/173 [00:00<00:01, 118.77it/s]\n",
      " 21%|██▏       | 37/173 [00:00<00:01, 120.09it/s]\n",
      " 29%|██▉       | 50/173 [00:00<00:01, 122.01it/s]\n",
      " 36%|███▋      | 63/173 [00:00<00:00, 121.32it/s]\n",
      " 44%|████▍     | 76/173 [00:00<00:00, 122.23it/s]\n",
      " 51%|█████▏    | 89/173 [00:00<00:00, 122.77it/s]\n",
      " 59%|█████▉    | 102/173 [00:00<00:00, 120.18it/s]\n",
      " 66%|██████▋   | 115/173 [00:00<00:00, 120.91it/s]\n",
      " 74%|███████▍  | 128/173 [00:01<00:00, 120.46it/s]\n",
      " 82%|████████▏ | 141/173 [00:01<00:00, 120.66it/s]\n",
      " 89%|████████▉ | 154/173 [00:01<00:00, 119.73it/s]\n",
      "  0%|          | 0/50 [00:00<?, ?it/s]\n",
      " 62%|██████▏   | 31/50 [00:00<00:00, 303.32it/s]\n",
      "100%|██████████| 50/50 [00:00<00:00, 308.63it/s]\n",
      "  0%|          | 0/173 [00:00<?, ?it/s]\n",
      "  8%|▊         | 13/173 [00:00<00:01, 123.64it/s]\n"
     ]
    },
    {
     "name": "stdout",
     "output_type": "stream",
     "text": [
      "\u001b[2m\u001b[36m(func pid=19104)\u001b[0m \n",
      "\u001b[2m\u001b[36m(func pid=19104)\u001b[0m Epoch 142\n"
     ]
    },
    {
     "name": "stderr",
     "output_type": "stream",
     "text": [
      " 15%|█▌        | 26/173 [00:00<00:01, 121.13it/s]\n",
      " 23%|██▎       | 39/173 [00:00<00:01, 123.32it/s]\n",
      " 30%|███       | 52/173 [00:00<00:00, 123.11it/s]\n",
      " 38%|███▊      | 65/173 [00:00<00:00, 123.39it/s]\n",
      " 45%|████▌     | 78/173 [00:00<00:00, 123.50it/s]\n",
      " 53%|█████▎    | 91/173 [00:00<00:00, 124.80it/s]\n",
      " 60%|██████    | 104/173 [00:00<00:00, 123.26it/s]\n",
      " 68%|██████▊   | 117/173 [00:00<00:00, 124.15it/s]\n",
      " 75%|███████▌  | 130/173 [00:01<00:00, 124.51it/s]\n",
      " 83%|████████▎ | 143/173 [00:01<00:00, 125.02it/s]\n",
      " 90%|█████████ | 156/173 [00:01<00:00, 120.98it/s]\n",
      "100%|██████████| 173/173 [00:01<00:00, 121.97it/s]\n",
      "  0%|          | 0/50 [00:00<?, ?it/s]\n",
      "100%|██████████| 50/50 [00:00<00:00, 318.53it/s]\n",
      "  0%|          | 0/173 [00:00<?, ?it/s]\n",
      "  8%|▊         | 13/173 [00:00<00:01, 121.79it/s]\n",
      " 15%|█▌        | 26/173 [00:00<00:01, 124.16it/s]\n"
     ]
    },
    {
     "name": "stdout",
     "output_type": "stream",
     "text": [
      "\u001b[2m\u001b[36m(func pid=19104)\u001b[0m \n",
      "\u001b[2m\u001b[36m(func pid=19104)\u001b[0m Epoch 143\n"
     ]
    },
    {
     "name": "stderr",
     "output_type": "stream",
     "text": [
      " 23%|██▎       | 39/173 [00:00<00:01, 125.18it/s]\n",
      " 30%|███       | 52/173 [00:00<00:00, 123.81it/s]\n",
      " 38%|███▊      | 65/173 [00:00<00:00, 122.89it/s]\n",
      " 45%|████▌     | 78/173 [00:00<00:00, 122.11it/s]\n",
      " 53%|█████▎    | 91/173 [00:00<00:00, 122.59it/s]\n",
      " 60%|██████    | 104/173 [00:00<00:00, 122.98it/s]\n",
      " 68%|██████▊   | 117/173 [00:00<00:00, 123.79it/s]\n",
      " 75%|███████▌  | 130/173 [00:01<00:00, 122.15it/s]\n",
      " 83%|████████▎ | 143/173 [00:01<00:00, 123.18it/s]\n",
      " 90%|█████████ | 156/173 [00:01<00:00, 123.58it/s]\n",
      "100%|██████████| 173/173 [00:01<00:00, 122.96it/s]\n",
      "  0%|          | 0/50 [00:00<?, ?it/s]\n",
      " 62%|██████▏   | 31/50 [00:00<00:00, 306.62it/s]\n",
      "100%|██████████| 50/50 [00:00<00:00, 312.23it/s]\n",
      "  0%|          | 0/173 [00:00<?, ?it/s]\n",
      "  7%|▋         | 12/173 [00:00<00:01, 113.23it/s]\n"
     ]
    },
    {
     "name": "stdout",
     "output_type": "stream",
     "text": [
      "\u001b[2m\u001b[36m(func pid=19104)\u001b[0m \n",
      "\u001b[2m\u001b[36m(func pid=19104)\u001b[0m Epoch 144\n"
     ]
    },
    {
     "name": "stderr",
     "output_type": "stream",
     "text": [
      " 14%|█▍        | 25/173 [00:00<00:01, 119.18it/s]\n",
      " 22%|██▏       | 38/173 [00:00<00:01, 120.91it/s]\n",
      " 29%|██▉       | 51/173 [00:00<00:01, 121.17it/s]\n",
      " 37%|███▋      | 64/173 [00:00<00:00, 120.83it/s]\n",
      " 45%|████▍     | 77/173 [00:00<00:00, 120.27it/s]\n",
      " 52%|█████▏    | 90/173 [00:00<00:00, 120.79it/s]\n",
      " 60%|█████▉    | 103/173 [00:00<00:00, 120.13it/s]\n",
      " 67%|██████▋   | 116/173 [00:00<00:00, 119.66it/s]\n",
      " 75%|███████▍  | 129/173 [00:01<00:00, 120.88it/s]\n",
      " 82%|████████▏ | 142/173 [00:01<00:00, 119.64it/s]\n",
      " 90%|████████▉ | 155/173 [00:01<00:00, 120.06it/s]\n",
      "100%|██████████| 173/173 [00:01<00:00, 120.07it/s]\n",
      "  0%|          | 0/50 [00:00<?, ?it/s]\n",
      " 58%|█████▊    | 29/50 [00:00<00:00, 284.32it/s]\n",
      "100%|██████████| 50/50 [00:00<00:00, 276.94it/s]\n",
      "  0%|          | 0/173 [00:00<?, ?it/s]\n",
      "  7%|▋         | 12/173 [00:00<00:01, 118.79it/s]\n"
     ]
    },
    {
     "name": "stdout",
     "output_type": "stream",
     "text": [
      "\u001b[2m\u001b[36m(func pid=19104)\u001b[0m \n",
      "\u001b[2m\u001b[36m(func pid=19104)\u001b[0m Epoch 145\n"
     ]
    },
    {
     "name": "stderr",
     "output_type": "stream",
     "text": [
      " 14%|█▍        | 24/173 [00:00<00:01, 119.16it/s]\n",
      " 21%|██        | 36/173 [00:00<00:01, 116.75it/s]\n",
      " 28%|██▊       | 48/173 [00:00<00:01, 117.57it/s]\n",
      " 35%|███▍      | 60/173 [00:00<00:00, 117.87it/s]\n",
      " 42%|████▏     | 73/173 [00:00<00:00, 119.60it/s]\n",
      " 49%|████▉     | 85/173 [00:00<00:00, 119.02it/s]\n",
      " 56%|█████▌    | 97/173 [00:00<00:00, 113.64it/s]\n",
      " 63%|██████▎   | 109/173 [00:00<00:00, 113.07it/s]\n",
      " 70%|██████▉   | 121/173 [00:01<00:00, 111.48it/s]\n",
      " 77%|███████▋  | 133/173 [00:01<00:00, 111.92it/s]\n",
      " 84%|████████▍ | 145/173 [00:01<00:00, 113.43it/s]\n",
      " 91%|█████████ | 157/173 [00:01<00:00, 113.38it/s]\n",
      "100%|██████████| 173/173 [00:01<00:00, 115.16it/s]\n",
      "  0%|          | 0/50 [00:00<?, ?it/s]\n",
      " 14%|█▍        | 7/50 [00:00<00:00, 67.85it/s]\n",
      "100%|██████████| 50/50 [00:00<00:00, 201.80it/s]\n",
      "  0%|          | 0/173 [00:00<?, ?it/s]\n"
     ]
    },
    {
     "name": "stdout",
     "output_type": "stream",
     "text": [
      "\u001b[2m\u001b[36m(func pid=19104)\u001b[0m Epoch 00145: reducing learning rate of group 0 to 2.2241e-08.\n",
      "\u001b[2m\u001b[36m(func pid=19104)\u001b[0m \n",
      "\u001b[2m\u001b[36m(func pid=19104)\u001b[0m Epoch 146\n"
     ]
    },
    {
     "name": "stderr",
     "output_type": "stream",
     "text": [
      "  8%|▊         | 13/173 [00:00<00:01, 121.56it/s]\n",
      " 15%|█▌        | 26/173 [00:00<00:01, 114.67it/s]\n",
      " 22%|██▏       | 38/173 [00:00<00:01, 116.91it/s]\n",
      " 29%|██▉       | 50/173 [00:00<00:01, 116.87it/s]\n",
      " 36%|███▋      | 63/173 [00:00<00:00, 118.39it/s]\n",
      " 44%|████▍     | 76/173 [00:00<00:00, 119.53it/s]\n",
      " 51%|█████     | 88/173 [00:00<00:00, 117.11it/s]\n",
      " 58%|█████▊    | 101/173 [00:00<00:00, 118.37it/s]\n",
      " 65%|██████▌   | 113/173 [00:00<00:00, 117.81it/s]\n",
      " 73%|███████▎  | 126/173 [00:01<00:00, 119.35it/s]\n",
      " 80%|████████  | 139/173 [00:01<00:00, 119.70it/s]\n",
      " 87%|████████▋ | 151/173 [00:01<00:00, 119.26it/s]\n",
      " 94%|█████████▍| 163/173 [00:01<00:00, 117.24it/s]\n",
      "100%|██████████| 173/173 [00:01<00:00, 117.81it/s]\n",
      "  0%|          | 0/50 [00:00<?, ?it/s]\n",
      " 62%|██████▏   | 31/50 [00:00<00:00, 308.03it/s]\n",
      "100%|██████████| 50/50 [00:00<00:00, 310.32it/s]\n",
      "  0%|          | 0/173 [00:00<?, ?it/s]\n",
      "  7%|▋         | 12/173 [00:00<00:01, 114.34it/s]\n"
     ]
    },
    {
     "name": "stdout",
     "output_type": "stream",
     "text": [
      "\u001b[2m\u001b[36m(func pid=19104)\u001b[0m \n",
      "\u001b[2m\u001b[36m(func pid=19104)\u001b[0m Epoch 147\n"
     ]
    },
    {
     "name": "stderr",
     "output_type": "stream",
     "text": [
      " 14%|█▍        | 24/173 [00:00<00:01, 116.28it/s]\n",
      " 21%|██▏       | 37/173 [00:00<00:01, 118.31it/s]\n",
      " 28%|██▊       | 49/173 [00:00<00:01, 118.61it/s]\n",
      " 36%|███▌      | 62/173 [00:00<00:00, 117.08it/s]\n",
      " 43%|████▎     | 75/173 [00:00<00:00, 120.06it/s]\n",
      " 51%|█████     | 88/173 [00:00<00:00, 120.50it/s]\n",
      " 58%|█████▊    | 101/173 [00:00<00:00, 119.79it/s]\n",
      " 65%|██████▌   | 113/173 [00:00<00:00, 119.78it/s]\n",
      " 72%|███████▏  | 125/173 [00:01<00:00, 119.57it/s]\n",
      " 79%|███████▉  | 137/173 [00:01<00:00, 119.62it/s]\n",
      " 87%|████████▋ | 150/173 [00:01<00:00, 120.13it/s]\n",
      "  0%|          | 0/50 [00:00<?, ?it/s]\n",
      " 50%|█████     | 25/50 [00:00<00:00, 240.93it/s]\n",
      "100%|██████████| 50/50 [00:00<00:00, 266.15it/s]\n",
      "  0%|          | 0/173 [00:00<?, ?it/s]\n",
      "  7%|▋         | 12/173 [00:00<00:01, 117.79it/s]\n"
     ]
    },
    {
     "name": "stdout",
     "output_type": "stream",
     "text": [
      "\u001b[2m\u001b[36m(func pid=19104)\u001b[0m \n",
      "\u001b[2m\u001b[36m(func pid=19104)\u001b[0m Epoch 148\n"
     ]
    },
    {
     "name": "stderr",
     "output_type": "stream",
     "text": [
      " 14%|█▍        | 25/173 [00:00<00:01, 119.77it/s]\n",
      " 21%|██▏       | 37/173 [00:00<00:01, 119.24it/s]\n",
      " 28%|██▊       | 49/173 [00:00<00:01, 117.43it/s]\n",
      " 35%|███▌      | 61/173 [00:00<00:00, 117.57it/s]\n",
      " 42%|████▏     | 73/173 [00:00<00:00, 114.49it/s]\n",
      " 50%|████▉     | 86/173 [00:00<00:00, 116.47it/s]\n",
      " 57%|█████▋    | 99/173 [00:00<00:00, 117.30it/s]\n",
      " 64%|██████▍   | 111/173 [00:00<00:00, 118.05it/s]\n",
      " 72%|███████▏  | 124/173 [00:01<00:00, 119.31it/s]\n",
      " 79%|███████▊  | 136/173 [00:01<00:00, 119.49it/s]\n",
      " 86%|████████▌ | 148/173 [00:01<00:00, 119.31it/s]\n",
      " 93%|█████████▎| 161/173 [00:01<00:00, 120.34it/s]\n",
      "100%|██████████| 173/173 [00:01<00:00, 118.67it/s]\n",
      "  0%|          | 0/50 [00:00<?, ?it/s]\n",
      " 64%|██████▍   | 32/50 [00:00<00:00, 313.89it/s]\n",
      "100%|██████████| 50/50 [00:00<00:00, 314.64it/s]\n",
      "  0%|          | 0/173 [00:00<?, ?it/s]\n",
      "  7%|▋         | 12/173 [00:00<00:01, 119.93it/s]\n"
     ]
    },
    {
     "name": "stdout",
     "output_type": "stream",
     "text": [
      "\u001b[2m\u001b[36m(func pid=19104)\u001b[0m \n",
      "\u001b[2m\u001b[36m(func pid=19104)\u001b[0m Epoch 149\n"
     ]
    },
    {
     "name": "stderr",
     "output_type": "stream",
     "text": [
      " 14%|█▍        | 25/173 [00:00<00:01, 120.87it/s]\n",
      " 22%|██▏       | 38/173 [00:00<00:01, 120.67it/s]\n",
      " 29%|██▉       | 51/173 [00:00<00:01, 120.60it/s]\n",
      " 37%|███▋      | 64/173 [00:00<00:00, 119.64it/s]\n",
      " 45%|████▍     | 77/173 [00:00<00:00, 120.31it/s]\n",
      " 52%|█████▏    | 90/173 [00:00<00:00, 121.44it/s]\n",
      " 60%|█████▉    | 103/173 [00:00<00:00, 121.16it/s]\n",
      " 67%|██████▋   | 116/173 [00:00<00:00, 118.08it/s]\n",
      " 74%|███████▍  | 128/173 [00:01<00:00, 117.22it/s]\n",
      " 81%|████████  | 140/173 [00:01<00:00, 116.01it/s]\n",
      " 88%|████████▊ | 152/173 [00:01<00:00, 115.51it/s]\n",
      " 95%|█████████▌| 165/173 [00:01<00:00, 117.36it/s]\n",
      "100%|██████████| 173/173 [00:01<00:00, 118.48it/s]\n",
      "  0%|          | 0/50 [00:00<?, ?it/s]\n",
      " 62%|██████▏   | 31/50 [00:00<00:00, 305.02it/s]\n",
      "100%|██████████| 50/50 [00:00<00:00, 309.71it/s]\n",
      "  0%|          | 0/173 [00:00<?, ?it/s]\n",
      "  7%|▋         | 12/173 [00:00<00:01, 116.60it/s]\n"
     ]
    },
    {
     "name": "stdout",
     "output_type": "stream",
     "text": [
      "\u001b[2m\u001b[36m(func pid=19104)\u001b[0m \n",
      "\u001b[2m\u001b[36m(func pid=19104)\u001b[0m Epoch 150\n"
     ]
    },
    {
     "name": "stderr",
     "output_type": "stream",
     "text": [
      " 14%|█▍        | 25/173 [00:00<00:01, 119.43it/s]\n",
      " 21%|██▏       | 37/173 [00:00<00:01, 117.65it/s]\n",
      " 29%|██▉       | 50/173 [00:00<00:01, 120.04it/s]\n",
      " 36%|███▋      | 63/173 [00:00<00:00, 120.52it/s]\n",
      " 44%|████▍     | 76/173 [00:00<00:00, 120.13it/s]\n",
      " 51%|█████▏    | 89/173 [00:00<00:00, 115.97it/s]\n",
      " 58%|█████▊    | 101/173 [00:00<00:00, 115.12it/s]\n",
      " 65%|██████▌   | 113/173 [00:00<00:00, 114.21it/s]\n",
      " 72%|███████▏  | 125/173 [00:01<00:00, 115.77it/s]\n",
      " 80%|███████▉  | 138/173 [00:01<00:00, 117.29it/s]\n",
      " 87%|████████▋ | 150/173 [00:01<00:00, 115.11it/s]\n",
      "100%|██████████| 173/173 [00:01<00:00, 111.02it/s]\n",
      "  0%|          | 0/50 [00:00<?, ?it/s]\n",
      " 58%|█████▊    | 29/50 [00:00<00:00, 284.51it/s]\n",
      "100%|██████████| 50/50 [00:00<00:00, 274.87it/s]\n",
      "  0%|          | 0/25 [00:00<?, ?it/s]\n",
      "100%|██████████| 25/25 [00:00<00:00, 282.97it/s]\n"
     ]
    },
    {
     "name": "stdout",
     "output_type": "stream",
     "text": [
      "\u001b[2m\u001b[36m(func pid=19104)\u001b[0m \n",
      "\u001b[2m\u001b[36m(func pid=19104)\u001b[0m Evaluating the model:\n",
      "\u001b[2m\u001b[36m(func pid=19104)\u001b[0m test loss: 0.2757241191933915\n"
     ]
    },
    {
     "name": "stderr",
     "output_type": "stream",
     "text": [
      "2023-03-24 17:51:51,847\tERROR trial_runner.py:1088 -- Trial train_model_0a8f8_00001: Error processing event.\n",
      "ray.exceptions.RayTaskError(RuntimeError): \u001b[36mray::ImplicitFunc.train()\u001b[39m (pid=19104, ip=127.0.0.1, repr=func)\n",
      "  File \"python\\ray\\_raylet.pyx\", line 830, in ray._raylet.execute_task\n",
      "  File \"python\\ray\\_raylet.pyx\", line 834, in ray._raylet.execute_task\n",
      "  File \"python\\ray\\_raylet.pyx\", line 780, in ray._raylet.execute_task.function_executor\n",
      "  File \"c:\\Code\\hydro-ml\\my_env\\lib\\site-packages\\ray\\_private\\function_manager.py\", line 674, in actor_method_executor\n",
      "    return method(__ray_actor, *args, **kwargs)\n",
      "  File \"c:\\Code\\hydro-ml\\my_env\\lib\\site-packages\\ray\\util\\tracing\\tracing_helper.py\", line 466, in _resume_span\n",
      "    return method(self, *_args, **_kwargs)\n",
      "  File \"c:\\Code\\hydro-ml\\my_env\\lib\\site-packages\\ray\\tune\\trainable\\trainable.py\", line 367, in train\n",
      "    raise skipped from exception_cause(skipped)\n",
      "  File \"c:\\Code\\hydro-ml\\my_env\\lib\\site-packages\\ray\\tune\\trainable\\function_trainable.py\", line 338, in entrypoint\n",
      "    self._status_reporter.get_checkpoint(),\n",
      "  File \"c:\\Code\\hydro-ml\\my_env\\lib\\site-packages\\ray\\util\\tracing\\tracing_helper.py\", line 466, in _resume_span\n",
      "    return method(self, *_args, **_kwargs)\n",
      "  File \"c:\\Code\\hydro-ml\\my_env\\lib\\site-packages\\ray\\tune\\trainable\\function_trainable.py\", line 652, in _trainable_func\n",
      "    output = fn()\n",
      "  File \"C:\\Users\\magnu\\AppData\\Local\\Temp\\ipykernel_13080\\3814535183.py\", line 128, in train_model\n",
      "  File \"c:\\Code\\hydro-ml\\my_env\\lib\\site-packages\\torch\\serialization.py\", line 422, in save\n",
      "    with _open_zipfile_writer(f) as opened_zipfile:\n",
      "  File \"c:\\Code\\hydro-ml\\my_env\\lib\\site-packages\\torch\\serialization.py\", line 309, in _open_zipfile_writer\n",
      "    return container(name_or_buffer)\n",
      "  File \"c:\\Code\\hydro-ml\\my_env\\lib\\site-packages\\torch\\serialization.py\", line 287, in __init__\n",
      "    super(_open_zipfile_writer_file, self).__init__(torch._C.PyTorchFileWriter(str(name)))\n",
      "RuntimeError: File c:\\Code\\hydro-ml\\./model_weights/Test_of_interface_0/mlflow_experiment_id-0_target_variable-Q_Kalltveit_arch-LSTMTemporalAttention_sequence_length-25_num_epochs-150_num_layers-4_lr-0.005830437733650511_weigth_decay-0.001_batch_size-256_hidden_size-64_variables-None.pth cannot be opened.\n",
      "  0%|          | 0/87 [00:00<?, ?it/s]\n"
     ]
    },
    {
     "name": "stdout",
     "output_type": "stream",
     "text": [
      "\u001b[2m\u001b[36m(func pid=21228)\u001b[0m \n",
      "\u001b[2m\u001b[36m(func pid=21228)\u001b[0m Epoch 1\n"
     ]
    },
    {
     "name": "stderr",
     "output_type": "stream",
     "text": [
      "  1%|          | 1/87 [00:00<00:23,  3.61it/s]\n",
      " 13%|█▎        | 11/87 [00:00<00:02, 35.68it/s]\n",
      " 25%|██▌       | 22/87 [00:00<00:01, 58.35it/s]\n",
      " 39%|███▉      | 34/87 [00:00<00:00, 75.90it/s]\n",
      " 53%|█████▎    | 46/87 [00:00<00:00, 88.42it/s]\n",
      " 67%|██████▋   | 58/87 [00:00<00:00, 97.05it/s]\n",
      " 80%|████████  | 20/25 [00:00<00:00, 197.61it/s]\n",
      "100%|██████████| 25/25 [00:00<00:00, 124.27it/s]\n",
      "  0%|          | 0/87 [00:00<?, ?it/s]\n",
      " 13%|█▎        | 11/87 [00:00<00:00, 107.47it/s]\n"
     ]
    },
    {
     "name": "stdout",
     "output_type": "stream",
     "text": [
      "\u001b[2m\u001b[36m(func pid=21228)\u001b[0m \n",
      "\u001b[2m\u001b[36m(func pid=21228)\u001b[0m Epoch 2\n"
     ]
    },
    {
     "name": "stderr",
     "output_type": "stream",
     "text": [
      " 26%|██▋       | 23/87 [00:00<00:00, 110.18it/s]\n",
      " 40%|████      | 35/87 [00:00<00:00, 110.39it/s]\n",
      " 54%|█████▍    | 47/87 [00:00<00:00, 111.03it/s]\n",
      " 68%|██████▊   | 59/87 [00:00<00:00, 111.76it/s]\n",
      " 82%|████████▏ | 71/87 [00:00<00:00, 110.25it/s]\n",
      "100%|██████████| 87/87 [00:00<00:00, 108.48it/s]\n",
      "  0%|          | 0/25 [00:00<?, ?it/s]\n",
      " 64%|██████▍   | 16/25 [00:00<00:00, 156.80it/s]\n",
      "100%|██████████| 25/25 [00:00<00:00, 156.30it/s]\n",
      "  0%|          | 0/87 [00:00<?, ?it/s]\n"
     ]
    },
    {
     "name": "stdout",
     "output_type": "stream",
     "text": [
      "\u001b[2m\u001b[36m(func pid=21228)\u001b[0m \n",
      "\u001b[2m\u001b[36m(func pid=21228)\u001b[0m Epoch 3\n"
     ]
    },
    {
     "name": "stderr",
     "output_type": "stream",
     "text": [
      " 13%|█▎        | 11/87 [00:00<00:00, 105.81it/s]\n",
      " 25%|██▌       | 22/87 [00:00<00:00, 103.66it/s]\n",
      " 38%|███▊      | 33/87 [00:00<00:00, 104.63it/s]\n",
      " 52%|█████▏    | 45/87 [00:00<00:00, 107.01it/s]\n",
      " 64%|██████▍   | 56/87 [00:00<00:00, 107.71it/s]\n",
      " 78%|███████▊  | 68/87 [00:00<00:00, 110.28it/s]\n",
      " 92%|█████████▏| 80/87 [00:00<00:00, 110.87it/s]\n",
      "100%|██████████| 87/87 [00:00<00:00, 109.32it/s]\n",
      "  0%|          | 0/25 [00:00<?, ?it/s]\n",
      "100%|██████████| 25/25 [00:00<00:00, 213.68it/s]\n",
      "  0%|          | 0/87 [00:00<?, ?it/s]\n"
     ]
    },
    {
     "name": "stdout",
     "output_type": "stream",
     "text": [
      "\u001b[2m\u001b[36m(func pid=21228)\u001b[0m \n",
      "\u001b[2m\u001b[36m(func pid=21228)\u001b[0m Epoch 4\n"
     ]
    },
    {
     "name": "stderr",
     "output_type": "stream",
     "text": [
      " 14%|█▍        | 12/87 [00:00<00:00, 111.98it/s]\n",
      " 28%|██▊       | 24/87 [00:00<00:00, 114.06it/s]\n",
      " 41%|████▏     | 36/87 [00:00<00:00, 113.61it/s]\n",
      " 56%|█████▋    | 49/87 [00:00<00:00, 115.39it/s]\n",
      " 70%|███████   | 61/87 [00:00<00:00, 115.13it/s]\n",
      " 84%|████████▍ | 73/87 [00:00<00:00, 115.86it/s]\n",
      " 98%|█████████▊| 85/87 [00:00<00:00, 114.69it/s]\n",
      "100%|██████████| 87/87 [00:00<00:00, 114.76it/s]\n",
      "  0%|          | 0/25 [00:00<?, ?it/s]\n",
      " 44%|████▍     | 11/25 [00:00<00:00, 84.33it/s]\n",
      "100%|██████████| 25/25 [00:00<00:00, 126.45it/s]\n",
      "  0%|          | 0/87 [00:00<?, ?it/s]\n",
      " 14%|█▍        | 12/87 [00:00<00:00, 112.28it/s]\n"
     ]
    },
    {
     "name": "stdout",
     "output_type": "stream",
     "text": [
      "\u001b[2m\u001b[36m(func pid=21228)\u001b[0m \n",
      "\u001b[2m\u001b[36m(func pid=21228)\u001b[0m Epoch 5\n"
     ]
    },
    {
     "name": "stderr",
     "output_type": "stream",
     "text": [
      " 28%|██▊       | 24/87 [00:00<00:00, 115.36it/s]\n",
      " 41%|████▏     | 36/87 [00:00<00:00, 114.68it/s]\n",
      " 55%|█████▌    | 48/87 [00:00<00:00, 114.20it/s]\n",
      " 69%|██████▉   | 60/87 [00:00<00:00, 113.86it/s]\n",
      "  0%|          | 0/25 [00:00<?, ?it/s]\n",
      "100%|██████████| 25/25 [00:00<00:00, 193.74it/s]\n",
      "  0%|          | 0/87 [00:00<?, ?it/s]\n"
     ]
    },
    {
     "name": "stdout",
     "output_type": "stream",
     "text": [
      "\u001b[2m\u001b[36m(func pid=21228)\u001b[0m \n",
      "\u001b[2m\u001b[36m(func pid=21228)\u001b[0m Epoch 6\n"
     ]
    },
    {
     "name": "stderr",
     "output_type": "stream",
     "text": [
      " 14%|█▍        | 12/87 [00:00<00:00, 111.83it/s]\n",
      " 28%|██▊       | 24/87 [00:00<00:00, 114.27it/s]\n",
      " 41%|████▏     | 36/87 [00:00<00:00, 110.23it/s]\n",
      " 55%|█████▌    | 48/87 [00:00<00:00, 109.73it/s]\n",
      " 69%|██████▉   | 60/87 [00:00<00:00, 111.35it/s]\n",
      " 83%|████████▎ | 72/87 [00:00<00:00, 109.82it/s]\n",
      "  0%|          | 0/25 [00:00<?, ?it/s]\n",
      "100%|██████████| 25/25 [00:00<00:00, 194.08it/s]\n",
      "  0%|          | 0/87 [00:00<?, ?it/s]\n",
      " 13%|█▎        | 11/87 [00:00<00:00, 106.17it/s]\n",
      " 26%|██▋       | 23/87 [00:00<00:00, 111.27it/s]\n"
     ]
    },
    {
     "name": "stdout",
     "output_type": "stream",
     "text": [
      "\u001b[2m\u001b[36m(func pid=21228)\u001b[0m \n",
      "\u001b[2m\u001b[36m(func pid=21228)\u001b[0m Epoch 7\n"
     ]
    },
    {
     "name": "stderr",
     "output_type": "stream",
     "text": [
      " 40%|████      | 35/87 [00:00<00:00, 115.09it/s]\n",
      " 54%|█████▍    | 47/87 [00:00<00:00, 114.41it/s]\n",
      " 68%|██████▊   | 59/87 [00:00<00:00, 111.78it/s]\n",
      " 83%|████████▎ | 72/87 [00:00<00:00, 114.97it/s]\n",
      " 97%|█████████▋| 84/87 [00:00<00:00, 113.63it/s]\n",
      "100%|██████████| 87/87 [00:00<00:00, 113.70it/s]\n",
      "  0%|          | 0/25 [00:00<?, ?it/s]\n",
      " 64%|██████▍   | 16/25 [00:00<00:00, 102.58it/s]\n",
      "100%|██████████| 25/25 [00:00<00:00, 125.06it/s]\n",
      "  0%|          | 0/87 [00:00<?, ?it/s]\n",
      " 10%|█         | 9/87 [00:00<00:00, 90.00it/s]\n"
     ]
    },
    {
     "name": "stdout",
     "output_type": "stream",
     "text": [
      "\u001b[2m\u001b[36m(func pid=21228)\u001b[0m \n",
      "\u001b[2m\u001b[36m(func pid=21228)\u001b[0m Epoch 8\n"
     ]
    },
    {
     "name": "stderr",
     "output_type": "stream",
     "text": [
      " 23%|██▎       | 20/87 [00:00<00:00, 101.68it/s]\n",
      " 37%|███▋      | 32/87 [00:00<00:00, 108.90it/s]\n",
      " 49%|████▉     | 43/87 [00:00<00:00, 107.68it/s]\n",
      " 63%|██████▎   | 55/87 [00:00<00:00, 111.66it/s]\n",
      " 77%|███████▋  | 67/87 [00:00<00:00, 110.43it/s]\n",
      " 91%|█████████ | 79/87 [00:00<00:00, 110.98it/s]\n",
      "100%|██████████| 87/87 [00:00<00:00, 109.25it/s]\n",
      "  0%|          | 0/25 [00:00<?, ?it/s]\n",
      "100%|██████████| 25/25 [00:00<00:00, 200.16it/s]\n",
      "  0%|          | 0/87 [00:00<?, ?it/s]\n",
      " 13%|█▎        | 11/87 [00:00<00:00, 106.99it/s]\n"
     ]
    },
    {
     "name": "stdout",
     "output_type": "stream",
     "text": [
      "\u001b[2m\u001b[36m(func pid=21228)\u001b[0m \n",
      "\u001b[2m\u001b[36m(func pid=21228)\u001b[0m Epoch 9\n"
     ]
    },
    {
     "name": "stderr",
     "output_type": "stream",
     "text": [
      " 39%|███▉      | 34/87 [00:00<00:00, 108.71it/s]\n",
      " 52%|█████▏    | 45/87 [00:00<00:00, 107.96it/s]\n",
      " 66%|██████▌   | 57/87 [00:00<00:00, 108.39it/s]\n",
      " 79%|███████▉  | 69/87 [00:00<00:00, 110.34it/s]\n",
      " 93%|█████████▎| 81/87 [00:00<00:00, 110.66it/s]\n",
      "100%|██████████| 87/87 [00:00<00:00, 109.74it/s]\n",
      "  0%|          | 0/25 [00:00<?, ?it/s]\n",
      "100%|██████████| 25/25 [00:00<00:00, 205.08it/s]\n",
      "  0%|          | 0/87 [00:00<?, ?it/s]\n",
      " 13%|█▎        | 11/87 [00:00<00:00, 108.91it/s]\n"
     ]
    },
    {
     "name": "stdout",
     "output_type": "stream",
     "text": [
      "\u001b[2m\u001b[36m(func pid=21228)\u001b[0m \n",
      "\u001b[2m\u001b[36m(func pid=21228)\u001b[0m Epoch 10\n"
     ]
    },
    {
     "name": "stderr",
     "output_type": "stream",
     "text": [
      " 26%|██▋       | 23/87 [00:00<00:00, 112.69it/s]\n",
      " 40%|████      | 35/87 [00:00<00:00, 111.24it/s]\n",
      " 54%|█████▍    | 47/87 [00:00<00:00, 109.56it/s]\n",
      " 68%|██████▊   | 59/87 [00:00<00:00, 109.42it/s]\n",
      " 82%|████████▏ | 71/87 [00:00<00:00, 110.12it/s]\n",
      "  0%|          | 0/25 [00:00<?, ?it/s]\n",
      " 60%|██████    | 15/25 [00:00<00:00, 96.57it/s]\n",
      "100%|██████████| 25/25 [00:00<00:00, 121.83it/s]\n",
      "  0%|          | 0/87 [00:00<?, ?it/s]\n",
      " 14%|█▍        | 12/87 [00:00<00:00, 111.20it/s]\n"
     ]
    },
    {
     "name": "stdout",
     "output_type": "stream",
     "text": [
      "\u001b[2m\u001b[36m(func pid=21228)\u001b[0m \n",
      "\u001b[2m\u001b[36m(func pid=21228)\u001b[0m Epoch 11\n"
     ]
    },
    {
     "name": "stderr",
     "output_type": "stream",
     "text": [
      " 28%|██▊       | 24/87 [00:00<00:00, 115.27it/s]\n",
      " 41%|████▏     | 36/87 [00:00<00:00, 115.54it/s]\n",
      " 55%|█████▌    | 48/87 [00:00<00:00, 114.18it/s]\n",
      " 69%|██████▉   | 60/87 [00:00<00:00, 115.85it/s]\n",
      "100%|██████████| 87/87 [00:00<00:00, 116.25it/s]\n",
      "  0%|          | 0/25 [00:00<?, ?it/s]\n",
      " 72%|███████▏  | 18/25 [00:00<00:00, 176.10it/s]\n",
      "100%|██████████| 25/25 [00:00<00:00, 177.34it/s]\n",
      "  0%|          | 0/87 [00:00<?, ?it/s]\n",
      " 14%|█▍        | 12/87 [00:00<00:00, 115.98it/s]\n"
     ]
    },
    {
     "name": "stdout",
     "output_type": "stream",
     "text": [
      "\u001b[2m\u001b[36m(func pid=21228)\u001b[0m \n",
      "\u001b[2m\u001b[36m(func pid=21228)\u001b[0m Epoch 12\n"
     ]
    },
    {
     "name": "stderr",
     "output_type": "stream",
     "text": [
      " 28%|██▊       | 24/87 [00:00<00:00, 114.93it/s]\n",
      " 41%|████▏     | 36/87 [00:00<00:00, 115.45it/s]\n",
      " 55%|█████▌    | 48/87 [00:00<00:00, 115.87it/s]\n",
      " 69%|██████▉   | 60/87 [00:00<00:00, 116.11it/s]\n",
      " 83%|████████▎ | 72/87 [00:00<00:00, 116.15it/s]\n",
      "100%|██████████| 87/87 [00:00<00:00, 116.62it/s]\n",
      "  0%|          | 0/25 [00:00<?, ?it/s]\n",
      "100%|██████████| 25/25 [00:00<00:00, 216.17it/s]\n",
      "  0%|          | 0/87 [00:00<?, ?it/s]\n",
      " 14%|█▍        | 12/87 [00:00<00:00, 114.18it/s]\n"
     ]
    },
    {
     "name": "stdout",
     "output_type": "stream",
     "text": [
      "\u001b[2m\u001b[36m(func pid=21228)\u001b[0m \n",
      "\u001b[2m\u001b[36m(func pid=21228)\u001b[0m Epoch 13\n"
     ]
    },
    {
     "name": "stderr",
     "output_type": "stream",
     "text": [
      " 28%|██▊       | 24/87 [00:00<00:00, 116.19it/s]\n",
      " 41%|████▏     | 36/87 [00:00<00:00, 115.71it/s]\n",
      " 55%|█████▌    | 48/87 [00:00<00:00, 116.13it/s]\n",
      " 69%|██████▉   | 60/87 [00:00<00:00, 116.28it/s]\n",
      " 83%|████████▎ | 72/87 [00:00<00:00, 116.25it/s]\n",
      "100%|██████████| 87/87 [00:00<00:00, 116.99it/s]\n",
      "  0%|          | 0/25 [00:00<?, ?it/s]\n",
      " 32%|███▏      | 8/25 [00:00<00:00, 70.25it/s]\n",
      "100%|██████████| 25/25 [00:00<00:00, 128.24it/s]\n",
      "  0%|          | 0/87 [00:00<?, ?it/s]\n",
      " 14%|█▍        | 12/87 [00:00<00:00, 114.59it/s]\n"
     ]
    },
    {
     "name": "stdout",
     "output_type": "stream",
     "text": [
      "\u001b[2m\u001b[36m(func pid=21228)\u001b[0m \n",
      "\u001b[2m\u001b[36m(func pid=21228)\u001b[0m Epoch 14\n"
     ]
    },
    {
     "name": "stderr",
     "output_type": "stream",
     "text": [
      " 28%|██▊       | 24/87 [00:00<00:00, 113.74it/s]\n",
      " 41%|████▏     | 36/87 [00:00<00:00, 114.46it/s]\n",
      " 55%|█████▌    | 48/87 [00:00<00:00, 113.99it/s]\n",
      " 69%|██████▉   | 60/87 [00:00<00:00, 114.13it/s]\n",
      " 83%|████████▎ | 72/87 [00:00<00:00, 114.30it/s]\n",
      "100%|██████████| 87/87 [00:00<00:00, 114.53it/s]\n",
      "  0%|          | 0/25 [00:00<?, ?it/s]\n",
      " 88%|████████▊ | 22/25 [00:00<00:00, 211.75it/s]\n",
      "100%|██████████| 25/25 [00:00<00:00, 212.30it/s]\n",
      "  0%|          | 0/87 [00:00<?, ?it/s]\n",
      " 14%|█▍        | 12/87 [00:00<00:00, 114.03it/s]\n"
     ]
    },
    {
     "name": "stdout",
     "output_type": "stream",
     "text": [
      "\u001b[2m\u001b[36m(func pid=21228)\u001b[0m \n",
      "\u001b[2m\u001b[36m(func pid=21228)\u001b[0m Epoch 15\n"
     ]
    },
    {
     "name": "stderr",
     "output_type": "stream",
     "text": [
      " 28%|██▊       | 24/87 [00:00<00:00, 116.51it/s]\n",
      " 43%|████▎     | 37/87 [00:00<00:00, 118.34it/s]\n",
      " 56%|█████▋    | 49/87 [00:00<00:00, 118.30it/s]\n",
      " 71%|███████▏  | 62/87 [00:00<00:00, 118.66it/s]\n",
      "100%|██████████| 87/87 [00:00<00:00, 118.33it/s]\n",
      "  0%|          | 0/25 [00:00<?, ?it/s]\n",
      "100%|██████████| 25/25 [00:00<00:00, 204.83it/s]\n",
      "  0%|          | 0/87 [00:00<?, ?it/s]\n",
      " 14%|█▍        | 12/87 [00:00<00:00, 116.76it/s]\n"
     ]
    },
    {
     "name": "stdout",
     "output_type": "stream",
     "text": [
      "\u001b[2m\u001b[36m(func pid=21228)\u001b[0m \n",
      "\u001b[2m\u001b[36m(func pid=21228)\u001b[0m Epoch 16\n"
     ]
    },
    {
     "name": "stderr",
     "output_type": "stream",
     "text": [
      " 28%|██▊       | 24/87 [00:00<00:00, 118.49it/s]\n",
      " 41%|████▏     | 36/87 [00:00<00:00, 118.08it/s]\n",
      " 55%|█████▌    | 48/87 [00:00<00:00, 117.47it/s]\n",
      " 70%|███████   | 61/87 [00:00<00:00, 118.10it/s]\n",
      " 84%|████████▍ | 73/87 [00:00<00:00, 118.04it/s]\n",
      "100%|██████████| 87/87 [00:00<00:00, 118.56it/s]\n",
      "  0%|          | 0/25 [00:00<?, ?it/s]\n",
      "100%|██████████| 25/25 [00:00<00:00, 119.94it/s]\n",
      "  0%|          | 0/87 [00:00<?, ?it/s]\n",
      " 14%|█▍        | 12/87 [00:00<00:00, 116.05it/s]\n"
     ]
    },
    {
     "name": "stdout",
     "output_type": "stream",
     "text": [
      "\u001b[2m\u001b[36m(func pid=21228)\u001b[0m \n",
      "\u001b[2m\u001b[36m(func pid=21228)\u001b[0m Epoch 17\n"
     ]
    },
    {
     "name": "stderr",
     "output_type": "stream",
     "text": [
      " 28%|██▊       | 24/87 [00:00<00:00, 116.04it/s]\n",
      " 41%|████▏     | 36/87 [00:00<00:00, 117.79it/s]\n",
      " 56%|█████▋    | 49/87 [00:00<00:00, 119.52it/s]\n",
      " 70%|███████   | 61/87 [00:00<00:00, 119.11it/s]\n",
      " 85%|████████▌ | 74/87 [00:00<00:00, 120.29it/s]\n",
      "100%|██████████| 87/87 [00:00<00:00, 119.68it/s]\n",
      "  0%|          | 0/25 [00:00<?, ?it/s]\n",
      "100%|██████████| 25/25 [00:00<00:00, 216.53it/s]\n",
      "  0%|          | 0/87 [00:00<?, ?it/s]\n"
     ]
    },
    {
     "name": "stdout",
     "output_type": "stream",
     "text": [
      "\u001b[2m\u001b[36m(func pid=21228)\u001b[0m \n",
      "\u001b[2m\u001b[36m(func pid=21228)\u001b[0m Epoch 18\n"
     ]
    },
    {
     "name": "stderr",
     "output_type": "stream",
     "text": [
      " 15%|█▍        | 13/87 [00:00<00:00, 120.78it/s]\n",
      " 30%|██▉       | 26/87 [00:00<00:00, 121.07it/s]\n",
      " 45%|████▍     | 39/87 [00:00<00:00, 119.29it/s]\n",
      " 60%|█████▉    | 52/87 [00:00<00:00, 120.53it/s]\n",
      " 75%|███████▍  | 65/87 [00:00<00:00, 120.53it/s]\n",
      " 90%|████████▉ | 78/87 [00:00<00:00, 120.50it/s]\n",
      "100%|██████████| 87/87 [00:00<00:00, 120.53it/s]\n",
      "  0%|          | 0/25 [00:00<?, ?it/s]\n",
      "100%|██████████| 25/25 [00:00<00:00, 215.11it/s]\n",
      "  0%|          | 0/87 [00:00<?, ?it/s]\n",
      " 14%|█▍        | 12/87 [00:00<00:00, 115.61it/s]\n"
     ]
    },
    {
     "name": "stdout",
     "output_type": "stream",
     "text": [
      "\u001b[2m\u001b[36m(func pid=21228)\u001b[0m \n",
      "\u001b[2m\u001b[36m(func pid=21228)\u001b[0m Epoch 19\n"
     ]
    },
    {
     "name": "stderr",
     "output_type": "stream",
     "text": [
      " 29%|██▊       | 25/87 [00:00<00:00, 119.12it/s]\n",
      " 43%|████▎     | 37/87 [00:00<00:00, 118.98it/s]\n",
      " 57%|█████▋    | 50/87 [00:00<00:00, 119.49it/s]\n",
      " 72%|███████▏  | 63/87 [00:00<00:00, 119.76it/s]\n",
      "100%|██████████| 87/87 [00:00<00:00, 119.68it/s]\n",
      "  0%|          | 0/25 [00:00<?, ?it/s]\n",
      " 72%|███████▏  | 18/25 [00:00<00:00, 112.55it/s]\n",
      "100%|██████████| 25/25 [00:00<00:00, 129.29it/s]\n",
      "  0%|          | 0/87 [00:00<?, ?it/s]\n"
     ]
    },
    {
     "name": "stdout",
     "output_type": "stream",
     "text": [
      "\u001b[2m\u001b[36m(func pid=21228)\u001b[0m \n",
      "\u001b[2m\u001b[36m(func pid=21228)\u001b[0m Epoch 20\n"
     ]
    },
    {
     "name": "stderr",
     "output_type": "stream",
     "text": [
      " 14%|█▍        | 12/87 [00:00<00:00, 116.49it/s]\n",
      " 28%|██▊       | 24/87 [00:00<00:00, 117.84it/s]\n",
      " 41%|████▏     | 36/87 [00:00<00:00, 117.81it/s]\n",
      " 55%|█████▌    | 48/87 [00:00<00:00, 115.17it/s]\n",
      " 69%|██████▉   | 60/87 [00:00<00:00, 115.06it/s]\n",
      " 83%|████████▎ | 72/87 [00:00<00:00, 115.26it/s]\n",
      "100%|██████████| 25/25 [00:00<00:00, 208.66it/s]\n",
      "  0%|          | 0/87 [00:00<?, ?it/s]\n",
      " 14%|█▍        | 12/87 [00:00<00:00, 111.11it/s]\n"
     ]
    },
    {
     "name": "stdout",
     "output_type": "stream",
     "text": [
      "\u001b[2m\u001b[36m(func pid=21228)\u001b[0m \n",
      "\u001b[2m\u001b[36m(func pid=21228)\u001b[0m Epoch 21\n"
     ]
    },
    {
     "name": "stderr",
     "output_type": "stream",
     "text": [
      " 28%|██▊       | 24/87 [00:00<00:00, 113.05it/s]\n",
      " 41%|████▏     | 36/87 [00:00<00:00, 115.54it/s]\n",
      " 55%|█████▌    | 48/87 [00:00<00:00, 115.41it/s]\n",
      " 69%|██████▉   | 60/87 [00:00<00:00, 115.51it/s]\n",
      " 84%|████████▍ | 73/87 [00:00<00:00, 117.93it/s]\n",
      "100%|██████████| 87/87 [00:00<00:00, 116.16it/s]\n",
      "  0%|          | 0/25 [00:00<?, ?it/s]\n",
      "100%|██████████| 25/25 [00:00<00:00, 208.27it/s]\n",
      "  0%|          | 0/87 [00:00<?, ?it/s]\n"
     ]
    },
    {
     "name": "stdout",
     "output_type": "stream",
     "text": [
      "\u001b[2m\u001b[36m(func pid=21228)\u001b[0m \n",
      "\u001b[2m\u001b[36m(func pid=21228)\u001b[0m Epoch 22\n"
     ]
    },
    {
     "name": "stderr",
     "output_type": "stream",
     "text": [
      " 14%|█▍        | 12/87 [00:00<00:00, 114.16it/s]\n",
      " 28%|██▊       | 24/87 [00:00<00:00, 115.56it/s]\n",
      " 41%|████▏     | 36/87 [00:00<00:00, 115.62it/s]\n",
      " 55%|█████▌    | 48/87 [00:00<00:00, 108.07it/s]\n",
      "100%|██████████| 87/87 [00:00<00:00, 113.25it/s]\n",
      "  0%|          | 0/25 [00:00<?, ?it/s]\n",
      "100%|██████████| 25/25 [00:00<00:00, 122.03it/s]\n",
      "  0%|          | 0/87 [00:00<?, ?it/s]\n"
     ]
    },
    {
     "name": "stdout",
     "output_type": "stream",
     "text": [
      "\u001b[2m\u001b[36m(func pid=21228)\u001b[0m \n",
      "\u001b[2m\u001b[36m(func pid=21228)\u001b[0m Epoch 23\n"
     ]
    },
    {
     "name": "stderr",
     "output_type": "stream",
     "text": [
      " 14%|█▍        | 12/87 [00:00<00:00, 112.41it/s]\n",
      " 29%|██▊       | 25/87 [00:00<00:00, 117.76it/s]\n",
      " 43%|████▎     | 37/87 [00:00<00:00, 118.02it/s]\n",
      " 56%|█████▋    | 49/87 [00:00<00:00, 117.52it/s]\n",
      " 70%|███████   | 61/87 [00:00<00:00, 116.20it/s]\n",
      " 84%|████████▍ | 73/87 [00:00<00:00, 116.48it/s]\n",
      " 98%|█████████▊| 85/87 [00:00<00:00, 115.84it/s]\n",
      "100%|██████████| 87/87 [00:00<00:00, 116.47it/s]\n",
      "  0%|          | 0/25 [00:00<?, ?it/s]\n",
      "100%|██████████| 25/25 [00:00<00:00, 200.80it/s]\n",
      "  0%|          | 0/87 [00:00<?, ?it/s]\n",
      " 14%|█▍        | 12/87 [00:00<00:00, 114.29it/s]\n"
     ]
    },
    {
     "name": "stdout",
     "output_type": "stream",
     "text": [
      "\u001b[2m\u001b[36m(func pid=21228)\u001b[0m \n",
      "\u001b[2m\u001b[36m(func pid=21228)\u001b[0m Epoch 24\n"
     ]
    },
    {
     "name": "stderr",
     "output_type": "stream",
     "text": [
      " 28%|██▊       | 24/87 [00:00<00:00, 114.91it/s]\n",
      " 41%|████▏     | 36/87 [00:00<00:00, 115.33it/s]\n",
      " 70%|███████   | 61/87 [00:00<00:00, 116.77it/s]\n",
      " 84%|████████▍ | 73/87 [00:00<00:00, 116.00it/s]\n",
      " 98%|█████████▊| 85/87 [00:00<00:00, 114.79it/s]\n",
      "100%|██████████| 87/87 [00:00<00:00, 115.46it/s]\n",
      "  0%|          | 0/25 [00:00<?, ?it/s]\n",
      "100%|██████████| 25/25 [00:00<00:00, 201.06it/s]\n",
      "  0%|          | 0/87 [00:00<?, ?it/s]\n"
     ]
    },
    {
     "name": "stdout",
     "output_type": "stream",
     "text": [
      "\u001b[2m\u001b[36m(func pid=21228)\u001b[0m \n",
      "\u001b[2m\u001b[36m(func pid=21228)\u001b[0m Epoch 25\n"
     ]
    },
    {
     "name": "stderr",
     "output_type": "stream",
     "text": [
      " 14%|█▍        | 12/87 [00:00<00:00, 112.47it/s]\n",
      " 28%|██▊       | 24/87 [00:00<00:00, 113.60it/s]\n",
      " 41%|████▏     | 36/87 [00:00<00:00, 114.87it/s]\n",
      " 56%|█████▋    | 49/87 [00:00<00:00, 117.95it/s]\n",
      " 70%|███████   | 61/87 [00:00<00:00, 118.08it/s]\n",
      " 84%|████████▍ | 73/87 [00:00<00:00, 118.19it/s]\n",
      "100%|██████████| 87/87 [00:00<00:00, 116.98it/s]\n",
      "100%|██████████| 25/25 [00:00<00:00, 127.70it/s]\n",
      "  0%|          | 0/87 [00:00<?, ?it/s]\n",
      " 14%|█▍        | 12/87 [00:00<00:00, 113.43it/s]\n"
     ]
    },
    {
     "name": "stdout",
     "output_type": "stream",
     "text": [
      "\u001b[2m\u001b[36m(func pid=21228)\u001b[0m \n",
      "\u001b[2m\u001b[36m(func pid=21228)\u001b[0m Epoch 26\n"
     ]
    },
    {
     "name": "stderr",
     "output_type": "stream",
     "text": [
      " 29%|██▊       | 25/87 [00:00<00:00, 118.56it/s]\n",
      " 43%|████▎     | 37/87 [00:00<00:00, 118.13it/s]\n",
      " 57%|█████▋    | 50/87 [00:00<00:00, 119.53it/s]\n",
      " 71%|███████▏  | 62/87 [00:00<00:00, 118.53it/s]\n",
      " 85%|████████▌ | 74/87 [00:00<00:00, 117.51it/s]\n",
      "100%|██████████| 87/87 [00:00<00:00, 117.56it/s]\n",
      "  0%|          | 0/25 [00:00<?, ?it/s]\n",
      " 88%|████████▊ | 22/25 [00:00<00:00, 209.21it/s]\n",
      "100%|██████████| 25/25 [00:00<00:00, 211.09it/s]\n",
      "  0%|          | 0/87 [00:00<?, ?it/s]\n"
     ]
    },
    {
     "name": "stdout",
     "output_type": "stream",
     "text": [
      "\u001b[2m\u001b[36m(func pid=21228)\u001b[0m \n",
      "\u001b[2m\u001b[36m(func pid=21228)\u001b[0m Epoch 27\n"
     ]
    },
    {
     "name": "stderr",
     "output_type": "stream",
     "text": [
      " 14%|█▍        | 12/87 [00:00<00:00, 113.41it/s]\n",
      " 28%|██▊       | 24/87 [00:00<00:00, 113.02it/s]\n",
      " 41%|████▏     | 36/87 [00:00<00:00, 114.65it/s]\n",
      " 55%|█████▌    | 48/87 [00:00<00:00, 107.65it/s]\n",
      " 69%|██████▉   | 60/87 [00:00<00:00, 109.04it/s]\n",
      " 84%|████████▍ | 73/87 [00:00<00:00, 113.28it/s]\n",
      "  0%|          | 0/25 [00:00<?, ?it/s]\n",
      " 80%|████████  | 20/25 [00:00<00:00, 190.47it/s]\n",
      "100%|██████████| 25/25 [00:00<00:00, 198.20it/s]\n",
      "  0%|          | 0/87 [00:00<?, ?it/s]\n",
      " 14%|█▍        | 12/87 [00:00<00:00, 113.21it/s]\n"
     ]
    },
    {
     "name": "stdout",
     "output_type": "stream",
     "text": [
      "\u001b[2m\u001b[36m(func pid=21228)\u001b[0m \n",
      "\u001b[2m\u001b[36m(func pid=21228)\u001b[0m Epoch 28\n"
     ]
    },
    {
     "name": "stderr",
     "output_type": "stream",
     "text": [
      " 28%|██▊       | 24/87 [00:00<00:00, 112.66it/s]\n",
      " 41%|████▏     | 36/87 [00:00<00:00, 114.91it/s]\n",
      " 55%|█████▌    | 48/87 [00:00<00:00, 115.05it/s]\n",
      " 69%|██████▉   | 60/87 [00:00<00:00, 113.59it/s]\n",
      " 83%|████████▎ | 72/87 [00:00<00:00, 113.06it/s]\n",
      "100%|██████████| 87/87 [00:00<00:00, 115.11it/s]\n",
      "  0%|          | 0/25 [00:00<?, ?it/s]\n",
      "100%|██████████| 25/25 [00:00<00:00, 125.60it/s]\n",
      "  0%|          | 0/87 [00:00<?, ?it/s]\n"
     ]
    },
    {
     "name": "stdout",
     "output_type": "stream",
     "text": [
      "\u001b[2m\u001b[36m(func pid=21228)\u001b[0m \n",
      "\u001b[2m\u001b[36m(func pid=21228)\u001b[0m Epoch 29\n"
     ]
    },
    {
     "name": "stderr",
     "output_type": "stream",
     "text": [
      " 15%|█▍        | 13/87 [00:00<00:00, 121.37it/s]\n",
      " 30%|██▉       | 26/87 [00:00<00:00, 119.26it/s]\n",
      " 44%|████▎     | 38/87 [00:00<00:00, 117.18it/s]\n",
      " 57%|█████▋    | 50/87 [00:00<00:00, 116.95it/s]\n",
      " 71%|███████▏  | 62/87 [00:00<00:00, 114.83it/s]\n",
      " 85%|████████▌ | 74/87 [00:00<00:00, 116.48it/s]\n",
      "100%|██████████| 87/87 [00:00<00:00, 117.36it/s]\n",
      "  0%|          | 0/25 [00:00<?, ?it/s]\n",
      "100%|██████████| 25/25 [00:00<00:00, 211.54it/s]\n",
      "  0%|          | 0/87 [00:00<?, ?it/s]\n"
     ]
    },
    {
     "name": "stdout",
     "output_type": "stream",
     "text": [
      "\u001b[2m\u001b[36m(func pid=21228)\u001b[0m \n",
      "\u001b[2m\u001b[36m(func pid=21228)\u001b[0m Epoch 30\n"
     ]
    },
    {
     "name": "stderr",
     "output_type": "stream",
     "text": [
      " 14%|█▍        | 12/87 [00:00<00:00, 112.37it/s]\n",
      " 28%|██▊       | 24/87 [00:00<00:00, 114.64it/s]\n",
      " 43%|████▎     | 37/87 [00:00<00:00, 117.74it/s]\n",
      " 56%|█████▋    | 49/87 [00:00<00:00, 117.35it/s]\n",
      " 70%|███████   | 61/87 [00:00<00:00, 116.23it/s]\n",
      " 84%|████████▍ | 73/87 [00:00<00:00, 116.79it/s]\n",
      "100%|██████████| 87/87 [00:00<00:00, 116.45it/s]\n",
      "  0%|          | 0/25 [00:00<?, ?it/s]\n",
      "100%|██████████| 25/25 [00:00<00:00, 206.76it/s]\n",
      "  0%|          | 0/87 [00:00<?, ?it/s]\n",
      " 14%|█▍        | 12/87 [00:00<00:00, 114.40it/s]\n"
     ]
    },
    {
     "name": "stdout",
     "output_type": "stream",
     "text": [
      "\u001b[2m\u001b[36m(func pid=21228)\u001b[0m \n",
      "\u001b[2m\u001b[36m(func pid=21228)\u001b[0m Epoch 31\n"
     ]
    },
    {
     "name": "stderr",
     "output_type": "stream",
     "text": [
      " 28%|██▊       | 24/87 [00:00<00:00, 112.52it/s]\n",
      " 41%|████▏     | 36/87 [00:00<00:00, 111.71it/s]\n",
      " 55%|█████▌    | 48/87 [00:00<00:00, 113.91it/s]\n",
      " 69%|██████▉   | 60/87 [00:00<00:00, 115.43it/s]\n",
      "  0%|          | 0/25 [00:00<?, ?it/s]\n",
      " 32%|███▏      | 8/25 [00:00<00:00, 58.49it/s]\n",
      "100%|██████████| 25/25 [00:00<00:00, 109.64it/s]\n",
      "  0%|          | 0/87 [00:00<?, ?it/s]\n",
      " 13%|█▎        | 11/87 [00:00<00:00, 100.93it/s]\n"
     ]
    },
    {
     "name": "stdout",
     "output_type": "stream",
     "text": [
      "\u001b[2m\u001b[36m(func pid=21228)\u001b[0m \n",
      "\u001b[2m\u001b[36m(func pid=21228)\u001b[0m Epoch 32\n"
     ]
    },
    {
     "name": "stderr",
     "output_type": "stream",
     "text": [
      " 26%|██▋       | 23/87 [00:00<00:00, 108.14it/s]\n",
      " 39%|███▉      | 34/87 [00:00<00:00, 105.71it/s]\n",
      " 53%|█████▎    | 46/87 [00:00<00:00, 107.85it/s]\n",
      " 66%|██████▌   | 57/87 [00:00<00:00, 108.03it/s]\n",
      "100%|██████████| 87/87 [00:00<00:00, 107.68it/s]\n",
      "  0%|          | 0/25 [00:00<?, ?it/s]\n",
      "100%|██████████| 25/25 [00:00<00:00, 192.40it/s]\n",
      "  0%|          | 0/87 [00:00<?, ?it/s]\n",
      " 13%|█▎        | 11/87 [00:00<00:00, 100.18it/s]\n"
     ]
    },
    {
     "name": "stdout",
     "output_type": "stream",
     "text": [
      "\u001b[2m\u001b[36m(func pid=21228)\u001b[0m \n",
      "\u001b[2m\u001b[36m(func pid=21228)\u001b[0m Epoch 33\n"
     ]
    },
    {
     "name": "stderr",
     "output_type": "stream",
     "text": [
      " 25%|██▌       | 22/87 [00:00<00:00, 104.50it/s]\n",
      " 38%|███▊      | 33/87 [00:00<00:00, 104.64it/s]\n",
      " 51%|█████     | 44/87 [00:00<00:00, 105.88it/s]\n",
      " 63%|██████▎   | 55/87 [00:00<00:00, 104.45it/s]\n",
      " 76%|███████▌  | 66/87 [00:00<00:00, 100.31it/s]\n",
      " 89%|████████▊ | 77/87 [00:00<00:00, 101.39it/s]\n",
      "100%|██████████| 87/87 [00:00<00:00, 102.39it/s]\n",
      "  0%|          | 0/25 [00:00<?, ?it/s]\n",
      "100%|██████████| 25/25 [00:00<00:00, 191.11it/s]\n",
      "  0%|          | 0/87 [00:00<?, ?it/s]\n",
      " 13%|█▎        | 11/87 [00:00<00:00, 105.72it/s]\n"
     ]
    },
    {
     "name": "stdout",
     "output_type": "stream",
     "text": [
      "\u001b[2m\u001b[36m(func pid=21228)\u001b[0m \n",
      "\u001b[2m\u001b[36m(func pid=21228)\u001b[0m Epoch 34\n"
     ]
    },
    {
     "name": "stderr",
     "output_type": "stream",
     "text": [
      " 25%|██▌       | 22/87 [00:00<00:00, 107.58it/s]\n",
      " 39%|███▉      | 34/87 [00:00<00:00, 109.27it/s]\n",
      " 52%|█████▏    | 45/87 [00:00<00:00, 109.45it/s]\n",
      " 66%|██████▌   | 57/87 [00:00<00:00, 112.64it/s]\n",
      " 79%|███████▉  | 69/87 [00:00<00:00, 112.72it/s]\n",
      " 93%|█████████▎| 81/87 [00:00<00:00, 114.95it/s]\n",
      "100%|██████████| 87/87 [00:00<00:00, 113.03it/s]\n",
      "  0%|          | 0/25 [00:00<?, ?it/s]\n",
      "100%|██████████| 25/25 [00:00<00:00, 124.40it/s]\n",
      "  0%|          | 0/87 [00:00<?, ?it/s]\n"
     ]
    },
    {
     "name": "stdout",
     "output_type": "stream",
     "text": [
      "\u001b[2m\u001b[36m(func pid=21228)\u001b[0m \n",
      "\u001b[2m\u001b[36m(func pid=21228)\u001b[0m Epoch 35\n"
     ]
    },
    {
     "name": "stderr",
     "output_type": "stream",
     "text": [
      " 14%|█▍        | 12/87 [00:00<00:00, 111.40it/s]\n",
      " 28%|██▊       | 24/87 [00:00<00:00, 115.53it/s]\n",
      " 55%|█████▌    | 48/87 [00:00<00:00, 114.57it/s]\n",
      " 69%|██████▉   | 60/87 [00:00<00:00, 113.74it/s]\n",
      " 83%|████████▎ | 72/87 [00:00<00:00, 113.55it/s]\n",
      "100%|██████████| 87/87 [00:00<00:00, 111.15it/s]\n",
      "  0%|          | 0/25 [00:00<?, ?it/s]\n",
      "100%|██████████| 25/25 [00:00<00:00, 208.67it/s]\n",
      "  0%|          | 0/87 [00:00<?, ?it/s]\n",
      " 14%|█▍        | 12/87 [00:00<00:00, 113.95it/s]\n"
     ]
    },
    {
     "name": "stdout",
     "output_type": "stream",
     "text": [
      "\u001b[2m\u001b[36m(func pid=21228)\u001b[0m \n",
      "\u001b[2m\u001b[36m(func pid=21228)\u001b[0m Epoch 36\n"
     ]
    },
    {
     "name": "stderr",
     "output_type": "stream",
     "text": [
      " 28%|██▊       | 24/87 [00:00<00:00, 117.42it/s]\n",
      " 41%|████▏     | 36/87 [00:00<00:00, 118.50it/s]\n",
      " 55%|█████▌    | 48/87 [00:00<00:00, 117.36it/s]\n",
      " 69%|██████▉   | 60/87 [00:00<00:00, 116.45it/s]\n",
      "100%|██████████| 87/87 [00:00<00:00, 116.88it/s]\n",
      "  0%|          | 0/25 [00:00<?, ?it/s]\n",
      "100%|██████████| 25/25 [00:00<00:00, 201.99it/s]\n",
      "  0%|          | 0/87 [00:00<?, ?it/s]\n",
      " 14%|█▍        | 12/87 [00:00<00:00, 114.57it/s]\n"
     ]
    },
    {
     "name": "stdout",
     "output_type": "stream",
     "text": [
      "\u001b[2m\u001b[36m(func pid=21228)\u001b[0m \n",
      "\u001b[2m\u001b[36m(func pid=21228)\u001b[0m Epoch 37\n"
     ]
    },
    {
     "name": "stderr",
     "output_type": "stream",
     "text": [
      " 28%|██▊       | 24/87 [00:00<00:00, 117.00it/s]\n",
      " 41%|████▏     | 36/87 [00:00<00:00, 116.22it/s]\n",
      " 55%|█████▌    | 48/87 [00:00<00:00, 115.81it/s]\n",
      " 70%|███████   | 61/87 [00:00<00:00, 117.16it/s]\n",
      "  0%|          | 0/25 [00:00<?, ?it/s]\n",
      "100%|██████████| 25/25 [00:00<00:00, 125.69it/s]\n",
      "  0%|          | 0/87 [00:00<?, ?it/s]\n",
      " 14%|█▍        | 12/87 [00:00<00:00, 118.74it/s]\n"
     ]
    },
    {
     "name": "stdout",
     "output_type": "stream",
     "text": [
      "\u001b[2m\u001b[36m(func pid=21228)\u001b[0m \n",
      "\u001b[2m\u001b[36m(func pid=21228)\u001b[0m Epoch 38\n"
     ]
    },
    {
     "name": "stderr",
     "output_type": "stream",
     "text": [
      " 28%|██▊       | 24/87 [00:00<00:00, 119.24it/s]\n",
      " 43%|████▎     | 37/87 [00:00<00:00, 120.48it/s]\n",
      " 57%|█████▋    | 50/87 [00:00<00:00, 121.32it/s]\n",
      " 72%|███████▏  | 63/87 [00:00<00:00, 121.79it/s]\n",
      " 87%|████████▋ | 76/87 [00:00<00:00, 120.90it/s]\n",
      "100%|██████████| 87/87 [00:00<00:00, 120.73it/s]\n",
      "  0%|          | 0/25 [00:00<?, ?it/s]\n",
      "100%|██████████| 25/25 [00:00<00:00, 222.97it/s]\n",
      "  0%|          | 0/87 [00:00<?, ?it/s]\n"
     ]
    },
    {
     "name": "stdout",
     "output_type": "stream",
     "text": [
      "\u001b[2m\u001b[36m(func pid=21228)\u001b[0m \n",
      "\u001b[2m\u001b[36m(func pid=21228)\u001b[0m Epoch 39\n"
     ]
    },
    {
     "name": "stderr",
     "output_type": "stream",
     "text": [
      " 14%|█▍        | 12/87 [00:00<00:00, 114.10it/s]\n",
      " 29%|██▊       | 25/87 [00:00<00:00, 117.93it/s]\n",
      " 43%|████▎     | 37/87 [00:00<00:00, 118.20it/s]\n",
      " 56%|█████▋    | 49/87 [00:00<00:00, 115.44it/s]\n",
      " 70%|███████   | 61/87 [00:00<00:00, 114.57it/s]\n",
      " 84%|████████▍ | 73/87 [00:00<00:00, 115.35it/s]\n",
      "100%|██████████| 87/87 [00:00<00:00, 116.45it/s]\n",
      "  0%|          | 0/25 [00:00<?, ?it/s]\n",
      "100%|██████████| 25/25 [00:00<00:00, 213.85it/s]\n",
      "  0%|          | 0/87 [00:00<?, ?it/s]\n",
      " 14%|█▍        | 12/87 [00:00<00:00, 117.76it/s]\n"
     ]
    },
    {
     "name": "stdout",
     "output_type": "stream",
     "text": [
      "\u001b[2m\u001b[36m(func pid=21228)\u001b[0m \n",
      "\u001b[2m\u001b[36m(func pid=21228)\u001b[0m Epoch 40\n"
     ]
    },
    {
     "name": "stderr",
     "output_type": "stream",
     "text": [
      " 28%|██▊       | 24/87 [00:00<00:00, 118.81it/s]\n",
      " 41%|████▏     | 36/87 [00:00<00:00, 118.85it/s]\n",
      " 56%|█████▋    | 49/87 [00:00<00:00, 120.06it/s]\n",
      " 71%|███████▏  | 62/87 [00:00<00:00, 120.13it/s]\n",
      " 86%|████████▌ | 75/87 [00:00<00:00, 120.60it/s]\n",
      "100%|██████████| 87/87 [00:00<00:00, 119.85it/s]\n",
      "  0%|          | 0/25 [00:00<?, ?it/s]\n",
      " 44%|████▍     | 11/25 [00:00<00:00, 86.30it/s]\n",
      "100%|██████████| 25/25 [00:00<00:00, 129.77it/s]\n",
      "  0%|          | 0/87 [00:00<?, ?it/s]\n"
     ]
    },
    {
     "name": "stdout",
     "output_type": "stream",
     "text": [
      "\u001b[2m\u001b[36m(func pid=21228)\u001b[0m \n",
      "\u001b[2m\u001b[36m(func pid=21228)\u001b[0m Epoch 41\n"
     ]
    },
    {
     "name": "stderr",
     "output_type": "stream",
     "text": [
      " 14%|█▍        | 12/87 [00:00<00:00, 115.19it/s]\n",
      " 29%|██▊       | 25/87 [00:00<00:00, 119.04it/s]\n",
      " 43%|████▎     | 37/87 [00:00<00:00, 117.01it/s]\n",
      " 56%|█████▋    | 49/87 [00:00<00:00, 115.87it/s]\n",
      " 71%|███████▏  | 62/87 [00:00<00:00, 117.88it/s]\n",
      " 85%|████████▌ | 74/87 [00:00<00:00, 118.12it/s]\n",
      "  0%|          | 0/87 [00:00<?, ?it/s]\n",
      " 13%|█▎        | 11/87 [00:00<00:00, 106.90it/s]\n"
     ]
    },
    {
     "name": "stdout",
     "output_type": "stream",
     "text": [
      "\u001b[2m\u001b[36m(func pid=21228)\u001b[0m \n",
      "\u001b[2m\u001b[36m(func pid=21228)\u001b[0m Epoch 42\n"
     ]
    },
    {
     "name": "stderr",
     "output_type": "stream",
     "text": [
      " 26%|██▋       | 23/87 [00:00<00:00, 113.96it/s]\n",
      " 40%|████      | 35/87 [00:00<00:00, 108.90it/s]\n",
      " 54%|█████▍    | 47/87 [00:00<00:00, 110.94it/s]\n",
      " 68%|██████▊   | 59/87 [00:00<00:00, 112.04it/s]\n",
      " 82%|████████▏ | 71/87 [00:00<00:00, 113.67it/s]\n",
      "100%|██████████| 87/87 [00:00<00:00, 113.44it/s]\n",
      "  0%|          | 0/25 [00:00<?, ?it/s]\n",
      "100%|██████████| 25/25 [00:00<00:00, 210.58it/s]\n",
      "  0%|          | 0/87 [00:00<?, ?it/s]\n",
      " 13%|█▎        | 11/87 [00:00<00:00, 107.67it/s]\n"
     ]
    },
    {
     "name": "stdout",
     "output_type": "stream",
     "text": [
      "\u001b[2m\u001b[36m(func pid=21228)\u001b[0m \n",
      "\u001b[2m\u001b[36m(func pid=21228)\u001b[0m Epoch 43\n"
     ]
    },
    {
     "name": "stderr",
     "output_type": "stream",
     "text": [
      " 26%|██▋       | 23/87 [00:00<00:00, 111.72it/s]\n",
      " 40%|████      | 35/87 [00:00<00:00, 112.87it/s]\n",
      " 54%|█████▍    | 47/87 [00:00<00:00, 113.50it/s]\n",
      " 68%|██████▊   | 59/87 [00:00<00:00, 115.25it/s]\n",
      " 83%|████████▎ | 72/87 [00:00<00:00, 117.16it/s]\n",
      "100%|██████████| 87/87 [00:00<00:00, 115.46it/s]\n",
      "  0%|          | 0/25 [00:00<?, ?it/s]\n",
      "100%|██████████| 25/25 [00:00<00:00, 131.02it/s]\n",
      "  0%|          | 0/87 [00:00<?, ?it/s]\n",
      " 14%|█▍        | 12/87 [00:00<00:00, 114.29it/s]\n"
     ]
    },
    {
     "name": "stdout",
     "output_type": "stream",
     "text": [
      "\u001b[2m\u001b[36m(func pid=21228)\u001b[0m Epoch 00043: reducing learning rate of group 0 to 1.0674e-03.\n",
      "\u001b[2m\u001b[36m(func pid=21228)\u001b[0m \n",
      "\u001b[2m\u001b[36m(func pid=21228)\u001b[0m Epoch 44\n"
     ]
    },
    {
     "name": "stderr",
     "output_type": "stream",
     "text": [
      " 28%|██▊       | 24/87 [00:00<00:00, 114.17it/s]\n",
      " 41%|████▏     | 36/87 [00:00<00:00, 111.48it/s]\n",
      " 55%|█████▌    | 48/87 [00:00<00:00, 112.03it/s]\n",
      " 69%|██████▉   | 60/87 [00:00<00:00, 111.60it/s]\n",
      " 83%|████████▎ | 72/87 [00:00<00:00, 111.97it/s]\n",
      " 97%|█████████▋| 84/87 [00:00<00:00, 111.00it/s]\n",
      "100%|██████████| 87/87 [00:00<00:00, 111.53it/s]\n",
      "  0%|          | 0/25 [00:00<?, ?it/s]\n",
      "100%|██████████| 25/25 [00:00<00:00, 171.38it/s]\n",
      "  0%|          | 0/87 [00:00<?, ?it/s]\n",
      " 13%|█▎        | 11/87 [00:00<00:00, 105.04it/s]\n"
     ]
    },
    {
     "name": "stdout",
     "output_type": "stream",
     "text": [
      "\u001b[2m\u001b[36m(func pid=21228)\u001b[0m \n",
      "\u001b[2m\u001b[36m(func pid=21228)\u001b[0m Epoch 45\n"
     ]
    },
    {
     "name": "stderr",
     "output_type": "stream",
     "text": [
      " 25%|██▌       | 22/87 [00:00<00:00, 102.99it/s]\n",
      " 39%|███▉      | 34/87 [00:00<00:00, 106.22it/s]\n",
      " 54%|█████▍    | 47/87 [00:00<00:00, 111.87it/s]\n",
      " 68%|██████▊   | 59/87 [00:00<00:00, 110.86it/s]\n",
      " 82%|████████▏ | 71/87 [00:00<00:00, 108.27it/s]\n",
      "100%|██████████| 87/87 [00:00<00:00, 108.07it/s]\n",
      "  0%|          | 0/25 [00:00<?, ?it/s]\n",
      "100%|██████████| 25/25 [00:00<00:00, 195.36it/s]\n",
      " 13%|█▎        | 11/87 [00:00<00:00, 105.94it/s]\n",
      " 26%|██▋       | 23/87 [00:00<00:00, 108.89it/s]\n"
     ]
    },
    {
     "name": "stdout",
     "output_type": "stream",
     "text": [
      "\u001b[2m\u001b[36m(func pid=21228)\u001b[0m \n",
      "\u001b[2m\u001b[36m(func pid=21228)\u001b[0m Epoch 46\n"
     ]
    },
    {
     "name": "stderr",
     "output_type": "stream",
     "text": [
      " 40%|████      | 35/87 [00:00<00:00, 109.27it/s]\n",
      " 54%|█████▍    | 47/87 [00:00<00:00, 110.37it/s]\n",
      " 69%|██████▉   | 60/87 [00:00<00:00, 116.09it/s]\n",
      " 83%|████████▎ | 72/87 [00:00<00:00, 112.21it/s]\n",
      " 97%|█████████▋| 84/87 [00:00<00:00, 111.66it/s]\n",
      "100%|██████████| 87/87 [00:00<00:00, 111.54it/s]\n",
      "  0%|          | 0/25 [00:00<?, ?it/s]\n"
     ]
    },
    {
     "name": "stdout",
     "output_type": "stream",
     "text": [
      "\u001b[2m\u001b[36m(func pid=21228)\u001b[0m \n",
      "\u001b[2m\u001b[36m(func pid=21228)\u001b[0m Epoch 48\n"
     ]
    },
    {
     "name": "stderr",
     "output_type": "stream",
     "text": [
      " 24%|██▍       | 21/87 [00:00<00:00, 101.96it/s]\n",
      " 39%|███▉      | 34/87 [00:00<00:00, 112.43it/s]\n",
      " 53%|█████▎    | 46/87 [00:00<00:00, 113.14it/s]\n",
      " 67%|██████▋   | 58/87 [00:00<00:00, 112.04it/s]\n",
      " 80%|████████  | 70/87 [00:00<00:00, 109.31it/s]\n",
      "100%|██████████| 87/87 [00:00<00:00, 108.48it/s]\n",
      "  0%|          | 0/25 [00:00<?, ?it/s]\n",
      "100%|██████████| 25/25 [00:00<00:00, 181.13it/s]\n",
      "  0%|          | 0/87 [00:00<?, ?it/s]\n",
      " 14%|█▍        | 12/87 [00:00<00:00, 114.75it/s]\n",
      " 28%|██▊       | 24/87 [00:00<00:00, 114.34it/s]\n"
     ]
    },
    {
     "name": "stdout",
     "output_type": "stream",
     "text": [
      "\u001b[2m\u001b[36m(func pid=21228)\u001b[0m \n",
      "\u001b[2m\u001b[36m(func pid=21228)\u001b[0m Epoch 49\n"
     ]
    },
    {
     "name": "stderr",
     "output_type": "stream",
     "text": [
      " 41%|████▏     | 36/87 [00:00<00:00, 113.91it/s]\n",
      " 55%|█████▌    | 48/87 [00:00<00:00, 113.64it/s]\n",
      " 69%|██████▉   | 60/87 [00:00<00:00, 113.16it/s]\n",
      " 83%|████████▎ | 72/87 [00:00<00:00, 112.82it/s]\n",
      "100%|██████████| 87/87 [00:00<00:00, 113.77it/s]\n",
      "  0%|          | 0/25 [00:00<?, ?it/s]\n",
      " 32%|███▏      | 8/25 [00:00<00:00, 66.67it/s]\n",
      "100%|██████████| 25/25 [00:00<00:00, 121.73it/s]\n",
      "  0%|          | 0/87 [00:00<?, ?it/s]\n",
      " 14%|█▍        | 12/87 [00:00<00:00, 113.02it/s]\n"
     ]
    },
    {
     "name": "stdout",
     "output_type": "stream",
     "text": [
      "\u001b[2m\u001b[36m(func pid=21228)\u001b[0m \n",
      "\u001b[2m\u001b[36m(func pid=21228)\u001b[0m Epoch 50\n"
     ]
    },
    {
     "name": "stderr",
     "output_type": "stream",
     "text": [
      " 28%|██▊       | 24/87 [00:00<00:00, 112.71it/s]\n",
      " 41%|████▏     | 36/87 [00:00<00:00, 113.23it/s]\n",
      " 55%|█████▌    | 48/87 [00:00<00:00, 113.70it/s]\n",
      " 69%|██████▉   | 60/87 [00:00<00:00, 115.15it/s]\n",
      " 84%|████████▍ | 73/87 [00:00<00:00, 116.94it/s]\n",
      "100%|██████████| 87/87 [00:00<00:00, 115.59it/s]\n",
      "  0%|          | 0/25 [00:00<?, ?it/s]\n",
      "100%|██████████| 25/25 [00:00<00:00, 198.74it/s]\n",
      "  0%|          | 0/87 [00:00<?, ?it/s]\n",
      " 14%|█▍        | 12/87 [00:00<00:00, 116.78it/s]\n"
     ]
    },
    {
     "name": "stdout",
     "output_type": "stream",
     "text": [
      "\u001b[2m\u001b[36m(func pid=21228)\u001b[0m \n",
      "\u001b[2m\u001b[36m(func pid=21228)\u001b[0m Epoch 51\n"
     ]
    },
    {
     "name": "stderr",
     "output_type": "stream",
     "text": [
      " 28%|██▊       | 24/87 [00:00<00:00, 112.86it/s]\n",
      " 41%|████▏     | 36/87 [00:00<00:00, 108.67it/s]\n",
      " 54%|█████▍    | 47/87 [00:00<00:00, 109.15it/s]\n",
      " 68%|██████▊   | 59/87 [00:00<00:00, 112.50it/s]\n",
      " 82%|████████▏ | 71/87 [00:00<00:00, 114.57it/s]\n",
      "100%|██████████| 87/87 [00:00<00:00, 114.93it/s]\n",
      "  0%|          | 0/25 [00:00<?, ?it/s]\n",
      "  0%|          | 0/87 [00:00<?, ?it/s]\n",
      " 13%|█▎        | 11/87 [00:00<00:00, 105.43it/s]\n"
     ]
    },
    {
     "name": "stdout",
     "output_type": "stream",
     "text": [
      "\u001b[2m\u001b[36m(func pid=21228)\u001b[0m \n",
      "\u001b[2m\u001b[36m(func pid=21228)\u001b[0m Epoch 52\n"
     ]
    },
    {
     "name": "stderr",
     "output_type": "stream",
     "text": [
      " 26%|██▋       | 23/87 [00:00<00:00, 109.68it/s]\n",
      " 39%|███▉      | 34/87 [00:00<00:00, 109.25it/s]\n",
      " 52%|█████▏    | 45/87 [00:00<00:00, 107.46it/s]\n",
      " 66%|██████▌   | 57/87 [00:00<00:00, 110.74it/s]\n",
      " 79%|███████▉  | 69/87 [00:00<00:00, 110.79it/s]\n",
      "100%|██████████| 87/87 [00:00<00:00, 109.82it/s]\n",
      "  0%|          | 0/25 [00:00<?, ?it/s]\n",
      "100%|██████████| 25/25 [00:00<00:00, 122.59it/s]\n",
      "  0%|          | 0/87 [00:00<?, ?it/s]\n"
     ]
    },
    {
     "name": "stdout",
     "output_type": "stream",
     "text": [
      "\u001b[2m\u001b[36m(func pid=21228)\u001b[0m \n",
      "\u001b[2m\u001b[36m(func pid=21228)\u001b[0m Epoch 53\n"
     ]
    },
    {
     "name": "stderr",
     "output_type": "stream",
     "text": [
      " 13%|█▎        | 11/87 [00:00<00:00, 109.56it/s]\n",
      " 26%|██▋       | 23/87 [00:00<00:00, 111.98it/s]\n",
      " 40%|████      | 35/87 [00:00<00:00, 108.45it/s]\n",
      " 53%|█████▎    | 46/87 [00:00<00:00, 108.29it/s]\n",
      " 66%|██████▌   | 57/87 [00:00<00:00, 107.60it/s]\n",
      " 79%|███████▉  | 69/87 [00:00<00:00, 110.94it/s]\n",
      " 93%|█████████▎| 81/87 [00:00<00:00, 113.42it/s]\n",
      "100%|██████████| 87/87 [00:00<00:00, 111.50it/s]\n",
      "  0%|          | 0/25 [00:00<?, ?it/s]\n",
      "100%|██████████| 25/25 [00:00<00:00, 230.91it/s]\n",
      "  0%|          | 0/87 [00:00<?, ?it/s]\n",
      " 13%|█▎        | 11/87 [00:00<00:00, 108.83it/s]\n"
     ]
    },
    {
     "name": "stdout",
     "output_type": "stream",
     "text": [
      "\u001b[2m\u001b[36m(func pid=21228)\u001b[0m \n",
      "\u001b[2m\u001b[36m(func pid=21228)\u001b[0m Epoch 54\n"
     ]
    },
    {
     "name": "stderr",
     "output_type": "stream",
     "text": [
      " 25%|██▌       | 22/87 [00:00<00:00, 108.86it/s]\n",
      " 38%|███▊      | 33/87 [00:00<00:00, 108.27it/s]\n",
      " 51%|█████     | 44/87 [00:00<00:00, 108.84it/s]\n",
      " 63%|██████▎   | 55/87 [00:00<00:00, 105.17it/s]\n",
      " 76%|███████▌  | 66/87 [00:00<00:00, 102.26it/s]\n",
      "100%|██████████| 87/87 [00:00<00:00, 106.59it/s]\n",
      "  0%|          | 0/25 [00:00<?, ?it/s]\n",
      "100%|██████████| 25/25 [00:00<00:00, 206.56it/s]\n",
      "  0%|          | 0/87 [00:00<?, ?it/s]\n"
     ]
    },
    {
     "name": "stdout",
     "output_type": "stream",
     "text": [
      "\u001b[2m\u001b[36m(func pid=21228)\u001b[0m \n",
      "\u001b[2m\u001b[36m(func pid=21228)\u001b[0m Epoch 55\n"
     ]
    },
    {
     "name": "stderr",
     "output_type": "stream",
     "text": [
      " 14%|█▍        | 12/87 [00:00<00:00, 113.44it/s]\n",
      " 28%|██▊       | 24/87 [00:00<00:00, 113.78it/s]\n",
      " 41%|████▏     | 36/87 [00:00<00:00, 112.53it/s]\n",
      " 55%|█████▌    | 48/87 [00:00<00:00, 114.95it/s]\n",
      " 70%|███████   | 61/87 [00:00<00:00, 116.67it/s]\n",
      " 84%|████████▍ | 73/87 [00:00<00:00, 115.37it/s]\n",
      "100%|██████████| 87/87 [00:00<00:00, 115.38it/s]\n",
      "  0%|          | 0/25 [00:00<?, ?it/s]\n",
      " 72%|███████▏  | 18/25 [00:00<00:00, 114.38it/s]\n",
      "100%|██████████| 25/25 [00:00<00:00, 130.21it/s]\n",
      "  0%|          | 0/87 [00:00<?, ?it/s]\n"
     ]
    },
    {
     "name": "stdout",
     "output_type": "stream",
     "text": [
      "\u001b[2m\u001b[36m(func pid=21228)\u001b[0m \n",
      "\u001b[2m\u001b[36m(func pid=21228)\u001b[0m Epoch 56\n"
     ]
    },
    {
     "name": "stderr",
     "output_type": "stream",
     "text": [
      " 14%|█▍        | 12/87 [00:00<00:00, 114.21it/s]\n",
      " 29%|██▊       | 25/87 [00:00<00:00, 119.13it/s]\n",
      " 44%|████▎     | 38/87 [00:00<00:00, 119.64it/s]\n",
      " 57%|█████▋    | 50/87 [00:00<00:00, 118.92it/s]\n",
      " 71%|███████▏  | 62/87 [00:00<00:00, 119.24it/s]\n",
      " 86%|████████▌ | 75/87 [00:00<00:00, 119.62it/s]\n",
      "  0%|          | 0/87 [00:00<?, ?it/s]\n",
      " 14%|█▍        | 12/87 [00:00<00:00, 115.33it/s]\n"
     ]
    },
    {
     "name": "stdout",
     "output_type": "stream",
     "text": [
      "\u001b[2m\u001b[36m(func pid=21228)\u001b[0m \n",
      "\u001b[2m\u001b[36m(func pid=21228)\u001b[0m Epoch 57\n"
     ]
    },
    {
     "name": "stderr",
     "output_type": "stream",
     "text": [
      " 29%|██▊       | 25/87 [00:00<00:00, 119.74it/s]\n",
      " 44%|████▎     | 38/87 [00:00<00:00, 120.51it/s]\n",
      " 59%|█████▊    | 51/87 [00:00<00:00, 120.47it/s]\n",
      " 74%|███████▎  | 64/87 [00:00<00:00, 120.37it/s]\n",
      "  0%|          | 0/25 [00:00<?, ?it/s]\n",
      "100%|██████████| 25/25 [00:00<00:00, 203.42it/s]\n",
      "  0%|          | 0/87 [00:00<?, ?it/s]\n",
      " 14%|█▍        | 12/87 [00:00<00:00, 114.12it/s]\n"
     ]
    },
    {
     "name": "stdout",
     "output_type": "stream",
     "text": [
      "\u001b[2m\u001b[36m(func pid=21228)\u001b[0m \n",
      "\u001b[2m\u001b[36m(func pid=21228)\u001b[0m Epoch 58\n"
     ]
    },
    {
     "name": "stderr",
     "output_type": "stream",
     "text": [
      " 28%|██▊       | 24/87 [00:00<00:00, 117.46it/s]\n",
      " 43%|████▎     | 37/87 [00:00<00:00, 118.92it/s]\n",
      " 57%|█████▋    | 50/87 [00:00<00:00, 118.91it/s]\n",
      " 72%|███████▏  | 63/87 [00:00<00:00, 119.42it/s]\n",
      " 87%|████████▋ | 76/87 [00:00<00:00, 120.84it/s]\n",
      "100%|██████████| 87/87 [00:00<00:00, 116.98it/s]\n",
      "  0%|          | 0/25 [00:00<?, ?it/s]\n",
      "100%|██████████| 25/25 [00:00<00:00, 127.34it/s]\n",
      "  0%|          | 0/87 [00:00<?, ?it/s]\n"
     ]
    },
    {
     "name": "stdout",
     "output_type": "stream",
     "text": [
      "\u001b[2m\u001b[36m(func pid=21228)\u001b[0m \n",
      "\u001b[2m\u001b[36m(func pid=21228)\u001b[0m Epoch 59\n"
     ]
    },
    {
     "name": "stderr",
     "output_type": "stream",
     "text": [
      " 14%|█▍        | 12/87 [00:00<00:00, 118.01it/s]\n",
      " 29%|██▊       | 25/87 [00:00<00:00, 118.88it/s]\n",
      " 44%|████▎     | 38/87 [00:00<00:00, 119.70it/s]\n",
      " 57%|█████▋    | 50/87 [00:00<00:00, 117.02it/s]\n",
      " 71%|███████▏  | 62/87 [00:00<00:00, 117.02it/s]\n",
      " 85%|████████▌ | 74/87 [00:00<00:00, 115.20it/s]\n",
      "100%|██████████| 87/87 [00:00<00:00, 116.73it/s]\n",
      "  0%|          | 0/25 [00:00<?, ?it/s]\n",
      "100%|██████████| 25/25 [00:00<00:00, 215.40it/s]\n",
      "  0%|          | 0/87 [00:00<?, ?it/s]\n",
      " 14%|█▍        | 12/87 [00:00<00:00, 113.21it/s]\n"
     ]
    },
    {
     "name": "stdout",
     "output_type": "stream",
     "text": [
      "\u001b[2m\u001b[36m(func pid=21228)\u001b[0m \n",
      "\u001b[2m\u001b[36m(func pid=21228)\u001b[0m Epoch 60\n"
     ]
    },
    {
     "name": "stderr",
     "output_type": "stream",
     "text": [
      " 29%|██▊       | 25/87 [00:00<00:00, 117.05it/s]\n",
      " 43%|████▎     | 37/87 [00:00<00:00, 115.98it/s]\n",
      " 56%|█████▋    | 49/87 [00:00<00:00, 116.38it/s]\n",
      " 71%|███████▏  | 62/87 [00:00<00:00, 117.53it/s]\n",
      "100%|██████████| 87/87 [00:00<00:00, 117.76it/s]\n",
      "  0%|          | 0/25 [00:00<?, ?it/s]\n",
      "100%|██████████| 25/25 [00:00<00:00, 225.86it/s]\n",
      "  0%|          | 0/87 [00:00<?, ?it/s]\n",
      " 14%|█▍        | 12/87 [00:00<00:00, 116.86it/s]\n"
     ]
    },
    {
     "name": "stdout",
     "output_type": "stream",
     "text": [
      "\u001b[2m\u001b[36m(func pid=21228)\u001b[0m Epoch 00060: reducing learning rate of group 0 to 5.3372e-04.\n",
      "\u001b[2m\u001b[36m(func pid=21228)\u001b[0m \n",
      "\u001b[2m\u001b[36m(func pid=21228)\u001b[0m Epoch 61\n"
     ]
    },
    {
     "name": "stderr",
     "output_type": "stream",
     "text": [
      " 29%|██▊       | 25/87 [00:00<00:00, 118.81it/s]\n",
      " 44%|████▎     | 38/87 [00:00<00:00, 119.60it/s]\n",
      " 59%|█████▊    | 51/87 [00:00<00:00, 120.78it/s]\n",
      " 74%|███████▎  | 64/87 [00:00<00:00, 119.45it/s]\n",
      " 89%|████████▊ | 77/87 [00:00<00:00, 119.38it/s]\n",
      "100%|██████████| 87/87 [00:00<00:00, 119.23it/s]\n",
      "  0%|          | 0/25 [00:00<?, ?it/s]\n",
      "100%|██████████| 25/25 [00:00<00:00, 125.57it/s]\n",
      "  0%|          | 0/87 [00:00<?, ?it/s]\n",
      " 13%|█▎        | 11/87 [00:00<00:00, 109.96it/s]\n"
     ]
    },
    {
     "name": "stdout",
     "output_type": "stream",
     "text": [
      "\u001b[2m\u001b[36m(func pid=21228)\u001b[0m \n",
      "\u001b[2m\u001b[36m(func pid=21228)\u001b[0m Epoch 62\n"
     ]
    },
    {
     "name": "stderr",
     "output_type": "stream",
     "text": [
      " 26%|██▋       | 23/87 [00:00<00:00, 113.99it/s]\n",
      " 40%|████      | 35/87 [00:00<00:00, 113.50it/s]\n",
      " 54%|█████▍    | 47/87 [00:00<00:00, 113.04it/s]\n",
      " 68%|██████▊   | 59/87 [00:00<00:00, 112.26it/s]\n",
      "  0%|          | 0/25 [00:00<?, ?it/s]\n",
      "100%|██████████| 25/25 [00:00<00:00, 185.15it/s]\n",
      "  0%|          | 0/87 [00:00<?, ?it/s]\n"
     ]
    },
    {
     "name": "stdout",
     "output_type": "stream",
     "text": [
      "\u001b[2m\u001b[36m(func pid=21228)\u001b[0m \n",
      "\u001b[2m\u001b[36m(func pid=21228)\u001b[0m Epoch 63\n"
     ]
    },
    {
     "name": "stderr",
     "output_type": "stream",
     "text": [
      " 11%|█▏        | 10/87 [00:00<00:00, 97.06it/s]\n",
      " 24%|██▍       | 21/87 [00:00<00:00, 100.35it/s]\n",
      " 37%|███▋      | 32/87 [00:00<00:00, 100.35it/s]\n",
      " 49%|████▉     | 43/87 [00:00<00:00, 103.43it/s]\n",
      " 62%|██████▏   | 54/87 [00:00<00:00, 101.58it/s]\n",
      " 75%|███████▍  | 65/87 [00:00<00:00, 103.96it/s]\n",
      " 87%|████████▋ | 76/87 [00:00<00:00, 103.27it/s]\n",
      "100%|██████████| 87/87 [00:00<00:00, 102.66it/s]\n",
      "  0%|          | 0/25 [00:00<?, ?it/s]\n",
      "100%|██████████| 25/25 [00:00<00:00, 177.26it/s]\n",
      "  0%|          | 0/87 [00:00<?, ?it/s]\n"
     ]
    },
    {
     "name": "stdout",
     "output_type": "stream",
     "text": [
      "\u001b[2m\u001b[36m(func pid=21228)\u001b[0m \n",
      "\u001b[2m\u001b[36m(func pid=21228)\u001b[0m Epoch 64\n"
     ]
    },
    {
     "name": "stderr",
     "output_type": "stream",
     "text": [
      " 14%|█▍        | 12/87 [00:00<00:00, 112.65it/s]\n",
      " 28%|██▊       | 24/87 [00:00<00:00, 113.28it/s]\n",
      " 41%|████▏     | 36/87 [00:00<00:00, 110.97it/s]\n",
      " 55%|█████▌    | 48/87 [00:00<00:00, 112.95it/s]\n",
      " 69%|██████▉   | 60/87 [00:00<00:00, 112.64it/s]\n",
      " 83%|████████▎ | 72/87 [00:00<00:00, 111.37it/s]\n",
      " 97%|█████████▋| 84/87 [00:00<00:00, 110.31it/s]\n",
      "100%|██████████| 87/87 [00:00<00:00, 111.36it/s]\n",
      "  0%|          | 0/25 [00:00<?, ?it/s]\n",
      "100%|██████████| 25/25 [00:00<00:00, 122.29it/s]\n",
      "  0%|          | 0/87 [00:00<?, ?it/s]\n"
     ]
    },
    {
     "name": "stdout",
     "output_type": "stream",
     "text": [
      "\u001b[2m\u001b[36m(func pid=21228)\u001b[0m \n",
      "\u001b[2m\u001b[36m(func pid=21228)\u001b[0m Epoch 65\n"
     ]
    },
    {
     "name": "stderr",
     "output_type": "stream",
     "text": [
      " 14%|█▍        | 12/87 [00:00<00:00, 114.03it/s]\n",
      " 28%|██▊       | 24/87 [00:00<00:00, 115.01it/s]\n",
      " 41%|████▏     | 36/87 [00:00<00:00, 112.65it/s]\n",
      " 55%|█████▌    | 48/87 [00:00<00:00, 108.54it/s]\n",
      " 69%|██████▉   | 60/87 [00:00<00:00, 109.79it/s]\n",
      " 83%|████████▎ | 72/87 [00:00<00:00, 110.50it/s]\n",
      " 97%|█████████▋| 84/87 [00:00<00:00, 112.46it/s]\n",
      "100%|██████████| 87/87 [00:00<00:00, 111.93it/s]\n",
      "  0%|          | 0/25 [00:00<?, ?it/s]\n",
      "100%|██████████| 25/25 [00:00<00:00, 200.06it/s]\n",
      "  0%|          | 0/87 [00:00<?, ?it/s]\n"
     ]
    },
    {
     "name": "stdout",
     "output_type": "stream",
     "text": [
      "\u001b[2m\u001b[36m(func pid=21228)\u001b[0m \n",
      "\u001b[2m\u001b[36m(func pid=21228)\u001b[0m Epoch 66\n"
     ]
    },
    {
     "name": "stderr",
     "output_type": "stream",
     "text": [
      " 13%|█▎        | 11/87 [00:00<00:00, 108.71it/s]\n",
      " 25%|██▌       | 22/87 [00:00<00:00, 109.41it/s]\n",
      " 39%|███▉      | 34/87 [00:00<00:00, 110.59it/s]\n",
      " 53%|█████▎    | 46/87 [00:00<00:00, 110.47it/s]\n",
      " 67%|██████▋   | 58/87 [00:00<00:00, 112.59it/s]\n",
      " 80%|████████  | 70/87 [00:00<00:00, 112.74it/s]\n",
      "100%|██████████| 87/87 [00:00<00:00, 111.79it/s]\n",
      "  0%|          | 0/25 [00:00<?, ?it/s]\n",
      " 84%|████████▍ | 21/25 [00:00<00:00, 206.01it/s]\n",
      "100%|██████████| 25/25 [00:00<00:00, 207.47it/s]\n",
      "  0%|          | 0/87 [00:00<?, ?it/s]\n",
      " 13%|█▎        | 11/87 [00:00<00:00, 103.69it/s]\n"
     ]
    },
    {
     "name": "stdout",
     "output_type": "stream",
     "text": [
      "\u001b[2m\u001b[36m(func pid=21228)\u001b[0m \n",
      "\u001b[2m\u001b[36m(func pid=21228)\u001b[0m Epoch 67\n"
     ]
    },
    {
     "name": "stderr",
     "output_type": "stream",
     "text": [
      " 28%|██▊       | 24/87 [00:00<00:00, 113.73it/s]\n",
      " 41%|████▏     | 36/87 [00:00<00:00, 112.03it/s]\n",
      " 55%|█████▌    | 48/87 [00:00<00:00, 111.59it/s]\n",
      " 69%|██████▉   | 60/87 [00:00<00:00, 114.42it/s]\n",
      "  0%|          | 0/25 [00:00<?, ?it/s]\n",
      " 32%|███▏      | 8/25 [00:00<00:00, 64.92it/s]\n",
      "100%|██████████| 25/25 [00:00<00:00, 116.65it/s]\n",
      "  0%|          | 0/87 [00:00<?, ?it/s]\n",
      " 14%|█▍        | 12/87 [00:00<00:00, 110.90it/s]\n"
     ]
    },
    {
     "name": "stdout",
     "output_type": "stream",
     "text": [
      "\u001b[2m\u001b[36m(func pid=21228)\u001b[0m \n",
      "\u001b[2m\u001b[36m(func pid=21228)\u001b[0m Epoch 68\n"
     ]
    },
    {
     "name": "stderr",
     "output_type": "stream",
     "text": [
      " 29%|██▊       | 25/87 [00:00<00:00, 117.29it/s]\n",
      " 43%|████▎     | 37/87 [00:00<00:00, 113.46it/s]\n",
      " 57%|█████▋    | 50/87 [00:00<00:00, 116.28it/s]\n",
      " 71%|███████▏  | 62/87 [00:00<00:00, 115.30it/s]\n",
      " 87%|████████▋ | 76/87 [00:00<00:00, 120.32it/s]\n",
      "100%|██████████| 87/87 [00:00<00:00, 117.57it/s]\n",
      "  0%|          | 0/25 [00:00<?, ?it/s]\n",
      " 80%|████████  | 20/25 [00:00<00:00, 198.19it/s]\n",
      "100%|██████████| 25/25 [00:00<00:00, 167.50it/s]\n",
      "  0%|          | 0/87 [00:00<?, ?it/s]\n"
     ]
    },
    {
     "name": "stdout",
     "output_type": "stream",
     "text": [
      "\u001b[2m\u001b[36m(func pid=21228)\u001b[0m \n",
      "\u001b[2m\u001b[36m(func pid=21228)\u001b[0m Epoch 69\n"
     ]
    },
    {
     "name": "stderr",
     "output_type": "stream",
     "text": [
      " 13%|█▎        | 11/87 [00:00<00:00, 105.70it/s]\n",
      " 26%|██▋       | 23/87 [00:00<00:00, 110.72it/s]\n",
      " 40%|████      | 35/87 [00:00<00:00, 109.97it/s]\n",
      " 54%|█████▍    | 47/87 [00:00<00:00, 111.19it/s]\n",
      " 68%|██████▊   | 59/87 [00:00<00:00, 112.52it/s]\n",
      " 82%|████████▏ | 71/87 [00:00<00:00, 113.85it/s]\n",
      "100%|██████████| 87/87 [00:00<00:00, 112.80it/s]\n",
      "  0%|          | 0/25 [00:00<?, ?it/s]\n",
      "100%|██████████| 25/25 [00:00<00:00, 203.06it/s]\n",
      "  0%|          | 0/87 [00:00<?, ?it/s]\n"
     ]
    },
    {
     "name": "stdout",
     "output_type": "stream",
     "text": [
      "\u001b[2m\u001b[36m(func pid=21228)\u001b[0m \n",
      "\u001b[2m\u001b[36m(func pid=21228)\u001b[0m Epoch 70\n"
     ]
    },
    {
     "name": "stderr",
     "output_type": "stream",
     "text": [
      " 14%|█▍        | 12/87 [00:00<00:00, 113.98it/s]\n",
      " 28%|██▊       | 24/87 [00:00<00:00, 112.68it/s]\n",
      " 41%|████▏     | 36/87 [00:00<00:00, 114.55it/s]\n",
      " 55%|█████▌    | 48/87 [00:00<00:00, 114.41it/s]\n",
      " 69%|██████▉   | 60/87 [00:00<00:00, 111.69it/s]\n",
      " 83%|████████▎ | 72/87 [00:00<00:00, 112.84it/s]\n",
      " 97%|█████████▋| 84/87 [00:00<00:00, 111.98it/s]\n",
      "100%|██████████| 87/87 [00:00<00:00, 112.92it/s]\n",
      "  0%|          | 0/25 [00:00<?, ?it/s]\n",
      "100%|██████████| 25/25 [00:00<00:00, 124.42it/s]\n",
      "  0%|          | 0/87 [00:00<?, ?it/s]\n",
      " 13%|█▎        | 11/87 [00:00<00:00, 106.68it/s]\n"
     ]
    },
    {
     "name": "stdout",
     "output_type": "stream",
     "text": [
      "\u001b[2m\u001b[36m(func pid=21228)\u001b[0m \n",
      "\u001b[2m\u001b[36m(func pid=21228)\u001b[0m Epoch 71\n"
     ]
    },
    {
     "name": "stderr",
     "output_type": "stream",
     "text": [
      " 26%|██▋       | 23/87 [00:00<00:00, 108.67it/s]\n",
      " 40%|████      | 35/87 [00:00<00:00, 110.88it/s]\n",
      " 54%|█████▍    | 47/87 [00:00<00:00, 114.34it/s]\n",
      " 68%|██████▊   | 59/87 [00:00<00:00, 113.87it/s]\n",
      " 82%|████████▏ | 71/87 [00:00<00:00, 113.22it/s]\n",
      " 95%|█████████▌| 83/87 [00:00<00:00, 114.51it/s]\n",
      "100%|██████████| 87/87 [00:00<00:00, 113.09it/s]\n",
      "  0%|          | 0/25 [00:00<?, ?it/s]\n",
      "100%|██████████| 25/25 [00:00<00:00, 205.14it/s]\n",
      "  0%|          | 0/87 [00:00<?, ?it/s]\n",
      " 14%|█▍        | 12/87 [00:00<00:00, 114.01it/s]\n"
     ]
    },
    {
     "name": "stdout",
     "output_type": "stream",
     "text": [
      "\u001b[2m\u001b[36m(func pid=21228)\u001b[0m \n",
      "\u001b[2m\u001b[36m(func pid=21228)\u001b[0m Epoch 72\n"
     ]
    },
    {
     "name": "stderr",
     "output_type": "stream",
     "text": [
      " 28%|██▊       | 24/87 [00:00<00:00, 114.27it/s]\n",
      " 41%|████▏     | 36/87 [00:00<00:00, 114.17it/s]\n",
      " 55%|█████▌    | 48/87 [00:00<00:00, 113.89it/s]\n",
      " 69%|██████▉   | 60/87 [00:00<00:00, 113.16it/s]\n",
      "100%|██████████| 87/87 [00:00<00:00, 112.77it/s]\n",
      "  0%|          | 0/25 [00:00<?, ?it/s]\n",
      "100%|██████████| 25/25 [00:00<00:00, 196.82it/s]\n",
      "  0%|          | 0/87 [00:00<?, ?it/s]\n",
      " 14%|█▍        | 12/87 [00:00<00:00, 110.77it/s]\n"
     ]
    },
    {
     "name": "stdout",
     "output_type": "stream",
     "text": [
      "\u001b[2m\u001b[36m(func pid=21228)\u001b[0m \n",
      "\u001b[2m\u001b[36m(func pid=21228)\u001b[0m Epoch 73\n"
     ]
    },
    {
     "name": "stderr",
     "output_type": "stream",
     "text": [
      " 28%|██▊       | 24/87 [00:00<00:00, 111.84it/s]\n",
      " 41%|████▏     | 36/87 [00:00<00:00, 114.89it/s]\n",
      " 55%|█████▌    | 48/87 [00:00<00:00, 115.65it/s]\n",
      " 69%|██████▉   | 60/87 [00:00<00:00, 113.87it/s]\n",
      " 83%|████████▎ | 72/87 [00:00<00:00, 114.28it/s]\n",
      "100%|██████████| 87/87 [00:00<00:00, 113.44it/s]\n",
      "  0%|          | 0/25 [00:00<?, ?it/s]\n",
      "100%|██████████| 25/25 [00:00<00:00, 131.53it/s]\n",
      "  0%|          | 0/87 [00:00<?, ?it/s]\n"
     ]
    },
    {
     "name": "stdout",
     "output_type": "stream",
     "text": [
      "\u001b[2m\u001b[36m(func pid=21228)\u001b[0m \n",
      "\u001b[2m\u001b[36m(func pid=21228)\u001b[0m Epoch 74\n"
     ]
    },
    {
     "name": "stderr",
     "output_type": "stream",
     "text": [
      " 14%|█▍        | 12/87 [00:00<00:00, 112.11it/s]\n",
      " 28%|██▊       | 24/87 [00:00<00:00, 114.66it/s]\n",
      " 41%|████▏     | 36/87 [00:00<00:00, 113.94it/s]\n",
      " 55%|█████▌    | 48/87 [00:00<00:00, 114.86it/s]\n",
      " 69%|██████▉   | 60/87 [00:00<00:00, 115.12it/s]\n",
      " 83%|████████▎ | 72/87 [00:00<00:00, 113.36it/s]\n",
      "100%|██████████| 87/87 [00:00<00:00, 114.31it/s]\n",
      "  0%|          | 0/25 [00:00<?, ?it/s]\n",
      "100%|██████████| 25/25 [00:00<00:00, 212.88it/s]\n"
     ]
    },
    {
     "name": "stdout",
     "output_type": "stream",
     "text": [
      "\u001b[2m\u001b[36m(func pid=21228)\u001b[0m Epoch 00074: reducing learning rate of group 0 to 2.6686e-04.\n",
      "\u001b[2m\u001b[36m(func pid=21228)\u001b[0m \n",
      "\u001b[2m\u001b[36m(func pid=21228)\u001b[0m Epoch 75\n"
     ]
    },
    {
     "name": "stderr",
     "output_type": "stream",
     "text": [
      "  0%|          | 0/87 [00:00<?, ?it/s]\n",
      " 15%|█▍        | 13/87 [00:00<00:00, 122.62it/s]\n",
      " 30%|██▉       | 26/87 [00:00<00:00, 120.08it/s]\n",
      " 45%|████▍     | 39/87 [00:00<00:00, 116.77it/s]\n",
      " 59%|█████▊    | 51/87 [00:00<00:00, 117.92it/s]\n",
      " 72%|███████▏  | 63/87 [00:00<00:00, 117.81it/s]\n",
      " 87%|████████▋ | 76/87 [00:00<00:00, 119.23it/s]\n",
      "100%|██████████| 87/87 [00:00<00:00, 118.87it/s]\n",
      "  0%|          | 0/25 [00:00<?, ?it/s]\n",
      "100%|██████████| 25/25 [00:00<00:00, 219.85it/s]\n",
      "  0%|          | 0/87 [00:00<?, ?it/s]\n"
     ]
    },
    {
     "name": "stdout",
     "output_type": "stream",
     "text": [
      "\u001b[2m\u001b[36m(func pid=21228)\u001b[0m \n",
      "\u001b[2m\u001b[36m(func pid=21228)\u001b[0m Epoch 76\n"
     ]
    },
    {
     "name": "stderr",
     "output_type": "stream",
     "text": [
      " 14%|█▍        | 12/87 [00:00<00:00, 117.23it/s]\n",
      " 28%|██▊       | 24/87 [00:00<00:00, 116.78it/s]\n",
      " 43%|████▎     | 37/87 [00:00<00:00, 117.55it/s]\n",
      " 57%|█████▋    | 50/87 [00:00<00:00, 118.98it/s]\n",
      " 72%|███████▏  | 63/87 [00:00<00:00, 119.07it/s]\n",
      "100%|██████████| 87/87 [00:00<00:00, 118.72it/s]\n",
      "  0%|          | 0/25 [00:00<?, ?it/s]\n",
      " 44%|████▍     | 11/25 [00:00<00:00, 86.65it/s]\n",
      "100%|██████████| 25/25 [00:00<00:00, 129.66it/s]\n",
      "  0%|          | 0/87 [00:00<?, ?it/s]\n",
      " 14%|█▍        | 12/87 [00:00<00:00, 111.07it/s]\n"
     ]
    },
    {
     "name": "stdout",
     "output_type": "stream",
     "text": [
      "\u001b[2m\u001b[36m(func pid=21228)\u001b[0m \n",
      "\u001b[2m\u001b[36m(func pid=21228)\u001b[0m Epoch 77\n"
     ]
    },
    {
     "name": "stderr",
     "output_type": "stream",
     "text": [
      " 28%|██▊       | 24/87 [00:00<00:00, 112.97it/s]\n",
      " 41%|████▏     | 36/87 [00:00<00:00, 115.28it/s]\n",
      " 56%|█████▋    | 49/87 [00:00<00:00, 118.05it/s]\n",
      " 70%|███████   | 61/87 [00:00<00:00, 115.53it/s]\n",
      "  0%|          | 0/25 [00:00<?, ?it/s]\n",
      "100%|██████████| 25/25 [00:00<00:00, 198.45it/s]\n",
      "  0%|          | 0/87 [00:00<?, ?it/s]\n"
     ]
    },
    {
     "name": "stdout",
     "output_type": "stream",
     "text": [
      "\u001b[2m\u001b[36m(func pid=21228)\u001b[0m \n",
      "\u001b[2m\u001b[36m(func pid=21228)\u001b[0m Epoch 78\n"
     ]
    },
    {
     "name": "stderr",
     "output_type": "stream",
     "text": [
      " 14%|█▍        | 12/87 [00:00<00:00, 114.51it/s]\n",
      " 28%|██▊       | 24/87 [00:00<00:00, 110.68it/s]\n",
      " 41%|████▏     | 36/87 [00:00<00:00, 112.26it/s]\n",
      " 56%|█████▋    | 49/87 [00:00<00:00, 115.43it/s]\n",
      " 70%|███████   | 61/87 [00:00<00:00, 115.45it/s]\n",
      " 84%|████████▍ | 73/87 [00:00<00:00, 115.76it/s]\n",
      "100%|██████████| 87/87 [00:00<00:00, 114.79it/s]\n",
      "  0%|          | 0/25 [00:00<?, ?it/s]\n",
      "100%|██████████| 25/25 [00:00<00:00, 215.50it/s]\n",
      "  0%|          | 0/87 [00:00<?, ?it/s]\n",
      " 14%|█▍        | 12/87 [00:00<00:00, 115.42it/s]\n"
     ]
    },
    {
     "name": "stdout",
     "output_type": "stream",
     "text": [
      "\u001b[2m\u001b[36m(func pid=21228)\u001b[0m \n",
      "\u001b[2m\u001b[36m(func pid=21228)\u001b[0m Epoch 79\n"
     ]
    },
    {
     "name": "stderr",
     "output_type": "stream",
     "text": [
      " 28%|██▊       | 24/87 [00:00<00:00, 116.22it/s]\n",
      " 41%|████▏     | 36/87 [00:00<00:00, 113.34it/s]\n",
      " 55%|█████▌    | 48/87 [00:00<00:00, 112.37it/s]\n",
      " 69%|██████▉   | 60/87 [00:00<00:00, 114.63it/s]\n",
      " 83%|████████▎ | 72/87 [00:00<00:00, 115.98it/s]\n",
      "100%|██████████| 87/87 [00:00<00:00, 114.95it/s]\n",
      "  0%|          | 0/25 [00:00<?, ?it/s]\n",
      " 64%|██████▍   | 16/25 [00:00<00:00, 106.04it/s]\n",
      "100%|██████████| 25/25 [00:00<00:00, 130.95it/s]\n",
      "  0%|          | 0/87 [00:00<?, ?it/s]\n",
      " 13%|█▎        | 11/87 [00:00<00:00, 109.24it/s]\n"
     ]
    },
    {
     "name": "stdout",
     "output_type": "stream",
     "text": [
      "\u001b[2m\u001b[36m(func pid=21228)\u001b[0m \n",
      "\u001b[2m\u001b[36m(func pid=21228)\u001b[0m Epoch 80\n"
     ]
    },
    {
     "name": "stderr",
     "output_type": "stream",
     "text": [
      " 26%|██▋       | 23/87 [00:00<00:00, 113.63it/s]\n",
      " 40%|████      | 35/87 [00:00<00:00, 115.83it/s]\n",
      " 54%|█████▍    | 47/87 [00:00<00:00, 114.97it/s]\n",
      " 68%|██████▊   | 59/87 [00:00<00:00, 113.33it/s]\n",
      " 82%|████████▏ | 71/87 [00:00<00:00, 115.11it/s]\n",
      "100%|██████████| 87/87 [00:00<00:00, 114.80it/s]\n",
      "  0%|          | 0/25 [00:00<?, ?it/s]\n",
      "100%|██████████| 25/25 [00:00<00:00, 206.79it/s]\n",
      "  0%|          | 0/87 [00:00<?, ?it/s]\n"
     ]
    },
    {
     "name": "stdout",
     "output_type": "stream",
     "text": [
      "\u001b[2m\u001b[36m(func pid=21228)\u001b[0m \n",
      "\u001b[2m\u001b[36m(func pid=21228)\u001b[0m Epoch 81\n"
     ]
    },
    {
     "name": "stderr",
     "output_type": "stream",
     "text": [
      " 14%|█▍        | 12/87 [00:00<00:00, 113.19it/s]\n",
      " 28%|██▊       | 24/87 [00:00<00:00, 113.74it/s]\n",
      " 41%|████▏     | 36/87 [00:00<00:00, 115.48it/s]\n",
      " 55%|█████▌    | 48/87 [00:00<00:00, 115.49it/s]\n",
      " 69%|██████▉   | 60/87 [00:00<00:00, 114.42it/s]\n",
      " 83%|████████▎ | 72/87 [00:00<00:00, 115.09it/s]\n",
      "100%|██████████| 87/87 [00:00<00:00, 114.46it/s]\n",
      "  0%|          | 0/25 [00:00<?, ?it/s]\n",
      "100%|██████████| 25/25 [00:00<00:00, 204.88it/s]\n",
      "  0%|          | 0/87 [00:00<?, ?it/s]\n",
      " 13%|█▎        | 11/87 [00:00<00:00, 107.75it/s]\n"
     ]
    },
    {
     "name": "stdout",
     "output_type": "stream",
     "text": [
      "\u001b[2m\u001b[36m(func pid=21228)\u001b[0m \n",
      "\u001b[2m\u001b[36m(func pid=21228)\u001b[0m Epoch 82\n"
     ]
    },
    {
     "name": "stderr",
     "output_type": "stream",
     "text": [
      " 26%|██▋       | 23/87 [00:00<00:00, 112.37it/s]\n",
      " 40%|████      | 35/87 [00:00<00:00, 110.30it/s]\n",
      " 54%|█████▍    | 47/87 [00:00<00:00, 113.51it/s]\n",
      " 68%|██████▊   | 59/87 [00:00<00:00, 115.77it/s]\n",
      "  0%|          | 0/25 [00:00<?, ?it/s]\n",
      " 60%|██████    | 15/25 [00:00<00:00, 91.97it/s]\n",
      "100%|██████████| 25/25 [00:00<00:00, 117.71it/s]\n",
      "  0%|          | 0/87 [00:00<?, ?it/s]\n",
      " 14%|█▍        | 12/87 [00:00<00:00, 117.60it/s]\n"
     ]
    },
    {
     "name": "stdout",
     "output_type": "stream",
     "text": [
      "\u001b[2m\u001b[36m(func pid=21228)\u001b[0m \n",
      "\u001b[2m\u001b[36m(func pid=21228)\u001b[0m Epoch 83\n"
     ]
    },
    {
     "name": "stderr",
     "output_type": "stream",
     "text": [
      " 28%|██▊       | 24/87 [00:00<00:00, 116.31it/s]\n",
      " 41%|████▏     | 36/87 [00:00<00:00, 113.07it/s]\n",
      " 55%|█████▌    | 48/87 [00:00<00:00, 112.80it/s]\n",
      " 69%|██████▉   | 60/87 [00:00<00:00, 112.05it/s]\n",
      " 83%|████████▎ | 72/87 [00:00<00:00, 110.93it/s]\n",
      " 97%|█████████▋| 84/87 [00:00<00:00, 111.43it/s]\n",
      "100%|██████████| 87/87 [00:00<00:00, 112.49it/s]\n",
      "  0%|          | 0/25 [00:00<?, ?it/s]\n",
      "100%|██████████| 25/25 [00:00<00:00, 198.72it/s]\n",
      "  0%|          | 0/87 [00:00<?, ?it/s]\n",
      " 14%|█▍        | 12/87 [00:00<00:00, 116.40it/s]\n"
     ]
    },
    {
     "name": "stdout",
     "output_type": "stream",
     "text": [
      "\u001b[2m\u001b[36m(func pid=21228)\u001b[0m \n",
      "\u001b[2m\u001b[36m(func pid=21228)\u001b[0m Epoch 84\n"
     ]
    },
    {
     "name": "stderr",
     "output_type": "stream",
     "text": [
      " 28%|██▊       | 24/87 [00:00<00:00, 115.26it/s]\n",
      " 41%|████▏     | 36/87 [00:00<00:00, 114.11it/s]\n",
      " 55%|█████▌    | 48/87 [00:00<00:00, 110.89it/s]\n",
      " 69%|██████▉   | 60/87 [00:00<00:00, 108.43it/s]\n",
      " 82%|████████▏ | 71/87 [00:00<00:00, 108.21it/s]\n",
      "100%|██████████| 87/87 [00:00<00:00, 110.95it/s]\n",
      "  0%|          | 0/25 [00:00<?, ?it/s]\n",
      " 88%|████████▊ | 22/25 [00:00<00:00, 214.07it/s]\n",
      "100%|██████████| 25/25 [00:00<00:00, 213.97it/s]\n",
      "  0%|          | 0/87 [00:00<?, ?it/s]\n"
     ]
    },
    {
     "name": "stdout",
     "output_type": "stream",
     "text": [
      "\u001b[2m\u001b[36m(func pid=21228)\u001b[0m \n",
      "\u001b[2m\u001b[36m(func pid=21228)\u001b[0m Epoch 85\n"
     ]
    },
    {
     "name": "stderr",
     "output_type": "stream",
     "text": [
      " 13%|█▎        | 11/87 [00:00<00:00, 108.73it/s]\n",
      " 26%|██▋       | 23/87 [00:00<00:00, 114.05it/s]\n",
      " 40%|████      | 35/87 [00:00<00:00, 113.09it/s]\n",
      " 54%|█████▍    | 47/87 [00:00<00:00, 114.52it/s]\n",
      " 68%|██████▊   | 59/87 [00:00<00:00, 111.44it/s]\n",
      " 82%|████████▏ | 71/87 [00:00<00:00, 113.65it/s]\n",
      "100%|██████████| 87/87 [00:00<00:00, 113.26it/s]\n",
      "  0%|          | 0/25 [00:00<?, ?it/s]\n",
      " 32%|███▏      | 8/25 [00:00<00:00, 65.74it/s]\n",
      "100%|██████████| 25/25 [00:00<00:00, 120.76it/s]\n",
      "  0%|          | 0/87 [00:00<?, ?it/s]\n"
     ]
    },
    {
     "name": "stdout",
     "output_type": "stream",
     "text": [
      "\u001b[2m\u001b[36m(func pid=21228)\u001b[0m \n",
      "\u001b[2m\u001b[36m(func pid=21228)\u001b[0m Epoch 86\n"
     ]
    },
    {
     "name": "stderr",
     "output_type": "stream",
     "text": [
      " 13%|█▎        | 11/87 [00:00<00:00, 105.50it/s]\n",
      " 25%|██▌       | 22/87 [00:00<00:00, 105.12it/s]\n",
      " 38%|███▊      | 33/87 [00:00<00:00, 105.30it/s]\n",
      " 52%|█████▏    | 45/87 [00:00<00:00, 109.33it/s]\n",
      " 64%|██████▍   | 56/87 [00:00<00:00, 108.03it/s]\n",
      " 77%|███████▋  | 67/87 [00:00<00:00, 107.08it/s]\n",
      " 90%|████████▉ | 78/87 [00:00<00:00, 107.09it/s]\n",
      "100%|██████████| 87/87 [00:00<00:00, 107.59it/s]\n",
      "  0%|          | 0/25 [00:00<?, ?it/s]\n",
      "100%|██████████| 25/25 [00:00<00:00, 177.05it/s]\n",
      "  0%|          | 0/87 [00:00<?, ?it/s]\n"
     ]
    },
    {
     "name": "stdout",
     "output_type": "stream",
     "text": [
      "\u001b[2m\u001b[36m(func pid=21228)\u001b[0m \n",
      "\u001b[2m\u001b[36m(func pid=21228)\u001b[0m Epoch 87\n"
     ]
    },
    {
     "name": "stderr",
     "output_type": "stream",
     "text": [
      " 14%|█▍        | 12/87 [00:00<00:00, 111.21it/s]\n",
      " 28%|██▊       | 24/87 [00:00<00:00, 116.19it/s]\n",
      " 41%|████▏     | 36/87 [00:00<00:00, 108.50it/s]\n",
      " 54%|█████▍    | 47/87 [00:00<00:00, 100.52it/s]\n",
      " 67%|██████▋   | 58/87 [00:00<00:00, 102.27it/s]\n",
      " 79%|███████▉  | 69/87 [00:00<00:00, 103.10it/s]\n",
      "  0%|          | 0/25 [00:00<?, ?it/s]\n",
      "100%|██████████| 25/25 [00:00<00:00, 186.26it/s]\n",
      "  0%|          | 0/87 [00:00<?, ?it/s]\n"
     ]
    },
    {
     "name": "stdout",
     "output_type": "stream",
     "text": [
      "\u001b[2m\u001b[36m(func pid=21228)\u001b[0m Epoch 00087: reducing learning rate of group 0 to 1.3343e-04.\n",
      "\u001b[2m\u001b[36m(func pid=21228)\u001b[0m \n",
      "\u001b[2m\u001b[36m(func pid=21228)\u001b[0m Epoch 88\n"
     ]
    },
    {
     "name": "stderr",
     "output_type": "stream",
     "text": [
      " 25%|██▌       | 22/87 [00:00<00:00, 109.72it/s]\n",
      " 39%|███▉      | 34/87 [00:00<00:00, 112.24it/s]\n",
      " 53%|█████▎    | 46/87 [00:00<00:00, 103.46it/s]\n",
      " 67%|██████▋   | 58/87 [00:00<00:00, 106.49it/s]\n",
      " 92%|█████████▏| 80/87 [00:00<00:00, 107.21it/s]\n",
      "100%|██████████| 87/87 [00:00<00:00, 107.29it/s]\n",
      "  0%|          | 0/25 [00:00<?, ?it/s]\n",
      "100%|██████████| 25/25 [00:00<00:00, 126.40it/s]\n",
      "  0%|          | 0/87 [00:00<?, ?it/s]\n",
      " 13%|█▎        | 11/87 [00:00<00:00, 104.99it/s]\n"
     ]
    },
    {
     "name": "stdout",
     "output_type": "stream",
     "text": [
      "\u001b[2m\u001b[36m(func pid=21228)\u001b[0m \n",
      "\u001b[2m\u001b[36m(func pid=21228)\u001b[0m Epoch 89\n"
     ]
    },
    {
     "name": "stderr",
     "output_type": "stream",
     "text": [
      " 25%|██▌       | 22/87 [00:00<00:00, 107.79it/s]\n",
      " 38%|███▊      | 33/87 [00:00<00:00, 106.99it/s]\n",
      " 51%|█████     | 44/87 [00:00<00:00, 106.41it/s]\n",
      " 63%|██████▎   | 55/87 [00:00<00:00, 103.51it/s]\n",
      " 76%|███████▌  | 66/87 [00:00<00:00, 103.71it/s]\n",
      "100%|██████████| 87/87 [00:00<00:00, 105.79it/s]\n",
      "  0%|          | 0/25 [00:00<?, ?it/s]\n",
      "100%|██████████| 25/25 [00:00<00:00, 198.65it/s]\n",
      "  0%|          | 0/87 [00:00<?, ?it/s]\n",
      " 13%|█▎        | 11/87 [00:00<00:00, 103.39it/s]\n"
     ]
    },
    {
     "name": "stdout",
     "output_type": "stream",
     "text": [
      "\u001b[2m\u001b[36m(func pid=21228)\u001b[0m \n",
      "\u001b[2m\u001b[36m(func pid=21228)\u001b[0m Epoch 90\n"
     ]
    },
    {
     "name": "stderr",
     "output_type": "stream",
     "text": [
      " 25%|██▌       | 22/87 [00:00<00:00, 104.96it/s]\n",
      " 52%|█████▏    | 45/87 [00:00<00:00, 110.43it/s]\n",
      " 66%|██████▌   | 57/87 [00:00<00:00, 110.30it/s]\n",
      " 79%|███████▉  | 69/87 [00:00<00:00, 110.98it/s]\n",
      " 93%|█████████▎| 81/87 [00:00<00:00, 111.70it/s]\n",
      "100%|██████████| 87/87 [00:00<00:00, 110.12it/s]\n",
      "  0%|          | 0/25 [00:00<?, ?it/s]\n",
      " 84%|████████▍ | 21/25 [00:00<00:00, 205.83it/s]\n",
      "100%|██████████| 25/25 [00:00<00:00, 206.75it/s]\n",
      "  0%|          | 0/87 [00:00<?, ?it/s]\n"
     ]
    },
    {
     "name": "stdout",
     "output_type": "stream",
     "text": [
      "\u001b[2m\u001b[36m(func pid=21228)\u001b[0m \n",
      "\u001b[2m\u001b[36m(func pid=21228)\u001b[0m Epoch 91\n"
     ]
    },
    {
     "name": "stderr",
     "output_type": "stream",
     "text": [
      " 13%|█▎        | 11/87 [00:00<00:00, 107.97it/s]\n",
      " 28%|██▊       | 24/87 [00:00<00:00, 113.37it/s]\n",
      " 41%|████▏     | 36/87 [00:00<00:00, 111.50it/s]\n",
      " 55%|█████▌    | 48/87 [00:00<00:00, 110.42it/s]\n",
      " 69%|██████▉   | 60/87 [00:00<00:00, 110.73it/s]\n",
      " 83%|████████▎ | 72/87 [00:00<00:00, 109.70it/s]\n",
      "100%|██████████| 87/87 [00:00<00:00, 111.31it/s]\n",
      "  0%|          | 0/25 [00:00<?, ?it/s]\n",
      " 72%|███████▏  | 18/25 [00:00<00:00, 109.75it/s]\n",
      "100%|██████████| 25/25 [00:00<00:00, 121.48it/s]\n",
      "  0%|          | 0/87 [00:00<?, ?it/s]\n"
     ]
    },
    {
     "name": "stdout",
     "output_type": "stream",
     "text": [
      "\u001b[2m\u001b[36m(func pid=21228)\u001b[0m \n",
      "\u001b[2m\u001b[36m(func pid=21228)\u001b[0m Epoch 92\n"
     ]
    },
    {
     "name": "stderr",
     "output_type": "stream",
     "text": [
      " 11%|█▏        | 10/87 [00:00<00:00, 96.22it/s]\n",
      " 23%|██▎       | 20/87 [00:00<00:00, 96.88it/s]\n",
      " 34%|███▍      | 30/87 [00:00<00:00, 96.14it/s]\n",
      " 46%|████▌     | 40/87 [00:00<00:00, 94.36it/s]\n",
      " 59%|█████▊    | 51/87 [00:00<00:00, 97.77it/s]\n",
      " 70%|███████   | 61/87 [00:00<00:00, 97.97it/s]\n",
      "  0%|          | 0/25 [00:00<?, ?it/s]\n",
      "100%|██████████| 25/25 [00:00<00:00, 178.42it/s]\n",
      "  0%|          | 0/87 [00:00<?, ?it/s]\n",
      " 13%|█▎        | 11/87 [00:00<00:00, 108.85it/s]\n"
     ]
    },
    {
     "name": "stdout",
     "output_type": "stream",
     "text": [
      "\u001b[2m\u001b[36m(func pid=21228)\u001b[0m \n",
      "\u001b[2m\u001b[36m(func pid=21228)\u001b[0m Epoch 93\n"
     ]
    },
    {
     "name": "stderr",
     "output_type": "stream",
     "text": [
      " 25%|██▌       | 22/87 [00:00<00:00, 103.94it/s]\n",
      " 38%|███▊      | 33/87 [00:00<00:00, 105.72it/s]\n",
      " 52%|█████▏    | 45/87 [00:00<00:00, 109.45it/s]\n",
      " 67%|██████▋   | 58/87 [00:00<00:00, 112.67it/s]\n",
      " 80%|████████  | 70/87 [00:00<00:00, 114.47it/s]\n",
      " 95%|█████████▌| 83/87 [00:00<00:00, 116.65it/s]\n",
      "100%|██████████| 87/87 [00:00<00:00, 113.21it/s]\n",
      "  0%|          | 0/25 [00:00<?, ?it/s]\n",
      "100%|██████████| 25/25 [00:00<00:00, 208.73it/s]\n",
      "  0%|          | 0/87 [00:00<?, ?it/s]\n"
     ]
    },
    {
     "name": "stdout",
     "output_type": "stream",
     "text": [
      "\u001b[2m\u001b[36m(func pid=21228)\u001b[0m \n",
      "\u001b[2m\u001b[36m(func pid=21228)\u001b[0m Epoch 94\n"
     ]
    },
    {
     "name": "stderr",
     "output_type": "stream",
     "text": [
      " 14%|█▍        | 12/87 [00:00<00:00, 116.87it/s]\n",
      " 28%|██▊       | 24/87 [00:00<00:00, 117.23it/s]\n",
      " 41%|████▏     | 36/87 [00:00<00:00, 117.78it/s]\n",
      " 55%|█████▌    | 48/87 [00:00<00:00, 116.03it/s]\n",
      " 69%|██████▉   | 60/87 [00:00<00:00, 115.22it/s]\n",
      " 83%|████████▎ | 72/87 [00:00<00:00, 110.30it/s]\n",
      "100%|██████████| 87/87 [00:00<00:00, 111.52it/s]\n",
      "  0%|          | 0/25 [00:00<?, ?it/s]\n",
      "100%|██████████| 25/25 [00:00<00:00, 119.65it/s]\n",
      "  0%|          | 0/87 [00:00<?, ?it/s]\n"
     ]
    },
    {
     "name": "stdout",
     "output_type": "stream",
     "text": [
      "\u001b[2m\u001b[36m(func pid=21228)\u001b[0m \n",
      "\u001b[2m\u001b[36m(func pid=21228)\u001b[0m Epoch 95\n"
     ]
    },
    {
     "name": "stderr",
     "output_type": "stream",
     "text": [
      " 14%|█▍        | 12/87 [00:00<00:00, 117.48it/s]\n",
      " 28%|██▊       | 24/87 [00:00<00:00, 118.88it/s]\n",
      " 41%|████▏     | 36/87 [00:00<00:00, 118.87it/s]\n",
      " 55%|█████▌    | 48/87 [00:00<00:00, 117.96it/s]\n",
      " 69%|██████▉   | 60/87 [00:00<00:00, 114.14it/s]\n",
      " 83%|████████▎ | 72/87 [00:00<00:00, 112.41it/s]\n",
      "100%|██████████| 87/87 [00:00<00:00, 115.70it/s]\n",
      "  0%|          | 0/25 [00:00<?, ?it/s]\n",
      " 88%|████████▊ | 22/25 [00:00<00:00, 212.93it/s]\n",
      "100%|██████████| 25/25 [00:00<00:00, 213.23it/s]\n",
      "  0%|          | 0/87 [00:00<?, ?it/s]\n",
      " 14%|█▍        | 12/87 [00:00<00:00, 115.81it/s]\n"
     ]
    },
    {
     "name": "stdout",
     "output_type": "stream",
     "text": [
      "\u001b[2m\u001b[36m(func pid=21228)\u001b[0m \n",
      "\u001b[2m\u001b[36m(func pid=21228)\u001b[0m Epoch 96\n"
     ]
    },
    {
     "name": "stderr",
     "output_type": "stream",
     "text": [
      " 28%|██▊       | 24/87 [00:00<00:00, 116.42it/s]\n",
      " 41%|████▏     | 36/87 [00:00<00:00, 114.27it/s]\n",
      " 55%|█████▌    | 48/87 [00:00<00:00, 115.31it/s]\n",
      " 69%|██████▉   | 60/87 [00:00<00:00, 113.75it/s]\n",
      " 83%|████████▎ | 72/87 [00:00<00:00, 112.56it/s]\n",
      "100%|██████████| 87/87 [00:00<00:00, 114.08it/s]\n",
      "  0%|          | 0/25 [00:00<?, ?it/s]\n",
      "100%|██████████| 25/25 [00:00<00:00, 194.73it/s]\n",
      "  0%|          | 0/87 [00:00<?, ?it/s]\n"
     ]
    },
    {
     "name": "stdout",
     "output_type": "stream",
     "text": [
      "\u001b[2m\u001b[36m(func pid=21228)\u001b[0m \n",
      "\u001b[2m\u001b[36m(func pid=21228)\u001b[0m Epoch 97\n"
     ]
    },
    {
     "name": "stderr",
     "output_type": "stream",
     "text": [
      " 13%|█▎        | 11/87 [00:00<00:00, 100.03it/s]\n",
      " 25%|██▌       | 22/87 [00:00<00:00, 102.06it/s]\n",
      " 38%|███▊      | 33/87 [00:00<00:00, 104.93it/s]\n",
      " 51%|█████     | 44/87 [00:00<00:00, 106.04it/s]\n",
      " 64%|██████▍   | 56/87 [00:00<00:00, 108.84it/s]\n",
      " 78%|███████▊  | 68/87 [00:00<00:00, 109.66it/s]\n",
      "  0%|          | 0/25 [00:00<?, ?it/s]\n",
      " 64%|██████▍   | 16/25 [00:00<00:00, 90.86it/s]\n",
      "100%|██████████| 25/25 [00:00<00:00, 112.64it/s]\n",
      "  0%|          | 0/87 [00:00<?, ?it/s]\n",
      " 13%|█▎        | 11/87 [00:00<00:00, 105.61it/s]\n"
     ]
    },
    {
     "name": "stdout",
     "output_type": "stream",
     "text": [
      "\u001b[2m\u001b[36m(func pid=21228)\u001b[0m Epoch 00097: reducing learning rate of group 0 to 6.6715e-05.\n",
      "\u001b[2m\u001b[36m(func pid=21228)\u001b[0m \n",
      "\u001b[2m\u001b[36m(func pid=21228)\u001b[0m Epoch 98\n"
     ]
    },
    {
     "name": "stderr",
     "output_type": "stream",
     "text": [
      " 25%|██▌       | 22/87 [00:00<00:00, 103.51it/s]\n",
      " 38%|███▊      | 33/87 [00:00<00:00, 105.82it/s]\n",
      " 52%|█████▏    | 45/87 [00:00<00:00, 108.02it/s]\n",
      " 64%|██████▍   | 56/87 [00:00<00:00, 103.65it/s]\n",
      " 77%|███████▋  | 67/87 [00:00<00:00, 101.12it/s]\n",
      " 90%|████████▉ | 78/87 [00:00<00:00, 103.83it/s]\n",
      "100%|██████████| 87/87 [00:00<00:00, 104.70it/s]\n",
      "  0%|          | 0/25 [00:00<?, ?it/s]\n",
      "100%|██████████| 25/25 [00:00<00:00, 195.01it/s]\n",
      "  0%|          | 0/87 [00:00<?, ?it/s]\n",
      " 13%|█▎        | 11/87 [00:00<00:00, 109.10it/s]\n"
     ]
    },
    {
     "name": "stdout",
     "output_type": "stream",
     "text": [
      "\u001b[2m\u001b[36m(func pid=21228)\u001b[0m \n",
      "\u001b[2m\u001b[36m(func pid=21228)\u001b[0m Epoch 99\n"
     ]
    },
    {
     "name": "stderr",
     "output_type": "stream",
     "text": [
      " 25%|██▌       | 22/87 [00:00<00:00, 106.55it/s]\n",
      " 38%|███▊      | 33/87 [00:00<00:00, 108.03it/s]\n",
      " 51%|█████     | 44/87 [00:00<00:00, 106.28it/s]\n",
      " 64%|██████▍   | 56/87 [00:00<00:00, 107.75it/s]\n",
      " 78%|███████▊  | 68/87 [00:00<00:00, 108.58it/s]\n",
      "100%|██████████| 87/87 [00:00<00:00, 108.11it/s]\n",
      "  0%|          | 0/25 [00:00<?, ?it/s]\n",
      "100%|██████████| 25/25 [00:00<00:00, 196.91it/s]\n",
      "  0%|          | 0/87 [00:00<?, ?it/s]\n",
      " 13%|█▎        | 11/87 [00:00<00:00, 106.76it/s]\n"
     ]
    },
    {
     "name": "stdout",
     "output_type": "stream",
     "text": [
      "\u001b[2m\u001b[36m(func pid=21228)\u001b[0m \n",
      "\u001b[2m\u001b[36m(func pid=21228)\u001b[0m Epoch 100\n"
     ]
    },
    {
     "name": "stderr",
     "output_type": "stream",
     "text": [
      " 25%|██▌       | 22/87 [00:00<00:00, 107.93it/s]\n",
      " 38%|███▊      | 33/87 [00:00<00:00, 105.91it/s]\n",
      " 52%|█████▏    | 45/87 [00:00<00:00, 108.94it/s]\n",
      " 64%|██████▍   | 56/87 [00:00<00:00, 109.30it/s]\n",
      " 77%|███████▋  | 67/87 [00:00<00:00, 102.95it/s]\n",
      " 90%|████████▉ | 78/87 [00:00<00:00, 102.01it/s]\n",
      "100%|██████████| 87/87 [00:00<00:00, 104.73it/s]\n",
      "  0%|          | 0/25 [00:00<?, ?it/s]\n",
      " 60%|██████    | 15/25 [00:00<00:00, 79.82it/s]\n",
      "100%|██████████| 25/25 [00:00<00:00, 106.08it/s]\n",
      "  0%|          | 0/87 [00:00<?, ?it/s]\n",
      " 14%|█▍        | 12/87 [00:00<00:00, 112.27it/s]\n"
     ]
    },
    {
     "name": "stdout",
     "output_type": "stream",
     "text": [
      "\u001b[2m\u001b[36m(func pid=21228)\u001b[0m \n",
      "\u001b[2m\u001b[36m(func pid=21228)\u001b[0m Epoch 101\n"
     ]
    },
    {
     "name": "stderr",
     "output_type": "stream",
     "text": [
      " 28%|██▊       | 24/87 [00:00<00:00, 110.35it/s]\n",
      " 41%|████▏     | 36/87 [00:00<00:00, 112.44it/s]\n",
      " 55%|█████▌    | 48/87 [00:00<00:00, 114.53it/s]\n",
      " 69%|██████▉   | 60/87 [00:00<00:00, 115.67it/s]\n",
      " 83%|████████▎ | 72/87 [00:00<00:00, 115.93it/s]\n",
      "100%|██████████| 87/87 [00:00<00:00, 98.75it/s] \n",
      "  0%|          | 0/25 [00:00<?, ?it/s]\n",
      " 88%|████████▊ | 22/25 [00:00<00:00, 216.00it/s]\n",
      "100%|██████████| 25/25 [00:00<00:00, 214.73it/s]\n",
      "  0%|          | 0/87 [00:00<?, ?it/s]\n"
     ]
    },
    {
     "name": "stdout",
     "output_type": "stream",
     "text": [
      "\u001b[2m\u001b[36m(func pid=21228)\u001b[0m \n",
      "\u001b[2m\u001b[36m(func pid=21228)\u001b[0m Epoch 102\n"
     ]
    },
    {
     "name": "stderr",
     "output_type": "stream",
     "text": [
      " 14%|█▍        | 12/87 [00:00<00:00, 111.02it/s]\n",
      " 28%|██▊       | 24/87 [00:00<00:00, 112.88it/s]\n",
      " 41%|████▏     | 36/87 [00:00<00:00, 111.17it/s]\n",
      " 55%|█████▌    | 48/87 [00:00<00:00, 112.03it/s]\n",
      " 69%|██████▉   | 60/87 [00:00<00:00, 111.97it/s]\n",
      " 83%|████████▎ | 72/87 [00:00<00:00, 113.27it/s]\n",
      "  0%|          | 0/25 [00:00<?, ?it/s]\n",
      "100%|██████████| 25/25 [00:00<00:00, 195.36it/s]\n",
      "  0%|          | 0/87 [00:00<?, ?it/s]\n",
      " 14%|█▍        | 12/87 [00:00<00:00, 111.95it/s]\n"
     ]
    },
    {
     "name": "stdout",
     "output_type": "stream",
     "text": [
      "\u001b[2m\u001b[36m(func pid=21228)\u001b[0m \n",
      "\u001b[2m\u001b[36m(func pid=21228)\u001b[0m Epoch 103\n"
     ]
    },
    {
     "name": "stderr",
     "output_type": "stream",
     "text": [
      " 29%|██▊       | 25/87 [00:00<00:00, 118.75it/s]\n",
      " 43%|████▎     | 37/87 [00:00<00:00, 117.22it/s]\n",
      " 56%|█████▋    | 49/87 [00:00<00:00, 114.85it/s]\n",
      " 70%|███████   | 61/87 [00:00<00:00, 116.20it/s]\n",
      " 84%|████████▍ | 73/87 [00:00<00:00, 115.93it/s]\n",
      "100%|██████████| 87/87 [00:00<00:00, 116.52it/s]\n",
      "  0%|          | 0/25 [00:00<?, ?it/s]\n",
      "100%|██████████| 25/25 [00:00<00:00, 206.14it/s]\n",
      "  0%|          | 0/87 [00:00<?, ?it/s]\n",
      " 13%|█▎        | 11/87 [00:00<00:00, 107.57it/s]\n"
     ]
    },
    {
     "name": "stdout",
     "output_type": "stream",
     "text": [
      "\u001b[2m\u001b[36m(func pid=21228)\u001b[0m Epoch 00103: reducing learning rate of group 0 to 3.3357e-05.\n",
      "\u001b[2m\u001b[36m(func pid=21228)\u001b[0m \n",
      "\u001b[2m\u001b[36m(func pid=21228)\u001b[0m Epoch 104\n"
     ]
    },
    {
     "name": "stderr",
     "output_type": "stream",
     "text": [
      " 26%|██▋       | 23/87 [00:00<00:00, 114.43it/s]\n",
      " 41%|████▏     | 36/87 [00:00<00:00, 117.08it/s]\n",
      " 55%|█████▌    | 48/87 [00:00<00:00, 117.69it/s]\n",
      " 70%|███████   | 61/87 [00:00<00:00, 119.10it/s]\n",
      " 84%|████████▍ | 73/87 [00:00<00:00, 117.51it/s]\n",
      "100%|██████████| 87/87 [00:00<00:00, 117.00it/s]\n",
      "  0%|          | 0/25 [00:00<?, ?it/s]\n",
      "100%|██████████| 25/25 [00:00<00:00, 206.85it/s]\n",
      "  0%|          | 0/87 [00:00<?, ?it/s]\n",
      " 13%|█▎        | 11/87 [00:00<00:00, 109.78it/s]\n"
     ]
    },
    {
     "name": "stdout",
     "output_type": "stream",
     "text": [
      "\u001b[2m\u001b[36m(func pid=21228)\u001b[0m \n",
      "\u001b[2m\u001b[36m(func pid=21228)\u001b[0m Epoch 105\n"
     ]
    },
    {
     "name": "stderr",
     "output_type": "stream",
     "text": [
      " 25%|██▌       | 22/87 [00:00<00:00, 71.57it/s] \n",
      " 39%|███▉      | 34/87 [00:00<00:00, 88.03it/s]\n",
      " 54%|█████▍    | 47/87 [00:00<00:00, 99.45it/s]\n",
      " 68%|██████▊   | 59/87 [00:00<00:00, 105.66it/s]\n",
      " 82%|████████▏ | 71/87 [00:00<00:00, 109.97it/s]\n",
      "100%|██████████| 87/87 [00:00<00:00, 104.29it/s]\n",
      "  0%|          | 0/25 [00:00<?, ?it/s]\n",
      "100%|██████████| 25/25 [00:00<00:00, 209.53it/s]\n",
      "  0%|          | 0/87 [00:00<?, ?it/s]\n"
     ]
    },
    {
     "name": "stdout",
     "output_type": "stream",
     "text": [
      "\u001b[2m\u001b[36m(func pid=21228)\u001b[0m \n",
      "\u001b[2m\u001b[36m(func pid=21228)\u001b[0m Epoch 106\n"
     ]
    },
    {
     "name": "stderr",
     "output_type": "stream",
     "text": [
      " 14%|█▍        | 12/87 [00:00<00:00, 118.42it/s]\n",
      " 28%|██▊       | 24/87 [00:00<00:00, 114.88it/s]\n",
      " 41%|████▏     | 36/87 [00:00<00:00, 113.28it/s]\n",
      " 55%|█████▌    | 48/87 [00:00<00:00, 114.17it/s]\n",
      " 70%|███████   | 61/87 [00:00<00:00, 116.52it/s]\n",
      " 84%|████████▍ | 73/87 [00:00<00:00, 116.96it/s]\n",
      "100%|██████████| 87/87 [00:00<00:00, 115.56it/s]\n",
      "  0%|          | 0/25 [00:00<?, ?it/s]\n",
      "100%|██████████| 25/25 [00:00<00:00, 204.69it/s]\n",
      "  0%|          | 0/87 [00:00<?, ?it/s]\n",
      " 14%|█▍        | 12/87 [00:00<00:00, 116.54it/s]\n"
     ]
    },
    {
     "name": "stdout",
     "output_type": "stream",
     "text": [
      "\u001b[2m\u001b[36m(func pid=21228)\u001b[0m \n",
      "\u001b[2m\u001b[36m(func pid=21228)\u001b[0m Epoch 107\n"
     ]
    },
    {
     "name": "stderr",
     "output_type": "stream",
     "text": [
      " 28%|██▊       | 24/87 [00:00<00:00, 115.20it/s]\n",
      " 41%|████▏     | 36/87 [00:00<00:00, 114.28it/s]\n",
      " 55%|█████▌    | 48/87 [00:00<00:00, 113.75it/s]\n",
      " 69%|██████▉   | 60/87 [00:00<00:00, 114.79it/s]\n",
      "  0%|          | 0/25 [00:00<?, ?it/s]\n",
      "100%|██████████| 25/25 [00:00<00:00, 200.32it/s]\n",
      "  0%|          | 0/87 [00:00<?, ?it/s]\n",
      " 14%|█▍        | 12/87 [00:00<00:00, 114.28it/s]\n"
     ]
    },
    {
     "name": "stdout",
     "output_type": "stream",
     "text": [
      "\u001b[2m\u001b[36m(func pid=21228)\u001b[0m \n",
      "\u001b[2m\u001b[36m(func pid=21228)\u001b[0m Epoch 108\n"
     ]
    },
    {
     "name": "stderr",
     "output_type": "stream",
     "text": [
      " 28%|██▊       | 24/87 [00:00<00:00, 113.21it/s]\n",
      " 41%|████▏     | 36/87 [00:00<00:00, 111.49it/s]\n",
      " 55%|█████▌    | 48/87 [00:00<00:00, 112.65it/s]\n",
      " 69%|██████▉   | 60/87 [00:00<00:00, 89.65it/s] \n",
      " 83%|████████▎ | 72/87 [00:00<00:00, 96.31it/s]\n",
      " 97%|█████████▋| 84/87 [00:00<00:00, 100.35it/s]\n",
      "100%|██████████| 87/87 [00:00<00:00, 102.43it/s]\n",
      "  0%|          | 0/25 [00:00<?, ?it/s]\n",
      "100%|██████████| 25/25 [00:00<00:00, 166.29it/s]\n",
      "  0%|          | 0/87 [00:00<?, ?it/s]\n",
      " 14%|█▍        | 12/87 [00:00<00:00, 115.65it/s]\n"
     ]
    },
    {
     "name": "stdout",
     "output_type": "stream",
     "text": [
      "\u001b[2m\u001b[36m(func pid=21228)\u001b[0m \n",
      "\u001b[2m\u001b[36m(func pid=21228)\u001b[0m Epoch 109\n"
     ]
    },
    {
     "name": "stderr",
     "output_type": "stream",
     "text": [
      " 28%|██▊       | 24/87 [00:00<00:00, 109.33it/s]\n",
      " 41%|████▏     | 36/87 [00:00<00:00, 111.37it/s]\n",
      " 55%|█████▌    | 48/87 [00:00<00:00, 109.38it/s]\n",
      " 69%|██████▉   | 60/87 [00:00<00:00, 110.51it/s]\n",
      " 83%|████████▎ | 72/87 [00:00<00:00, 109.85it/s]\n",
      "100%|██████████| 87/87 [00:00<00:00, 110.41it/s]\n",
      "  0%|          | 0/25 [00:00<?, ?it/s]\n",
      "100%|██████████| 25/25 [00:00<00:00, 203.17it/s]\n",
      "  0%|          | 0/87 [00:00<?, ?it/s]\n"
     ]
    },
    {
     "name": "stdout",
     "output_type": "stream",
     "text": [
      "\u001b[2m\u001b[36m(func pid=21228)\u001b[0m \n",
      "\u001b[2m\u001b[36m(func pid=21228)\u001b[0m Epoch 110\n"
     ]
    },
    {
     "name": "stderr",
     "output_type": "stream",
     "text": [
      " 13%|█▎        | 11/87 [00:00<00:00, 106.91it/s]\n",
      " 25%|██▌       | 22/87 [00:00<00:00, 104.44it/s]\n",
      " 38%|███▊      | 33/87 [00:00<00:00, 104.62it/s]\n",
      " 52%|█████▏    | 45/87 [00:00<00:00, 107.14it/s]\n",
      " 64%|██████▍   | 56/87 [00:00<00:00, 107.70it/s]\n",
      " 77%|███████▋  | 67/87 [00:00<00:00, 108.21it/s]\n",
      " 90%|████████▉ | 78/87 [00:00<00:00, 108.40it/s]\n",
      "100%|██████████| 87/87 [00:00<00:00, 107.55it/s]\n",
      "  0%|          | 0/25 [00:00<?, ?it/s]\n",
      "100%|██████████| 25/25 [00:00<00:00, 196.64it/s]\n",
      "  0%|          | 0/87 [00:00<?, ?it/s]\n"
     ]
    },
    {
     "name": "stdout",
     "output_type": "stream",
     "text": [
      "\u001b[2m\u001b[36m(func pid=21228)\u001b[0m \n",
      "\u001b[2m\u001b[36m(func pid=21228)\u001b[0m Epoch 111\n"
     ]
    },
    {
     "name": "stderr",
     "output_type": "stream",
     "text": [
      " 14%|█▍        | 12/87 [00:00<00:00, 114.51it/s]\n",
      " 28%|██▊       | 24/87 [00:00<00:00, 110.01it/s]\n",
      " 41%|████▏     | 36/87 [00:00<00:00, 109.00it/s]\n",
      " 54%|█████▍    | 47/87 [00:00<00:00, 109.26it/s]\n",
      " 67%|██████▋   | 58/87 [00:00<00:00, 109.41it/s]\n",
      " 79%|███████▉  | 69/87 [00:00<00:00, 108.33it/s]\n",
      " 92%|█████████▏| 80/87 [00:00<00:00, 86.86it/s] \n",
      "100%|██████████| 87/87 [00:00<00:00, 99.27it/s]\n",
      "  0%|          | 0/25 [00:00<?, ?it/s]\n",
      "100%|██████████| 25/25 [00:00<00:00, 199.94it/s]\n",
      "  0%|          | 0/87 [00:00<?, ?it/s]\n"
     ]
    },
    {
     "name": "stdout",
     "output_type": "stream",
     "text": [
      "\u001b[2m\u001b[36m(func pid=21228)\u001b[0m \n",
      "\u001b[2m\u001b[36m(func pid=21228)\u001b[0m Epoch 112\n"
     ]
    },
    {
     "name": "stderr",
     "output_type": "stream",
     "text": [
      " 14%|█▍        | 12/87 [00:00<00:00, 114.27it/s]\n",
      " 28%|██▊       | 24/87 [00:00<00:00, 114.99it/s]\n",
      " 41%|████▏     | 36/87 [00:00<00:00, 113.05it/s]\n",
      " 55%|█████▌    | 48/87 [00:00<00:00, 111.51it/s]\n",
      " 69%|██████▉   | 60/87 [00:00<00:00, 114.39it/s]\n",
      " 83%|████████▎ | 72/87 [00:00<00:00, 115.76it/s]\n",
      "  0%|          | 0/25 [00:00<?, ?it/s]\n",
      "100%|██████████| 25/25 [00:00<00:00, 200.66it/s]\n",
      "  0%|          | 0/87 [00:00<?, ?it/s]\n",
      " 14%|█▍        | 12/87 [00:00<00:00, 116.53it/s]\n"
     ]
    },
    {
     "name": "stdout",
     "output_type": "stream",
     "text": [
      "\u001b[2m\u001b[36m(func pid=21228)\u001b[0m Epoch 00112: reducing learning rate of group 0 to 1.6679e-05.\n",
      "\u001b[2m\u001b[36m(func pid=21228)\u001b[0m \n",
      "\u001b[2m\u001b[36m(func pid=21228)\u001b[0m Epoch 113\n"
     ]
    },
    {
     "name": "stderr",
     "output_type": "stream",
     "text": [
      " 28%|██▊       | 24/87 [00:00<00:00, 117.21it/s]\n",
      " 41%|████▏     | 36/87 [00:00<00:00, 115.76it/s]\n",
      " 55%|█████▌    | 48/87 [00:00<00:00, 115.72it/s]\n",
      " 69%|██████▉   | 60/87 [00:00<00:00, 116.42it/s]\n",
      " 83%|████████▎ | 72/87 [00:00<00:00, 117.19it/s]\n",
      "100%|██████████| 87/87 [00:00<00:00, 116.95it/s]\n",
      "  0%|          | 0/25 [00:00<?, ?it/s]\n",
      "100%|██████████| 25/25 [00:00<00:00, 210.98it/s]\n",
      "  0%|          | 0/87 [00:00<?, ?it/s]\n",
      " 14%|█▍        | 12/87 [00:00<00:00, 112.25it/s]\n"
     ]
    },
    {
     "name": "stdout",
     "output_type": "stream",
     "text": [
      "\u001b[2m\u001b[36m(func pid=21228)\u001b[0m \n",
      "\u001b[2m\u001b[36m(func pid=21228)\u001b[0m Epoch 114\n"
     ]
    },
    {
     "name": "stderr",
     "output_type": "stream",
     "text": [
      " 28%|██▊       | 24/87 [00:00<00:00, 115.21it/s]\n",
      " 56%|█████▋    | 49/87 [00:00<00:00, 116.55it/s]\n",
      " 70%|███████   | 61/87 [00:00<00:00, 117.27it/s]\n",
      " 84%|████████▍ | 73/87 [00:00<00:00, 117.48it/s]\n",
      "100%|██████████| 87/87 [00:00<00:00, 117.45it/s]\n",
      "  0%|          | 0/25 [00:00<?, ?it/s]\n",
      " 28%|██▊       | 7/25 [00:00<00:00, 62.47it/s]\n",
      "100%|██████████| 25/25 [00:00<00:00, 127.69it/s]\n",
      "  0%|          | 0/87 [00:00<?, ?it/s]\n",
      " 14%|█▍        | 12/87 [00:00<00:00, 116.51it/s]\n"
     ]
    },
    {
     "name": "stdout",
     "output_type": "stream",
     "text": [
      "\u001b[2m\u001b[36m(func pid=21228)\u001b[0m \n",
      "\u001b[2m\u001b[36m(func pid=21228)\u001b[0m Epoch 115\n"
     ]
    },
    {
     "name": "stderr",
     "output_type": "stream",
     "text": [
      " 29%|██▊       | 25/87 [00:00<00:00, 119.54it/s]\n",
      " 43%|████▎     | 37/87 [00:00<00:00, 117.48it/s]\n",
      " 56%|█████▋    | 49/87 [00:00<00:00, 117.14it/s]\n",
      " 70%|███████   | 61/87 [00:00<00:00, 117.70it/s]\n",
      " 84%|████████▍ | 73/87 [00:00<00:00, 117.83it/s]\n",
      "100%|██████████| 87/87 [00:00<00:00, 117.24it/s]\n",
      "  0%|          | 0/25 [00:00<?, ?it/s]\n",
      "100%|██████████| 25/25 [00:00<00:00, 204.98it/s]\n",
      "  0%|          | 0/87 [00:00<?, ?it/s]\n",
      " 15%|█▍        | 13/87 [00:00<00:00, 120.52it/s]\n"
     ]
    },
    {
     "name": "stdout",
     "output_type": "stream",
     "text": [
      "\u001b[2m\u001b[36m(func pid=21228)\u001b[0m \n",
      "\u001b[2m\u001b[36m(func pid=21228)\u001b[0m Epoch 116\n"
     ]
    },
    {
     "name": "stderr",
     "output_type": "stream",
     "text": [
      " 30%|██▉       | 26/87 [00:00<00:00, 120.80it/s]\n",
      " 45%|████▍     | 39/87 [00:00<00:00, 117.74it/s]\n",
      " 59%|█████▊    | 51/87 [00:00<00:00, 117.25it/s]\n",
      " 72%|███████▏  | 63/87 [00:00<00:00, 117.83it/s]\n",
      " 86%|████████▌ | 75/87 [00:00<00:00, 117.76it/s]\n",
      "100%|██████████| 87/87 [00:00<00:00, 117.80it/s]\n",
      "  0%|          | 0/25 [00:00<?, ?it/s]\n",
      "100%|██████████| 25/25 [00:00<00:00, 209.89it/s]\n",
      "  0%|          | 0/87 [00:00<?, ?it/s]\n"
     ]
    },
    {
     "name": "stdout",
     "output_type": "stream",
     "text": [
      "\u001b[2m\u001b[36m(func pid=21228)\u001b[0m \n",
      "\u001b[2m\u001b[36m(func pid=21228)\u001b[0m Epoch 117\n"
     ]
    },
    {
     "name": "stderr",
     "output_type": "stream",
     "text": [
      " 14%|█▍        | 12/87 [00:00<00:00, 114.11it/s]\n",
      " 28%|██▊       | 24/87 [00:00<00:00, 117.49it/s]\n",
      " 41%|████▏     | 36/87 [00:00<00:00, 117.19it/s]\n",
      " 55%|█████▌    | 48/87 [00:00<00:00, 116.00it/s]\n",
      " 70%|███████   | 61/87 [00:00<00:00, 119.64it/s]\n",
      " 84%|████████▍ | 73/87 [00:00<00:00, 117.76it/s]\n",
      "100%|██████████| 87/87 [00:00<00:00, 117.10it/s]\n",
      "  0%|          | 0/25 [00:00<?, ?it/s]\n",
      "  0%|          | 0/87 [00:00<?, ?it/s]\n",
      " 13%|█▎        | 11/87 [00:00<00:00, 105.57it/s]\n"
     ]
    },
    {
     "name": "stdout",
     "output_type": "stream",
     "text": [
      "\u001b[2m\u001b[36m(func pid=21228)\u001b[0m \n",
      "\u001b[2m\u001b[36m(func pid=21228)\u001b[0m Epoch 118\n"
     ]
    },
    {
     "name": "stderr",
     "output_type": "stream",
     "text": [
      " 25%|██▌       | 22/87 [00:00<00:00, 98.34it/s] \n",
      " 39%|███▉      | 34/87 [00:00<00:00, 103.77it/s]\n",
      " 53%|█████▎    | 46/87 [00:00<00:00, 107.87it/s]\n",
      " 67%|██████▋   | 58/87 [00:00<00:00, 110.50it/s]\n",
      " 80%|████████  | 70/87 [00:00<00:00, 110.99it/s]\n",
      "100%|██████████| 87/87 [00:00<00:00, 109.55it/s]\n",
      "  0%|          | 0/25 [00:00<?, ?it/s]\n",
      " 84%|████████▍ | 21/25 [00:00<00:00, 206.93it/s]\n",
      "100%|██████████| 25/25 [00:00<00:00, 204.58it/s]\n",
      "  0%|          | 0/87 [00:00<?, ?it/s]\n",
      " 14%|█▍        | 12/87 [00:00<00:00, 113.06it/s]\n"
     ]
    },
    {
     "name": "stdout",
     "output_type": "stream",
     "text": [
      "\u001b[2m\u001b[36m(func pid=21228)\u001b[0m Epoch 00118: reducing learning rate of group 0 to 8.3394e-06.\n",
      "\u001b[2m\u001b[36m(func pid=21228)\u001b[0m \n",
      "\u001b[2m\u001b[36m(func pid=21228)\u001b[0m Epoch 119\n"
     ]
    },
    {
     "name": "stderr",
     "output_type": "stream",
     "text": [
      " 28%|██▊       | 24/87 [00:00<00:00, 113.29it/s]\n",
      " 41%|████▏     | 36/87 [00:00<00:00, 112.77it/s]\n",
      " 55%|█████▌    | 48/87 [00:00<00:00, 111.28it/s]\n",
      " 69%|██████▉   | 60/87 [00:00<00:00, 111.57it/s]\n",
      " 83%|████████▎ | 72/87 [00:00<00:00, 110.98it/s]\n",
      "100%|██████████| 87/87 [00:00<00:00, 111.69it/s]\n",
      "  0%|          | 0/25 [00:00<?, ?it/s]\n",
      "100%|██████████| 25/25 [00:00<00:00, 194.82it/s]\n",
      "  0%|          | 0/87 [00:00<?, ?it/s]\n",
      " 13%|█▎        | 11/87 [00:00<00:00, 103.26it/s]\n"
     ]
    },
    {
     "name": "stdout",
     "output_type": "stream",
     "text": [
      "\u001b[2m\u001b[36m(func pid=21228)\u001b[0m \n",
      "\u001b[2m\u001b[36m(func pid=21228)\u001b[0m Epoch 120\n"
     ]
    },
    {
     "name": "stderr",
     "output_type": "stream",
     "text": [
      " 25%|██▌       | 22/87 [00:00<00:00, 105.84it/s]\n",
      " 39%|███▉      | 34/87 [00:00<00:00, 110.59it/s]\n",
      " 53%|█████▎    | 46/87 [00:00<00:00, 110.35it/s]\n",
      " 67%|██████▋   | 58/87 [00:00<00:00, 111.80it/s]\n",
      " 80%|████████  | 70/87 [00:00<00:00, 111.43it/s]\n",
      " 94%|█████████▍| 82/87 [00:00<00:00, 110.72it/s]\n",
      "100%|██████████| 87/87 [00:00<00:00, 110.20it/s]\n",
      "  0%|          | 0/25 [00:00<?, ?it/s]\n",
      " 20%|██        | 5/25 [00:00<00:00, 46.98it/s]\n",
      "100%|██████████| 25/25 [00:00<00:00, 121.41it/s]\n",
      "  0%|          | 0/87 [00:00<?, ?it/s]\n",
      " 14%|█▍        | 12/87 [00:00<00:00, 115.93it/s]\n"
     ]
    },
    {
     "name": "stdout",
     "output_type": "stream",
     "text": [
      "\u001b[2m\u001b[36m(func pid=21228)\u001b[0m \n",
      "\u001b[2m\u001b[36m(func pid=21228)\u001b[0m Epoch 121\n"
     ]
    },
    {
     "name": "stderr",
     "output_type": "stream",
     "text": [
      " 28%|██▊       | 24/87 [00:00<00:00, 112.38it/s]\n",
      " 41%|████▏     | 36/87 [00:00<00:00, 109.15it/s]\n",
      " 54%|█████▍    | 47/87 [00:00<00:00, 109.25it/s]\n",
      " 68%|██████▊   | 59/87 [00:00<00:00, 109.62it/s]\n",
      " 80%|████████  | 70/87 [00:00<00:00, 107.92it/s]\n",
      "100%|██████████| 87/87 [00:00<00:00, 106.30it/s]\n",
      "  0%|          | 0/25 [00:00<?, ?it/s]\n",
      "100%|██████████| 25/25 [00:00<00:00, 179.98it/s]\n",
      "  0%|          | 0/87 [00:00<?, ?it/s]\n",
      " 13%|█▎        | 11/87 [00:00<00:00, 107.07it/s]\n"
     ]
    },
    {
     "name": "stdout",
     "output_type": "stream",
     "text": [
      "\u001b[2m\u001b[36m(func pid=21228)\u001b[0m \n",
      "\u001b[2m\u001b[36m(func pid=21228)\u001b[0m Epoch 122\n"
     ]
    },
    {
     "name": "stderr",
     "output_type": "stream",
     "text": [
      " 26%|██▋       | 23/87 [00:00<00:00, 107.71it/s]\n",
      " 39%|███▉      | 34/87 [00:00<00:00, 104.91it/s]\n",
      " 52%|█████▏    | 45/87 [00:00<00:00, 106.77it/s]\n",
      " 64%|██████▍   | 56/87 [00:00<00:00, 106.88it/s]\n",
      " 77%|███████▋  | 67/87 [00:00<00:00, 106.47it/s]\n",
      "  0%|          | 0/25 [00:00<?, ?it/s]\n",
      "100%|██████████| 25/25 [00:00<00:00, 187.91it/s]\n",
      "  0%|          | 0/87 [00:00<?, ?it/s]\n",
      " 13%|█▎        | 11/87 [00:00<00:00, 103.61it/s]\n"
     ]
    },
    {
     "name": "stdout",
     "output_type": "stream",
     "text": [
      "\u001b[2m\u001b[36m(func pid=21228)\u001b[0m \n",
      "\u001b[2m\u001b[36m(func pid=21228)\u001b[0m Epoch 123\n"
     ]
    },
    {
     "name": "stderr",
     "output_type": "stream",
     "text": [
      " 25%|██▌       | 22/87 [00:00<00:00, 105.32it/s]\n",
      " 40%|████      | 35/87 [00:00<00:00, 110.57it/s]\n",
      " 54%|█████▍    | 47/87 [00:00<00:00, 109.95it/s]\n",
      " 67%|██████▋   | 58/87 [00:00<00:00, 109.75it/s]\n",
      " 79%|███████▉  | 69/87 [00:00<00:00, 107.69it/s]\n",
      "100%|██████████| 87/87 [00:00<00:00, 107.92it/s]\n",
      "  0%|          | 0/25 [00:00<?, ?it/s]\n",
      " 64%|██████▍   | 16/25 [00:00<00:00, 104.40it/s]\n",
      "100%|██████████| 25/25 [00:00<00:00, 126.66it/s]\n",
      "  0%|          | 0/87 [00:00<?, ?it/s]\n",
      " 14%|█▍        | 12/87 [00:00<00:00, 115.56it/s]\n"
     ]
    },
    {
     "name": "stdout",
     "output_type": "stream",
     "text": [
      "\u001b[2m\u001b[36m(func pid=21228)\u001b[0m \n",
      "\u001b[2m\u001b[36m(func pid=21228)\u001b[0m Epoch 124\n"
     ]
    },
    {
     "name": "stderr",
     "output_type": "stream",
     "text": [
      " 28%|██▊       | 24/87 [00:00<00:00, 114.09it/s]\n",
      " 41%|████▏     | 36/87 [00:00<00:00, 115.86it/s]\n",
      " 55%|█████▌    | 48/87 [00:00<00:00, 115.56it/s]\n",
      " 69%|██████▉   | 60/87 [00:00<00:00, 116.79it/s]\n",
      " 84%|████████▍ | 73/87 [00:00<00:00, 117.59it/s]\n",
      "100%|██████████| 87/87 [00:00<00:00, 115.79it/s]\n",
      "  0%|          | 0/25 [00:00<?, ?it/s]\n",
      " 84%|████████▍ | 21/25 [00:00<00:00, 207.99it/s]\n",
      "100%|██████████| 25/25 [00:00<00:00, 208.59it/s]\n",
      "  0%|          | 0/87 [00:00<?, ?it/s]\n",
      " 14%|█▍        | 12/87 [00:00<00:00, 112.39it/s]\n"
     ]
    },
    {
     "name": "stdout",
     "output_type": "stream",
     "text": [
      "\u001b[2m\u001b[36m(func pid=21228)\u001b[0m Epoch 00124: reducing learning rate of group 0 to 4.1697e-06.\n",
      "\u001b[2m\u001b[36m(func pid=21228)\u001b[0m \n",
      "\u001b[2m\u001b[36m(func pid=21228)\u001b[0m Epoch 125\n"
     ]
    },
    {
     "name": "stderr",
     "output_type": "stream",
     "text": [
      " 29%|██▊       | 25/87 [00:00<00:00, 118.98it/s]\n",
      " 43%|████▎     | 37/87 [00:00<00:00, 116.43it/s]\n",
      " 56%|█████▋    | 49/87 [00:00<00:00, 107.18it/s]\n",
      " 70%|███████   | 61/87 [00:00<00:00, 109.17it/s]\n",
      " 84%|████████▍ | 73/87 [00:00<00:00, 110.54it/s]\n",
      "100%|██████████| 87/87 [00:00<00:00, 112.15it/s]\n",
      "  0%|          | 0/25 [00:00<?, ?it/s]\n",
      "100%|██████████| 25/25 [00:00<00:00, 214.40it/s]\n",
      "  0%|          | 0/87 [00:00<?, ?it/s]\n",
      " 14%|█▍        | 12/87 [00:00<00:00, 113.73it/s]\n"
     ]
    },
    {
     "name": "stdout",
     "output_type": "stream",
     "text": [
      "\u001b[2m\u001b[36m(func pid=21228)\u001b[0m \n",
      "\u001b[2m\u001b[36m(func pid=21228)\u001b[0m Epoch 126\n"
     ]
    },
    {
     "name": "stderr",
     "output_type": "stream",
     "text": [
      " 28%|██▊       | 24/87 [00:00<00:00, 115.33it/s]\n",
      " 41%|████▏     | 36/87 [00:00<00:00, 114.05it/s]\n",
      " 55%|█████▌    | 48/87 [00:00<00:00, 114.68it/s]\n",
      " 69%|██████▉   | 60/87 [00:00<00:00, 115.72it/s]\n",
      " 83%|████████▎ | 72/87 [00:00<00:00, 115.22it/s]\n",
      "100%|██████████| 87/87 [00:00<00:00, 115.12it/s]\n",
      "  0%|          | 0/25 [00:00<?, ?it/s]\n",
      " 60%|██████    | 15/25 [00:00<00:00, 101.34it/s]\n",
      "100%|██████████| 25/25 [00:00<00:00, 127.39it/s]\n",
      "  0%|          | 0/87 [00:00<?, ?it/s]\n",
      " 14%|█▍        | 12/87 [00:00<00:00, 113.52it/s]\n"
     ]
    },
    {
     "name": "stdout",
     "output_type": "stream",
     "text": [
      "\u001b[2m\u001b[36m(func pid=21228)\u001b[0m \n",
      "\u001b[2m\u001b[36m(func pid=21228)\u001b[0m Epoch 127\n"
     ]
    },
    {
     "name": "stderr",
     "output_type": "stream",
     "text": [
      " 28%|██▊       | 24/87 [00:00<00:00, 114.48it/s]\n",
      " 41%|████▏     | 36/87 [00:00<00:00, 116.20it/s]\n",
      " 55%|█████▌    | 48/87 [00:00<00:00, 115.68it/s]\n",
      " 69%|██████▉   | 60/87 [00:00<00:00, 116.83it/s]\n",
      " 83%|████████▎ | 72/87 [00:00<00:00, 116.88it/s]\n",
      "  0%|          | 0/25 [00:00<?, ?it/s]\n",
      "100%|██████████| 25/25 [00:00<00:00, 199.91it/s]\n",
      "  0%|          | 0/87 [00:00<?, ?it/s]\n",
      " 14%|█▍        | 12/87 [00:00<00:00, 113.16it/s]\n"
     ]
    },
    {
     "name": "stdout",
     "output_type": "stream",
     "text": [
      "\u001b[2m\u001b[36m(func pid=21228)\u001b[0m \n",
      "\u001b[2m\u001b[36m(func pid=21228)\u001b[0m Epoch 128\n"
     ]
    },
    {
     "name": "stderr",
     "output_type": "stream",
     "text": [
      " 28%|██▊       | 24/87 [00:00<00:00, 115.18it/s]\n",
      " 41%|████▏     | 36/87 [00:00<00:00, 115.73it/s]\n",
      " 69%|██████▉   | 60/87 [00:00<00:00, 117.01it/s]\n",
      " 83%|████████▎ | 72/87 [00:00<00:00, 116.12it/s]\n",
      " 97%|█████████▋| 84/87 [00:00<00:00, 116.05it/s]\n",
      "100%|██████████| 87/87 [00:00<00:00, 116.15it/s]\n",
      "  0%|          | 0/25 [00:00<?, ?it/s]\n",
      "100%|██████████| 25/25 [00:00<00:00, 207.94it/s]\n",
      "  0%|          | 0/87 [00:00<?, ?it/s]\n",
      " 14%|█▍        | 12/87 [00:00<00:00, 117.10it/s]\n"
     ]
    },
    {
     "name": "stdout",
     "output_type": "stream",
     "text": [
      "\u001b[2m\u001b[36m(func pid=21228)\u001b[0m \n",
      "\u001b[2m\u001b[36m(func pid=21228)\u001b[0m Epoch 129\n"
     ]
    },
    {
     "name": "stderr",
     "output_type": "stream",
     "text": [
      " 29%|██▊       | 25/87 [00:00<00:00, 119.35it/s]\n",
      " 43%|████▎     | 37/87 [00:00<00:00, 118.38it/s]\n",
      " 56%|█████▋    | 49/87 [00:00<00:00, 114.24it/s]\n",
      " 70%|███████   | 61/87 [00:00<00:00, 113.76it/s]\n",
      " 84%|████████▍ | 73/87 [00:00<00:00, 115.46it/s]\n",
      "100%|██████████| 87/87 [00:00<00:00, 116.52it/s]\n",
      "  0%|          | 0/25 [00:00<?, ?it/s]\n",
      " 32%|███▏      | 8/25 [00:00<00:00, 67.45it/s]\n",
      "100%|██████████| 25/25 [00:00<00:00, 122.73it/s]\n",
      "  0%|          | 0/87 [00:00<?, ?it/s]\n",
      " 14%|█▍        | 12/87 [00:00<00:00, 113.95it/s]\n"
     ]
    },
    {
     "name": "stdout",
     "output_type": "stream",
     "text": [
      "\u001b[2m\u001b[36m(func pid=21228)\u001b[0m \n",
      "\u001b[2m\u001b[36m(func pid=21228)\u001b[0m Epoch 130\n"
     ]
    },
    {
     "name": "stderr",
     "output_type": "stream",
     "text": [
      " 28%|██▊       | 24/87 [00:00<00:00, 115.67it/s]\n",
      " 41%|████▏     | 36/87 [00:00<00:00, 113.91it/s]\n",
      " 56%|█████▋    | 49/87 [00:00<00:00, 116.88it/s]\n",
      " 70%|███████   | 61/87 [00:00<00:00, 116.45it/s]\n",
      " 84%|████████▍ | 73/87 [00:00<00:00, 115.70it/s]\n",
      "100%|██████████| 87/87 [00:00<00:00, 116.50it/s]\n",
      "  0%|          | 0/25 [00:00<?, ?it/s]\n",
      "100%|██████████| 25/25 [00:00<00:00, 206.86it/s]\n",
      "  0%|          | 0/87 [00:00<?, ?it/s]\n",
      " 11%|█▏        | 10/87 [00:00<00:00, 96.16it/s]\n"
     ]
    },
    {
     "name": "stdout",
     "output_type": "stream",
     "text": [
      "\u001b[2m\u001b[36m(func pid=21228)\u001b[0m Epoch 00130: reducing learning rate of group 0 to 2.0848e-06.\n",
      "\u001b[2m\u001b[36m(func pid=21228)\u001b[0m \n",
      "\u001b[2m\u001b[36m(func pid=21228)\u001b[0m Epoch 131\n"
     ]
    },
    {
     "name": "stderr",
     "output_type": "stream",
     "text": [
      " 24%|██▍       | 21/87 [00:00<00:00, 103.33it/s]\n",
      " 38%|███▊      | 33/87 [00:00<00:00, 109.72it/s]\n",
      " 52%|█████▏    | 45/87 [00:00<00:00, 111.06it/s]\n",
      " 66%|██████▌   | 57/87 [00:00<00:00, 113.03it/s]\n",
      " 79%|███████▉  | 69/87 [00:00<00:00, 113.80it/s]\n",
      " 93%|█████████▎| 81/87 [00:00<00:00, 115.06it/s]\n",
      "100%|██████████| 87/87 [00:00<00:00, 112.70it/s]\n",
      "  0%|          | 0/25 [00:00<?, ?it/s]\n",
      "100%|██████████| 25/25 [00:00<00:00, 210.22it/s]\n",
      "  0%|          | 0/87 [00:00<?, ?it/s]\n",
      " 14%|█▍        | 12/87 [00:00<00:00, 117.36it/s]\n"
     ]
    },
    {
     "name": "stdout",
     "output_type": "stream",
     "text": [
      "\u001b[2m\u001b[36m(func pid=21228)\u001b[0m \n",
      "\u001b[2m\u001b[36m(func pid=21228)\u001b[0m Epoch 132\n"
     ]
    },
    {
     "name": "stderr",
     "output_type": "stream",
     "text": [
      " 28%|██▊       | 24/87 [00:00<00:00, 117.51it/s]\n",
      " 43%|████▎     | 37/87 [00:00<00:00, 118.95it/s]\n",
      " 56%|█████▋    | 49/87 [00:00<00:00, 118.51it/s]\n",
      " 70%|███████   | 61/87 [00:00<00:00, 118.07it/s]\n",
      " 85%|████████▌ | 74/87 [00:00<00:00, 118.51it/s]\n",
      "  0%|          | 0/25 [00:00<?, ?it/s]\n",
      " 72%|███████▏  | 18/25 [00:00<00:00, 171.67it/s]\n",
      "100%|██████████| 25/25 [00:00<00:00, 111.11it/s]\n",
      "  0%|          | 0/87 [00:00<?, ?it/s]\n",
      " 14%|█▍        | 12/87 [00:00<00:00, 115.35it/s]\n",
      " 28%|██▊       | 24/87 [00:00<00:00, 114.14it/s]\n"
     ]
    },
    {
     "name": "stdout",
     "output_type": "stream",
     "text": [
      "\u001b[2m\u001b[36m(func pid=21228)\u001b[0m \n",
      "\u001b[2m\u001b[36m(func pid=21228)\u001b[0m Epoch 133\n"
     ]
    },
    {
     "name": "stderr",
     "output_type": "stream",
     "text": [
      " 41%|████▏     | 36/87 [00:00<00:00, 116.24it/s]\n",
      " 55%|█████▌    | 48/87 [00:00<00:00, 115.24it/s]\n",
      " 70%|███████   | 61/87 [00:00<00:00, 116.95it/s]\n",
      " 85%|████████▌ | 74/87 [00:00<00:00, 118.40it/s]\n",
      "100%|██████████| 87/87 [00:00<00:00, 116.17it/s]\n",
      "  0%|          | 0/25 [00:00<?, ?it/s]\n",
      "100%|██████████| 25/25 [00:00<00:00, 212.14it/s]\n",
      "  0%|          | 0/87 [00:00<?, ?it/s]\n",
      " 13%|█▎        | 11/87 [00:00<00:00, 105.68it/s]\n",
      " 26%|██▋       | 23/87 [00:00<00:00, 112.58it/s]\n"
     ]
    },
    {
     "name": "stdout",
     "output_type": "stream",
     "text": [
      "\u001b[2m\u001b[36m(func pid=21228)\u001b[0m \n",
      "\u001b[2m\u001b[36m(func pid=21228)\u001b[0m Epoch 134\n"
     ]
    },
    {
     "name": "stderr",
     "output_type": "stream",
     "text": [
      " 40%|████      | 35/87 [00:00<00:00, 115.05it/s]\n",
      " 54%|█████▍    | 47/87 [00:00<00:00, 115.55it/s]\n",
      " 68%|██████▊   | 59/87 [00:00<00:00, 115.06it/s]\n",
      " 82%|████████▏ | 71/87 [00:00<00:00, 116.23it/s]\n",
      "100%|██████████| 87/87 [00:00<00:00, 116.16it/s]\n",
      "  0%|          | 0/25 [00:00<?, ?it/s]\n",
      "100%|██████████| 25/25 [00:00<00:00, 213.57it/s]\n",
      "  0%|          | 0/87 [00:00<?, ?it/s]\n",
      " 14%|█▍        | 12/87 [00:00<00:00, 112.25it/s]\n"
     ]
    },
    {
     "name": "stdout",
     "output_type": "stream",
     "text": [
      "\u001b[2m\u001b[36m(func pid=21228)\u001b[0m \n",
      "\u001b[2m\u001b[36m(func pid=21228)\u001b[0m Epoch 135\n"
     ]
    },
    {
     "name": "stderr",
     "output_type": "stream",
     "text": [
      " 29%|██▊       | 25/87 [00:00<00:00, 116.38it/s]\n",
      " 57%|█████▋    | 50/87 [00:00<00:00, 118.59it/s]\n",
      " 71%|███████▏  | 62/87 [00:00<00:00, 117.94it/s]\n",
      " 85%|████████▌ | 74/87 [00:00<00:00, 117.43it/s]\n",
      "100%|██████████| 87/87 [00:00<00:00, 117.76it/s]\n",
      "  0%|          | 0/25 [00:00<?, ?it/s]\n",
      "100%|██████████| 25/25 [00:00<00:00, 123.13it/s]\n",
      "  0%|          | 0/87 [00:00<?, ?it/s]\n",
      " 14%|█▍        | 12/87 [00:00<00:00, 112.34it/s]\n"
     ]
    },
    {
     "name": "stdout",
     "output_type": "stream",
     "text": [
      "\u001b[2m\u001b[36m(func pid=21228)\u001b[0m \n",
      "\u001b[2m\u001b[36m(func pid=21228)\u001b[0m Epoch 136\n"
     ]
    },
    {
     "name": "stderr",
     "output_type": "stream",
     "text": [
      " 28%|██▊       | 24/87 [00:00<00:00, 116.56it/s]\n",
      " 41%|████▏     | 36/87 [00:00<00:00, 113.62it/s]\n",
      " 55%|█████▌    | 48/87 [00:00<00:00, 116.04it/s]\n",
      " 69%|██████▉   | 60/87 [00:00<00:00, 115.62it/s]\n",
      " 83%|████████▎ | 72/87 [00:00<00:00, 114.03it/s]\n",
      "100%|██████████| 87/87 [00:00<00:00, 114.21it/s]\n",
      "  0%|          | 0/25 [00:00<?, ?it/s]\n",
      "100%|██████████| 25/25 [00:00<00:00, 170.80it/s]\n"
     ]
    },
    {
     "name": "stdout",
     "output_type": "stream",
     "text": [
      "\u001b[2m\u001b[36m(func pid=21228)\u001b[0m Epoch 00136: reducing learning rate of group 0 to 1.0424e-06.\n",
      "\u001b[2m\u001b[36m(func pid=21228)\u001b[0m \n",
      "\u001b[2m\u001b[36m(func pid=21228)\u001b[0m Epoch 137\n"
     ]
    },
    {
     "name": "stderr",
     "output_type": "stream",
     "text": [
      "  0%|          | 0/87 [00:00<?, ?it/s]\n",
      " 14%|█▍        | 12/87 [00:00<00:00, 112.07it/s]\n",
      " 28%|██▊       | 24/87 [00:00<00:00, 113.04it/s]\n",
      " 41%|████▏     | 36/87 [00:00<00:00, 113.07it/s]\n",
      " 55%|█████▌    | 48/87 [00:00<00:00, 113.83it/s]\n",
      " 69%|██████▉   | 60/87 [00:00<00:00, 112.06it/s]\n",
      " 80%|████████  | 20/25 [00:00<00:00, 196.15it/s]\n",
      "100%|██████████| 25/25 [00:00<00:00, 196.64it/s]\n",
      "  0%|          | 0/87 [00:00<?, ?it/s]\n",
      " 13%|█▎        | 11/87 [00:00<00:00, 109.95it/s]\n"
     ]
    },
    {
     "name": "stdout",
     "output_type": "stream",
     "text": [
      "\u001b[2m\u001b[36m(func pid=21228)\u001b[0m \n",
      "\u001b[2m\u001b[36m(func pid=21228)\u001b[0m Epoch 138\n"
     ]
    },
    {
     "name": "stderr",
     "output_type": "stream",
     "text": [
      " 25%|██▌       | 22/87 [00:00<00:00, 108.79it/s]\n",
      " 39%|███▉      | 34/87 [00:00<00:00, 110.87it/s]\n",
      " 53%|█████▎    | 46/87 [00:00<00:00, 112.23it/s]\n",
      " 67%|██████▋   | 58/87 [00:00<00:00, 113.45it/s]\n",
      " 80%|████████  | 70/87 [00:00<00:00, 113.27it/s]\n",
      "100%|██████████| 87/87 [00:00<00:00, 113.14it/s]\n",
      "  0%|          | 0/25 [00:00<?, ?it/s]\n",
      " 44%|████▍     | 11/25 [00:00<00:00, 84.34it/s]\n",
      "100%|██████████| 25/25 [00:00<00:00, 125.16it/s]\n",
      "  0%|          | 0/87 [00:00<?, ?it/s]\n",
      " 13%|█▎        | 11/87 [00:00<00:00, 107.88it/s]\n"
     ]
    },
    {
     "name": "stdout",
     "output_type": "stream",
     "text": [
      "\u001b[2m\u001b[36m(func pid=21228)\u001b[0m \n",
      "\u001b[2m\u001b[36m(func pid=21228)\u001b[0m Epoch 139\n"
     ]
    },
    {
     "name": "stderr",
     "output_type": "stream",
     "text": [
      " 26%|██▋       | 23/87 [00:00<00:00, 110.33it/s]\n",
      " 40%|████      | 35/87 [00:00<00:00, 110.19it/s]\n",
      " 54%|█████▍    | 47/87 [00:00<00:00, 110.28it/s]\n",
      " 68%|██████▊   | 59/87 [00:00<00:00, 109.44it/s]\n",
      " 80%|████████  | 70/87 [00:00<00:00, 107.87it/s]\n",
      "100%|██████████| 87/87 [00:00<00:00, 110.82it/s]\n",
      "  0%|          | 0/25 [00:00<?, ?it/s]\n",
      "100%|██████████| 25/25 [00:00<00:00, 195.23it/s]\n",
      "  0%|          | 0/87 [00:00<?, ?it/s]\n",
      " 14%|█▍        | 12/87 [00:00<00:00, 116.29it/s]\n"
     ]
    },
    {
     "name": "stdout",
     "output_type": "stream",
     "text": [
      "\u001b[2m\u001b[36m(func pid=21228)\u001b[0m \n",
      "\u001b[2m\u001b[36m(func pid=21228)\u001b[0m Epoch 140\n"
     ]
    },
    {
     "name": "stderr",
     "output_type": "stream",
     "text": [
      " 28%|██▊       | 24/87 [00:00<00:00, 113.81it/s]\n",
      " 43%|████▎     | 37/87 [00:00<00:00, 116.93it/s]\n",
      " 71%|███████▏  | 62/87 [00:00<00:00, 118.24it/s]\n",
      " 85%|████████▌ | 74/87 [00:00<00:00, 117.37it/s]\n",
      "100%|██████████| 87/87 [00:00<00:00, 114.34it/s]\n",
      "  0%|          | 0/25 [00:00<?, ?it/s]\n",
      "100%|██████████| 25/25 [00:00<00:00, 209.66it/s]\n",
      "  0%|          | 0/87 [00:00<?, ?it/s]\n",
      " 14%|█▍        | 12/87 [00:00<00:00, 111.67it/s]\n"
     ]
    },
    {
     "name": "stdout",
     "output_type": "stream",
     "text": [
      "\u001b[2m\u001b[36m(func pid=21228)\u001b[0m \n",
      "\u001b[2m\u001b[36m(func pid=21228)\u001b[0m Epoch 141\n"
     ]
    },
    {
     "name": "stderr",
     "output_type": "stream",
     "text": [
      " 28%|██▊       | 24/87 [00:00<00:00, 111.09it/s]\n",
      " 41%|████▏     | 36/87 [00:00<00:00, 114.15it/s]\n",
      " 56%|█████▋    | 49/87 [00:00<00:00, 116.98it/s]\n",
      " 70%|███████   | 61/87 [00:00<00:00, 117.49it/s]\n",
      " 84%|████████▍ | 73/87 [00:00<00:00, 117.68it/s]\n",
      " 98%|█████████▊| 85/87 [00:00<00:00, 116.67it/s]\n",
      "100%|██████████| 87/87 [00:00<00:00, 116.11it/s]\n",
      "  0%|          | 0/25 [00:00<?, ?it/s]\n",
      "100%|██████████| 25/25 [00:00<00:00, 124.29it/s]\n",
      "  0%|          | 0/87 [00:00<?, ?it/s]\n"
     ]
    },
    {
     "name": "stdout",
     "output_type": "stream",
     "text": [
      "\u001b[2m\u001b[36m(func pid=21228)\u001b[0m \n",
      "\u001b[2m\u001b[36m(func pid=21228)\u001b[0m Epoch 142\n"
     ]
    },
    {
     "name": "stderr",
     "output_type": "stream",
     "text": [
      " 14%|█▍        | 12/87 [00:00<00:00, 113.91it/s]\n",
      " 28%|██▊       | 24/87 [00:00<00:00, 116.16it/s]\n",
      " 43%|████▎     | 37/87 [00:00<00:00, 117.71it/s]\n",
      " 57%|█████▋    | 50/87 [00:00<00:00, 118.67it/s]\n",
      "  0%|          | 0/25 [00:00<?, ?it/s]\n",
      "100%|██████████| 25/25 [00:00<00:00, 198.08it/s]\n"
     ]
    },
    {
     "name": "stdout",
     "output_type": "stream",
     "text": [
      "\u001b[2m\u001b[36m(func pid=21228)\u001b[0m Epoch 00142: reducing learning rate of group 0 to 5.2121e-07.\n",
      "\u001b[2m\u001b[36m(func pid=21228)\u001b[0m \n",
      "\u001b[2m\u001b[36m(func pid=21228)\u001b[0m Epoch 143\n"
     ]
    },
    {
     "name": "stderr",
     "output_type": "stream",
     "text": [
      "  0%|          | 0/87 [00:00<?, ?it/s]\n",
      " 13%|█▎        | 11/87 [00:00<00:00, 105.87it/s]\n",
      " 26%|██▋       | 23/87 [00:00<00:00, 111.38it/s]\n",
      " 40%|████      | 35/87 [00:00<00:00, 112.73it/s]\n",
      " 55%|█████▌    | 48/87 [00:00<00:00, 115.78it/s]\n",
      " 70%|███████   | 61/87 [00:00<00:00, 117.83it/s]\n",
      " 84%|████████▍ | 73/87 [00:00<00:00, 118.01it/s]\n",
      "100%|██████████| 87/87 [00:00<00:00, 116.62it/s]\n",
      "  0%|          | 0/25 [00:00<?, ?it/s]\n",
      "100%|██████████| 25/25 [00:00<00:00, 209.30it/s]\n",
      "  0%|          | 0/87 [00:00<?, ?it/s]\n"
     ]
    },
    {
     "name": "stdout",
     "output_type": "stream",
     "text": [
      "\u001b[2m\u001b[36m(func pid=21228)\u001b[0m \n",
      "\u001b[2m\u001b[36m(func pid=21228)\u001b[0m Epoch 144\n"
     ]
    },
    {
     "name": "stderr",
     "output_type": "stream",
     "text": [
      " 14%|█▍        | 12/87 [00:00<00:00, 112.23it/s]\n",
      " 28%|██▊       | 24/87 [00:00<00:00, 107.44it/s]\n",
      " 40%|████      | 35/87 [00:00<00:00, 108.48it/s]\n",
      " 53%|█████▎    | 46/87 [00:00<00:00, 108.67it/s]\n",
      " 67%|██████▋   | 58/87 [00:00<00:00, 111.16it/s]\n",
      " 80%|████████  | 70/87 [00:00<00:00, 111.91it/s]\n",
      "100%|██████████| 87/87 [00:00<00:00, 111.69it/s]\n",
      "  0%|          | 0/25 [00:00<?, ?it/s]\n",
      "100%|██████████| 25/25 [00:00<00:00, 126.86it/s]\n",
      "  0%|          | 0/87 [00:00<?, ?it/s]\n"
     ]
    },
    {
     "name": "stdout",
     "output_type": "stream",
     "text": [
      "\u001b[2m\u001b[36m(func pid=21228)\u001b[0m \n",
      "\u001b[2m\u001b[36m(func pid=21228)\u001b[0m Epoch 145\n"
     ]
    },
    {
     "name": "stderr",
     "output_type": "stream",
     "text": [
      " 14%|█▍        | 12/87 [00:00<00:00, 111.18it/s]\n",
      " 28%|██▊       | 24/87 [00:00<00:00, 113.87it/s]\n",
      " 41%|████▏     | 36/87 [00:00<00:00, 112.54it/s]\n",
      " 55%|█████▌    | 48/87 [00:00<00:00, 109.90it/s]\n",
      " 69%|██████▉   | 60/87 [00:00<00:00, 110.00it/s]\n",
      " 83%|████████▎ | 72/87 [00:00<00:00, 111.45it/s]\n",
      "100%|██████████| 87/87 [00:00<00:00, 111.01it/s]\n",
      "  0%|          | 0/25 [00:00<?, ?it/s]\n",
      "100%|██████████| 25/25 [00:00<00:00, 206.29it/s]\n",
      "  0%|          | 0/87 [00:00<?, ?it/s]\n",
      " 14%|█▍        | 12/87 [00:00<00:00, 114.14it/s]\n"
     ]
    },
    {
     "name": "stdout",
     "output_type": "stream",
     "text": [
      "\u001b[2m\u001b[36m(func pid=21228)\u001b[0m \n",
      "\u001b[2m\u001b[36m(func pid=21228)\u001b[0m Epoch 146\n"
     ]
    },
    {
     "name": "stderr",
     "output_type": "stream",
     "text": [
      " 28%|██▊       | 24/87 [00:00<00:00, 113.55it/s]\n",
      " 41%|████▏     | 36/87 [00:00<00:00, 112.45it/s]\n",
      " 55%|█████▌    | 48/87 [00:00<00:00, 113.53it/s]\n",
      " 69%|██████▉   | 60/87 [00:00<00:00, 111.91it/s]\n",
      " 83%|████████▎ | 72/87 [00:00<00:00, 112.22it/s]\n",
      "100%|██████████| 87/87 [00:00<00:00, 113.13it/s]\n",
      "  0%|          | 0/25 [00:00<?, ?it/s]\n",
      "100%|██████████| 25/25 [00:00<00:00, 196.95it/s]\n",
      "  0%|          | 0/87 [00:00<?, ?it/s]\n",
      " 14%|█▍        | 12/87 [00:00<00:00, 112.63it/s]\n"
     ]
    },
    {
     "name": "stdout",
     "output_type": "stream",
     "text": [
      "\u001b[2m\u001b[36m(func pid=21228)\u001b[0m \n",
      "\u001b[2m\u001b[36m(func pid=21228)\u001b[0m Epoch 147\n"
     ]
    },
    {
     "name": "stderr",
     "output_type": "stream",
     "text": [
      " 28%|██▊       | 24/87 [00:00<00:00, 112.28it/s]\n",
      " 41%|████▏     | 36/87 [00:00<00:00, 111.68it/s]\n",
      " 55%|█████▌    | 48/87 [00:00<00:00, 111.98it/s]\n",
      " 69%|██████▉   | 60/87 [00:00<00:00, 109.29it/s]\n",
      "100%|██████████| 25/25 [00:00<00:00, 118.47it/s]\n",
      "  0%|          | 0/87 [00:00<?, ?it/s]\n"
     ]
    },
    {
     "name": "stdout",
     "output_type": "stream",
     "text": [
      "\u001b[2m\u001b[36m(func pid=21228)\u001b[0m \n",
      "\u001b[2m\u001b[36m(func pid=21228)\u001b[0m Epoch 148\n"
     ]
    },
    {
     "name": "stderr",
     "output_type": "stream",
     "text": [
      " 13%|█▎        | 11/87 [00:00<00:00, 106.72it/s]\n",
      " 25%|██▌       | 22/87 [00:00<00:00, 107.87it/s]\n",
      " 38%|███▊      | 33/87 [00:00<00:00, 108.40it/s]\n",
      " 52%|█████▏    | 45/87 [00:00<00:00, 110.01it/s]\n",
      " 66%|██████▌   | 57/87 [00:00<00:00, 111.50it/s]\n",
      " 79%|███████▉  | 69/87 [00:00<00:00, 111.65it/s]\n",
      "100%|██████████| 87/87 [00:00<00:00, 110.00it/s]\n",
      "  0%|          | 0/25 [00:00<?, ?it/s]\n",
      "100%|██████████| 25/25 [00:00<00:00, 206.57it/s]\n",
      "  0%|          | 0/87 [00:00<?, ?it/s]\n"
     ]
    },
    {
     "name": "stdout",
     "output_type": "stream",
     "text": [
      "\u001b[2m\u001b[36m(func pid=21228)\u001b[0m Epoch 00148: reducing learning rate of group 0 to 2.6060e-07.\n",
      "\u001b[2m\u001b[36m(func pid=21228)\u001b[0m \n",
      "\u001b[2m\u001b[36m(func pid=21228)\u001b[0m Epoch 149\n"
     ]
    },
    {
     "name": "stderr",
     "output_type": "stream",
     "text": [
      " 14%|█▍        | 12/87 [00:00<00:00, 112.30it/s]\n",
      " 28%|██▊       | 24/87 [00:00<00:00, 110.84it/s]\n",
      " 41%|████▏     | 36/87 [00:00<00:00, 112.33it/s]\n",
      " 55%|█████▌    | 48/87 [00:00<00:00, 114.01it/s]\n",
      " 69%|██████▉   | 60/87 [00:00<00:00, 112.26it/s]\n",
      " 83%|████████▎ | 72/87 [00:00<00:00, 111.09it/s]\n",
      " 97%|█████████▋| 84/87 [00:00<00:00, 111.70it/s]\n",
      "100%|██████████| 87/87 [00:00<00:00, 111.80it/s]\n",
      "  0%|          | 0/25 [00:00<?, ?it/s]\n",
      "100%|██████████| 25/25 [00:00<00:00, 208.55it/s]\n",
      "  0%|          | 0/87 [00:00<?, ?it/s]\n",
      " 14%|█▍        | 12/87 [00:00<00:00, 115.16it/s]\n"
     ]
    },
    {
     "name": "stdout",
     "output_type": "stream",
     "text": [
      "\u001b[2m\u001b[36m(func pid=21228)\u001b[0m \n",
      "\u001b[2m\u001b[36m(func pid=21228)\u001b[0m Epoch 150\n"
     ]
    },
    {
     "name": "stderr",
     "output_type": "stream",
     "text": [
      " 28%|██▊       | 24/87 [00:00<00:00, 113.42it/s]\n",
      " 41%|████▏     | 36/87 [00:00<00:00, 112.95it/s]\n",
      " 55%|█████▌    | 48/87 [00:00<00:00, 114.70it/s]\n",
      " 69%|██████▉   | 60/87 [00:00<00:00, 115.29it/s]\n",
      " 83%|████████▎ | 72/87 [00:00<00:00, 114.61it/s]\n",
      "100%|██████████| 87/87 [00:00<00:00, 114.90it/s]\n",
      "  0%|          | 0/25 [00:00<?, ?it/s]\n",
      "100%|██████████| 25/25 [00:00<00:00, 128.82it/s]\n",
      "100%|██████████| 13/13 [00:00<00:00, 220.34it/s]\n"
     ]
    },
    {
     "name": "stdout",
     "output_type": "stream",
     "text": [
      "\u001b[2m\u001b[36m(func pid=21228)\u001b[0m \n",
      "\u001b[2m\u001b[36m(func pid=21228)\u001b[0m Evaluating the model:\n",
      "\u001b[2m\u001b[36m(func pid=21228)\u001b[0m test loss: 0.2487887865430242\n"
     ]
    },
    {
     "name": "stderr",
     "output_type": "stream",
     "text": [
      "2023-03-24 17:54:33,555\tERROR trial_runner.py:1088 -- Trial train_model_0a8f8_00002: Error processing event.\n",
      "ray.exceptions.RayTaskError(RuntimeError): \u001b[36mray::ImplicitFunc.train()\u001b[39m (pid=21228, ip=127.0.0.1, repr=func)\n",
      "  File \"python\\ray\\_raylet.pyx\", line 830, in ray._raylet.execute_task\n",
      "  File \"python\\ray\\_raylet.pyx\", line 834, in ray._raylet.execute_task\n",
      "  File \"python\\ray\\_raylet.pyx\", line 780, in ray._raylet.execute_task.function_executor\n",
      "  File \"c:\\Code\\hydro-ml\\my_env\\lib\\site-packages\\ray\\_private\\function_manager.py\", line 674, in actor_method_executor\n",
      "    return method(__ray_actor, *args, **kwargs)\n",
      "  File \"c:\\Code\\hydro-ml\\my_env\\lib\\site-packages\\ray\\util\\tracing\\tracing_helper.py\", line 466, in _resume_span\n",
      "    return method(self, *_args, **_kwargs)\n",
      "  File \"c:\\Code\\hydro-ml\\my_env\\lib\\site-packages\\ray\\tune\\trainable\\trainable.py\", line 367, in train\n",
      "    raise skipped from exception_cause(skipped)\n",
      "  File \"c:\\Code\\hydro-ml\\my_env\\lib\\site-packages\\ray\\tune\\trainable\\function_trainable.py\", line 338, in entrypoint\n",
      "    self._status_reporter.get_checkpoint(),\n",
      "  File \"c:\\Code\\hydro-ml\\my_env\\lib\\site-packages\\ray\\util\\tracing\\tracing_helper.py\", line 466, in _resume_span\n",
      "    return method(self, *_args, **_kwargs)\n",
      "  File \"c:\\Code\\hydro-ml\\my_env\\lib\\site-packages\\ray\\tune\\trainable\\function_trainable.py\", line 652, in _trainable_func\n",
      "    output = fn()\n",
      "  File \"C:\\Users\\magnu\\AppData\\Local\\Temp\\ipykernel_13080\\3814535183.py\", line 128, in train_model\n",
      "  File \"c:\\Code\\hydro-ml\\my_env\\lib\\site-packages\\torch\\serialization.py\", line 422, in save\n",
      "    with _open_zipfile_writer(f) as opened_zipfile:\n",
      "  File \"c:\\Code\\hydro-ml\\my_env\\lib\\site-packages\\torch\\serialization.py\", line 309, in _open_zipfile_writer\n",
      "    return container(name_or_buffer)\n",
      "  File \"c:\\Code\\hydro-ml\\my_env\\lib\\site-packages\\torch\\serialization.py\", line 287, in __init__\n",
      "    super(_open_zipfile_writer_file, self).__init__(torch._C.PyTorchFileWriter(str(name)))\n",
      "RuntimeError: File c:\\Code\\hydro-ml\\./model_weights/Test_of_interface_0/mlflow_experiment_id-0_target_variable-Q_Kalltveit_arch-LSTM_sequence_length-25_num_epochs-150_num_layers-3_lr-0.0021348750938613623_weigth_decay-0.0001_batch_size-512_hidden_size-64_variables-NedbørNilsebu.pth cannot be opened.\n",
      "  0%|          | 0/87 [00:00<?, ?it/s]\n"
     ]
    },
    {
     "name": "stdout",
     "output_type": "stream",
     "text": [
      "\u001b[2m\u001b[36m(func pid=21744)\u001b[0m \n",
      "\u001b[2m\u001b[36m(func pid=21744)\u001b[0m Epoch 1\n"
     ]
    },
    {
     "name": "stderr",
     "output_type": "stream",
     "text": [
      "  1%|          | 1/87 [00:00<00:23,  3.63it/s]\n",
      " 10%|█         | 9/87 [00:00<00:02, 29.60it/s]\n",
      " 21%|██        | 18/87 [00:00<00:01, 48.15it/s]\n",
      " 31%|███       | 27/87 [00:00<00:00, 61.00it/s]\n",
      " 43%|████▎     | 37/87 [00:00<00:00, 71.77it/s]\n",
      " 54%|█████▍    | 47/87 [00:00<00:00, 79.06it/s]\n",
      " 66%|██████▌   | 57/87 [00:00<00:00, 84.05it/s]\n",
      " 76%|███████▌  | 66/87 [00:01<00:00, 84.33it/s]\n",
      "100%|██████████| 87/87 [00:01<00:00, 69.91it/s]\n",
      "  0%|          | 0/25 [00:00<?, ?it/s]\n",
      " 68%|██████▊   | 17/25 [00:00<00:00, 161.58it/s]\n",
      "100%|██████████| 25/25 [00:00<00:00, 107.77it/s]\n",
      "  0%|          | 0/87 [00:00<?, ?it/s]\n",
      " 11%|█▏        | 10/87 [00:00<00:00, 92.55it/s]\n"
     ]
    },
    {
     "name": "stdout",
     "output_type": "stream",
     "text": [
      "\u001b[2m\u001b[36m(func pid=21744)\u001b[0m \n",
      "\u001b[2m\u001b[36m(func pid=21744)\u001b[0m Epoch 2\n"
     ]
    },
    {
     "name": "stderr",
     "output_type": "stream",
     "text": [
      " 23%|██▎       | 20/87 [00:00<00:00, 94.00it/s]\n",
      " 34%|███▍      | 30/87 [00:00<00:00, 93.07it/s]\n",
      " 46%|████▌     | 40/87 [00:00<00:00, 91.09it/s]\n",
      " 57%|█████▋    | 50/87 [00:00<00:00, 90.53it/s]\n",
      " 69%|██████▉   | 60/87 [00:00<00:00, 90.65it/s]\n",
      " 80%|████████  | 70/87 [00:00<00:00, 90.74it/s]\n",
      " 92%|█████████▏| 80/87 [00:00<00:00, 90.99it/s]\n",
      "100%|██████████| 87/87 [00:00<00:00, 91.00it/s]\n",
      "  0%|          | 0/25 [00:00<?, ?it/s]\n",
      "100%|██████████| 25/25 [00:00<00:00, 155.35it/s]\n",
      "  0%|          | 0/87 [00:00<?, ?it/s]\n",
      " 11%|█▏        | 10/87 [00:00<00:00, 86.30it/s]\n"
     ]
    },
    {
     "name": "stdout",
     "output_type": "stream",
     "text": [
      "\u001b[2m\u001b[36m(func pid=21744)\u001b[0m \n",
      "\u001b[2m\u001b[36m(func pid=21744)\u001b[0m Epoch 3\n"
     ]
    },
    {
     "name": "stderr",
     "output_type": "stream",
     "text": [
      " 22%|██▏       | 19/87 [00:00<00:00, 87.92it/s]\n",
      " 32%|███▏      | 28/87 [00:00<00:00, 88.46it/s]\n",
      " 43%|████▎     | 37/87 [00:00<00:00, 88.96it/s]\n",
      " 53%|█████▎    | 46/87 [00:00<00:00, 88.36it/s]\n",
      " 63%|██████▎   | 55/87 [00:00<00:00, 87.80it/s]\n",
      " 74%|███████▎  | 64/87 [00:00<00:00, 87.11it/s]\n",
      " 84%|████████▍ | 73/87 [00:00<00:00, 85.91it/s]\n",
      " 94%|█████████▍| 82/87 [00:00<00:00, 86.29it/s]\n",
      "100%|██████████| 87/87 [00:00<00:00, 87.01it/s]\n",
      "  0%|          | 0/25 [00:00<?, ?it/s]\n",
      " 72%|███████▏  | 18/25 [00:00<00:00, 174.87it/s]\n",
      "100%|██████████| 25/25 [00:00<00:00, 178.74it/s]\n",
      "  0%|          | 0/87 [00:00<?, ?it/s]\n",
      " 10%|█         | 9/87 [00:00<00:00, 85.04it/s]\n"
     ]
    },
    {
     "name": "stdout",
     "output_type": "stream",
     "text": [
      "\u001b[2m\u001b[36m(func pid=21744)\u001b[0m \n",
      "\u001b[2m\u001b[36m(func pid=21744)\u001b[0m Epoch 4\n"
     ]
    },
    {
     "name": "stderr",
     "output_type": "stream",
     "text": [
      " 22%|██▏       | 19/87 [00:00<00:00, 88.33it/s]\n",
      " 32%|███▏      | 28/87 [00:00<00:00, 88.97it/s]\n",
      " 43%|████▎     | 37/87 [00:00<00:00, 87.71it/s]\n",
      " 53%|█████▎    | 46/87 [00:00<00:00, 88.47it/s]\n",
      " 64%|██████▍   | 56/87 [00:00<00:00, 89.10it/s]\n",
      " 76%|███████▌  | 66/87 [00:00<00:00, 89.35it/s]\n",
      " 86%|████████▌ | 75/87 [00:00<00:00, 88.56it/s]\n",
      " 44%|████▍     | 11/25 [00:00<00:00, 74.35it/s]\n",
      "100%|██████████| 25/25 [00:00<00:00, 108.88it/s]\n",
      "  0%|          | 0/87 [00:00<?, ?it/s]\n"
     ]
    },
    {
     "name": "stdout",
     "output_type": "stream",
     "text": [
      "\u001b[2m\u001b[36m(func pid=21744)\u001b[0m \n",
      "\u001b[2m\u001b[36m(func pid=21744)\u001b[0m Epoch 5\n"
     ]
    },
    {
     "name": "stderr",
     "output_type": "stream",
     "text": [
      " 10%|█         | 9/87 [00:00<00:00, 87.98it/s]\n",
      " 21%|██        | 18/87 [00:00<00:00, 88.41it/s]\n",
      " 31%|███       | 27/87 [00:00<00:00, 87.63it/s]\n",
      " 41%|████▏     | 36/87 [00:00<00:00, 86.92it/s]\n",
      " 53%|█████▎    | 46/87 [00:00<00:00, 89.28it/s]\n",
      " 63%|██████▎   | 55/87 [00:00<00:00, 88.92it/s]\n",
      "100%|██████████| 87/87 [00:00<00:00, 89.00it/s]\n",
      "  0%|          | 0/25 [00:00<?, ?it/s]\n",
      " 68%|██████▊   | 17/25 [00:00<00:00, 137.03it/s]\n",
      "100%|██████████| 25/25 [00:00<00:00, 137.26it/s]\n",
      "  0%|          | 0/87 [00:00<?, ?it/s]\n",
      " 10%|█         | 9/87 [00:00<00:00, 88.00it/s]\n"
     ]
    },
    {
     "name": "stdout",
     "output_type": "stream",
     "text": [
      "\u001b[2m\u001b[36m(func pid=21744)\u001b[0m \n",
      "\u001b[2m\u001b[36m(func pid=21744)\u001b[0m Epoch 6\n"
     ]
    },
    {
     "name": "stderr",
     "output_type": "stream",
     "text": [
      " 21%|██        | 18/87 [00:00<00:00, 87.76it/s]\n",
      " 31%|███       | 27/87 [00:00<00:00, 87.99it/s]\n",
      " 43%|████▎     | 37/87 [00:00<00:00, 89.11it/s]\n",
      " 53%|█████▎    | 46/87 [00:00<00:00, 89.41it/s]\n",
      " 64%|██████▍   | 56/87 [00:00<00:00, 90.06it/s]\n",
      " 76%|███████▌  | 66/87 [00:00<00:00, 90.32it/s]\n",
      " 87%|████████▋ | 76/87 [00:00<00:00, 90.25it/s]\n",
      "100%|██████████| 87/87 [00:00<00:00, 89.93it/s]\n",
      "  0%|          | 0/25 [00:00<?, ?it/s]\n",
      "100%|██████████| 25/25 [00:00<00:00, 179.43it/s]\n",
      "  0%|          | 0/87 [00:00<?, ?it/s]\n"
     ]
    },
    {
     "name": "stdout",
     "output_type": "stream",
     "text": [
      "\u001b[2m\u001b[36m(func pid=21744)\u001b[0m \n",
      "\u001b[2m\u001b[36m(func pid=21744)\u001b[0m Epoch 7\n"
     ]
    },
    {
     "name": "stderr",
     "output_type": "stream",
     "text": [
      " 10%|█         | 9/87 [00:00<00:00, 85.56it/s]\n",
      " 22%|██▏       | 19/87 [00:00<00:00, 89.25it/s]\n",
      " 33%|███▎      | 29/87 [00:00<00:00, 89.21it/s]\n",
      " 45%|████▍     | 39/87 [00:00<00:00, 91.36it/s]\n",
      " 56%|█████▋    | 49/87 [00:00<00:00, 91.56it/s]\n",
      " 68%|██████▊   | 59/87 [00:00<00:00, 91.83it/s]\n",
      " 79%|███████▉  | 69/87 [00:00<00:00, 91.46it/s]\n",
      " 91%|█████████ | 79/87 [00:00<00:00, 91.28it/s]\n",
      "100%|██████████| 87/87 [00:00<00:00, 90.98it/s]\n",
      "  0%|          | 0/25 [00:00<?, ?it/s]\n",
      " 64%|██████▍   | 16/25 [00:00<00:00, 94.12it/s]\n",
      "100%|██████████| 25/25 [00:00<00:00, 113.15it/s]\n",
      "  0%|          | 0/87 [00:00<?, ?it/s]\n"
     ]
    },
    {
     "name": "stdout",
     "output_type": "stream",
     "text": [
      "\u001b[2m\u001b[36m(func pid=21744)\u001b[0m \n",
      "\u001b[2m\u001b[36m(func pid=21744)\u001b[0m Epoch 8\n"
     ]
    },
    {
     "name": "stderr",
     "output_type": "stream",
     "text": [
      " 10%|█         | 9/87 [00:00<00:00, 90.00it/s]\n",
      " 22%|██▏       | 19/87 [00:00<00:00, 90.02it/s]\n",
      " 33%|███▎      | 29/87 [00:00<00:00, 88.58it/s]\n",
      " 44%|████▎     | 38/87 [00:00<00:00, 88.41it/s]\n",
      " 55%|█████▌    | 48/87 [00:00<00:00, 89.64it/s]\n",
      " 67%|██████▋   | 58/87 [00:00<00:00, 90.40it/s]\n",
      "100%|██████████| 87/87 [00:00<00:00, 90.61it/s]\n",
      "  0%|          | 0/25 [00:00<?, ?it/s]\n",
      " 72%|███████▏  | 18/25 [00:00<00:00, 171.47it/s]\n",
      "100%|██████████| 25/25 [00:00<00:00, 171.30it/s]\n",
      "  0%|          | 0/87 [00:00<?, ?it/s]\n",
      " 10%|█         | 9/87 [00:00<00:00, 86.11it/s]\n"
     ]
    },
    {
     "name": "stdout",
     "output_type": "stream",
     "text": [
      "\u001b[2m\u001b[36m(func pid=21744)\u001b[0m \n",
      "\u001b[2m\u001b[36m(func pid=21744)\u001b[0m Epoch 9\n"
     ]
    },
    {
     "name": "stderr",
     "output_type": "stream",
     "text": [
      " 21%|██        | 18/87 [00:00<00:00, 87.80it/s]\n",
      " 31%|███       | 27/87 [00:00<00:00, 87.97it/s]\n",
      " 41%|████▏     | 36/87 [00:00<00:00, 87.68it/s]\n",
      " 52%|█████▏    | 45/87 [00:00<00:00, 88.50it/s]\n",
      " 72%|███████▏  | 63/87 [00:00<00:00, 89.03it/s]\n",
      " 83%|████████▎ | 72/87 [00:00<00:00, 87.77it/s]\n",
      " 94%|█████████▍| 82/87 [00:00<00:00, 89.12it/s]\n",
      "100%|██████████| 87/87 [00:00<00:00, 88.49it/s]\n",
      "  0%|          | 0/25 [00:00<?, ?it/s]\n",
      "100%|██████████| 25/25 [00:00<00:00, 154.35it/s]\n",
      "  0%|          | 0/87 [00:00<?, ?it/s]\n"
     ]
    },
    {
     "name": "stdout",
     "output_type": "stream",
     "text": [
      "\u001b[2m\u001b[36m(func pid=21744)\u001b[0m \n",
      "\u001b[2m\u001b[36m(func pid=21744)\u001b[0m Epoch 10\n"
     ]
    },
    {
     "name": "stderr",
     "output_type": "stream",
     "text": [
      " 10%|█         | 9/87 [00:00<00:01, 74.81it/s]\n",
      " 21%|██        | 18/87 [00:00<00:00, 80.50it/s]\n",
      " 31%|███       | 27/87 [00:00<00:00, 84.56it/s]\n",
      " 43%|████▎     | 37/87 [00:00<00:00, 87.22it/s]\n",
      " 53%|█████▎    | 46/87 [00:00<00:00, 87.57it/s]\n",
      " 64%|██████▍   | 56/87 [00:00<00:00, 89.30it/s]\n",
      " 76%|███████▌  | 66/87 [00:00<00:00, 89.82it/s]\n",
      " 87%|████████▋ | 76/87 [00:00<00:00, 91.28it/s]\n",
      "100%|██████████| 87/87 [00:00<00:00, 88.96it/s]\n",
      "  0%|          | 0/25 [00:00<?, ?it/s]\n",
      " 60%|██████    | 15/25 [00:00<00:00, 93.29it/s]\n",
      "100%|██████████| 25/25 [00:00<00:00, 116.50it/s]\n",
      "  0%|          | 0/87 [00:00<?, ?it/s]\n",
      " 11%|█▏        | 10/87 [00:00<00:00, 89.54it/s]\n"
     ]
    },
    {
     "name": "stdout",
     "output_type": "stream",
     "text": [
      "\u001b[2m\u001b[36m(func pid=21744)\u001b[0m \n",
      "\u001b[2m\u001b[36m(func pid=21744)\u001b[0m Epoch 11\n"
     ]
    },
    {
     "name": "stderr",
     "output_type": "stream",
     "text": [
      " 23%|██▎       | 20/87 [00:00<00:00, 92.67it/s]\n",
      " 34%|███▍      | 30/87 [00:00<00:00, 91.94it/s]\n",
      " 46%|████▌     | 40/87 [00:00<00:00, 92.38it/s]\n",
      " 57%|█████▋    | 50/87 [00:00<00:00, 92.27it/s]\n",
      " 69%|██████▉   | 60/87 [00:00<00:00, 92.98it/s]\n",
      " 80%|████████  | 70/87 [00:00<00:00, 92.78it/s]\n",
      " 92%|█████████▏| 80/87 [00:00<00:00, 93.13it/s]\n",
      "100%|██████████| 87/87 [00:00<00:00, 92.88it/s]\n",
      "  0%|          | 0/25 [00:00<?, ?it/s]\n",
      " 72%|███████▏  | 18/25 [00:00<00:00, 172.82it/s]\n",
      "100%|██████████| 25/25 [00:00<00:00, 175.89it/s]\n",
      "  0%|          | 0/87 [00:00<?, ?it/s]\n"
     ]
    },
    {
     "name": "stdout",
     "output_type": "stream",
     "text": [
      "\u001b[2m\u001b[36m(func pid=21744)\u001b[0m \n",
      "\u001b[2m\u001b[36m(func pid=21744)\u001b[0m Epoch 12\n"
     ]
    },
    {
     "name": "stderr",
     "output_type": "stream",
     "text": [
      " 11%|█▏        | 10/87 [00:00<00:00, 95.23it/s]\n",
      " 23%|██▎       | 20/87 [00:00<00:00, 95.82it/s]\n",
      " 34%|███▍      | 30/87 [00:00<00:00, 94.99it/s]\n",
      " 46%|████▌     | 40/87 [00:00<00:00, 95.19it/s]\n",
      " 57%|█████▋    | 50/87 [00:00<00:00, 94.53it/s]\n",
      " 69%|██████▉   | 60/87 [00:00<00:00, 95.14it/s]\n",
      " 80%|████████  | 70/87 [00:00<00:00, 95.66it/s]\n",
      "100%|██████████| 87/87 [00:00<00:00, 95.71it/s]\n"
     ]
    },
    {
     "name": "stdout",
     "output_type": "stream",
     "text": [
      "\u001b[2m\u001b[36m(func pid=21744)\u001b[0m \n",
      "\u001b[2m\u001b[36m(func pid=21744)\u001b[0m Epoch 14\n"
     ]
    },
    {
     "name": "stderr",
     "output_type": "stream",
     "text": [
      " 11%|█▏        | 10/87 [00:00<00:00, 94.73it/s]\n",
      " 23%|██▎       | 20/87 [00:00<00:00, 95.14it/s]\n",
      " 34%|███▍      | 30/87 [00:00<00:00, 93.79it/s]\n",
      " 46%|████▌     | 40/87 [00:00<00:00, 92.96it/s]\n",
      " 57%|█████▋    | 50/87 [00:00<00:00, 92.95it/s]\n",
      " 69%|██████▉   | 60/87 [00:00<00:00, 93.08it/s]\n",
      "  0%|          | 0/25 [00:00<?, ?it/s]\n",
      "100%|██████████| 25/25 [00:00<00:00, 170.00it/s]\n",
      "  0%|          | 0/87 [00:00<?, ?it/s]\n",
      " 11%|█▏        | 10/87 [00:00<00:00, 90.75it/s]\n"
     ]
    },
    {
     "name": "stdout",
     "output_type": "stream",
     "text": [
      "\u001b[2m\u001b[36m(func pid=21744)\u001b[0m \n",
      "\u001b[2m\u001b[36m(func pid=21744)\u001b[0m Epoch 15\n"
     ]
    },
    {
     "name": "stderr",
     "output_type": "stream",
     "text": [
      " 23%|██▎       | 20/87 [00:00<00:00, 90.83it/s]\n",
      " 34%|███▍      | 30/87 [00:00<00:00, 91.67it/s]\n",
      " 46%|████▌     | 40/87 [00:00<00:00, 92.02it/s]\n",
      " 57%|█████▋    | 50/87 [00:00<00:00, 93.24it/s]\n",
      " 70%|███████   | 61/87 [00:00<00:00, 96.35it/s]\n",
      " 82%|████████▏ | 71/87 [00:00<00:00, 96.44it/s]\n",
      " 93%|█████████▎| 81/87 [00:00<00:00, 95.70it/s]\n",
      "100%|██████████| 87/87 [00:00<00:00, 94.70it/s]\n",
      "  0%|          | 0/25 [00:00<?, ?it/s]\n",
      " 76%|███████▌  | 19/25 [00:00<00:00, 181.22it/s]\n",
      "100%|██████████| 25/25 [00:00<00:00, 181.68it/s]\n",
      "  0%|          | 0/87 [00:00<?, ?it/s]\n",
      " 11%|█▏        | 10/87 [00:00<00:00, 97.84it/s]\n"
     ]
    },
    {
     "name": "stdout",
     "output_type": "stream",
     "text": [
      "\u001b[2m\u001b[36m(func pid=21744)\u001b[0m \n",
      "\u001b[2m\u001b[36m(func pid=21744)\u001b[0m Epoch 16\n"
     ]
    },
    {
     "name": "stderr",
     "output_type": "stream",
     "text": [
      " 23%|██▎       | 20/87 [00:00<00:00, 94.35it/s]\n",
      " 34%|███▍      | 30/87 [00:00<00:00, 95.08it/s]\n",
      " 46%|████▌     | 40/87 [00:00<00:00, 96.25it/s]\n",
      " 57%|█████▋    | 50/87 [00:00<00:00, 94.54it/s]\n",
      " 69%|██████▉   | 60/87 [00:00<00:00, 94.75it/s]\n",
      " 80%|████████  | 70/87 [00:00<00:00, 94.36it/s]\n",
      " 92%|█████████▏| 80/87 [00:00<00:00, 94.31it/s]\n",
      "100%|██████████| 87/87 [00:00<00:00, 94.84it/s]\n",
      "  0%|          | 0/25 [00:00<?, ?it/s]\n",
      " 72%|███████▏  | 18/25 [00:00<00:00, 179.75it/s]\n",
      "100%|██████████| 25/25 [00:00<00:00, 115.53it/s]\n",
      "  0%|          | 0/87 [00:00<?, ?it/s]\n"
     ]
    },
    {
     "name": "stdout",
     "output_type": "stream",
     "text": [
      "\u001b[2m\u001b[36m(func pid=21744)\u001b[0m \n",
      "\u001b[2m\u001b[36m(func pid=21744)\u001b[0m Epoch 17\n"
     ]
    },
    {
     "name": "stderr",
     "output_type": "stream",
     "text": [
      " 11%|█▏        | 10/87 [00:00<00:00, 92.84it/s]\n",
      " 23%|██▎       | 20/87 [00:00<00:00, 92.19it/s]\n",
      " 34%|███▍      | 30/87 [00:00<00:00, 93.81it/s]\n",
      " 46%|████▌     | 40/87 [00:00<00:00, 92.69it/s]\n",
      " 57%|█████▋    | 50/87 [00:00<00:00, 93.64it/s]\n",
      " 69%|██████▉   | 60/87 [00:00<00:00, 94.47it/s]\n",
      " 80%|████████  | 70/87 [00:00<00:00, 93.28it/s]\n",
      " 92%|█████████▏| 80/87 [00:00<00:00, 91.97it/s]\n",
      " 68%|██████▊   | 17/25 [00:00<00:00, 169.80it/s]\n",
      "100%|██████████| 25/25 [00:00<00:00, 151.60it/s]\n",
      "  0%|          | 0/87 [00:00<?, ?it/s]\n",
      " 10%|█         | 9/87 [00:00<00:00, 89.92it/s]\n"
     ]
    },
    {
     "name": "stdout",
     "output_type": "stream",
     "text": [
      "\u001b[2m\u001b[36m(func pid=21744)\u001b[0m \n",
      "\u001b[2m\u001b[36m(func pid=21744)\u001b[0m Epoch 18\n"
     ]
    },
    {
     "name": "stderr",
     "output_type": "stream",
     "text": [
      " 21%|██        | 18/87 [00:00<00:00, 88.31it/s]\n",
      " 32%|███▏      | 28/87 [00:00<00:00, 89.54it/s]\n",
      " 44%|████▎     | 38/87 [00:00<00:00, 89.85it/s]\n",
      " 55%|█████▌    | 48/87 [00:00<00:00, 90.87it/s]\n",
      " 67%|██████▋   | 58/87 [00:00<00:00, 91.47it/s]\n",
      " 78%|███████▊  | 68/87 [00:00<00:00, 90.69it/s]\n",
      " 90%|████████▉ | 78/87 [00:00<00:00, 91.38it/s]\n",
      "100%|██████████| 87/87 [00:00<00:00, 91.08it/s]\n",
      "  0%|          | 0/25 [00:00<?, ?it/s]\n",
      " 80%|████████  | 20/25 [00:00<00:00, 194.26it/s]\n",
      "100%|██████████| 25/25 [00:00<00:00, 196.49it/s]\n",
      "  0%|          | 0/87 [00:00<?, ?it/s]\n",
      " 13%|█▎        | 11/87 [00:00<00:00, 102.59it/s]\n"
     ]
    },
    {
     "name": "stdout",
     "output_type": "stream",
     "text": [
      "\u001b[2m\u001b[36m(func pid=21744)\u001b[0m \n",
      "\u001b[2m\u001b[36m(func pid=21744)\u001b[0m Epoch 19\n"
     ]
    },
    {
     "name": "stderr",
     "output_type": "stream",
     "text": [
      " 25%|██▌       | 22/87 [00:00<00:00, 104.60it/s]\n",
      " 38%|███▊      | 33/87 [00:00<00:00, 97.15it/s] \n",
      " 49%|████▉     | 43/87 [00:00<00:00, 94.51it/s]\n",
      " 61%|██████    | 53/87 [00:00<00:00, 92.72it/s]\n",
      " 72%|███████▏  | 63/87 [00:00<00:00, 92.50it/s]\n",
      " 84%|████████▍ | 73/87 [00:00<00:00, 90.58it/s]\n",
      "100%|██████████| 87/87 [00:00<00:00, 92.66it/s]\n",
      "  0%|          | 0/25 [00:00<?, ?it/s]\n",
      " 68%|██████▊   | 17/25 [00:00<00:00, 166.11it/s]\n",
      "100%|██████████| 25/25 [00:00<00:00, 109.40it/s]\n",
      "  0%|          | 0/87 [00:00<?, ?it/s]\n",
      " 10%|█         | 9/87 [00:00<00:00, 88.58it/s]\n"
     ]
    },
    {
     "name": "stdout",
     "output_type": "stream",
     "text": [
      "\u001b[2m\u001b[36m(func pid=21744)\u001b[0m \n",
      "\u001b[2m\u001b[36m(func pid=21744)\u001b[0m Epoch 20\n"
     ]
    },
    {
     "name": "stderr",
     "output_type": "stream",
     "text": [
      " 22%|██▏       | 19/87 [00:00<00:00, 93.02it/s]\n",
      " 33%|███▎      | 29/87 [00:00<00:00, 92.14it/s]\n",
      " 45%|████▍     | 39/87 [00:00<00:00, 95.05it/s]\n",
      " 56%|█████▋    | 49/87 [00:00<00:00, 94.40it/s]\n",
      " 68%|██████▊   | 59/87 [00:00<00:00, 93.86it/s]\n",
      " 79%|███████▉  | 69/87 [00:00<00:00, 89.42it/s]\n",
      " 90%|████████▉ | 78/87 [00:00<00:00, 87.94it/s]\n",
      "100%|██████████| 87/87 [00:00<00:00, 90.54it/s]\n",
      "  0%|          | 0/25 [00:00<?, ?it/s]\n",
      "100%|██████████| 25/25 [00:00<00:00, 178.56it/s]\n",
      "  0%|          | 0/87 [00:00<?, ?it/s]\n",
      " 10%|█         | 9/87 [00:00<00:00, 87.52it/s]\n",
      " 22%|██▏       | 19/87 [00:00<00:00, 83.21it/s]\n"
     ]
    },
    {
     "name": "stdout",
     "output_type": "stream",
     "text": [
      "\u001b[2m\u001b[36m(func pid=21744)\u001b[0m \n",
      "\u001b[2m\u001b[36m(func pid=21744)\u001b[0m Epoch 21\n"
     ]
    },
    {
     "name": "stderr",
     "output_type": "stream",
     "text": [
      " 32%|███▏      | 28/87 [00:00<00:00, 82.49it/s]\n",
      " 44%|████▎     | 38/87 [00:00<00:00, 86.19it/s]\n",
      " 55%|█████▌    | 48/87 [00:00<00:00, 87.83it/s]\n",
      " 67%|██████▋   | 58/87 [00:00<00:00, 90.28it/s]\n",
      " 78%|███████▊  | 68/87 [00:00<00:00, 89.83it/s]\n",
      " 89%|████████▊ | 77/87 [00:00<00:00, 89.49it/s]\n",
      "100%|██████████| 87/87 [00:00<00:00, 87.74it/s]\n",
      "  0%|          | 0/25 [00:00<?, ?it/s]\n",
      "  0%|          | 0/87 [00:00<?, ?it/s]\n",
      " 10%|█         | 9/87 [00:00<00:00, 86.22it/s]\n"
     ]
    },
    {
     "name": "stdout",
     "output_type": "stream",
     "text": [
      "\u001b[2m\u001b[36m(func pid=21744)\u001b[0m \n",
      "\u001b[2m\u001b[36m(func pid=21744)\u001b[0m Epoch 22\n"
     ]
    },
    {
     "name": "stderr",
     "output_type": "stream",
     "text": [
      " 21%|██        | 18/87 [00:00<00:00, 84.60it/s]\n",
      " 31%|███       | 27/87 [00:00<00:00, 86.14it/s]\n",
      " 43%|████▎     | 37/87 [00:00<00:00, 88.34it/s]\n",
      " 54%|█████▍    | 47/87 [00:00<00:00, 89.66it/s]\n",
      " 64%|██████▍   | 56/87 [00:00<00:00, 88.28it/s]\n",
      " 75%|███████▍  | 65/87 [00:00<00:00, 87.56it/s]\n",
      " 85%|████████▌ | 74/87 [00:00<00:00, 86.10it/s]\n",
      " 95%|█████████▌| 83/87 [00:00<00:00, 87.09it/s]\n",
      "100%|██████████| 87/87 [00:00<00:00, 87.40it/s]\n",
      "  0%|          | 0/25 [00:00<?, ?it/s]\n",
      "100%|██████████| 25/25 [00:00<00:00, 105.48it/s]\n",
      "  0%|          | 0/87 [00:00<?, ?it/s]\n"
     ]
    },
    {
     "name": "stdout",
     "output_type": "stream",
     "text": [
      "\u001b[2m\u001b[36m(func pid=21744)\u001b[0m \n",
      "\u001b[2m\u001b[36m(func pid=21744)\u001b[0m Epoch 23\n"
     ]
    },
    {
     "name": "stderr",
     "output_type": "stream",
     "text": [
      " 10%|█         | 9/87 [00:00<00:00, 89.14it/s]\n",
      " 21%|██        | 18/87 [00:00<00:00, 88.03it/s]\n",
      " 31%|███       | 27/87 [00:00<00:00, 88.17it/s]\n",
      " 41%|████▏     | 36/87 [00:00<00:00, 88.17it/s]\n",
      " 52%|█████▏    | 45/87 [00:00<00:00, 84.05it/s]\n",
      " 62%|██████▏   | 54/87 [00:00<00:00, 81.76it/s]\n",
      " 72%|███████▏  | 63/87 [00:00<00:00, 80.18it/s]\n",
      " 83%|████████▎ | 72/87 [00:00<00:00, 80.88it/s]\n",
      "100%|██████████| 87/87 [00:01<00:00, 84.97it/s]\n",
      "  0%|          | 0/25 [00:00<?, ?it/s]\n",
      " 76%|███████▌  | 19/25 [00:00<00:00, 182.17it/s]\n",
      "100%|██████████| 25/25 [00:00<00:00, 183.55it/s]\n",
      "  0%|          | 0/87 [00:00<?, ?it/s]\n",
      " 11%|█▏        | 10/87 [00:00<00:00, 93.10it/s]\n"
     ]
    },
    {
     "name": "stdout",
     "output_type": "stream",
     "text": [
      "\u001b[2m\u001b[36m(func pid=21744)\u001b[0m \n",
      "\u001b[2m\u001b[36m(func pid=21744)\u001b[0m Epoch 24\n"
     ]
    },
    {
     "name": "stderr",
     "output_type": "stream",
     "text": [
      " 23%|██▎       | 20/87 [00:00<00:00, 90.87it/s]\n",
      " 34%|███▍      | 30/87 [00:00<00:00, 82.27it/s]\n",
      " 46%|████▌     | 40/87 [00:00<00:00, 86.16it/s]\n",
      " 56%|█████▋    | 49/87 [00:00<00:00, 86.90it/s]\n",
      " 67%|██████▋   | 58/87 [00:00<00:00, 87.16it/s]\n",
      " 77%|███████▋  | 67/87 [00:00<00:00, 86.27it/s]\n",
      " 87%|████████▋ | 76/87 [00:00<00:00, 85.09it/s]\n",
      "100%|██████████| 87/87 [00:00<00:00, 87.14it/s]\n",
      "  0%|          | 0/25 [00:00<?, ?it/s]\n",
      "100%|██████████| 25/25 [00:00<00:00, 161.43it/s]\n",
      "  0%|          | 0/87 [00:00<?, ?it/s]\n",
      " 10%|█         | 9/87 [00:00<00:00, 85.14it/s]\n"
     ]
    },
    {
     "name": "stdout",
     "output_type": "stream",
     "text": [
      "\u001b[2m\u001b[36m(func pid=21744)\u001b[0m \n",
      "\u001b[2m\u001b[36m(func pid=21744)\u001b[0m Epoch 25\n"
     ]
    },
    {
     "name": "stderr",
     "output_type": "stream",
     "text": [
      " 21%|██        | 18/87 [00:00<00:00, 86.17it/s]\n",
      " 31%|███       | 27/87 [00:00<00:00, 84.55it/s]\n",
      " 41%|████▏     | 36/87 [00:00<00:00, 85.65it/s]\n",
      " 52%|█████▏    | 45/87 [00:00<00:00, 85.79it/s]\n",
      " 62%|██████▏   | 54/87 [00:00<00:00, 82.15it/s]\n",
      " 72%|███████▏  | 63/87 [00:00<00:00, 79.01it/s]\n",
      " 82%|████████▏ | 71/87 [00:00<00:00, 77.88it/s]\n",
      "100%|██████████| 87/87 [00:01<00:00, 82.21it/s]\n",
      "  0%|          | 0/25 [00:00<?, ?it/s]\n",
      "100%|██████████| 25/25 [00:00<00:00, 113.60it/s]\n",
      "  0%|          | 0/87 [00:00<?, ?it/s]\n",
      " 10%|█         | 9/87 [00:00<00:00, 83.45it/s]\n"
     ]
    },
    {
     "name": "stdout",
     "output_type": "stream",
     "text": [
      "\u001b[2m\u001b[36m(func pid=21744)\u001b[0m \n",
      "\u001b[2m\u001b[36m(func pid=21744)\u001b[0m Epoch 26\n"
     ]
    },
    {
     "name": "stderr",
     "output_type": "stream",
     "text": [
      " 21%|██        | 18/87 [00:00<00:00, 85.65it/s]\n",
      " 31%|███       | 27/87 [00:00<00:00, 87.25it/s]\n",
      " 41%|████▏     | 36/87 [00:00<00:00, 85.92it/s]\n",
      " 52%|█████▏    | 45/87 [00:00<00:00, 87.33it/s]\n",
      " 62%|██████▏   | 54/87 [00:00<00:00, 85.71it/s]\n",
      " 72%|███████▏  | 63/87 [00:00<00:00, 86.41it/s]\n",
      " 83%|████████▎ | 72/87 [00:00<00:00, 86.25it/s]\n",
      " 94%|█████████▍| 82/87 [00:00<00:00, 89.07it/s]\n",
      "100%|██████████| 87/87 [00:00<00:00, 87.19it/s]\n",
      "  0%|          | 0/25 [00:00<?, ?it/s]\n",
      " 76%|███████▌  | 19/25 [00:00<00:00, 183.09it/s]\n",
      "100%|██████████| 25/25 [00:00<00:00, 181.47it/s]\n",
      "  0%|          | 0/87 [00:00<?, ?it/s]\n",
      " 10%|█         | 9/87 [00:00<00:00, 88.45it/s]\n"
     ]
    },
    {
     "name": "stdout",
     "output_type": "stream",
     "text": [
      "\u001b[2m\u001b[36m(func pid=21744)\u001b[0m \n",
      "\u001b[2m\u001b[36m(func pid=21744)\u001b[0m Epoch 27\n"
     ]
    },
    {
     "name": "stderr",
     "output_type": "stream",
     "text": [
      " 21%|██        | 18/87 [00:00<00:00, 88.10it/s]\n",
      " 31%|███       | 27/87 [00:00<00:00, 82.44it/s]\n",
      " 43%|████▎     | 37/87 [00:00<00:00, 86.09it/s]\n",
      " 53%|█████▎    | 46/87 [00:00<00:00, 85.91it/s]\n",
      " 63%|██████▎   | 55/87 [00:00<00:00, 86.42it/s]\n",
      " 74%|███████▎  | 64/87 [00:00<00:00, 86.50it/s]\n",
      " 84%|████████▍ | 73/87 [00:00<00:00, 83.62it/s]\n",
      "100%|██████████| 87/87 [00:01<00:00, 83.84it/s]\n",
      "  0%|          | 0/25 [00:00<?, ?it/s]\n",
      " 60%|██████    | 15/25 [00:00<00:00, 144.74it/s]\n",
      "100%|██████████| 25/25 [00:00<00:00, 134.63it/s]\n",
      "  0%|          | 0/87 [00:00<?, ?it/s]\n",
      " 10%|█         | 9/87 [00:00<00:00, 87.82it/s]\n"
     ]
    },
    {
     "name": "stdout",
     "output_type": "stream",
     "text": [
      "\u001b[2m\u001b[36m(func pid=21744)\u001b[0m \n",
      "\u001b[2m\u001b[36m(func pid=21744)\u001b[0m Epoch 28\n"
     ]
    },
    {
     "name": "stderr",
     "output_type": "stream",
     "text": [
      " 21%|██        | 18/87 [00:00<00:00, 84.12it/s]\n",
      " 32%|███▏      | 28/87 [00:00<00:00, 88.89it/s]\n",
      " 44%|████▎     | 38/87 [00:00<00:00, 91.99it/s]\n",
      " 55%|█████▌    | 48/87 [00:00<00:00, 92.60it/s]\n",
      " 67%|██████▋   | 58/87 [00:00<00:00, 94.35it/s]\n",
      " 78%|███████▊  | 68/87 [00:00<00:00, 90.83it/s]\n",
      " 90%|████████▉ | 78/87 [00:00<00:00, 88.85it/s]\n",
      "100%|██████████| 87/87 [00:00<00:00, 89.83it/s]\n",
      "  0%|          | 0/25 [00:00<?, ?it/s]\n",
      " 60%|██████    | 15/25 [00:00<00:00, 94.58it/s]\n",
      "100%|██████████| 25/25 [00:00<00:00, 117.43it/s]\n",
      "  0%|          | 0/87 [00:00<?, ?it/s]\n",
      " 11%|█▏        | 10/87 [00:00<00:00, 93.82it/s]\n"
     ]
    },
    {
     "name": "stdout",
     "output_type": "stream",
     "text": [
      "\u001b[2m\u001b[36m(func pid=21744)\u001b[0m \n",
      "\u001b[2m\u001b[36m(func pid=21744)\u001b[0m Epoch 29\n"
     ]
    },
    {
     "name": "stderr",
     "output_type": "stream",
     "text": [
      " 23%|██▎       | 20/87 [00:00<00:00, 92.74it/s]\n",
      " 34%|███▍      | 30/87 [00:00<00:00, 94.37it/s]\n",
      " 46%|████▌     | 40/87 [00:00<00:00, 95.27it/s]\n",
      " 57%|█████▋    | 50/87 [00:00<00:00, 96.04it/s]\n",
      " 70%|███████   | 61/87 [00:00<00:00, 97.79it/s]\n",
      " 82%|████████▏ | 71/87 [00:00<00:00, 96.92it/s]\n",
      "100%|██████████| 87/87 [00:00<00:00, 96.76it/s]\n",
      "  0%|          | 0/25 [00:00<?, ?it/s]\n"
     ]
    },
    {
     "name": "stdout",
     "output_type": "stream",
     "text": [
      "\u001b[2m\u001b[36m(func pid=21744)\u001b[0m \n",
      "\u001b[2m\u001b[36m(func pid=21744)\u001b[0m Epoch 31\n"
     ]
    },
    {
     "name": "stderr",
     "output_type": "stream",
     "text": [
      " 23%|██▎       | 20/87 [00:00<00:00, 96.97it/s]\n",
      " 34%|███▍      | 30/87 [00:00<00:00, 95.84it/s]\n",
      " 46%|████▌     | 40/87 [00:00<00:00, 95.61it/s]\n",
      " 57%|█████▋    | 50/87 [00:00<00:00, 96.32it/s]\n",
      " 69%|██████▉   | 60/87 [00:00<00:00, 92.80it/s]\n",
      " 80%|████████  | 70/87 [00:00<00:00, 89.90it/s]\n",
      " 92%|█████████▏| 80/87 [00:00<00:00, 87.01it/s]\n",
      "100%|██████████| 87/87 [00:00<00:00, 91.01it/s]\n",
      "  0%|          | 0/25 [00:00<?, ?it/s]\n",
      " 32%|███▏      | 8/25 [00:00<00:00, 65.52it/s]\n",
      "  0%|          | 0/87 [00:00<?, ?it/s]\n",
      " 10%|█         | 9/87 [00:00<00:00, 89.93it/s]\n"
     ]
    },
    {
     "name": "stdout",
     "output_type": "stream",
     "text": [
      "\u001b[2m\u001b[36m(func pid=21744)\u001b[0m \n",
      "\u001b[2m\u001b[36m(func pid=21744)\u001b[0m Epoch 32\n"
     ]
    },
    {
     "name": "stderr",
     "output_type": "stream",
     "text": [
      " 22%|██▏       | 19/87 [00:00<00:00, 91.09it/s]\n",
      " 33%|███▎      | 29/87 [00:00<00:00, 92.96it/s]\n",
      " 45%|████▍     | 39/87 [00:00<00:00, 93.84it/s]\n",
      " 56%|█████▋    | 49/87 [00:00<00:00, 93.45it/s]\n",
      " 68%|██████▊   | 59/87 [00:00<00:00, 93.95it/s]\n",
      " 79%|███████▉  | 69/87 [00:00<00:00, 92.68it/s]\n",
      " 91%|█████████ | 79/87 [00:00<00:00, 93.43it/s]\n",
      "100%|██████████| 87/87 [00:00<00:00, 93.39it/s]\n",
      "  0%|          | 0/25 [00:00<?, ?it/s]\n",
      "100%|██████████| 25/25 [00:00<00:00, 183.25it/s]\n",
      "  0%|          | 0/87 [00:00<?, ?it/s]\n",
      " 11%|█▏        | 10/87 [00:00<00:00, 93.67it/s]\n"
     ]
    },
    {
     "name": "stdout",
     "output_type": "stream",
     "text": [
      "\u001b[2m\u001b[36m(func pid=21744)\u001b[0m \n",
      "\u001b[2m\u001b[36m(func pid=21744)\u001b[0m Epoch 33\n"
     ]
    },
    {
     "name": "stderr",
     "output_type": "stream",
     "text": [
      " 23%|██▎       | 20/87 [00:00<00:00, 95.04it/s]\n",
      " 34%|███▍      | 30/87 [00:00<00:00, 93.54it/s]\n",
      " 46%|████▌     | 40/87 [00:00<00:00, 93.91it/s]\n",
      " 57%|█████▋    | 50/87 [00:00<00:00, 94.08it/s]\n",
      " 69%|██████▉   | 60/87 [00:00<00:00, 94.13it/s]\n",
      " 80%|████████  | 70/87 [00:00<00:00, 93.78it/s]\n",
      " 92%|█████████▏| 80/87 [00:00<00:00, 93.47it/s]\n",
      "100%|██████████| 87/87 [00:00<00:00, 93.88it/s]\n",
      "  0%|          | 0/25 [00:00<?, ?it/s]\n",
      " 72%|███████▏  | 18/25 [00:00<00:00, 177.88it/s]\n",
      "100%|██████████| 25/25 [00:00<00:00, 179.04it/s]\n",
      "  0%|          | 0/87 [00:00<?, ?it/s]\n",
      " 10%|█         | 9/87 [00:00<00:00, 87.94it/s]\n"
     ]
    },
    {
     "name": "stdout",
     "output_type": "stream",
     "text": [
      "\u001b[2m\u001b[36m(func pid=21744)\u001b[0m \n",
      "\u001b[2m\u001b[36m(func pid=21744)\u001b[0m Epoch 34\n"
     ]
    },
    {
     "name": "stderr",
     "output_type": "stream",
     "text": [
      " 22%|██▏       | 19/87 [00:00<00:00, 90.53it/s]\n",
      " 33%|███▎      | 29/87 [00:00<00:00, 81.95it/s]\n",
      " 44%|████▎     | 38/87 [00:00<00:00, 83.19it/s]\n",
      " 55%|█████▌    | 48/87 [00:00<00:00, 86.38it/s]\n",
      " 66%|██████▌   | 57/87 [00:00<00:00, 87.46it/s]\n",
      " 76%|███████▌  | 66/87 [00:00<00:00, 86.95it/s]\n",
      " 86%|████████▌ | 75/87 [00:00<00:00, 86.52it/s]\n",
      "  0%|          | 0/25 [00:00<?, ?it/s]\n",
      " 72%|███████▏  | 18/25 [00:00<00:00, 170.17it/s]\n",
      "100%|██████████| 25/25 [00:00<00:00, 113.74it/s]\n",
      "  0%|          | 0/87 [00:00<?, ?it/s]\n",
      " 10%|█         | 9/87 [00:00<00:00, 87.04it/s]\n"
     ]
    },
    {
     "name": "stdout",
     "output_type": "stream",
     "text": [
      "\u001b[2m\u001b[36m(func pid=21744)\u001b[0m \n",
      "\u001b[2m\u001b[36m(func pid=21744)\u001b[0m Epoch 35\n"
     ]
    },
    {
     "name": "stderr",
     "output_type": "stream",
     "text": [
      " 21%|██        | 18/87 [00:00<00:00, 88.70it/s]\n",
      " 31%|███       | 27/87 [00:00<00:00, 87.31it/s]\n",
      " 41%|████▏     | 36/87 [00:00<00:00, 87.78it/s]\n",
      " 53%|█████▎    | 46/87 [00:00<00:00, 89.04it/s]\n",
      " 64%|██████▍   | 56/87 [00:00<00:00, 89.33it/s]\n",
      " 75%|███████▍  | 65/87 [00:00<00:00, 89.29it/s]\n",
      " 85%|████████▌ | 74/87 [00:00<00:00, 87.11it/s]\n",
      "100%|██████████| 87/87 [00:01<00:00, 86.38it/s]\n",
      "  0%|          | 0/25 [00:00<?, ?it/s]\n",
      " 60%|██████    | 15/25 [00:00<00:00, 143.13it/s]\n",
      "100%|██████████| 25/25 [00:00<00:00, 154.54it/s]\n",
      "  0%|          | 0/87 [00:00<?, ?it/s]\n",
      " 11%|█▏        | 10/87 [00:00<00:00, 89.01it/s]\n"
     ]
    },
    {
     "name": "stdout",
     "output_type": "stream",
     "text": [
      "\u001b[2m\u001b[36m(func pid=21744)\u001b[0m \n",
      "\u001b[2m\u001b[36m(func pid=21744)\u001b[0m Epoch 36\n"
     ]
    },
    {
     "name": "stderr",
     "output_type": "stream",
     "text": [
      " 23%|██▎       | 20/87 [00:00<00:00, 90.25it/s]\n",
      " 34%|███▍      | 30/87 [00:00<00:00, 87.04it/s]\n",
      " 46%|████▌     | 40/87 [00:00<00:00, 88.98it/s]\n",
      " 57%|█████▋    | 50/87 [00:00<00:00, 88.97it/s]\n",
      " 68%|██████▊   | 59/87 [00:00<00:00, 89.27it/s]\n",
      " 78%|███████▊  | 68/87 [00:00<00:00, 89.23it/s]\n",
      "100%|██████████| 87/87 [00:00<00:00, 89.79it/s]\n",
      "  0%|          | 0/25 [00:00<?, ?it/s]\n",
      " 68%|██████▊   | 17/25 [00:00<00:00, 162.85it/s]\n",
      "100%|██████████| 25/25 [00:00<00:00, 156.55it/s]\n",
      "  0%|          | 0/87 [00:00<?, ?it/s]\n",
      " 10%|█         | 9/87 [00:00<00:00, 87.32it/s]\n"
     ]
    },
    {
     "name": "stdout",
     "output_type": "stream",
     "text": [
      "\u001b[2m\u001b[36m(func pid=21744)\u001b[0m \n",
      "\u001b[2m\u001b[36m(func pid=21744)\u001b[0m Epoch 37\n"
     ]
    },
    {
     "name": "stderr",
     "output_type": "stream",
     "text": [
      " 21%|██        | 18/87 [00:00<00:00, 87.70it/s]\n",
      " 31%|███       | 27/87 [00:00<00:00, 88.54it/s]\n",
      " 41%|████▏     | 36/87 [00:00<00:00, 89.11it/s]\n",
      " 53%|█████▎    | 46/87 [00:00<00:00, 90.10it/s]\n",
      " 64%|██████▍   | 56/87 [00:00<00:00, 90.99it/s]\n",
      " 76%|███████▌  | 66/87 [00:00<00:00, 91.26it/s]\n",
      " 87%|████████▋ | 76/87 [00:00<00:00, 89.90it/s]\n",
      "100%|██████████| 87/87 [00:00<00:00, 89.53it/s]\n",
      "  0%|          | 0/25 [00:00<?, ?it/s]\n",
      " 68%|██████▊   | 17/25 [00:00<00:00, 165.26it/s]\n",
      "100%|██████████| 25/25 [00:00<00:00, 110.24it/s]\n",
      "  0%|          | 0/87 [00:00<?, ?it/s]\n",
      " 11%|█▏        | 10/87 [00:00<00:00, 92.52it/s]\n"
     ]
    },
    {
     "name": "stdout",
     "output_type": "stream",
     "text": [
      "\u001b[2m\u001b[36m(func pid=21744)\u001b[0m \n",
      "\u001b[2m\u001b[36m(func pid=21744)\u001b[0m Epoch 38\n"
     ]
    },
    {
     "name": "stderr",
     "output_type": "stream",
     "text": [
      " 23%|██▎       | 20/87 [00:00<00:00, 93.13it/s]\n",
      " 34%|███▍      | 30/87 [00:00<00:00, 93.63it/s]\n",
      " 46%|████▌     | 40/87 [00:00<00:00, 93.94it/s]\n",
      " 57%|█████▋    | 50/87 [00:00<00:00, 94.72it/s]\n",
      " 69%|██████▉   | 60/87 [00:00<00:00, 94.84it/s]\n",
      " 80%|████████  | 70/87 [00:00<00:00, 94.17it/s]\n",
      " 92%|█████████▏| 80/87 [00:00<00:00, 93.70it/s]\n",
      "  0%|          | 0/25 [00:00<?, ?it/s]\n",
      "100%|██████████| 25/25 [00:00<00:00, 171.83it/s]\n",
      "  0%|          | 0/87 [00:00<?, ?it/s]\n",
      " 11%|█▏        | 10/87 [00:00<00:00, 92.60it/s]\n"
     ]
    },
    {
     "name": "stdout",
     "output_type": "stream",
     "text": [
      "\u001b[2m\u001b[36m(func pid=21744)\u001b[0m \n",
      "\u001b[2m\u001b[36m(func pid=21744)\u001b[0m Epoch 39\n"
     ]
    },
    {
     "name": "stderr",
     "output_type": "stream",
     "text": [
      " 23%|██▎       | 20/87 [00:00<00:00, 94.71it/s]\n",
      " 34%|███▍      | 30/87 [00:00<00:00, 94.19it/s]\n",
      " 46%|████▌     | 40/87 [00:00<00:00, 94.85it/s]\n",
      " 57%|█████▋    | 50/87 [00:00<00:00, 93.68it/s]\n",
      " 69%|██████▉   | 60/87 [00:00<00:00, 94.40it/s]\n",
      " 80%|████████  | 70/87 [00:00<00:00, 95.04it/s]\n",
      " 92%|█████████▏| 80/87 [00:00<00:00, 93.14it/s]\n",
      "100%|██████████| 87/87 [00:00<00:00, 93.21it/s]\n",
      "  0%|          | 0/25 [00:00<?, ?it/s]\n",
      " 68%|██████▊   | 17/25 [00:00<00:00, 162.12it/s]\n",
      "100%|██████████| 25/25 [00:00<00:00, 163.00it/s]\n",
      "  0%|          | 0/87 [00:00<?, ?it/s]\n",
      " 11%|█▏        | 10/87 [00:00<00:00, 92.60it/s]\n"
     ]
    },
    {
     "name": "stdout",
     "output_type": "stream",
     "text": [
      "\u001b[2m\u001b[36m(func pid=21744)\u001b[0m \n",
      "\u001b[2m\u001b[36m(func pid=21744)\u001b[0m Epoch 40\n"
     ]
    },
    {
     "name": "stderr",
     "output_type": "stream",
     "text": [
      " 23%|██▎       | 20/87 [00:00<00:00, 95.80it/s]\n",
      " 34%|███▍      | 30/87 [00:00<00:00, 95.12it/s]\n",
      " 46%|████▌     | 40/87 [00:00<00:00, 95.16it/s]\n",
      " 57%|█████▋    | 50/87 [00:00<00:00, 95.53it/s]\n",
      " 69%|██████▉   | 60/87 [00:00<00:00, 95.27it/s]\n",
      " 80%|████████  | 70/87 [00:00<00:00, 90.10it/s]\n",
      " 92%|█████████▏| 80/87 [00:00<00:00, 91.62it/s]\n",
      "100%|██████████| 87/87 [00:00<00:00, 93.16it/s]\n",
      "  0%|          | 0/25 [00:00<?, ?it/s]\n",
      "  0%|          | 0/87 [00:00<?, ?it/s]\n",
      " 11%|█▏        | 10/87 [00:00<00:00, 90.98it/s]\n"
     ]
    },
    {
     "name": "stdout",
     "output_type": "stream",
     "text": [
      "\u001b[2m\u001b[36m(func pid=21744)\u001b[0m \n",
      "\u001b[2m\u001b[36m(func pid=21744)\u001b[0m Epoch 41\n"
     ]
    },
    {
     "name": "stderr",
     "output_type": "stream",
     "text": [
      " 23%|██▎       | 20/87 [00:00<00:00, 93.34it/s]\n",
      " 34%|███▍      | 30/87 [00:00<00:00, 93.75it/s]\n",
      " 46%|████▌     | 40/87 [00:00<00:00, 94.31it/s]\n",
      " 57%|█████▋    | 50/87 [00:00<00:00, 94.40it/s]\n",
      " 69%|██████▉   | 60/87 [00:00<00:00, 94.91it/s]\n",
      " 80%|████████  | 70/87 [00:00<00:00, 95.21it/s]\n",
      " 92%|█████████▏| 80/87 [00:00<00:00, 95.21it/s]\n",
      "100%|██████████| 87/87 [00:00<00:00, 94.66it/s]\n",
      "  0%|          | 0/25 [00:00<?, ?it/s]\n",
      "100%|██████████| 25/25 [00:00<00:00, 181.30it/s]\n",
      "  0%|          | 0/87 [00:00<?, ?it/s]\n",
      " 11%|█▏        | 10/87 [00:00<00:00, 97.58it/s]\n"
     ]
    },
    {
     "name": "stdout",
     "output_type": "stream",
     "text": [
      "\u001b[2m\u001b[36m(func pid=21744)\u001b[0m \n",
      "\u001b[2m\u001b[36m(func pid=21744)\u001b[0m Epoch 42\n"
     ]
    },
    {
     "name": "stderr",
     "output_type": "stream",
     "text": [
      " 23%|██▎       | 20/87 [00:00<00:00, 94.58it/s]\n",
      " 34%|███▍      | 30/87 [00:00<00:00, 90.24it/s]\n",
      " 46%|████▌     | 40/87 [00:00<00:00, 87.07it/s]\n",
      " 57%|█████▋    | 50/87 [00:00<00:00, 87.53it/s]\n",
      " 69%|██████▉   | 60/87 [00:00<00:00, 90.07it/s]\n",
      " 80%|████████  | 70/87 [00:00<00:00, 91.98it/s]\n",
      " 92%|█████████▏| 80/87 [00:00<00:00, 92.42it/s]\n",
      "100%|██████████| 87/87 [00:00<00:00, 91.58it/s]\n",
      "100%|██████████| 25/25 [00:00<00:00, 182.67it/s]\n",
      "  0%|          | 0/87 [00:00<?, ?it/s]\n",
      " 10%|█         | 9/87 [00:00<00:00, 89.90it/s]\n"
     ]
    },
    {
     "name": "stdout",
     "output_type": "stream",
     "text": [
      "\u001b[2m\u001b[36m(func pid=21744)\u001b[0m \n",
      "\u001b[2m\u001b[36m(func pid=21744)\u001b[0m Epoch 43\n"
     ]
    },
    {
     "name": "stderr",
     "output_type": "stream",
     "text": [
      " 21%|██        | 18/87 [00:00<00:00, 85.95it/s]\n",
      " 32%|███▏      | 28/87 [00:00<00:00, 89.22it/s]\n",
      " 44%|████▎     | 38/87 [00:00<00:00, 92.00it/s]\n",
      " 55%|█████▌    | 48/87 [00:00<00:00, 93.30it/s]\n",
      " 67%|██████▋   | 58/87 [00:00<00:00, 93.78it/s]\n",
      " 78%|███████▊  | 68/87 [00:00<00:00, 95.16it/s]\n",
      " 90%|████████▉ | 78/87 [00:00<00:00, 96.50it/s]\n",
      "100%|██████████| 87/87 [00:00<00:00, 94.01it/s]\n",
      "  0%|          | 0/25 [00:00<?, ?it/s]\n",
      "100%|██████████| 25/25 [00:00<00:00, 119.96it/s]\n",
      "  0%|          | 0/87 [00:00<?, ?it/s]\n"
     ]
    },
    {
     "name": "stdout",
     "output_type": "stream",
     "text": [
      "\u001b[2m\u001b[36m(func pid=21744)\u001b[0m \n",
      "\u001b[2m\u001b[36m(func pid=21744)\u001b[0m Epoch 44\n"
     ]
    },
    {
     "name": "stderr",
     "output_type": "stream",
     "text": [
      " 23%|██▎       | 20/87 [00:00<00:00, 97.28it/s]\n",
      " 34%|███▍      | 30/87 [00:00<00:00, 97.57it/s]\n",
      " 46%|████▌     | 40/87 [00:00<00:00, 97.05it/s]\n",
      " 57%|█████▋    | 50/87 [00:00<00:00, 97.72it/s]\n",
      " 69%|██████▉   | 60/87 [00:00<00:00, 97.83it/s]\n",
      " 80%|████████  | 70/87 [00:00<00:00, 97.28it/s]\n",
      " 92%|█████████▏| 80/87 [00:00<00:00, 98.06it/s]\n",
      "100%|██████████| 87/87 [00:00<00:00, 97.75it/s]\n",
      "  0%|          | 0/25 [00:00<?, ?it/s]\n",
      "100%|██████████| 25/25 [00:00<00:00, 184.51it/s]\n",
      "  0%|          | 0/87 [00:00<?, ?it/s]\n"
     ]
    },
    {
     "name": "stdout",
     "output_type": "stream",
     "text": [
      "\u001b[2m\u001b[36m(func pid=21744)\u001b[0m \n",
      "\u001b[2m\u001b[36m(func pid=21744)\u001b[0m Epoch 45\n"
     ]
    },
    {
     "name": "stderr",
     "output_type": "stream",
     "text": [
      " 11%|█▏        | 10/87 [00:00<00:00, 94.01it/s]\n",
      " 23%|██▎       | 20/87 [00:00<00:00, 96.97it/s]\n",
      " 34%|███▍      | 30/87 [00:00<00:00, 97.42it/s]\n",
      " 46%|████▌     | 40/87 [00:00<00:00, 97.74it/s]\n",
      " 69%|██████▉   | 60/87 [00:00<00:00, 98.09it/s]\n",
      " 80%|████████  | 70/87 [00:00<00:00, 98.24it/s]\n",
      "100%|██████████| 87/87 [00:00<00:00, 98.16it/s]\n",
      "  0%|          | 0/25 [00:00<?, ?it/s]\n",
      " 76%|███████▌  | 19/25 [00:00<00:00, 181.90it/s]\n",
      "100%|██████████| 25/25 [00:00<00:00, 181.98it/s]\n",
      "  0%|          | 0/87 [00:00<?, ?it/s]\n",
      " 11%|█▏        | 10/87 [00:00<00:00, 98.81it/s]\n"
     ]
    },
    {
     "name": "stdout",
     "output_type": "stream",
     "text": [
      "\u001b[2m\u001b[36m(func pid=21744)\u001b[0m \n",
      "\u001b[2m\u001b[36m(func pid=21744)\u001b[0m Epoch 46\n"
     ]
    },
    {
     "name": "stderr",
     "output_type": "stream",
     "text": [
      " 24%|██▍       | 21/87 [00:00<00:00, 99.07it/s]\n",
      " 36%|███▌      | 31/87 [00:00<00:00, 98.56it/s]\n",
      " 47%|████▋     | 41/87 [00:00<00:00, 98.00it/s]\n",
      " 60%|█████▉    | 52/87 [00:00<00:00, 98.68it/s]\n",
      " 71%|███████▏  | 62/87 [00:00<00:00, 98.56it/s]\n",
      " 83%|████████▎ | 72/87 [00:00<00:00, 98.38it/s]\n",
      "100%|██████████| 87/87 [00:00<00:00, 98.51it/s]\n",
      "  0%|          | 0/25 [00:00<?, ?it/s]\n",
      " 60%|██████    | 15/25 [00:00<00:00, 98.75it/s]\n",
      "100%|██████████| 25/25 [00:00<00:00, 121.57it/s]\n",
      "  0%|          | 0/87 [00:00<?, ?it/s]\n",
      "  9%|▉         | 8/87 [00:00<00:01, 75.68it/s]\n"
     ]
    },
    {
     "name": "stdout",
     "output_type": "stream",
     "text": [
      "\u001b[2m\u001b[36m(func pid=21744)\u001b[0m \n",
      "\u001b[2m\u001b[36m(func pid=21744)\u001b[0m Epoch 47\n"
     ]
    },
    {
     "name": "stderr",
     "output_type": "stream",
     "text": [
      " 21%|██        | 18/87 [00:00<00:00, 88.04it/s]\n",
      " 32%|███▏      | 28/87 [00:00<00:00, 93.02it/s]\n",
      " 44%|████▎     | 38/87 [00:00<00:00, 94.70it/s]\n",
      " 55%|█████▌    | 48/87 [00:00<00:00, 95.72it/s]\n",
      " 67%|██████▋   | 58/87 [00:00<00:00, 95.68it/s]\n",
      " 78%|███████▊  | 68/87 [00:00<00:00, 96.13it/s]\n",
      "  0%|          | 0/25 [00:00<?, ?it/s]\n",
      "100%|██████████| 25/25 [00:00<00:00, 172.95it/s]\n",
      "  0%|          | 0/87 [00:00<?, ?it/s]\n",
      " 11%|█▏        | 10/87 [00:00<00:00, 95.13it/s]\n"
     ]
    },
    {
     "name": "stdout",
     "output_type": "stream",
     "text": [
      "\u001b[2m\u001b[36m(func pid=21744)\u001b[0m \n",
      "\u001b[2m\u001b[36m(func pid=21744)\u001b[0m Epoch 48\n"
     ]
    },
    {
     "name": "stderr",
     "output_type": "stream",
     "text": [
      " 23%|██▎       | 20/87 [00:00<00:00, 94.09it/s]\n",
      " 34%|███▍      | 30/87 [00:00<00:00, 94.67it/s]\n",
      " 46%|████▌     | 40/87 [00:00<00:00, 95.16it/s]\n",
      " 57%|█████▋    | 50/87 [00:00<00:00, 93.99it/s]\n",
      " 69%|██████▉   | 60/87 [00:00<00:00, 93.07it/s]\n",
      " 80%|████████  | 70/87 [00:00<00:00, 92.73it/s]\n",
      "100%|██████████| 87/87 [00:00<00:00, 93.51it/s]\n",
      "  0%|          | 0/25 [00:00<?, ?it/s]\n",
      "100%|██████████| 25/25 [00:00<00:00, 178.82it/s]\n",
      "  0%|          | 0/87 [00:00<?, ?it/s]\n",
      " 11%|█▏        | 10/87 [00:00<00:00, 89.92it/s]\n"
     ]
    },
    {
     "name": "stdout",
     "output_type": "stream",
     "text": [
      "\u001b[2m\u001b[36m(func pid=21744)\u001b[0m \n",
      "\u001b[2m\u001b[36m(func pid=21744)\u001b[0m Epoch 49\n"
     ]
    },
    {
     "name": "stderr",
     "output_type": "stream",
     "text": [
      " 23%|██▎       | 20/87 [00:00<00:00, 90.10it/s]\n",
      " 34%|███▍      | 30/87 [00:00<00:00, 89.69it/s]\n",
      " 46%|████▌     | 40/87 [00:00<00:00, 91.12it/s]\n",
      " 57%|█████▋    | 50/87 [00:00<00:00, 90.81it/s]\n",
      " 69%|██████▉   | 60/87 [00:00<00:00, 91.40it/s]\n",
      " 80%|████████  | 70/87 [00:00<00:00, 90.60it/s]\n",
      "100%|██████████| 87/87 [00:00<00:00, 91.32it/s]\n",
      "  0%|          | 0/25 [00:00<?, ?it/s]\n",
      "100%|██████████| 25/25 [00:00<00:00, 117.75it/s]\n",
      "  0%|          | 0/87 [00:00<?, ?it/s]\n",
      " 10%|█         | 9/87 [00:00<00:00, 89.89it/s]\n"
     ]
    },
    {
     "name": "stdout",
     "output_type": "stream",
     "text": [
      "\u001b[2m\u001b[36m(func pid=21744)\u001b[0m \n",
      "\u001b[2m\u001b[36m(func pid=21744)\u001b[0m Epoch 50\n"
     ]
    },
    {
     "name": "stderr",
     "output_type": "stream",
     "text": [
      " 21%|██        | 18/87 [00:00<00:00, 83.60it/s]\n",
      " 31%|███       | 27/87 [00:00<00:00, 85.51it/s]\n",
      " 41%|████▏     | 36/87 [00:00<00:00, 87.04it/s]\n",
      " 52%|█████▏    | 45/87 [00:00<00:00, 87.10it/s]\n",
      " 62%|██████▏   | 54/87 [00:00<00:00, 87.79it/s]\n",
      " 72%|███████▏  | 63/87 [00:00<00:00, 88.23it/s]\n",
      " 84%|████████▍ | 73/87 [00:00<00:00, 89.05it/s]\n",
      "100%|██████████| 87/87 [00:00<00:00, 88.81it/s]\n",
      "  0%|          | 0/25 [00:00<?, ?it/s]\n",
      " 72%|███████▏  | 18/25 [00:00<00:00, 177.31it/s]\n",
      "100%|██████████| 25/25 [00:00<00:00, 176.65it/s]\n",
      "  0%|          | 0/87 [00:00<?, ?it/s]\n",
      "  9%|▉         | 8/87 [00:00<00:01, 74.63it/s]\n"
     ]
    },
    {
     "name": "stdout",
     "output_type": "stream",
     "text": [
      "\u001b[2m\u001b[36m(func pid=21744)\u001b[0m \n",
      "\u001b[2m\u001b[36m(func pid=21744)\u001b[0m Epoch 51\n"
     ]
    },
    {
     "name": "stderr",
     "output_type": "stream",
     "text": [
      " 20%|█▉        | 17/87 [00:00<00:00, 82.07it/s]\n",
      " 30%|██▉       | 26/87 [00:00<00:00, 84.87it/s]\n",
      " 40%|████      | 35/87 [00:00<00:00, 85.52it/s]\n",
      " 51%|█████     | 44/87 [00:00<00:00, 86.47it/s]\n",
      " 61%|██████    | 53/87 [00:00<00:00, 86.49it/s]\n",
      " 72%|███████▏  | 63/87 [00:00<00:00, 88.27it/s]\n",
      " 83%|████████▎ | 72/87 [00:00<00:00, 84.70it/s]\n",
      "100%|██████████| 87/87 [00:01<00:00, 85.29it/s]\n",
      "  0%|          | 0/25 [00:00<?, ?it/s]\n",
      "  0%|          | 0/87 [00:00<?, ?it/s]\n",
      " 10%|█         | 9/87 [00:00<00:00, 83.42it/s]\n"
     ]
    },
    {
     "name": "stdout",
     "output_type": "stream",
     "text": [
      "\u001b[2m\u001b[36m(func pid=21744)\u001b[0m \n",
      "\u001b[2m\u001b[36m(func pid=21744)\u001b[0m Epoch 52\n"
     ]
    },
    {
     "name": "stderr",
     "output_type": "stream",
     "text": [
      " 21%|██        | 18/87 [00:00<00:00, 81.88it/s]\n",
      " 31%|███       | 27/87 [00:00<00:00, 81.31it/s]\n",
      " 43%|████▎     | 37/87 [00:00<00:00, 84.70it/s]\n",
      " 54%|█████▍    | 47/87 [00:00<00:00, 87.88it/s]\n",
      " 76%|███████▌  | 66/87 [00:00<00:00, 88.71it/s]\n",
      " 86%|████████▌ | 75/87 [00:00<00:00, 88.83it/s]\n",
      " 98%|█████████▊| 85/87 [00:00<00:00, 90.60it/s]\n",
      "100%|██████████| 87/87 [00:00<00:00, 88.15it/s]\n",
      "  0%|          | 0/25 [00:00<?, ?it/s]\n",
      " 72%|███████▏  | 18/25 [00:00<00:00, 173.74it/s]\n",
      "100%|██████████| 25/25 [00:00<00:00, 115.13it/s]\n",
      "  0%|          | 0/87 [00:00<?, ?it/s]\n",
      " 11%|█▏        | 10/87 [00:00<00:00, 93.83it/s]\n",
      " 23%|██▎       | 20/87 [00:00<00:00, 94.46it/s]\n"
     ]
    },
    {
     "name": "stdout",
     "output_type": "stream",
     "text": [
      "\u001b[2m\u001b[36m(func pid=21744)\u001b[0m \n",
      "\u001b[2m\u001b[36m(func pid=21744)\u001b[0m Epoch 53\n"
     ]
    },
    {
     "name": "stderr",
     "output_type": "stream",
     "text": [
      " 34%|███▍      | 30/87 [00:00<00:00, 93.57it/s]\n",
      " 46%|████▌     | 40/87 [00:00<00:00, 94.41it/s]\n",
      " 57%|█████▋    | 50/87 [00:00<00:00, 87.24it/s]\n",
      " 69%|██████▉   | 60/87 [00:00<00:00, 89.27it/s]\n",
      " 80%|████████  | 70/87 [00:00<00:00, 91.10it/s]\n",
      " 92%|█████████▏| 80/87 [00:00<00:00, 89.77it/s]\n",
      "100%|██████████| 87/87 [00:00<00:00, 91.20it/s]\n",
      "  0%|          | 0/25 [00:00<?, ?it/s]\n",
      "100%|██████████| 25/25 [00:00<00:00, 175.75it/s]\n",
      "  0%|          | 0/87 [00:00<?, ?it/s]\n",
      " 11%|█▏        | 10/87 [00:00<00:00, 93.18it/s]\n"
     ]
    },
    {
     "name": "stdout",
     "output_type": "stream",
     "text": [
      "\u001b[2m\u001b[36m(func pid=21744)\u001b[0m \n",
      "\u001b[2m\u001b[36m(func pid=21744)\u001b[0m Epoch 54\n"
     ]
    },
    {
     "name": "stderr",
     "output_type": "stream",
     "text": [
      " 23%|██▎       | 20/87 [00:00<00:00, 93.86it/s]\n",
      " 34%|███▍      | 30/87 [00:00<00:00, 93.36it/s]\n",
      " 46%|████▌     | 40/87 [00:00<00:00, 93.35it/s]\n",
      " 57%|█████▋    | 50/87 [00:00<00:00, 94.35it/s]\n",
      " 69%|██████▉   | 60/87 [00:00<00:00, 94.06it/s]\n",
      " 80%|████████  | 70/87 [00:00<00:00, 93.57it/s]\n",
      " 92%|█████████▏| 80/87 [00:00<00:00, 93.30it/s]\n",
      "100%|██████████| 87/87 [00:00<00:00, 92.91it/s]\n",
      "  0%|          | 0/25 [00:00<?, ?it/s]\n",
      " 68%|██████▊   | 17/25 [00:00<00:00, 169.75it/s]\n",
      "100%|██████████| 25/25 [00:00<00:00, 173.05it/s]\n",
      "  0%|          | 0/87 [00:00<?, ?it/s]\n",
      " 11%|█▏        | 10/87 [00:00<00:00, 90.48it/s]\n"
     ]
    },
    {
     "name": "stdout",
     "output_type": "stream",
     "text": [
      "\u001b[2m\u001b[36m(func pid=21744)\u001b[0m \n",
      "\u001b[2m\u001b[36m(func pid=21744)\u001b[0m Epoch 55\n"
     ]
    },
    {
     "name": "stderr",
     "output_type": "stream",
     "text": [
      " 23%|██▎       | 20/87 [00:00<00:00, 92.83it/s]\n",
      " 34%|███▍      | 30/87 [00:00<00:00, 92.29it/s]\n",
      " 46%|████▌     | 40/87 [00:00<00:00, 90.80it/s]\n",
      " 57%|█████▋    | 50/87 [00:00<00:00, 91.64it/s]\n",
      " 69%|██████▉   | 60/87 [00:00<00:00, 91.37it/s]\n",
      " 80%|████████  | 70/87 [00:00<00:00, 92.11it/s]\n",
      " 92%|█████████▏| 80/87 [00:00<00:00, 91.45it/s]\n",
      "100%|██████████| 87/87 [00:00<00:00, 91.93it/s]\n",
      "  0%|          | 0/25 [00:00<?, ?it/s]\n",
      " 68%|██████▊   | 17/25 [00:00<00:00, 165.94it/s]\n",
      "  0%|          | 0/87 [00:00<?, ?it/s]\n",
      "  9%|▉         | 8/87 [00:00<00:01, 74.79it/s]\n"
     ]
    },
    {
     "name": "stdout",
     "output_type": "stream",
     "text": [
      "\u001b[2m\u001b[36m(func pid=21744)\u001b[0m \n",
      "\u001b[2m\u001b[36m(func pid=21744)\u001b[0m Epoch 56\n"
     ]
    },
    {
     "name": "stderr",
     "output_type": "stream",
     "text": [
      " 18%|█▊        | 16/87 [00:00<00:01, 60.17it/s]\n",
      " 29%|██▊       | 25/87 [00:00<00:00, 69.13it/s]\n",
      " 39%|███▉      | 34/87 [00:00<00:00, 75.31it/s]\n",
      " 51%|█████     | 44/87 [00:00<00:00, 80.79it/s]\n",
      " 61%|██████    | 53/87 [00:00<00:00, 80.18it/s]\n",
      " 71%|███████▏  | 62/87 [00:00<00:00, 75.83it/s]\n",
      " 80%|████████  | 70/87 [00:00<00:00, 74.21it/s]\n",
      " 90%|████████▉ | 78/87 [00:01<00:00, 73.44it/s]\n",
      "100%|██████████| 87/87 [00:01<00:00, 73.49it/s]\n",
      "  0%|          | 0/25 [00:00<?, ?it/s]\n",
      " 56%|█████▌    | 14/25 [00:00<00:00, 138.65it/s]\n",
      "100%|██████████| 25/25 [00:00<00:00, 140.45it/s]\n",
      "  0%|          | 0/87 [00:00<?, ?it/s]\n",
      "  8%|▊         | 7/87 [00:00<00:01, 69.79it/s]\n"
     ]
    },
    {
     "name": "stdout",
     "output_type": "stream",
     "text": [
      "\u001b[2m\u001b[36m(func pid=21744)\u001b[0m \n",
      "\u001b[2m\u001b[36m(func pid=21744)\u001b[0m Epoch 57\n"
     ]
    },
    {
     "name": "stderr",
     "output_type": "stream",
     "text": [
      " 17%|█▋        | 15/87 [00:00<00:00, 75.77it/s]\n",
      " 28%|██▊       | 24/87 [00:00<00:00, 78.52it/s]\n",
      " 37%|███▋      | 32/87 [00:00<00:00, 78.22it/s]\n",
      " 47%|████▋     | 41/87 [00:00<00:00, 82.11it/s]\n",
      " 59%|█████▊    | 51/87 [00:00<00:00, 84.94it/s]\n",
      " 70%|███████   | 61/87 [00:00<00:00, 87.34it/s]\n",
      " 80%|████████  | 70/87 [00:00<00:00, 87.60it/s]\n",
      "  0%|          | 0/25 [00:00<?, ?it/s]\n",
      "100%|██████████| 25/25 [00:00<00:00, 163.42it/s]\n",
      "  0%|          | 0/87 [00:00<?, ?it/s]\n",
      " 10%|█         | 9/87 [00:00<00:00, 85.37it/s]\n"
     ]
    },
    {
     "name": "stdout",
     "output_type": "stream",
     "text": [
      "\u001b[2m\u001b[36m(func pid=21744)\u001b[0m \n",
      "\u001b[2m\u001b[36m(func pid=21744)\u001b[0m Epoch 58\n"
     ]
    },
    {
     "name": "stderr",
     "output_type": "stream",
     "text": [
      " 21%|██        | 18/87 [00:00<00:00, 88.02it/s]\n",
      " 31%|███       | 27/87 [00:00<00:00, 87.16it/s]\n",
      " 41%|████▏     | 36/87 [00:00<00:00, 85.39it/s]\n",
      " 52%|█████▏    | 45/87 [00:00<00:00, 85.77it/s]\n",
      " 62%|██████▏   | 54/87 [00:00<00:00, 83.88it/s]\n",
      " 72%|███████▏  | 63/87 [00:00<00:00, 84.44it/s]\n",
      " 83%|████████▎ | 72/87 [00:00<00:00, 85.09it/s]\n",
      " 93%|█████████▎| 81/87 [00:00<00:00, 85.16it/s]\n",
      "100%|██████████| 87/87 [00:01<00:00, 85.67it/s]\n",
      "  0%|          | 0/25 [00:00<?, ?it/s]\n",
      " 44%|████▍     | 11/25 [00:00<00:00, 75.51it/s]\n",
      "100%|██████████| 25/25 [00:00<00:00, 107.78it/s]\n",
      "  0%|          | 0/87 [00:00<?, ?it/s]\n"
     ]
    },
    {
     "name": "stdout",
     "output_type": "stream",
     "text": [
      "\u001b[2m\u001b[36m(func pid=21744)\u001b[0m \n",
      "\u001b[2m\u001b[36m(func pid=21744)\u001b[0m Epoch 59\n"
     ]
    },
    {
     "name": "stderr",
     "output_type": "stream",
     "text": [
      "  9%|▉         | 8/87 [00:00<00:01, 77.79it/s]\n",
      " 20%|█▉        | 17/87 [00:00<00:00, 79.52it/s]\n",
      " 31%|███       | 27/87 [00:00<00:00, 84.87it/s]\n",
      " 43%|████▎     | 37/87 [00:00<00:00, 86.61it/s]\n",
      " 53%|█████▎    | 46/87 [00:00<00:00, 87.66it/s]\n",
      " 63%|██████▎   | 55/87 [00:00<00:00, 87.99it/s]\n",
      " 74%|███████▎  | 64/87 [00:00<00:00, 88.10it/s]\n",
      " 84%|████████▍ | 73/87 [00:00<00:00, 88.42it/s]\n",
      "  0%|          | 0/25 [00:00<?, ?it/s]\n",
      "100%|██████████| 25/25 [00:00<00:00, 161.51it/s]\n",
      "  0%|          | 0/87 [00:00<?, ?it/s]\n",
      " 11%|█▏        | 10/87 [00:00<00:00, 94.30it/s]\n"
     ]
    },
    {
     "name": "stdout",
     "output_type": "stream",
     "text": [
      "\u001b[2m\u001b[36m(func pid=21744)\u001b[0m \n",
      "\u001b[2m\u001b[36m(func pid=21744)\u001b[0m Epoch 60\n"
     ]
    },
    {
     "name": "stderr",
     "output_type": "stream",
     "text": [
      " 23%|██▎       | 20/87 [00:00<00:00, 93.84it/s]\n",
      " 34%|███▍      | 30/87 [00:00<00:00, 92.67it/s]\n",
      " 46%|████▌     | 40/87 [00:00<00:00, 93.12it/s]\n",
      " 57%|█████▋    | 50/87 [00:00<00:00, 93.81it/s]\n",
      " 69%|██████▉   | 60/87 [00:00<00:00, 93.76it/s]\n",
      " 80%|████████  | 70/87 [00:00<00:00, 94.80it/s]\n",
      " 92%|█████████▏| 80/87 [00:00<00:00, 94.97it/s]\n",
      "100%|██████████| 87/87 [00:00<00:00, 93.53it/s]\n",
      "  0%|          | 0/25 [00:00<?, ?it/s]\n",
      "100%|██████████| 25/25 [00:00<00:00, 179.80it/s]\n",
      "  0%|          | 0/87 [00:00<?, ?it/s]\n",
      " 11%|█▏        | 10/87 [00:00<00:00, 93.11it/s]\n"
     ]
    },
    {
     "name": "stdout",
     "output_type": "stream",
     "text": [
      "\u001b[2m\u001b[36m(func pid=21744)\u001b[0m \n",
      "\u001b[2m\u001b[36m(func pid=21744)\u001b[0m Epoch 61\n"
     ]
    },
    {
     "name": "stderr",
     "output_type": "stream",
     "text": [
      " 23%|██▎       | 20/87 [00:00<00:00, 93.00it/s]\n",
      " 34%|███▍      | 30/87 [00:00<00:00, 93.25it/s]\n",
      " 46%|████▌     | 40/87 [00:00<00:00, 92.22it/s]\n",
      " 57%|█████▋    | 50/87 [00:00<00:00, 94.03it/s]\n",
      " 69%|██████▉   | 60/87 [00:00<00:00, 93.80it/s]\n",
      " 80%|████████  | 70/87 [00:00<00:00, 94.30it/s]\n",
      "100%|██████████| 87/87 [00:00<00:00, 94.27it/s]\n",
      "  0%|          | 0/25 [00:00<?, ?it/s]\n",
      " 64%|██████▍   | 16/25 [00:00<00:00, 86.05it/s]\n",
      "100%|██████████| 25/25 [00:00<00:00, 103.91it/s]\n",
      "  0%|          | 0/87 [00:00<?, ?it/s]\n"
     ]
    },
    {
     "name": "stdout",
     "output_type": "stream",
     "text": [
      "\u001b[2m\u001b[36m(func pid=21744)\u001b[0m \n",
      "\u001b[2m\u001b[36m(func pid=21744)\u001b[0m Epoch 62\n"
     ]
    },
    {
     "name": "stderr",
     "output_type": "stream",
     "text": [
      " 11%|█▏        | 10/87 [00:00<00:00, 95.15it/s]\n",
      " 23%|██▎       | 20/87 [00:00<00:00, 93.13it/s]\n",
      " 34%|███▍      | 30/87 [00:00<00:00, 93.55it/s]\n",
      " 46%|████▌     | 40/87 [00:00<00:00, 94.25it/s]\n",
      " 57%|█████▋    | 50/87 [00:00<00:00, 93.85it/s]\n",
      " 69%|██████▉   | 60/87 [00:00<00:00, 94.80it/s]\n",
      " 80%|████████  | 70/87 [00:00<00:00, 95.19it/s]\n",
      "100%|██████████| 87/87 [00:00<00:00, 94.96it/s]\n",
      "  0%|          | 0/25 [00:00<?, ?it/s]\n",
      "100%|██████████| 25/25 [00:00<00:00, 183.66it/s]\n",
      "  0%|          | 0/87 [00:00<?, ?it/s]\n"
     ]
    },
    {
     "name": "stdout",
     "output_type": "stream",
     "text": [
      "\u001b[2m\u001b[36m(func pid=21744)\u001b[0m \n",
      "\u001b[2m\u001b[36m(func pid=21744)\u001b[0m Epoch 63\n"
     ]
    },
    {
     "name": "stderr",
     "output_type": "stream",
     "text": [
      " 11%|█▏        | 10/87 [00:00<00:00, 95.30it/s]\n",
      " 23%|██▎       | 20/87 [00:00<00:00, 95.77it/s]\n",
      " 34%|███▍      | 30/87 [00:00<00:00, 94.18it/s]\n",
      " 46%|████▌     | 40/87 [00:00<00:00, 90.33it/s]\n",
      " 57%|█████▋    | 50/87 [00:00<00:00, 88.55it/s]\n",
      " 68%|██████▊   | 59/87 [00:00<00:00, 88.23it/s]\n",
      " 79%|███████▉  | 69/87 [00:00<00:00, 90.34it/s]\n",
      " 91%|█████████ | 79/87 [00:00<00:00, 91.85it/s]\n",
      "100%|██████████| 25/25 [00:00<00:00, 178.33it/s]\n",
      "  0%|          | 0/87 [00:00<?, ?it/s]\n",
      " 11%|█▏        | 10/87 [00:00<00:00, 91.83it/s]\n"
     ]
    },
    {
     "name": "stdout",
     "output_type": "stream",
     "text": [
      "\u001b[2m\u001b[36m(func pid=21744)\u001b[0m \n",
      "\u001b[2m\u001b[36m(func pid=21744)\u001b[0m Epoch 64\n"
     ]
    },
    {
     "name": "stderr",
     "output_type": "stream",
     "text": [
      " 23%|██▎       | 20/87 [00:00<00:00, 93.04it/s]\n",
      " 34%|███▍      | 30/87 [00:00<00:00, 92.79it/s]\n",
      " 46%|████▌     | 40/87 [00:00<00:00, 93.26it/s]\n",
      " 57%|█████▋    | 50/87 [00:00<00:00, 94.37it/s]\n",
      " 69%|██████▉   | 60/87 [00:00<00:00, 94.91it/s]\n",
      " 80%|████████  | 70/87 [00:00<00:00, 94.68it/s]\n",
      " 92%|█████████▏| 80/87 [00:00<00:00, 94.01it/s]\n",
      "100%|██████████| 87/87 [00:00<00:00, 93.86it/s]\n",
      "  0%|          | 0/25 [00:00<?, ?it/s]\n",
      "100%|██████████| 25/25 [00:00<00:00, 118.12it/s]\n",
      "  0%|          | 0/87 [00:00<?, ?it/s]\n"
     ]
    },
    {
     "name": "stdout",
     "output_type": "stream",
     "text": [
      "\u001b[2m\u001b[36m(func pid=21744)\u001b[0m \n",
      "\u001b[2m\u001b[36m(func pid=21744)\u001b[0m Epoch 65\n"
     ]
    },
    {
     "name": "stderr",
     "output_type": "stream",
     "text": [
      " 11%|█▏        | 10/87 [00:00<00:00, 93.24it/s]\n",
      " 23%|██▎       | 20/87 [00:00<00:00, 93.99it/s]\n",
      " 34%|███▍      | 30/87 [00:00<00:00, 93.70it/s]\n",
      " 46%|████▌     | 40/87 [00:00<00:00, 93.26it/s]\n",
      " 57%|█████▋    | 50/87 [00:00<00:00, 93.24it/s]\n",
      " 69%|██████▉   | 60/87 [00:00<00:00, 92.16it/s]\n",
      " 80%|████████  | 70/87 [00:00<00:00, 90.33it/s]\n",
      " 92%|█████████▏| 80/87 [00:00<00:00, 90.60it/s]\n",
      "100%|██████████| 87/87 [00:00<00:00, 90.98it/s]\n",
      "  0%|          | 0/87 [00:00<?, ?it/s]\n",
      " 10%|█         | 9/87 [00:00<00:00, 79.81it/s]\n"
     ]
    },
    {
     "name": "stdout",
     "output_type": "stream",
     "text": [
      "\u001b[2m\u001b[36m(func pid=21744)\u001b[0m \n",
      "\u001b[2m\u001b[36m(func pid=21744)\u001b[0m Epoch 66\n"
     ]
    },
    {
     "name": "stderr",
     "output_type": "stream",
     "text": [
      " 21%|██        | 18/87 [00:00<00:00, 80.78it/s]\n",
      " 32%|███▏      | 28/87 [00:00<00:00, 85.48it/s]\n",
      " 44%|████▎     | 38/87 [00:00<00:00, 87.14it/s]\n",
      " 55%|█████▌    | 48/87 [00:00<00:00, 88.61it/s]\n",
      " 67%|██████▋   | 58/87 [00:00<00:00, 90.22it/s]\n",
      " 78%|███████▊  | 68/87 [00:00<00:00, 91.44it/s]\n",
      " 90%|████████▉ | 78/87 [00:00<00:00, 91.00it/s]\n",
      "100%|██████████| 87/87 [00:00<00:00, 89.23it/s]\n",
      "  0%|          | 0/25 [00:00<?, ?it/s]\n",
      " 72%|███████▏  | 18/25 [00:00<00:00, 177.66it/s]\n",
      "100%|██████████| 25/25 [00:00<00:00, 179.80it/s]\n",
      "  0%|          | 0/87 [00:00<?, ?it/s]\n"
     ]
    },
    {
     "name": "stdout",
     "output_type": "stream",
     "text": [
      "\u001b[2m\u001b[36m(func pid=21744)\u001b[0m \n",
      "\u001b[2m\u001b[36m(func pid=21744)\u001b[0m Epoch 67\n"
     ]
    },
    {
     "name": "stderr",
     "output_type": "stream",
     "text": [
      " 10%|█         | 9/87 [00:00<00:00, 89.32it/s]\n",
      " 22%|██▏       | 19/87 [00:00<00:00, 91.76it/s]\n",
      " 33%|███▎      | 29/87 [00:00<00:00, 93.76it/s]\n",
      " 45%|████▍     | 39/87 [00:00<00:00, 95.40it/s]\n",
      " 56%|█████▋    | 49/87 [00:00<00:00, 91.89it/s]\n",
      " 68%|██████▊   | 59/87 [00:00<00:00, 89.85it/s]\n",
      " 79%|███████▉  | 69/87 [00:00<00:00, 88.66it/s]\n",
      " 90%|████████▉ | 78/87 [00:00<00:00, 87.24it/s]\n",
      "100%|██████████| 87/87 [00:00<00:00, 90.27it/s]\n",
      "  0%|          | 0/25 [00:00<?, ?it/s]\n",
      " 32%|███▏      | 8/25 [00:00<00:00, 64.95it/s]\n",
      "  0%|          | 0/87 [00:00<?, ?it/s]\n",
      " 11%|█▏        | 10/87 [00:00<00:00, 92.30it/s]\n"
     ]
    },
    {
     "name": "stdout",
     "output_type": "stream",
     "text": [
      "\u001b[2m\u001b[36m(func pid=21744)\u001b[0m \n",
      "\u001b[2m\u001b[36m(func pid=21744)\u001b[0m Epoch 68\n"
     ]
    },
    {
     "name": "stderr",
     "output_type": "stream",
     "text": [
      " 23%|██▎       | 20/87 [00:00<00:00, 92.51it/s]\n",
      " 34%|███▍      | 30/87 [00:00<00:00, 93.08it/s]\n",
      " 46%|████▌     | 40/87 [00:00<00:00, 93.58it/s]\n",
      " 57%|█████▋    | 50/87 [00:00<00:00, 93.23it/s]\n",
      " 69%|██████▉   | 60/87 [00:00<00:00, 94.40it/s]\n",
      " 80%|████████  | 70/87 [00:00<00:00, 94.43it/s]\n",
      "100%|██████████| 87/87 [00:00<00:00, 93.44it/s]\n",
      "  0%|          | 0/25 [00:00<?, ?it/s]\n",
      "100%|██████████| 25/25 [00:00<00:00, 174.95it/s]\n",
      "  0%|          | 0/87 [00:00<?, ?it/s]\n",
      " 10%|█         | 9/87 [00:00<00:00, 87.31it/s]\n"
     ]
    },
    {
     "name": "stdout",
     "output_type": "stream",
     "text": [
      "\u001b[2m\u001b[36m(func pid=21744)\u001b[0m \n",
      "\u001b[2m\u001b[36m(func pid=21744)\u001b[0m Epoch 69\n"
     ]
    },
    {
     "name": "stderr",
     "output_type": "stream",
     "text": [
      " 22%|██▏       | 19/87 [00:00<00:00, 89.99it/s]\n",
      " 33%|███▎      | 29/87 [00:00<00:00, 90.13it/s]\n",
      " 55%|█████▌    | 48/87 [00:00<00:00, 88.76it/s]\n",
      " 66%|██████▌   | 57/87 [00:00<00:00, 88.98it/s]\n",
      " 76%|███████▌  | 66/87 [00:00<00:00, 88.91it/s]\n",
      " 86%|████████▌ | 75/87 [00:00<00:00, 84.50it/s]\n",
      " 97%|█████████▋| 84/87 [00:00<00:00, 81.57it/s]\n",
      "100%|██████████| 87/87 [00:01<00:00, 85.91it/s]\n",
      "  0%|          | 0/25 [00:00<?, ?it/s]\n",
      " 68%|██████▊   | 17/25 [00:00<00:00, 163.16it/s]\n",
      "100%|██████████| 25/25 [00:00<00:00, 163.49it/s]\n",
      "  0%|          | 0/87 [00:00<?, ?it/s]\n"
     ]
    },
    {
     "name": "stdout",
     "output_type": "stream",
     "text": [
      "\u001b[2m\u001b[36m(func pid=21744)\u001b[0m \n",
      "\u001b[2m\u001b[36m(func pid=21744)\u001b[0m Epoch 70\n"
     ]
    },
    {
     "name": "stderr",
     "output_type": "stream",
     "text": [
      " 10%|█         | 9/87 [00:00<00:00, 85.00it/s]\n",
      " 21%|██        | 18/87 [00:00<00:00, 77.13it/s]\n",
      " 31%|███       | 27/87 [00:00<00:00, 79.99it/s]\n",
      " 41%|████▏     | 36/87 [00:00<00:00, 83.39it/s]\n",
      " 53%|█████▎    | 46/87 [00:00<00:00, 86.15it/s]\n",
      " 64%|██████▍   | 56/87 [00:00<00:00, 87.49it/s]\n",
      " 76%|███████▌  | 66/87 [00:00<00:00, 89.67it/s]\n",
      " 86%|████████▌ | 75/87 [00:00<00:00, 89.75it/s]\n",
      "  0%|          | 0/25 [00:00<?, ?it/s]\n",
      " 72%|███████▏  | 18/25 [00:00<00:00, 178.58it/s]\n",
      "100%|██████████| 25/25 [00:00<00:00, 115.61it/s]\n",
      "  0%|          | 0/87 [00:00<?, ?it/s]\n",
      " 10%|█         | 9/87 [00:00<00:00, 87.77it/s]\n"
     ]
    },
    {
     "name": "stdout",
     "output_type": "stream",
     "text": [
      "\u001b[2m\u001b[36m(func pid=21744)\u001b[0m \n",
      "\u001b[2m\u001b[36m(func pid=21744)\u001b[0m Epoch 71\n"
     ]
    },
    {
     "name": "stderr",
     "output_type": "stream",
     "text": [
      " 22%|██▏       | 19/87 [00:00<00:00, 90.21it/s]\n",
      " 33%|███▎      | 29/87 [00:00<00:00, 89.38it/s]\n",
      " 45%|████▍     | 39/87 [00:00<00:00, 92.03it/s]\n",
      " 56%|█████▋    | 49/87 [00:00<00:00, 88.94it/s]\n",
      " 67%|██████▋   | 58/87 [00:00<00:00, 88.94it/s]\n",
      " 77%|███████▋  | 67/87 [00:00<00:00, 88.74it/s]\n",
      " 87%|████████▋ | 76/87 [00:00<00:00, 87.59it/s]\n",
      "100%|██████████| 87/87 [00:00<00:00, 88.89it/s]\n",
      "  0%|          | 0/25 [00:00<?, ?it/s]\n",
      "  0%|          | 0/87 [00:00<?, ?it/s]\n",
      " 21%|██        | 18/87 [00:00<00:00, 88.50it/s]\n"
     ]
    },
    {
     "name": "stdout",
     "output_type": "stream",
     "text": [
      "\u001b[2m\u001b[36m(func pid=21744)\u001b[0m \n",
      "\u001b[2m\u001b[36m(func pid=21744)\u001b[0m Epoch 72\n"
     ]
    },
    {
     "name": "stderr",
     "output_type": "stream",
     "text": [
      " 33%|███▎      | 29/87 [00:00<00:00, 93.42it/s]\n",
      " 45%|████▍     | 39/87 [00:00<00:00, 89.55it/s]\n",
      " 56%|█████▋    | 49/87 [00:00<00:00, 90.19it/s]\n",
      " 68%|██████▊   | 59/87 [00:00<00:00, 89.41it/s]\n",
      " 79%|███████▉  | 69/87 [00:00<00:00, 89.43it/s]\n",
      "100%|██████████| 87/87 [00:00<00:00, 90.52it/s]\n",
      "  0%|          | 0/25 [00:00<?, ?it/s]\n",
      "100%|██████████| 25/25 [00:00<00:00, 173.13it/s]\n",
      "  0%|          | 0/87 [00:00<?, ?it/s]\n"
     ]
    },
    {
     "name": "stdout",
     "output_type": "stream",
     "text": [
      "\u001b[2m\u001b[36m(func pid=21744)\u001b[0m \n",
      "\u001b[2m\u001b[36m(func pid=21744)\u001b[0m Epoch 73\n"
     ]
    },
    {
     "name": "stderr",
     "output_type": "stream",
     "text": [
      " 11%|█▏        | 10/87 [00:00<00:00, 91.85it/s]\n",
      " 23%|██▎       | 20/87 [00:00<00:00, 93.72it/s]\n",
      " 34%|███▍      | 30/87 [00:00<00:00, 93.01it/s]\n",
      " 46%|████▌     | 40/87 [00:00<00:00, 91.37it/s]\n",
      " 57%|█████▋    | 50/87 [00:00<00:00, 92.72it/s]\n",
      " 69%|██████▉   | 60/87 [00:00<00:00, 93.26it/s]\n",
      " 80%|████████  | 70/87 [00:00<00:00, 94.79it/s]\n",
      "100%|██████████| 87/87 [00:00<00:00, 93.55it/s]\n",
      "  0%|          | 0/25 [00:00<?, ?it/s]\n",
      " 72%|███████▏  | 18/25 [00:00<00:00, 99.92it/s]\n",
      "100%|██████████| 25/25 [00:00<00:00, 115.21it/s]\n",
      "  0%|          | 0/87 [00:00<?, ?it/s]\n",
      " 10%|█         | 9/87 [00:00<00:00, 82.40it/s]\n"
     ]
    },
    {
     "name": "stdout",
     "output_type": "stream",
     "text": [
      "\u001b[2m\u001b[36m(func pid=21744)\u001b[0m \n",
      "\u001b[2m\u001b[36m(func pid=21744)\u001b[0m Epoch 74\n"
     ]
    },
    {
     "name": "stderr",
     "output_type": "stream",
     "text": [
      " 22%|██▏       | 19/87 [00:00<00:00, 89.61it/s]\n",
      " 33%|███▎      | 29/87 [00:00<00:00, 90.97it/s]\n",
      " 45%|████▍     | 39/87 [00:00<00:00, 92.29it/s]\n",
      " 56%|█████▋    | 49/87 [00:00<00:00, 93.28it/s]\n",
      " 68%|██████▊   | 59/87 [00:00<00:00, 94.02it/s]\n",
      " 79%|███████▉  | 69/87 [00:00<00:00, 94.42it/s]\n",
      " 91%|█████████ | 79/87 [00:00<00:00, 94.61it/s]\n",
      "100%|██████████| 87/87 [00:00<00:00, 93.29it/s]\n",
      "  0%|          | 0/25 [00:00<?, ?it/s]\n",
      "  0%|          | 0/87 [00:00<?, ?it/s]\n",
      " 10%|█         | 9/87 [00:00<00:00, 87.50it/s]\n"
     ]
    },
    {
     "name": "stdout",
     "output_type": "stream",
     "text": [
      "\u001b[2m\u001b[36m(func pid=21744)\u001b[0m \n",
      "\u001b[2m\u001b[36m(func pid=21744)\u001b[0m Epoch 75\n"
     ]
    },
    {
     "name": "stderr",
     "output_type": "stream",
     "text": [
      " 22%|██▏       | 19/87 [00:00<00:00, 91.00it/s]\n",
      " 34%|███▍      | 30/87 [00:00<00:00, 95.22it/s]\n",
      " 46%|████▌     | 40/87 [00:00<00:00, 95.90it/s]\n",
      " 57%|█████▋    | 50/87 [00:00<00:00, 96.38it/s]\n",
      " 69%|██████▉   | 60/87 [00:00<00:00, 96.91it/s]\n",
      " 80%|████████  | 70/87 [00:00<00:00, 96.66it/s]\n",
      " 92%|█████████▏| 80/87 [00:00<00:00, 97.44it/s]\n",
      "100%|██████████| 87/87 [00:00<00:00, 96.15it/s]\n",
      "  0%|          | 0/25 [00:00<?, ?it/s]\n",
      " 76%|███████▌  | 19/25 [00:00<00:00, 186.13it/s]\n",
      "100%|██████████| 25/25 [00:00<00:00, 186.34it/s]\n",
      "  0%|          | 0/87 [00:00<?, ?it/s]\n",
      " 11%|█▏        | 10/87 [00:00<00:00, 96.13it/s]\n"
     ]
    },
    {
     "name": "stdout",
     "output_type": "stream",
     "text": [
      "\u001b[2m\u001b[36m(func pid=21744)\u001b[0m \n",
      "\u001b[2m\u001b[36m(func pid=21744)\u001b[0m Epoch 76\n"
     ]
    },
    {
     "name": "stderr",
     "output_type": "stream",
     "text": [
      " 23%|██▎       | 20/87 [00:00<00:00, 96.76it/s]\n",
      " 34%|███▍      | 30/87 [00:00<00:00, 96.90it/s]\n",
      " 46%|████▌     | 40/87 [00:00<00:00, 97.59it/s]\n",
      " 57%|█████▋    | 50/87 [00:00<00:00, 97.17it/s]\n",
      " 69%|██████▉   | 60/87 [00:00<00:00, 97.06it/s]\n",
      " 80%|████████  | 70/87 [00:00<00:00, 96.08it/s]\n",
      "  0%|          | 0/25 [00:00<?, ?it/s]\n",
      " 44%|████▍     | 11/25 [00:00<00:00, 73.75it/s]\n",
      "100%|██████████| 25/25 [00:00<00:00, 109.18it/s]\n",
      "  0%|          | 0/87 [00:00<?, ?it/s]\n",
      " 11%|█▏        | 10/87 [00:00<00:00, 95.50it/s]\n",
      " 23%|██▎       | 20/87 [00:00<00:00, 95.30it/s]\n"
     ]
    },
    {
     "name": "stdout",
     "output_type": "stream",
     "text": [
      "\u001b[2m\u001b[36m(func pid=21744)\u001b[0m \n",
      "\u001b[2m\u001b[36m(func pid=21744)\u001b[0m Epoch 77\n"
     ]
    },
    {
     "name": "stderr",
     "output_type": "stream",
     "text": [
      " 34%|███▍      | 30/87 [00:00<00:00, 95.31it/s]\n",
      " 46%|████▌     | 40/87 [00:00<00:00, 95.96it/s]\n",
      " 57%|█████▋    | 50/87 [00:00<00:00, 95.41it/s]\n",
      " 69%|██████▉   | 60/87 [00:00<00:00, 95.64it/s]\n",
      " 80%|████████  | 70/87 [00:00<00:00, 94.91it/s]\n",
      " 92%|█████████▏| 80/87 [00:00<00:00, 95.30it/s]\n",
      "100%|██████████| 87/87 [00:00<00:00, 95.19it/s]\n",
      "  0%|          | 0/25 [00:00<?, ?it/s]\n",
      " 72%|███████▏  | 18/25 [00:00<00:00, 176.53it/s]\n",
      "100%|██████████| 25/25 [00:00<00:00, 174.84it/s]\n",
      "  0%|          | 0/87 [00:00<?, ?it/s]\n",
      " 11%|█▏        | 10/87 [00:00<00:00, 90.08it/s]\n"
     ]
    },
    {
     "name": "stdout",
     "output_type": "stream",
     "text": [
      "\u001b[2m\u001b[36m(func pid=21744)\u001b[0m \n",
      "\u001b[2m\u001b[36m(func pid=21744)\u001b[0m Epoch 78\n"
     ]
    },
    {
     "name": "stderr",
     "output_type": "stream",
     "text": [
      " 23%|██▎       | 20/87 [00:00<00:00, 91.12it/s]\n",
      " 34%|███▍      | 30/87 [00:00<00:00, 91.38it/s]\n",
      " 46%|████▌     | 40/87 [00:00<00:00, 92.18it/s]\n",
      " 57%|█████▋    | 50/87 [00:00<00:00, 92.28it/s]\n",
      " 69%|██████▉   | 60/87 [00:00<00:00, 92.16it/s]\n",
      " 80%|████████  | 70/87 [00:00<00:00, 90.88it/s]\n",
      " 92%|█████████▏| 80/87 [00:00<00:00, 90.90it/s]\n",
      "100%|██████████| 87/87 [00:00<00:00, 91.39it/s]\n",
      "  0%|          | 0/25 [00:00<?, ?it/s]\n",
      " 72%|███████▏  | 18/25 [00:00<00:00, 172.79it/s]\n",
      "100%|██████████| 25/25 [00:00<00:00, 172.39it/s]\n",
      "  0%|          | 0/87 [00:00<?, ?it/s]\n",
      " 10%|█         | 9/87 [00:00<00:00, 89.90it/s]\n"
     ]
    },
    {
     "name": "stdout",
     "output_type": "stream",
     "text": [
      "\u001b[2m\u001b[36m(func pid=21744)\u001b[0m \n",
      "\u001b[2m\u001b[36m(func pid=21744)\u001b[0m Epoch 79\n"
     ]
    },
    {
     "name": "stderr",
     "output_type": "stream",
     "text": [
      " 22%|██▏       | 19/87 [00:00<00:00, 89.60it/s]\n",
      " 33%|███▎      | 29/87 [00:00<00:00, 90.03it/s]\n",
      " 45%|████▍     | 39/87 [00:00<00:00, 89.81it/s]\n",
      " 56%|█████▋    | 49/87 [00:00<00:00, 90.15it/s]\n",
      " 68%|██████▊   | 59/87 [00:00<00:00, 90.39it/s]\n",
      " 79%|███████▉  | 69/87 [00:00<00:00, 91.25it/s]\n",
      " 91%|█████████ | 79/87 [00:00<00:00, 90.57it/s]\n",
      "100%|██████████| 87/87 [00:00<00:00, 90.34it/s]\n",
      "  0%|          | 0/25 [00:00<?, ?it/s]\n",
      " 64%|██████▍   | 16/25 [00:00<00:00, 92.84it/s]\n",
      "100%|██████████| 25/25 [00:00<00:00, 111.80it/s]\n",
      "  0%|          | 0/87 [00:00<?, ?it/s]\n"
     ]
    },
    {
     "name": "stdout",
     "output_type": "stream",
     "text": [
      "\u001b[2m\u001b[36m(func pid=21744)\u001b[0m \n",
      "\u001b[2m\u001b[36m(func pid=21744)\u001b[0m Epoch 80\n"
     ]
    },
    {
     "name": "stderr",
     "output_type": "stream",
     "text": [
      " 11%|█▏        | 10/87 [00:00<00:00, 94.41it/s]\n",
      " 23%|██▎       | 20/87 [00:00<00:00, 92.70it/s]\n",
      " 34%|███▍      | 30/87 [00:00<00:00, 91.24it/s]\n",
      " 46%|████▌     | 40/87 [00:00<00:00, 85.00it/s]\n",
      " 57%|█████▋    | 50/87 [00:00<00:00, 87.55it/s]\n",
      " 69%|██████▉   | 60/87 [00:00<00:00, 88.93it/s]\n",
      " 80%|████████  | 70/87 [00:00<00:00, 89.56it/s]\n",
      " 92%|█████████▏| 80/87 [00:00<00:00, 90.12it/s]\n",
      "100%|██████████| 25/25 [00:00<00:00, 172.43it/s]\n",
      "  0%|          | 0/87 [00:00<?, ?it/s]\n",
      " 10%|█         | 9/87 [00:00<00:00, 87.92it/s]\n"
     ]
    },
    {
     "name": "stdout",
     "output_type": "stream",
     "text": [
      "\u001b[2m\u001b[36m(func pid=21744)\u001b[0m \n",
      "\u001b[2m\u001b[36m(func pid=21744)\u001b[0m Epoch 81\n"
     ]
    },
    {
     "name": "stderr",
     "output_type": "stream",
     "text": [
      " 22%|██▏       | 19/87 [00:00<00:00, 91.65it/s]\n",
      " 33%|███▎      | 29/87 [00:00<00:00, 89.54it/s]\n",
      " 45%|████▍     | 39/87 [00:00<00:00, 89.51it/s]\n",
      " 56%|█████▋    | 49/87 [00:00<00:00, 90.27it/s]\n",
      " 68%|██████▊   | 59/87 [00:00<00:00, 89.54it/s]\n",
      " 78%|███████▊  | 68/87 [00:00<00:00, 88.76it/s]\n",
      " 89%|████████▊ | 77/87 [00:00<00:00, 87.25it/s]\n",
      "100%|██████████| 87/87 [00:00<00:00, 88.78it/s]\n",
      "  0%|          | 0/25 [00:00<?, ?it/s]\n",
      "100%|██████████| 25/25 [00:00<00:00, 172.86it/s]\n",
      "  0%|          | 0/87 [00:00<?, ?it/s]\n"
     ]
    },
    {
     "name": "stdout",
     "output_type": "stream",
     "text": [
      "\u001b[2m\u001b[36m(func pid=21744)\u001b[0m \n",
      "\u001b[2m\u001b[36m(func pid=21744)\u001b[0m Epoch 82\n"
     ]
    },
    {
     "name": "stderr",
     "output_type": "stream",
     "text": [
      " 10%|█         | 9/87 [00:00<00:00, 84.77it/s]\n",
      " 22%|██▏       | 19/87 [00:00<00:00, 87.97it/s]\n",
      " 33%|███▎      | 29/87 [00:00<00:00, 89.21it/s]\n",
      " 44%|████▎     | 38/87 [00:00<00:00, 89.09it/s]\n",
      " 55%|█████▌    | 48/87 [00:00<00:00, 89.86it/s]\n",
      " 67%|██████▋   | 58/87 [00:00<00:00, 89.68it/s]\n",
      " 78%|███████▊  | 68/87 [00:00<00:00, 90.50it/s]\n",
      " 90%|████████▉ | 78/87 [00:00<00:00, 91.36it/s]\n",
      "100%|██████████| 87/87 [00:00<00:00, 90.33it/s]\n",
      "  0%|          | 0/25 [00:00<?, ?it/s]\n",
      " 60%|██████    | 15/25 [00:00<00:00, 92.85it/s]\n",
      "100%|██████████| 25/25 [00:00<00:00, 115.91it/s]\n",
      "  0%|          | 0/87 [00:00<?, ?it/s]\n"
     ]
    },
    {
     "name": "stdout",
     "output_type": "stream",
     "text": [
      "\u001b[2m\u001b[36m(func pid=21744)\u001b[0m \n",
      "\u001b[2m\u001b[36m(func pid=21744)\u001b[0m Epoch 83\n"
     ]
    },
    {
     "name": "stderr",
     "output_type": "stream",
     "text": [
      " 11%|█▏        | 10/87 [00:00<00:00, 92.63it/s]\n",
      " 23%|██▎       | 20/87 [00:00<00:00, 83.95it/s]\n",
      " 34%|███▍      | 30/87 [00:00<00:00, 88.06it/s]\n",
      " 46%|████▌     | 40/87 [00:00<00:00, 91.76it/s]\n",
      " 57%|█████▋    | 50/87 [00:00<00:00, 92.97it/s]\n",
      " 69%|██████▉   | 60/87 [00:00<00:00, 93.44it/s]\n",
      "100%|██████████| 87/87 [00:00<00:00, 92.17it/s]\n",
      "  0%|          | 0/25 [00:00<?, ?it/s]\n",
      " 76%|███████▌  | 19/25 [00:00<00:00, 181.74it/s]\n",
      "100%|██████████| 25/25 [00:00<00:00, 181.87it/s]\n",
      "  0%|          | 0/87 [00:00<?, ?it/s]\n",
      " 11%|█▏        | 10/87 [00:00<00:00, 94.11it/s]\n"
     ]
    },
    {
     "name": "stdout",
     "output_type": "stream",
     "text": [
      "\u001b[2m\u001b[36m(func pid=21744)\u001b[0m \n",
      "\u001b[2m\u001b[36m(func pid=21744)\u001b[0m Epoch 84\n"
     ]
    },
    {
     "name": "stderr",
     "output_type": "stream",
     "text": [
      " 23%|██▎       | 20/87 [00:00<00:00, 93.38it/s]\n",
      " 34%|███▍      | 30/87 [00:00<00:00, 93.06it/s]\n",
      " 46%|████▌     | 40/87 [00:00<00:00, 93.13it/s]\n",
      " 57%|█████▋    | 50/87 [00:00<00:00, 91.73it/s]\n",
      " 69%|██████▉   | 60/87 [00:00<00:00, 93.22it/s]\n",
      " 80%|████████  | 70/87 [00:00<00:00, 91.92it/s]\n",
      " 92%|█████████▏| 80/87 [00:00<00:00, 92.11it/s]\n",
      "100%|██████████| 87/87 [00:00<00:00, 92.26it/s]\n",
      "  0%|          | 0/25 [00:00<?, ?it/s]\n",
      "100%|██████████| 25/25 [00:00<00:00, 183.46it/s]\n",
      "  0%|          | 0/87 [00:00<?, ?it/s]\n"
     ]
    },
    {
     "name": "stdout",
     "output_type": "stream",
     "text": [
      "\u001b[2m\u001b[36m(func pid=21744)\u001b[0m \n",
      "\u001b[2m\u001b[36m(func pid=21744)\u001b[0m Epoch 85\n"
     ]
    },
    {
     "name": "stderr",
     "output_type": "stream",
     "text": [
      " 11%|█▏        | 10/87 [00:00<00:00, 94.33it/s]\n",
      " 23%|██▎       | 20/87 [00:00<00:00, 92.12it/s]\n",
      " 34%|███▍      | 30/87 [00:00<00:00, 91.95it/s]\n",
      " 46%|████▌     | 40/87 [00:00<00:00, 92.60it/s]\n",
      " 57%|█████▋    | 50/87 [00:00<00:00, 93.32it/s]\n",
      " 69%|██████▉   | 60/87 [00:00<00:00, 92.75it/s]\n",
      "  0%|          | 0/25 [00:00<?, ?it/s]\n",
      " 32%|███▏      | 8/25 [00:00<00:00, 63.40it/s]\n",
      "100%|██████████| 25/25 [00:00<00:00, 113.08it/s]\n",
      " 10%|█         | 9/87 [00:00<00:00, 88.88it/s]\n"
     ]
    },
    {
     "name": "stdout",
     "output_type": "stream",
     "text": [
      "\u001b[2m\u001b[36m(func pid=21744)\u001b[0m \n",
      "\u001b[2m\u001b[36m(func pid=21744)\u001b[0m Epoch 86\n"
     ]
    },
    {
     "name": "stderr",
     "output_type": "stream",
     "text": [
      " 22%|██▏       | 19/87 [00:00<00:00, 91.46it/s]\n",
      " 33%|███▎      | 29/87 [00:00<00:00, 93.29it/s]\n",
      " 45%|████▍     | 39/87 [00:00<00:00, 92.60it/s]\n",
      " 56%|█████▋    | 49/87 [00:00<00:00, 93.26it/s]\n",
      " 68%|██████▊   | 59/87 [00:00<00:00, 91.69it/s]\n",
      " 79%|███████▉  | 69/87 [00:00<00:00, 92.38it/s]\n",
      " 91%|█████████ | 79/87 [00:00<00:00, 91.85it/s]\n",
      "100%|██████████| 87/87 [00:00<00:00, 92.41it/s]\n",
      "  0%|          | 0/25 [00:00<?, ?it/s]\n",
      " 76%|███████▌  | 19/25 [00:00<00:00, 180.88it/s]\n",
      "100%|██████████| 25/25 [00:00<00:00, 181.20it/s]\n",
      "  0%|          | 0/87 [00:00<?, ?it/s]\n"
     ]
    },
    {
     "name": "stdout",
     "output_type": "stream",
     "text": [
      "\u001b[2m\u001b[36m(func pid=21744)\u001b[0m \n",
      "\u001b[2m\u001b[36m(func pid=21744)\u001b[0m Epoch 87\n"
     ]
    },
    {
     "name": "stderr",
     "output_type": "stream",
     "text": [
      " 11%|█▏        | 10/87 [00:00<00:00, 95.00it/s]\n",
      " 23%|██▎       | 20/87 [00:00<00:00, 91.69it/s]\n",
      " 34%|███▍      | 30/87 [00:00<00:00, 92.40it/s]\n",
      " 46%|████▌     | 40/87 [00:00<00:00, 91.75it/s]\n",
      " 57%|█████▋    | 50/87 [00:00<00:00, 92.43it/s]\n",
      " 69%|██████▉   | 60/87 [00:00<00:00, 91.87it/s]\n",
      " 80%|████████  | 70/87 [00:00<00:00, 92.09it/s]\n",
      " 92%|█████████▏| 80/87 [00:00<00:00, 91.22it/s]\n",
      "100%|██████████| 25/25 [00:00<00:00, 176.00it/s]\n",
      "  0%|          | 0/87 [00:00<?, ?it/s]\n",
      " 10%|█         | 9/87 [00:00<00:00, 88.03it/s]\n"
     ]
    },
    {
     "name": "stdout",
     "output_type": "stream",
     "text": [
      "\u001b[2m\u001b[36m(func pid=21744)\u001b[0m \n",
      "\u001b[2m\u001b[36m(func pid=21744)\u001b[0m Epoch 88\n"
     ]
    },
    {
     "name": "stderr",
     "output_type": "stream",
     "text": [
      " 22%|██▏       | 19/87 [00:00<00:00, 91.21it/s]\n",
      " 33%|███▎      | 29/87 [00:00<00:00, 83.34it/s]\n",
      " 45%|████▍     | 39/87 [00:00<00:00, 86.26it/s]\n",
      " 55%|█████▌    | 48/87 [00:00<00:00, 87.49it/s]\n",
      " 66%|██████▌   | 57/87 [00:00<00:00, 87.97it/s]\n",
      " 77%|███████▋  | 67/87 [00:00<00:00, 90.39it/s]\n",
      " 89%|████████▊ | 77/87 [00:00<00:00, 91.08it/s]\n",
      "100%|██████████| 87/87 [00:00<00:00, 89.50it/s]\n",
      "  0%|          | 0/25 [00:00<?, ?it/s]\n",
      " 76%|███████▌  | 19/25 [00:00<00:00, 107.65it/s]\n",
      "100%|██████████| 25/25 [00:00<00:00, 120.03it/s]\n",
      "  0%|          | 0/87 [00:00<?, ?it/s]\n",
      " 11%|█▏        | 10/87 [00:00<00:00, 95.18it/s]\n"
     ]
    },
    {
     "name": "stdout",
     "output_type": "stream",
     "text": [
      "\u001b[2m\u001b[36m(func pid=21744)\u001b[0m \n",
      "\u001b[2m\u001b[36m(func pid=21744)\u001b[0m Epoch 89\n"
     ]
    },
    {
     "name": "stderr",
     "output_type": "stream",
     "text": [
      " 23%|██▎       | 20/87 [00:00<00:00, 95.11it/s]\n",
      " 34%|███▍      | 30/87 [00:00<00:00, 94.79it/s]\n",
      " 46%|████▌     | 40/87 [00:00<00:00, 94.68it/s]\n",
      " 57%|█████▋    | 50/87 [00:00<00:00, 95.47it/s]\n",
      " 69%|██████▉   | 60/87 [00:00<00:00, 95.23it/s]\n",
      " 80%|████████  | 70/87 [00:00<00:00, 94.25it/s]\n",
      "100%|██████████| 87/87 [00:00<00:00, 94.97it/s]\n",
      "  0%|          | 0/25 [00:00<?, ?it/s]\n",
      "  0%|          | 0/87 [00:00<?, ?it/s]\n",
      " 11%|█▏        | 10/87 [00:00<00:00, 91.96it/s]\n"
     ]
    },
    {
     "name": "stdout",
     "output_type": "stream",
     "text": [
      "\u001b[2m\u001b[36m(func pid=21744)\u001b[0m \n",
      "\u001b[2m\u001b[36m(func pid=21744)\u001b[0m Epoch 90\n"
     ]
    },
    {
     "name": "stderr",
     "output_type": "stream",
     "text": [
      " 23%|██▎       | 20/87 [00:00<00:00, 94.29it/s]\n",
      " 34%|███▍      | 30/87 [00:00<00:00, 96.39it/s]\n",
      " 46%|████▌     | 40/87 [00:00<00:00, 96.62it/s]\n",
      " 57%|█████▋    | 50/87 [00:00<00:00, 96.12it/s]\n",
      " 69%|██████▉   | 60/87 [00:00<00:00, 96.22it/s]\n",
      " 80%|████████  | 70/87 [00:00<00:00, 96.50it/s]\n",
      " 92%|█████████▏| 80/87 [00:00<00:00, 96.94it/s]\n",
      "100%|██████████| 87/87 [00:00<00:00, 96.26it/s]\n",
      " 76%|███████▌  | 19/25 [00:00<00:00, 187.86it/s]\n",
      "100%|██████████| 25/25 [00:00<00:00, 188.43it/s]\n",
      "  0%|          | 0/87 [00:00<?, ?it/s]\n",
      " 11%|█▏        | 10/87 [00:00<00:00, 94.14it/s]\n"
     ]
    },
    {
     "name": "stdout",
     "output_type": "stream",
     "text": [
      "\u001b[2m\u001b[36m(func pid=21744)\u001b[0m \n",
      "\u001b[2m\u001b[36m(func pid=21744)\u001b[0m Epoch 91\n"
     ]
    },
    {
     "name": "stderr",
     "output_type": "stream",
     "text": [
      " 23%|██▎       | 20/87 [00:00<00:00, 96.14it/s]\n",
      " 34%|███▍      | 30/87 [00:00<00:00, 96.37it/s]\n",
      " 46%|████▌     | 40/87 [00:00<00:00, 95.38it/s]\n",
      " 57%|█████▋    | 50/87 [00:00<00:00, 95.94it/s]\n",
      " 69%|██████▉   | 60/87 [00:00<00:00, 96.63it/s]\n",
      " 80%|████████  | 70/87 [00:00<00:00, 96.78it/s]\n",
      " 92%|█████████▏| 80/87 [00:00<00:00, 96.54it/s]\n",
      "100%|██████████| 87/87 [00:00<00:00, 96.58it/s]\n",
      "  0%|          | 0/25 [00:00<?, ?it/s]\n",
      "100%|██████████| 25/25 [00:00<00:00, 118.99it/s]\n",
      "  0%|          | 0/87 [00:00<?, ?it/s]\n"
     ]
    },
    {
     "name": "stdout",
     "output_type": "stream",
     "text": [
      "\u001b[2m\u001b[36m(func pid=21744)\u001b[0m \n",
      "\u001b[2m\u001b[36m(func pid=21744)\u001b[0m Epoch 92\n"
     ]
    },
    {
     "name": "stderr",
     "output_type": "stream",
     "text": [
      " 11%|█▏        | 10/87 [00:00<00:00, 95.16it/s]\n",
      " 23%|██▎       | 20/87 [00:00<00:00, 94.63it/s]\n",
      " 34%|███▍      | 30/87 [00:00<00:00, 90.24it/s]\n",
      " 46%|████▌     | 40/87 [00:00<00:00, 90.92it/s]\n",
      " 57%|█████▋    | 50/87 [00:00<00:00, 91.75it/s]\n",
      " 69%|██████▉   | 60/87 [00:00<00:00, 93.82it/s]\n",
      " 80%|████████  | 70/87 [00:00<00:00, 94.59it/s]\n",
      "100%|██████████| 87/87 [00:00<00:00, 94.57it/s]\n",
      "  0%|          | 0/25 [00:00<?, ?it/s]\n",
      " 76%|███████▌  | 19/25 [00:00<00:00, 181.08it/s]\n",
      "100%|██████████| 25/25 [00:00<00:00, 177.82it/s]\n",
      "  0%|          | 0/87 [00:00<?, ?it/s]\n",
      " 11%|█▏        | 10/87 [00:00<00:00, 91.04it/s]\n"
     ]
    },
    {
     "name": "stdout",
     "output_type": "stream",
     "text": [
      "\u001b[2m\u001b[36m(func pid=21744)\u001b[0m \n",
      "\u001b[2m\u001b[36m(func pid=21744)\u001b[0m Epoch 93\n"
     ]
    },
    {
     "name": "stderr",
     "output_type": "stream",
     "text": [
      " 23%|██▎       | 20/87 [00:00<00:00, 92.48it/s]\n",
      " 34%|███▍      | 30/87 [00:00<00:00, 93.36it/s]\n",
      " 46%|████▌     | 40/87 [00:00<00:00, 93.38it/s]\n",
      " 57%|█████▋    | 50/87 [00:00<00:00, 94.32it/s]\n",
      " 69%|██████▉   | 60/87 [00:00<00:00, 94.62it/s]\n",
      " 80%|████████  | 70/87 [00:00<00:00, 95.06it/s]\n",
      " 92%|█████████▏| 80/87 [00:00<00:00, 94.05it/s]\n",
      "100%|██████████| 87/87 [00:00<00:00, 93.87it/s]\n",
      "  0%|          | 0/25 [00:00<?, ?it/s]\n",
      " 76%|███████▌  | 19/25 [00:00<00:00, 178.06it/s]\n",
      "100%|██████████| 25/25 [00:00<00:00, 180.16it/s]\n",
      "  0%|          | 0/87 [00:00<?, ?it/s]\n",
      " 11%|█▏        | 10/87 [00:00<00:00, 94.90it/s]\n"
     ]
    },
    {
     "name": "stdout",
     "output_type": "stream",
     "text": [
      "\u001b[2m\u001b[36m(func pid=21744)\u001b[0m \n",
      "\u001b[2m\u001b[36m(func pid=21744)\u001b[0m Epoch 94\n"
     ]
    },
    {
     "name": "stderr",
     "output_type": "stream",
     "text": [
      " 23%|██▎       | 20/87 [00:00<00:00, 95.56it/s]\n",
      " 34%|███▍      | 30/87 [00:00<00:00, 91.10it/s]\n",
      " 46%|████▌     | 40/87 [00:00<00:00, 80.62it/s]\n",
      " 56%|█████▋    | 49/87 [00:00<00:00, 82.82it/s]\n",
      " 67%|██████▋   | 58/87 [00:00<00:00, 84.50it/s]\n",
      " 77%|███████▋  | 67/87 [00:00<00:00, 85.30it/s]\n",
      " 89%|████████▊ | 77/87 [00:00<00:00, 87.15it/s]\n",
      "  0%|          | 0/25 [00:00<?, ?it/s]\n",
      " 44%|████▍     | 11/25 [00:00<00:00, 74.15it/s]\n",
      "100%|██████████| 25/25 [00:00<00:00, 110.21it/s]\n",
      "  0%|          | 0/87 [00:00<?, ?it/s]\n",
      " 11%|█▏        | 10/87 [00:00<00:00, 88.55it/s]\n"
     ]
    },
    {
     "name": "stdout",
     "output_type": "stream",
     "text": [
      "\u001b[2m\u001b[36m(func pid=21744)\u001b[0m \n",
      "\u001b[2m\u001b[36m(func pid=21744)\u001b[0m Epoch 95\n"
     ]
    },
    {
     "name": "stderr",
     "output_type": "stream",
     "text": [
      " 23%|██▎       | 20/87 [00:00<00:00, 89.88it/s]\n",
      " 34%|███▍      | 30/87 [00:00<00:00, 90.24it/s]\n",
      " 46%|████▌     | 40/87 [00:00<00:00, 92.57it/s]\n",
      " 57%|█████▋    | 50/87 [00:00<00:00, 90.40it/s]\n",
      " 69%|██████▉   | 60/87 [00:00<00:00, 89.57it/s]\n",
      " 79%|███████▉  | 69/87 [00:00<00:00, 88.38it/s]\n",
      " 90%|████████▉ | 78/87 [00:00<00:00, 87.29it/s]\n",
      "100%|██████████| 87/87 [00:00<00:00, 88.95it/s]\n",
      "  0%|          | 0/25 [00:00<?, ?it/s]\n",
      "100%|██████████| 25/25 [00:00<00:00, 168.11it/s]\n",
      "  0%|          | 0/87 [00:00<?, ?it/s]\n",
      " 10%|█         | 9/87 [00:00<00:00, 87.06it/s]\n"
     ]
    },
    {
     "name": "stdout",
     "output_type": "stream",
     "text": [
      "\u001b[2m\u001b[36m(func pid=21744)\u001b[0m \n",
      "\u001b[2m\u001b[36m(func pid=21744)\u001b[0m Epoch 96\n"
     ]
    },
    {
     "name": "stderr",
     "output_type": "stream",
     "text": [
      " 21%|██        | 18/87 [00:00<00:00, 88.12it/s]\n",
      " 31%|███       | 27/87 [00:00<00:00, 88.28it/s]\n",
      " 41%|████▏     | 36/87 [00:00<00:00, 87.79it/s]\n",
      " 52%|█████▏    | 45/87 [00:00<00:00, 86.55it/s]\n",
      " 62%|██████▏   | 54/87 [00:00<00:00, 86.29it/s]\n",
      " 74%|███████▎  | 64/87 [00:00<00:00, 87.66it/s]\n",
      " 84%|████████▍ | 73/87 [00:00<00:00, 87.68it/s]\n",
      "100%|██████████| 87/87 [00:00<00:00, 88.08it/s]\n",
      "  0%|          | 0/25 [00:00<?, ?it/s]\n",
      " 68%|██████▊   | 17/25 [00:00<00:00, 159.10it/s]\n",
      "100%|██████████| 25/25 [00:00<00:00, 146.33it/s]\n",
      "  0%|          | 0/87 [00:00<?, ?it/s]\n",
      " 11%|█▏        | 10/87 [00:00<00:00, 90.46it/s]\n"
     ]
    },
    {
     "name": "stdout",
     "output_type": "stream",
     "text": [
      "\u001b[2m\u001b[36m(func pid=21744)\u001b[0m \n",
      "\u001b[2m\u001b[36m(func pid=21744)\u001b[0m Epoch 97\n"
     ]
    },
    {
     "name": "stderr",
     "output_type": "stream",
     "text": [
      " 23%|██▎       | 20/87 [00:00<00:00, 93.25it/s]\n",
      " 34%|███▍      | 30/87 [00:00<00:00, 91.79it/s]\n",
      " 46%|████▌     | 40/87 [00:00<00:00, 92.08it/s]\n",
      " 57%|█████▋    | 50/87 [00:00<00:00, 92.64it/s]\n",
      " 69%|██████▉   | 60/87 [00:00<00:00, 92.47it/s]\n",
      " 80%|████████  | 70/87 [00:00<00:00, 92.73it/s]\n",
      " 92%|█████████▏| 80/87 [00:00<00:00, 92.24it/s]\n",
      "100%|██████████| 87/87 [00:00<00:00, 92.29it/s]\n",
      "  0%|          | 0/25 [00:00<?, ?it/s]\n",
      "100%|██████████| 25/25 [00:00<00:00, 116.87it/s]\n",
      "  0%|          | 0/87 [00:00<?, ?it/s]\n"
     ]
    },
    {
     "name": "stdout",
     "output_type": "stream",
     "text": [
      "\u001b[2m\u001b[36m(func pid=21744)\u001b[0m \n",
      "\u001b[2m\u001b[36m(func pid=21744)\u001b[0m Epoch 98\n"
     ]
    },
    {
     "name": "stderr",
     "output_type": "stream",
     "text": [
      " 10%|█         | 9/87 [00:00<00:00, 89.19it/s]\n",
      " 22%|██▏       | 19/87 [00:00<00:00, 94.83it/s]\n",
      " 33%|███▎      | 29/87 [00:00<00:00, 93.82it/s]\n",
      " 45%|████▍     | 39/87 [00:00<00:00, 92.21it/s]\n",
      " 56%|█████▋    | 49/87 [00:00<00:00, 91.77it/s]\n",
      " 68%|██████▊   | 59/87 [00:00<00:00, 90.35it/s]\n",
      "100%|██████████| 87/87 [00:00<00:00, 90.67it/s]\n",
      "  0%|          | 0/25 [00:00<?, ?it/s]\n",
      "100%|██████████| 25/25 [00:00<00:00, 166.57it/s]\n",
      "  0%|          | 0/87 [00:00<?, ?it/s]\n",
      " 10%|█         | 9/87 [00:00<00:00, 89.85it/s]\n"
     ]
    },
    {
     "name": "stdout",
     "output_type": "stream",
     "text": [
      "\u001b[2m\u001b[36m(func pid=21744)\u001b[0m \n",
      "\u001b[2m\u001b[36m(func pid=21744)\u001b[0m Epoch 99\n"
     ]
    },
    {
     "name": "stderr",
     "output_type": "stream",
     "text": [
      " 22%|██▏       | 19/87 [00:00<00:00, 90.82it/s]\n",
      " 33%|███▎      | 29/87 [00:00<00:00, 91.70it/s]\n",
      " 45%|████▍     | 39/87 [00:00<00:00, 91.25it/s]\n",
      " 56%|█████▋    | 49/87 [00:00<00:00, 91.27it/s]\n",
      " 68%|██████▊   | 59/87 [00:00<00:00, 92.04it/s]\n",
      " 79%|███████▉  | 69/87 [00:00<00:00, 92.49it/s]\n",
      " 91%|█████████ | 79/87 [00:00<00:00, 91.97it/s]\n",
      "100%|██████████| 87/87 [00:00<00:00, 91.77it/s]\n",
      "  0%|          | 0/25 [00:00<?, ?it/s]\n",
      "100%|██████████| 25/25 [00:00<00:00, 178.13it/s]\n",
      "  0%|          | 0/87 [00:00<?, ?it/s]\n"
     ]
    },
    {
     "name": "stdout",
     "output_type": "stream",
     "text": [
      "\u001b[2m\u001b[36m(func pid=21744)\u001b[0m \n",
      "\u001b[2m\u001b[36m(func pid=21744)\u001b[0m Epoch 100\n"
     ]
    },
    {
     "name": "stderr",
     "output_type": "stream",
     "text": [
      " 11%|█▏        | 10/87 [00:00<00:00, 91.71it/s]\n",
      " 23%|██▎       | 20/87 [00:00<00:00, 91.75it/s]\n",
      " 34%|███▍      | 30/87 [00:00<00:00, 92.18it/s]\n",
      " 46%|████▌     | 40/87 [00:00<00:00, 93.17it/s]\n",
      " 57%|█████▋    | 50/87 [00:00<00:00, 94.60it/s]\n",
      " 69%|██████▉   | 60/87 [00:00<00:00, 94.65it/s]\n",
      " 80%|████████  | 70/87 [00:00<00:00, 94.17it/s]\n",
      "100%|██████████| 87/87 [00:00<00:00, 93.28it/s]\n",
      "  0%|          | 0/25 [00:00<?, ?it/s]\n",
      " 60%|██████    | 15/25 [00:00<00:00, 91.84it/s]\n",
      "100%|██████████| 25/25 [00:00<00:00, 114.63it/s]\n",
      "  0%|          | 0/87 [00:00<?, ?it/s]\n",
      " 11%|█▏        | 10/87 [00:00<00:00, 88.33it/s]\n"
     ]
    },
    {
     "name": "stdout",
     "output_type": "stream",
     "text": [
      "\u001b[2m\u001b[36m(func pid=21744)\u001b[0m \n",
      "\u001b[2m\u001b[36m(func pid=21744)\u001b[0m Epoch 101\n"
     ]
    },
    {
     "name": "stderr",
     "output_type": "stream",
     "text": [
      " 22%|██▏       | 19/87 [00:00<00:00, 84.25it/s]\n",
      " 33%|███▎      | 29/87 [00:00<00:00, 88.73it/s]\n",
      " 45%|████▍     | 39/87 [00:00<00:00, 91.07it/s]\n",
      " 56%|█████▋    | 49/87 [00:00<00:00, 91.80it/s]\n",
      " 68%|██████▊   | 59/87 [00:00<00:00, 93.35it/s]\n",
      " 79%|███████▉  | 69/87 [00:00<00:00, 94.54it/s]\n",
      " 91%|█████████ | 79/87 [00:00<00:00, 94.88it/s]\n",
      "100%|██████████| 87/87 [00:00<00:00, 92.56it/s]\n",
      "  0%|          | 0/25 [00:00<?, ?it/s]\n",
      " 72%|███████▏  | 18/25 [00:00<00:00, 172.60it/s]\n",
      "100%|██████████| 25/25 [00:00<00:00, 175.83it/s]\n",
      "  0%|          | 0/87 [00:00<?, ?it/s]\n"
     ]
    },
    {
     "name": "stdout",
     "output_type": "stream",
     "text": [
      "\u001b[2m\u001b[36m(func pid=21744)\u001b[0m \n",
      "\u001b[2m\u001b[36m(func pid=21744)\u001b[0m Epoch 102\n"
     ]
    },
    {
     "name": "stderr",
     "output_type": "stream",
     "text": [
      " 11%|█▏        | 10/87 [00:00<00:00, 92.60it/s]\n",
      " 23%|██▎       | 20/87 [00:00<00:00, 92.55it/s]\n",
      " 34%|███▍      | 30/87 [00:00<00:00, 93.13it/s]\n",
      " 46%|████▌     | 40/87 [00:00<00:00, 94.54it/s]\n",
      " 57%|█████▋    | 50/87 [00:00<00:00, 94.54it/s]\n",
      " 69%|██████▉   | 60/87 [00:00<00:00, 93.69it/s]\n",
      " 80%|████████  | 70/87 [00:00<00:00, 92.86it/s]\n",
      " 92%|█████████▏| 80/87 [00:00<00:00, 92.43it/s]\n",
      "100%|██████████| 25/25 [00:00<00:00, 176.14it/s]\n",
      "  0%|          | 0/87 [00:00<?, ?it/s]\n",
      " 10%|█         | 9/87 [00:00<00:00, 89.34it/s]\n"
     ]
    },
    {
     "name": "stdout",
     "output_type": "stream",
     "text": [
      "\u001b[2m\u001b[36m(func pid=21744)\u001b[0m \n",
      "\u001b[2m\u001b[36m(func pid=21744)\u001b[0m Epoch 103\n"
     ]
    },
    {
     "name": "stderr",
     "output_type": "stream",
     "text": [
      " 22%|██▏       | 19/87 [00:00<00:00, 91.10it/s]\n",
      " 33%|███▎      | 29/87 [00:00<00:00, 91.94it/s]\n",
      " 45%|████▍     | 39/87 [00:00<00:00, 91.69it/s]\n",
      " 56%|█████▋    | 49/87 [00:00<00:00, 91.27it/s]\n",
      " 68%|██████▊   | 59/87 [00:00<00:00, 92.16it/s]\n",
      " 79%|███████▉  | 69/87 [00:00<00:00, 91.05it/s]\n",
      " 91%|█████████ | 79/87 [00:00<00:00, 90.88it/s]\n",
      "100%|██████████| 87/87 [00:00<00:00, 91.08it/s]\n",
      "  0%|          | 0/25 [00:00<?, ?it/s]\n",
      " 32%|███▏      | 8/25 [00:00<00:00, 64.54it/s]\n",
      "100%|██████████| 25/25 [00:00<00:00, 114.71it/s]\n",
      "  0%|          | 0/87 [00:00<?, ?it/s]\n"
     ]
    },
    {
     "name": "stdout",
     "output_type": "stream",
     "text": [
      "\u001b[2m\u001b[36m(func pid=21744)\u001b[0m \n",
      "\u001b[2m\u001b[36m(func pid=21744)\u001b[0m Epoch 104\n"
     ]
    },
    {
     "name": "stderr",
     "output_type": "stream",
     "text": [
      " 10%|█         | 9/87 [00:00<00:00, 88.97it/s]\n",
      " 21%|██        | 18/87 [00:00<00:00, 89.05it/s]\n",
      " 31%|███       | 27/87 [00:00<00:00, 88.61it/s]\n",
      " 41%|████▏     | 36/87 [00:00<00:00, 89.15it/s]\n",
      " 53%|█████▎    | 46/87 [00:00<00:00, 90.13it/s]\n",
      " 64%|██████▍   | 56/87 [00:00<00:00, 90.74it/s]\n",
      " 76%|███████▌  | 66/87 [00:00<00:00, 91.08it/s]\n",
      " 87%|████████▋ | 76/87 [00:00<00:00, 90.48it/s]\n",
      "100%|██████████| 87/87 [00:00<00:00, 90.42it/s]\n",
      "  0%|          | 0/25 [00:00<?, ?it/s]\n",
      " 72%|███████▏  | 18/25 [00:00<00:00, 174.88it/s]\n",
      "100%|██████████| 25/25 [00:00<00:00, 174.82it/s]\n",
      "  0%|          | 0/87 [00:00<?, ?it/s]\n",
      " 11%|█▏        | 10/87 [00:00<00:00, 90.21it/s]\n"
     ]
    },
    {
     "name": "stdout",
     "output_type": "stream",
     "text": [
      "\u001b[2m\u001b[36m(func pid=21744)\u001b[0m \n",
      "\u001b[2m\u001b[36m(func pid=21744)\u001b[0m Epoch 105\n"
     ]
    },
    {
     "name": "stderr",
     "output_type": "stream",
     "text": [
      " 23%|██▎       | 20/87 [00:00<00:00, 91.65it/s]\n",
      " 34%|███▍      | 30/87 [00:00<00:00, 84.60it/s]\n",
      " 45%|████▍     | 39/87 [00:00<00:00, 86.11it/s]\n",
      " 55%|█████▌    | 48/87 [00:00<00:00, 86.61it/s]\n",
      " 66%|██████▌   | 57/87 [00:00<00:00, 87.47it/s]\n",
      " 77%|███████▋  | 67/87 [00:00<00:00, 88.78it/s]\n",
      "  0%|          | 0/25 [00:00<?, ?it/s]\n",
      "100%|██████████| 25/25 [00:00<00:00, 173.52it/s]\n",
      "  0%|          | 0/87 [00:00<?, ?it/s]\n"
     ]
    },
    {
     "name": "stdout",
     "output_type": "stream",
     "text": [
      "\u001b[2m\u001b[36m(func pid=21744)\u001b[0m \n",
      "\u001b[2m\u001b[36m(func pid=21744)\u001b[0m Epoch 106\n"
     ]
    },
    {
     "name": "stderr",
     "output_type": "stream",
     "text": [
      " 11%|█▏        | 10/87 [00:00<00:00, 96.82it/s]\n",
      " 23%|██▎       | 20/87 [00:00<00:00, 96.55it/s]\n",
      " 34%|███▍      | 30/87 [00:00<00:00, 96.31it/s]\n",
      " 46%|████▌     | 40/87 [00:00<00:00, 96.63it/s]\n",
      " 57%|█████▋    | 50/87 [00:00<00:00, 97.47it/s]\n",
      " 69%|██████▉   | 60/87 [00:00<00:00, 97.55it/s]\n",
      " 82%|████████▏ | 71/87 [00:00<00:00, 99.70it/s]\n",
      "100%|██████████| 87/87 [00:00<00:00, 98.19it/s]\n",
      "  0%|          | 0/25 [00:00<?, ?it/s]\n",
      "100%|██████████| 25/25 [00:00<00:00, 121.45it/s]\n",
      "  0%|          | 0/87 [00:00<?, ?it/s]\n",
      " 11%|█▏        | 10/87 [00:00<00:00, 95.99it/s]\n"
     ]
    },
    {
     "name": "stdout",
     "output_type": "stream",
     "text": [
      "\u001b[2m\u001b[36m(func pid=21744)\u001b[0m \n",
      "\u001b[2m\u001b[36m(func pid=21744)\u001b[0m Epoch 107\n"
     ]
    },
    {
     "name": "stderr",
     "output_type": "stream",
     "text": [
      " 23%|██▎       | 20/87 [00:00<00:00, 96.63it/s]\n",
      " 34%|███▍      | 30/87 [00:00<00:00, 96.06it/s]\n",
      " 46%|████▌     | 40/87 [00:00<00:00, 96.15it/s]\n",
      " 57%|█████▋    | 50/87 [00:00<00:00, 95.71it/s]\n",
      " 69%|██████▉   | 60/87 [00:00<00:00, 95.62it/s]\n",
      " 80%|████████  | 70/87 [00:00<00:00, 95.16it/s]\n",
      "100%|██████████| 87/87 [00:00<00:00, 96.35it/s]\n",
      "  0%|          | 0/25 [00:00<?, ?it/s]\n",
      " 72%|███████▏  | 18/25 [00:00<00:00, 172.79it/s]\n",
      "100%|██████████| 25/25 [00:00<00:00, 158.06it/s]\n",
      "  0%|          | 0/87 [00:00<?, ?it/s]\n",
      " 11%|█▏        | 10/87 [00:00<00:00, 93.99it/s]\n"
     ]
    },
    {
     "name": "stdout",
     "output_type": "stream",
     "text": [
      "\u001b[2m\u001b[36m(func pid=21744)\u001b[0m \n",
      "\u001b[2m\u001b[36m(func pid=21744)\u001b[0m Epoch 108\n"
     ]
    },
    {
     "name": "stderr",
     "output_type": "stream",
     "text": [
      " 23%|██▎       | 20/87 [00:00<00:00, 95.35it/s]\n",
      " 34%|███▍      | 30/87 [00:00<00:00, 95.02it/s]\n",
      " 46%|████▌     | 40/87 [00:00<00:00, 95.08it/s]\n",
      " 57%|█████▋    | 50/87 [00:00<00:00, 94.96it/s]\n",
      " 69%|██████▉   | 60/87 [00:00<00:00, 95.17it/s]\n",
      " 80%|████████  | 70/87 [00:00<00:00, 94.57it/s]\n",
      " 92%|█████████▏| 80/87 [00:00<00:00, 94.54it/s]\n",
      "100%|██████████| 87/87 [00:00<00:00, 94.89it/s]\n",
      "  0%|          | 0/25 [00:00<?, ?it/s]\n",
      "100%|██████████| 25/25 [00:00<00:00, 180.36it/s]\n",
      "  0%|          | 0/87 [00:00<?, ?it/s]\n",
      " 10%|█         | 9/87 [00:00<00:00, 88.90it/s]\n"
     ]
    },
    {
     "name": "stdout",
     "output_type": "stream",
     "text": [
      "\u001b[2m\u001b[36m(func pid=21744)\u001b[0m \n",
      "\u001b[2m\u001b[36m(func pid=21744)\u001b[0m Epoch 109\n"
     ]
    },
    {
     "name": "stderr",
     "output_type": "stream",
     "text": [
      " 21%|██        | 18/87 [00:00<00:00, 89.54it/s]\n",
      " 32%|███▏      | 28/87 [00:00<00:00, 90.17it/s]\n",
      " 44%|████▎     | 38/87 [00:00<00:00, 91.22it/s]\n",
      " 55%|█████▌    | 48/87 [00:00<00:00, 92.05it/s]\n",
      " 67%|██████▋   | 58/87 [00:00<00:00, 92.21it/s]\n",
      " 78%|███████▊  | 68/87 [00:00<00:00, 92.94it/s]\n",
      " 90%|████████▉ | 78/87 [00:00<00:00, 92.02it/s]\n",
      "100%|██████████| 87/87 [00:00<00:00, 91.87it/s]\n",
      "  0%|          | 0/25 [00:00<?, ?it/s]\n",
      "  0%|          | 0/87 [00:00<?, ?it/s]\n",
      " 11%|█▏        | 10/87 [00:00<00:00, 90.16it/s]\n"
     ]
    },
    {
     "name": "stdout",
     "output_type": "stream",
     "text": [
      "\u001b[2m\u001b[36m(func pid=21744)\u001b[0m \n",
      "\u001b[2m\u001b[36m(func pid=21744)\u001b[0m Epoch 110\n"
     ]
    },
    {
     "name": "stderr",
     "output_type": "stream",
     "text": [
      " 23%|██▎       | 20/87 [00:00<00:00, 94.10it/s]\n",
      " 34%|███▍      | 30/87 [00:00<00:00, 94.71it/s]\n",
      " 46%|████▌     | 40/87 [00:00<00:00, 95.82it/s]\n",
      " 57%|█████▋    | 50/87 [00:00<00:00, 95.35it/s]\n",
      " 69%|██████▉   | 60/87 [00:00<00:00, 95.35it/s]\n",
      " 80%|████████  | 70/87 [00:00<00:00, 95.63it/s]\n",
      " 92%|█████████▏| 80/87 [00:00<00:00, 95.78it/s]\n",
      "100%|██████████| 87/87 [00:00<00:00, 95.41it/s]\n",
      "  0%|          | 0/25 [00:00<?, ?it/s]\n",
      "100%|██████████| 25/25 [00:00<00:00, 177.97it/s]\n",
      "  0%|          | 0/87 [00:00<?, ?it/s]\n",
      " 11%|█▏        | 10/87 [00:00<00:00, 96.92it/s]\n"
     ]
    },
    {
     "name": "stdout",
     "output_type": "stream",
     "text": [
      "\u001b[2m\u001b[36m(func pid=21744)\u001b[0m \n",
      "\u001b[2m\u001b[36m(func pid=21744)\u001b[0m Epoch 111\n"
     ]
    },
    {
     "name": "stderr",
     "output_type": "stream",
     "text": [
      " 23%|██▎       | 20/87 [00:00<00:00, 96.63it/s]\n",
      " 34%|███▍      | 30/87 [00:00<00:00, 86.50it/s]\n",
      " 46%|████▌     | 40/87 [00:00<00:00, 89.35it/s]\n",
      " 57%|█████▋    | 50/87 [00:00<00:00, 90.50it/s]\n",
      " 69%|██████▉   | 60/87 [00:00<00:00, 90.91it/s]\n",
      " 80%|████████  | 70/87 [00:00<00:00, 90.12it/s]\n",
      " 92%|█████████▏| 80/87 [00:00<00:00, 90.12it/s]\n",
      "100%|██████████| 87/87 [00:00<00:00, 90.71it/s]\n",
      "  0%|          | 0/25 [00:00<?, ?it/s]\n",
      "100%|██████████| 25/25 [00:00<00:00, 177.10it/s]\n",
      "  0%|          | 0/87 [00:00<?, ?it/s]\n",
      " 10%|█         | 9/87 [00:00<00:00, 89.10it/s]\n"
     ]
    },
    {
     "name": "stdout",
     "output_type": "stream",
     "text": [
      "\u001b[2m\u001b[36m(func pid=21744)\u001b[0m \n",
      "\u001b[2m\u001b[36m(func pid=21744)\u001b[0m Epoch 112\n"
     ]
    },
    {
     "name": "stderr",
     "output_type": "stream",
     "text": [
      " 22%|██▏       | 19/87 [00:00<00:00, 90.76it/s]\n",
      " 33%|███▎      | 29/87 [00:00<00:00, 92.34it/s]\n",
      " 45%|████▍     | 39/87 [00:00<00:00, 92.12it/s]\n",
      " 56%|█████▋    | 49/87 [00:00<00:00, 92.93it/s]\n",
      " 68%|██████▊   | 59/87 [00:00<00:00, 93.11it/s]\n",
      " 79%|███████▉  | 69/87 [00:00<00:00, 93.16it/s]\n",
      " 91%|█████████ | 79/87 [00:00<00:00, 93.91it/s]\n",
      "100%|██████████| 87/87 [00:00<00:00, 92.95it/s]\n",
      "  0%|          | 0/25 [00:00<?, ?it/s]\n",
      "100%|██████████| 25/25 [00:00<00:00, 114.63it/s]\n",
      "  0%|          | 0/87 [00:00<?, ?it/s]\n"
     ]
    },
    {
     "name": "stdout",
     "output_type": "stream",
     "text": [
      "\u001b[2m\u001b[36m(func pid=21744)\u001b[0m \n",
      "\u001b[2m\u001b[36m(func pid=21744)\u001b[0m Epoch 113\n"
     ]
    },
    {
     "name": "stderr",
     "output_type": "stream",
     "text": [
      " 11%|█▏        | 10/87 [00:00<00:00, 91.27it/s]\n",
      " 23%|██▎       | 20/87 [00:00<00:00, 90.87it/s]\n",
      " 34%|███▍      | 30/87 [00:00<00:00, 88.11it/s]\n",
      " 46%|████▌     | 40/87 [00:00<00:00, 88.94it/s]\n",
      " 57%|█████▋    | 50/87 [00:00<00:00, 89.89it/s]\n",
      " 69%|██████▉   | 60/87 [00:00<00:00, 91.11it/s]\n",
      " 80%|████████  | 70/87 [00:00<00:00, 91.55it/s]\n",
      " 92%|█████████▏| 80/87 [00:00<00:00, 92.12it/s]\n",
      "100%|██████████| 87/87 [00:00<00:00, 90.93it/s]\n",
      "  0%|          | 0/25 [00:00<?, ?it/s]\n",
      "100%|██████████| 25/25 [00:00<00:00, 181.51it/s]\n",
      "  0%|          | 0/87 [00:00<?, ?it/s]\n",
      "  9%|▉         | 8/87 [00:00<00:00, 79.17it/s]\n"
     ]
    },
    {
     "name": "stdout",
     "output_type": "stream",
     "text": [
      "\u001b[2m\u001b[36m(func pid=21744)\u001b[0m \n",
      "\u001b[2m\u001b[36m(func pid=21744)\u001b[0m Epoch 114\n"
     ]
    },
    {
     "name": "stderr",
     "output_type": "stream",
     "text": [
      " 20%|█▉        | 17/87 [00:00<00:00, 83.10it/s]\n",
      " 31%|███       | 27/87 [00:00<00:00, 86.42it/s]\n",
      " 43%|████▎     | 37/87 [00:00<00:00, 88.58it/s]\n",
      " 54%|█████▍    | 47/87 [00:00<00:00, 89.43it/s]\n",
      " 66%|██████▌   | 57/87 [00:00<00:00, 90.49it/s]\n",
      " 77%|███████▋  | 67/87 [00:00<00:00, 90.31it/s]\n",
      "100%|██████████| 87/87 [00:00<00:00, 89.06it/s]\n",
      "  0%|          | 0/25 [00:00<?, ?it/s]\n",
      " 68%|██████▊   | 17/25 [00:00<00:00, 167.39it/s]\n",
      "100%|██████████| 25/25 [00:00<00:00, 171.53it/s]\n",
      "  0%|          | 0/87 [00:00<?, ?it/s]\n",
      " 10%|█         | 9/87 [00:00<00:00, 89.11it/s]\n"
     ]
    },
    {
     "name": "stdout",
     "output_type": "stream",
     "text": [
      "\u001b[2m\u001b[36m(func pid=21744)\u001b[0m \n",
      "\u001b[2m\u001b[36m(func pid=21744)\u001b[0m Epoch 115\n"
     ]
    },
    {
     "name": "stderr",
     "output_type": "stream",
     "text": [
      " 22%|██▏       | 19/87 [00:00<00:00, 90.73it/s]\n",
      " 33%|███▎      | 29/87 [00:00<00:00, 90.24it/s]\n",
      " 45%|████▍     | 39/87 [00:00<00:00, 90.64it/s]\n",
      " 56%|█████▋    | 49/87 [00:00<00:00, 90.45it/s]\n",
      " 68%|██████▊   | 59/87 [00:00<00:00, 90.02it/s]\n",
      " 79%|███████▉  | 69/87 [00:00<00:00, 90.88it/s]\n",
      " 91%|█████████ | 79/87 [00:00<00:00, 90.30it/s]\n",
      "100%|██████████| 87/87 [00:00<00:00, 90.23it/s]\n",
      "  0%|          | 0/25 [00:00<?, ?it/s]\n",
      "100%|██████████| 25/25 [00:00<00:00, 112.82it/s]\n",
      "  0%|          | 0/87 [00:00<?, ?it/s]\n",
      " 10%|█         | 9/87 [00:00<00:00, 85.91it/s]\n"
     ]
    },
    {
     "name": "stdout",
     "output_type": "stream",
     "text": [
      "\u001b[2m\u001b[36m(func pid=21744)\u001b[0m \n",
      "\u001b[2m\u001b[36m(func pid=21744)\u001b[0m Epoch 116\n"
     ]
    },
    {
     "name": "stderr",
     "output_type": "stream",
     "text": [
      " 21%|██        | 18/87 [00:00<00:00, 80.64it/s]\n",
      " 32%|███▏      | 28/87 [00:00<00:00, 85.31it/s]\n",
      " 43%|████▎     | 37/87 [00:00<00:00, 86.03it/s]\n",
      " 54%|█████▍    | 47/87 [00:00<00:00, 87.70it/s]\n",
      " 66%|██████▌   | 57/87 [00:00<00:00, 88.63it/s]\n",
      " 77%|███████▋  | 67/87 [00:00<00:00, 89.51it/s]\n",
      " 87%|████████▋ | 76/87 [00:00<00:00, 89.13it/s]\n",
      "100%|██████████| 87/87 [00:00<00:00, 88.21it/s]\n",
      "  0%|          | 0/25 [00:00<?, ?it/s]\n",
      "100%|██████████| 25/25 [00:00<00:00, 172.47it/s]\n",
      "  0%|          | 0/87 [00:00<?, ?it/s]\n",
      " 10%|█         | 9/87 [00:00<00:00, 88.96it/s]\n",
      " 22%|██▏       | 19/87 [00:00<00:00, 90.26it/s]\n"
     ]
    },
    {
     "name": "stdout",
     "output_type": "stream",
     "text": [
      "\u001b[2m\u001b[36m(func pid=21744)\u001b[0m \n",
      "\u001b[2m\u001b[36m(func pid=21744)\u001b[0m Epoch 117\n"
     ]
    },
    {
     "name": "stderr",
     "output_type": "stream",
     "text": [
      " 33%|███▎      | 29/87 [00:00<00:00, 90.13it/s]\n",
      " 45%|████▍     | 39/87 [00:00<00:00, 91.44it/s]\n",
      " 56%|█████▋    | 49/87 [00:00<00:00, 91.61it/s]\n",
      " 68%|██████▊   | 59/87 [00:00<00:00, 92.24it/s]\n",
      " 79%|███████▉  | 69/87 [00:00<00:00, 92.57it/s]\n",
      " 91%|█████████ | 79/87 [00:00<00:00, 92.88it/s]\n",
      "100%|██████████| 87/87 [00:00<00:00, 92.47it/s]\n",
      "  0%|          | 0/25 [00:00<?, ?it/s]\n",
      "100%|██████████| 25/25 [00:00<00:00, 173.45it/s]\n",
      "  0%|          | 0/87 [00:00<?, ?it/s]\n",
      " 11%|█▏        | 10/87 [00:00<00:00, 90.67it/s]\n"
     ]
    },
    {
     "name": "stdout",
     "output_type": "stream",
     "text": [
      "\u001b[2m\u001b[36m(func pid=21744)\u001b[0m \n",
      "\u001b[2m\u001b[36m(func pid=21744)\u001b[0m Epoch 118\n"
     ]
    },
    {
     "name": "stderr",
     "output_type": "stream",
     "text": [
      " 23%|██▎       | 20/87 [00:00<00:00, 89.06it/s]\n",
      " 33%|███▎      | 29/87 [00:00<00:00, 89.46it/s]\n",
      " 45%|████▍     | 39/87 [00:00<00:00, 90.27it/s]\n",
      " 56%|█████▋    | 49/87 [00:00<00:00, 91.43it/s]\n",
      " 68%|██████▊   | 59/87 [00:00<00:00, 91.93it/s]\n",
      " 79%|███████▉  | 69/87 [00:00<00:00, 91.03it/s]\n",
      " 91%|█████████ | 79/87 [00:00<00:00, 91.77it/s]\n",
      "  0%|          | 0/25 [00:00<?, ?it/s]\n",
      " 60%|██████    | 15/25 [00:00<00:00, 86.72it/s]\n",
      "100%|██████████| 25/25 [00:00<00:00, 107.87it/s]\n",
      "  0%|          | 0/87 [00:00<?, ?it/s]\n",
      " 10%|█         | 9/87 [00:00<00:00, 84.43it/s]\n"
     ]
    },
    {
     "name": "stdout",
     "output_type": "stream",
     "text": [
      "\u001b[2m\u001b[36m(func pid=21744)\u001b[0m \n",
      "\u001b[2m\u001b[36m(func pid=21744)\u001b[0m Epoch 119\n"
     ]
    },
    {
     "name": "stderr",
     "output_type": "stream",
     "text": [
      " 22%|██▏       | 19/87 [00:00<00:00, 88.84it/s]\n",
      " 32%|███▏      | 28/87 [00:00<00:00, 88.10it/s]\n",
      " 43%|████▎     | 37/87 [00:00<00:00, 80.33it/s]\n",
      " 54%|█████▍    | 47/87 [00:00<00:00, 83.70it/s]\n",
      " 64%|██████▍   | 56/87 [00:00<00:00, 83.20it/s]\n",
      " 75%|███████▍  | 65/87 [00:00<00:00, 83.06it/s]\n",
      " 86%|████████▌ | 75/87 [00:00<00:00, 86.17it/s]\n",
      "100%|██████████| 87/87 [00:01<00:00, 86.07it/s]\n",
      "  0%|          | 0/25 [00:00<?, ?it/s]\n",
      "100%|██████████| 25/25 [00:00<00:00, 175.02it/s]\n",
      "  0%|          | 0/87 [00:00<?, ?it/s]\n",
      " 10%|█         | 9/87 [00:00<00:00, 88.14it/s]\n"
     ]
    },
    {
     "name": "stdout",
     "output_type": "stream",
     "text": [
      "\u001b[2m\u001b[36m(func pid=21744)\u001b[0m \n",
      "\u001b[2m\u001b[36m(func pid=21744)\u001b[0m Epoch 120\n"
     ]
    },
    {
     "name": "stderr",
     "output_type": "stream",
     "text": [
      " 22%|██▏       | 19/87 [00:00<00:00, 91.37it/s]\n",
      " 33%|███▎      | 29/87 [00:00<00:00, 92.00it/s]\n",
      " 45%|████▍     | 39/87 [00:00<00:00, 92.33it/s]\n",
      " 56%|█████▋    | 49/87 [00:00<00:00, 92.97it/s]\n",
      " 68%|██████▊   | 59/87 [00:00<00:00, 93.97it/s]\n",
      " 79%|███████▉  | 69/87 [00:00<00:00, 93.83it/s]\n",
      " 91%|█████████ | 79/87 [00:00<00:00, 94.00it/s]\n",
      "100%|██████████| 87/87 [00:00<00:00, 93.62it/s]\n",
      "  0%|          | 0/25 [00:00<?, ?it/s]\n",
      "100%|██████████| 25/25 [00:00<00:00, 180.29it/s]\n",
      "  0%|          | 0/87 [00:00<?, ?it/s]\n",
      " 11%|█▏        | 10/87 [00:00<00:00, 95.55it/s]\n"
     ]
    },
    {
     "name": "stdout",
     "output_type": "stream",
     "text": [
      "\u001b[2m\u001b[36m(func pid=21744)\u001b[0m \n",
      "\u001b[2m\u001b[36m(func pid=21744)\u001b[0m Epoch 121\n"
     ]
    },
    {
     "name": "stderr",
     "output_type": "stream",
     "text": [
      " 23%|██▎       | 20/87 [00:00<00:00, 95.85it/s]\n",
      " 34%|███▍      | 30/87 [00:00<00:00, 95.70it/s]\n",
      " 46%|████▌     | 40/87 [00:00<00:00, 95.09it/s]\n",
      " 57%|█████▋    | 50/87 [00:00<00:00, 92.23it/s]\n",
      " 69%|██████▉   | 60/87 [00:00<00:00, 93.82it/s]\n",
      " 80%|████████  | 70/87 [00:00<00:00, 94.57it/s]\n",
      "100%|██████████| 87/87 [00:00<00:00, 94.88it/s]\n",
      "  0%|          | 0/25 [00:00<?, ?it/s]\n",
      " 32%|███▏      | 8/25 [00:00<00:00, 66.98it/s]\n",
      "100%|██████████| 25/25 [00:00<00:00, 120.20it/s]\n",
      "  0%|          | 0/87 [00:00<?, ?it/s]\n",
      " 10%|█         | 9/87 [00:00<00:00, 86.83it/s]\n"
     ]
    },
    {
     "name": "stdout",
     "output_type": "stream",
     "text": [
      "\u001b[2m\u001b[36m(func pid=21744)\u001b[0m \n",
      "\u001b[2m\u001b[36m(func pid=21744)\u001b[0m Epoch 122\n"
     ]
    },
    {
     "name": "stderr",
     "output_type": "stream",
     "text": [
      " 21%|██        | 18/87 [00:00<00:00, 84.72it/s]\n",
      " 32%|███▏      | 28/87 [00:00<00:00, 88.54it/s]\n",
      " 44%|████▎     | 38/87 [00:00<00:00, 91.71it/s]\n",
      " 55%|█████▌    | 48/87 [00:00<00:00, 93.91it/s]\n",
      " 67%|██████▋   | 58/87 [00:00<00:00, 94.93it/s]\n",
      " 78%|███████▊  | 68/87 [00:00<00:00, 96.53it/s]\n",
      "100%|██████████| 87/87 [00:00<00:00, 94.59it/s]\n",
      "  0%|          | 0/25 [00:00<?, ?it/s]\n",
      " 76%|███████▌  | 19/25 [00:00<00:00, 183.60it/s]\n",
      "100%|██████████| 25/25 [00:00<00:00, 183.38it/s]\n",
      "  0%|          | 0/87 [00:00<?, ?it/s]\n",
      " 11%|█▏        | 10/87 [00:00<00:00, 96.24it/s]\n"
     ]
    },
    {
     "name": "stdout",
     "output_type": "stream",
     "text": [
      "\u001b[2m\u001b[36m(func pid=21744)\u001b[0m \n",
      "\u001b[2m\u001b[36m(func pid=21744)\u001b[0m Epoch 123\n"
     ]
    },
    {
     "name": "stderr",
     "output_type": "stream",
     "text": [
      " 23%|██▎       | 20/87 [00:00<00:00, 97.19it/s]\n",
      " 34%|███▍      | 30/87 [00:00<00:00, 97.61it/s]\n",
      " 46%|████▌     | 40/87 [00:00<00:00, 97.42it/s]\n",
      " 57%|█████▋    | 50/87 [00:00<00:00, 97.66it/s]\n",
      " 69%|██████▉   | 60/87 [00:00<00:00, 97.02it/s]\n",
      " 80%|████████  | 70/87 [00:00<00:00, 97.37it/s]\n",
      "100%|██████████| 87/87 [00:00<00:00, 96.96it/s]\n",
      "  0%|          | 0/25 [00:00<?, ?it/s]\n",
      "100%|██████████| 25/25 [00:00<00:00, 180.90it/s]\n",
      "  0%|          | 0/87 [00:00<?, ?it/s]\n",
      " 11%|█▏        | 10/87 [00:00<00:00, 94.36it/s]\n"
     ]
    },
    {
     "name": "stdout",
     "output_type": "stream",
     "text": [
      "\u001b[2m\u001b[36m(func pid=21744)\u001b[0m \n",
      "\u001b[2m\u001b[36m(func pid=21744)\u001b[0m Epoch 124\n"
     ]
    },
    {
     "name": "stderr",
     "output_type": "stream",
     "text": [
      " 23%|██▎       | 20/87 [00:00<00:00, 91.36it/s]\n",
      " 34%|███▍      | 30/87 [00:00<00:00, 92.19it/s]\n",
      " 46%|████▌     | 40/87 [00:00<00:00, 85.62it/s]\n",
      " 57%|█████▋    | 50/87 [00:00<00:00, 87.62it/s]\n",
      " 69%|██████▉   | 60/87 [00:00<00:00, 89.28it/s]\n",
      " 80%|████████  | 70/87 [00:00<00:00, 90.61it/s]\n",
      "  0%|          | 0/25 [00:00<?, ?it/s]\n",
      " 72%|███████▏  | 18/25 [00:00<00:00, 175.85it/s]\n",
      "100%|██████████| 25/25 [00:00<00:00, 112.27it/s]\n",
      "  0%|          | 0/87 [00:00<?, ?it/s]\n",
      " 11%|█▏        | 10/87 [00:00<00:00, 92.57it/s]\n"
     ]
    },
    {
     "name": "stdout",
     "output_type": "stream",
     "text": [
      "\u001b[2m\u001b[36m(func pid=21744)\u001b[0m \n",
      "\u001b[2m\u001b[36m(func pid=21744)\u001b[0m Epoch 125\n"
     ]
    },
    {
     "name": "stderr",
     "output_type": "stream",
     "text": [
      " 23%|██▎       | 20/87 [00:00<00:00, 91.81it/s]\n",
      " 34%|███▍      | 30/87 [00:00<00:00, 87.39it/s]\n",
      " 46%|████▌     | 40/87 [00:00<00:00, 89.21it/s]\n",
      " 57%|█████▋    | 50/87 [00:00<00:00, 90.94it/s]\n",
      " 69%|██████▉   | 60/87 [00:00<00:00, 91.78it/s]\n",
      " 80%|████████  | 70/87 [00:00<00:00, 92.11it/s]\n",
      "100%|██████████| 87/87 [00:00<00:00, 91.57it/s]\n",
      "  0%|          | 0/25 [00:00<?, ?it/s]\n",
      "100%|██████████| 25/25 [00:00<00:00, 177.64it/s]\n",
      "  0%|          | 0/87 [00:00<?, ?it/s]\n",
      " 11%|█▏        | 10/87 [00:00<00:00, 92.78it/s]\n"
     ]
    },
    {
     "name": "stdout",
     "output_type": "stream",
     "text": [
      "\u001b[2m\u001b[36m(func pid=21744)\u001b[0m \n",
      "\u001b[2m\u001b[36m(func pid=21744)\u001b[0m Epoch 126\n"
     ]
    },
    {
     "name": "stderr",
     "output_type": "stream",
     "text": [
      " 23%|██▎       | 20/87 [00:00<00:00, 93.07it/s]\n",
      " 34%|███▍      | 30/87 [00:00<00:00, 91.32it/s]\n",
      " 46%|████▌     | 40/87 [00:00<00:00, 91.65it/s]\n",
      " 57%|█████▋    | 50/87 [00:00<00:00, 88.54it/s]\n",
      " 68%|██████▊   | 59/87 [00:00<00:00, 85.82it/s]\n",
      " 78%|███████▊  | 68/87 [00:00<00:00, 84.30it/s]\n",
      " 89%|████████▊ | 77/87 [00:00<00:00, 83.58it/s]\n",
      "100%|██████████| 87/87 [00:01<00:00, 86.10it/s]\n",
      "  0%|          | 0/25 [00:00<?, ?it/s]\n",
      "  0%|          | 0/87 [00:00<?, ?it/s]\n",
      " 10%|█         | 9/87 [00:00<00:00, 86.65it/s]\n"
     ]
    },
    {
     "name": "stdout",
     "output_type": "stream",
     "text": [
      "\u001b[2m\u001b[36m(func pid=21744)\u001b[0m \n",
      "\u001b[2m\u001b[36m(func pid=21744)\u001b[0m Epoch 127\n"
     ]
    },
    {
     "name": "stderr",
     "output_type": "stream",
     "text": [
      " 21%|██        | 18/87 [00:00<00:00, 80.80it/s]\n",
      " 31%|███       | 27/87 [00:00<00:00, 81.08it/s]\n",
      " 41%|████▏     | 36/87 [00:00<00:00, 79.41it/s]\n",
      " 52%|█████▏    | 45/87 [00:00<00:00, 80.74it/s]\n",
      " 63%|██████▎   | 55/87 [00:00<00:00, 84.12it/s]\n",
      " 74%|███████▎  | 64/87 [00:00<00:00, 85.42it/s]\n",
      " 84%|████████▍ | 73/87 [00:00<00:00, 86.06it/s]\n",
      " 94%|█████████▍| 82/87 [00:00<00:00, 86.00it/s]\n",
      "100%|██████████| 87/87 [00:01<00:00, 84.31it/s]\n",
      "  0%|          | 0/25 [00:00<?, ?it/s]\n",
      " 68%|██████▊   | 17/25 [00:00<00:00, 165.23it/s]\n",
      "100%|██████████| 25/25 [00:00<00:00, 108.30it/s]\n",
      "  0%|          | 0/87 [00:00<?, ?it/s]\n",
      " 10%|█         | 9/87 [00:00<00:00, 85.27it/s]\n"
     ]
    },
    {
     "name": "stdout",
     "output_type": "stream",
     "text": [
      "\u001b[2m\u001b[36m(func pid=21744)\u001b[0m \n",
      "\u001b[2m\u001b[36m(func pid=21744)\u001b[0m Epoch 128\n"
     ]
    },
    {
     "name": "stderr",
     "output_type": "stream",
     "text": [
      " 21%|██        | 18/87 [00:00<00:00, 82.13it/s]\n",
      " 32%|███▏      | 28/87 [00:00<00:00, 86.80it/s]\n",
      " 44%|████▎     | 38/87 [00:00<00:00, 89.58it/s]\n",
      " 55%|█████▌    | 48/87 [00:00<00:00, 92.23it/s]\n",
      " 67%|██████▋   | 58/87 [00:00<00:00, 93.85it/s]\n",
      " 78%|███████▊  | 68/87 [00:00<00:00, 92.53it/s]\n",
      "  0%|          | 0/25 [00:00<?, ?it/s]\n",
      " 72%|███████▏  | 18/25 [00:00<00:00, 171.93it/s]\n",
      "100%|██████████| 25/25 [00:00<00:00, 172.92it/s]\n",
      "  0%|          | 0/87 [00:00<?, ?it/s]\n"
     ]
    },
    {
     "name": "stdout",
     "output_type": "stream",
     "text": [
      "\u001b[2m\u001b[36m(func pid=21744)\u001b[0m \n",
      "\u001b[2m\u001b[36m(func pid=21744)\u001b[0m Epoch 129\n"
     ]
    },
    {
     "name": "stderr",
     "output_type": "stream",
     "text": [
      " 10%|█         | 9/87 [00:00<00:00, 79.36it/s]\n",
      " 21%|██        | 18/87 [00:00<00:00, 81.93it/s]\n",
      " 31%|███       | 27/87 [00:00<00:00, 84.39it/s]\n",
      " 41%|████▏     | 36/87 [00:00<00:00, 84.10it/s]\n",
      " 53%|█████▎    | 46/87 [00:00<00:00, 87.94it/s]\n",
      " 64%|██████▍   | 56/87 [00:00<00:00, 90.62it/s]\n",
      " 76%|███████▌  | 66/87 [00:00<00:00, 92.19it/s]\n",
      " 87%|████████▋ | 76/87 [00:00<00:00, 93.76it/s]\n",
      "100%|██████████| 87/87 [00:00<00:00, 89.71it/s]\n",
      "  0%|          | 0/25 [00:00<?, ?it/s]\n",
      " 72%|███████▏  | 18/25 [00:00<00:00, 173.22it/s]\n",
      "100%|██████████| 25/25 [00:00<00:00, 166.41it/s]\n",
      "  0%|          | 0/87 [00:00<?, ?it/s]\n"
     ]
    },
    {
     "name": "stdout",
     "output_type": "stream",
     "text": [
      "\u001b[2m\u001b[36m(func pid=21744)\u001b[0m \n",
      "\u001b[2m\u001b[36m(func pid=21744)\u001b[0m Epoch 130\n"
     ]
    },
    {
     "name": "stderr",
     "output_type": "stream",
     "text": [
      "  9%|▉         | 8/87 [00:00<00:00, 79.01it/s]\n",
      " 21%|██        | 18/87 [00:00<00:00, 86.75it/s]\n",
      " 32%|███▏      | 28/87 [00:00<00:00, 90.61it/s]\n",
      " 44%|████▎     | 38/87 [00:00<00:00, 93.20it/s]\n",
      " 55%|█████▌    | 48/87 [00:00<00:00, 93.98it/s]\n",
      " 67%|██████▋   | 58/87 [00:00<00:00, 91.63it/s]\n",
      " 78%|███████▊  | 68/87 [00:00<00:00, 90.31it/s]\n",
      " 90%|████████▉ | 78/87 [00:00<00:00, 89.25it/s]\n",
      "100%|██████████| 25/25 [00:00<00:00, 114.69it/s]\n",
      "  0%|          | 0/87 [00:00<?, ?it/s]\n",
      "  9%|▉         | 8/87 [00:00<00:00, 79.21it/s]\n"
     ]
    },
    {
     "name": "stdout",
     "output_type": "stream",
     "text": [
      "\u001b[2m\u001b[36m(func pid=21744)\u001b[0m \n",
      "\u001b[2m\u001b[36m(func pid=21744)\u001b[0m Epoch 131\n"
     ]
    },
    {
     "name": "stderr",
     "output_type": "stream",
     "text": [
      " 21%|██        | 18/87 [00:00<00:00, 86.97it/s]\n",
      " 31%|███       | 27/87 [00:00<00:00, 85.75it/s]\n",
      " 41%|████▏     | 36/87 [00:00<00:00, 86.76it/s]\n",
      " 53%|█████▎    | 46/87 [00:00<00:00, 88.62it/s]\n",
      " 64%|██████▍   | 56/87 [00:00<00:00, 90.60it/s]\n",
      " 76%|███████▌  | 66/87 [00:00<00:00, 90.42it/s]\n",
      " 87%|████████▋ | 76/87 [00:00<00:00, 91.10it/s]\n",
      "100%|██████████| 87/87 [00:00<00:00, 90.12it/s]\n",
      "  0%|          | 0/25 [00:00<?, ?it/s]\n",
      " 68%|██████▊   | 17/25 [00:00<00:00, 161.70it/s]\n",
      "100%|██████████| 25/25 [00:00<00:00, 165.05it/s]\n",
      "  0%|          | 0/87 [00:00<?, ?it/s]\n"
     ]
    },
    {
     "name": "stdout",
     "output_type": "stream",
     "text": [
      "\u001b[2m\u001b[36m(func pid=21744)\u001b[0m \n",
      "\u001b[2m\u001b[36m(func pid=21744)\u001b[0m Epoch 132\n"
     ]
    },
    {
     "name": "stderr",
     "output_type": "stream",
     "text": [
      "  9%|▉         | 8/87 [00:00<00:01, 74.20it/s]\n",
      " 20%|█▉        | 17/87 [00:00<00:00, 81.58it/s]\n",
      " 31%|███       | 27/87 [00:00<00:00, 86.47it/s]\n",
      " 43%|████▎     | 37/87 [00:00<00:00, 88.59it/s]\n",
      " 53%|█████▎    | 46/87 [00:00<00:00, 86.37it/s]\n",
      " 63%|██████▎   | 55/87 [00:00<00:00, 86.46it/s]\n",
      " 75%|███████▍  | 65/87 [00:00<00:00, 90.11it/s]\n",
      " 86%|████████▌ | 75/87 [00:00<00:00, 85.31it/s]\n",
      "  0%|          | 0/25 [00:00<?, ?it/s]\n",
      "100%|██████████| 25/25 [00:00<00:00, 180.43it/s]\n",
      "  0%|          | 0/87 [00:00<?, ?it/s]\n",
      " 11%|█▏        | 10/87 [00:00<00:00, 94.75it/s]\n"
     ]
    },
    {
     "name": "stdout",
     "output_type": "stream",
     "text": [
      "\u001b[2m\u001b[36m(func pid=21744)\u001b[0m \n",
      "\u001b[2m\u001b[36m(func pid=21744)\u001b[0m Epoch 133\n"
     ]
    },
    {
     "name": "stderr",
     "output_type": "stream",
     "text": [
      " 23%|██▎       | 20/87 [00:00<00:00, 94.62it/s]\n",
      " 34%|███▍      | 30/87 [00:00<00:00, 96.44it/s]\n",
      " 46%|████▌     | 40/87 [00:00<00:00, 95.31it/s]\n",
      " 57%|█████▋    | 50/87 [00:00<00:00, 94.35it/s]\n",
      " 69%|██████▉   | 60/87 [00:00<00:00, 95.21it/s]\n",
      " 80%|████████  | 70/87 [00:00<00:00, 94.62it/s]\n",
      "100%|██████████| 87/87 [00:00<00:00, 94.40it/s]\n",
      "  0%|          | 0/25 [00:00<?, ?it/s]\n",
      "100%|██████████| 25/25 [00:00<00:00, 101.41it/s]\n",
      "  0%|          | 0/87 [00:00<?, ?it/s]\n"
     ]
    },
    {
     "name": "stdout",
     "output_type": "stream",
     "text": [
      "\u001b[2m\u001b[36m(func pid=21744)\u001b[0m \n",
      "\u001b[2m\u001b[36m(func pid=21744)\u001b[0m Epoch 134\n"
     ]
    },
    {
     "name": "stderr",
     "output_type": "stream",
     "text": [
      " 10%|█         | 9/87 [00:00<00:00, 79.87it/s]\n",
      " 20%|█▉        | 17/87 [00:00<00:00, 79.02it/s]\n",
      " 31%|███       | 27/87 [00:00<00:00, 85.17it/s]\n",
      " 43%|████▎     | 37/87 [00:00<00:00, 88.62it/s]\n",
      " 54%|█████▍    | 47/87 [00:00<00:00, 90.57it/s]\n",
      " 66%|██████▌   | 57/87 [00:00<00:00, 92.41it/s]\n",
      " 77%|███████▋  | 67/87 [00:00<00:00, 92.76it/s]\n",
      " 89%|████████▊ | 77/87 [00:00<00:00, 93.87it/s]\n",
      "100%|██████████| 87/87 [00:00<00:00, 90.66it/s]\n",
      "  0%|          | 0/87 [00:00<?, ?it/s]\n",
      " 10%|█         | 9/87 [00:00<00:00, 88.47it/s]\n"
     ]
    },
    {
     "name": "stdout",
     "output_type": "stream",
     "text": [
      "\u001b[2m\u001b[36m(func pid=21744)\u001b[0m \n",
      "\u001b[2m\u001b[36m(func pid=21744)\u001b[0m Epoch 135\n"
     ]
    },
    {
     "name": "stderr",
     "output_type": "stream",
     "text": [
      " 22%|██▏       | 19/87 [00:00<00:00, 90.94it/s]\n",
      " 33%|███▎      | 29/87 [00:00<00:00, 92.04it/s]\n",
      " 45%|████▍     | 39/87 [00:00<00:00, 92.64it/s]\n",
      " 56%|█████▋    | 49/87 [00:00<00:00, 92.98it/s]\n",
      " 68%|██████▊   | 59/87 [00:00<00:00, 91.94it/s]\n",
      " 79%|███████▉  | 69/87 [00:00<00:00, 91.59it/s]\n",
      " 91%|█████████ | 79/87 [00:00<00:00, 91.66it/s]\n",
      "100%|██████████| 87/87 [00:00<00:00, 92.08it/s]\n",
      "  0%|          | 0/25 [00:00<?, ?it/s]\n",
      "100%|██████████| 25/25 [00:00<00:00, 175.14it/s]\n",
      "  0%|          | 0/87 [00:00<?, ?it/s]\n"
     ]
    },
    {
     "name": "stdout",
     "output_type": "stream",
     "text": [
      "\u001b[2m\u001b[36m(func pid=21744)\u001b[0m \n",
      "\u001b[2m\u001b[36m(func pid=21744)\u001b[0m Epoch 136\n"
     ]
    },
    {
     "name": "stderr",
     "output_type": "stream",
     "text": [
      "  9%|▉         | 8/87 [00:00<00:01, 77.77it/s]\n",
      " 20%|█▉        | 17/87 [00:00<00:00, 79.44it/s]\n",
      " 30%|██▉       | 26/87 [00:00<00:00, 81.69it/s]\n",
      " 40%|████      | 35/87 [00:00<00:00, 83.04it/s]\n",
      " 51%|█████     | 44/87 [00:00<00:00, 83.68it/s]\n",
      " 61%|██████    | 53/87 [00:00<00:00, 84.70it/s]\n",
      " 71%|███████▏  | 62/87 [00:00<00:00, 84.56it/s]\n",
      " 82%|████████▏ | 71/87 [00:00<00:00, 85.16it/s]\n",
      "  0%|          | 0/25 [00:00<?, ?it/s]\n",
      " 60%|██████    | 15/25 [00:00<00:00, 93.15it/s]\n",
      "100%|██████████| 25/25 [00:00<00:00, 114.56it/s]\n",
      "  0%|          | 0/87 [00:00<?, ?it/s]\n",
      " 11%|█▏        | 10/87 [00:00<00:00, 94.30it/s]\n",
      " 23%|██▎       | 20/87 [00:00<00:00, 92.87it/s]\n"
     ]
    },
    {
     "name": "stdout",
     "output_type": "stream",
     "text": [
      "\u001b[2m\u001b[36m(func pid=21744)\u001b[0m \n",
      "\u001b[2m\u001b[36m(func pid=21744)\u001b[0m Epoch 137\n"
     ]
    },
    {
     "name": "stderr",
     "output_type": "stream",
     "text": [
      " 34%|███▍      | 30/87 [00:00<00:00, 94.68it/s]\n",
      " 46%|████▌     | 40/87 [00:00<00:00, 89.58it/s]\n",
      " 57%|█████▋    | 50/87 [00:00<00:00, 92.81it/s]\n",
      " 69%|██████▉   | 60/87 [00:00<00:00, 95.07it/s]\n",
      " 82%|████████▏ | 71/87 [00:00<00:00, 96.99it/s]\n",
      " 94%|█████████▍| 82/87 [00:00<00:00, 98.35it/s]\n",
      "100%|██████████| 87/87 [00:00<00:00, 95.73it/s]\n",
      "  0%|          | 0/25 [00:00<?, ?it/s]\n",
      " 76%|███████▌  | 19/25 [00:00<00:00, 189.72it/s]\n",
      "100%|██████████| 25/25 [00:00<00:00, 190.77it/s]\n",
      "  0%|          | 0/87 [00:00<?, ?it/s]\n",
      " 11%|█▏        | 10/87 [00:00<00:00, 96.90it/s]\n"
     ]
    },
    {
     "name": "stdout",
     "output_type": "stream",
     "text": [
      "\u001b[2m\u001b[36m(func pid=21744)\u001b[0m \n",
      "\u001b[2m\u001b[36m(func pid=21744)\u001b[0m Epoch 138\n"
     ]
    },
    {
     "name": "stderr",
     "output_type": "stream",
     "text": [
      " 24%|██▍       | 21/87 [00:00<00:00, 100.48it/s]\n",
      " 37%|███▋      | 32/87 [00:00<00:00, 100.29it/s]\n",
      " 49%|████▉     | 43/87 [00:00<00:00, 99.30it/s] \n",
      " 62%|██████▏   | 54/87 [00:00<00:00, 100.03it/s]\n",
      " 75%|███████▍  | 65/87 [00:00<00:00, 100.87it/s]\n",
      " 87%|████████▋ | 76/87 [00:00<00:00, 100.97it/s]\n",
      "100%|██████████| 87/87 [00:00<00:00, 100.44it/s]\n",
      "  0%|          | 0/25 [00:00<?, ?it/s]\n",
      " 76%|███████▌  | 19/25 [00:00<00:00, 189.27it/s]\n",
      "100%|██████████| 25/25 [00:00<00:00, 190.33it/s]\n",
      "  0%|          | 0/87 [00:00<?, ?it/s]\n",
      " 11%|█▏        | 10/87 [00:00<00:00, 98.47it/s]\n"
     ]
    },
    {
     "name": "stdout",
     "output_type": "stream",
     "text": [
      "\u001b[2m\u001b[36m(func pid=21744)\u001b[0m \n",
      "\u001b[2m\u001b[36m(func pid=21744)\u001b[0m Epoch 139\n"
     ]
    },
    {
     "name": "stderr",
     "output_type": "stream",
     "text": [
      " 24%|██▍       | 21/87 [00:00<00:00, 99.69it/s]\n",
      " 36%|███▌      | 31/87 [00:00<00:00, 99.42it/s]\n",
      " 48%|████▊     | 42/87 [00:00<00:00, 100.33it/s]\n",
      " 61%|██████    | 53/87 [00:00<00:00, 100.25it/s]\n",
      " 74%|███████▎  | 64/87 [00:00<00:00, 99.91it/s] \n",
      " 85%|████████▌ | 74/87 [00:00<00:00, 98.68it/s]\n",
      "  0%|          | 0/25 [00:00<?, ?it/s]\n",
      " 32%|███▏      | 8/25 [00:00<00:00, 62.99it/s]\n",
      "100%|██████████| 25/25 [00:00<00:00, 114.27it/s]\n",
      "  0%|          | 0/87 [00:00<?, ?it/s]\n",
      " 11%|█▏        | 10/87 [00:00<00:00, 96.08it/s]\n"
     ]
    },
    {
     "name": "stdout",
     "output_type": "stream",
     "text": [
      "\u001b[2m\u001b[36m(func pid=21744)\u001b[0m \n",
      "\u001b[2m\u001b[36m(func pid=21744)\u001b[0m Epoch 140\n"
     ]
    },
    {
     "name": "stderr",
     "output_type": "stream",
     "text": [
      " 23%|██▎       | 20/87 [00:00<00:00, 97.63it/s]\n",
      " 34%|███▍      | 30/87 [00:00<00:00, 97.94it/s]\n",
      " 46%|████▌     | 40/87 [00:00<00:00, 97.62it/s]\n",
      " 57%|█████▋    | 50/87 [00:00<00:00, 98.30it/s]\n",
      " 69%|██████▉   | 60/87 [00:00<00:00, 96.71it/s]\n",
      " 80%|████████  | 70/87 [00:00<00:00, 90.77it/s]\n",
      " 92%|█████████▏| 80/87 [00:00<00:00, 91.64it/s]\n",
      "100%|██████████| 87/87 [00:00<00:00, 94.34it/s]\n",
      "  0%|          | 0/25 [00:00<?, ?it/s]\n",
      " 72%|███████▏  | 18/25 [00:00<00:00, 174.61it/s]\n",
      "100%|██████████| 25/25 [00:00<00:00, 176.37it/s]\n",
      "  0%|          | 0/87 [00:00<?, ?it/s]\n",
      " 11%|█▏        | 10/87 [00:00<00:00, 96.36it/s]\n"
     ]
    },
    {
     "name": "stdout",
     "output_type": "stream",
     "text": [
      "\u001b[2m\u001b[36m(func pid=21744)\u001b[0m \n",
      "\u001b[2m\u001b[36m(func pid=21744)\u001b[0m Epoch 141\n"
     ]
    },
    {
     "name": "stderr",
     "output_type": "stream",
     "text": [
      " 23%|██▎       | 20/87 [00:00<00:00, 96.19it/s]\n",
      " 34%|███▍      | 30/87 [00:00<00:00, 93.86it/s]\n",
      " 46%|████▌     | 40/87 [00:00<00:00, 94.28it/s]\n",
      " 57%|█████▋    | 50/87 [00:00<00:00, 95.29it/s]\n",
      " 70%|███████   | 61/87 [00:00<00:00, 96.65it/s]\n",
      " 82%|████████▏ | 71/87 [00:00<00:00, 96.40it/s]\n",
      "  0%|          | 0/25 [00:00<?, ?it/s]\n",
      "100%|██████████| 25/25 [00:00<00:00, 170.07it/s]\n",
      "  0%|          | 0/87 [00:00<?, ?it/s]\n",
      " 11%|█▏        | 10/87 [00:00<00:00, 94.83it/s]\n"
     ]
    },
    {
     "name": "stdout",
     "output_type": "stream",
     "text": [
      "\u001b[2m\u001b[36m(func pid=21744)\u001b[0m \n",
      "\u001b[2m\u001b[36m(func pid=21744)\u001b[0m Epoch 142\n"
     ]
    },
    {
     "name": "stderr",
     "output_type": "stream",
     "text": [
      " 23%|██▎       | 20/87 [00:00<00:00, 96.20it/s]\n",
      " 34%|███▍      | 30/87 [00:00<00:00, 95.59it/s]\n",
      " 46%|████▌     | 40/87 [00:00<00:00, 96.62it/s]\n",
      " 57%|█████▋    | 50/87 [00:00<00:00, 97.11it/s]\n",
      " 69%|██████▉   | 60/87 [00:00<00:00, 97.18it/s]\n",
      " 80%|████████  | 70/87 [00:00<00:00, 96.51it/s]\n",
      "100%|██████████| 87/87 [00:00<00:00, 96.76it/s]\n",
      "  0%|          | 0/25 [00:00<?, ?it/s]\n",
      " 64%|██████▍   | 16/25 [00:00<00:00, 154.75it/s]\n",
      "100%|██████████| 25/25 [00:00<00:00, 105.47it/s]\n",
      "  0%|          | 0/87 [00:00<?, ?it/s]\n",
      " 11%|█▏        | 10/87 [00:00<00:00, 91.91it/s]\n"
     ]
    },
    {
     "name": "stdout",
     "output_type": "stream",
     "text": [
      "\u001b[2m\u001b[36m(func pid=21744)\u001b[0m \n",
      "\u001b[2m\u001b[36m(func pid=21744)\u001b[0m Epoch 143\n"
     ]
    },
    {
     "name": "stderr",
     "output_type": "stream",
     "text": [
      " 23%|██▎       | 20/87 [00:00<00:00, 95.76it/s]\n",
      " 34%|███▍      | 30/87 [00:00<00:00, 95.98it/s]\n",
      " 46%|████▌     | 40/87 [00:00<00:00, 95.81it/s]\n",
      " 57%|█████▋    | 50/87 [00:00<00:00, 94.27it/s]\n",
      " 69%|██████▉   | 60/87 [00:00<00:00, 93.01it/s]\n",
      " 80%|████████  | 70/87 [00:00<00:00, 89.95it/s]\n",
      "100%|██████████| 87/87 [00:00<00:00, 90.95it/s]\n",
      "  0%|          | 0/25 [00:00<?, ?it/s]\n",
      "  0%|          | 0/87 [00:00<?, ?it/s]\n",
      "  9%|▉         | 8/87 [00:00<00:01, 73.18it/s]\n"
     ]
    },
    {
     "name": "stdout",
     "output_type": "stream",
     "text": [
      "\u001b[2m\u001b[36m(func pid=21744)\u001b[0m \n",
      "\u001b[2m\u001b[36m(func pid=21744)\u001b[0m Epoch 144\n"
     ]
    },
    {
     "name": "stderr",
     "output_type": "stream",
     "text": [
      " 20%|█▉        | 17/87 [00:00<00:00, 81.42it/s]\n",
      " 30%|██▉       | 26/87 [00:00<00:00, 85.14it/s]\n",
      " 40%|████      | 35/87 [00:00<00:00, 84.15it/s]\n",
      " 51%|█████     | 44/87 [00:00<00:00, 82.48it/s]\n",
      " 61%|██████    | 53/87 [00:00<00:00, 81.53it/s]\n",
      " 72%|███████▏  | 63/87 [00:00<00:00, 84.22it/s]\n",
      " 84%|████████▍ | 73/87 [00:00<00:00, 87.52it/s]\n",
      "100%|██████████| 87/87 [00:01<00:00, 85.70it/s]\n",
      "  0%|          | 0/25 [00:00<?, ?it/s]\n",
      "100%|██████████| 25/25 [00:00<00:00, 169.98it/s]\n",
      "  0%|          | 0/87 [00:00<?, ?it/s]\n",
      " 10%|█         | 9/87 [00:00<00:00, 89.16it/s]\n"
     ]
    },
    {
     "name": "stdout",
     "output_type": "stream",
     "text": [
      "\u001b[2m\u001b[36m(func pid=21744)\u001b[0m \n",
      "\u001b[2m\u001b[36m(func pid=21744)\u001b[0m Epoch 145\n"
     ]
    },
    {
     "name": "stderr",
     "output_type": "stream",
     "text": [
      " 22%|██▏       | 19/87 [00:00<00:00, 90.24it/s]\n",
      " 33%|███▎      | 29/87 [00:00<00:00, 90.92it/s]\n",
      " 45%|████▍     | 39/87 [00:00<00:00, 91.19it/s]\n",
      " 56%|█████▋    | 49/87 [00:00<00:00, 91.74it/s]\n",
      " 68%|██████▊   | 59/87 [00:00<00:00, 88.45it/s]\n",
      " 79%|███████▉  | 69/87 [00:00<00:00, 88.97it/s]\n",
      "100%|██████████| 87/87 [00:00<00:00, 89.88it/s]\n",
      "  0%|          | 0/25 [00:00<?, ?it/s]\n",
      "100%|██████████| 25/25 [00:00<00:00, 113.26it/s]\n",
      "  0%|          | 0/87 [00:00<?, ?it/s]\n"
     ]
    },
    {
     "name": "stdout",
     "output_type": "stream",
     "text": [
      "\u001b[2m\u001b[36m(func pid=21744)\u001b[0m \n",
      "\u001b[2m\u001b[36m(func pid=21744)\u001b[0m Epoch 146\n"
     ]
    },
    {
     "name": "stderr",
     "output_type": "stream",
     "text": [
      " 10%|█         | 9/87 [00:00<00:00, 89.77it/s]\n",
      " 22%|██▏       | 19/87 [00:00<00:00, 90.54it/s]\n",
      " 33%|███▎      | 29/87 [00:00<00:00, 91.58it/s]\n",
      " 45%|████▍     | 39/87 [00:00<00:00, 92.57it/s]\n",
      " 56%|█████▋    | 49/87 [00:00<00:00, 92.33it/s]\n",
      " 68%|██████▊   | 59/87 [00:00<00:00, 90.40it/s]\n",
      " 79%|███████▉  | 69/87 [00:00<00:00, 88.41it/s]\n",
      " 90%|████████▉ | 78/87 [00:00<00:00, 88.66it/s]\n",
      "100%|██████████| 87/87 [00:00<00:00, 89.78it/s]\n",
      "  0%|          | 0/25 [00:00<?, ?it/s]\n",
      " 68%|██████▊   | 17/25 [00:00<00:00, 168.36it/s]\n",
      "100%|██████████| 25/25 [00:00<00:00, 170.29it/s]\n",
      "  0%|          | 0/87 [00:00<?, ?it/s]\n",
      " 11%|█▏        | 10/87 [00:00<00:00, 94.34it/s]\n"
     ]
    },
    {
     "name": "stdout",
     "output_type": "stream",
     "text": [
      "\u001b[2m\u001b[36m(func pid=21744)\u001b[0m \n",
      "\u001b[2m\u001b[36m(func pid=21744)\u001b[0m Epoch 147\n"
     ]
    },
    {
     "name": "stderr",
     "output_type": "stream",
     "text": [
      " 23%|██▎       | 20/87 [00:00<00:00, 94.93it/s]\n",
      " 34%|███▍      | 30/87 [00:00<00:00, 87.83it/s]\n",
      " 45%|████▍     | 39/87 [00:00<00:00, 86.15it/s]\n",
      " 55%|█████▌    | 48/87 [00:00<00:00, 85.37it/s]\n",
      " 66%|██████▌   | 57/87 [00:00<00:00, 85.24it/s]\n",
      " 76%|███████▌  | 66/87 [00:00<00:00, 86.12it/s]\n",
      " 87%|████████▋ | 76/87 [00:00<00:00, 89.31it/s]\n",
      "100%|██████████| 87/87 [00:00<00:00, 89.14it/s]\n",
      "  0%|          | 0/25 [00:00<?, ?it/s]\n",
      "  0%|          | 0/87 [00:00<?, ?it/s]\n",
      " 11%|█▏        | 10/87 [00:00<00:00, 91.20it/s]\n"
     ]
    },
    {
     "name": "stdout",
     "output_type": "stream",
     "text": [
      "\u001b[2m\u001b[36m(func pid=21744)\u001b[0m \n",
      "\u001b[2m\u001b[36m(func pid=21744)\u001b[0m Epoch 148\n"
     ]
    },
    {
     "name": "stderr",
     "output_type": "stream",
     "text": [
      " 23%|██▎       | 20/87 [00:00<00:00, 83.98it/s]\n",
      " 34%|███▍      | 30/87 [00:00<00:00, 87.72it/s]\n",
      " 46%|████▌     | 40/87 [00:00<00:00, 90.85it/s]\n",
      " 57%|█████▋    | 50/87 [00:00<00:00, 93.15it/s]\n",
      " 69%|██████▉   | 60/87 [00:00<00:00, 94.70it/s]\n",
      " 80%|████████  | 70/87 [00:00<00:00, 95.60it/s]\n",
      "100%|██████████| 87/87 [00:00<00:00, 93.92it/s]\n",
      "  0%|          | 0/25 [00:00<?, ?it/s]\n",
      " 44%|████▍     | 11/25 [00:00<00:00, 81.73it/s]\n",
      "100%|██████████| 25/25 [00:00<00:00, 120.06it/s]\n",
      "  0%|          | 0/87 [00:00<?, ?it/s]\n",
      " 11%|█▏        | 10/87 [00:00<00:00, 97.88it/s]\n"
     ]
    },
    {
     "name": "stdout",
     "output_type": "stream",
     "text": [
      "\u001b[2m\u001b[36m(func pid=21744)\u001b[0m \n",
      "\u001b[2m\u001b[36m(func pid=21744)\u001b[0m Epoch 149\n"
     ]
    },
    {
     "name": "stderr",
     "output_type": "stream",
     "text": [
      " 23%|██▎       | 20/87 [00:00<00:00, 97.16it/s]\n",
      " 34%|███▍      | 30/87 [00:00<00:00, 96.52it/s]\n",
      " 46%|████▌     | 40/87 [00:00<00:00, 95.21it/s]\n",
      " 57%|█████▋    | 50/87 [00:00<00:00, 90.53it/s]\n",
      " 69%|██████▉   | 60/87 [00:00<00:00, 88.76it/s]\n",
      " 79%|███████▉  | 69/87 [00:00<00:00, 87.57it/s]\n",
      " 91%|█████████ | 79/87 [00:00<00:00, 90.19it/s]\n",
      "100%|██████████| 87/87 [00:00<00:00, 91.85it/s]\n",
      "  0%|          | 0/25 [00:00<?, ?it/s]\n",
      " 76%|███████▌  | 19/25 [00:00<00:00, 183.30it/s]\n",
      "100%|██████████| 25/25 [00:00<00:00, 185.38it/s]\n",
      "  0%|          | 0/87 [00:00<?, ?it/s]\n",
      " 11%|█▏        | 10/87 [00:00<00:00, 96.35it/s]\n"
     ]
    },
    {
     "name": "stdout",
     "output_type": "stream",
     "text": [
      "\u001b[2m\u001b[36m(func pid=21744)\u001b[0m \n",
      "\u001b[2m\u001b[36m(func pid=21744)\u001b[0m Epoch 150\n"
     ]
    },
    {
     "name": "stderr",
     "output_type": "stream",
     "text": [
      " 23%|██▎       | 20/87 [00:00<00:00, 97.55it/s]\n",
      " 34%|███▍      | 30/87 [00:00<00:00, 97.54it/s]\n",
      " 46%|████▌     | 40/87 [00:00<00:00, 97.37it/s]\n",
      " 57%|█████▋    | 50/87 [00:00<00:00, 96.69it/s]\n",
      " 69%|██████▉   | 60/87 [00:00<00:00, 96.46it/s]\n",
      " 80%|████████  | 70/87 [00:00<00:00, 96.97it/s]\n",
      " 92%|█████████▏| 80/87 [00:00<00:00, 97.61it/s]\n",
      "100%|██████████| 87/87 [00:00<00:00, 97.03it/s]\n",
      "  0%|          | 0/25 [00:00<?, ?it/s]\n",
      "100%|██████████| 25/25 [00:00<00:00, 187.39it/s]\n",
      "100%|██████████| 13/13 [00:00<00:00, 192.37it/s]\n"
     ]
    },
    {
     "name": "stdout",
     "output_type": "stream",
     "text": [
      "\u001b[2m\u001b[36m(func pid=21744)\u001b[0m \n",
      "\u001b[2m\u001b[36m(func pid=21744)\u001b[0m Evaluating the model:\n",
      "\u001b[2m\u001b[36m(func pid=21744)\u001b[0m test loss: 0.8706954797287961\n"
     ]
    },
    {
     "name": "stderr",
     "output_type": "stream",
     "text": [
      "2023-03-24 17:57:46,209\tERROR trial_runner.py:1088 -- Trial train_model_0a8f8_00003: Error processing event.\n",
      "ray.exceptions.RayTaskError(RuntimeError): \u001b[36mray::ImplicitFunc.train()\u001b[39m (pid=21744, ip=127.0.0.1, repr=func)\n",
      "  File \"python\\ray\\_raylet.pyx\", line 830, in ray._raylet.execute_task\n",
      "  File \"python\\ray\\_raylet.pyx\", line 834, in ray._raylet.execute_task\n",
      "  File \"python\\ray\\_raylet.pyx\", line 780, in ray._raylet.execute_task.function_executor\n",
      "  File \"c:\\Code\\hydro-ml\\my_env\\lib\\site-packages\\ray\\_private\\function_manager.py\", line 674, in actor_method_executor\n",
      "    return method(__ray_actor, *args, **kwargs)\n",
      "  File \"c:\\Code\\hydro-ml\\my_env\\lib\\site-packages\\ray\\util\\tracing\\tracing_helper.py\", line 466, in _resume_span\n",
      "    return method(self, *_args, **_kwargs)\n",
      "  File \"c:\\Code\\hydro-ml\\my_env\\lib\\site-packages\\ray\\tune\\trainable\\trainable.py\", line 367, in train\n",
      "    raise skipped from exception_cause(skipped)\n",
      "  File \"c:\\Code\\hydro-ml\\my_env\\lib\\site-packages\\ray\\tune\\trainable\\function_trainable.py\", line 338, in entrypoint\n",
      "    self._status_reporter.get_checkpoint(),\n",
      "  File \"c:\\Code\\hydro-ml\\my_env\\lib\\site-packages\\ray\\util\\tracing\\tracing_helper.py\", line 466, in _resume_span\n",
      "    return method(self, *_args, **_kwargs)\n",
      "  File \"c:\\Code\\hydro-ml\\my_env\\lib\\site-packages\\ray\\tune\\trainable\\function_trainable.py\", line 652, in _trainable_func\n",
      "    output = fn()\n",
      "  File \"C:\\Users\\magnu\\AppData\\Local\\Temp\\ipykernel_13080\\3814535183.py\", line 128, in train_model\n",
      "  File \"c:\\Code\\hydro-ml\\my_env\\lib\\site-packages\\torch\\serialization.py\", line 422, in save\n",
      "    with _open_zipfile_writer(f) as opened_zipfile:\n",
      "  File \"c:\\Code\\hydro-ml\\my_env\\lib\\site-packages\\torch\\serialization.py\", line 309, in _open_zipfile_writer\n",
      "    return container(name_or_buffer)\n",
      "  File \"c:\\Code\\hydro-ml\\my_env\\lib\\site-packages\\torch\\serialization.py\", line 287, in __init__\n",
      "    super(_open_zipfile_writer_file, self).__init__(torch._C.PyTorchFileWriter(str(name)))\n",
      "RuntimeError: File c:\\Code\\hydro-ml\\./model_weights/Test_of_interface_0/mlflow_experiment_id-0_target_variable-Q_Kalltveit_arch-LSTMTemporalAttention_sequence_length-25_num_epochs-150_num_layers-4_lr-0.00019432259610784616_weigth_decay-0.0001_batch_size-512_hidden_size-64_variables-NedbørNilsebu.pth cannot be opened.\n",
      "  0%|          | 0/87 [00:00<?, ?it/s]\n"
     ]
    },
    {
     "name": "stdout",
     "output_type": "stream",
     "text": [
      "\u001b[2m\u001b[36m(func pid=10192)\u001b[0m \n",
      "\u001b[2m\u001b[36m(func pid=10192)\u001b[0m Epoch 1\n"
     ]
    },
    {
     "name": "stderr",
     "output_type": "stream",
     "text": [
      "  1%|          | 1/87 [00:00<00:23,  3.71it/s]\n",
      " 11%|█▏        | 10/87 [00:00<00:02, 33.07it/s]\n",
      " 23%|██▎       | 20/87 [00:00<00:01, 53.08it/s]\n",
      " 34%|███▍      | 30/87 [00:00<00:00, 66.86it/s]\n",
      " 47%|████▋     | 41/87 [00:00<00:00, 79.05it/s]\n",
      " 60%|█████▉    | 52/87 [00:00<00:00, 87.11it/s]\n",
      " 72%|███████▏  | 63/87 [00:00<00:00, 92.40it/s]\n",
      " 84%|████████▍ | 73/87 [00:01<00:00, 93.63it/s]\n",
      "  0%|          | 0/25 [00:00<?, ?it/s]\n",
      " 76%|███████▌  | 19/25 [00:00<00:00, 179.54it/s]\n",
      "100%|██████████| 25/25 [00:00<00:00, 106.48it/s]\n",
      "  0%|          | 0/87 [00:00<?, ?it/s]\n",
      " 13%|█▎        | 11/87 [00:00<00:00, 102.51it/s]\n"
     ]
    },
    {
     "name": "stdout",
     "output_type": "stream",
     "text": [
      "\u001b[2m\u001b[36m(func pid=10192)\u001b[0m \n",
      "\u001b[2m\u001b[36m(func pid=10192)\u001b[0m Epoch 2\n"
     ]
    },
    {
     "name": "stderr",
     "output_type": "stream",
     "text": [
      " 25%|██▌       | 22/87 [00:00<00:00, 102.11it/s]\n",
      " 38%|███▊      | 33/87 [00:00<00:00, 101.56it/s]\n",
      " 51%|█████     | 44/87 [00:00<00:00, 101.65it/s]\n",
      " 63%|██████▎   | 55/87 [00:00<00:00, 102.81it/s]\n",
      " 76%|███████▌  | 66/87 [00:00<00:00, 103.56it/s]\n",
      " 89%|████████▊ | 77/87 [00:00<00:00, 103.43it/s]\n",
      "100%|██████████| 87/87 [00:00<00:00, 103.27it/s]\n",
      "  0%|          | 0/25 [00:00<?, ?it/s]\n",
      "100%|██████████| 25/25 [00:00<00:00, 187.89it/s]\n",
      "  0%|          | 0/87 [00:00<?, ?it/s]\n",
      " 13%|█▎        | 11/87 [00:00<00:00, 104.02it/s]\n"
     ]
    },
    {
     "name": "stdout",
     "output_type": "stream",
     "text": [
      "\u001b[2m\u001b[36m(func pid=10192)\u001b[0m \n",
      "\u001b[2m\u001b[36m(func pid=10192)\u001b[0m Epoch 3\n"
     ]
    },
    {
     "name": "stderr",
     "output_type": "stream",
     "text": [
      " 25%|██▌       | 22/87 [00:00<00:00, 104.89it/s]\n",
      " 38%|███▊      | 33/87 [00:00<00:00, 103.52it/s]\n",
      " 51%|█████     | 44/87 [00:00<00:00, 104.24it/s]\n",
      " 63%|██████▎   | 55/87 [00:00<00:00, 104.49it/s]\n",
      " 76%|███████▌  | 66/87 [00:00<00:00, 104.98it/s]\n",
      " 89%|████████▊ | 77/87 [00:00<00:00, 104.70it/s]\n",
      "100%|██████████| 87/87 [00:00<00:00, 104.56it/s]\n",
      "  0%|          | 0/25 [00:00<?, ?it/s]\n",
      "100%|██████████| 25/25 [00:00<00:00, 188.45it/s]\n",
      "  0%|          | 0/87 [00:00<?, ?it/s]\n",
      " 13%|█▎        | 11/87 [00:00<00:00, 101.06it/s]\n"
     ]
    },
    {
     "name": "stdout",
     "output_type": "stream",
     "text": [
      "\u001b[2m\u001b[36m(func pid=10192)\u001b[0m \n",
      "\u001b[2m\u001b[36m(func pid=10192)\u001b[0m Epoch 4\n"
     ]
    },
    {
     "name": "stderr",
     "output_type": "stream",
     "text": [
      " 25%|██▌       | 22/87 [00:00<00:00, 101.44it/s]\n",
      " 38%|███▊      | 33/87 [00:00<00:00, 99.87it/s] \n",
      " 49%|████▉     | 43/87 [00:00<00:00, 99.88it/s]\n",
      " 61%|██████    | 53/87 [00:00<00:00, 98.98it/s]\n",
      " 72%|███████▏  | 63/87 [00:00<00:00, 94.65it/s]\n",
      " 84%|████████▍ | 73/87 [00:00<00:00, 92.03it/s]\n",
      " 95%|█████████▌| 83/87 [00:00<00:00, 89.86it/s]\n",
      "100%|██████████| 87/87 [00:00<00:00, 94.14it/s]\n",
      "  0%|          | 0/25 [00:00<?, ?it/s]\n",
      "100%|██████████| 25/25 [00:00<00:00, 116.21it/s]\n",
      "  0%|          | 0/87 [00:00<?, ?it/s]\n",
      " 10%|█         | 9/87 [00:00<00:00, 89.83it/s]\n"
     ]
    },
    {
     "name": "stdout",
     "output_type": "stream",
     "text": [
      "\u001b[2m\u001b[36m(func pid=10192)\u001b[0m \n",
      "\u001b[2m\u001b[36m(func pid=10192)\u001b[0m Epoch 5\n"
     ]
    },
    {
     "name": "stderr",
     "output_type": "stream",
     "text": [
      " 21%|██        | 18/87 [00:00<00:00, 87.97it/s]\n",
      " 32%|███▏      | 28/87 [00:00<00:00, 91.82it/s]\n",
      " 44%|████▎     | 38/87 [00:00<00:00, 92.99it/s]\n",
      " 55%|█████▌    | 48/87 [00:00<00:00, 94.83it/s]\n",
      " 67%|██████▋   | 58/87 [00:00<00:00, 95.86it/s]\n",
      " 78%|███████▊  | 68/87 [00:00<00:00, 95.61it/s]\n",
      "100%|██████████| 87/87 [00:00<00:00, 94.97it/s]\n",
      "  0%|          | 0/25 [00:00<?, ?it/s]\n",
      "100%|██████████| 25/25 [00:00<00:00, 172.59it/s]\n",
      "  0%|          | 0/87 [00:00<?, ?it/s]\n",
      " 11%|█▏        | 10/87 [00:00<00:00, 98.88it/s]\n"
     ]
    },
    {
     "name": "stdout",
     "output_type": "stream",
     "text": [
      "\u001b[2m\u001b[36m(func pid=10192)\u001b[0m \n",
      "\u001b[2m\u001b[36m(func pid=10192)\u001b[0m Epoch 6\n"
     ]
    },
    {
     "name": "stderr",
     "output_type": "stream",
     "text": [
      " 24%|██▍       | 21/87 [00:00<00:00, 100.09it/s]\n",
      " 37%|███▋      | 32/87 [00:00<00:00, 98.36it/s] \n",
      " 48%|████▊     | 42/87 [00:00<00:00, 98.23it/s]\n",
      " 60%|█████▉    | 52/87 [00:00<00:00, 98.09it/s]\n",
      " 72%|███████▏  | 63/87 [00:00<00:00, 98.80it/s]\n",
      " 85%|████████▌ | 74/87 [00:00<00:00, 100.28it/s]\n",
      "  0%|          | 0/25 [00:00<?, ?it/s]\n",
      "100%|██████████| 25/25 [00:00<00:00, 181.13it/s]\n",
      "  0%|          | 0/87 [00:00<?, ?it/s]\n",
      " 13%|█▎        | 11/87 [00:00<00:00, 102.35it/s]\n"
     ]
    },
    {
     "name": "stdout",
     "output_type": "stream",
     "text": [
      "\u001b[2m\u001b[36m(func pid=10192)\u001b[0m \n",
      "\u001b[2m\u001b[36m(func pid=10192)\u001b[0m Epoch 7\n"
     ]
    },
    {
     "name": "stderr",
     "output_type": "stream",
     "text": [
      " 25%|██▌       | 22/87 [00:00<00:00, 103.22it/s]\n",
      " 38%|███▊      | 33/87 [00:00<00:00, 100.91it/s]\n",
      " 51%|█████     | 44/87 [00:00<00:00, 101.90it/s]\n",
      " 63%|██████▎   | 55/87 [00:00<00:00, 101.25it/s]\n",
      " 76%|███████▌  | 66/87 [00:00<00:00, 101.21it/s]\n",
      " 89%|████████▊ | 77/87 [00:00<00:00, 101.74it/s]\n",
      "100%|██████████| 87/87 [00:00<00:00, 101.93it/s]\n",
      "  0%|          | 0/25 [00:00<?, ?it/s]\n",
      " 64%|██████▍   | 16/25 [00:00<00:00, 98.06it/s]\n",
      "100%|██████████| 25/25 [00:00<00:00, 118.45it/s]\n",
      "  0%|          | 0/87 [00:00<?, ?it/s]\n",
      " 13%|█▎        | 11/87 [00:00<00:00, 101.06it/s]\n"
     ]
    },
    {
     "name": "stdout",
     "output_type": "stream",
     "text": [
      "\u001b[2m\u001b[36m(func pid=10192)\u001b[0m \n",
      "\u001b[2m\u001b[36m(func pid=10192)\u001b[0m Epoch 8\n"
     ]
    },
    {
     "name": "stderr",
     "output_type": "stream",
     "text": [
      " 25%|██▌       | 22/87 [00:00<00:00, 101.42it/s]\n",
      " 38%|███▊      | 33/87 [00:00<00:00, 95.65it/s] \n",
      " 49%|████▉     | 43/87 [00:00<00:00, 97.22it/s]\n",
      " 61%|██████    | 53/87 [00:00<00:00, 97.19it/s]\n",
      " 72%|███████▏  | 63/87 [00:00<00:00, 92.27it/s]\n",
      " 84%|████████▍ | 73/87 [00:00<00:00, 88.97it/s]\n",
      " 94%|█████████▍| 82/87 [00:00<00:00, 88.25it/s]\n",
      "100%|██████████| 87/87 [00:00<00:00, 92.46it/s]\n",
      "  0%|          | 0/25 [00:00<?, ?it/s]\n",
      "100%|██████████| 25/25 [00:00<00:00, 182.03it/s]\n",
      "  0%|          | 0/87 [00:00<?, ?it/s]\n",
      " 13%|█▎        | 11/87 [00:00<00:00, 104.52it/s]\n"
     ]
    },
    {
     "name": "stdout",
     "output_type": "stream",
     "text": [
      "\u001b[2m\u001b[36m(func pid=10192)\u001b[0m \n",
      "\u001b[2m\u001b[36m(func pid=10192)\u001b[0m Epoch 9\n"
     ]
    },
    {
     "name": "stderr",
     "output_type": "stream",
     "text": [
      " 25%|██▌       | 22/87 [00:00<00:00, 104.70it/s]\n",
      " 38%|███▊      | 33/87 [00:00<00:00, 104.71it/s]\n",
      " 51%|█████     | 44/87 [00:00<00:00, 103.17it/s]\n",
      " 63%|██████▎   | 55/87 [00:00<00:00, 101.86it/s]\n",
      " 76%|███████▌  | 66/87 [00:00<00:00, 101.90it/s]\n",
      " 89%|████████▊ | 77/87 [00:00<00:00, 102.53it/s]\n",
      " 72%|███████▏  | 18/25 [00:00<00:00, 179.52it/s]\n",
      "100%|██████████| 25/25 [00:00<00:00, 179.63it/s]\n",
      "  0%|          | 0/87 [00:00<?, ?it/s]\n",
      " 13%|█▎        | 11/87 [00:00<00:00, 100.82it/s]\n"
     ]
    },
    {
     "name": "stdout",
     "output_type": "stream",
     "text": [
      "\u001b[2m\u001b[36m(func pid=10192)\u001b[0m \n",
      "\u001b[2m\u001b[36m(func pid=10192)\u001b[0m Epoch 10\n"
     ]
    },
    {
     "name": "stderr",
     "output_type": "stream",
     "text": [
      " 25%|██▌       | 22/87 [00:00<00:00, 103.64it/s]\n",
      " 38%|███▊      | 33/87 [00:00<00:00, 103.33it/s]\n",
      " 51%|█████     | 44/87 [00:00<00:00, 101.59it/s]\n",
      " 63%|██████▎   | 55/87 [00:00<00:00, 102.31it/s]\n",
      " 76%|███████▌  | 66/87 [00:00<00:00, 102.25it/s]\n",
      " 89%|████████▊ | 77/87 [00:00<00:00, 101.73it/s]\n",
      "100%|██████████| 87/87 [00:00<00:00, 101.88it/s]\n",
      "  0%|          | 0/25 [00:00<?, ?it/s]\n",
      " 60%|██████    | 15/25 [00:00<00:00, 84.68it/s]\n",
      "100%|██████████| 25/25 [00:00<00:00, 104.16it/s]\n",
      "  0%|          | 0/87 [00:00<?, ?it/s]\n"
     ]
    },
    {
     "name": "stdout",
     "output_type": "stream",
     "text": [
      "\u001b[2m\u001b[36m(func pid=10192)\u001b[0m \n",
      "\u001b[2m\u001b[36m(func pid=10192)\u001b[0m Epoch 11\n"
     ]
    },
    {
     "name": "stderr",
     "output_type": "stream",
     "text": [
      " 10%|█         | 9/87 [00:00<00:00, 84.82it/s]\n",
      " 22%|██▏       | 19/87 [00:00<00:00, 88.89it/s]\n",
      " 33%|███▎      | 29/87 [00:00<00:00, 92.58it/s]\n",
      " 45%|████▍     | 39/87 [00:00<00:00, 95.05it/s]\n",
      " 57%|█████▋    | 50/87 [00:00<00:00, 97.59it/s]\n",
      " 70%|███████   | 61/87 [00:00<00:00, 99.06it/s]\n",
      "  0%|          | 0/25 [00:00<?, ?it/s]\n",
      "100%|██████████| 25/25 [00:00<00:00, 164.46it/s]\n",
      "  0%|          | 0/87 [00:00<?, ?it/s]\n",
      " 11%|█▏        | 10/87 [00:00<00:00, 93.49it/s]\n"
     ]
    },
    {
     "name": "stdout",
     "output_type": "stream",
     "text": [
      "\u001b[2m\u001b[36m(func pid=10192)\u001b[0m \n",
      "\u001b[2m\u001b[36m(func pid=10192)\u001b[0m Epoch 12\n"
     ]
    },
    {
     "name": "stderr",
     "output_type": "stream",
     "text": [
      " 23%|██▎       | 20/87 [00:00<00:00, 88.92it/s]\n",
      " 36%|███▌      | 31/87 [00:00<00:00, 93.51it/s]\n",
      " 48%|████▊     | 42/87 [00:00<00:00, 97.09it/s]\n",
      " 61%|██████    | 53/87 [00:00<00:00, 99.71it/s]\n",
      " 72%|███████▏  | 63/87 [00:00<00:00, 97.62it/s]\n",
      " 85%|████████▌ | 74/87 [00:00<00:00, 99.59it/s]\n",
      " 98%|█████████▊| 85/87 [00:00<00:00, 100.35it/s]\n",
      "100%|██████████| 87/87 [00:00<00:00, 98.38it/s] \n",
      "  0%|          | 0/25 [00:00<?, ?it/s]\n",
      "100%|██████████| 25/25 [00:00<00:00, 185.10it/s]\n",
      "  0%|          | 0/87 [00:00<?, ?it/s]\n",
      " 13%|█▎        | 11/87 [00:00<00:00, 103.67it/s]\n"
     ]
    },
    {
     "name": "stdout",
     "output_type": "stream",
     "text": [
      "\u001b[2m\u001b[36m(func pid=10192)\u001b[0m \n",
      "\u001b[2m\u001b[36m(func pid=10192)\u001b[0m Epoch 13\n"
     ]
    },
    {
     "name": "stderr",
     "output_type": "stream",
     "text": [
      " 25%|██▌       | 22/87 [00:00<00:00, 104.86it/s]\n",
      " 38%|███▊      | 33/87 [00:00<00:00, 103.95it/s]\n",
      " 51%|█████     | 44/87 [00:00<00:00, 103.93it/s]\n",
      " 63%|██████▎   | 55/87 [00:00<00:00, 103.02it/s]\n",
      " 76%|███████▌  | 66/87 [00:00<00:00, 102.41it/s]\n",
      " 89%|████████▊ | 77/87 [00:00<00:00, 97.85it/s] \n",
      "100%|██████████| 87/87 [00:00<00:00, 99.32it/s]\n",
      "  0%|          | 0/25 [00:00<?, ?it/s]\n",
      " 32%|███▏      | 8/25 [00:00<00:00, 63.11it/s]\n",
      "100%|██████████| 25/25 [00:00<00:00, 107.80it/s]\n",
      "  0%|          | 0/87 [00:00<?, ?it/s]\n",
      " 11%|█▏        | 10/87 [00:00<00:00, 93.42it/s]\n"
     ]
    },
    {
     "name": "stdout",
     "output_type": "stream",
     "text": [
      "\u001b[2m\u001b[36m(func pid=10192)\u001b[0m \n",
      "\u001b[2m\u001b[36m(func pid=10192)\u001b[0m Epoch 14\n"
     ]
    },
    {
     "name": "stderr",
     "output_type": "stream",
     "text": [
      " 23%|██▎       | 20/87 [00:00<00:00, 93.00it/s]\n",
      " 34%|███▍      | 30/87 [00:00<00:00, 92.65it/s]\n",
      " 46%|████▌     | 40/87 [00:00<00:00, 91.38it/s]\n",
      " 57%|█████▋    | 50/87 [00:00<00:00, 93.31it/s]\n",
      " 69%|██████▉   | 60/87 [00:00<00:00, 95.18it/s]\n",
      " 80%|████████  | 70/87 [00:00<00:00, 96.32it/s]\n",
      " 93%|█████████▎| 81/87 [00:00<00:00, 97.62it/s]\n",
      "100%|██████████| 87/87 [00:00<00:00, 95.85it/s]\n",
      "  0%|          | 0/25 [00:00<?, ?it/s]\n",
      " 72%|███████▏  | 18/25 [00:00<00:00, 176.14it/s]\n",
      "100%|██████████| 25/25 [00:00<00:00, 179.84it/s]\n",
      "  0%|          | 0/87 [00:00<?, ?it/s]\n",
      " 10%|█         | 9/87 [00:00<00:00, 87.02it/s]\n"
     ]
    },
    {
     "name": "stdout",
     "output_type": "stream",
     "text": [
      "\u001b[2m\u001b[36m(func pid=10192)\u001b[0m \n",
      "\u001b[2m\u001b[36m(func pid=10192)\u001b[0m Epoch 15\n"
     ]
    },
    {
     "name": "stderr",
     "output_type": "stream",
     "text": [
      " 21%|██        | 18/87 [00:00<00:00, 87.41it/s]\n",
      " 33%|███▎      | 29/87 [00:00<00:00, 93.64it/s]\n",
      " 45%|████▍     | 39/87 [00:00<00:00, 94.03it/s]\n",
      " 56%|█████▋    | 49/87 [00:00<00:00, 95.73it/s]\n",
      " 69%|██████▉   | 60/87 [00:00<00:00, 97.19it/s]\n",
      " 80%|████████  | 70/87 [00:00<00:00, 97.48it/s]\n",
      "100%|██████████| 87/87 [00:00<00:00, 95.13it/s]\n",
      "  0%|          | 0/25 [00:00<?, ?it/s]\n",
      "100%|██████████| 25/25 [00:00<00:00, 180.93it/s]\n",
      "  0%|          | 0/87 [00:00<?, ?it/s]\n",
      " 11%|█▏        | 10/87 [00:00<00:00, 95.02it/s]\n"
     ]
    },
    {
     "name": "stdout",
     "output_type": "stream",
     "text": [
      "\u001b[2m\u001b[36m(func pid=10192)\u001b[0m \n",
      "\u001b[2m\u001b[36m(func pid=10192)\u001b[0m Epoch 16\n"
     ]
    },
    {
     "name": "stderr",
     "output_type": "stream",
     "text": [
      " 23%|██▎       | 20/87 [00:00<00:00, 92.65it/s]\n",
      " 36%|███▌      | 31/87 [00:00<00:00, 96.85it/s]\n",
      " 48%|████▊     | 42/87 [00:00<00:00, 98.49it/s]\n",
      " 61%|██████    | 53/87 [00:00<00:00, 99.99it/s]\n",
      " 74%|███████▎  | 64/87 [00:00<00:00, 99.41it/s]\n",
      " 85%|████████▌ | 74/87 [00:00<00:00, 98.93it/s]\n",
      "  0%|          | 0/25 [00:00<?, ?it/s]\n",
      " 64%|██████▍   | 16/25 [00:00<00:00, 150.81it/s]\n",
      "100%|██████████| 25/25 [00:00<00:00, 107.18it/s]\n",
      " 13%|█▎        | 11/87 [00:00<00:00, 106.38it/s]\n"
     ]
    },
    {
     "name": "stdout",
     "output_type": "stream",
     "text": [
      "\u001b[2m\u001b[36m(func pid=10192)\u001b[0m \n",
      "\u001b[2m\u001b[36m(func pid=10192)\u001b[0m Epoch 17\n"
     ]
    },
    {
     "name": "stderr",
     "output_type": "stream",
     "text": [
      " 25%|██▌       | 22/87 [00:00<00:00, 100.36it/s]\n",
      " 38%|███▊      | 33/87 [00:00<00:00, 97.33it/s] \n",
      " 51%|█████     | 44/87 [00:00<00:00, 99.03it/s]\n",
      " 62%|██████▏   | 54/87 [00:00<00:00, 97.45it/s]\n",
      " 75%|███████▍  | 65/87 [00:00<00:00, 99.80it/s]\n",
      " 87%|████████▋ | 76/87 [00:00<00:00, 102.07it/s]\n",
      "100%|██████████| 87/87 [00:00<00:00, 101.46it/s]\n",
      " 72%|███████▏  | 18/25 [00:00<00:00, 176.07it/s]\n",
      "100%|██████████| 25/25 [00:00<00:00, 169.48it/s]\n",
      "  0%|          | 0/87 [00:00<?, ?it/s]\n"
     ]
    },
    {
     "name": "stdout",
     "output_type": "stream",
     "text": [
      "\u001b[2m\u001b[36m(func pid=10192)\u001b[0m \n",
      "\u001b[2m\u001b[36m(func pid=10192)\u001b[0m Epoch 18\n"
     ]
    },
    {
     "name": "stderr",
     "output_type": "stream",
     "text": [
      " 13%|█▎        | 11/87 [00:00<00:00, 101.75it/s]\n",
      " 25%|██▌       | 22/87 [00:00<00:00, 103.25it/s]\n",
      " 38%|███▊      | 33/87 [00:00<00:00, 103.72it/s]\n",
      " 51%|█████     | 44/87 [00:00<00:00, 99.72it/s] \n",
      " 62%|██████▏   | 54/87 [00:00<00:00, 96.51it/s]\n",
      " 75%|███████▍  | 65/87 [00:00<00:00, 98.30it/s]\n",
      " 86%|████████▌ | 75/87 [00:00<00:00, 98.49it/s]\n",
      "100%|██████████| 87/87 [00:00<00:00, 100.32it/s]\n",
      "  0%|          | 0/25 [00:00<?, ?it/s]\n",
      "100%|██████████| 25/25 [00:00<00:00, 183.95it/s]\n",
      "  0%|          | 0/87 [00:00<?, ?it/s]\n"
     ]
    },
    {
     "name": "stdout",
     "output_type": "stream",
     "text": [
      "\u001b[2m\u001b[36m(func pid=10192)\u001b[0m \n",
      "\u001b[2m\u001b[36m(func pid=10192)\u001b[0m Epoch 19\n"
     ]
    },
    {
     "name": "stderr",
     "output_type": "stream",
     "text": [
      " 13%|█▎        | 11/87 [00:00<00:00, 101.76it/s]\n",
      " 25%|██▌       | 22/87 [00:00<00:00, 100.80it/s]\n",
      " 38%|███▊      | 33/87 [00:00<00:00, 102.16it/s]\n",
      " 51%|█████     | 44/87 [00:00<00:00, 103.07it/s]\n",
      " 63%|██████▎   | 55/87 [00:00<00:00, 101.22it/s]\n",
      " 76%|███████▌  | 66/87 [00:00<00:00, 102.11it/s]\n",
      " 64%|██████▍   | 16/25 [00:00<00:00, 157.06it/s]\n",
      "100%|██████████| 25/25 [00:00<00:00, 95.07it/s] \n",
      "  0%|          | 0/87 [00:00<?, ?it/s]\n",
      "  9%|▉         | 8/87 [00:00<00:01, 75.65it/s]\n"
     ]
    },
    {
     "name": "stdout",
     "output_type": "stream",
     "text": [
      "\u001b[2m\u001b[36m(func pid=10192)\u001b[0m \n",
      "\u001b[2m\u001b[36m(func pid=10192)\u001b[0m Epoch 20\n"
     ]
    },
    {
     "name": "stderr",
     "output_type": "stream",
     "text": [
      " 20%|█▉        | 17/87 [00:00<00:00, 83.32it/s]\n",
      " 31%|███       | 27/87 [00:00<00:00, 88.51it/s]\n",
      " 41%|████▏     | 36/87 [00:00<00:00, 88.40it/s]\n",
      " 52%|█████▏    | 45/87 [00:00<00:00, 88.63it/s]\n",
      " 62%|██████▏   | 54/87 [00:00<00:00, 87.53it/s]\n",
      " 72%|███████▏  | 63/87 [00:00<00:00, 82.80it/s]\n",
      " 83%|████████▎ | 72/87 [00:00<00:00, 84.50it/s]\n",
      "100%|██████████| 87/87 [00:01<00:00, 86.88it/s]\n",
      "  0%|          | 0/25 [00:00<?, ?it/s]\n",
      "100%|██████████| 25/25 [00:00<00:00, 172.42it/s]\n",
      "  0%|          | 0/87 [00:00<?, ?it/s]\n",
      " 10%|█         | 9/87 [00:00<00:00, 89.97it/s]\n"
     ]
    },
    {
     "name": "stdout",
     "output_type": "stream",
     "text": [
      "\u001b[2m\u001b[36m(func pid=10192)\u001b[0m \n",
      "\u001b[2m\u001b[36m(func pid=10192)\u001b[0m Epoch 21\n"
     ]
    },
    {
     "name": "stderr",
     "output_type": "stream",
     "text": [
      " 22%|██▏       | 19/87 [00:00<00:00, 94.25it/s]\n",
      " 33%|███▎      | 29/87 [00:00<00:00, 91.41it/s]\n",
      " 45%|████▍     | 39/87 [00:00<00:00, 92.81it/s]\n",
      " 56%|█████▋    | 49/87 [00:00<00:00, 91.89it/s]\n",
      " 68%|██████▊   | 59/87 [00:00<00:00, 91.26it/s]\n",
      " 79%|███████▉  | 69/87 [00:00<00:00, 92.79it/s]\n",
      " 91%|█████████ | 79/87 [00:00<00:00, 94.73it/s]\n",
      "  0%|          | 0/25 [00:00<?, ?it/s]\n",
      " 64%|██████▍   | 16/25 [00:00<00:00, 159.76it/s]\n",
      "100%|██████████| 25/25 [00:00<00:00, 161.56it/s]\n",
      "  0%|          | 0/87 [00:00<?, ?it/s]\n",
      " 11%|█▏        | 10/87 [00:00<00:00, 97.00it/s]\n"
     ]
    },
    {
     "name": "stdout",
     "output_type": "stream",
     "text": [
      "\u001b[2m\u001b[36m(func pid=10192)\u001b[0m \n",
      "\u001b[2m\u001b[36m(func pid=10192)\u001b[0m Epoch 22\n"
     ]
    },
    {
     "name": "stderr",
     "output_type": "stream",
     "text": [
      " 23%|██▎       | 20/87 [00:00<00:00, 94.82it/s]\n",
      " 34%|███▍      | 30/87 [00:00<00:00, 89.24it/s]\n",
      " 45%|████▍     | 39/87 [00:00<00:00, 89.39it/s]\n",
      " 56%|█████▋    | 49/87 [00:00<00:00, 91.69it/s]\n",
      " 68%|██████▊   | 59/87 [00:00<00:00, 90.83it/s]\n",
      " 79%|███████▉  | 69/87 [00:00<00:00, 92.61it/s]\n",
      " 91%|█████████ | 79/87 [00:00<00:00, 93.58it/s]\n",
      "100%|██████████| 87/87 [00:00<00:00, 92.08it/s]\n",
      "  0%|          | 0/25 [00:00<?, ?it/s]\n",
      " 44%|████▍     | 11/25 [00:00<00:00, 77.27it/s]\n",
      "100%|██████████| 25/25 [00:00<00:00, 110.38it/s]\n",
      "  0%|          | 0/87 [00:00<?, ?it/s]\n"
     ]
    },
    {
     "name": "stdout",
     "output_type": "stream",
     "text": [
      "\u001b[2m\u001b[36m(func pid=10192)\u001b[0m \n",
      "\u001b[2m\u001b[36m(func pid=10192)\u001b[0m Epoch 23\n"
     ]
    },
    {
     "name": "stderr",
     "output_type": "stream",
     "text": [
      " 11%|█▏        | 10/87 [00:00<00:00, 96.11it/s]\n",
      " 23%|██▎       | 20/87 [00:00<00:00, 95.89it/s]\n",
      " 34%|███▍      | 30/87 [00:00<00:00, 95.81it/s]\n",
      " 46%|████▌     | 40/87 [00:00<00:00, 94.23it/s]\n",
      " 57%|█████▋    | 50/87 [00:00<00:00, 94.25it/s]\n",
      " 69%|██████▉   | 60/87 [00:00<00:00, 94.24it/s]\n",
      "  0%|          | 0/25 [00:00<?, ?it/s]\n",
      "100%|██████████| 25/25 [00:00<00:00, 173.08it/s]\n",
      "  0%|          | 0/87 [00:00<?, ?it/s]\n",
      " 11%|█▏        | 10/87 [00:00<00:00, 91.88it/s]\n"
     ]
    },
    {
     "name": "stdout",
     "output_type": "stream",
     "text": [
      "\u001b[2m\u001b[36m(func pid=10192)\u001b[0m \n",
      "\u001b[2m\u001b[36m(func pid=10192)\u001b[0m Epoch 24\n"
     ]
    },
    {
     "name": "stderr",
     "output_type": "stream",
     "text": [
      " 23%|██▎       | 20/87 [00:00<00:00, 89.90it/s]\n",
      " 33%|███▎      | 29/87 [00:00<00:00, 88.05it/s]\n",
      " 44%|████▎     | 38/87 [00:00<00:00, 87.96it/s]\n",
      " 54%|█████▍    | 47/87 [00:00<00:00, 87.01it/s]\n",
      " 66%|██████▌   | 57/87 [00:00<00:00, 90.29it/s]\n",
      " 77%|███████▋  | 67/87 [00:00<00:00, 90.54it/s]\n",
      " 89%|████████▊ | 77/87 [00:00<00:00, 89.85it/s]\n",
      "100%|██████████| 87/87 [00:00<00:00, 90.00it/s]\n",
      "  0%|          | 0/25 [00:00<?, ?it/s]\n",
      "100%|██████████| 25/25 [00:00<00:00, 172.17it/s]\n",
      "  0%|          | 0/87 [00:00<?, ?it/s]\n"
     ]
    },
    {
     "name": "stdout",
     "output_type": "stream",
     "text": [
      "\u001b[2m\u001b[36m(func pid=10192)\u001b[0m \n",
      "\u001b[2m\u001b[36m(func pid=10192)\u001b[0m Epoch 25\n"
     ]
    },
    {
     "name": "stderr",
     "output_type": "stream",
     "text": [
      " 11%|█▏        | 10/87 [00:00<00:00, 91.89it/s]\n",
      " 23%|██▎       | 20/87 [00:00<00:00, 94.22it/s]\n",
      " 34%|███▍      | 30/87 [00:00<00:00, 94.38it/s]\n",
      " 46%|████▌     | 40/87 [00:00<00:00, 92.48it/s]\n",
      " 57%|█████▋    | 50/87 [00:00<00:00, 92.48it/s]\n",
      " 69%|██████▉   | 60/87 [00:00<00:00, 91.18it/s]\n",
      " 80%|████████  | 70/87 [00:00<00:00, 92.38it/s]\n",
      "100%|██████████| 87/87 [00:00<00:00, 91.86it/s]\n",
      "100%|██████████| 25/25 [00:00<00:00, 91.39it/s] \n",
      "  0%|          | 0/87 [00:00<?, ?it/s]\n",
      "  9%|▉         | 8/87 [00:00<00:01, 78.31it/s]\n"
     ]
    },
    {
     "name": "stdout",
     "output_type": "stream",
     "text": [
      "\u001b[2m\u001b[36m(func pid=10192)\u001b[0m \n",
      "\u001b[2m\u001b[36m(func pid=10192)\u001b[0m Epoch 26\n"
     ]
    },
    {
     "name": "stderr",
     "output_type": "stream",
     "text": [
      " 20%|█▉        | 17/87 [00:00<00:00, 82.35it/s]\n",
      " 30%|██▉       | 26/87 [00:00<00:00, 83.12it/s]\n",
      " 40%|████      | 35/87 [00:00<00:00, 85.21it/s]\n",
      " 51%|█████     | 44/87 [00:00<00:00, 81.65it/s]\n",
      " 62%|██████▏   | 54/87 [00:00<00:00, 84.56it/s]\n",
      " 74%|███████▎  | 64/87 [00:00<00:00, 87.87it/s]\n",
      " 84%|████████▍ | 73/87 [00:00<00:00, 88.43it/s]\n",
      "100%|██████████| 87/87 [00:01<00:00, 86.92it/s]\n",
      "  0%|          | 0/25 [00:00<?, ?it/s]\n",
      "100%|██████████| 25/25 [00:00<00:00, 169.11it/s]\n",
      "  0%|          | 0/87 [00:00<?, ?it/s]\n"
     ]
    },
    {
     "name": "stdout",
     "output_type": "stream",
     "text": [
      "\u001b[2m\u001b[36m(func pid=10192)\u001b[0m \n",
      "\u001b[2m\u001b[36m(func pid=10192)\u001b[0m Epoch 27\n"
     ]
    },
    {
     "name": "stderr",
     "output_type": "stream",
     "text": [
      " 11%|█▏        | 10/87 [00:00<00:00, 90.50it/s]\n",
      " 23%|██▎       | 20/87 [00:00<00:00, 91.00it/s]\n",
      " 34%|███▍      | 30/87 [00:00<00:00, 92.09it/s]\n",
      " 46%|████▌     | 40/87 [00:00<00:00, 92.55it/s]\n",
      " 57%|█████▋    | 50/87 [00:00<00:00, 90.44it/s]\n",
      " 69%|██████▉   | 60/87 [00:00<00:00, 90.94it/s]\n",
      " 80%|████████  | 70/87 [00:00<00:00, 91.21it/s]\n",
      " 92%|█████████▏| 80/87 [00:00<00:00, 91.50it/s]\n",
      "  0%|          | 0/25 [00:00<?, ?it/s]\n",
      "100%|██████████| 25/25 [00:00<00:00, 167.39it/s]\n",
      "  0%|          | 0/87 [00:00<?, ?it/s]\n",
      " 11%|█▏        | 10/87 [00:00<00:00, 92.07it/s]\n"
     ]
    },
    {
     "name": "stdout",
     "output_type": "stream",
     "text": [
      "\u001b[2m\u001b[36m(func pid=10192)\u001b[0m \n",
      "\u001b[2m\u001b[36m(func pid=10192)\u001b[0m Epoch 28\n"
     ]
    },
    {
     "name": "stderr",
     "output_type": "stream",
     "text": [
      " 23%|██▎       | 20/87 [00:00<00:00, 90.93it/s]\n",
      " 34%|███▍      | 30/87 [00:00<00:00, 90.80it/s]\n",
      " 46%|████▌     | 40/87 [00:00<00:00, 91.29it/s]\n",
      " 57%|█████▋    | 50/87 [00:00<00:00, 93.35it/s]\n",
      " 69%|██████▉   | 60/87 [00:00<00:00, 94.16it/s]\n",
      " 80%|████████  | 70/87 [00:00<00:00, 94.84it/s]\n",
      " 92%|█████████▏| 80/87 [00:00<00:00, 95.00it/s]\n",
      "100%|██████████| 87/87 [00:00<00:00, 94.10it/s]\n",
      "  0%|          | 0/25 [00:00<?, ?it/s]\n",
      "100%|██████████| 25/25 [00:00<00:00, 115.86it/s]\n",
      "  0%|          | 0/87 [00:00<?, ?it/s]\n"
     ]
    },
    {
     "name": "stdout",
     "output_type": "stream",
     "text": [
      "\u001b[2m\u001b[36m(func pid=10192)\u001b[0m \n",
      "\u001b[2m\u001b[36m(func pid=10192)\u001b[0m Epoch 29\n"
     ]
    },
    {
     "name": "stderr",
     "output_type": "stream",
     "text": [
      " 11%|█▏        | 10/87 [00:00<00:00, 91.72it/s]\n",
      " 23%|██▎       | 20/87 [00:00<00:00, 90.67it/s]\n",
      " 34%|███▍      | 30/87 [00:00<00:00, 93.51it/s]\n",
      " 46%|████▌     | 40/87 [00:00<00:00, 91.25it/s]\n",
      " 57%|█████▋    | 50/87 [00:00<00:00, 90.79it/s]\n",
      " 69%|██████▉   | 60/87 [00:00<00:00, 87.29it/s]\n",
      " 79%|███████▉  | 69/87 [00:00<00:00, 87.07it/s]\n",
      "100%|██████████| 87/87 [00:00<00:00, 90.06it/s]\n",
      "  0%|          | 0/25 [00:00<?, ?it/s]\n",
      "100%|██████████| 25/25 [00:00<00:00, 178.23it/s]\n",
      "  0%|          | 0/87 [00:00<?, ?it/s]\n",
      " 11%|█▏        | 10/87 [00:00<00:00, 94.97it/s]\n",
      " 23%|██▎       | 20/87 [00:00<00:00, 97.55it/s]\n"
     ]
    },
    {
     "name": "stdout",
     "output_type": "stream",
     "text": [
      "\u001b[2m\u001b[36m(func pid=10192)\u001b[0m \n",
      "\u001b[2m\u001b[36m(func pid=10192)\u001b[0m Epoch 30\n"
     ]
    },
    {
     "name": "stderr",
     "output_type": "stream",
     "text": [
      " 34%|███▍      | 30/87 [00:00<00:00, 96.95it/s]\n",
      " 46%|████▌     | 40/87 [00:00<00:00, 96.39it/s]\n",
      " 57%|█████▋    | 50/87 [00:00<00:00, 95.85it/s]\n",
      " 69%|██████▉   | 60/87 [00:00<00:00, 95.01it/s]\n",
      "100%|██████████| 87/87 [00:00<00:00, 96.46it/s]\n",
      "  0%|          | 0/25 [00:00<?, ?it/s]\n",
      " 68%|██████▊   | 17/25 [00:00<00:00, 166.41it/s]\n",
      "100%|██████████| 25/25 [00:00<00:00, 169.92it/s]\n",
      "  0%|          | 0/87 [00:00<?, ?it/s]\n",
      " 11%|█▏        | 10/87 [00:00<00:00, 94.77it/s]\n"
     ]
    },
    {
     "name": "stdout",
     "output_type": "stream",
     "text": [
      "\u001b[2m\u001b[36m(func pid=10192)\u001b[0m \n",
      "\u001b[2m\u001b[36m(func pid=10192)\u001b[0m Epoch 31\n"
     ]
    },
    {
     "name": "stderr",
     "output_type": "stream",
     "text": [
      " 24%|██▍       | 21/87 [00:00<00:00, 97.64it/s]\n",
      " 36%|███▌      | 31/87 [00:00<00:00, 98.04it/s]\n",
      " 47%|████▋     | 41/87 [00:00<00:00, 97.92it/s]\n",
      " 59%|█████▊    | 51/87 [00:00<00:00, 96.18it/s]\n",
      " 70%|███████   | 61/87 [00:00<00:00, 97.15it/s]\n",
      " 82%|████████▏ | 71/87 [00:00<00:00, 98.04it/s]\n",
      "100%|██████████| 87/87 [00:00<00:00, 97.92it/s]\n",
      "  0%|          | 0/25 [00:00<?, ?it/s]\n",
      "100%|██████████| 25/25 [00:00<00:00, 114.73it/s]\n",
      "  0%|          | 0/87 [00:00<?, ?it/s]\n",
      " 11%|█▏        | 10/87 [00:00<00:00, 94.57it/s]\n"
     ]
    },
    {
     "name": "stdout",
     "output_type": "stream",
     "text": [
      "\u001b[2m\u001b[36m(func pid=10192)\u001b[0m \n",
      "\u001b[2m\u001b[36m(func pid=10192)\u001b[0m Epoch 32\n"
     ]
    },
    {
     "name": "stderr",
     "output_type": "stream",
     "text": [
      " 23%|██▎       | 20/87 [00:00<00:00, 86.32it/s]\n",
      " 34%|███▍      | 30/87 [00:00<00:00, 91.69it/s]\n",
      " 46%|████▌     | 40/87 [00:00<00:00, 94.20it/s]\n",
      " 57%|█████▋    | 50/87 [00:00<00:00, 93.86it/s]\n",
      " 69%|██████▉   | 60/87 [00:00<00:00, 95.20it/s]\n",
      " 80%|████████  | 70/87 [00:00<00:00, 96.40it/s]\n",
      "100%|██████████| 87/87 [00:00<00:00, 94.56it/s]\n",
      "  0%|          | 0/25 [00:00<?, ?it/s]\n",
      "100%|██████████| 25/25 [00:00<00:00, 177.41it/s]\n",
      "  0%|          | 0/87 [00:00<?, ?it/s]\n",
      " 11%|█▏        | 10/87 [00:00<00:00, 95.57it/s]\n"
     ]
    },
    {
     "name": "stdout",
     "output_type": "stream",
     "text": [
      "\u001b[2m\u001b[36m(func pid=10192)\u001b[0m \n",
      "\u001b[2m\u001b[36m(func pid=10192)\u001b[0m Epoch 33\n"
     ]
    },
    {
     "name": "stderr",
     "output_type": "stream",
     "text": [
      " 34%|███▍      | 30/87 [00:00<00:00, 97.07it/s]\n",
      " 46%|████▌     | 40/87 [00:00<00:00, 97.84it/s]\n",
      " 57%|█████▋    | 50/87 [00:00<00:00, 97.92it/s]\n",
      " 70%|███████   | 61/87 [00:00<00:00, 98.67it/s]\n",
      " 82%|████████▏ | 71/87 [00:00<00:00, 96.75it/s]\n",
      " 93%|█████████▎| 81/87 [00:00<00:00, 97.33it/s]\n",
      "100%|██████████| 87/87 [00:00<00:00, 97.50it/s]\n",
      "  0%|          | 0/25 [00:00<?, ?it/s]\n",
      "100%|██████████| 25/25 [00:00<00:00, 177.88it/s]\n",
      "  0%|          | 0/87 [00:00<?, ?it/s]\n",
      " 11%|█▏        | 10/87 [00:00<00:00, 98.30it/s]\n"
     ]
    },
    {
     "name": "stdout",
     "output_type": "stream",
     "text": [
      "\u001b[2m\u001b[36m(func pid=10192)\u001b[0m \n",
      "\u001b[2m\u001b[36m(func pid=10192)\u001b[0m Epoch 34\n"
     ]
    },
    {
     "name": "stderr",
     "output_type": "stream",
     "text": [
      " 23%|██▎       | 20/87 [00:00<00:00, 97.76it/s]\n",
      " 34%|███▍      | 30/87 [00:00<00:00, 97.19it/s]\n",
      " 46%|████▌     | 40/87 [00:00<00:00, 93.56it/s]\n",
      " 57%|█████▋    | 50/87 [00:00<00:00, 93.37it/s]\n",
      " 69%|██████▉   | 60/87 [00:00<00:00, 95.22it/s]\n",
      " 82%|████████▏ | 71/87 [00:00<00:00, 96.88it/s]\n",
      "100%|██████████| 87/87 [00:00<00:00, 97.08it/s]\n",
      "  0%|          | 0/25 [00:00<?, ?it/s]\n",
      "100%|██████████| 25/25 [00:00<00:00, 117.82it/s]\n",
      "  0%|          | 0/87 [00:00<?, ?it/s]\n"
     ]
    },
    {
     "name": "stdout",
     "output_type": "stream",
     "text": [
      "\u001b[2m\u001b[36m(func pid=10192)\u001b[0m \n",
      "\u001b[2m\u001b[36m(func pid=10192)\u001b[0m Epoch 35\n"
     ]
    },
    {
     "name": "stderr",
     "output_type": "stream",
     "text": [
      " 13%|█▎        | 11/87 [00:00<00:00, 101.68it/s]\n",
      " 25%|██▌       | 22/87 [00:00<00:00, 99.11it/s] \n",
      " 37%|███▋      | 32/87 [00:00<00:00, 99.03it/s]\n",
      " 48%|████▊     | 42/87 [00:00<00:00, 98.35it/s]\n",
      " 60%|█████▉    | 52/87 [00:00<00:00, 97.77it/s]\n",
      " 71%|███████▏  | 62/87 [00:00<00:00, 97.94it/s]\n",
      " 83%|████████▎ | 72/87 [00:00<00:00, 98.03it/s]\n",
      "100%|██████████| 87/87 [00:00<00:00, 98.74it/s]\n",
      "  0%|          | 0/25 [00:00<?, ?it/s]\n",
      " 72%|███████▏  | 18/25 [00:00<00:00, 176.41it/s]\n",
      "100%|██████████| 25/25 [00:00<00:00, 177.82it/s]\n",
      "  0%|          | 0/87 [00:00<?, ?it/s]\n",
      " 11%|█▏        | 10/87 [00:00<00:00, 93.62it/s]\n"
     ]
    },
    {
     "name": "stdout",
     "output_type": "stream",
     "text": [
      "\u001b[2m\u001b[36m(func pid=10192)\u001b[0m \n",
      "\u001b[2m\u001b[36m(func pid=10192)\u001b[0m Epoch 36\n"
     ]
    },
    {
     "name": "stderr",
     "output_type": "stream",
     "text": [
      " 23%|██▎       | 20/87 [00:00<00:00, 93.85it/s]\n",
      " 34%|███▍      | 30/87 [00:00<00:00, 93.57it/s]\n",
      " 46%|████▌     | 40/87 [00:00<00:00, 93.72it/s]\n",
      " 57%|█████▋    | 50/87 [00:00<00:00, 93.30it/s]\n",
      " 69%|██████▉   | 60/87 [00:00<00:00, 93.66it/s]\n",
      " 80%|████████  | 70/87 [00:00<00:00, 94.45it/s]\n",
      "  0%|          | 0/25 [00:00<?, ?it/s]\n",
      "100%|██████████| 25/25 [00:00<00:00, 162.08it/s]\n",
      "  0%|          | 0/87 [00:00<?, ?it/s]\n",
      " 11%|█▏        | 10/87 [00:00<00:00, 91.97it/s]\n"
     ]
    },
    {
     "name": "stdout",
     "output_type": "stream",
     "text": [
      "\u001b[2m\u001b[36m(func pid=10192)\u001b[0m \n",
      "\u001b[2m\u001b[36m(func pid=10192)\u001b[0m Epoch 37\n"
     ]
    },
    {
     "name": "stderr",
     "output_type": "stream",
     "text": [
      " 23%|██▎       | 20/87 [00:00<00:00, 94.27it/s]\n",
      " 34%|███▍      | 30/87 [00:00<00:00, 96.40it/s]\n",
      " 46%|████▌     | 40/87 [00:00<00:00, 95.13it/s]\n",
      " 57%|█████▋    | 50/87 [00:00<00:00, 95.54it/s]\n",
      " 69%|██████▉   | 60/87 [00:00<00:00, 95.08it/s]\n",
      " 80%|████████  | 70/87 [00:00<00:00, 95.43it/s]\n",
      "100%|██████████| 87/87 [00:00<00:00, 94.90it/s]\n",
      "  0%|          | 0/25 [00:00<?, ?it/s]\n",
      " 72%|███████▏  | 18/25 [00:00<00:00, 99.97it/s]\n",
      "100%|██████████| 25/25 [00:00<00:00, 113.94it/s]\n",
      "  0%|          | 0/87 [00:00<?, ?it/s]\n",
      " 11%|█▏        | 10/87 [00:00<00:00, 96.12it/s]\n"
     ]
    },
    {
     "name": "stdout",
     "output_type": "stream",
     "text": [
      "\u001b[2m\u001b[36m(func pid=10192)\u001b[0m \n",
      "\u001b[2m\u001b[36m(func pid=10192)\u001b[0m Epoch 38\n"
     ]
    },
    {
     "name": "stderr",
     "output_type": "stream",
     "text": [
      " 23%|██▎       | 20/87 [00:00<00:00, 93.43it/s]\n",
      " 34%|███▍      | 30/87 [00:00<00:00, 94.19it/s]\n",
      " 46%|████▌     | 40/87 [00:00<00:00, 93.62it/s]\n",
      " 57%|█████▋    | 50/87 [00:00<00:00, 94.22it/s]\n",
      " 69%|██████▉   | 60/87 [00:00<00:00, 94.08it/s]\n",
      " 80%|████████  | 70/87 [00:00<00:00, 93.16it/s]\n",
      " 92%|█████████▏| 80/87 [00:00<00:00, 94.26it/s]\n",
      "100%|██████████| 87/87 [00:00<00:00, 94.42it/s]\n",
      "  0%|          | 0/25 [00:00<?, ?it/s]\n",
      "100%|██████████| 25/25 [00:00<00:00, 174.20it/s]\n",
      "  0%|          | 0/87 [00:00<?, ?it/s]\n",
      " 11%|█▏        | 10/87 [00:00<00:00, 96.42it/s]\n"
     ]
    },
    {
     "name": "stdout",
     "output_type": "stream",
     "text": [
      "\u001b[2m\u001b[36m(func pid=10192)\u001b[0m \n",
      "\u001b[2m\u001b[36m(func pid=10192)\u001b[0m Epoch 39\n"
     ]
    },
    {
     "name": "stderr",
     "output_type": "stream",
     "text": [
      " 23%|██▎       | 20/87 [00:00<00:00, 83.53it/s]\n",
      " 33%|███▎      | 29/87 [00:00<00:00, 79.69it/s]\n",
      " 44%|████▎     | 38/87 [00:00<00:00, 80.15it/s]\n",
      " 55%|█████▌    | 48/87 [00:00<00:00, 83.70it/s]\n",
      " 66%|██████▌   | 57/87 [00:00<00:00, 85.05it/s]\n",
      " 77%|███████▋  | 67/87 [00:00<00:00, 87.75it/s]\n",
      " 89%|████████▊ | 77/87 [00:00<00:00, 89.14it/s]\n",
      "100%|██████████| 87/87 [00:00<00:00, 87.74it/s]\n",
      "  0%|          | 0/25 [00:00<?, ?it/s]\n",
      "100%|██████████| 25/25 [00:00<00:00, 181.53it/s]\n",
      "  0%|          | 0/87 [00:00<?, ?it/s]\n",
      " 11%|█▏        | 10/87 [00:00<00:00, 94.17it/s]\n"
     ]
    },
    {
     "name": "stdout",
     "output_type": "stream",
     "text": [
      "\u001b[2m\u001b[36m(func pid=10192)\u001b[0m \n",
      "\u001b[2m\u001b[36m(func pid=10192)\u001b[0m Epoch 40\n"
     ]
    },
    {
     "name": "stderr",
     "output_type": "stream",
     "text": [
      " 23%|██▎       | 20/87 [00:00<00:00, 85.80it/s]\n",
      " 36%|███▌      | 31/87 [00:00<00:00, 91.76it/s]\n",
      " 47%|████▋     | 41/87 [00:00<00:00, 93.98it/s]\n",
      " 59%|█████▊    | 51/87 [00:00<00:00, 95.69it/s]\n",
      " 71%|███████▏  | 62/87 [00:00<00:00, 97.23it/s]\n",
      " 83%|████████▎ | 72/87 [00:00<00:00, 97.17it/s]\n",
      "100%|██████████| 87/87 [00:00<00:00, 96.14it/s]\n",
      "  0%|          | 0/25 [00:00<?, ?it/s]\n",
      "100%|██████████| 25/25 [00:00<00:00, 117.31it/s]\n",
      "  0%|          | 0/87 [00:00<?, ?it/s]\n",
      " 11%|█▏        | 10/87 [00:00<00:00, 94.69it/s]\n"
     ]
    },
    {
     "name": "stdout",
     "output_type": "stream",
     "text": [
      "\u001b[2m\u001b[36m(func pid=10192)\u001b[0m \n",
      "\u001b[2m\u001b[36m(func pid=10192)\u001b[0m Epoch 41\n"
     ]
    },
    {
     "name": "stderr",
     "output_type": "stream",
     "text": [
      " 23%|██▎       | 20/87 [00:00<00:00, 95.04it/s]\n",
      " 34%|███▍      | 30/87 [00:00<00:00, 96.46it/s]\n",
      " 46%|████▌     | 40/87 [00:00<00:00, 96.76it/s]\n",
      " 57%|█████▋    | 50/87 [00:00<00:00, 97.56it/s]\n",
      " 70%|███████   | 61/87 [00:00<00:00, 98.35it/s]\n",
      " 83%|████████▎ | 72/87 [00:00<00:00, 99.54it/s]\n",
      "100%|██████████| 87/87 [00:00<00:00, 98.05it/s]\n",
      "  0%|          | 0/25 [00:00<?, ?it/s]\n",
      "100%|██████████| 25/25 [00:00<00:00, 183.85it/s]\n",
      "  0%|          | 0/87 [00:00<?, ?it/s]\n",
      " 11%|█▏        | 10/87 [00:00<00:00, 98.75it/s]\n"
     ]
    },
    {
     "name": "stdout",
     "output_type": "stream",
     "text": [
      "\u001b[2m\u001b[36m(func pid=10192)\u001b[0m \n",
      "\u001b[2m\u001b[36m(func pid=10192)\u001b[0m Epoch 42\n"
     ]
    },
    {
     "name": "stderr",
     "output_type": "stream",
     "text": [
      " 24%|██▍       | 21/87 [00:00<00:00, 99.99it/s]\n",
      " 37%|███▋      | 32/87 [00:00<00:00, 100.12it/s]\n",
      " 49%|████▉     | 43/87 [00:00<00:00, 98.56it/s] \n",
      " 61%|██████    | 53/87 [00:00<00:00, 97.42it/s]\n",
      " 72%|███████▏  | 63/87 [00:00<00:00, 97.09it/s]\n",
      " 84%|████████▍ | 73/87 [00:00<00:00, 96.83it/s]\n",
      "100%|██████████| 87/87 [00:00<00:00, 98.08it/s]\n",
      "  0%|          | 0/25 [00:00<?, ?it/s]\n",
      "100%|██████████| 25/25 [00:00<00:00, 182.09it/s]\n",
      "  0%|          | 0/87 [00:00<?, ?it/s]\n",
      " 11%|█▏        | 10/87 [00:00<00:00, 93.30it/s]\n"
     ]
    },
    {
     "name": "stdout",
     "output_type": "stream",
     "text": [
      "\u001b[2m\u001b[36m(func pid=10192)\u001b[0m \n",
      "\u001b[2m\u001b[36m(func pid=10192)\u001b[0m Epoch 43\n"
     ]
    },
    {
     "name": "stderr",
     "output_type": "stream",
     "text": [
      " 23%|██▎       | 20/87 [00:00<00:00, 95.93it/s]\n",
      " 34%|███▍      | 30/87 [00:00<00:00, 96.97it/s]\n",
      " 57%|█████▋    | 50/87 [00:00<00:00, 97.36it/s]\n",
      " 69%|██████▉   | 60/87 [00:00<00:00, 98.23it/s]\n",
      " 80%|████████  | 70/87 [00:00<00:00, 97.63it/s]\n",
      " 92%|█████████▏| 80/87 [00:00<00:00, 98.12it/s]\n",
      "100%|██████████| 87/87 [00:00<00:00, 97.86it/s]\n",
      "  0%|          | 0/25 [00:00<?, ?it/s]\n",
      "100%|██████████| 25/25 [00:00<00:00, 115.45it/s]\n",
      "  0%|          | 0/87 [00:00<?, ?it/s]\n"
     ]
    },
    {
     "name": "stdout",
     "output_type": "stream",
     "text": [
      "\u001b[2m\u001b[36m(func pid=10192)\u001b[0m \n",
      "\u001b[2m\u001b[36m(func pid=10192)\u001b[0m Epoch 44\n"
     ]
    },
    {
     "name": "stderr",
     "output_type": "stream",
     "text": [
      " 11%|█▏        | 10/87 [00:00<00:00, 99.07it/s]\n",
      " 23%|██▎       | 20/87 [00:00<00:00, 99.04it/s]\n",
      " 34%|███▍      | 30/87 [00:00<00:00, 98.06it/s]\n",
      " 47%|████▋     | 41/87 [00:00<00:00, 99.39it/s]\n",
      " 59%|█████▊    | 51/87 [00:00<00:00, 99.09it/s]\n",
      " 70%|███████   | 61/87 [00:00<00:00, 99.12it/s]\n",
      " 82%|████████▏ | 71/87 [00:00<00:00, 98.92it/s]\n",
      "100%|██████████| 87/87 [00:00<00:00, 99.85it/s] \n",
      "  0%|          | 0/25 [00:00<?, ?it/s]\n",
      " 72%|███████▏  | 18/25 [00:00<00:00, 176.60it/s]\n",
      "100%|██████████| 25/25 [00:00<00:00, 178.48it/s]\n",
      "  0%|          | 0/87 [00:00<?, ?it/s]\n",
      " 11%|█▏        | 10/87 [00:00<00:00, 97.93it/s]\n"
     ]
    },
    {
     "name": "stdout",
     "output_type": "stream",
     "text": [
      "\u001b[2m\u001b[36m(func pid=10192)\u001b[0m \n",
      "\u001b[2m\u001b[36m(func pid=10192)\u001b[0m Epoch 45\n"
     ]
    },
    {
     "name": "stderr",
     "output_type": "stream",
     "text": [
      " 24%|██▍       | 21/87 [00:00<00:00, 100.90it/s]\n",
      " 37%|███▋      | 32/87 [00:00<00:00, 100.30it/s]\n",
      " 49%|████▉     | 43/87 [00:00<00:00, 100.62it/s]\n",
      " 62%|██████▏   | 54/87 [00:00<00:00, 100.46it/s]\n",
      " 75%|███████▍  | 65/87 [00:00<00:00, 100.57it/s]\n",
      " 87%|████████▋ | 76/87 [00:00<00:00, 100.46it/s]\n",
      "100%|██████████| 87/87 [00:00<00:00, 100.52it/s]\n",
      "  0%|          | 0/25 [00:00<?, ?it/s]\n",
      " 72%|███████▏  | 18/25 [00:00<00:00, 179.93it/s]\n",
      "100%|██████████| 25/25 [00:00<00:00, 164.22it/s]\n",
      "  0%|          | 0/87 [00:00<?, ?it/s]\n",
      " 13%|█▎        | 11/87 [00:00<00:00, 99.99it/s]\n"
     ]
    },
    {
     "name": "stdout",
     "output_type": "stream",
     "text": [
      "\u001b[2m\u001b[36m(func pid=10192)\u001b[0m \n",
      "\u001b[2m\u001b[36m(func pid=10192)\u001b[0m Epoch 46\n"
     ]
    },
    {
     "name": "stderr",
     "output_type": "stream",
     "text": [
      " 24%|██▍       | 21/87 [00:00<00:00, 98.75it/s]\n",
      " 36%|███▌      | 31/87 [00:00<00:00, 98.07it/s]\n",
      " 47%|████▋     | 41/87 [00:00<00:00, 95.84it/s]\n",
      " 59%|█████▊    | 51/87 [00:00<00:00, 96.99it/s]\n",
      " 71%|███████▏  | 62/87 [00:00<00:00, 98.34it/s]\n",
      " 83%|████████▎ | 72/87 [00:00<00:00, 97.24it/s]\n",
      "100%|██████████| 87/87 [00:00<00:00, 97.32it/s]\n",
      "  0%|          | 0/25 [00:00<?, ?it/s]\n",
      " 60%|██████    | 15/25 [00:00<00:00, 91.95it/s]\n",
      "100%|██████████| 25/25 [00:00<00:00, 114.82it/s]\n",
      "  0%|          | 0/87 [00:00<?, ?it/s]\n",
      " 11%|█▏        | 10/87 [00:00<00:00, 99.67it/s]\n"
     ]
    },
    {
     "name": "stdout",
     "output_type": "stream",
     "text": [
      "\u001b[2m\u001b[36m(func pid=10192)\u001b[0m \n",
      "\u001b[2m\u001b[36m(func pid=10192)\u001b[0m Epoch 47\n"
     ]
    },
    {
     "name": "stderr",
     "output_type": "stream",
     "text": [
      " 23%|██▎       | 20/87 [00:00<00:00, 96.64it/s]\n",
      " 34%|███▍      | 30/87 [00:00<00:00, 93.88it/s]\n",
      " 46%|████▌     | 40/87 [00:00<00:00, 94.08it/s]\n",
      " 57%|█████▋    | 50/87 [00:00<00:00, 95.13it/s]\n",
      " 69%|██████▉   | 60/87 [00:00<00:00, 96.13it/s]\n",
      " 82%|████████▏ | 71/87 [00:00<00:00, 97.39it/s]\n",
      " 93%|█████████▎| 81/87 [00:00<00:00, 97.71it/s]\n",
      "100%|██████████| 87/87 [00:00<00:00, 96.52it/s]\n",
      "  0%|          | 0/25 [00:00<?, ?it/s]\n",
      "100%|██████████| 25/25 [00:00<00:00, 178.53it/s]\n",
      "  0%|          | 0/87 [00:00<?, ?it/s]\n",
      " 11%|█▏        | 10/87 [00:00<00:00, 93.28it/s]\n"
     ]
    },
    {
     "name": "stdout",
     "output_type": "stream",
     "text": [
      "\u001b[2m\u001b[36m(func pid=10192)\u001b[0m \n",
      "\u001b[2m\u001b[36m(func pid=10192)\u001b[0m Epoch 48\n"
     ]
    },
    {
     "name": "stderr",
     "output_type": "stream",
     "text": [
      " 23%|██▎       | 20/87 [00:00<00:00, 95.51it/s]\n",
      " 34%|███▍      | 30/87 [00:00<00:00, 96.65it/s]\n",
      " 46%|████▌     | 40/87 [00:00<00:00, 96.38it/s]\n",
      " 57%|█████▋    | 50/87 [00:00<00:00, 97.05it/s]\n",
      " 69%|██████▉   | 60/87 [00:00<00:00, 94.99it/s]\n",
      " 80%|████████  | 70/87 [00:00<00:00, 95.22it/s]\n",
      "100%|██████████| 87/87 [00:00<00:00, 92.68it/s]\n",
      "  0%|          | 0/25 [00:00<?, ?it/s]\n",
      "100%|██████████| 25/25 [00:00<00:00, 179.62it/s]\n",
      "  0%|          | 0/87 [00:00<?, ?it/s]\n"
     ]
    },
    {
     "name": "stdout",
     "output_type": "stream",
     "text": [
      "\u001b[2m\u001b[36m(func pid=10192)\u001b[0m \n",
      "\u001b[2m\u001b[36m(func pid=10192)\u001b[0m Epoch 49\n"
     ]
    },
    {
     "name": "stderr",
     "output_type": "stream",
     "text": [
      " 10%|█         | 9/87 [00:00<00:00, 89.08it/s]\n",
      " 22%|██▏       | 19/87 [00:00<00:00, 91.64it/s]\n",
      " 33%|███▎      | 29/87 [00:00<00:00, 90.52it/s]\n",
      " 45%|████▍     | 39/87 [00:00<00:00, 88.79it/s]\n",
      " 56%|█████▋    | 49/87 [00:00<00:00, 91.29it/s]\n",
      " 68%|██████▊   | 59/87 [00:00<00:00, 92.62it/s]\n",
      " 79%|███████▉  | 69/87 [00:00<00:00, 92.38it/s]\n",
      " 92%|█████████▏| 80/87 [00:00<00:00, 95.09it/s]\n",
      "  0%|          | 0/25 [00:00<?, ?it/s]\n",
      "100%|██████████| 25/25 [00:00<00:00, 113.11it/s]\n",
      "  0%|          | 0/87 [00:00<?, ?it/s]\n",
      " 11%|█▏        | 10/87 [00:00<00:00, 90.88it/s]\n"
     ]
    },
    {
     "name": "stdout",
     "output_type": "stream",
     "text": [
      "\u001b[2m\u001b[36m(func pid=10192)\u001b[0m \n",
      "\u001b[2m\u001b[36m(func pid=10192)\u001b[0m Epoch 50\n"
     ]
    },
    {
     "name": "stderr",
     "output_type": "stream",
     "text": [
      " 23%|██▎       | 20/87 [00:00<00:00, 93.66it/s]\n",
      " 34%|███▍      | 30/87 [00:00<00:00, 95.43it/s]\n",
      " 46%|████▌     | 40/87 [00:00<00:00, 91.15it/s]\n",
      " 57%|█████▋    | 50/87 [00:00<00:00, 91.70it/s]\n",
      " 69%|██████▉   | 60/87 [00:00<00:00, 93.17it/s]\n",
      " 80%|████████  | 70/87 [00:00<00:00, 93.41it/s]\n",
      "100%|██████████| 87/87 [00:00<00:00, 94.35it/s]\n",
      "  0%|          | 0/25 [00:00<?, ?it/s]\n",
      "100%|██████████| 25/25 [00:00<00:00, 186.59it/s]\n",
      "  0%|          | 0/87 [00:00<?, ?it/s]\n",
      " 13%|█▎        | 11/87 [00:00<00:00, 101.88it/s]\n"
     ]
    },
    {
     "name": "stdout",
     "output_type": "stream",
     "text": [
      "\u001b[2m\u001b[36m(func pid=10192)\u001b[0m \n",
      "\u001b[2m\u001b[36m(func pid=10192)\u001b[0m Epoch 51\n"
     ]
    },
    {
     "name": "stderr",
     "output_type": "stream",
     "text": [
      " 25%|██▌       | 22/87 [00:00<00:00, 102.86it/s]\n",
      " 38%|███▊      | 33/87 [00:00<00:00, 102.95it/s]\n",
      " 51%|█████     | 44/87 [00:00<00:00, 103.17it/s]\n",
      " 63%|██████▎   | 55/87 [00:00<00:00, 103.82it/s]\n",
      " 76%|███████▌  | 66/87 [00:00<00:00, 103.77it/s]\n",
      " 89%|████████▊ | 77/87 [00:00<00:00, 103.73it/s]\n",
      "100%|██████████| 87/87 [00:00<00:00, 103.75it/s]\n",
      "  0%|          | 0/25 [00:00<?, ?it/s]\n",
      "100%|██████████| 25/25 [00:00<00:00, 182.44it/s]\n",
      "  0%|          | 0/87 [00:00<?, ?it/s]\n",
      " 13%|█▎        | 11/87 [00:00<00:00, 101.95it/s]\n"
     ]
    },
    {
     "name": "stdout",
     "output_type": "stream",
     "text": [
      "\u001b[2m\u001b[36m(func pid=10192)\u001b[0m \n",
      "\u001b[2m\u001b[36m(func pid=10192)\u001b[0m Epoch 52\n"
     ]
    },
    {
     "name": "stderr",
     "output_type": "stream",
     "text": [
      " 25%|██▌       | 22/87 [00:00<00:00, 103.10it/s]\n",
      " 38%|███▊      | 33/87 [00:00<00:00, 103.32it/s]\n",
      " 51%|█████     | 44/87 [00:00<00:00, 102.32it/s]\n",
      " 63%|██████▎   | 55/87 [00:00<00:00, 102.43it/s]\n",
      " 76%|███████▌  | 66/87 [00:00<00:00, 102.66it/s]\n",
      " 89%|████████▊ | 77/87 [00:00<00:00, 102.91it/s]\n",
      "100%|██████████| 87/87 [00:00<00:00, 102.04it/s]\n",
      "  0%|          | 0/25 [00:00<?, ?it/s]\n",
      " 76%|███████▌  | 19/25 [00:00<00:00, 109.36it/s]\n",
      "100%|██████████| 25/25 [00:00<00:00, 120.81it/s]\n",
      "  0%|          | 0/87 [00:00<?, ?it/s]\n",
      " 13%|█▎        | 11/87 [00:00<00:00, 100.83it/s]\n"
     ]
    },
    {
     "name": "stdout",
     "output_type": "stream",
     "text": [
      "\u001b[2m\u001b[36m(func pid=10192)\u001b[0m \n",
      "\u001b[2m\u001b[36m(func pid=10192)\u001b[0m Epoch 53\n"
     ]
    },
    {
     "name": "stderr",
     "output_type": "stream",
     "text": [
      " 25%|██▌       | 22/87 [00:00<00:00, 100.48it/s]\n",
      " 38%|███▊      | 33/87 [00:00<00:00, 100.62it/s]\n",
      " 51%|█████     | 44/87 [00:00<00:00, 100.62it/s]\n",
      " 63%|██████▎   | 55/87 [00:00<00:00, 101.80it/s]\n",
      " 76%|███████▌  | 66/87 [00:00<00:00, 102.40it/s]\n",
      " 89%|████████▊ | 77/87 [00:00<00:00, 102.27it/s]\n",
      "100%|██████████| 87/87 [00:00<00:00, 101.88it/s]\n",
      "  0%|          | 0/25 [00:00<?, ?it/s]\n",
      " 76%|███████▌  | 19/25 [00:00<00:00, 182.77it/s]\n",
      "100%|██████████| 25/25 [00:00<00:00, 173.46it/s]\n",
      "  0%|          | 0/87 [00:00<?, ?it/s]\n",
      " 11%|█▏        | 10/87 [00:00<00:00, 99.07it/s]\n"
     ]
    },
    {
     "name": "stdout",
     "output_type": "stream",
     "text": [
      "\u001b[2m\u001b[36m(func pid=10192)\u001b[0m \n",
      "\u001b[2m\u001b[36m(func pid=10192)\u001b[0m Epoch 54\n"
     ]
    },
    {
     "name": "stderr",
     "output_type": "stream",
     "text": [
      " 24%|██▍       | 21/87 [00:00<00:00, 99.90it/s]\n",
      " 37%|███▋      | 32/87 [00:00<00:00, 100.53it/s]\n",
      " 49%|████▉     | 43/87 [00:00<00:00, 97.51it/s] \n",
      " 61%|██████    | 53/87 [00:00<00:00, 97.67it/s]\n",
      " 72%|███████▏  | 63/87 [00:00<00:00, 96.91it/s]\n",
      " 84%|████████▍ | 73/87 [00:00<00:00, 97.10it/s]\n",
      "  0%|          | 0/25 [00:00<?, ?it/s]\n",
      "100%|██████████| 25/25 [00:00<00:00, 178.58it/s]\n",
      "  0%|          | 0/87 [00:00<?, ?it/s]\n",
      " 11%|█▏        | 10/87 [00:00<00:00, 90.98it/s]\n"
     ]
    },
    {
     "name": "stdout",
     "output_type": "stream",
     "text": [
      "\u001b[2m\u001b[36m(func pid=10192)\u001b[0m \n",
      "\u001b[2m\u001b[36m(func pid=10192)\u001b[0m Epoch 55\n"
     ]
    },
    {
     "name": "stderr",
     "output_type": "stream",
     "text": [
      " 23%|██▎       | 20/87 [00:00<00:00, 86.26it/s]\n",
      " 34%|███▍      | 30/87 [00:00<00:00, 89.85it/s]\n",
      " 46%|████▌     | 40/87 [00:00<00:00, 93.58it/s]\n",
      " 57%|█████▋    | 50/87 [00:00<00:00, 92.62it/s]\n",
      " 69%|██████▉   | 60/87 [00:00<00:00, 94.40it/s]\n",
      " 82%|████████▏ | 71/87 [00:00<00:00, 96.34it/s]\n",
      " 93%|█████████▎| 81/87 [00:00<00:00, 92.52it/s]\n",
      "100%|██████████| 87/87 [00:00<00:00, 91.93it/s]\n",
      "  0%|          | 0/25 [00:00<?, ?it/s]\n",
      " 60%|██████    | 15/25 [00:00<00:00, 149.98it/s]\n",
      "100%|██████████| 25/25 [00:00<00:00, 107.03it/s]\n",
      "  0%|          | 0/87 [00:00<?, ?it/s]\n",
      " 13%|█▎        | 11/87 [00:00<00:00, 103.04it/s]\n"
     ]
    },
    {
     "name": "stdout",
     "output_type": "stream",
     "text": [
      "\u001b[2m\u001b[36m(func pid=10192)\u001b[0m \n",
      "\u001b[2m\u001b[36m(func pid=10192)\u001b[0m Epoch 56\n"
     ]
    },
    {
     "name": "stderr",
     "output_type": "stream",
     "text": [
      " 25%|██▌       | 22/87 [00:00<00:00, 100.96it/s]\n",
      " 38%|███▊      | 33/87 [00:00<00:00, 99.06it/s] \n",
      " 49%|████▉     | 43/87 [00:00<00:00, 96.91it/s]\n",
      " 61%|██████    | 53/87 [00:00<00:00, 94.76it/s]\n",
      " 72%|███████▏  | 63/87 [00:00<00:00, 94.30it/s]\n",
      " 84%|████████▍ | 73/87 [00:00<00:00, 92.92it/s]\n",
      " 95%|█████████▌| 83/87 [00:00<00:00, 92.29it/s]\n",
      "100%|██████████| 87/87 [00:00<00:00, 94.60it/s]\n",
      "  0%|          | 0/25 [00:00<?, ?it/s]\n",
      "100%|██████████| 25/25 [00:00<00:00, 172.21it/s]\n",
      "  0%|          | 0/87 [00:00<?, ?it/s]\n",
      " 11%|█▏        | 10/87 [00:00<00:00, 99.00it/s]\n"
     ]
    },
    {
     "name": "stdout",
     "output_type": "stream",
     "text": [
      "\u001b[2m\u001b[36m(func pid=10192)\u001b[0m \n",
      "\u001b[2m\u001b[36m(func pid=10192)\u001b[0m Epoch 57\n"
     ]
    },
    {
     "name": "stderr",
     "output_type": "stream",
     "text": [
      " 24%|██▍       | 21/87 [00:00<00:00, 100.32it/s]\n",
      " 37%|███▋      | 32/87 [00:00<00:00, 100.10it/s]\n",
      " 49%|████▉     | 43/87 [00:00<00:00, 101.53it/s]\n",
      " 62%|██████▏   | 54/87 [00:00<00:00, 101.27it/s]\n",
      " 75%|███████▍  | 65/87 [00:00<00:00, 102.74it/s]\n",
      " 87%|████████▋ | 76/87 [00:00<00:00, 102.20it/s]\n",
      "100%|██████████| 87/87 [00:00<00:00, 101.89it/s]\n",
      "  0%|          | 0/25 [00:00<?, ?it/s]\n",
      " 72%|███████▏  | 18/25 [00:00<00:00, 177.92it/s]\n",
      "100%|██████████| 25/25 [00:00<00:00, 180.65it/s]\n",
      "  0%|          | 0/87 [00:00<?, ?it/s]\n",
      " 11%|█▏        | 10/87 [00:00<00:00, 99.90it/s]\n"
     ]
    },
    {
     "name": "stdout",
     "output_type": "stream",
     "text": [
      "\u001b[2m\u001b[36m(func pid=10192)\u001b[0m \n",
      "\u001b[2m\u001b[36m(func pid=10192)\u001b[0m Epoch 58\n"
     ]
    },
    {
     "name": "stderr",
     "output_type": "stream",
     "text": [
      " 24%|██▍       | 21/87 [00:00<00:00, 102.27it/s]\n",
      " 37%|███▋      | 32/87 [00:00<00:00, 101.60it/s]\n",
      " 49%|████▉     | 43/87 [00:00<00:00, 94.41it/s] \n",
      " 61%|██████    | 53/87 [00:00<00:00, 92.73it/s]\n",
      " 72%|███████▏  | 63/87 [00:00<00:00, 88.10it/s]\n",
      " 83%|████████▎ | 72/87 [00:00<00:00, 87.26it/s]\n",
      " 93%|█████████▎| 81/87 [00:00<00:00, 87.61it/s]\n",
      "100%|██████████| 87/87 [00:00<00:00, 91.28it/s]\n",
      "  0%|          | 0/25 [00:00<?, ?it/s]\n",
      " 44%|████▍     | 11/25 [00:00<00:00, 72.51it/s]\n",
      "  0%|          | 0/87 [00:00<?, ?it/s]\n",
      " 10%|█         | 9/87 [00:00<00:00, 82.02it/s]\n"
     ]
    },
    {
     "name": "stdout",
     "output_type": "stream",
     "text": [
      "\u001b[2m\u001b[36m(func pid=10192)\u001b[0m \n",
      "\u001b[2m\u001b[36m(func pid=10192)\u001b[0m Epoch 59\n"
     ]
    },
    {
     "name": "stderr",
     "output_type": "stream",
     "text": [
      " 21%|██        | 18/87 [00:00<00:00, 84.29it/s]\n",
      " 31%|███       | 27/87 [00:00<00:00, 84.93it/s]\n",
      " 41%|████▏     | 36/87 [00:00<00:00, 86.19it/s]\n",
      " 53%|█████▎    | 46/87 [00:00<00:00, 87.98it/s]\n",
      " 64%|██████▍   | 56/87 [00:00<00:00, 89.27it/s]\n",
      " 76%|███████▌  | 66/87 [00:00<00:00, 91.59it/s]\n",
      " 87%|████████▋ | 76/87 [00:00<00:00, 93.91it/s]\n",
      " 99%|█████████▉| 86/87 [00:00<00:00, 94.11it/s]\n",
      "100%|██████████| 87/87 [00:00<00:00, 90.76it/s]\n",
      "  0%|          | 0/25 [00:00<?, ?it/s]\n",
      "100%|██████████| 25/25 [00:00<00:00, 180.18it/s]\n",
      "  0%|          | 0/87 [00:00<?, ?it/s]\n",
      " 11%|█▏        | 10/87 [00:00<00:00, 99.46it/s]\n"
     ]
    },
    {
     "name": "stdout",
     "output_type": "stream",
     "text": [
      "\u001b[2m\u001b[36m(func pid=10192)\u001b[0m \n",
      "\u001b[2m\u001b[36m(func pid=10192)\u001b[0m Epoch 60\n"
     ]
    },
    {
     "name": "stderr",
     "output_type": "stream",
     "text": [
      " 23%|██▎       | 20/87 [00:00<00:00, 98.12it/s]\n",
      " 34%|███▍      | 30/87 [00:00<00:00, 95.07it/s]\n",
      " 46%|████▌     | 40/87 [00:00<00:00, 91.62it/s]\n",
      " 57%|█████▋    | 50/87 [00:00<00:00, 91.79it/s]\n",
      " 69%|██████▉   | 60/87 [00:00<00:00, 91.07it/s]\n",
      " 80%|████████  | 70/87 [00:00<00:00, 91.07it/s]\n",
      "100%|██████████| 87/87 [00:00<00:00, 93.35it/s]\n",
      "  0%|          | 0/25 [00:00<?, ?it/s]\n",
      "100%|██████████| 25/25 [00:00<00:00, 179.78it/s]\n",
      "  0%|          | 0/87 [00:00<?, ?it/s]\n",
      " 23%|██▎       | 20/87 [00:00<00:00, 96.05it/s]\n"
     ]
    },
    {
     "name": "stdout",
     "output_type": "stream",
     "text": [
      "\u001b[2m\u001b[36m(func pid=10192)\u001b[0m \n",
      "\u001b[2m\u001b[36m(func pid=10192)\u001b[0m Epoch 61\n"
     ]
    },
    {
     "name": "stderr",
     "output_type": "stream",
     "text": [
      " 34%|███▍      | 30/87 [00:00<00:00, 96.54it/s]\n",
      " 46%|████▌     | 40/87 [00:00<00:00, 96.06it/s]\n",
      " 57%|█████▋    | 50/87 [00:00<00:00, 94.76it/s]\n",
      " 70%|███████   | 61/87 [00:00<00:00, 97.11it/s]\n",
      " 82%|████████▏ | 71/87 [00:00<00:00, 97.10it/s]\n",
      " 93%|█████████▎| 81/87 [00:00<00:00, 96.03it/s]\n",
      "100%|██████████| 87/87 [00:00<00:00, 95.93it/s]\n",
      "  0%|          | 0/25 [00:00<?, ?it/s]\n",
      "100%|██████████| 25/25 [00:00<00:00, 113.89it/s]\n",
      "  0%|          | 0/87 [00:00<?, ?it/s]\n"
     ]
    },
    {
     "name": "stdout",
     "output_type": "stream",
     "text": [
      "\u001b[2m\u001b[36m(func pid=10192)\u001b[0m \n",
      "\u001b[2m\u001b[36m(func pid=10192)\u001b[0m Epoch 62\n"
     ]
    },
    {
     "name": "stderr",
     "output_type": "stream",
     "text": [
      " 11%|█▏        | 10/87 [00:00<00:00, 93.14it/s]\n",
      " 23%|██▎       | 20/87 [00:00<00:00, 94.49it/s]\n",
      " 34%|███▍      | 30/87 [00:00<00:00, 93.21it/s]\n",
      " 47%|████▋     | 41/87 [00:00<00:00, 96.07it/s]\n",
      " 60%|█████▉    | 52/87 [00:00<00:00, 97.72it/s]\n",
      " 83%|████████▎ | 72/87 [00:00<00:00, 98.38it/s]\n",
      " 94%|█████████▍| 82/87 [00:00<00:00, 95.89it/s]\n",
      "100%|██████████| 87/87 [00:00<00:00, 96.10it/s]\n",
      "  0%|          | 0/25 [00:00<?, ?it/s]\n",
      " 76%|███████▌  | 19/25 [00:00<00:00, 183.86it/s]\n",
      "100%|██████████| 25/25 [00:00<00:00, 181.83it/s]\n",
      "  0%|          | 0/87 [00:00<?, ?it/s]\n"
     ]
    },
    {
     "name": "stdout",
     "output_type": "stream",
     "text": [
      "\u001b[2m\u001b[36m(func pid=10192)\u001b[0m \n",
      "\u001b[2m\u001b[36m(func pid=10192)\u001b[0m Epoch 63\n"
     ]
    },
    {
     "name": "stderr",
     "output_type": "stream",
     "text": [
      " 11%|█▏        | 10/87 [00:00<00:00, 96.20it/s]\n",
      " 23%|██▎       | 20/87 [00:00<00:00, 92.51it/s]\n",
      " 34%|███▍      | 30/87 [00:00<00:00, 94.48it/s]\n",
      " 46%|████▌     | 40/87 [00:00<00:00, 91.35it/s]\n",
      " 57%|█████▋    | 50/87 [00:00<00:00, 90.79it/s]\n",
      " 69%|██████▉   | 60/87 [00:00<00:00, 92.62it/s]\n",
      " 80%|████████  | 70/87 [00:00<00:00, 93.81it/s]\n",
      "100%|██████████| 87/87 [00:00<00:00, 94.87it/s]\n",
      "  0%|          | 0/25 [00:00<?, ?it/s]\n",
      "100%|██████████| 25/25 [00:00<00:00, 179.52it/s]\n",
      "  0%|          | 0/87 [00:00<?, ?it/s]\n",
      " 11%|█▏        | 10/87 [00:00<00:00, 92.59it/s]\n"
     ]
    },
    {
     "name": "stdout",
     "output_type": "stream",
     "text": [
      "\u001b[2m\u001b[36m(func pid=10192)\u001b[0m \n",
      "\u001b[2m\u001b[36m(func pid=10192)\u001b[0m Epoch 64\n"
     ]
    },
    {
     "name": "stderr",
     "output_type": "stream",
     "text": [
      " 23%|██▎       | 20/87 [00:00<00:00, 84.33it/s]\n",
      " 34%|███▍      | 30/87 [00:00<00:00, 88.32it/s]\n",
      " 46%|████▌     | 40/87 [00:00<00:00, 92.58it/s]\n",
      " 57%|█████▋    | 50/87 [00:00<00:00, 94.80it/s]\n",
      " 69%|██████▉   | 60/87 [00:00<00:00, 96.12it/s]\n",
      " 80%|████████  | 70/87 [00:00<00:00, 94.37it/s]\n",
      "100%|██████████| 87/87 [00:00<00:00, 92.87it/s]\n",
      "  0%|          | 0/25 [00:00<?, ?it/s]\n",
      " 60%|██████    | 15/25 [00:00<00:00, 92.12it/s]\n",
      "100%|██████████| 25/25 [00:00<00:00, 114.28it/s]\n",
      "  0%|          | 0/87 [00:00<?, ?it/s]\n"
     ]
    },
    {
     "name": "stdout",
     "output_type": "stream",
     "text": [
      "\u001b[2m\u001b[36m(func pid=10192)\u001b[0m \n",
      "\u001b[2m\u001b[36m(func pid=10192)\u001b[0m Epoch 65\n"
     ]
    },
    {
     "name": "stderr",
     "output_type": "stream",
     "text": [
      " 10%|█         | 9/87 [00:00<00:00, 85.34it/s]\n",
      " 22%|██▏       | 19/87 [00:00<00:00, 88.35it/s]\n",
      " 33%|███▎      | 29/87 [00:00<00:00, 90.95it/s]\n",
      " 45%|████▍     | 39/87 [00:00<00:00, 84.21it/s]\n",
      " 56%|█████▋    | 49/87 [00:00<00:00, 87.42it/s]\n",
      " 68%|██████▊   | 59/87 [00:00<00:00, 89.49it/s]\n",
      " 79%|███████▉  | 69/87 [00:00<00:00, 91.76it/s]\n",
      " 91%|█████████ | 79/87 [00:00<00:00, 93.60it/s]\n",
      "100%|██████████| 87/87 [00:00<00:00, 91.16it/s]\n",
      "  0%|          | 0/25 [00:00<?, ?it/s]\n",
      " 72%|███████▏  | 18/25 [00:00<00:00, 175.06it/s]\n",
      "100%|██████████| 25/25 [00:00<00:00, 178.68it/s]\n",
      "  0%|          | 0/87 [00:00<?, ?it/s]\n",
      " 11%|█▏        | 10/87 [00:00<00:00, 92.46it/s]\n"
     ]
    },
    {
     "name": "stdout",
     "output_type": "stream",
     "text": [
      "\u001b[2m\u001b[36m(func pid=10192)\u001b[0m \n",
      "\u001b[2m\u001b[36m(func pid=10192)\u001b[0m Epoch 66\n"
     ]
    },
    {
     "name": "stderr",
     "output_type": "stream",
     "text": [
      " 23%|██▎       | 20/87 [00:00<00:00, 96.29it/s]\n",
      " 34%|███▍      | 30/87 [00:00<00:00, 95.34it/s]\n",
      " 46%|████▌     | 40/87 [00:00<00:00, 94.95it/s]\n",
      " 59%|█████▊    | 51/87 [00:00<00:00, 97.00it/s]\n",
      " 70%|███████   | 61/87 [00:00<00:00, 97.45it/s]\n",
      " 82%|████████▏ | 71/87 [00:00<00:00, 97.97it/s]\n",
      "100%|██████████| 87/87 [00:00<00:00, 98.28it/s]\n",
      "  0%|          | 0/25 [00:00<?, ?it/s]\n",
      " 76%|███████▌  | 19/25 [00:00<00:00, 188.98it/s]\n",
      "100%|██████████| 25/25 [00:00<00:00, 188.33it/s]\n",
      "  0%|          | 0/87 [00:00<?, ?it/s]\n",
      " 13%|█▎        | 11/87 [00:00<00:00, 102.84it/s]\n"
     ]
    },
    {
     "name": "stdout",
     "output_type": "stream",
     "text": [
      "\u001b[2m\u001b[36m(func pid=10192)\u001b[0m \n",
      "\u001b[2m\u001b[36m(func pid=10192)\u001b[0m Epoch 67\n"
     ]
    },
    {
     "name": "stderr",
     "output_type": "stream",
     "text": [
      " 25%|██▌       | 22/87 [00:00<00:00, 104.53it/s]\n",
      " 38%|███▊      | 33/87 [00:00<00:00, 103.32it/s]\n",
      " 51%|█████     | 44/87 [00:00<00:00, 104.20it/s]\n",
      " 63%|██████▎   | 55/87 [00:00<00:00, 103.98it/s]\n",
      " 76%|███████▌  | 66/87 [00:00<00:00, 103.70it/s]\n",
      " 89%|████████▊ | 77/87 [00:00<00:00, 104.30it/s]\n",
      "100%|██████████| 87/87 [00:00<00:00, 104.19it/s]\n",
      "  0%|          | 0/25 [00:00<?, ?it/s]\n",
      " 32%|███▏      | 8/25 [00:00<00:00, 68.65it/s]\n",
      "100%|██████████| 25/25 [00:00<00:00, 122.09it/s]\n",
      "  0%|          | 0/87 [00:00<?, ?it/s]\n"
     ]
    },
    {
     "name": "stdout",
     "output_type": "stream",
     "text": [
      "\u001b[2m\u001b[36m(func pid=10192)\u001b[0m \n",
      "\u001b[2m\u001b[36m(func pid=10192)\u001b[0m Epoch 68\n"
     ]
    },
    {
     "name": "stderr",
     "output_type": "stream",
     "text": [
      " 13%|█▎        | 11/87 [00:00<00:00, 102.63it/s]\n",
      " 25%|██▌       | 22/87 [00:00<00:00, 100.19it/s]\n",
      " 38%|███▊      | 33/87 [00:00<00:00, 102.15it/s]\n",
      " 51%|█████     | 44/87 [00:00<00:00, 102.04it/s]\n",
      " 63%|██████▎   | 55/87 [00:00<00:00, 102.66it/s]\n",
      " 76%|███████▌  | 66/87 [00:00<00:00, 99.25it/s] \n",
      "100%|██████████| 87/87 [00:00<00:00, 100.99it/s]\n",
      "  0%|          | 0/25 [00:00<?, ?it/s]\n",
      "100%|██████████| 25/25 [00:00<00:00, 181.12it/s]\n",
      "  0%|          | 0/87 [00:00<?, ?it/s]\n",
      " 13%|█▎        | 11/87 [00:00<00:00, 101.99it/s]\n"
     ]
    },
    {
     "name": "stdout",
     "output_type": "stream",
     "text": [
      "\u001b[2m\u001b[36m(func pid=10192)\u001b[0m \n",
      "\u001b[2m\u001b[36m(func pid=10192)\u001b[0m Epoch 69\n"
     ]
    },
    {
     "name": "stderr",
     "output_type": "stream",
     "text": [
      " 25%|██▌       | 22/87 [00:00<00:00, 103.98it/s]\n",
      " 38%|███▊      | 33/87 [00:00<00:00, 102.54it/s]\n",
      " 51%|█████     | 44/87 [00:00<00:00, 101.22it/s]\n",
      " 63%|██████▎   | 55/87 [00:00<00:00, 101.73it/s]\n",
      " 76%|███████▌  | 66/87 [00:00<00:00, 102.45it/s]\n",
      " 89%|████████▊ | 77/87 [00:00<00:00, 102.57it/s]\n",
      "100%|██████████| 87/87 [00:00<00:00, 102.58it/s]\n",
      "  0%|          | 0/25 [00:00<?, ?it/s]\n",
      "100%|██████████| 25/25 [00:00<00:00, 184.57it/s]\n",
      "  0%|          | 0/87 [00:00<?, ?it/s]\n",
      " 11%|█▏        | 10/87 [00:00<00:00, 99.67it/s]\n"
     ]
    },
    {
     "name": "stdout",
     "output_type": "stream",
     "text": [
      "\u001b[2m\u001b[36m(func pid=10192)\u001b[0m \n",
      "\u001b[2m\u001b[36m(func pid=10192)\u001b[0m Epoch 70\n"
     ]
    },
    {
     "name": "stderr",
     "output_type": "stream",
     "text": [
      " 24%|██▍       | 21/87 [00:00<00:00, 100.04it/s]\n",
      " 37%|███▋      | 32/87 [00:00<00:00, 98.45it/s] \n",
      " 48%|████▊     | 42/87 [00:00<00:00, 97.54it/s]\n",
      " 60%|█████▉    | 52/87 [00:00<00:00, 94.96it/s]\n",
      " 71%|███████▏  | 62/87 [00:00<00:00, 94.25it/s]\n",
      " 83%|████████▎ | 72/87 [00:00<00:00, 94.94it/s]\n",
      " 94%|█████████▍| 82/87 [00:00<00:00, 95.78it/s]\n",
      "100%|██████████| 87/87 [00:00<00:00, 96.39it/s]\n",
      "  0%|          | 0/25 [00:00<?, ?it/s]\n",
      " 72%|███████▏  | 18/25 [00:00<00:00, 173.31it/s]\n",
      "100%|██████████| 25/25 [00:00<00:00, 114.76it/s]\n",
      "  0%|          | 0/87 [00:00<?, ?it/s]\n",
      " 10%|█         | 9/87 [00:00<00:00, 87.50it/s]\n"
     ]
    },
    {
     "name": "stdout",
     "output_type": "stream",
     "text": [
      "\u001b[2m\u001b[36m(func pid=10192)\u001b[0m \n",
      "\u001b[2m\u001b[36m(func pid=10192)\u001b[0m Epoch 71\n"
     ]
    },
    {
     "name": "stderr",
     "output_type": "stream",
     "text": [
      " 22%|██▏       | 19/87 [00:00<00:00, 90.05it/s]\n",
      " 33%|███▎      | 29/87 [00:00<00:00, 93.32it/s]\n",
      " 45%|████▍     | 39/87 [00:00<00:00, 94.32it/s]\n",
      " 56%|█████▋    | 49/87 [00:00<00:00, 94.98it/s]\n",
      " 69%|██████▉   | 60/87 [00:00<00:00, 96.76it/s]\n",
      " 80%|████████  | 70/87 [00:00<00:00, 94.52it/s]\n",
      "100%|██████████| 87/87 [00:00<00:00, 93.55it/s]\n",
      "  0%|          | 0/25 [00:00<?, ?it/s]\n",
      "100%|██████████| 25/25 [00:00<00:00, 175.67it/s]\n",
      "  0%|          | 0/87 [00:00<?, ?it/s]\n",
      " 11%|█▏        | 10/87 [00:00<00:00, 96.97it/s]\n"
     ]
    },
    {
     "name": "stdout",
     "output_type": "stream",
     "text": [
      "\u001b[2m\u001b[36m(func pid=10192)\u001b[0m \n",
      "\u001b[2m\u001b[36m(func pid=10192)\u001b[0m Epoch 72\n"
     ]
    },
    {
     "name": "stderr",
     "output_type": "stream",
     "text": [
      " 23%|██▎       | 20/87 [00:00<00:00, 92.73it/s]\n",
      " 34%|███▍      | 30/87 [00:00<00:00, 88.47it/s]\n",
      " 46%|████▌     | 40/87 [00:00<00:00, 89.82it/s]\n",
      " 57%|█████▋    | 50/87 [00:00<00:00, 91.72it/s]\n",
      " 69%|██████▉   | 60/87 [00:00<00:00, 92.56it/s]\n",
      " 80%|████████  | 70/87 [00:00<00:00, 93.13it/s]\n",
      "100%|██████████| 87/87 [00:00<00:00, 92.64it/s]\n",
      "  0%|          | 0/25 [00:00<?, ?it/s]\n",
      "100%|██████████| 25/25 [00:00<00:00, 182.73it/s]\n",
      "  0%|          | 0/87 [00:00<?, ?it/s]\n",
      " 11%|█▏        | 10/87 [00:00<00:00, 98.84it/s]\n",
      " 23%|██▎       | 20/87 [00:00<00:00, 97.42it/s]\n"
     ]
    },
    {
     "name": "stdout",
     "output_type": "stream",
     "text": [
      "\u001b[2m\u001b[36m(func pid=10192)\u001b[0m \n",
      "\u001b[2m\u001b[36m(func pid=10192)\u001b[0m Epoch 73\n"
     ]
    },
    {
     "name": "stderr",
     "output_type": "stream",
     "text": [
      " 34%|███▍      | 30/87 [00:00<00:00, 95.69it/s]\n",
      " 46%|████▌     | 40/87 [00:00<00:00, 93.27it/s]\n",
      " 57%|█████▋    | 50/87 [00:00<00:00, 83.01it/s]\n",
      " 68%|██████▊   | 59/87 [00:00<00:00, 82.02it/s]\n",
      "  0%|          | 0/25 [00:00<?, ?it/s]\n",
      "100%|██████████| 25/25 [00:00<00:00, 105.08it/s]\n",
      "  0%|          | 0/87 [00:00<?, ?it/s]\n",
      " 10%|█         | 9/87 [00:00<00:00, 87.71it/s]\n"
     ]
    },
    {
     "name": "stdout",
     "output_type": "stream",
     "text": [
      "\u001b[2m\u001b[36m(func pid=10192)\u001b[0m \n",
      "\u001b[2m\u001b[36m(func pid=10192)\u001b[0m Epoch 74\n"
     ]
    },
    {
     "name": "stderr",
     "output_type": "stream",
     "text": [
      " 21%|██        | 18/87 [00:00<00:00, 86.15it/s]\n",
      " 31%|███       | 27/87 [00:00<00:00, 87.13it/s]\n",
      " 43%|████▎     | 37/87 [00:00<00:00, 90.44it/s]\n",
      " 55%|█████▌    | 48/87 [00:00<00:00, 95.68it/s]\n",
      " 68%|██████▊   | 59/87 [00:00<00:00, 97.68it/s]\n",
      " 80%|████████  | 70/87 [00:00<00:00, 99.82it/s]\n",
      " 93%|█████████▎| 81/87 [00:00<00:00, 100.71it/s]\n",
      "100%|██████████| 87/87 [00:00<00:00, 96.89it/s] \n",
      "  0%|          | 0/25 [00:00<?, ?it/s]\n",
      "100%|██████████| 25/25 [00:00<00:00, 185.80it/s]\n",
      "  0%|          | 0/87 [00:00<?, ?it/s]\n"
     ]
    },
    {
     "name": "stdout",
     "output_type": "stream",
     "text": [
      "\u001b[2m\u001b[36m(func pid=10192)\u001b[0m \n",
      "\u001b[2m\u001b[36m(func pid=10192)\u001b[0m Epoch 75\n"
     ]
    },
    {
     "name": "stderr",
     "output_type": "stream",
     "text": [
      " 11%|█▏        | 10/87 [00:00<00:00, 99.92it/s]\n",
      " 24%|██▍       | 21/87 [00:00<00:00, 102.73it/s]\n",
      " 37%|███▋      | 32/87 [00:00<00:00, 101.16it/s]\n",
      " 49%|████▉     | 43/87 [00:00<00:00, 98.08it/s] \n",
      " 62%|██████▏   | 54/87 [00:00<00:00, 100.11it/s]\n",
      " 75%|███████▍  | 65/87 [00:00<00:00, 100.22it/s]\n",
      " 87%|████████▋ | 76/87 [00:00<00:00, 101.05it/s]\n",
      "100%|██████████| 87/87 [00:00<00:00, 100.44it/s]\n",
      "  0%|          | 0/25 [00:00<?, ?it/s]\n",
      "100%|██████████| 25/25 [00:00<00:00, 180.06it/s]\n",
      "  0%|          | 0/87 [00:00<?, ?it/s]\n"
     ]
    },
    {
     "name": "stdout",
     "output_type": "stream",
     "text": [
      "\u001b[2m\u001b[36m(func pid=10192)\u001b[0m \n",
      "\u001b[2m\u001b[36m(func pid=10192)\u001b[0m Epoch 76\n"
     ]
    },
    {
     "name": "stderr",
     "output_type": "stream",
     "text": [
      " 11%|█▏        | 10/87 [00:00<00:00, 99.52it/s]\n",
      " 24%|██▍       | 21/87 [00:00<00:00, 101.94it/s]\n",
      " 37%|███▋      | 32/87 [00:00<00:00, 91.71it/s] \n",
      " 48%|████▊     | 42/87 [00:00<00:00, 87.40it/s]\n",
      " 60%|█████▉    | 52/87 [00:00<00:00, 90.37it/s]\n",
      " 71%|███████▏  | 62/87 [00:00<00:00, 89.32it/s]\n",
      " 83%|████████▎ | 72/87 [00:00<00:00, 89.95it/s]\n",
      "100%|██████████| 87/87 [00:00<00:00, 91.95it/s]\n",
      "  0%|          | 0/25 [00:00<?, ?it/s]\n",
      " 44%|████▍     | 11/25 [00:00<00:00, 79.01it/s]\n",
      "100%|██████████| 25/25 [00:00<00:00, 115.20it/s]\n",
      "  0%|          | 0/87 [00:00<?, ?it/s]\n",
      " 11%|█▏        | 10/87 [00:00<00:00, 92.88it/s]\n"
     ]
    },
    {
     "name": "stdout",
     "output_type": "stream",
     "text": [
      "\u001b[2m\u001b[36m(func pid=10192)\u001b[0m \n",
      "\u001b[2m\u001b[36m(func pid=10192)\u001b[0m Epoch 77\n"
     ]
    },
    {
     "name": "stderr",
     "output_type": "stream",
     "text": [
      " 23%|██▎       | 20/87 [00:00<00:00, 93.23it/s]\n",
      " 34%|███▍      | 30/87 [00:00<00:00, 87.37it/s]\n",
      " 47%|████▋     | 41/87 [00:00<00:00, 92.04it/s]\n",
      " 60%|█████▉    | 52/87 [00:00<00:00, 94.72it/s]\n",
      " 71%|███████▏  | 62/87 [00:00<00:00, 94.84it/s]\n",
      " 83%|████████▎ | 72/87 [00:00<00:00, 95.57it/s]\n",
      " 94%|█████████▍| 82/87 [00:00<00:00, 96.05it/s]\n",
      "100%|██████████| 87/87 [00:00<00:00, 93.98it/s]\n",
      "  0%|          | 0/25 [00:00<?, ?it/s]\n",
      "100%|██████████| 25/25 [00:00<00:00, 173.67it/s]\n",
      "  0%|          | 0/87 [00:00<?, ?it/s]\n",
      " 11%|█▏        | 10/87 [00:00<00:00, 90.13it/s]\n"
     ]
    },
    {
     "name": "stdout",
     "output_type": "stream",
     "text": [
      "\u001b[2m\u001b[36m(func pid=10192)\u001b[0m \n",
      "\u001b[2m\u001b[36m(func pid=10192)\u001b[0m Epoch 78\n"
     ]
    },
    {
     "name": "stderr",
     "output_type": "stream",
     "text": [
      " 23%|██▎       | 20/87 [00:00<00:00, 88.72it/s]\n",
      " 34%|███▍      | 30/87 [00:00<00:00, 90.14it/s]\n",
      " 46%|████▌     | 40/87 [00:00<00:00, 90.90it/s]\n",
      " 57%|█████▋    | 50/87 [00:00<00:00, 91.90it/s]\n",
      " 69%|██████▉   | 60/87 [00:00<00:00, 90.40it/s]\n",
      " 80%|████████  | 70/87 [00:00<00:00, 91.72it/s]\n",
      " 92%|█████████▏| 80/87 [00:00<00:00, 93.31it/s]\n",
      "100%|██████████| 87/87 [00:00<00:00, 92.46it/s]\n",
      "  0%|          | 0/25 [00:00<?, ?it/s]\n",
      " 76%|███████▌  | 19/25 [00:00<00:00, 181.25it/s]\n",
      "100%|██████████| 25/25 [00:00<00:00, 181.60it/s]\n",
      "  0%|          | 0/87 [00:00<?, ?it/s]\n",
      " 11%|█▏        | 10/87 [00:00<00:00, 98.55it/s]\n"
     ]
    },
    {
     "name": "stdout",
     "output_type": "stream",
     "text": [
      "\u001b[2m\u001b[36m(func pid=10192)\u001b[0m \n",
      "\u001b[2m\u001b[36m(func pid=10192)\u001b[0m Epoch 79\n"
     ]
    },
    {
     "name": "stderr",
     "output_type": "stream",
     "text": [
      " 23%|██▎       | 20/87 [00:00<00:00, 98.81it/s]\n",
      " 34%|███▍      | 30/87 [00:00<00:00, 98.81it/s]\n",
      " 47%|████▋     | 41/87 [00:00<00:00, 99.78it/s]\n",
      " 59%|█████▊    | 51/87 [00:00<00:00, 98.86it/s]\n",
      " 71%|███████▏  | 62/87 [00:00<00:00, 99.91it/s]\n",
      " 83%|████████▎ | 72/87 [00:00<00:00, 98.96it/s]\n",
      "100%|██████████| 87/87 [00:00<00:00, 99.83it/s]\n",
      "  0%|          | 0/25 [00:00<?, ?it/s]\n",
      "100%|██████████| 25/25 [00:00<00:00, 116.14it/s]\n",
      "  0%|          | 0/87 [00:00<?, ?it/s]\n"
     ]
    },
    {
     "name": "stdout",
     "output_type": "stream",
     "text": [
      "\u001b[2m\u001b[36m(func pid=10192)\u001b[0m \n",
      "\u001b[2m\u001b[36m(func pid=10192)\u001b[0m Epoch 80\n"
     ]
    },
    {
     "name": "stderr",
     "output_type": "stream",
     "text": [
      " 11%|█▏        | 10/87 [00:00<00:00, 95.16it/s]\n",
      " 23%|██▎       | 20/87 [00:00<00:00, 95.16it/s]\n",
      " 34%|███▍      | 30/87 [00:00<00:00, 96.53it/s]\n",
      " 46%|████▌     | 40/87 [00:00<00:00, 95.68it/s]\n",
      " 57%|█████▋    | 50/87 [00:00<00:00, 94.51it/s]\n",
      " 69%|██████▉   | 60/87 [00:00<00:00, 90.05it/s]\n",
      " 80%|████████  | 70/87 [00:00<00:00, 92.02it/s]\n",
      "100%|██████████| 87/87 [00:00<00:00, 93.65it/s]\n",
      "  0%|          | 0/25 [00:00<?, ?it/s]\n",
      "100%|██████████| 25/25 [00:00<00:00, 177.50it/s]\n",
      "  0%|          | 0/87 [00:00<?, ?it/s]\n",
      " 11%|█▏        | 10/87 [00:00<00:00, 99.78it/s]\n"
     ]
    },
    {
     "name": "stdout",
     "output_type": "stream",
     "text": [
      "\u001b[2m\u001b[36m(func pid=10192)\u001b[0m \n",
      "\u001b[2m\u001b[36m(func pid=10192)\u001b[0m Epoch 81\n"
     ]
    },
    {
     "name": "stderr",
     "output_type": "stream",
     "text": [
      " 24%|██▍       | 21/87 [00:00<00:00, 99.45it/s]\n",
      " 37%|███▋      | 32/87 [00:00<00:00, 99.77it/s]\n",
      " 48%|████▊     | 42/87 [00:00<00:00, 98.35it/s]\n",
      " 60%|█████▉    | 52/87 [00:00<00:00, 98.23it/s]\n",
      " 71%|███████▏  | 62/87 [00:00<00:00, 93.28it/s]\n",
      " 84%|████████▍ | 73/87 [00:00<00:00, 95.79it/s]\n",
      " 97%|█████████▋| 84/87 [00:00<00:00, 97.33it/s]\n",
      "100%|██████████| 87/87 [00:00<00:00, 97.41it/s]\n",
      "  0%|          | 0/25 [00:00<?, ?it/s]\n",
      "100%|██████████| 25/25 [00:00<00:00, 181.36it/s]\n",
      "  0%|          | 0/87 [00:00<?, ?it/s]\n",
      " 11%|█▏        | 10/87 [00:00<00:00, 97.82it/s]\n"
     ]
    },
    {
     "name": "stdout",
     "output_type": "stream",
     "text": [
      "\u001b[2m\u001b[36m(func pid=10192)\u001b[0m \n",
      "\u001b[2m\u001b[36m(func pid=10192)\u001b[0m Epoch 82\n"
     ]
    },
    {
     "name": "stderr",
     "output_type": "stream",
     "text": [
      " 23%|██▎       | 20/87 [00:00<00:00, 98.05it/s]\n",
      " 36%|███▌      | 31/87 [00:00<00:00, 99.79it/s]\n",
      " 48%|████▊     | 42/87 [00:00<00:00, 100.52it/s]\n",
      " 61%|██████    | 53/87 [00:00<00:00, 100.30it/s]\n",
      " 74%|███████▎  | 64/87 [00:00<00:00, 100.86it/s]\n",
      " 86%|████████▌ | 75/87 [00:00<00:00, 98.84it/s] \n",
      "  0%|          | 0/25 [00:00<?, ?it/s]\n",
      " 60%|██████    | 15/25 [00:00<00:00, 92.14it/s]\n",
      "100%|██████████| 25/25 [00:00<00:00, 115.15it/s]\n",
      "  0%|          | 0/87 [00:00<?, ?it/s]\n",
      " 11%|█▏        | 10/87 [00:00<00:00, 92.64it/s]\n"
     ]
    },
    {
     "name": "stdout",
     "output_type": "stream",
     "text": [
      "\u001b[2m\u001b[36m(func pid=10192)\u001b[0m \n",
      "\u001b[2m\u001b[36m(func pid=10192)\u001b[0m Epoch 83\n"
     ]
    },
    {
     "name": "stderr",
     "output_type": "stream",
     "text": [
      " 23%|██▎       | 20/87 [00:00<00:00, 93.64it/s]\n",
      " 34%|███▍      | 30/87 [00:00<00:00, 95.20it/s]\n",
      " 46%|████▌     | 40/87 [00:00<00:00, 95.61it/s]\n",
      " 57%|█████▋    | 50/87 [00:00<00:00, 96.12it/s]\n",
      " 69%|██████▉   | 60/87 [00:00<00:00, 96.42it/s]\n",
      " 80%|████████  | 70/87 [00:00<00:00, 97.27it/s]\n",
      " 92%|█████████▏| 80/87 [00:00<00:00, 97.37it/s]\n",
      "100%|██████████| 87/87 [00:00<00:00, 97.09it/s]\n",
      "  0%|          | 0/25 [00:00<?, ?it/s]\n",
      "100%|██████████| 25/25 [00:00<00:00, 187.69it/s]\n",
      "  0%|          | 0/87 [00:00<?, ?it/s]\n",
      " 13%|█▎        | 11/87 [00:00<00:00, 100.22it/s]\n"
     ]
    },
    {
     "name": "stdout",
     "output_type": "stream",
     "text": [
      "\u001b[2m\u001b[36m(func pid=10192)\u001b[0m \n",
      "\u001b[2m\u001b[36m(func pid=10192)\u001b[0m Epoch 84\n"
     ]
    },
    {
     "name": "stderr",
     "output_type": "stream",
     "text": [
      " 25%|██▌       | 22/87 [00:00<00:00, 99.56it/s] \n",
      " 37%|███▋      | 32/87 [00:00<00:00, 97.19it/s]\n",
      " 48%|████▊     | 42/87 [00:00<00:00, 97.89it/s]\n",
      " 60%|█████▉    | 52/87 [00:00<00:00, 97.60it/s]\n",
      " 71%|███████▏  | 62/87 [00:00<00:00, 96.19it/s]\n",
      " 83%|████████▎ | 72/87 [00:00<00:00, 96.46it/s]\n",
      "100%|██████████| 87/87 [00:00<00:00, 97.57it/s]\n",
      "  0%|          | 0/25 [00:00<?, ?it/s]\n",
      " 76%|███████▌  | 19/25 [00:00<00:00, 179.69it/s]\n",
      "100%|██████████| 25/25 [00:00<00:00, 181.87it/s]\n",
      "  0%|          | 0/87 [00:00<?, ?it/s]\n",
      " 11%|█▏        | 10/87 [00:00<00:00, 98.38it/s]\n"
     ]
    },
    {
     "name": "stdout",
     "output_type": "stream",
     "text": [
      "\u001b[2m\u001b[36m(func pid=10192)\u001b[0m \n",
      "\u001b[2m\u001b[36m(func pid=10192)\u001b[0m Epoch 85\n"
     ]
    },
    {
     "name": "stderr",
     "output_type": "stream",
     "text": [
      " 24%|██▍       | 21/87 [00:00<00:00, 99.56it/s]\n",
      " 37%|███▋      | 32/87 [00:00<00:00, 101.51it/s]\n",
      " 49%|████▉     | 43/87 [00:00<00:00, 95.18it/s] \n",
      " 62%|██████▏   | 54/87 [00:00<00:00, 98.27it/s]\n",
      " 75%|███████▍  | 65/87 [00:00<00:00, 100.35it/s]\n",
      " 87%|████████▋ | 76/87 [00:00<00:00, 101.65it/s]\n",
      "100%|██████████| 87/87 [00:00<00:00, 100.77it/s]\n",
      "  0%|          | 0/25 [00:00<?, ?it/s]\n",
      " 32%|███▏      | 8/25 [00:00<00:00, 68.10it/s]\n",
      "100%|██████████| 25/25 [00:00<00:00, 119.46it/s]\n",
      "  0%|          | 0/87 [00:00<?, ?it/s]\n",
      " 11%|█▏        | 10/87 [00:00<00:00, 95.11it/s]\n"
     ]
    },
    {
     "name": "stdout",
     "output_type": "stream",
     "text": [
      "\u001b[2m\u001b[36m(func pid=10192)\u001b[0m \n",
      "\u001b[2m\u001b[36m(func pid=10192)\u001b[0m Epoch 86\n"
     ]
    },
    {
     "name": "stderr",
     "output_type": "stream",
     "text": [
      " 24%|██▍       | 21/87 [00:00<00:00, 99.19it/s]\n",
      " 36%|███▌      | 31/87 [00:00<00:00, 99.26it/s]\n",
      " 47%|████▋     | 41/87 [00:00<00:00, 98.30it/s]\n",
      " 59%|█████▊    | 51/87 [00:00<00:00, 95.27it/s]\n",
      " 70%|███████   | 61/87 [00:00<00:00, 94.88it/s]\n",
      " 82%|████████▏ | 71/87 [00:00<00:00, 93.85it/s]\n",
      " 93%|█████████▎| 81/87 [00:00<00:00, 95.45it/s]\n",
      "100%|██████████| 87/87 [00:00<00:00, 96.29it/s]\n",
      "  0%|          | 0/25 [00:00<?, ?it/s]\n",
      "100%|██████████| 25/25 [00:00<00:00, 179.98it/s]\n",
      "  0%|          | 0/87 [00:00<?, ?it/s]\n",
      " 11%|█▏        | 10/87 [00:00<00:00, 94.81it/s]\n"
     ]
    },
    {
     "name": "stdout",
     "output_type": "stream",
     "text": [
      "\u001b[2m\u001b[36m(func pid=10192)\u001b[0m \n",
      "\u001b[2m\u001b[36m(func pid=10192)\u001b[0m Epoch 87\n"
     ]
    },
    {
     "name": "stderr",
     "output_type": "stream",
     "text": [
      " 23%|██▎       | 20/87 [00:00<00:00, 95.95it/s]\n",
      " 36%|███▌      | 31/87 [00:00<00:00, 99.87it/s]\n",
      " 47%|████▋     | 41/87 [00:00<00:00, 99.90it/s]\n",
      " 60%|█████▉    | 52/87 [00:00<00:00, 100.62it/s]\n",
      " 72%|███████▏  | 63/87 [00:00<00:00, 100.07it/s]\n",
      "100%|██████████| 87/87 [00:00<00:00, 99.75it/s]\n",
      "  0%|          | 0/25 [00:00<?, ?it/s]\n",
      " 72%|███████▏  | 18/25 [00:00<00:00, 173.09it/s]\n",
      "100%|██████████| 25/25 [00:00<00:00, 158.76it/s]\n",
      "  0%|          | 0/87 [00:00<?, ?it/s]\n",
      " 11%|█▏        | 10/87 [00:00<00:00, 93.87it/s]\n"
     ]
    },
    {
     "name": "stdout",
     "output_type": "stream",
     "text": [
      "\u001b[2m\u001b[36m(func pid=10192)\u001b[0m \n",
      "\u001b[2m\u001b[36m(func pid=10192)\u001b[0m Epoch 88\n"
     ]
    },
    {
     "name": "stderr",
     "output_type": "stream",
     "text": [
      " 23%|██▎       | 20/87 [00:00<00:00, 96.58it/s]\n",
      " 34%|███▍      | 30/87 [00:00<00:00, 96.37it/s]\n",
      " 46%|████▌     | 40/87 [00:00<00:00, 96.39it/s]\n",
      " 57%|█████▋    | 50/87 [00:00<00:00, 96.91it/s]\n",
      " 69%|██████▉   | 60/87 [00:00<00:00, 97.29it/s]\n",
      " 80%|████████  | 70/87 [00:00<00:00, 97.86it/s]\n",
      "100%|██████████| 87/87 [00:00<00:00, 97.65it/s]\n",
      "  0%|          | 0/25 [00:00<?, ?it/s]\n",
      "100%|██████████| 25/25 [00:00<00:00, 120.31it/s]\n",
      "  0%|          | 0/87 [00:00<?, ?it/s]\n",
      " 11%|█▏        | 10/87 [00:00<00:00, 97.93it/s]\n"
     ]
    },
    {
     "name": "stdout",
     "output_type": "stream",
     "text": [
      "\u001b[2m\u001b[36m(func pid=10192)\u001b[0m \n",
      "\u001b[2m\u001b[36m(func pid=10192)\u001b[0m Epoch 89\n"
     ]
    },
    {
     "name": "stderr",
     "output_type": "stream",
     "text": [
      " 23%|██▎       | 20/87 [00:00<00:00, 98.17it/s]\n",
      " 34%|███▍      | 30/87 [00:00<00:00, 98.47it/s]\n",
      " 47%|████▋     | 41/87 [00:00<00:00, 99.20it/s]\n",
      " 60%|█████▉    | 52/87 [00:00<00:00, 99.75it/s]\n",
      " 71%|███████▏  | 62/87 [00:00<00:00, 99.49it/s]\n",
      " 84%|████████▍ | 73/87 [00:00<00:00, 100.03it/s]\n",
      "100%|██████████| 87/87 [00:00<00:00, 100.12it/s]\n",
      "  0%|          | 0/25 [00:00<?, ?it/s]\n",
      "100%|██████████| 25/25 [00:00<00:00, 180.04it/s]\n",
      "  0%|          | 0/87 [00:00<?, ?it/s]\n"
     ]
    },
    {
     "name": "stdout",
     "output_type": "stream",
     "text": [
      "\u001b[2m\u001b[36m(func pid=10192)\u001b[0m \n",
      "\u001b[2m\u001b[36m(func pid=10192)\u001b[0m Epoch 90\n"
     ]
    },
    {
     "name": "stderr",
     "output_type": "stream",
     "text": [
      " 11%|█▏        | 10/87 [00:00<00:00, 97.92it/s]\n",
      " 23%|██▎       | 20/87 [00:00<00:00, 99.01it/s]\n",
      " 36%|███▌      | 31/87 [00:00<00:00, 99.44it/s]\n",
      " 47%|████▋     | 41/87 [00:00<00:00, 98.30it/s]\n",
      " 59%|█████▊    | 51/87 [00:00<00:00, 96.82it/s]\n",
      " 70%|███████   | 61/87 [00:00<00:00, 96.90it/s]\n",
      " 82%|████████▏ | 71/87 [00:00<00:00, 89.54it/s]\n",
      " 93%|█████████▎| 81/87 [00:00<00:00, 90.44it/s]\n",
      "100%|██████████| 87/87 [00:00<00:00, 93.59it/s]\n",
      "  0%|          | 0/25 [00:00<?, ?it/s]\n",
      " 64%|██████▍   | 16/25 [00:00<00:00, 152.16it/s]\n",
      "100%|██████████| 25/25 [00:00<00:00, 157.55it/s]\n",
      "  0%|          | 0/87 [00:00<?, ?it/s]\n"
     ]
    },
    {
     "name": "stdout",
     "output_type": "stream",
     "text": [
      "\u001b[2m\u001b[36m(func pid=10192)\u001b[0m \n",
      "\u001b[2m\u001b[36m(func pid=10192)\u001b[0m Epoch 91\n"
     ]
    },
    {
     "name": "stderr",
     "output_type": "stream",
     "text": [
      " 11%|█▏        | 10/87 [00:00<00:00, 97.07it/s]\n",
      " 23%|██▎       | 20/87 [00:00<00:00, 93.81it/s]\n",
      " 34%|███▍      | 30/87 [00:00<00:00, 94.19it/s]\n",
      " 46%|████▌     | 40/87 [00:00<00:00, 93.84it/s]\n",
      " 57%|█████▋    | 50/87 [00:00<00:00, 93.05it/s]\n",
      " 69%|██████▉   | 60/87 [00:00<00:00, 92.89it/s]\n",
      " 80%|████████  | 70/87 [00:00<00:00, 94.24it/s]\n",
      " 92%|█████████▏| 80/87 [00:00<00:00, 94.23it/s]\n",
      "100%|██████████| 87/87 [00:00<00:00, 94.41it/s]\n",
      "  0%|          | 0/25 [00:00<?, ?it/s]\n",
      "  0%|          | 0/87 [00:00<?, ?it/s]\n",
      " 11%|█▏        | 10/87 [00:00<00:00, 93.19it/s]\n"
     ]
    },
    {
     "name": "stdout",
     "output_type": "stream",
     "text": [
      "\u001b[2m\u001b[36m(func pid=10192)\u001b[0m \n",
      "\u001b[2m\u001b[36m(func pid=10192)\u001b[0m Epoch 92\n"
     ]
    },
    {
     "name": "stderr",
     "output_type": "stream",
     "text": [
      " 23%|██▎       | 20/87 [00:00<00:00, 94.52it/s]\n",
      " 34%|███▍      | 30/87 [00:00<00:00, 95.14it/s]\n",
      " 46%|████▌     | 40/87 [00:00<00:00, 94.11it/s]\n",
      " 57%|█████▋    | 50/87 [00:00<00:00, 91.36it/s]\n",
      " 69%|██████▉   | 60/87 [00:00<00:00, 90.37it/s]\n",
      " 80%|████████  | 70/87 [00:00<00:00, 91.72it/s]\n",
      "100%|██████████| 87/87 [00:00<00:00, 92.92it/s]\n",
      "  0%|          | 0/25 [00:00<?, ?it/s]\n",
      "100%|██████████| 25/25 [00:00<00:00, 181.35it/s]\n",
      "  0%|          | 0/87 [00:00<?, ?it/s]\n",
      " 11%|█▏        | 10/87 [00:00<00:00, 96.31it/s]\n",
      " 23%|██▎       | 20/87 [00:00<00:00, 96.78it/s]\n"
     ]
    },
    {
     "name": "stdout",
     "output_type": "stream",
     "text": [
      "\u001b[2m\u001b[36m(func pid=10192)\u001b[0m \n",
      "\u001b[2m\u001b[36m(func pid=10192)\u001b[0m Epoch 93\n"
     ]
    },
    {
     "name": "stderr",
     "output_type": "stream",
     "text": [
      " 34%|███▍      | 30/87 [00:00<00:00, 97.42it/s]\n",
      " 46%|████▌     | 40/87 [00:00<00:00, 96.72it/s]\n",
      " 57%|█████▋    | 50/87 [00:00<00:00, 95.94it/s]\n",
      " 69%|██████▉   | 60/87 [00:00<00:00, 95.89it/s]\n",
      " 80%|████████  | 70/87 [00:00<00:00, 95.85it/s]\n",
      " 92%|█████████▏| 80/87 [00:00<00:00, 96.22it/s]\n",
      "100%|██████████| 87/87 [00:00<00:00, 96.37it/s]\n",
      "  0%|          | 0/25 [00:00<?, ?it/s]\n",
      " 72%|███████▏  | 18/25 [00:00<00:00, 176.88it/s]\n",
      "100%|██████████| 25/25 [00:00<00:00, 178.34it/s]\n",
      "  0%|          | 0/87 [00:00<?, ?it/s]\n",
      " 11%|█▏        | 10/87 [00:00<00:00, 93.43it/s]\n"
     ]
    },
    {
     "name": "stdout",
     "output_type": "stream",
     "text": [
      "\u001b[2m\u001b[36m(func pid=10192)\u001b[0m \n",
      "\u001b[2m\u001b[36m(func pid=10192)\u001b[0m Epoch 94\n"
     ]
    },
    {
     "name": "stderr",
     "output_type": "stream",
     "text": [
      " 23%|██▎       | 20/87 [00:00<00:00, 94.99it/s]\n",
      " 34%|███▍      | 30/87 [00:00<00:00, 93.02it/s]\n",
      " 46%|████▌     | 40/87 [00:00<00:00, 92.50it/s]\n",
      " 57%|█████▋    | 50/87 [00:00<00:00, 94.08it/s]\n",
      " 69%|██████▉   | 60/87 [00:00<00:00, 94.87it/s]\n",
      " 80%|████████  | 70/87 [00:00<00:00, 96.13it/s]\n",
      "100%|██████████| 87/87 [00:00<00:00, 95.92it/s]\n",
      "  0%|          | 0/25 [00:00<?, ?it/s]\n",
      " 44%|████▍     | 11/25 [00:00<00:00, 79.59it/s]\n",
      "100%|██████████| 25/25 [00:00<00:00, 115.65it/s]\n",
      "  0%|          | 0/87 [00:00<?, ?it/s]\n",
      " 11%|█▏        | 10/87 [00:00<00:00, 99.06it/s]\n"
     ]
    },
    {
     "name": "stdout",
     "output_type": "stream",
     "text": [
      "\u001b[2m\u001b[36m(func pid=10192)\u001b[0m \n",
      "\u001b[2m\u001b[36m(func pid=10192)\u001b[0m Epoch 95\n"
     ]
    },
    {
     "name": "stderr",
     "output_type": "stream",
     "text": [
      " 23%|██▎       | 20/87 [00:00<00:00, 98.36it/s]\n",
      " 34%|███▍      | 30/87 [00:00<00:00, 94.94it/s]\n",
      " 46%|████▌     | 40/87 [00:00<00:00, 91.25it/s]\n",
      " 57%|█████▋    | 50/87 [00:00<00:00, 91.35it/s]\n",
      " 69%|██████▉   | 60/87 [00:00<00:00, 92.08it/s]\n",
      " 80%|████████  | 70/87 [00:00<00:00, 92.50it/s]\n",
      " 92%|█████████▏| 80/87 [00:00<00:00, 92.32it/s]\n",
      "100%|██████████| 87/87 [00:00<00:00, 93.42it/s]\n",
      "  0%|          | 0/25 [00:00<?, ?it/s]\n",
      " 76%|███████▌  | 19/25 [00:00<00:00, 184.01it/s]\n",
      "100%|██████████| 25/25 [00:00<00:00, 181.30it/s]\n",
      "  0%|          | 0/87 [00:00<?, ?it/s]\n",
      " 11%|█▏        | 10/87 [00:00<00:00, 92.54it/s]\n"
     ]
    },
    {
     "name": "stdout",
     "output_type": "stream",
     "text": [
      "\u001b[2m\u001b[36m(func pid=10192)\u001b[0m \n",
      "\u001b[2m\u001b[36m(func pid=10192)\u001b[0m Epoch 96\n"
     ]
    },
    {
     "name": "stderr",
     "output_type": "stream",
     "text": [
      " 23%|██▎       | 20/87 [00:00<00:00, 90.10it/s]\n",
      " 34%|███▍      | 30/87 [00:00<00:00, 92.76it/s]\n",
      " 46%|████▌     | 40/87 [00:00<00:00, 94.04it/s]\n",
      " 57%|█████▋    | 50/87 [00:00<00:00, 93.92it/s]\n",
      " 69%|██████▉   | 60/87 [00:00<00:00, 93.62it/s]\n",
      " 80%|████████  | 70/87 [00:00<00:00, 94.35it/s]\n",
      "  0%|          | 0/25 [00:00<?, ?it/s]\n",
      "100%|██████████| 25/25 [00:00<00:00, 179.74it/s]\n",
      "  0%|          | 0/87 [00:00<?, ?it/s]\n",
      " 11%|█▏        | 10/87 [00:00<00:00, 98.46it/s]\n"
     ]
    },
    {
     "name": "stdout",
     "output_type": "stream",
     "text": [
      "\u001b[2m\u001b[36m(func pid=10192)\u001b[0m \n",
      "\u001b[2m\u001b[36m(func pid=10192)\u001b[0m Epoch 97\n"
     ]
    },
    {
     "name": "stderr",
     "output_type": "stream",
     "text": [
      " 24%|██▍       | 21/87 [00:00<00:00, 99.14it/s]\n",
      " 36%|███▌      | 31/87 [00:00<00:00, 88.70it/s]\n",
      " 47%|████▋     | 41/87 [00:00<00:00, 90.44it/s]\n",
      " 59%|█████▊    | 51/87 [00:00<00:00, 92.64it/s]\n",
      " 70%|███████   | 61/87 [00:00<00:00, 93.22it/s]\n",
      " 82%|████████▏ | 71/87 [00:00<00:00, 93.47it/s]\n",
      "100%|██████████| 87/87 [00:00<00:00, 93.73it/s]\n",
      "  0%|          | 0/25 [00:00<?, ?it/s]\n",
      " 64%|██████▍   | 16/25 [00:00<00:00, 95.85it/s]\n",
      "100%|██████████| 25/25 [00:00<00:00, 112.22it/s]\n",
      "  0%|          | 0/87 [00:00<?, ?it/s]\n",
      " 11%|█▏        | 10/87 [00:00<00:00, 99.00it/s]\n"
     ]
    },
    {
     "name": "stdout",
     "output_type": "stream",
     "text": [
      "\u001b[2m\u001b[36m(func pid=10192)\u001b[0m \n",
      "\u001b[2m\u001b[36m(func pid=10192)\u001b[0m Epoch 98\n"
     ]
    },
    {
     "name": "stderr",
     "output_type": "stream",
     "text": [
      " 23%|██▎       | 20/87 [00:00<00:00, 97.86it/s]\n",
      " 34%|███▍      | 30/87 [00:00<00:00, 93.33it/s]\n",
      " 46%|████▌     | 40/87 [00:00<00:00, 90.08it/s]\n",
      " 57%|█████▋    | 50/87 [00:00<00:00, 91.30it/s]\n",
      " 69%|██████▉   | 60/87 [00:00<00:00, 92.31it/s]\n",
      " 80%|████████  | 70/87 [00:00<00:00, 93.50it/s]\n",
      " 92%|█████████▏| 80/87 [00:00<00:00, 93.63it/s]\n",
      "100%|██████████| 87/87 [00:00<00:00, 94.15it/s]\n",
      "  0%|          | 0/25 [00:00<?, ?it/s]\n",
      "100%|██████████| 25/25 [00:00<00:00, 187.84it/s]\n",
      "  0%|          | 0/87 [00:00<?, ?it/s]\n",
      " 11%|█▏        | 10/87 [00:00<00:00, 98.72it/s]\n"
     ]
    },
    {
     "name": "stdout",
     "output_type": "stream",
     "text": [
      "\u001b[2m\u001b[36m(func pid=10192)\u001b[0m \n",
      "\u001b[2m\u001b[36m(func pid=10192)\u001b[0m Epoch 99\n"
     ]
    },
    {
     "name": "stderr",
     "output_type": "stream",
     "text": [
      " 24%|██▍       | 21/87 [00:00<00:00, 100.74it/s]\n",
      " 37%|███▋      | 32/87 [00:00<00:00, 99.44it/s] \n",
      " 49%|████▉     | 43/87 [00:00<00:00, 100.08it/s]\n",
      " 62%|██████▏   | 54/87 [00:00<00:00, 100.31it/s]\n",
      " 75%|███████▍  | 65/87 [00:00<00:00, 100.25it/s]\n",
      " 87%|████████▋ | 76/87 [00:00<00:00, 101.41it/s]\n",
      "100%|██████████| 87/87 [00:00<00:00, 101.15it/s]\n",
      "  0%|          | 0/25 [00:00<?, ?it/s]\n",
      " 72%|███████▏  | 18/25 [00:00<00:00, 175.31it/s]\n",
      "100%|██████████| 25/25 [00:00<00:00, 180.11it/s]\n",
      "  0%|          | 0/87 [00:00<?, ?it/s]\n",
      " 11%|█▏        | 10/87 [00:00<00:00, 98.27it/s]\n"
     ]
    },
    {
     "name": "stdout",
     "output_type": "stream",
     "text": [
      "\u001b[2m\u001b[36m(func pid=10192)\u001b[0m \n",
      "\u001b[2m\u001b[36m(func pid=10192)\u001b[0m Epoch 100\n"
     ]
    },
    {
     "name": "stderr",
     "output_type": "stream",
     "text": [
      " 24%|██▍       | 21/87 [00:00<00:00, 100.52it/s]\n",
      " 37%|███▋      | 32/87 [00:00<00:00, 101.04it/s]\n",
      " 49%|████▉     | 43/87 [00:00<00:00, 101.59it/s]\n",
      " 62%|██████▏   | 54/87 [00:00<00:00, 102.18it/s]\n",
      " 75%|███████▍  | 65/87 [00:00<00:00, 99.24it/s] \n",
      " 87%|████████▋ | 76/87 [00:00<00:00, 99.78it/s]\n",
      "100%|██████████| 87/87 [00:00<00:00, 100.61it/s]\n",
      "  0%|          | 0/25 [00:00<?, ?it/s]\n",
      " 60%|██████    | 15/25 [00:00<00:00, 94.84it/s]\n",
      "100%|██████████| 25/25 [00:00<00:00, 119.06it/s]\n",
      "  0%|          | 0/87 [00:00<?, ?it/s]\n",
      " 11%|█▏        | 10/87 [00:00<00:00, 94.85it/s]\n"
     ]
    },
    {
     "name": "stdout",
     "output_type": "stream",
     "text": [
      "\u001b[2m\u001b[36m(func pid=10192)\u001b[0m \n",
      "\u001b[2m\u001b[36m(func pid=10192)\u001b[0m Epoch 101\n"
     ]
    },
    {
     "name": "stderr",
     "output_type": "stream",
     "text": [
      " 23%|██▎       | 20/87 [00:00<00:00, 96.77it/s]\n",
      " 36%|███▌      | 31/87 [00:00<00:00, 99.98it/s]\n",
      " 48%|████▊     | 42/87 [00:00<00:00, 102.09it/s]\n",
      " 61%|██████    | 53/87 [00:00<00:00, 102.89it/s]\n",
      " 74%|███████▎  | 64/87 [00:00<00:00, 102.86it/s]\n",
      " 72%|███████▏  | 18/25 [00:00<00:00, 174.90it/s]\n",
      "100%|██████████| 25/25 [00:00<00:00, 175.89it/s]\n",
      "  0%|          | 0/87 [00:00<?, ?it/s]\n",
      " 13%|█▎        | 11/87 [00:00<00:00, 102.77it/s]\n"
     ]
    },
    {
     "name": "stdout",
     "output_type": "stream",
     "text": [
      "\u001b[2m\u001b[36m(func pid=10192)\u001b[0m \n",
      "\u001b[2m\u001b[36m(func pid=10192)\u001b[0m Epoch 102\n"
     ]
    },
    {
     "name": "stderr",
     "output_type": "stream",
     "text": [
      " 25%|██▌       | 22/87 [00:00<00:00, 103.98it/s]\n",
      " 38%|███▊      | 33/87 [00:00<00:00, 98.52it/s] \n",
      " 49%|████▉     | 43/87 [00:00<00:00, 98.40it/s]\n",
      " 62%|██████▏   | 54/87 [00:00<00:00, 99.93it/s]\n",
      " 75%|███████▍  | 65/87 [00:00<00:00, 100.09it/s]\n",
      " 87%|████████▋ | 76/87 [00:00<00:00, 101.14it/s]\n",
      "100%|██████████| 87/87 [00:00<00:00, 100.80it/s]\n",
      "  0%|          | 0/25 [00:00<?, ?it/s]\n",
      "100%|██████████| 25/25 [00:00<00:00, 192.55it/s]\n",
      "  0%|          | 0/87 [00:00<?, ?it/s]\n",
      " 13%|█▎        | 11/87 [00:00<00:00, 103.72it/s]\n"
     ]
    },
    {
     "name": "stdout",
     "output_type": "stream",
     "text": [
      "\u001b[2m\u001b[36m(func pid=10192)\u001b[0m \n",
      "\u001b[2m\u001b[36m(func pid=10192)\u001b[0m Epoch 103\n"
     ]
    },
    {
     "name": "stderr",
     "output_type": "stream",
     "text": [
      " 25%|██▌       | 22/87 [00:00<00:00, 102.69it/s]\n",
      " 38%|███▊      | 33/87 [00:00<00:00, 101.83it/s]\n",
      " 51%|█████     | 44/87 [00:00<00:00, 101.81it/s]\n",
      " 63%|██████▎   | 55/87 [00:00<00:00, 101.16it/s]\n",
      " 76%|███████▌  | 66/87 [00:00<00:00, 99.83it/s] \n",
      " 87%|████████▋ | 76/87 [00:00<00:00, 98.34it/s]\n",
      "100%|██████████| 87/87 [00:00<00:00, 100.23it/s]\n",
      "  0%|          | 0/25 [00:00<?, ?it/s]\n",
      " 32%|███▏      | 8/25 [00:00<00:00, 65.99it/s]\n",
      "100%|██████████| 25/25 [00:00<00:00, 117.80it/s]\n",
      "  0%|          | 0/87 [00:00<?, ?it/s]\n",
      " 11%|█▏        | 10/87 [00:00<00:00, 99.11it/s]\n"
     ]
    },
    {
     "name": "stdout",
     "output_type": "stream",
     "text": [
      "\u001b[2m\u001b[36m(func pid=10192)\u001b[0m \n",
      "\u001b[2m\u001b[36m(func pid=10192)\u001b[0m Epoch 104\n"
     ]
    },
    {
     "name": "stderr",
     "output_type": "stream",
     "text": [
      " 24%|██▍       | 21/87 [00:00<00:00, 99.52it/s]\n",
      " 36%|███▌      | 31/87 [00:00<00:00, 98.08it/s]\n",
      " 47%|████▋     | 41/87 [00:00<00:00, 97.53it/s]\n",
      " 59%|█████▊    | 51/87 [00:00<00:00, 92.70it/s]\n",
      " 70%|███████   | 61/87 [00:00<00:00, 92.93it/s]\n",
      " 82%|████████▏ | 71/87 [00:00<00:00, 91.98it/s]\n",
      "100%|██████████| 87/87 [00:00<00:00, 95.30it/s]\n",
      "  0%|          | 0/25 [00:00<?, ?it/s]\n",
      "100%|██████████| 25/25 [00:00<00:00, 177.58it/s]\n",
      "  0%|          | 0/87 [00:00<?, ?it/s]\n",
      " 11%|█▏        | 10/87 [00:00<00:00, 95.24it/s]\n"
     ]
    },
    {
     "name": "stdout",
     "output_type": "stream",
     "text": [
      "\u001b[2m\u001b[36m(func pid=10192)\u001b[0m \n",
      "\u001b[2m\u001b[36m(func pid=10192)\u001b[0m Epoch 105\n"
     ]
    },
    {
     "name": "stderr",
     "output_type": "stream",
     "text": [
      " 23%|██▎       | 20/87 [00:00<00:00, 96.95it/s]\n",
      " 34%|███▍      | 30/87 [00:00<00:00, 95.31it/s]\n",
      " 46%|████▌     | 40/87 [00:00<00:00, 93.19it/s]\n",
      " 57%|█████▋    | 50/87 [00:00<00:00, 92.50it/s]\n",
      " 69%|██████▉   | 60/87 [00:00<00:00, 92.85it/s]\n",
      " 80%|████████  | 70/87 [00:00<00:00, 91.73it/s]\n",
      "100%|██████████| 87/87 [00:00<00:00, 92.95it/s]\n",
      "  0%|          | 0/25 [00:00<?, ?it/s]\n",
      "100%|██████████| 25/25 [00:00<00:00, 169.04it/s]\n",
      "  0%|          | 0/87 [00:00<?, ?it/s]\n",
      " 11%|█▏        | 10/87 [00:00<00:00, 93.43it/s]\n"
     ]
    },
    {
     "name": "stdout",
     "output_type": "stream",
     "text": [
      "\u001b[2m\u001b[36m(func pid=10192)\u001b[0m \n",
      "\u001b[2m\u001b[36m(func pid=10192)\u001b[0m Epoch 106\n"
     ]
    },
    {
     "name": "stderr",
     "output_type": "stream",
     "text": [
      " 23%|██▎       | 20/87 [00:00<00:00, 94.12it/s]\n",
      " 34%|███▍      | 30/87 [00:00<00:00, 91.72it/s]\n",
      " 46%|████▌     | 40/87 [00:00<00:00, 92.88it/s]\n",
      " 57%|█████▋    | 50/87 [00:00<00:00, 92.92it/s]\n",
      " 69%|██████▉   | 60/87 [00:00<00:00, 92.50it/s]\n",
      " 80%|████████  | 70/87 [00:00<00:00, 92.27it/s]\n",
      "  0%|          | 0/25 [00:00<?, ?it/s]\n",
      " 64%|██████▍   | 16/25 [00:00<00:00, 158.59it/s]\n",
      "100%|██████████| 25/25 [00:00<00:00, 102.00it/s]\n",
      "  0%|          | 0/87 [00:00<?, ?it/s]\n",
      " 10%|█         | 9/87 [00:00<00:00, 89.25it/s]\n"
     ]
    },
    {
     "name": "stdout",
     "output_type": "stream",
     "text": [
      "\u001b[2m\u001b[36m(func pid=10192)\u001b[0m \n",
      "\u001b[2m\u001b[36m(func pid=10192)\u001b[0m Epoch 107\n"
     ]
    },
    {
     "name": "stderr",
     "output_type": "stream",
     "text": [
      " 22%|██▏       | 19/87 [00:00<00:00, 91.54it/s]\n",
      " 33%|███▎      | 29/87 [00:00<00:00, 92.78it/s]\n",
      " 45%|████▍     | 39/87 [00:00<00:00, 92.90it/s]\n",
      " 57%|█████▋    | 50/87 [00:00<00:00, 95.66it/s]\n",
      " 80%|████████  | 70/87 [00:00<00:00, 96.86it/s]\n",
      " 92%|█████████▏| 80/87 [00:00<00:00, 97.81it/s]\n",
      "100%|██████████| 87/87 [00:00<00:00, 96.18it/s]\n",
      "  0%|          | 0/25 [00:00<?, ?it/s]\n",
      " 72%|███████▏  | 18/25 [00:00<00:00, 176.08it/s]\n",
      "100%|██████████| 25/25 [00:00<00:00, 179.60it/s]\n",
      "  0%|          | 0/87 [00:00<?, ?it/s]\n",
      " 11%|█▏        | 10/87 [00:00<00:00, 96.09it/s]\n"
     ]
    },
    {
     "name": "stdout",
     "output_type": "stream",
     "text": [
      "\u001b[2m\u001b[36m(func pid=10192)\u001b[0m \n",
      "\u001b[2m\u001b[36m(func pid=10192)\u001b[0m Epoch 108\n"
     ]
    },
    {
     "name": "stderr",
     "output_type": "stream",
     "text": [
      " 23%|██▎       | 20/87 [00:00<00:00, 97.20it/s]\n",
      " 34%|███▍      | 30/87 [00:00<00:00, 91.54it/s]\n",
      " 46%|████▌     | 40/87 [00:00<00:00, 94.40it/s]\n",
      " 59%|█████▊    | 51/87 [00:00<00:00, 97.05it/s]\n",
      " 70%|███████   | 61/87 [00:00<00:00, 97.68it/s]\n",
      " 82%|████████▏ | 71/87 [00:00<00:00, 98.16it/s]\n",
      " 93%|█████████▎| 81/87 [00:00<00:00, 95.33it/s]\n",
      "100%|██████████| 87/87 [00:00<00:00, 96.05it/s]\n",
      "  0%|          | 0/25 [00:00<?, ?it/s]\n",
      "100%|██████████| 25/25 [00:00<00:00, 179.90it/s]\n",
      "  0%|          | 0/87 [00:00<?, ?it/s]\n",
      " 11%|█▏        | 10/87 [00:00<00:00, 96.58it/s]\n"
     ]
    },
    {
     "name": "stdout",
     "output_type": "stream",
     "text": [
      "\u001b[2m\u001b[36m(func pid=10192)\u001b[0m \n",
      "\u001b[2m\u001b[36m(func pid=10192)\u001b[0m Epoch 109\n"
     ]
    },
    {
     "name": "stderr",
     "output_type": "stream",
     "text": [
      " 23%|██▎       | 20/87 [00:00<00:00, 92.33it/s]\n",
      " 34%|███▍      | 30/87 [00:00<00:00, 94.16it/s]\n",
      " 46%|████▌     | 40/87 [00:00<00:00, 95.99it/s]\n",
      " 57%|█████▋    | 50/87 [00:00<00:00, 93.33it/s]\n",
      " 69%|██████▉   | 60/87 [00:00<00:00, 94.97it/s]\n",
      " 82%|████████▏ | 71/87 [00:00<00:00, 96.99it/s]\n",
      "100%|██████████| 87/87 [00:00<00:00, 96.35it/s]\n",
      "  0%|          | 0/25 [00:00<?, ?it/s]\n",
      " 72%|███████▏  | 18/25 [00:00<00:00, 103.47it/s]\n",
      "100%|██████████| 25/25 [00:00<00:00, 117.30it/s]\n",
      "  0%|          | 0/87 [00:00<?, ?it/s]\n",
      " 11%|█▏        | 10/87 [00:00<00:00, 93.85it/s]\n"
     ]
    },
    {
     "name": "stdout",
     "output_type": "stream",
     "text": [
      "\u001b[2m\u001b[36m(func pid=10192)\u001b[0m \n",
      "\u001b[2m\u001b[36m(func pid=10192)\u001b[0m Epoch 110\n"
     ]
    },
    {
     "name": "stderr",
     "output_type": "stream",
     "text": [
      " 23%|██▎       | 20/87 [00:00<00:00, 95.95it/s]\n",
      " 36%|███▌      | 31/87 [00:00<00:00, 98.83it/s]\n",
      " 48%|████▊     | 42/87 [00:00<00:00, 99.34it/s]\n",
      " 60%|█████▉    | 52/87 [00:00<00:00, 92.34it/s]\n",
      " 71%|███████▏  | 62/87 [00:00<00:00, 92.90it/s]\n",
      " 83%|████████▎ | 72/87 [00:00<00:00, 94.20it/s]\n",
      " 94%|█████████▍| 82/87 [00:00<00:00, 93.05it/s]\n",
      "100%|██████████| 87/87 [00:00<00:00, 94.45it/s]\n",
      "  0%|          | 0/25 [00:00<?, ?it/s]\n",
      "  0%|          | 0/87 [00:00<?, ?it/s]\n",
      " 11%|█▏        | 10/87 [00:00<00:00, 93.27it/s]\n"
     ]
    },
    {
     "name": "stdout",
     "output_type": "stream",
     "text": [
      "\u001b[2m\u001b[36m(func pid=10192)\u001b[0m \n",
      "\u001b[2m\u001b[36m(func pid=10192)\u001b[0m Epoch 111\n"
     ]
    },
    {
     "name": "stderr",
     "output_type": "stream",
     "text": [
      " 23%|██▎       | 20/87 [00:00<00:00, 95.02it/s]\n",
      " 34%|███▍      | 30/87 [00:00<00:00, 95.47it/s]\n",
      " 46%|████▌     | 40/87 [00:00<00:00, 96.54it/s]\n",
      " 57%|█████▋    | 50/87 [00:00<00:00, 92.51it/s]\n",
      " 69%|██████▉   | 60/87 [00:00<00:00, 93.46it/s]\n",
      " 80%|████████  | 70/87 [00:00<00:00, 92.89it/s]\n",
      "100%|██████████| 87/87 [00:00<00:00, 93.74it/s]\n",
      "  0%|          | 0/25 [00:00<?, ?it/s]\n",
      "100%|██████████| 25/25 [00:00<00:00, 177.23it/s]\n",
      "  0%|          | 0/87 [00:00<?, ?it/s]\n",
      " 11%|█▏        | 10/87 [00:00<00:00, 96.70it/s]\n"
     ]
    },
    {
     "name": "stdout",
     "output_type": "stream",
     "text": [
      "\u001b[2m\u001b[36m(func pid=10192)\u001b[0m \n",
      "\u001b[2m\u001b[36m(func pid=10192)\u001b[0m Epoch 112\n"
     ]
    },
    {
     "name": "stderr",
     "output_type": "stream",
     "text": [
      " 23%|██▎       | 20/87 [00:00<00:00, 96.96it/s]\n",
      " 46%|████▌     | 40/87 [00:00<00:00, 97.66it/s]\n",
      " 57%|█████▋    | 50/87 [00:00<00:00, 97.84it/s]\n",
      " 69%|██████▉   | 60/87 [00:00<00:00, 97.50it/s]\n",
      " 82%|████████▏ | 71/87 [00:00<00:00, 98.88it/s]\n",
      " 93%|█████████▎| 81/87 [00:00<00:00, 98.50it/s]\n",
      "100%|██████████| 87/87 [00:00<00:00, 98.37it/s]\n",
      "  0%|          | 0/25 [00:00<?, ?it/s]\n",
      "100%|██████████| 25/25 [00:00<00:00, 116.09it/s]\n",
      "  0%|          | 0/87 [00:00<?, ?it/s]\n"
     ]
    },
    {
     "name": "stdout",
     "output_type": "stream",
     "text": [
      "\u001b[2m\u001b[36m(func pid=10192)\u001b[0m Epoch 00112: reducing learning rate of group 0 to 2.6596e-04.\n",
      "\u001b[2m\u001b[36m(func pid=10192)\u001b[0m \n",
      "\u001b[2m\u001b[36m(func pid=10192)\u001b[0m Epoch 113\n"
     ]
    },
    {
     "name": "stderr",
     "output_type": "stream",
     "text": [
      " 11%|█▏        | 10/87 [00:00<00:00, 98.39it/s]\n",
      " 24%|██▍       | 21/87 [00:00<00:00, 100.45it/s]\n",
      " 37%|███▋      | 32/87 [00:00<00:00, 98.03it/s] \n",
      " 48%|████▊     | 42/87 [00:00<00:00, 95.41it/s]\n",
      " 60%|█████▉    | 52/87 [00:00<00:00, 95.89it/s]\n",
      " 71%|███████▏  | 62/87 [00:00<00:00, 95.73it/s]\n",
      " 83%|████████▎ | 72/87 [00:00<00:00, 94.69it/s]\n",
      "100%|██████████| 87/87 [00:00<00:00, 95.54it/s]\n",
      "  0%|          | 0/25 [00:00<?, ?it/s]\n",
      "100%|██████████| 25/25 [00:00<00:00, 177.23it/s]\n",
      "  0%|          | 0/87 [00:00<?, ?it/s]\n",
      " 11%|█▏        | 10/87 [00:00<00:00, 91.65it/s]\n",
      " 23%|██▎       | 20/87 [00:00<00:00, 93.61it/s]\n"
     ]
    },
    {
     "name": "stdout",
     "output_type": "stream",
     "text": [
      "\u001b[2m\u001b[36m(func pid=10192)\u001b[0m \n",
      "\u001b[2m\u001b[36m(func pid=10192)\u001b[0m Epoch 114\n"
     ]
    },
    {
     "name": "stderr",
     "output_type": "stream",
     "text": [
      " 34%|███▍      | 30/87 [00:00<00:00, 95.24it/s]\n",
      " 46%|████▌     | 40/87 [00:00<00:00, 95.01it/s]\n",
      " 57%|█████▋    | 50/87 [00:00<00:00, 95.30it/s]\n",
      " 69%|██████▉   | 60/87 [00:00<00:00, 92.24it/s]\n",
      " 80%|████████  | 70/87 [00:00<00:00, 92.07it/s]\n",
      " 92%|█████████▏| 80/87 [00:00<00:00, 93.94it/s]\n",
      "100%|██████████| 87/87 [00:00<00:00, 94.24it/s]\n",
      "  0%|          | 0/25 [00:00<?, ?it/s]\n",
      " 76%|███████▌  | 19/25 [00:00<00:00, 184.27it/s]\n",
      "100%|██████████| 25/25 [00:00<00:00, 183.88it/s]\n",
      "  0%|          | 0/87 [00:00<?, ?it/s]\n",
      " 11%|█▏        | 10/87 [00:00<00:00, 97.22it/s]\n"
     ]
    },
    {
     "name": "stdout",
     "output_type": "stream",
     "text": [
      "\u001b[2m\u001b[36m(func pid=10192)\u001b[0m \n",
      "\u001b[2m\u001b[36m(func pid=10192)\u001b[0m Epoch 115\n"
     ]
    },
    {
     "name": "stderr",
     "output_type": "stream",
     "text": [
      " 23%|██▎       | 20/87 [00:00<00:00, 98.11it/s]\n",
      " 34%|███▍      | 30/87 [00:00<00:00, 97.79it/s]\n",
      " 46%|████▌     | 40/87 [00:00<00:00, 98.28it/s]\n",
      " 57%|█████▋    | 50/87 [00:00<00:00, 98.38it/s]\n",
      " 70%|███████   | 61/87 [00:00<00:00, 99.40it/s]\n",
      " 82%|████████▏ | 71/87 [00:00<00:00, 98.47it/s]\n",
      "  0%|          | 0/25 [00:00<?, ?it/s]\n",
      " 64%|██████▍   | 16/25 [00:00<00:00, 90.78it/s]\n",
      "100%|██████████| 25/25 [00:00<00:00, 108.70it/s]\n",
      "  0%|          | 0/87 [00:00<?, ?it/s]\n",
      " 11%|█▏        | 10/87 [00:00<00:00, 94.43it/s]\n"
     ]
    },
    {
     "name": "stdout",
     "output_type": "stream",
     "text": [
      "\u001b[2m\u001b[36m(func pid=10192)\u001b[0m \n",
      "\u001b[2m\u001b[36m(func pid=10192)\u001b[0m Epoch 116\n"
     ]
    },
    {
     "name": "stderr",
     "output_type": "stream",
     "text": [
      " 23%|██▎       | 20/87 [00:00<00:00, 88.80it/s]\n",
      " 33%|███▎      | 29/87 [00:00<00:00, 87.46it/s]\n",
      " 44%|████▎     | 38/87 [00:00<00:00, 81.13it/s]\n",
      " 55%|█████▌    | 48/87 [00:00<00:00, 85.24it/s]\n",
      " 67%|██████▋   | 58/87 [00:00<00:00, 87.02it/s]\n",
      " 78%|███████▊  | 68/87 [00:00<00:00, 90.15it/s]\n",
      " 90%|████████▉ | 78/87 [00:00<00:00, 92.52it/s]\n",
      "100%|██████████| 87/87 [00:00<00:00, 90.25it/s]\n",
      "  0%|          | 0/25 [00:00<?, ?it/s]\n",
      " 72%|███████▏  | 18/25 [00:00<00:00, 177.02it/s]\n",
      "100%|██████████| 25/25 [00:00<00:00, 177.54it/s]\n",
      "  0%|          | 0/87 [00:00<?, ?it/s]\n",
      " 11%|█▏        | 10/87 [00:00<00:00, 96.44it/s]\n"
     ]
    },
    {
     "name": "stdout",
     "output_type": "stream",
     "text": [
      "\u001b[2m\u001b[36m(func pid=10192)\u001b[0m \n",
      "\u001b[2m\u001b[36m(func pid=10192)\u001b[0m Epoch 117\n"
     ]
    },
    {
     "name": "stderr",
     "output_type": "stream",
     "text": [
      " 23%|██▎       | 20/87 [00:00<00:00, 97.42it/s]\n",
      " 34%|███▍      | 30/87 [00:00<00:00, 96.51it/s]\n",
      " 46%|████▌     | 40/87 [00:00<00:00, 94.84it/s]\n",
      " 57%|█████▋    | 50/87 [00:00<00:00, 95.37it/s]\n",
      " 69%|██████▉   | 60/87 [00:00<00:00, 95.27it/s]\n",
      " 82%|████████▏ | 71/87 [00:00<00:00, 96.87it/s]\n",
      "100%|██████████| 87/87 [00:00<00:00, 97.54it/s]\n",
      "  0%|          | 0/25 [00:00<?, ?it/s]\n",
      "100%|██████████| 25/25 [00:00<00:00, 185.62it/s]\n",
      "  0%|          | 0/87 [00:00<?, ?it/s]\n",
      " 13%|█▎        | 11/87 [00:00<00:00, 101.84it/s]\n"
     ]
    },
    {
     "name": "stdout",
     "output_type": "stream",
     "text": [
      "\u001b[2m\u001b[36m(func pid=10192)\u001b[0m \n",
      "\u001b[2m\u001b[36m(func pid=10192)\u001b[0m Epoch 118\n"
     ]
    },
    {
     "name": "stderr",
     "output_type": "stream",
     "text": [
      " 25%|██▌       | 22/87 [00:00<00:00, 101.51it/s]\n",
      " 38%|███▊      | 33/87 [00:00<00:00, 101.57it/s]\n",
      " 51%|█████     | 44/87 [00:00<00:00, 101.38it/s]\n",
      " 63%|██████▎   | 55/87 [00:00<00:00, 101.95it/s]\n",
      " 76%|███████▌  | 66/87 [00:00<00:00, 101.50it/s]\n",
      " 89%|████████▊ | 77/87 [00:00<00:00, 102.26it/s]\n",
      "100%|██████████| 87/87 [00:00<00:00, 102.58it/s]\n",
      "  0%|          | 0/25 [00:00<?, ?it/s]\n",
      " 60%|██████    | 15/25 [00:00<00:00, 96.90it/s]\n",
      "100%|██████████| 25/25 [00:00<00:00, 119.84it/s]\n",
      "  0%|          | 0/87 [00:00<?, ?it/s]\n",
      " 11%|█▏        | 10/87 [00:00<00:00, 99.04it/s]\n"
     ]
    },
    {
     "name": "stdout",
     "output_type": "stream",
     "text": [
      "\u001b[2m\u001b[36m(func pid=10192)\u001b[0m \n",
      "\u001b[2m\u001b[36m(func pid=10192)\u001b[0m Epoch 119\n"
     ]
    },
    {
     "name": "stderr",
     "output_type": "stream",
     "text": [
      " 24%|██▍       | 21/87 [00:00<00:00, 102.20it/s]\n",
      " 37%|███▋      | 32/87 [00:00<00:00, 96.93it/s] \n",
      " 49%|████▉     | 43/87 [00:00<00:00, 98.99it/s]\n",
      " 61%|██████    | 53/87 [00:00<00:00, 98.58it/s]\n",
      " 74%|███████▎  | 64/87 [00:00<00:00, 100.39it/s]\n",
      " 86%|████████▌ | 75/87 [00:00<00:00, 100.29it/s]\n",
      "100%|██████████| 87/87 [00:00<00:00, 100.24it/s]\n",
      "  0%|          | 0/25 [00:00<?, ?it/s]\n",
      "100%|██████████| 25/25 [00:00<00:00, 189.43it/s]\n",
      "  0%|          | 0/87 [00:00<?, ?it/s]\n",
      " 11%|█▏        | 10/87 [00:00<00:00, 99.13it/s]\n"
     ]
    },
    {
     "name": "stdout",
     "output_type": "stream",
     "text": [
      "\u001b[2m\u001b[36m(func pid=10192)\u001b[0m \n",
      "\u001b[2m\u001b[36m(func pid=10192)\u001b[0m Epoch 120\n"
     ]
    },
    {
     "name": "stderr",
     "output_type": "stream",
     "text": [
      " 24%|██▍       | 21/87 [00:00<00:00, 101.91it/s]\n",
      " 37%|███▋      | 32/87 [00:00<00:00, 100.88it/s]\n",
      " 49%|████▉     | 43/87 [00:00<00:00, 101.37it/s]\n",
      " 62%|██████▏   | 54/87 [00:00<00:00, 101.60it/s]\n",
      " 75%|███████▍  | 65/87 [00:00<00:00, 101.47it/s]\n",
      " 87%|████████▋ | 76/87 [00:00<00:00, 100.85it/s]\n",
      "  0%|          | 0/25 [00:00<?, ?it/s]\n",
      "100%|██████████| 25/25 [00:00<00:00, 178.78it/s]\n",
      "  0%|          | 0/87 [00:00<?, ?it/s]\n"
     ]
    },
    {
     "name": "stdout",
     "output_type": "stream",
     "text": [
      "\u001b[2m\u001b[36m(func pid=10192)\u001b[0m \n",
      "\u001b[2m\u001b[36m(func pid=10192)\u001b[0m Epoch 121\n"
     ]
    },
    {
     "name": "stderr",
     "output_type": "stream",
     "text": [
      " 10%|█         | 9/87 [00:00<00:00, 85.02it/s]\n",
      " 23%|██▎       | 20/87 [00:00<00:00, 94.44it/s]\n",
      " 36%|███▌      | 31/87 [00:00<00:00, 98.63it/s]\n",
      " 48%|████▊     | 42/87 [00:00<00:00, 99.24it/s]\n",
      " 61%|██████    | 53/87 [00:00<00:00, 99.80it/s]\n",
      " 72%|███████▏  | 63/87 [00:00<00:00, 99.37it/s]\n",
      " 84%|████████▍ | 73/87 [00:00<00:00, 99.27it/s]\n",
      "100%|██████████| 87/87 [00:00<00:00, 98.44it/s]\n",
      "  0%|          | 0/25 [00:00<?, ?it/s]\n",
      "100%|██████████| 25/25 [00:00<00:00, 117.25it/s]\n",
      "  0%|          | 0/87 [00:00<?, ?it/s]\n"
     ]
    },
    {
     "name": "stdout",
     "output_type": "stream",
     "text": [
      "\u001b[2m\u001b[36m(func pid=10192)\u001b[0m Epoch 00121: reducing learning rate of group 0 to 1.3298e-04.\n",
      "\u001b[2m\u001b[36m(func pid=10192)\u001b[0m \n",
      "\u001b[2m\u001b[36m(func pid=10192)\u001b[0m Epoch 122\n"
     ]
    },
    {
     "name": "stderr",
     "output_type": "stream",
     "text": [
      " 11%|█▏        | 10/87 [00:00<00:00, 96.14it/s]\n",
      " 23%|██▎       | 20/87 [00:00<00:00, 94.63it/s]\n",
      " 34%|███▍      | 30/87 [00:00<00:00, 96.16it/s]\n",
      " 46%|████▌     | 40/87 [00:00<00:00, 96.81it/s]\n",
      " 57%|█████▋    | 50/87 [00:00<00:00, 97.28it/s]\n",
      " 69%|██████▉   | 60/87 [00:00<00:00, 97.38it/s]\n",
      " 80%|████████  | 70/87 [00:00<00:00, 98.04it/s]\n",
      " 92%|█████████▏| 80/87 [00:00<00:00, 96.26it/s]\n",
      "100%|██████████| 87/87 [00:00<00:00, 96.88it/s]\n",
      "  0%|          | 0/25 [00:00<?, ?it/s]\n",
      "100%|██████████| 25/25 [00:00<00:00, 183.62it/s]\n",
      "  0%|          | 0/87 [00:00<?, ?it/s]\n"
     ]
    },
    {
     "name": "stdout",
     "output_type": "stream",
     "text": [
      "\u001b[2m\u001b[36m(func pid=10192)\u001b[0m \n",
      "\u001b[2m\u001b[36m(func pid=10192)\u001b[0m Epoch 123\n"
     ]
    },
    {
     "name": "stderr",
     "output_type": "stream",
     "text": [
      " 11%|█▏        | 10/87 [00:00<00:00, 98.59it/s]\n",
      " 23%|██▎       | 20/87 [00:00<00:00, 99.11it/s]\n",
      " 34%|███▍      | 30/87 [00:00<00:00, 99.11it/s]\n",
      " 46%|████▌     | 40/87 [00:00<00:00, 98.50it/s]\n",
      " 57%|█████▋    | 50/87 [00:00<00:00, 96.02it/s]\n",
      " 69%|██████▉   | 60/87 [00:00<00:00, 95.45it/s]\n",
      " 80%|████████  | 70/87 [00:00<00:00, 94.28it/s]\n",
      " 92%|█████████▏| 80/87 [00:00<00:00, 94.89it/s]\n",
      "100%|██████████| 87/87 [00:00<00:00, 94.69it/s]\n",
      "  0%|          | 0/25 [00:00<?, ?it/s]\n",
      " 72%|███████▏  | 18/25 [00:00<00:00, 174.75it/s]\n",
      "100%|██████████| 25/25 [00:00<00:00, 174.96it/s]\n",
      "  0%|          | 0/87 [00:00<?, ?it/s]\n",
      " 10%|█         | 9/87 [00:00<00:00, 89.90it/s]\n"
     ]
    },
    {
     "name": "stdout",
     "output_type": "stream",
     "text": [
      "\u001b[2m\u001b[36m(func pid=10192)\u001b[0m \n",
      "\u001b[2m\u001b[36m(func pid=10192)\u001b[0m Epoch 124\n"
     ]
    },
    {
     "name": "stderr",
     "output_type": "stream",
     "text": [
      " 22%|██▏       | 19/87 [00:00<00:00, 93.48it/s]\n",
      " 33%|███▎      | 29/87 [00:00<00:00, 95.14it/s]\n",
      " 45%|████▍     | 39/87 [00:00<00:00, 94.48it/s]\n",
      " 56%|█████▋    | 49/87 [00:00<00:00, 93.85it/s]\n",
      " 68%|██████▊   | 59/87 [00:00<00:00, 93.08it/s]\n",
      " 79%|███████▉  | 69/87 [00:00<00:00, 93.47it/s]\n",
      " 91%|█████████ | 79/87 [00:00<00:00, 93.47it/s]\n",
      "100%|██████████| 87/87 [00:00<00:00, 94.41it/s]\n",
      "  0%|          | 0/25 [00:00<?, ?it/s]\n",
      "  0%|          | 0/87 [00:00<?, ?it/s]\n",
      " 10%|█         | 9/87 [00:00<00:00, 83.60it/s]\n"
     ]
    },
    {
     "name": "stdout",
     "output_type": "stream",
     "text": [
      "\u001b[2m\u001b[36m(func pid=10192)\u001b[0m \n",
      "\u001b[2m\u001b[36m(func pid=10192)\u001b[0m Epoch 125\n"
     ]
    },
    {
     "name": "stderr",
     "output_type": "stream",
     "text": [
      " 21%|██        | 18/87 [00:00<00:00, 85.57it/s]\n",
      " 31%|███       | 27/87 [00:00<00:00, 82.57it/s]\n",
      " 43%|████▎     | 37/87 [00:00<00:00, 85.57it/s]\n",
      " 53%|█████▎    | 46/87 [00:00<00:00, 83.39it/s]\n",
      " 63%|██████▎   | 55/87 [00:00<00:00, 82.08it/s]\n",
      " 74%|███████▎  | 64/87 [00:00<00:00, 76.65it/s]\n",
      " 84%|████████▍ | 73/87 [00:00<00:00, 78.37it/s]\n",
      "100%|██████████| 87/87 [00:01<00:00, 81.32it/s]\n",
      "  0%|          | 0/25 [00:00<?, ?it/s]\n",
      "100%|██████████| 25/25 [00:00<00:00, 158.30it/s]\n",
      "  0%|          | 0/87 [00:00<?, ?it/s]\n",
      " 10%|█         | 9/87 [00:00<00:00, 88.43it/s]\n"
     ]
    },
    {
     "name": "stdout",
     "output_type": "stream",
     "text": [
      "\u001b[2m\u001b[36m(func pid=10192)\u001b[0m \n",
      "\u001b[2m\u001b[36m(func pid=10192)\u001b[0m Epoch 126\n"
     ]
    },
    {
     "name": "stderr",
     "output_type": "stream",
     "text": [
      " 21%|██        | 18/87 [00:00<00:00, 89.09it/s]\n",
      " 31%|███       | 27/87 [00:00<00:00, 88.23it/s]\n",
      " 41%|████▏     | 36/87 [00:00<00:00, 88.34it/s]\n",
      " 52%|█████▏    | 45/87 [00:00<00:00, 87.18it/s]\n",
      " 63%|██████▎   | 55/87 [00:00<00:00, 88.80it/s]\n",
      " 75%|███████▍  | 65/87 [00:00<00:00, 91.17it/s]\n",
      " 86%|████████▌ | 75/87 [00:00<00:00, 93.66it/s]\n",
      "100%|██████████| 87/87 [00:00<00:00, 92.09it/s]\n",
      "  0%|          | 0/25 [00:00<?, ?it/s]\n",
      "100%|██████████| 25/25 [00:00<00:00, 176.09it/s]\n",
      "  0%|          | 0/87 [00:00<?, ?it/s]\n"
     ]
    },
    {
     "name": "stdout",
     "output_type": "stream",
     "text": [
      "\u001b[2m\u001b[36m(func pid=10192)\u001b[0m \n",
      "\u001b[2m\u001b[36m(func pid=10192)\u001b[0m Epoch 127\n"
     ]
    },
    {
     "name": "stderr",
     "output_type": "stream",
     "text": [
      " 11%|█▏        | 10/87 [00:00<00:00, 96.68it/s]\n",
      " 23%|██▎       | 20/87 [00:00<00:00, 96.18it/s]\n",
      " 34%|███▍      | 30/87 [00:00<00:00, 96.01it/s]\n",
      " 46%|████▌     | 40/87 [00:00<00:00, 96.62it/s]\n",
      " 57%|█████▋    | 50/87 [00:00<00:00, 97.05it/s]\n",
      " 70%|███████   | 61/87 [00:00<00:00, 97.73it/s]\n",
      " 82%|████████▏ | 71/87 [00:00<00:00, 98.15it/s]\n",
      " 94%|█████████▍| 82/87 [00:00<00:00, 100.45it/s]\n",
      "100%|██████████| 87/87 [00:00<00:00, 98.75it/s] \n",
      "  0%|          | 0/25 [00:00<?, ?it/s]\n",
      "100%|██████████| 25/25 [00:00<00:00, 116.36it/s]\n",
      "  0%|          | 0/87 [00:00<?, ?it/s]\n"
     ]
    },
    {
     "name": "stdout",
     "output_type": "stream",
     "text": [
      "\u001b[2m\u001b[36m(func pid=10192)\u001b[0m \n",
      "\u001b[2m\u001b[36m(func pid=10192)\u001b[0m Epoch 128\n"
     ]
    },
    {
     "name": "stderr",
     "output_type": "stream",
     "text": [
      " 13%|█▎        | 11/87 [00:00<00:00, 100.89it/s]\n",
      " 25%|██▌       | 22/87 [00:00<00:00, 103.14it/s]\n",
      " 38%|███▊      | 33/87 [00:00<00:00, 103.22it/s]\n",
      " 51%|█████     | 44/87 [00:00<00:00, 102.11it/s]\n",
      " 63%|██████▎   | 55/87 [00:00<00:00, 101.63it/s]\n",
      " 76%|███████▌  | 66/87 [00:00<00:00, 102.00it/s]\n",
      " 89%|████████▊ | 77/87 [00:00<00:00, 101.99it/s]\n",
      "100%|██████████| 87/87 [00:00<00:00, 102.71it/s]\n",
      "  0%|          | 0/25 [00:00<?, ?it/s]\n",
      "100%|██████████| 25/25 [00:00<00:00, 186.49it/s]\n",
      "  0%|          | 0/87 [00:00<?, ?it/s]\n"
     ]
    },
    {
     "name": "stdout",
     "output_type": "stream",
     "text": [
      "\u001b[2m\u001b[36m(func pid=10192)\u001b[0m \n",
      "\u001b[2m\u001b[36m(func pid=10192)\u001b[0m Epoch 129\n"
     ]
    },
    {
     "name": "stderr",
     "output_type": "stream",
     "text": [
      " 13%|█▎        | 11/87 [00:00<00:00, 102.94it/s]\n",
      " 25%|██▌       | 22/87 [00:00<00:00, 101.26it/s]\n",
      " 38%|███▊      | 33/87 [00:00<00:00, 101.93it/s]\n",
      " 51%|█████     | 44/87 [00:00<00:00, 102.99it/s]\n",
      " 63%|██████▎   | 55/87 [00:00<00:00, 101.64it/s]\n",
      " 76%|███████▌  | 66/87 [00:00<00:00, 102.00it/s]\n",
      " 72%|███████▏  | 18/25 [00:00<00:00, 179.60it/s]\n",
      "100%|██████████| 25/25 [00:00<00:00, 179.46it/s]\n",
      "  0%|          | 0/87 [00:00<?, ?it/s]\n",
      " 11%|█▏        | 10/87 [00:00<00:00, 99.89it/s]\n"
     ]
    },
    {
     "name": "stdout",
     "output_type": "stream",
     "text": [
      "\u001b[2m\u001b[36m(func pid=10192)\u001b[0m \n",
      "\u001b[2m\u001b[36m(func pid=10192)\u001b[0m Epoch 130\n"
     ]
    },
    {
     "name": "stderr",
     "output_type": "stream",
     "text": [
      " 24%|██▍       | 21/87 [00:00<00:00, 101.95it/s]\n",
      " 37%|███▋      | 32/87 [00:00<00:00, 103.19it/s]\n",
      " 49%|████▉     | 43/87 [00:00<00:00, 102.70it/s]\n",
      " 62%|██████▏   | 54/87 [00:00<00:00, 102.67it/s]\n",
      " 75%|███████▍  | 65/87 [00:00<00:00, 103.15it/s]\n",
      " 87%|████████▋ | 76/87 [00:00<00:00, 103.49it/s]\n",
      "100%|██████████| 87/87 [00:00<00:00, 103.51it/s]\n",
      "  0%|          | 0/25 [00:00<?, ?it/s]\n",
      "100%|██████████| 25/25 [00:00<00:00, 120.25it/s]\n",
      "  0%|          | 0/87 [00:00<?, ?it/s]\n"
     ]
    },
    {
     "name": "stdout",
     "output_type": "stream",
     "text": [
      "\u001b[2m\u001b[36m(func pid=10192)\u001b[0m \n",
      "\u001b[2m\u001b[36m(func pid=10192)\u001b[0m Epoch 131\n"
     ]
    },
    {
     "name": "stderr",
     "output_type": "stream",
     "text": [
      " 13%|█▎        | 11/87 [00:00<00:00, 101.41it/s]\n",
      " 25%|██▌       | 22/87 [00:00<00:00, 103.60it/s]\n",
      " 38%|███▊      | 33/87 [00:00<00:00, 104.64it/s]\n",
      " 51%|█████     | 44/87 [00:00<00:00, 104.27it/s]\n",
      " 63%|██████▎   | 55/87 [00:00<00:00, 104.47it/s]\n",
      " 76%|███████▌  | 66/87 [00:00<00:00, 103.87it/s]\n",
      " 89%|████████▊ | 77/87 [00:00<00:00, 102.03it/s]\n",
      "100%|██████████| 87/87 [00:00<00:00, 102.38it/s]\n",
      "  0%|          | 0/25 [00:00<?, ?it/s]\n",
      " 72%|███████▏  | 18/25 [00:00<00:00, 175.70it/s]\n",
      "100%|██████████| 25/25 [00:00<00:00, 174.26it/s]\n",
      "  0%|          | 0/87 [00:00<?, ?it/s]\n"
     ]
    },
    {
     "name": "stdout",
     "output_type": "stream",
     "text": [
      "\u001b[2m\u001b[36m(func pid=10192)\u001b[0m \n",
      "\u001b[2m\u001b[36m(func pid=10192)\u001b[0m Epoch 132\n"
     ]
    },
    {
     "name": "stderr",
     "output_type": "stream",
     "text": [
      " 11%|█▏        | 10/87 [00:00<00:00, 99.37it/s]\n",
      " 23%|██▎       | 20/87 [00:00<00:00, 98.17it/s]\n",
      " 34%|███▍      | 30/87 [00:00<00:00, 98.40it/s]\n",
      " 46%|████▌     | 40/87 [00:00<00:00, 97.75it/s]\n",
      " 57%|█████▋    | 50/87 [00:00<00:00, 98.54it/s]\n",
      " 70%|███████   | 61/87 [00:00<00:00, 100.36it/s]\n",
      " 83%|████████▎ | 72/87 [00:00<00:00, 101.50it/s]\n",
      "100%|██████████| 87/87 [00:00<00:00, 100.35it/s]\n",
      "  0%|          | 0/25 [00:00<?, ?it/s]\n",
      " 68%|██████▊   | 17/25 [00:00<00:00, 165.26it/s]\n",
      "100%|██████████| 25/25 [00:00<00:00, 170.28it/s]\n",
      "  0%|          | 0/87 [00:00<?, ?it/s]\n"
     ]
    },
    {
     "name": "stdout",
     "output_type": "stream",
     "text": [
      "\u001b[2m\u001b[36m(func pid=10192)\u001b[0m \n",
      "\u001b[2m\u001b[36m(func pid=10192)\u001b[0m Epoch 133\n"
     ]
    },
    {
     "name": "stderr",
     "output_type": "stream",
     "text": [
      " 13%|█▎        | 11/87 [00:00<00:00, 100.03it/s]\n",
      " 25%|██▌       | 22/87 [00:00<00:00, 99.09it/s] \n",
      " 38%|███▊      | 33/87 [00:00<00:00, 98.93it/s]\n",
      " 49%|████▉     | 43/87 [00:00<00:00, 99.27it/s]\n",
      " 62%|██████▏   | 54/87 [00:00<00:00, 100.20it/s]\n",
      " 75%|███████▍  | 65/87 [00:00<00:00, 101.10it/s]\n",
      " 87%|████████▋ | 76/87 [00:00<00:00, 102.74it/s]\n",
      "100%|██████████| 87/87 [00:00<00:00, 100.66it/s]\n",
      "  0%|          | 0/25 [00:00<?, ?it/s]\n",
      " 64%|██████▍   | 16/25 [00:00<00:00, 100.35it/s]\n",
      "100%|██████████| 25/25 [00:00<00:00, 122.07it/s]\n",
      "  0%|          | 0/87 [00:00<?, ?it/s]\n",
      " 13%|█▎        | 11/87 [00:00<00:00, 106.87it/s]\n"
     ]
    },
    {
     "name": "stdout",
     "output_type": "stream",
     "text": [
      "\u001b[2m\u001b[36m(func pid=10192)\u001b[0m \n",
      "\u001b[2m\u001b[36m(func pid=10192)\u001b[0m Epoch 134\n"
     ]
    },
    {
     "name": "stderr",
     "output_type": "stream",
     "text": [
      " 25%|██▌       | 22/87 [00:00<00:00, 108.08it/s]\n",
      " 38%|███▊      | 33/87 [00:00<00:00, 107.50it/s]\n",
      " 51%|█████     | 44/87 [00:00<00:00, 108.05it/s]\n",
      " 63%|██████▎   | 55/87 [00:00<00:00, 107.50it/s]\n",
      "100%|██████████| 87/87 [00:00<00:00, 108.43it/s]\n",
      "  0%|          | 0/25 [00:00<?, ?it/s]\n",
      "100%|██████████| 25/25 [00:00<00:00, 191.88it/s]\n",
      "  0%|          | 0/87 [00:00<?, ?it/s]\n",
      " 11%|█▏        | 10/87 [00:00<00:00, 87.07it/s]\n"
     ]
    },
    {
     "name": "stdout",
     "output_type": "stream",
     "text": [
      "\u001b[2m\u001b[36m(func pid=10192)\u001b[0m \n",
      "\u001b[2m\u001b[36m(func pid=10192)\u001b[0m Epoch 135\n"
     ]
    },
    {
     "name": "stderr",
     "output_type": "stream",
     "text": [
      " 22%|██▏       | 19/87 [00:00<00:00, 88.04it/s]\n",
      " 32%|███▏      | 28/87 [00:00<00:00, 87.39it/s]\n",
      " 43%|████▎     | 37/87 [00:00<00:00, 88.23it/s]\n",
      " 54%|█████▍    | 47/87 [00:00<00:00, 91.92it/s]\n",
      " 66%|██████▌   | 57/87 [00:00<00:00, 91.86it/s]\n",
      " 77%|███████▋  | 67/87 [00:00<00:00, 88.24it/s]\n",
      " 87%|████████▋ | 76/87 [00:00<00:00, 87.46it/s]\n",
      "100%|██████████| 87/87 [00:00<00:00, 89.12it/s]\n",
      "  0%|          | 0/25 [00:00<?, ?it/s]\n",
      "100%|██████████| 25/25 [00:00<00:00, 171.02it/s]\n",
      "  0%|          | 0/87 [00:00<?, ?it/s]\n"
     ]
    },
    {
     "name": "stdout",
     "output_type": "stream",
     "text": [
      "\u001b[2m\u001b[36m(func pid=10192)\u001b[0m \n",
      "\u001b[2m\u001b[36m(func pid=10192)\u001b[0m Epoch 136\n"
     ]
    },
    {
     "name": "stderr",
     "output_type": "stream",
     "text": [
      " 11%|█▏        | 10/87 [00:00<00:00, 94.29it/s]\n",
      " 23%|██▎       | 20/87 [00:00<00:00, 94.85it/s]\n",
      " 34%|███▍      | 30/87 [00:00<00:00, 95.42it/s]\n",
      " 46%|████▌     | 40/87 [00:00<00:00, 95.09it/s]\n",
      " 57%|█████▋    | 50/87 [00:00<00:00, 86.52it/s]\n",
      " 68%|██████▊   | 59/87 [00:00<00:00, 85.65it/s]\n",
      " 79%|███████▉  | 69/87 [00:00<00:00, 86.86it/s]\n",
      " 91%|█████████ | 79/87 [00:00<00:00, 88.64it/s]\n",
      "100%|██████████| 87/87 [00:00<00:00, 89.79it/s]\n",
      "  0%|          | 0/25 [00:00<?, ?it/s]\n",
      "100%|██████████| 25/25 [00:00<00:00, 116.02it/s]\n",
      "  0%|          | 0/87 [00:00<?, ?it/s]\n"
     ]
    },
    {
     "name": "stdout",
     "output_type": "stream",
     "text": [
      "\u001b[2m\u001b[36m(func pid=10192)\u001b[0m \n",
      "\u001b[2m\u001b[36m(func pid=10192)\u001b[0m Epoch 137\n"
     ]
    },
    {
     "name": "stderr",
     "output_type": "stream",
     "text": [
      " 11%|█▏        | 10/87 [00:00<00:00, 95.48it/s]\n",
      " 23%|██▎       | 20/87 [00:00<00:00, 97.44it/s]\n",
      " 34%|███▍      | 30/87 [00:00<00:00, 96.04it/s]\n",
      " 46%|████▌     | 40/87 [00:00<00:00, 96.10it/s]\n",
      " 57%|█████▋    | 50/87 [00:00<00:00, 97.09it/s]\n",
      " 69%|██████▉   | 60/87 [00:00<00:00, 94.47it/s]\n",
      " 80%|████████  | 70/87 [00:00<00:00, 93.40it/s]\n",
      " 92%|█████████▏| 80/87 [00:00<00:00, 93.15it/s]\n",
      "100%|██████████| 87/87 [00:00<00:00, 94.69it/s]\n",
      "  0%|          | 0/25 [00:00<?, ?it/s]\n",
      "100%|██████████| 25/25 [00:00<00:00, 176.24it/s]\n"
     ]
    },
    {
     "name": "stdout",
     "output_type": "stream",
     "text": [
      "\u001b[2m\u001b[36m(func pid=10192)\u001b[0m Epoch 00137: reducing learning rate of group 0 to 6.6490e-05.\n",
      "\u001b[2m\u001b[36m(func pid=10192)\u001b[0m \n",
      "\u001b[2m\u001b[36m(func pid=10192)\u001b[0m Epoch 138\n"
     ]
    },
    {
     "name": "stderr",
     "output_type": "stream",
     "text": [
      "  0%|          | 0/87 [00:00<?, ?it/s]\n",
      " 23%|██▎       | 20/87 [00:00<00:00, 97.89it/s]\n",
      " 34%|███▍      | 30/87 [00:00<00:00, 96.46it/s]\n",
      " 46%|████▌     | 40/87 [00:00<00:00, 94.08it/s]\n",
      " 57%|█████▋    | 50/87 [00:00<00:00, 92.26it/s]\n",
      " 69%|██████▉   | 60/87 [00:00<00:00, 93.54it/s]\n",
      " 80%|████████  | 70/87 [00:00<00:00, 94.07it/s]\n",
      " 92%|█████████▏| 80/87 [00:00<00:00, 95.66it/s]\n",
      "  0%|          | 0/87 [00:00<?, ?it/s]\n",
      " 11%|█▏        | 10/87 [00:00<00:00, 98.06it/s]\n"
     ]
    },
    {
     "name": "stdout",
     "output_type": "stream",
     "text": [
      "\u001b[2m\u001b[36m(func pid=10192)\u001b[0m \n",
      "\u001b[2m\u001b[36m(func pid=10192)\u001b[0m Epoch 139\n"
     ]
    },
    {
     "name": "stderr",
     "output_type": "stream",
     "text": [
      " 24%|██▍       | 21/87 [00:00<00:00, 99.58it/s]\n",
      " 37%|███▋      | 32/87 [00:00<00:00, 101.63it/s]\n",
      " 49%|████▉     | 43/87 [00:00<00:00, 101.69it/s]\n",
      " 62%|██████▏   | 54/87 [00:00<00:00, 101.63it/s]\n",
      " 75%|███████▍  | 65/87 [00:00<00:00, 101.77it/s]\n",
      " 87%|████████▋ | 76/87 [00:00<00:00, 101.25it/s]\n",
      "100%|██████████| 87/87 [00:00<00:00, 101.00it/s]\n",
      "  0%|          | 0/25 [00:00<?, ?it/s]\n",
      " 32%|███▏      | 8/25 [00:00<00:00, 63.81it/s]\n",
      "100%|██████████| 25/25 [00:00<00:00, 114.51it/s]\n",
      "  0%|          | 0/87 [00:00<?, ?it/s]\n"
     ]
    },
    {
     "name": "stdout",
     "output_type": "stream",
     "text": [
      "\u001b[2m\u001b[36m(func pid=10192)\u001b[0m \n",
      "\u001b[2m\u001b[36m(func pid=10192)\u001b[0m Epoch 140\n"
     ]
    },
    {
     "name": "stderr",
     "output_type": "stream",
     "text": [
      " 11%|█▏        | 10/87 [00:00<00:00, 94.60it/s]\n",
      " 23%|██▎       | 20/87 [00:00<00:00, 96.95it/s]\n",
      " 36%|███▌      | 31/87 [00:00<00:00, 98.56it/s]\n",
      " 47%|████▋     | 41/87 [00:00<00:00, 97.58it/s]\n",
      " 60%|█████▉    | 52/87 [00:00<00:00, 98.65it/s]\n",
      " 71%|███████▏  | 62/87 [00:00<00:00, 96.39it/s]\n",
      " 83%|████████▎ | 72/87 [00:00<00:00, 96.91it/s]\n",
      "100%|██████████| 87/87 [00:00<00:00, 96.92it/s]\n",
      "  0%|          | 0/25 [00:00<?, ?it/s]\n",
      "100%|██████████| 25/25 [00:00<00:00, 177.20it/s]\n",
      "  0%|          | 0/87 [00:00<?, ?it/s]\n",
      " 11%|█▏        | 10/87 [00:00<00:00, 91.17it/s]\n"
     ]
    },
    {
     "name": "stdout",
     "output_type": "stream",
     "text": [
      "\u001b[2m\u001b[36m(func pid=10192)\u001b[0m \n",
      "\u001b[2m\u001b[36m(func pid=10192)\u001b[0m Epoch 141\n"
     ]
    },
    {
     "name": "stderr",
     "output_type": "stream",
     "text": [
      " 23%|██▎       | 20/87 [00:00<00:00, 94.35it/s]\n",
      " 34%|███▍      | 30/87 [00:00<00:00, 95.12it/s]\n",
      " 46%|████▌     | 40/87 [00:00<00:00, 94.45it/s]\n",
      " 57%|█████▋    | 50/87 [00:00<00:00, 95.38it/s]\n",
      " 69%|██████▉   | 60/87 [00:00<00:00, 96.75it/s]\n",
      " 82%|████████▏ | 71/87 [00:00<00:00, 98.61it/s]\n",
      " 93%|█████████▎| 81/87 [00:00<00:00, 97.52it/s]\n",
      "100%|██████████| 87/87 [00:00<00:00, 96.64it/s]\n",
      "  0%|          | 0/25 [00:00<?, ?it/s]\n",
      " 76%|███████▌  | 19/25 [00:00<00:00, 178.38it/s]\n",
      "100%|██████████| 25/25 [00:00<00:00, 181.94it/s]\n",
      "  0%|          | 0/87 [00:00<?, ?it/s]\n",
      " 11%|█▏        | 10/87 [00:00<00:00, 97.24it/s]\n"
     ]
    },
    {
     "name": "stdout",
     "output_type": "stream",
     "text": [
      "\u001b[2m\u001b[36m(func pid=10192)\u001b[0m \n",
      "\u001b[2m\u001b[36m(func pid=10192)\u001b[0m Epoch 142\n"
     ]
    },
    {
     "name": "stderr",
     "output_type": "stream",
     "text": [
      " 24%|██▍       | 21/87 [00:00<00:00, 99.68it/s]\n",
      " 36%|███▌      | 31/87 [00:00<00:00, 97.80it/s]\n",
      " 47%|████▋     | 41/87 [00:00<00:00, 97.65it/s]\n",
      " 59%|█████▊    | 51/87 [00:00<00:00, 97.79it/s]\n",
      " 71%|███████▏  | 62/87 [00:00<00:00, 99.27it/s]\n",
      " 83%|████████▎ | 72/87 [00:00<00:00, 98.90it/s]\n",
      "100%|██████████| 87/87 [00:00<00:00, 98.24it/s]\n",
      "  0%|          | 0/25 [00:00<?, ?it/s]\n",
      " 72%|███████▏  | 18/25 [00:00<00:00, 179.70it/s]\n",
      "100%|██████████| 25/25 [00:00<00:00, 114.14it/s]\n",
      "  0%|          | 0/87 [00:00<?, ?it/s]\n"
     ]
    },
    {
     "name": "stdout",
     "output_type": "stream",
     "text": [
      "\u001b[2m\u001b[36m(func pid=10192)\u001b[0m \n",
      "\u001b[2m\u001b[36m(func pid=10192)\u001b[0m Epoch 143\n"
     ]
    },
    {
     "name": "stderr",
     "output_type": "stream",
     "text": [
      " 13%|█▎        | 11/87 [00:00<00:00, 100.74it/s]\n",
      " 25%|██▌       | 22/87 [00:00<00:00, 103.77it/s]\n",
      " 38%|███▊      | 33/87 [00:00<00:00, 103.84it/s]\n",
      " 51%|█████     | 44/87 [00:00<00:00, 101.75it/s]\n",
      " 63%|██████▎   | 55/87 [00:00<00:00, 101.55it/s]\n",
      " 76%|███████▌  | 66/87 [00:00<00:00, 101.64it/s]\n",
      "  0%|          | 0/25 [00:00<?, ?it/s]\n",
      "100%|██████████| 25/25 [00:00<00:00, 172.03it/s]\n",
      "  0%|          | 0/87 [00:00<?, ?it/s]\n",
      " 13%|█▎        | 11/87 [00:00<00:00, 102.84it/s]\n"
     ]
    },
    {
     "name": "stdout",
     "output_type": "stream",
     "text": [
      "\u001b[2m\u001b[36m(func pid=10192)\u001b[0m \n",
      "\u001b[2m\u001b[36m(func pid=10192)\u001b[0m Epoch 144\n"
     ]
    },
    {
     "name": "stderr",
     "output_type": "stream",
     "text": [
      " 25%|██▌       | 22/87 [00:00<00:00, 104.48it/s]\n",
      " 38%|███▊      | 33/87 [00:00<00:00, 104.44it/s]\n",
      " 51%|█████     | 44/87 [00:00<00:00, 104.68it/s]\n",
      " 63%|██████▎   | 55/87 [00:00<00:00, 105.14it/s]\n",
      " 76%|███████▌  | 66/87 [00:00<00:00, 105.38it/s]\n",
      " 89%|████████▊ | 77/87 [00:00<00:00, 105.17it/s]\n",
      "100%|██████████| 87/87 [00:00<00:00, 105.21it/s]\n",
      "  0%|          | 0/25 [00:00<?, ?it/s]\n",
      "100%|██████████| 25/25 [00:00<00:00, 182.88it/s]\n",
      "  0%|          | 0/87 [00:00<?, ?it/s]\n",
      " 13%|█▎        | 11/87 [00:00<00:00, 101.72it/s]\n"
     ]
    },
    {
     "name": "stdout",
     "output_type": "stream",
     "text": [
      "\u001b[2m\u001b[36m(func pid=10192)\u001b[0m \n",
      "\u001b[2m\u001b[36m(func pid=10192)\u001b[0m Epoch 145\n"
     ]
    },
    {
     "name": "stderr",
     "output_type": "stream",
     "text": [
      " 25%|██▌       | 22/87 [00:00<00:00, 104.18it/s]\n",
      " 38%|███▊      | 33/87 [00:00<00:00, 104.18it/s]\n",
      " 51%|█████     | 44/87 [00:00<00:00, 104.18it/s]\n",
      " 63%|██████▎   | 55/87 [00:00<00:00, 104.34it/s]\n",
      " 76%|███████▌  | 66/87 [00:00<00:00, 104.34it/s]\n",
      " 89%|████████▊ | 77/87 [00:00<00:00, 104.71it/s]\n",
      "100%|██████████| 87/87 [00:00<00:00, 104.16it/s]\n",
      "  0%|          | 0/25 [00:00<?, ?it/s]\n",
      " 72%|███████▏  | 18/25 [00:00<00:00, 105.35it/s]\n",
      "100%|██████████| 25/25 [00:00<00:00, 119.89it/s]\n",
      "  0%|          | 0/87 [00:00<?, ?it/s]\n",
      " 13%|█▎        | 11/87 [00:00<00:00, 99.81it/s]\n"
     ]
    },
    {
     "name": "stdout",
     "output_type": "stream",
     "text": [
      "\u001b[2m\u001b[36m(func pid=10192)\u001b[0m Epoch 00145: reducing learning rate of group 0 to 3.3245e-05.\n",
      "\u001b[2m\u001b[36m(func pid=10192)\u001b[0m \n",
      "\u001b[2m\u001b[36m(func pid=10192)\u001b[0m Epoch 146\n"
     ]
    },
    {
     "name": "stderr",
     "output_type": "stream",
     "text": [
      " 25%|██▌       | 22/87 [00:00<00:00, 102.32it/s]\n",
      " 38%|███▊      | 33/87 [00:00<00:00, 102.75it/s]\n",
      " 51%|█████     | 44/87 [00:00<00:00, 102.05it/s]\n",
      " 63%|██████▎   | 55/87 [00:00<00:00, 102.49it/s]\n",
      " 76%|███████▌  | 66/87 [00:00<00:00, 103.46it/s]\n",
      " 89%|████████▊ | 77/87 [00:00<00:00, 102.89it/s]\n",
      "100%|██████████| 87/87 [00:00<00:00, 102.98it/s]\n",
      "  0%|          | 0/25 [00:00<?, ?it/s]\n",
      " 72%|███████▏  | 18/25 [00:00<00:00, 179.72it/s]\n",
      "100%|██████████| 25/25 [00:00<00:00, 181.17it/s]\n",
      "  0%|          | 0/87 [00:00<?, ?it/s]\n",
      " 13%|█▎        | 11/87 [00:00<00:00, 101.35it/s]\n"
     ]
    },
    {
     "name": "stdout",
     "output_type": "stream",
     "text": [
      "\u001b[2m\u001b[36m(func pid=10192)\u001b[0m \n",
      "\u001b[2m\u001b[36m(func pid=10192)\u001b[0m Epoch 147\n"
     ]
    },
    {
     "name": "stderr",
     "output_type": "stream",
     "text": [
      " 25%|██▌       | 22/87 [00:00<00:00, 102.82it/s]\n",
      " 38%|███▊      | 33/87 [00:00<00:00, 101.95it/s]\n",
      " 51%|█████     | 44/87 [00:00<00:00, 102.11it/s]\n",
      " 63%|██████▎   | 55/87 [00:00<00:00, 98.81it/s] \n",
      " 75%|███████▍  | 65/87 [00:00<00:00, 95.42it/s]\n",
      " 86%|████████▌ | 75/87 [00:00<00:00, 96.69it/s]\n",
      "100%|██████████| 87/87 [00:00<00:00, 99.38it/s]\n",
      "  0%|          | 0/25 [00:00<?, ?it/s]\n",
      "100%|██████████| 25/25 [00:00<00:00, 171.24it/s]\n",
      "  0%|          | 0/87 [00:00<?, ?it/s]\n"
     ]
    },
    {
     "name": "stdout",
     "output_type": "stream",
     "text": [
      "\u001b[2m\u001b[36m(func pid=10192)\u001b[0m \n",
      "\u001b[2m\u001b[36m(func pid=10192)\u001b[0m Epoch 148\n"
     ]
    },
    {
     "name": "stderr",
     "output_type": "stream",
     "text": [
      " 11%|█▏        | 10/87 [00:00<00:00, 91.79it/s]\n",
      " 23%|██▎       | 20/87 [00:00<00:00, 88.57it/s]\n",
      " 33%|███▎      | 29/87 [00:00<00:00, 86.95it/s]\n",
      " 44%|████▎     | 38/87 [00:00<00:00, 88.07it/s]\n",
      " 55%|█████▌    | 48/87 [00:00<00:00, 89.10it/s]\n",
      " 67%|██████▋   | 58/87 [00:00<00:00, 90.60it/s]\n",
      "  0%|          | 0/25 [00:00<?, ?it/s]\n",
      " 44%|████▍     | 11/25 [00:00<00:00, 78.75it/s]\n",
      "100%|██████████| 25/25 [00:00<00:00, 114.29it/s]\n",
      "  0%|          | 0/87 [00:00<?, ?it/s]\n",
      " 13%|█▎        | 11/87 [00:00<00:00, 101.38it/s]\n"
     ]
    },
    {
     "name": "stdout",
     "output_type": "stream",
     "text": [
      "\u001b[2m\u001b[36m(func pid=10192)\u001b[0m \n",
      "\u001b[2m\u001b[36m(func pid=10192)\u001b[0m Epoch 149\n"
     ]
    },
    {
     "name": "stderr",
     "output_type": "stream",
     "text": [
      " 25%|██▌       | 22/87 [00:00<00:00, 102.98it/s]\n",
      " 38%|███▊      | 33/87 [00:00<00:00, 95.61it/s] \n",
      " 51%|█████     | 44/87 [00:00<00:00, 98.38it/s]\n",
      " 62%|██████▏   | 54/87 [00:00<00:00, 98.82it/s]\n",
      " 75%|███████▍  | 65/87 [00:00<00:00, 100.27it/s]\n",
      " 87%|████████▋ | 76/87 [00:00<00:00, 100.49it/s]\n",
      "100%|██████████| 87/87 [00:00<00:00, 99.77it/s] \n",
      "  0%|          | 0/25 [00:00<?, ?it/s]\n",
      "100%|██████████| 25/25 [00:00<00:00, 163.58it/s]\n",
      "  0%|          | 0/87 [00:00<?, ?it/s]\n"
     ]
    },
    {
     "name": "stdout",
     "output_type": "stream",
     "text": [
      "\u001b[2m\u001b[36m(func pid=10192)\u001b[0m \n",
      "\u001b[2m\u001b[36m(func pid=10192)\u001b[0m Epoch 150\n"
     ]
    },
    {
     "name": "stderr",
     "output_type": "stream",
     "text": [
      " 10%|█         | 9/87 [00:00<00:00, 89.26it/s]\n",
      " 22%|██▏       | 19/87 [00:00<00:00, 91.74it/s]\n",
      " 33%|███▎      | 29/87 [00:00<00:00, 91.83it/s]\n",
      " 45%|████▍     | 39/87 [00:00<00:00, 92.79it/s]\n",
      " 56%|█████▋    | 49/87 [00:00<00:00, 93.38it/s]\n",
      " 68%|██████▊   | 59/87 [00:00<00:00, 93.99it/s]\n",
      " 80%|████████  | 70/87 [00:00<00:00, 96.01it/s]\n",
      "100%|██████████| 87/87 [00:00<00:00, 94.36it/s]\n",
      "  0%|          | 0/25 [00:00<?, ?it/s]\n",
      "100%|██████████| 25/25 [00:00<00:00, 178.79it/s]\n"
     ]
    },
    {
     "name": "stdout",
     "output_type": "stream",
     "text": [
      "\u001b[2m\u001b[36m(func pid=13256)\u001b[0m \n",
      "\u001b[2m\u001b[36m(func pid=13256)\u001b[0m Epoch 1\n"
     ]
    },
    {
     "name": "stderr",
     "output_type": "stream",
     "text": [
      "  1%|          | 1/173 [00:00<00:46,  3.68it/s]\n",
      "  8%|▊         | 13/173 [00:00<00:03, 43.00it/s]\n",
      " 14%|█▍        | 25/173 [00:00<00:02, 67.16it/s]\n",
      " 21%|██        | 36/173 [00:00<00:01, 80.50it/s]\n",
      " 28%|██▊       | 48/173 [00:00<00:01, 91.61it/s]\n",
      " 35%|███▌      | 61/173 [00:00<00:01, 101.23it/s]\n",
      " 42%|████▏     | 73/173 [00:00<00:00, 106.70it/s]\n",
      " 50%|████▉     | 86/173 [00:01<00:00, 110.93it/s]\n",
      " 57%|█████▋    | 98/173 [00:01<00:00, 110.96it/s]\n",
      " 64%|██████▍   | 111/173 [00:01<00:00, 113.65it/s]\n",
      " 72%|███████▏  | 124/173 [00:01<00:00, 116.03it/s]\n",
      " 79%|███████▊  | 136/173 [00:01<00:00, 116.77it/s]\n",
      " 86%|████████▌ | 148/173 [00:01<00:00, 117.01it/s]\n",
      "100%|██████████| 173/173 [00:01<00:00, 99.18it/s] \n",
      "  0%|          | 0/50 [00:00<?, ?it/s]\n",
      " 64%|██████▍   | 32/50 [00:00<00:00, 315.40it/s]\n",
      "100%|██████████| 50/50 [00:00<00:00, 304.88it/s]\n",
      "  0%|          | 0/173 [00:00<?, ?it/s]\n",
      "  6%|▋         | 11/173 [00:00<00:01, 99.84it/s]\n"
     ]
    },
    {
     "name": "stdout",
     "output_type": "stream",
     "text": [
      "\u001b[2m\u001b[36m(func pid=13256)\u001b[0m \n",
      "\u001b[2m\u001b[36m(func pid=13256)\u001b[0m Epoch 2\n"
     ]
    },
    {
     "name": "stderr",
     "output_type": "stream",
     "text": [
      " 12%|█▏        | 21/173 [00:00<00:01, 92.36it/s]\n",
      " 18%|█▊        | 31/173 [00:00<00:01, 91.64it/s]\n",
      " 24%|██▎       | 41/173 [00:00<00:01, 91.82it/s]\n",
      " 29%|██▉       | 51/173 [00:00<00:01, 86.27it/s]\n",
      " 35%|███▍      | 60/173 [00:00<00:01, 84.54it/s]\n",
      " 40%|███▉      | 69/173 [00:00<00:01, 83.98it/s]\n",
      " 46%|████▌     | 79/173 [00:00<00:01, 86.78it/s]\n",
      " 51%|█████▏    | 89/173 [00:01<00:00, 87.91it/s]\n",
      " 57%|█████▋    | 98/173 [00:01<00:00, 87.50it/s]\n",
      " 62%|██████▏   | 108/173 [00:01<00:00, 91.06it/s]\n",
      " 69%|██████▉   | 119/173 [00:01<00:00, 96.06it/s]\n",
      " 76%|███████▌  | 131/173 [00:01<00:00, 102.18it/s]\n",
      " 82%|████████▏ | 142/173 [00:01<00:00, 103.85it/s]\n",
      " 88%|████████▊ | 153/173 [00:01<00:00, 98.13it/s] \n",
      " 94%|█████████▍| 163/173 [00:01<00:00, 94.87it/s]\n",
      " 54%|█████▍    | 27/50 [00:00<00:00, 269.14it/s]\n",
      "100%|██████████| 50/50 [00:00<00:00, 255.00it/s]\n",
      "  0%|          | 0/173 [00:00<?, ?it/s]\n",
      "  3%|▎         | 6/173 [00:00<00:04, 41.22it/s]\n"
     ]
    },
    {
     "name": "stdout",
     "output_type": "stream",
     "text": [
      "\u001b[2m\u001b[36m(func pid=13256)\u001b[0m \n",
      "\u001b[2m\u001b[36m(func pid=13256)\u001b[0m Epoch 3\n"
     ]
    },
    {
     "name": "stderr",
     "output_type": "stream",
     "text": [
      " 10%|▉         | 17/173 [00:00<00:02, 74.37it/s]\n",
      " 16%|█▌        | 28/173 [00:00<00:01, 86.06it/s]\n",
      " 21%|██▏       | 37/173 [00:00<00:01, 83.84it/s]\n",
      " 27%|██▋       | 46/173 [00:00<00:01, 79.70it/s]\n",
      " 32%|███▏      | 55/173 [00:00<00:01, 77.52it/s]\n",
      " 36%|███▋      | 63/173 [00:00<00:01, 78.22it/s]\n",
      " 42%|████▏     | 72/173 [00:00<00:01, 79.32it/s]\n",
      " 47%|████▋     | 82/173 [00:01<00:01, 84.19it/s]\n",
      " 60%|██████    | 104/173 [00:01<00:00, 96.20it/s]\n",
      " 66%|██████▌   | 114/173 [00:01<00:00, 95.34it/s]\n",
      " 72%|███████▏  | 124/173 [00:01<00:00, 95.22it/s]\n",
      " 77%|███████▋  | 134/173 [00:01<00:00, 94.75it/s]\n",
      " 83%|████████▎ | 144/173 [00:01<00:00, 95.09it/s]\n",
      " 90%|████████▉ | 155/173 [00:01<00:00, 96.95it/s]\n",
      " 95%|█████████▌| 165/173 [00:01<00:00, 94.00it/s]\n",
      "100%|██████████| 173/173 [00:01<00:00, 88.12it/s]\n",
      "  0%|          | 0/50 [00:00<?, ?it/s]\n",
      " 54%|█████▍    | 27/50 [00:00<00:00, 269.99it/s]\n",
      "100%|██████████| 50/50 [00:00<00:00, 270.01it/s]\n",
      "  0%|          | 0/173 [00:00<?, ?it/s]\n",
      "  6%|▌         | 10/173 [00:00<00:01, 92.56it/s]\n"
     ]
    },
    {
     "name": "stdout",
     "output_type": "stream",
     "text": [
      "\u001b[2m\u001b[36m(func pid=13256)\u001b[0m \n",
      "\u001b[2m\u001b[36m(func pid=13256)\u001b[0m Epoch 4\n"
     ]
    },
    {
     "name": "stderr",
     "output_type": "stream",
     "text": [
      " 12%|█▏        | 21/173 [00:00<00:01, 97.01it/s]\n",
      " 18%|█▊        | 32/173 [00:00<00:01, 99.26it/s]\n",
      " 25%|██▍       | 43/173 [00:00<00:01, 99.69it/s]\n",
      " 31%|███       | 53/173 [00:00<00:01, 96.71it/s]\n",
      " 36%|███▋      | 63/173 [00:00<00:01, 97.28it/s]\n",
      " 43%|████▎     | 74/173 [00:00<00:01, 98.54it/s]\n",
      " 49%|████▉     | 85/173 [00:00<00:00, 100.85it/s]\n",
      " 55%|█████▌    | 96/173 [00:00<00:00, 101.64it/s]\n",
      " 62%|██████▏   | 107/173 [00:01<00:00, 103.53it/s]\n",
      " 69%|██████▉   | 119/173 [00:01<00:00, 107.24it/s]\n",
      " 76%|███████▌  | 131/173 [00:01<00:00, 110.82it/s]\n",
      " 83%|████████▎ | 144/173 [00:01<00:00, 114.69it/s]\n",
      "100%|██████████| 173/173 [00:01<00:00, 107.18it/s]\n",
      "  0%|          | 0/50 [00:00<?, ?it/s]\n",
      " 66%|██████▌   | 33/50 [00:00<00:00, 326.89it/s]\n",
      "100%|██████████| 50/50 [00:00<00:00, 323.19it/s]\n",
      "  0%|          | 0/173 [00:00<?, ?it/s]\n",
      "  7%|▋         | 12/173 [00:00<00:01, 117.77it/s]\n"
     ]
    },
    {
     "name": "stdout",
     "output_type": "stream",
     "text": [
      "\u001b[2m\u001b[36m(func pid=13256)\u001b[0m \n",
      "\u001b[2m\u001b[36m(func pid=13256)\u001b[0m Epoch 5\n"
     ]
    },
    {
     "name": "stderr",
     "output_type": "stream",
     "text": [
      " 14%|█▍        | 24/173 [00:00<00:01, 117.59it/s]\n",
      " 21%|██        | 36/173 [00:00<00:01, 106.52it/s]\n",
      " 27%|██▋       | 47/173 [00:00<00:01, 96.64it/s] \n",
      " 33%|███▎      | 57/173 [00:00<00:01, 88.91it/s]\n",
      " 39%|███▊      | 67/173 [00:00<00:01, 89.70it/s]\n",
      " 45%|████▍     | 77/173 [00:00<00:01, 87.38it/s]\n",
      " 50%|████▉     | 86/173 [00:00<00:01, 83.22it/s]\n",
      " 55%|█████▌    | 96/173 [00:01<00:00, 86.68it/s]\n",
      " 61%|██████    | 105/173 [00:01<00:00, 87.31it/s]\n",
      " 67%|██████▋   | 116/173 [00:01<00:00, 91.62it/s]\n",
      " 73%|███████▎  | 127/173 [00:01<00:00, 95.35it/s]\n",
      " 80%|███████▉  | 138/173 [00:01<00:00, 99.10it/s]\n",
      " 87%|████████▋ | 150/173 [00:01<00:00, 104.33it/s]\n",
      " 93%|█████████▎| 161/173 [00:01<00:00, 105.34it/s]\n",
      " 58%|█████▊    | 29/50 [00:00<00:00, 287.85it/s]\n",
      "100%|██████████| 50/50 [00:00<00:00, 286.22it/s]\n",
      "  0%|          | 0/173 [00:00<?, ?it/s]\n",
      "  6%|▌         | 10/173 [00:00<00:01, 97.91it/s]\n"
     ]
    },
    {
     "name": "stdout",
     "output_type": "stream",
     "text": [
      "\u001b[2m\u001b[36m(func pid=13256)\u001b[0m \n",
      "\u001b[2m\u001b[36m(func pid=13256)\u001b[0m Epoch 6\n"
     ]
    },
    {
     "name": "stderr",
     "output_type": "stream",
     "text": [
      " 12%|█▏        | 21/173 [00:00<00:01, 100.48it/s]\n",
      " 18%|█▊        | 32/173 [00:00<00:01, 91.98it/s] \n",
      " 24%|██▍       | 42/173 [00:00<00:01, 89.41it/s]\n",
      " 29%|██▉       | 51/173 [00:00<00:01, 84.29it/s]\n",
      " 35%|███▍      | 60/173 [00:00<00:01, 83.91it/s]\n",
      " 40%|███▉      | 69/173 [00:00<00:01, 83.96it/s]\n",
      " 45%|████▌     | 78/173 [00:00<00:01, 84.44it/s]\n",
      " 51%|█████     | 88/173 [00:01<00:00, 87.48it/s]\n",
      " 57%|█████▋    | 98/173 [00:01<00:00, 91.06it/s]\n",
      " 62%|██████▏   | 108/173 [00:01<00:00, 90.51it/s]\n",
      " 68%|██████▊   | 118/173 [00:01<00:00, 91.39it/s]\n",
      " 74%|███████▍  | 128/173 [00:01<00:00, 87.33it/s]\n",
      " 79%|███████▉  | 137/173 [00:01<00:00, 86.35it/s]\n",
      " 85%|████████▍ | 147/173 [00:01<00:00, 87.71it/s]\n",
      " 91%|█████████▏| 158/173 [00:01<00:00, 92.48it/s]\n",
      "100%|██████████| 173/173 [00:01<00:00, 90.47it/s]\n",
      "  0%|          | 0/50 [00:00<?, ?it/s]\n",
      "100%|██████████| 50/50 [00:00<00:00, 297.94it/s]\n",
      "  0%|          | 0/173 [00:00<?, ?it/s]\n"
     ]
    },
    {
     "name": "stdout",
     "output_type": "stream",
     "text": [
      "\u001b[2m\u001b[36m(func pid=13256)\u001b[0m \n",
      "\u001b[2m\u001b[36m(func pid=13256)\u001b[0m Epoch 7\n"
     ]
    },
    {
     "name": "stderr",
     "output_type": "stream",
     "text": [
      "  7%|▋         | 12/173 [00:00<00:01, 113.88it/s]\n",
      " 14%|█▍        | 25/173 [00:00<00:01, 121.03it/s]\n",
      " 22%|██▏       | 38/173 [00:00<00:01, 118.08it/s]\n",
      " 29%|██▉       | 50/173 [00:00<00:01, 114.17it/s]\n",
      " 36%|███▌      | 62/173 [00:00<00:01, 110.68it/s]\n",
      " 43%|████▎     | 74/173 [00:00<00:00, 109.35it/s]\n",
      " 49%|████▉     | 85/173 [00:00<00:00, 109.52it/s]\n",
      " 55%|█████▌    | 96/173 [00:00<00:00, 108.64it/s]\n",
      " 62%|██████▏   | 108/173 [00:00<00:00, 111.03it/s]\n",
      " 69%|██████▉   | 120/173 [00:01<00:00, 110.47it/s]\n",
      " 77%|███████▋  | 133/173 [00:01<00:00, 114.79it/s]\n",
      " 84%|████████▍ | 145/173 [00:01<00:00, 115.26it/s]\n",
      " 91%|█████████▏| 158/173 [00:01<00:00, 118.61it/s]\n",
      "  0%|          | 0/50 [00:00<?, ?it/s]\n",
      " 66%|██████▌   | 33/50 [00:00<00:00, 322.96it/s]\n",
      "100%|██████████| 50/50 [00:00<00:00, 219.02it/s]\n",
      "  0%|          | 0/173 [00:00<?, ?it/s]\n",
      "  8%|▊         | 13/173 [00:00<00:01, 122.56it/s]\n"
     ]
    },
    {
     "name": "stdout",
     "output_type": "stream",
     "text": [
      "\u001b[2m\u001b[36m(func pid=13256)\u001b[0m \n",
      "\u001b[2m\u001b[36m(func pid=13256)\u001b[0m Epoch 8\n"
     ]
    },
    {
     "name": "stderr",
     "output_type": "stream",
     "text": [
      " 15%|█▌        | 26/173 [00:00<00:01, 119.95it/s]\n",
      " 22%|██▏       | 38/173 [00:00<00:01, 108.24it/s]\n",
      " 28%|██▊       | 49/173 [00:00<00:01, 104.35it/s]\n",
      " 35%|███▍      | 60/173 [00:00<00:01, 101.81it/s]\n",
      " 41%|████      | 71/173 [00:00<00:01, 101.76it/s]\n",
      " 47%|████▋     | 82/173 [00:00<00:00, 103.51it/s]\n",
      " 54%|█████▍    | 93/173 [00:00<00:00, 101.91it/s]\n",
      " 60%|██████    | 104/173 [00:00<00:00, 103.08it/s]\n",
      " 66%|██████▋   | 115/173 [00:01<00:00, 104.02it/s]\n",
      " 73%|███████▎  | 126/173 [00:01<00:00, 97.11it/s] \n",
      " 79%|███████▉  | 137/173 [00:01<00:00, 99.64it/s]\n",
      " 86%|████████▌ | 148/173 [00:01<00:00, 95.47it/s]\n",
      " 91%|█████████▏| 158/173 [00:01<00:00, 92.39it/s]\n",
      "  0%|          | 0/50 [00:00<?, ?it/s]\n",
      "100%|██████████| 50/50 [00:00<00:00, 300.66it/s]\n",
      "  0%|          | 0/173 [00:00<?, ?it/s]\n",
      "  6%|▌         | 10/173 [00:00<00:01, 94.36it/s]\n"
     ]
    },
    {
     "name": "stdout",
     "output_type": "stream",
     "text": [
      "\u001b[2m\u001b[36m(func pid=13256)\u001b[0m \n",
      "\u001b[2m\u001b[36m(func pid=13256)\u001b[0m Epoch 9\n"
     ]
    },
    {
     "name": "stderr",
     "output_type": "stream",
     "text": [
      " 12%|█▏        | 20/173 [00:00<00:01, 93.52it/s]\n",
      " 17%|█▋        | 30/173 [00:00<00:01, 96.27it/s]\n",
      " 24%|██▎       | 41/173 [00:00<00:01, 100.58it/s]\n",
      " 30%|███       | 52/173 [00:00<00:01, 101.81it/s]\n",
      " 36%|███▋      | 63/173 [00:00<00:01, 98.26it/s] \n",
      " 42%|████▏     | 73/173 [00:00<00:01, 95.94it/s]\n",
      " 49%|████▊     | 84/173 [00:00<00:00, 97.80it/s]\n",
      " 55%|█████▍    | 95/173 [00:00<00:00, 99.99it/s]\n",
      " 62%|██████▏   | 107/173 [00:01<00:00, 105.12it/s]\n",
      " 69%|██████▉   | 119/173 [00:01<00:00, 109.26it/s]\n",
      " 76%|███████▌  | 131/173 [00:01<00:00, 109.80it/s]\n",
      " 83%|████████▎ | 143/173 [00:01<00:00, 107.71it/s]\n",
      " 90%|████████▉ | 155/173 [00:01<00:00, 108.99it/s]\n",
      " 97%|█████████▋| 167/173 [00:01<00:00, 111.91it/s]\n",
      "100%|██████████| 173/173 [00:01<00:00, 104.53it/s]\n",
      "  0%|          | 0/50 [00:00<?, ?it/s]\n",
      " 62%|██████▏   | 31/50 [00:00<00:00, 301.39it/s]\n",
      "100%|██████████| 50/50 [00:00<00:00, 294.06it/s]\n",
      "  0%|          | 0/173 [00:00<?, ?it/s]\n",
      "  8%|▊         | 13/173 [00:00<00:01, 119.92it/s]\n"
     ]
    },
    {
     "name": "stdout",
     "output_type": "stream",
     "text": [
      "\u001b[2m\u001b[36m(func pid=13256)\u001b[0m \n",
      "\u001b[2m\u001b[36m(func pid=13256)\u001b[0m Epoch 10\n"
     ]
    },
    {
     "name": "stderr",
     "output_type": "stream",
     "text": [
      " 15%|█▌        | 26/173 [00:00<00:01, 121.66it/s]\n",
      " 23%|██▎       | 39/173 [00:00<00:01, 120.00it/s]\n",
      " 30%|███       | 52/173 [00:00<00:01, 119.19it/s]\n",
      " 38%|███▊      | 65/173 [00:00<00:00, 119.22it/s]\n",
      " 45%|████▌     | 78/173 [00:00<00:00, 121.86it/s]\n",
      " 53%|█████▎    | 91/173 [00:00<00:00, 122.31it/s]\n",
      " 60%|██████    | 104/173 [00:00<00:00, 121.16it/s]\n",
      " 68%|██████▊   | 117/173 [00:00<00:00, 120.86it/s]\n",
      " 75%|███████▌  | 130/173 [00:01<00:00, 120.09it/s]\n",
      " 83%|████████▎ | 143/173 [00:01<00:00, 120.11it/s]\n",
      " 90%|█████████ | 156/173 [00:01<00:00, 117.88it/s]\n",
      "  0%|          | 0/50 [00:00<?, ?it/s]\n",
      "100%|██████████| 50/50 [00:00<00:00, 298.00it/s]\n",
      "  0%|          | 0/173 [00:00<?, ?it/s]\n",
      " 13%|█▎        | 23/173 [00:00<00:01, 114.48it/s]\n"
     ]
    },
    {
     "name": "stdout",
     "output_type": "stream",
     "text": [
      "\u001b[2m\u001b[36m(func pid=13256)\u001b[0m \n",
      "\u001b[2m\u001b[36m(func pid=13256)\u001b[0m Epoch 11\n"
     ]
    },
    {
     "name": "stderr",
     "output_type": "stream",
     "text": [
      " 20%|██        | 35/173 [00:00<00:01, 116.44it/s]\n",
      " 28%|██▊       | 48/173 [00:00<00:01, 119.46it/s]\n",
      " 35%|███▍      | 60/173 [00:00<00:00, 118.82it/s]\n",
      " 42%|████▏     | 73/173 [00:00<00:00, 119.77it/s]\n",
      " 50%|████▉     | 86/173 [00:00<00:00, 120.10it/s]\n",
      " 57%|█████▋    | 99/173 [00:00<00:00, 113.54it/s]\n",
      " 64%|██████▍   | 111/173 [00:00<00:00, 108.19it/s]\n",
      " 71%|███████   | 122/173 [00:01<00:00, 106.08it/s]\n",
      " 77%|███████▋  | 133/173 [00:01<00:00, 102.34it/s]\n",
      " 83%|████████▎ | 144/173 [00:01<00:00, 97.68it/s] \n",
      " 89%|████████▉ | 154/173 [00:01<00:00, 90.54it/s]\n",
      " 95%|█████████▍| 164/173 [00:01<00:00, 89.36it/s]\n",
      "100%|██████████| 173/173 [00:01<00:00, 103.26it/s]\n",
      "  0%|          | 0/50 [00:00<?, ?it/s]\n",
      " 46%|████▌     | 23/50 [00:00<00:00, 227.52it/s]\n",
      "100%|██████████| 50/50 [00:00<00:00, 251.42it/s]\n",
      "  0%|          | 0/173 [00:00<?, ?it/s]\n"
     ]
    },
    {
     "name": "stdout",
     "output_type": "stream",
     "text": [
      "\u001b[2m\u001b[36m(func pid=13256)\u001b[0m \n",
      "\u001b[2m\u001b[36m(func pid=13256)\u001b[0m Epoch 12\n"
     ]
    },
    {
     "name": "stderr",
     "output_type": "stream",
     "text": [
      "  5%|▌         | 9/173 [00:00<00:01, 83.08it/s]\n",
      " 11%|█         | 19/173 [00:00<00:01, 86.90it/s]\n",
      " 16%|█▌        | 28/173 [00:00<00:01, 80.49it/s]\n",
      " 27%|██▋       | 46/173 [00:00<00:01, 82.42it/s]\n",
      " 32%|███▏      | 55/173 [00:00<00:01, 83.70it/s]\n",
      " 38%|███▊      | 65/173 [00:00<00:01, 86.68it/s]\n",
      " 43%|████▎     | 75/173 [00:00<00:01, 89.53it/s]\n",
      " 50%|█████     | 87/173 [00:00<00:00, 96.36it/s]\n",
      " 57%|█████▋    | 99/173 [00:01<00:00, 100.95it/s]\n",
      " 64%|██████▍   | 111/173 [00:01<00:00, 103.44it/s]\n",
      " 71%|███████   | 122/173 [00:01<00:00, 103.27it/s]\n",
      " 77%|███████▋  | 133/173 [00:01<00:00, 104.62it/s]\n",
      " 83%|████████▎ | 144/173 [00:01<00:00, 103.18it/s]\n",
      " 90%|████████▉ | 155/173 [00:01<00:00, 103.89it/s]\n",
      "100%|██████████| 173/173 [00:01<00:00, 96.80it/s] \n",
      "  0%|          | 0/50 [00:00<?, ?it/s]\n",
      " 42%|████▏     | 21/50 [00:00<00:00, 133.16it/s]\n",
      "100%|██████████| 50/50 [00:00<00:00, 177.27it/s]\n",
      "  0%|          | 0/173 [00:00<?, ?it/s]\n",
      "  5%|▌         | 9/173 [00:00<00:01, 85.65it/s]\n"
     ]
    },
    {
     "name": "stdout",
     "output_type": "stream",
     "text": [
      "\u001b[2m\u001b[36m(func pid=13256)\u001b[0m \n",
      "\u001b[2m\u001b[36m(func pid=13256)\u001b[0m Epoch 13\n"
     ]
    },
    {
     "name": "stderr",
     "output_type": "stream",
     "text": [
      " 11%|█         | 19/173 [00:00<00:01, 89.61it/s]\n",
      " 16%|█▌        | 28/173 [00:00<00:01, 87.98it/s]\n",
      " 21%|██▏       | 37/173 [00:00<00:01, 86.39it/s]\n",
      " 27%|██▋       | 46/173 [00:00<00:01, 84.52it/s]\n",
      " 32%|███▏      | 55/173 [00:00<00:01, 84.00it/s]\n",
      " 37%|███▋      | 64/173 [00:00<00:01, 82.00it/s]\n",
      " 42%|████▏     | 73/173 [00:00<00:01, 84.35it/s]\n",
      " 47%|████▋     | 82/173 [00:00<00:01, 80.74it/s]\n",
      " 53%|█████▎    | 91/173 [00:01<00:01, 80.45it/s]\n",
      " 58%|█████▊    | 100/173 [00:01<00:00, 82.36it/s]\n",
      " 63%|██████▎   | 109/173 [00:01<00:00, 83.72it/s]\n",
      " 69%|██████▉   | 120/173 [00:01<00:00, 89.58it/s]\n",
      " 76%|███████▌  | 131/173 [00:01<00:00, 94.54it/s]\n",
      " 82%|████████▏ | 141/173 [00:01<00:00, 90.30it/s]\n",
      " 87%|████████▋ | 151/173 [00:01<00:00, 90.56it/s]\n",
      "  0%|          | 0/50 [00:00<?, ?it/s]\n",
      " 44%|████▍     | 22/50 [00:00<00:00, 218.65it/s]\n",
      " 88%|████████▊ | 44/50 [00:00<00:00, 205.93it/s]\n",
      "100%|██████████| 50/50 [00:00<00:00, 210.57it/s]\n",
      "  0%|          | 0/173 [00:00<?, ?it/s]\n",
      "  5%|▌         | 9/173 [00:00<00:01, 89.93it/s]\n"
     ]
    },
    {
     "name": "stdout",
     "output_type": "stream",
     "text": [
      "\u001b[2m\u001b[36m(func pid=13256)\u001b[0m \n",
      "\u001b[2m\u001b[36m(func pid=13256)\u001b[0m Epoch 14\n"
     ]
    },
    {
     "name": "stderr",
     "output_type": "stream",
     "text": [
      " 10%|█         | 18/173 [00:00<00:02, 76.24it/s]\n",
      " 15%|█▌        | 26/173 [00:00<00:01, 77.05it/s]\n",
      " 21%|██        | 36/173 [00:00<00:01, 82.45it/s]\n",
      " 26%|██▌       | 45/173 [00:00<00:01, 79.08it/s]\n",
      " 31%|███       | 53/173 [00:00<00:01, 78.37it/s]\n",
      " 36%|███▌      | 62/173 [00:00<00:01, 80.82it/s]\n",
      " 41%|████      | 71/173 [00:00<00:01, 81.54it/s]\n",
      " 46%|████▌     | 80/173 [00:00<00:01, 83.70it/s]\n",
      " 52%|█████▏    | 90/173 [00:01<00:00, 87.05it/s]\n",
      " 57%|█████▋    | 99/173 [00:01<00:00, 86.18it/s]\n",
      " 62%|██████▏   | 108/173 [00:01<00:00, 86.33it/s]\n",
      " 68%|██████▊   | 117/173 [00:01<00:00, 82.41it/s]\n",
      " 73%|███████▎  | 126/173 [00:01<00:00, 83.74it/s]\n",
      " 78%|███████▊  | 135/173 [00:01<00:00, 82.24it/s]\n",
      " 83%|████████▎ | 144/173 [00:01<00:00, 84.00it/s]\n",
      " 88%|████████▊ | 153/173 [00:01<00:00, 83.12it/s]\n",
      " 94%|█████████▍| 163/173 [00:01<00:00, 85.51it/s]\n",
      "  0%|          | 0/50 [00:00<?, ?it/s]\n",
      "100%|██████████| 50/50 [00:00<00:00, 264.65it/s]\n",
      "  0%|          | 0/173 [00:00<?, ?it/s]\n",
      "  6%|▌         | 10/173 [00:00<00:01, 92.31it/s]\n"
     ]
    },
    {
     "name": "stdout",
     "output_type": "stream",
     "text": [
      "\u001b[2m\u001b[36m(func pid=13256)\u001b[0m \n",
      "\u001b[2m\u001b[36m(func pid=13256)\u001b[0m Epoch 15\n"
     ]
    },
    {
     "name": "stderr",
     "output_type": "stream",
     "text": [
      " 12%|█▏        | 20/173 [00:00<00:01, 82.82it/s]\n",
      " 17%|█▋        | 29/173 [00:00<00:01, 80.51it/s]\n",
      " 22%|██▏       | 38/173 [00:00<00:01, 78.73it/s]\n",
      " 27%|██▋       | 46/173 [00:00<00:01, 72.66it/s]\n",
      " 31%|███       | 54/173 [00:00<00:01, 73.44it/s]\n",
      " 36%|███▋      | 63/173 [00:00<00:01, 77.27it/s]\n",
      " 42%|████▏     | 73/173 [00:00<00:01, 81.50it/s]\n",
      " 47%|████▋     | 82/173 [00:01<00:01, 83.23it/s]\n",
      " 53%|█████▎    | 91/173 [00:01<00:00, 83.03it/s]\n",
      " 63%|██████▎   | 109/173 [00:01<00:00, 85.33it/s]\n",
      " 68%|██████▊   | 118/173 [00:01<00:00, 85.21it/s]\n",
      " 73%|███████▎  | 127/173 [00:01<00:00, 83.96it/s]\n",
      " 79%|███████▉  | 137/173 [00:01<00:00, 86.18it/s]\n",
      " 84%|████████▍ | 146/173 [00:01<00:00, 87.26it/s]\n",
      " 90%|█████████ | 156/173 [00:01<00:00, 89.75it/s]\n",
      " 95%|█████████▌| 165/173 [00:01<00:00, 88.84it/s]\n",
      "100%|██████████| 173/173 [00:02<00:00, 84.12it/s]\n",
      "  0%|          | 0/50 [00:00<?, ?it/s]\n",
      "100%|██████████| 50/50 [00:00<00:00, 290.47it/s]\n",
      "  0%|          | 0/173 [00:00<?, ?it/s]\n",
      "  6%|▋         | 11/173 [00:00<00:01, 106.76it/s]\n"
     ]
    },
    {
     "name": "stdout",
     "output_type": "stream",
     "text": [
      "\u001b[2m\u001b[36m(func pid=13256)\u001b[0m \n",
      "\u001b[2m\u001b[36m(func pid=13256)\u001b[0m Epoch 16\n"
     ]
    },
    {
     "name": "stderr",
     "output_type": "stream",
     "text": [
      " 13%|█▎        | 23/173 [00:00<00:01, 109.21it/s]\n",
      " 20%|█▉        | 34/173 [00:00<00:01, 108.92it/s]\n",
      " 26%|██▌       | 45/173 [00:00<00:01, 107.73it/s]\n",
      " 33%|███▎      | 57/173 [00:00<00:01, 110.61it/s]\n",
      " 40%|███▉      | 69/173 [00:00<00:00, 110.88it/s]\n",
      " 47%|████▋     | 81/173 [00:00<00:00, 109.95it/s]\n",
      " 54%|█████▍    | 93/173 [00:00<00:00, 111.16it/s]\n",
      " 61%|██████    | 105/173 [00:00<00:00, 113.18it/s]\n",
      " 68%|██████▊   | 117/173 [00:01<00:00, 113.25it/s]\n",
      " 75%|███████▍  | 129/173 [00:01<00:00, 114.79it/s]\n",
      " 82%|████████▏ | 141/173 [00:01<00:00, 113.35it/s]\n",
      " 88%|████████▊ | 153/173 [00:01<00:00, 114.93it/s]\n",
      " 95%|█████████▌| 165/173 [00:01<00:00, 115.77it/s]\n",
      "100%|██████████| 173/173 [00:01<00:00, 112.74it/s]\n",
      "  0%|          | 0/50 [00:00<?, ?it/s]\n",
      " 66%|██████▌   | 33/50 [00:00<00:00, 324.04it/s]\n",
      "100%|██████████| 50/50 [00:00<00:00, 326.75it/s]\n",
      "  0%|          | 0/173 [00:00<?, ?it/s]\n",
      "  7%|▋         | 12/173 [00:00<00:01, 114.17it/s]\n"
     ]
    },
    {
     "name": "stdout",
     "output_type": "stream",
     "text": [
      "\u001b[2m\u001b[36m(func pid=13256)\u001b[0m \n",
      "\u001b[2m\u001b[36m(func pid=13256)\u001b[0m Epoch 17\n"
     ]
    },
    {
     "name": "stderr",
     "output_type": "stream",
     "text": [
      " 14%|█▍        | 24/173 [00:00<00:01, 116.26it/s]\n",
      " 21%|██▏       | 37/173 [00:00<00:01, 118.43it/s]\n",
      " 29%|██▉       | 50/173 [00:00<00:01, 119.37it/s]\n",
      " 36%|███▌      | 62/173 [00:00<00:00, 116.77it/s]\n",
      " 43%|████▎     | 74/173 [00:00<00:00, 114.92it/s]\n",
      " 50%|█████     | 87/173 [00:00<00:00, 116.98it/s]\n",
      " 57%|█████▋    | 99/173 [00:00<00:00, 115.36it/s]\n",
      " 64%|██████▍   | 111/173 [00:00<00:00, 114.04it/s]\n",
      " 71%|███████   | 123/173 [00:01<00:00, 115.53it/s]\n",
      " 79%|███████▊  | 136/173 [00:01<00:00, 118.06it/s]\n",
      " 86%|████████▌ | 149/173 [00:01<00:00, 119.12it/s]\n",
      "  0%|          | 0/50 [00:00<?, ?it/s]\n",
      " 10%|█         | 5/50 [00:00<00:00, 49.45it/s]\n",
      "100%|██████████| 50/50 [00:00<00:00, 201.37it/s]\n",
      "  0%|          | 0/173 [00:00<?, ?it/s]\n",
      "  6%|▋         | 11/173 [00:00<00:01, 104.89it/s]\n"
     ]
    },
    {
     "name": "stdout",
     "output_type": "stream",
     "text": [
      "\u001b[2m\u001b[36m(func pid=13256)\u001b[0m \n",
      "\u001b[2m\u001b[36m(func pid=13256)\u001b[0m Epoch 18\n"
     ]
    },
    {
     "name": "stderr",
     "output_type": "stream",
     "text": [
      " 13%|█▎        | 23/173 [00:00<00:01, 108.43it/s]\n",
      " 20%|█▉        | 34/173 [00:00<00:01, 104.12it/s]\n",
      " 26%|██▌       | 45/173 [00:00<00:01, 104.55it/s]\n",
      " 32%|███▏      | 56/173 [00:00<00:01, 104.48it/s]\n",
      " 39%|███▊      | 67/173 [00:00<00:01, 105.56it/s]\n",
      " 46%|████▌     | 79/173 [00:00<00:00, 107.49it/s]\n",
      " 53%|█████▎    | 91/173 [00:00<00:00, 110.94it/s]\n",
      " 60%|█████▉    | 103/173 [00:00<00:00, 113.40it/s]\n",
      " 66%|██████▋   | 115/173 [00:01<00:00, 114.06it/s]\n",
      " 74%|███████▍  | 128/173 [00:01<00:00, 118.37it/s]\n",
      " 81%|████████  | 140/173 [00:01<00:00, 116.04it/s]\n",
      " 88%|████████▊ | 153/173 [00:01<00:00, 117.28it/s]\n",
      "100%|██████████| 173/173 [00:01<00:00, 111.84it/s]\n",
      "  0%|          | 0/50 [00:00<?, ?it/s]\n",
      " 64%|██████▍   | 32/50 [00:00<00:00, 316.42it/s]\n",
      "100%|██████████| 50/50 [00:00<00:00, 318.86it/s]\n",
      "  0%|          | 0/173 [00:00<?, ?it/s]\n",
      "  7%|▋         | 12/173 [00:00<00:01, 114.30it/s]\n"
     ]
    },
    {
     "name": "stdout",
     "output_type": "stream",
     "text": [
      "\u001b[2m\u001b[36m(func pid=13256)\u001b[0m \n",
      "\u001b[2m\u001b[36m(func pid=13256)\u001b[0m Epoch 19\n"
     ]
    },
    {
     "name": "stderr",
     "output_type": "stream",
     "text": [
      " 14%|█▍        | 24/173 [00:00<00:01, 108.79it/s]\n",
      " 20%|██        | 35/173 [00:00<00:01, 108.69it/s]\n",
      " 27%|██▋       | 46/173 [00:00<00:01, 106.27it/s]\n",
      " 34%|███▎      | 58/173 [00:00<00:01, 109.67it/s]\n",
      " 40%|████      | 70/173 [00:00<00:00, 112.04it/s]\n",
      " 47%|████▋     | 82/173 [00:00<00:00, 111.58it/s]\n",
      " 55%|█████▍    | 95/173 [00:00<00:00, 115.27it/s]\n",
      " 62%|██████▏   | 107/173 [00:00<00:00, 116.02it/s]\n",
      " 69%|██████▉   | 119/173 [00:01<00:00, 113.74it/s]\n",
      " 76%|███████▌  | 131/173 [00:01<00:00, 111.29it/s]\n",
      " 83%|████████▎ | 143/173 [00:01<00:00, 111.60it/s]\n",
      " 90%|████████▉ | 155/173 [00:01<00:00, 109.86it/s]\n",
      " 97%|█████████▋| 168/173 [00:01<00:00, 113.72it/s]\n",
      "100%|██████████| 173/173 [00:01<00:00, 112.25it/s]\n",
      "  0%|          | 0/50 [00:00<?, ?it/s]\n",
      " 64%|██████▍   | 32/50 [00:00<00:00, 317.12it/s]\n",
      "100%|██████████| 50/50 [00:00<00:00, 321.08it/s]\n",
      "  0%|          | 0/173 [00:00<?, ?it/s]\n",
      "  8%|▊         | 13/173 [00:00<00:01, 121.97it/s]\n"
     ]
    },
    {
     "name": "stdout",
     "output_type": "stream",
     "text": [
      "\u001b[2m\u001b[36m(func pid=13256)\u001b[0m \n",
      "\u001b[2m\u001b[36m(func pid=13256)\u001b[0m Epoch 20\n"
     ]
    },
    {
     "name": "stderr",
     "output_type": "stream",
     "text": [
      " 15%|█▌        | 26/173 [00:00<00:01, 118.88it/s]\n",
      " 23%|██▎       | 39/173 [00:00<00:01, 120.27it/s]\n",
      " 30%|███       | 52/173 [00:00<00:01, 120.08it/s]\n",
      " 38%|███▊      | 65/173 [00:00<00:00, 122.63it/s]\n",
      " 45%|████▌     | 78/173 [00:00<00:00, 123.30it/s]\n",
      " 53%|█████▎    | 91/173 [00:00<00:00, 124.44it/s]\n",
      " 60%|██████    | 104/173 [00:00<00:00, 125.54it/s]\n",
      " 68%|██████▊   | 117/173 [00:00<00:00, 124.52it/s]\n",
      " 75%|███████▌  | 130/173 [00:01<00:00, 122.42it/s]\n",
      " 83%|████████▎ | 143/173 [00:01<00:00, 115.64it/s]\n",
      " 90%|████████▉ | 155/173 [00:01<00:00, 103.11it/s]\n",
      "100%|██████████| 173/173 [00:01<00:00, 113.96it/s]\n",
      "  0%|          | 0/50 [00:00<?, ?it/s]\n",
      " 46%|████▌     | 23/50 [00:00<00:00, 227.15it/s]\n",
      "100%|██████████| 50/50 [00:00<00:00, 252.75it/s]\n",
      "  0%|          | 0/173 [00:00<?, ?it/s]\n",
      "  4%|▍         | 7/173 [00:00<00:02, 68.71it/s]\n"
     ]
    },
    {
     "name": "stdout",
     "output_type": "stream",
     "text": [
      "\u001b[2m\u001b[36m(func pid=13256)\u001b[0m \n",
      "\u001b[2m\u001b[36m(func pid=13256)\u001b[0m Epoch 21\n"
     ]
    },
    {
     "name": "stderr",
     "output_type": "stream",
     "text": [
      "  9%|▉         | 16/173 [00:00<00:02, 76.17it/s]\n",
      " 14%|█▍        | 24/173 [00:00<00:02, 74.13it/s]\n",
      " 19%|█▉        | 33/173 [00:00<00:01, 78.80it/s]\n",
      " 24%|██▍       | 42/173 [00:00<00:01, 80.14it/s]\n",
      " 30%|███       | 52/173 [00:00<00:01, 83.11it/s]\n",
      " 35%|███▌      | 61/173 [00:00<00:01, 85.20it/s]\n",
      " 40%|████      | 70/173 [00:00<00:01, 83.90it/s]\n",
      " 46%|████▌     | 80/173 [00:00<00:01, 88.32it/s]\n",
      " 53%|█████▎    | 91/173 [00:01<00:00, 93.83it/s]\n",
      " 59%|█████▉    | 102/173 [00:01<00:00, 96.75it/s]\n",
      " 65%|██████▌   | 113/173 [00:01<00:00, 100.20it/s]\n",
      " 72%|███████▏  | 125/173 [00:01<00:00, 102.49it/s]\n",
      " 79%|███████▊  | 136/173 [00:01<00:00, 103.24it/s]\n",
      " 85%|████████▍ | 147/173 [00:01<00:00, 101.24it/s]\n",
      " 91%|█████████▏| 158/173 [00:01<00:00, 99.30it/s] \n",
      "100%|██████████| 173/173 [00:01<00:00, 92.66it/s] \n",
      "  0%|          | 0/50 [00:00<?, ?it/s]\n",
      " 48%|████▊     | 24/50 [00:00<00:00, 238.69it/s]\n",
      "100%|██████████| 50/50 [00:00<00:00, 247.98it/s]\n",
      "  0%|          | 0/173 [00:00<?, ?it/s]\n",
      "  6%|▌         | 10/173 [00:00<00:01, 91.71it/s]\n"
     ]
    },
    {
     "name": "stdout",
     "output_type": "stream",
     "text": [
      "\u001b[2m\u001b[36m(func pid=13256)\u001b[0m \n",
      "\u001b[2m\u001b[36m(func pid=13256)\u001b[0m Epoch 22\n"
     ]
    },
    {
     "name": "stderr",
     "output_type": "stream",
     "text": [
      " 12%|█▏        | 20/173 [00:00<00:01, 87.85it/s]\n",
      " 18%|█▊        | 31/173 [00:00<00:01, 93.60it/s]\n",
      " 24%|██▎       | 41/173 [00:00<00:01, 95.69it/s]\n",
      " 29%|██▉       | 51/173 [00:00<00:01, 92.70it/s]\n",
      " 35%|███▌      | 61/173 [00:00<00:01, 89.36it/s]\n",
      " 40%|████      | 70/173 [00:00<00:01, 87.24it/s]\n",
      " 46%|████▌     | 80/173 [00:00<00:01, 88.80it/s]\n",
      " 51%|█████▏    | 89/173 [00:00<00:00, 87.18it/s]\n",
      " 57%|█████▋    | 98/173 [00:01<00:00, 86.73it/s]\n",
      " 62%|██████▏   | 108/173 [00:01<00:00, 89.65it/s]\n",
      " 68%|██████▊   | 117/173 [00:01<00:00, 86.26it/s]\n",
      " 73%|███████▎  | 126/173 [00:01<00:00, 86.80it/s]\n",
      " 78%|███████▊  | 135/173 [00:01<00:00, 83.71it/s]\n",
      " 83%|████████▎ | 144/173 [00:01<00:00, 82.07it/s]\n",
      " 88%|████████▊ | 153/173 [00:01<00:00, 84.23it/s]\n",
      " 94%|█████████▎| 162/173 [00:01<00:00, 69.49it/s]\n",
      " 98%|█████████▊| 170/173 [00:02<00:00, 71.54it/s]\n",
      "100%|██████████| 173/173 [00:02<00:00, 83.33it/s]\n",
      "  0%|          | 0/50 [00:00<?, ?it/s]\n",
      " 44%|████▍     | 22/50 [00:00<00:00, 213.54it/s]\n",
      "100%|██████████| 50/50 [00:00<00:00, 225.25it/s]\n",
      "  0%|          | 0/173 [00:00<?, ?it/s]\n"
     ]
    },
    {
     "name": "stdout",
     "output_type": "stream",
     "text": [
      "\u001b[2m\u001b[36m(func pid=13256)\u001b[0m \n",
      "\u001b[2m\u001b[36m(func pid=13256)\u001b[0m Epoch 23\n"
     ]
    },
    {
     "name": "stderr",
     "output_type": "stream",
     "text": [
      "  6%|▌         | 10/173 [00:00<00:01, 91.53it/s]\n",
      " 12%|█▏        | 20/173 [00:00<00:01, 88.69it/s]\n",
      " 18%|█▊        | 31/173 [00:00<00:01, 95.81it/s]\n",
      " 24%|██▎       | 41/173 [00:00<00:01, 96.08it/s]\n",
      " 29%|██▉       | 51/173 [00:00<00:01, 92.84it/s]\n",
      " 35%|███▌      | 61/173 [00:00<00:01, 92.16it/s]\n",
      " 41%|████      | 71/173 [00:00<00:01, 93.21it/s]\n",
      " 47%|████▋     | 81/173 [00:00<00:01, 87.28it/s]\n",
      " 52%|█████▏    | 90/173 [00:01<00:00, 85.14it/s]\n",
      " 57%|█████▋    | 99/173 [00:01<00:00, 84.84it/s]\n",
      " 62%|██████▏   | 108/173 [00:01<00:00, 83.81it/s]\n",
      " 68%|██████▊   | 118/173 [00:01<00:00, 87.24it/s]\n",
      " 74%|███████▍  | 128/173 [00:01<00:00, 89.70it/s]\n",
      " 80%|████████  | 139/173 [00:01<00:00, 94.23it/s]\n",
      " 86%|████████▌ | 149/173 [00:01<00:00, 92.38it/s]\n",
      " 92%|█████████▏| 159/173 [00:01<00:00, 91.89it/s]\n",
      "100%|██████████| 173/173 [00:01<00:00, 89.53it/s]\n",
      "  0%|          | 0/50 [00:00<?, ?it/s]\n",
      " 58%|█████▊    | 29/50 [00:00<00:00, 280.71it/s]\n",
      "100%|██████████| 50/50 [00:00<00:00, 283.69it/s]\n",
      "  0%|          | 0/173 [00:00<?, ?it/s]\n",
      "  5%|▍         | 8/173 [00:00<00:02, 76.67it/s]\n"
     ]
    },
    {
     "name": "stdout",
     "output_type": "stream",
     "text": [
      "\u001b[2m\u001b[36m(func pid=13256)\u001b[0m \n",
      "\u001b[2m\u001b[36m(func pid=13256)\u001b[0m Epoch 24\n"
     ]
    },
    {
     "name": "stderr",
     "output_type": "stream",
     "text": [
      " 10%|▉         | 17/173 [00:00<00:01, 82.18it/s]\n",
      " 16%|█▌        | 27/173 [00:00<00:01, 85.80it/s]\n",
      " 21%|██        | 36/173 [00:00<00:01, 83.34it/s]\n",
      " 26%|██▌       | 45/173 [00:00<00:01, 83.64it/s]\n",
      " 31%|███       | 54/173 [00:00<00:01, 81.48it/s]\n",
      " 37%|███▋      | 64/173 [00:00<00:01, 86.39it/s]\n",
      " 44%|████▍     | 76/173 [00:00<00:01, 94.77it/s]\n",
      " 51%|█████     | 88/173 [00:00<00:00, 102.26it/s]\n",
      " 58%|█████▊    | 100/173 [00:01<00:00, 107.14it/s]\n",
      " 65%|██████▍   | 112/173 [00:01<00:00, 109.67it/s]\n",
      " 72%|███████▏  | 124/173 [00:01<00:00, 109.22it/s]\n",
      " 79%|███████▊  | 136/173 [00:01<00:00, 111.00it/s]\n",
      " 86%|████████▌ | 148/173 [00:01<00:00, 112.35it/s]\n",
      " 92%|█████████▏| 160/173 [00:01<00:00, 113.58it/s]\n",
      "  0%|          | 0/50 [00:00<?, ?it/s]\n",
      "100%|██████████| 50/50 [00:00<00:00, 286.73it/s]\n",
      "  0%|          | 0/173 [00:00<?, ?it/s]\n",
      "  8%|▊         | 13/173 [00:00<00:01, 121.84it/s]\n"
     ]
    },
    {
     "name": "stdout",
     "output_type": "stream",
     "text": [
      "\u001b[2m\u001b[36m(func pid=13256)\u001b[0m \n",
      "\u001b[2m\u001b[36m(func pid=13256)\u001b[0m Epoch 25\n"
     ]
    },
    {
     "name": "stderr",
     "output_type": "stream",
     "text": [
      " 15%|█▌        | 26/173 [00:00<00:01, 122.61it/s]\n",
      " 23%|██▎       | 39/173 [00:00<00:01, 122.34it/s]\n",
      " 30%|███       | 52/173 [00:00<00:00, 122.61it/s]\n",
      " 38%|███▊      | 65/173 [00:00<00:00, 123.33it/s]\n",
      " 45%|████▌     | 78/173 [00:00<00:00, 124.27it/s]\n",
      " 53%|█████▎    | 91/173 [00:00<00:00, 124.16it/s]\n",
      " 60%|██████    | 104/173 [00:00<00:00, 122.97it/s]\n",
      " 68%|██████▊   | 117/173 [00:00<00:00, 123.63it/s]\n",
      " 75%|███████▌  | 130/173 [00:01<00:00, 124.37it/s]\n",
      " 83%|████████▎ | 143/173 [00:01<00:00, 126.04it/s]\n",
      " 90%|█████████ | 156/173 [00:01<00:00, 126.49it/s]\n",
      "100%|██████████| 173/173 [00:01<00:00, 124.66it/s]\n",
      "  0%|          | 0/50 [00:00<?, ?it/s]\n",
      "100%|██████████| 50/50 [00:00<00:00, 333.56it/s]\n",
      "  0%|          | 0/173 [00:00<?, ?it/s]\n",
      "  7%|▋         | 12/173 [00:00<00:01, 116.25it/s]\n"
     ]
    },
    {
     "name": "stdout",
     "output_type": "stream",
     "text": [
      "\u001b[2m\u001b[36m(func pid=13256)\u001b[0m \n",
      "\u001b[2m\u001b[36m(func pid=13256)\u001b[0m Epoch 26\n"
     ]
    },
    {
     "name": "stderr",
     "output_type": "stream",
     "text": [
      " 14%|█▍        | 24/173 [00:00<00:01, 113.16it/s]\n",
      " 21%|██▏       | 37/173 [00:00<00:01, 118.02it/s]\n",
      " 36%|███▋      | 63/173 [00:00<00:00, 122.35it/s]\n",
      " 44%|████▍     | 76/173 [00:00<00:00, 124.54it/s]\n",
      " 51%|█████▏    | 89/173 [00:00<00:00, 125.51it/s]\n",
      " 59%|█████▉    | 102/173 [00:00<00:00, 125.31it/s]\n",
      " 66%|██████▋   | 115/173 [00:00<00:00, 121.19it/s]\n",
      " 74%|███████▍  | 128/173 [00:01<00:00, 115.95it/s]\n",
      " 81%|████████  | 140/173 [00:01<00:00, 113.16it/s]\n",
      " 88%|████████▊ | 152/173 [00:01<00:00, 110.49it/s]\n",
      " 95%|█████████▍| 164/173 [00:01<00:00, 110.66it/s]\n",
      " 58%|█████▊    | 29/50 [00:00<00:00, 286.79it/s]\n",
      "100%|██████████| 50/50 [00:00<00:00, 298.76it/s]\n",
      "  0%|          | 0/173 [00:00<?, ?it/s]\n",
      "  6%|▋         | 11/173 [00:00<00:01, 109.89it/s]\n",
      " 13%|█▎        | 22/173 [00:00<00:01, 105.47it/s]\n"
     ]
    },
    {
     "name": "stdout",
     "output_type": "stream",
     "text": [
      "\u001b[2m\u001b[36m(func pid=13256)\u001b[0m \n",
      "\u001b[2m\u001b[36m(func pid=13256)\u001b[0m Epoch 27\n"
     ]
    },
    {
     "name": "stderr",
     "output_type": "stream",
     "text": [
      " 19%|█▉        | 33/173 [00:00<00:01, 105.70it/s]\n",
      " 25%|██▌       | 44/173 [00:00<00:01, 102.21it/s]\n",
      " 32%|███▏      | 55/173 [00:00<00:01, 103.17it/s]\n",
      " 38%|███▊      | 66/173 [00:00<00:01, 102.97it/s]\n",
      " 45%|████▌     | 78/173 [00:00<00:00, 105.61it/s]\n",
      " 51%|█████▏    | 89/173 [00:00<00:00, 104.16it/s]\n",
      " 58%|█████▊    | 101/173 [00:00<00:00, 107.32it/s]\n",
      " 66%|██████▌   | 114/173 [00:01<00:00, 111.96it/s]\n",
      " 73%|███████▎  | 126/173 [00:01<00:00, 114.27it/s]\n",
      " 80%|████████  | 139/173 [00:01<00:00, 117.18it/s]\n",
      " 87%|████████▋ | 151/173 [00:01<00:00, 97.05it/s] \n",
      " 95%|█████████▍| 164/173 [00:01<00:00, 105.21it/s]\n",
      "  0%|          | 0/50 [00:00<?, ?it/s]\n",
      " 60%|██████    | 30/50 [00:00<00:00, 292.69it/s]\n",
      "100%|██████████| 50/50 [00:00<00:00, 295.01it/s]\n",
      "  0%|          | 0/173 [00:00<?, ?it/s]\n",
      "  6%|▌         | 10/173 [00:00<00:01, 97.78it/s]\n",
      " 12%|█▏        | 20/173 [00:00<00:01, 97.29it/s]\n"
     ]
    },
    {
     "name": "stdout",
     "output_type": "stream",
     "text": [
      "\u001b[2m\u001b[36m(func pid=13256)\u001b[0m \n",
      "\u001b[2m\u001b[36m(func pid=13256)\u001b[0m Epoch 28\n"
     ]
    },
    {
     "name": "stderr",
     "output_type": "stream",
     "text": [
      " 17%|█▋        | 30/173 [00:00<00:01, 93.61it/s]\n",
      " 23%|██▎       | 40/173 [00:00<00:01, 90.78it/s]\n",
      " 29%|██▉       | 50/173 [00:00<00:01, 92.75it/s]\n",
      " 35%|███▍      | 60/173 [00:00<00:01, 95.05it/s]\n",
      " 40%|████      | 70/173 [00:00<00:01, 93.92it/s]\n",
      " 46%|████▌     | 80/173 [00:00<00:01, 92.68it/s]\n",
      " 53%|█████▎    | 91/173 [00:00<00:00, 96.63it/s]\n",
      " 59%|█████▉    | 102/173 [00:01<00:00, 99.17it/s]\n",
      " 66%|██████▌   | 114/173 [00:01<00:00, 103.14it/s]\n",
      " 72%|███████▏  | 125/173 [00:01<00:00, 104.04it/s]\n",
      " 79%|███████▊  | 136/173 [00:01<00:00, 103.10it/s]\n",
      " 85%|████████▍ | 147/173 [00:01<00:00, 103.69it/s]\n",
      " 91%|█████████▏| 158/173 [00:01<00:00, 98.78it/s] \n",
      "100%|██████████| 173/173 [00:01<00:00, 97.67it/s]\n",
      "  0%|          | 0/50 [00:00<?, ?it/s]\n",
      " 52%|█████▏    | 26/50 [00:00<00:00, 254.47it/s]\n",
      "100%|██████████| 50/50 [00:00<00:00, 269.88it/s]\n",
      "  0%|          | 0/173 [00:00<?, ?it/s]\n",
      "  7%|▋         | 12/173 [00:00<00:01, 109.20it/s]\n"
     ]
    },
    {
     "name": "stdout",
     "output_type": "stream",
     "text": [
      "\u001b[2m\u001b[36m(func pid=13256)\u001b[0m \n",
      "\u001b[2m\u001b[36m(func pid=13256)\u001b[0m Epoch 29\n"
     ]
    },
    {
     "name": "stderr",
     "output_type": "stream",
     "text": [
      " 13%|█▎        | 23/173 [00:00<00:01, 104.41it/s]\n",
      " 20%|█▉        | 34/173 [00:00<00:01, 104.42it/s]\n",
      " 26%|██▌       | 45/173 [00:00<00:01, 106.25it/s]\n",
      " 32%|███▏      | 56/173 [00:00<00:01, 98.23it/s] \n",
      " 40%|███▉      | 69/173 [00:00<00:00, 105.83it/s]\n",
      " 46%|████▌     | 80/173 [00:00<00:00, 106.19it/s]\n",
      " 53%|█████▎    | 91/173 [00:00<00:00, 99.76it/s] \n",
      " 59%|█████▉    | 102/173 [00:01<00:00, 89.45it/s]\n",
      " 65%|██████▍   | 112/173 [00:01<00:00, 90.06it/s]\n",
      " 71%|███████   | 122/173 [00:01<00:00, 89.88it/s]\n",
      " 76%|███████▋  | 132/173 [00:01<00:00, 83.71it/s]\n",
      " 82%|████████▏ | 141/173 [00:01<00:00, 76.28it/s]\n",
      " 86%|████████▌ | 149/173 [00:01<00:00, 68.10it/s]\n",
      " 96%|█████████▌| 166/173 [00:01<00:00, 69.02it/s]\n",
      "100%|██████████| 173/173 [00:02<00:00, 84.07it/s]\n",
      " 52%|█████▏    | 26/50 [00:00<00:00, 259.96it/s]\n",
      "100%|██████████| 50/50 [00:00<00:00, 267.33it/s]\n",
      "  0%|          | 0/173 [00:00<?, ?it/s]\n"
     ]
    },
    {
     "name": "stdout",
     "output_type": "stream",
     "text": [
      "\u001b[2m\u001b[36m(func pid=13256)\u001b[0m \n",
      "\u001b[2m\u001b[36m(func pid=13256)\u001b[0m Epoch 30\n"
     ]
    },
    {
     "name": "stderr",
     "output_type": "stream",
     "text": [
      "  7%|▋         | 12/173 [00:00<00:01, 117.42it/s]\n",
      " 14%|█▍        | 25/173 [00:00<00:01, 119.23it/s]\n",
      " 21%|██▏       | 37/173 [00:00<00:01, 118.96it/s]\n",
      " 29%|██▉       | 50/173 [00:00<00:01, 120.08it/s]\n",
      " 36%|███▋      | 63/173 [00:00<00:00, 120.76it/s]\n",
      " 44%|████▍     | 76/173 [00:00<00:00, 119.31it/s]\n",
      " 51%|█████▏    | 89/173 [00:00<00:00, 120.78it/s]\n",
      " 59%|█████▉    | 102/173 [00:00<00:00, 118.03it/s]\n",
      " 66%|██████▌   | 114/173 [00:00<00:00, 117.30it/s]\n",
      " 73%|███████▎  | 127/173 [00:01<00:00, 118.83it/s]\n",
      " 80%|████████  | 139/173 [00:01<00:00, 118.27it/s]\n",
      " 87%|████████▋ | 151/173 [00:01<00:00, 116.15it/s]\n",
      " 94%|█████████▍| 163/173 [00:01<00:00, 116.87it/s]\n",
      "  0%|          | 0/50 [00:00<?, ?it/s]\n",
      "100%|██████████| 50/50 [00:00<00:00, 320.88it/s]\n",
      "  0%|          | 0/173 [00:00<?, ?it/s]\n",
      "  7%|▋         | 12/173 [00:00<00:01, 118.80it/s]\n",
      " 14%|█▍        | 24/173 [00:00<00:01, 114.17it/s]\n"
     ]
    },
    {
     "name": "stdout",
     "output_type": "stream",
     "text": [
      "\u001b[2m\u001b[36m(func pid=13256)\u001b[0m \n",
      "\u001b[2m\u001b[36m(func pid=13256)\u001b[0m Epoch 31\n"
     ]
    },
    {
     "name": "stderr",
     "output_type": "stream",
     "text": [
      " 21%|██        | 36/173 [00:00<00:01, 113.67it/s]\n",
      " 28%|██▊       | 49/173 [00:00<00:01, 116.74it/s]\n",
      " 35%|███▌      | 61/173 [00:00<00:01, 109.13it/s]\n",
      " 42%|████▏     | 72/173 [00:00<00:00, 108.15it/s]\n",
      " 48%|████▊     | 83/173 [00:00<00:00, 107.39it/s]\n",
      " 55%|█████▍    | 95/173 [00:00<00:00, 109.59it/s]\n",
      " 62%|██████▏   | 107/173 [00:00<00:00, 111.92it/s]\n",
      " 69%|██████▉   | 120/173 [00:01<00:00, 114.58it/s]\n",
      " 77%|███████▋  | 133/173 [00:01<00:00, 117.13it/s]\n",
      " 84%|████████▍ | 145/173 [00:01<00:00, 112.86it/s]\n",
      " 91%|█████████ | 157/173 [00:01<00:00, 111.75it/s]\n",
      "100%|██████████| 173/173 [00:01<00:00, 112.71it/s]\n",
      "  0%|          | 0/50 [00:00<?, ?it/s]\n",
      "100%|██████████| 50/50 [00:00<00:00, 324.72it/s]\n",
      "  0%|          | 0/173 [00:00<?, ?it/s]\n",
      "  8%|▊         | 13/173 [00:00<00:01, 120.44it/s]\n"
     ]
    },
    {
     "name": "stdout",
     "output_type": "stream",
     "text": [
      "\u001b[2m\u001b[36m(func pid=13256)\u001b[0m \n",
      "\u001b[2m\u001b[36m(func pid=13256)\u001b[0m Epoch 32\n"
     ]
    },
    {
     "name": "stderr",
     "output_type": "stream",
     "text": [
      " 15%|█▌        | 26/173 [00:00<00:01, 120.34it/s]\n",
      " 23%|██▎       | 39/173 [00:00<00:01, 120.86it/s]\n",
      " 30%|███       | 52/173 [00:00<00:01, 117.26it/s]\n",
      " 38%|███▊      | 65/173 [00:00<00:00, 119.12it/s]\n",
      " 45%|████▌     | 78/173 [00:00<00:00, 120.29it/s]\n",
      " 53%|█████▎    | 91/173 [00:00<00:00, 121.31it/s]\n",
      " 60%|██████    | 104/173 [00:00<00:00, 116.30it/s]\n",
      " 67%|██████▋   | 116/173 [00:00<00:00, 117.02it/s]\n",
      " 74%|███████▍  | 128/173 [00:01<00:00, 96.26it/s] \n",
      " 82%|████████▏ | 141/173 [00:01<00:00, 102.99it/s]\n",
      "  0%|          | 0/50 [00:00<?, ?it/s]\n",
      "100%|██████████| 50/50 [00:00<00:00, 312.35it/s]\n",
      "  0%|          | 0/173 [00:00<?, ?it/s]\n",
      "  7%|▋         | 12/173 [00:00<00:01, 116.28it/s]\n"
     ]
    },
    {
     "name": "stdout",
     "output_type": "stream",
     "text": [
      "\u001b[2m\u001b[36m(func pid=13256)\u001b[0m \n",
      "\u001b[2m\u001b[36m(func pid=13256)\u001b[0m Epoch 33\n"
     ]
    },
    {
     "name": "stderr",
     "output_type": "stream",
     "text": [
      " 14%|█▍        | 25/173 [00:00<00:01, 118.82it/s]\n",
      " 21%|██▏       | 37/173 [00:00<00:01, 119.32it/s]\n",
      " 28%|██▊       | 49/173 [00:00<00:01, 119.38it/s]\n",
      " 36%|███▌      | 62/173 [00:00<00:00, 120.40it/s]\n",
      " 43%|████▎     | 75/173 [00:00<00:00, 120.66it/s]\n",
      " 51%|█████     | 88/173 [00:00<00:00, 123.02it/s]\n",
      " 58%|█████▊    | 101/173 [00:00<00:00, 122.84it/s]\n",
      " 66%|██████▌   | 114/173 [00:00<00:00, 120.96it/s]\n",
      " 73%|███████▎  | 127/173 [00:01<00:00, 121.55it/s]\n",
      " 81%|████████  | 140/173 [00:01<00:00, 123.24it/s]\n",
      " 88%|████████▊ | 153/173 [00:01<00:00, 123.46it/s]\n",
      "100%|██████████| 173/173 [00:01<00:00, 121.57it/s]\n",
      "  0%|          | 0/50 [00:00<?, ?it/s]\n",
      " 62%|██████▏   | 31/50 [00:00<00:00, 306.86it/s]\n",
      "100%|██████████| 50/50 [00:00<00:00, 306.63it/s]\n",
      "  0%|          | 0/173 [00:00<?, ?it/s]\n",
      "  7%|▋         | 12/173 [00:00<00:01, 116.54it/s]\n"
     ]
    },
    {
     "name": "stdout",
     "output_type": "stream",
     "text": [
      "\u001b[2m\u001b[36m(func pid=13256)\u001b[0m \n",
      "\u001b[2m\u001b[36m(func pid=13256)\u001b[0m Epoch 34\n"
     ]
    },
    {
     "name": "stderr",
     "output_type": "stream",
     "text": [
      " 14%|█▍        | 25/173 [00:00<00:01, 120.21it/s]\n",
      " 22%|██▏       | 38/173 [00:00<00:01, 115.78it/s]\n",
      " 29%|██▉       | 50/173 [00:00<00:01, 112.21it/s]\n",
      " 36%|███▌      | 62/173 [00:00<00:00, 112.25it/s]\n",
      " 43%|████▎     | 74/173 [00:00<00:00, 109.11it/s]\n",
      " 49%|████▉     | 85/173 [00:00<00:00, 106.89it/s]\n",
      " 56%|█████▌    | 97/173 [00:00<00:00, 110.75it/s]\n",
      " 64%|██████▎   | 110/173 [00:00<00:00, 113.80it/s]\n",
      " 71%|███████   | 122/173 [00:01<00:00, 114.21it/s]\n",
      " 77%|███████▋  | 134/173 [00:01<00:00, 114.46it/s]\n",
      " 84%|████████▍ | 146/173 [00:01<00:00, 115.57it/s]\n",
      " 92%|█████████▏| 159/173 [00:01<00:00, 117.74it/s]\n",
      " 99%|█████████▉| 171/173 [00:01<00:00, 118.06it/s]\n",
      "100%|██████████| 173/173 [00:01<00:00, 114.42it/s]\n",
      "  0%|          | 0/50 [00:00<?, ?it/s]\n",
      " 62%|██████▏   | 31/50 [00:00<00:00, 304.07it/s]\n",
      "100%|██████████| 50/50 [00:00<00:00, 304.74it/s]\n",
      "  0%|          | 0/173 [00:00<?, ?it/s]\n",
      "  7%|▋         | 12/173 [00:00<00:01, 114.96it/s]\n"
     ]
    },
    {
     "name": "stdout",
     "output_type": "stream",
     "text": [
      "\u001b[2m\u001b[36m(func pid=13256)\u001b[0m \n",
      "\u001b[2m\u001b[36m(func pid=13256)\u001b[0m Epoch 35\n"
     ]
    },
    {
     "name": "stderr",
     "output_type": "stream",
     "text": [
      " 14%|█▍        | 25/173 [00:00<00:01, 121.52it/s]\n",
      " 22%|██▏       | 38/173 [00:00<00:01, 118.45it/s]\n",
      " 29%|██▉       | 50/173 [00:00<00:01, 118.63it/s]\n",
      " 36%|███▌      | 62/173 [00:00<00:00, 112.42it/s]\n",
      " 43%|████▎     | 74/173 [00:00<00:00, 114.78it/s]\n",
      " 50%|████▉     | 86/173 [00:00<00:00, 115.26it/s]\n",
      " 57%|█████▋    | 98/173 [00:00<00:00, 112.33it/s]\n",
      " 64%|██████▎   | 110/173 [00:00<00:00, 114.26it/s]\n",
      " 71%|███████   | 122/173 [00:01<00:00, 113.27it/s]\n",
      " 77%|███████▋  | 134/173 [00:01<00:00, 114.21it/s]\n",
      " 85%|████████▍ | 147/173 [00:01<00:00, 117.00it/s]\n",
      "100%|██████████| 173/173 [00:01<00:00, 115.99it/s]\n",
      "  0%|          | 0/50 [00:00<?, ?it/s]\n",
      " 60%|██████    | 30/50 [00:00<00:00, 298.67it/s]\n",
      "100%|██████████| 50/50 [00:00<00:00, 303.33it/s]\n",
      "  0%|          | 0/173 [00:00<?, ?it/s]\n",
      "  7%|▋         | 12/173 [00:00<00:01, 115.21it/s]\n"
     ]
    },
    {
     "name": "stdout",
     "output_type": "stream",
     "text": [
      "\u001b[2m\u001b[36m(func pid=13256)\u001b[0m \n",
      "\u001b[2m\u001b[36m(func pid=13256)\u001b[0m Epoch 36\n"
     ]
    },
    {
     "name": "stderr",
     "output_type": "stream",
     "text": [
      " 14%|█▍        | 24/173 [00:00<00:01, 117.90it/s]\n",
      " 21%|██        | 36/173 [00:00<00:01, 109.90it/s]\n",
      " 28%|██▊       | 48/173 [00:00<00:01, 110.82it/s]\n",
      " 35%|███▌      | 61/173 [00:00<00:00, 114.74it/s]\n",
      " 43%|████▎     | 74/173 [00:00<00:00, 116.94it/s]\n",
      " 50%|████▉     | 86/173 [00:00<00:00, 116.81it/s]\n",
      " 57%|█████▋    | 99/173 [00:00<00:00, 119.02it/s]\n",
      " 64%|██████▍   | 111/173 [00:00<00:00, 118.41it/s]\n",
      " 72%|███████▏  | 124/173 [00:01<00:00, 119.94it/s]\n",
      " 79%|███████▉  | 137/173 [00:01<00:00, 121.77it/s]\n",
      " 87%|████████▋ | 150/173 [00:01<00:00, 121.74it/s]\n",
      " 94%|█████████▍| 163/173 [00:01<00:00, 121.47it/s]\n",
      "  0%|          | 0/50 [00:00<?, ?it/s]\n",
      "100%|██████████| 50/50 [00:00<00:00, 312.46it/s]\n",
      "  0%|          | 0/173 [00:00<?, ?it/s]\n",
      "  7%|▋         | 12/173 [00:00<00:01, 113.25it/s]\n"
     ]
    },
    {
     "name": "stdout",
     "output_type": "stream",
     "text": [
      "\u001b[2m\u001b[36m(func pid=13256)\u001b[0m \n",
      "\u001b[2m\u001b[36m(func pid=13256)\u001b[0m Epoch 37\n"
     ]
    },
    {
     "name": "stderr",
     "output_type": "stream",
     "text": [
      " 14%|█▍        | 24/173 [00:00<00:01, 104.13it/s]\n",
      " 20%|██        | 35/173 [00:00<00:01, 104.80it/s]\n",
      " 28%|██▊       | 48/173 [00:00<00:01, 110.37it/s]\n",
      " 35%|███▍      | 60/173 [00:00<00:01, 108.48it/s]\n",
      " 42%|████▏     | 73/173 [00:00<00:00, 112.84it/s]\n",
      " 49%|████▉     | 85/173 [00:00<00:00, 102.19it/s]\n",
      " 56%|█████▌    | 97/173 [00:00<00:00, 104.83it/s]\n",
      " 62%|██████▏   | 108/173 [00:01<00:00, 105.09it/s]\n",
      " 69%|██████▉   | 119/173 [00:01<00:00, 86.15it/s] \n",
      " 75%|███████▌  | 130/173 [00:01<00:00, 91.65it/s]\n",
      " 82%|████████▏ | 141/173 [00:01<00:00, 96.05it/s]\n",
      " 88%|████████▊ | 152/173 [00:01<00:00, 97.83it/s]\n",
      " 95%|█████████▍| 164/173 [00:01<00:00, 103.26it/s]\n",
      "100%|██████████| 173/173 [00:01<00:00, 101.90it/s]\n",
      "  0%|          | 0/50 [00:00<?, ?it/s]\n",
      " 62%|██████▏   | 31/50 [00:00<00:00, 301.17it/s]\n",
      "100%|██████████| 50/50 [00:00<00:00, 296.63it/s]\n",
      "  0%|          | 0/173 [00:00<?, ?it/s]\n",
      "  7%|▋         | 12/173 [00:00<00:01, 109.74it/s]\n"
     ]
    },
    {
     "name": "stdout",
     "output_type": "stream",
     "text": [
      "\u001b[2m\u001b[36m(func pid=13256)\u001b[0m \n",
      "\u001b[2m\u001b[36m(func pid=13256)\u001b[0m Epoch 38\n"
     ]
    },
    {
     "name": "stderr",
     "output_type": "stream",
     "text": [
      " 14%|█▍        | 24/173 [00:00<00:01, 111.78it/s]\n",
      " 21%|██        | 36/173 [00:00<00:01, 111.05it/s]\n",
      " 28%|██▊       | 49/173 [00:00<00:01, 116.38it/s]\n",
      " 36%|███▌      | 62/173 [00:00<00:00, 118.23it/s]\n",
      " 43%|████▎     | 74/173 [00:00<00:00, 118.02it/s]\n",
      " 50%|█████     | 87/173 [00:00<00:00, 119.42it/s]\n",
      " 57%|█████▋    | 99/173 [00:00<00:00, 119.00it/s]\n",
      " 65%|██████▍   | 112/173 [00:00<00:00, 119.87it/s]\n",
      " 72%|███████▏  | 124/173 [00:01<00:00, 119.87it/s]\n",
      " 79%|███████▊  | 136/173 [00:01<00:00, 118.45it/s]\n",
      " 86%|████████▌ | 149/173 [00:01<00:00, 120.37it/s]\n",
      "100%|██████████| 173/173 [00:01<00:00, 118.13it/s]\n",
      "  0%|          | 0/50 [00:00<?, ?it/s]\n",
      " 64%|██████▍   | 32/50 [00:00<00:00, 316.05it/s]\n",
      "100%|██████████| 50/50 [00:00<00:00, 319.69it/s]\n",
      "  0%|          | 0/173 [00:00<?, ?it/s]\n",
      "  8%|▊         | 13/173 [00:00<00:01, 122.48it/s]\n"
     ]
    },
    {
     "name": "stdout",
     "output_type": "stream",
     "text": [
      "\u001b[2m\u001b[36m(func pid=13256)\u001b[0m \n",
      "\u001b[2m\u001b[36m(func pid=13256)\u001b[0m Epoch 39\n"
     ]
    },
    {
     "name": "stderr",
     "output_type": "stream",
     "text": [
      " 15%|█▌        | 26/173 [00:00<00:01, 120.62it/s]\n",
      " 23%|██▎       | 39/173 [00:00<00:01, 116.65it/s]\n",
      " 29%|██▉       | 51/173 [00:00<00:01, 115.92it/s]\n",
      " 37%|███▋      | 64/173 [00:00<00:00, 118.04it/s]\n",
      " 44%|████▍     | 76/173 [00:00<00:00, 107.90it/s]\n",
      " 51%|█████     | 88/173 [00:00<00:00, 109.82it/s]\n",
      " 58%|█████▊    | 100/173 [00:00<00:00, 112.43it/s]\n",
      " 65%|██████▍   | 112/173 [00:00<00:00, 113.41it/s]\n",
      " 72%|███████▏  | 125/173 [00:01<00:00, 115.59it/s]\n",
      " 80%|███████▉  | 138/173 [00:01<00:00, 118.04it/s]\n",
      " 87%|████████▋ | 151/173 [00:01<00:00, 119.76it/s]\n",
      "  0%|          | 0/50 [00:00<?, ?it/s]\n",
      "100%|██████████| 50/50 [00:00<00:00, 306.60it/s]\n",
      "  0%|          | 0/173 [00:00<?, ?it/s]\n",
      "  7%|▋         | 12/173 [00:00<00:01, 116.56it/s]\n"
     ]
    },
    {
     "name": "stdout",
     "output_type": "stream",
     "text": [
      "\u001b[2m\u001b[36m(func pid=13256)\u001b[0m \n",
      "\u001b[2m\u001b[36m(func pid=13256)\u001b[0m Epoch 40\n"
     ]
    },
    {
     "name": "stderr",
     "output_type": "stream",
     "text": [
      " 14%|█▍        | 24/173 [00:00<00:01, 109.03it/s]\n",
      " 21%|██        | 36/173 [00:00<00:01, 113.78it/s]\n",
      " 28%|██▊       | 48/173 [00:00<00:01, 109.82it/s]\n",
      " 35%|███▍      | 60/173 [00:00<00:01, 109.20it/s]\n",
      " 42%|████▏     | 72/173 [00:00<00:00, 110.46it/s]\n",
      " 49%|████▉     | 85/173 [00:00<00:00, 114.14it/s]\n",
      " 56%|█████▌    | 97/173 [00:00<00:00, 115.46it/s]\n",
      " 63%|██████▎   | 109/173 [00:00<00:00, 115.24it/s]\n",
      " 71%|███████   | 122/173 [00:01<00:00, 117.49it/s]\n",
      " 77%|███████▋  | 134/173 [00:01<00:00, 117.87it/s]\n",
      " 85%|████████▍ | 147/173 [00:01<00:00, 119.09it/s]\n",
      " 92%|█████████▏| 160/173 [00:01<00:00, 119.67it/s]\n",
      "100%|██████████| 173/173 [00:01<00:00, 115.89it/s]\n",
      "  0%|          | 0/50 [00:00<?, ?it/s]\n",
      "100%|██████████| 50/50 [00:00<00:00, 319.52it/s]\n",
      "  0%|          | 0/173 [00:00<?, ?it/s]\n",
      "  7%|▋         | 12/173 [00:00<00:01, 114.73it/s]\n"
     ]
    },
    {
     "name": "stdout",
     "output_type": "stream",
     "text": [
      "\u001b[2m\u001b[36m(func pid=13256)\u001b[0m \n",
      "\u001b[2m\u001b[36m(func pid=13256)\u001b[0m Epoch 41\n"
     ]
    },
    {
     "name": "stderr",
     "output_type": "stream",
     "text": [
      " 14%|█▍        | 24/173 [00:00<00:01, 112.39it/s]\n",
      " 21%|██        | 36/173 [00:00<00:01, 115.22it/s]\n",
      " 28%|██▊       | 48/173 [00:00<00:01, 116.92it/s]\n",
      " 35%|███▌      | 61/173 [00:00<00:00, 116.35it/s]\n",
      " 42%|████▏     | 73/173 [00:00<00:00, 109.61it/s]\n",
      " 50%|████▉     | 86/173 [00:00<00:00, 113.76it/s]\n",
      " 57%|█████▋    | 99/173 [00:00<00:00, 116.17it/s]\n",
      " 64%|██████▍   | 111/173 [00:00<00:00, 117.01it/s]\n",
      " 71%|███████   | 123/173 [00:01<00:00, 111.91it/s]\n",
      " 78%|███████▊  | 135/173 [00:01<00:00, 98.66it/s] \n",
      " 84%|████████▍ | 146/173 [00:01<00:00, 100.28it/s]\n",
      "  0%|          | 0/50 [00:00<?, ?it/s]\n",
      " 56%|█████▌    | 28/50 [00:00<00:00, 274.21it/s]\n",
      "100%|██████████| 50/50 [00:00<00:00, 284.06it/s]\n",
      "  0%|          | 0/173 [00:00<?, ?it/s]\n",
      "  6%|▋         | 11/173 [00:00<00:01, 107.82it/s]\n"
     ]
    },
    {
     "name": "stdout",
     "output_type": "stream",
     "text": [
      "\u001b[2m\u001b[36m(func pid=13256)\u001b[0m \n",
      "\u001b[2m\u001b[36m(func pid=13256)\u001b[0m Epoch 42\n"
     ]
    },
    {
     "name": "stderr",
     "output_type": "stream",
     "text": [
      " 13%|█▎        | 22/173 [00:00<00:01, 101.02it/s]\n",
      " 19%|█▉        | 33/173 [00:00<00:01, 93.70it/s] \n",
      " 25%|██▍       | 43/173 [00:00<00:01, 94.07it/s]\n",
      " 31%|███       | 53/173 [00:00<00:01, 90.45it/s]\n",
      " 37%|███▋      | 64/173 [00:00<00:01, 94.02it/s]\n",
      " 43%|████▎     | 75/173 [00:00<00:00, 98.80it/s]\n",
      " 50%|█████     | 87/173 [00:00<00:00, 103.55it/s]\n",
      " 57%|█████▋    | 98/173 [00:01<00:00, 83.88it/s] \n",
      " 62%|██████▏   | 108/173 [00:01<00:00, 87.07it/s]\n",
      " 69%|██████▉   | 119/173 [00:01<00:00, 93.04it/s]\n",
      " 75%|███████▌  | 130/173 [00:01<00:00, 96.40it/s]\n",
      " 81%|████████  | 140/173 [00:01<00:00, 96.29it/s]\n",
      " 87%|████████▋ | 150/173 [00:01<00:00, 91.81it/s]\n",
      "100%|██████████| 173/173 [00:01<00:00, 94.38it/s]\n",
      "  0%|          | 0/50 [00:00<?, ?it/s]\n",
      " 60%|██████    | 30/50 [00:00<00:00, 296.85it/s]\n",
      "100%|██████████| 50/50 [00:00<00:00, 294.20it/s]\n",
      "  0%|          | 0/173 [00:00<?, ?it/s]\n",
      "  7%|▋         | 12/173 [00:00<00:01, 112.53it/s]\n"
     ]
    },
    {
     "name": "stdout",
     "output_type": "stream",
     "text": [
      "\u001b[2m\u001b[36m(func pid=13256)\u001b[0m \n",
      "\u001b[2m\u001b[36m(func pid=13256)\u001b[0m Epoch 43\n"
     ]
    },
    {
     "name": "stderr",
     "output_type": "stream",
     "text": [
      " 14%|█▍        | 25/173 [00:00<00:01, 117.69it/s]\n",
      " 21%|██▏       | 37/173 [00:00<00:01, 113.65it/s]\n",
      " 28%|██▊       | 49/173 [00:00<00:01, 112.52it/s]\n",
      " 36%|███▌      | 62/173 [00:00<00:00, 116.44it/s]\n",
      " 43%|████▎     | 74/173 [00:00<00:00, 116.47it/s]\n",
      " 50%|█████     | 87/173 [00:00<00:00, 117.88it/s]\n",
      " 58%|█████▊    | 100/173 [00:00<00:00, 119.47it/s]\n",
      " 65%|██████▌   | 113/173 [00:00<00:00, 118.44it/s]\n",
      " 73%|███████▎  | 126/173 [00:01<00:00, 119.99it/s]\n",
      " 80%|████████  | 139/173 [00:01<00:00, 121.11it/s]\n",
      " 88%|████████▊ | 152/173 [00:01<00:00, 118.85it/s]\n",
      " 95%|█████████▍| 164/173 [00:01<00:00, 114.90it/s]\n",
      "100%|██████████| 173/173 [00:01<00:00, 116.67it/s]\n",
      "  0%|          | 0/50 [00:00<?, ?it/s]\n",
      " 60%|██████    | 30/50 [00:00<00:00, 292.93it/s]\n",
      "100%|██████████| 50/50 [00:00<00:00, 301.07it/s]\n",
      "  0%|          | 0/173 [00:00<?, ?it/s]\n",
      "  6%|▋         | 11/173 [00:00<00:01, 108.88it/s]\n"
     ]
    },
    {
     "name": "stdout",
     "output_type": "stream",
     "text": [
      "\u001b[2m\u001b[36m(func pid=13256)\u001b[0m \n",
      "\u001b[2m\u001b[36m(func pid=13256)\u001b[0m Epoch 44\n"
     ]
    },
    {
     "name": "stderr",
     "output_type": "stream",
     "text": [
      " 13%|█▎        | 23/173 [00:00<00:01, 110.77it/s]\n",
      " 20%|██        | 35/173 [00:00<00:01, 113.40it/s]\n",
      " 27%|██▋       | 47/173 [00:00<00:01, 104.57it/s]\n",
      " 34%|███▎      | 58/173 [00:00<00:01, 103.00it/s]\n",
      " 41%|████      | 71/173 [00:00<00:00, 109.52it/s]\n",
      " 49%|████▊     | 84/173 [00:00<00:00, 114.97it/s]\n",
      " 56%|█████▌    | 97/173 [00:00<00:00, 117.51it/s]\n",
      " 64%|██████▎   | 110/173 [00:00<00:00, 120.82it/s]\n",
      " 71%|███████   | 123/173 [00:01<00:00, 121.71it/s]\n",
      " 79%|███████▊  | 136/173 [00:01<00:00, 119.55it/s]\n",
      " 86%|████████▌ | 149/173 [00:01<00:00, 120.50it/s]\n",
      "  0%|          | 0/50 [00:00<?, ?it/s]\n",
      "100%|██████████| 50/50 [00:00<00:00, 310.45it/s]\n",
      "  0%|          | 0/173 [00:00<?, ?it/s]\n",
      "  8%|▊         | 13/173 [00:00<00:01, 124.15it/s]\n"
     ]
    },
    {
     "name": "stdout",
     "output_type": "stream",
     "text": [
      "\u001b[2m\u001b[36m(func pid=13256)\u001b[0m \n",
      "\u001b[2m\u001b[36m(func pid=13256)\u001b[0m Epoch 45\n"
     ]
    },
    {
     "name": "stderr",
     "output_type": "stream",
     "text": [
      " 15%|█▌        | 26/173 [00:00<00:01, 121.09it/s]\n",
      " 23%|██▎       | 39/173 [00:00<00:01, 112.29it/s]\n",
      " 29%|██▉       | 51/173 [00:00<00:01, 114.63it/s]\n",
      " 36%|███▋      | 63/173 [00:00<00:00, 116.08it/s]\n",
      " 44%|████▍     | 76/173 [00:00<00:00, 118.34it/s]\n",
      " 51%|█████     | 88/173 [00:00<00:00, 118.85it/s]\n",
      " 58%|█████▊    | 101/173 [00:00<00:00, 119.85it/s]\n",
      " 66%|██████▌   | 114/173 [00:00<00:00, 116.46it/s]\n",
      " 73%|███████▎  | 126/173 [00:01<00:00, 116.88it/s]\n",
      " 80%|████████  | 139/173 [00:01<00:00, 117.94it/s]\n",
      "  0%|          | 0/50 [00:00<?, ?it/s]\n",
      "100%|██████████| 50/50 [00:00<00:00, 312.59it/s]\n",
      "  0%|          | 0/173 [00:00<?, ?it/s]\n",
      "  7%|▋         | 12/173 [00:00<00:01, 118.71it/s]\n"
     ]
    },
    {
     "name": "stdout",
     "output_type": "stream",
     "text": [
      "\u001b[2m\u001b[36m(func pid=13256)\u001b[0m \n",
      "\u001b[2m\u001b[36m(func pid=13256)\u001b[0m Epoch 46\n"
     ]
    },
    {
     "name": "stderr",
     "output_type": "stream",
     "text": [
      " 14%|█▍        | 25/173 [00:00<00:01, 120.36it/s]\n",
      " 29%|██▉       | 51/173 [00:00<00:00, 122.85it/s]\n",
      " 37%|███▋      | 64/173 [00:00<00:00, 122.33it/s]\n",
      " 45%|████▍     | 77/173 [00:00<00:00, 123.18it/s]\n",
      " 52%|█████▏    | 90/173 [00:00<00:00, 123.08it/s]\n",
      " 60%|██████    | 104/173 [00:00<00:00, 125.52it/s]\n",
      " 68%|██████▊   | 117/173 [00:00<00:00, 125.41it/s]\n",
      " 75%|███████▌  | 130/173 [00:01<00:00, 124.23it/s]\n",
      " 83%|████████▎ | 143/173 [00:01<00:00, 123.33it/s]\n",
      " 90%|█████████ | 156/173 [00:01<00:00, 125.23it/s]\n",
      "100%|██████████| 173/173 [00:01<00:00, 123.94it/s]\n",
      "  0%|          | 0/50 [00:00<?, ?it/s]\n",
      "100%|██████████| 50/50 [00:00<00:00, 319.02it/s]\n",
      "  0%|          | 0/173 [00:00<?, ?it/s]\n",
      "  7%|▋         | 12/173 [00:00<00:01, 118.95it/s]\n"
     ]
    },
    {
     "name": "stdout",
     "output_type": "stream",
     "text": [
      "\u001b[2m\u001b[36m(func pid=13256)\u001b[0m \n",
      "\u001b[2m\u001b[36m(func pid=13256)\u001b[0m Epoch 47\n"
     ]
    },
    {
     "name": "stderr",
     "output_type": "stream",
     "text": [
      " 14%|█▍        | 25/173 [00:00<00:01, 121.93it/s]\n",
      " 22%|██▏       | 38/173 [00:00<00:01, 121.88it/s]\n",
      " 29%|██▉       | 51/173 [00:00<00:01, 120.43it/s]\n",
      " 37%|███▋      | 64/173 [00:00<00:00, 122.31it/s]\n",
      " 45%|████▍     | 77/173 [00:00<00:00, 98.87it/s] \n",
      " 51%|█████▏    | 89/173 [00:00<00:00, 104.30it/s]\n",
      " 58%|█████▊    | 100/173 [00:00<00:00, 101.89it/s]\n",
      " 65%|██████▍   | 112/173 [00:01<00:00, 106.32it/s]\n",
      " 72%|███████▏  | 125/173 [00:01<00:00, 112.01it/s]\n",
      " 80%|███████▉  | 138/173 [00:01<00:00, 116.01it/s]\n",
      "  0%|          | 0/50 [00:00<?, ?it/s]\n",
      " 66%|██████▌   | 33/50 [00:00<00:00, 328.88it/s]\n",
      "100%|██████████| 50/50 [00:00<00:00, 330.61it/s]\n",
      "  0%|          | 0/173 [00:00<?, ?it/s]\n"
     ]
    },
    {
     "name": "stdout",
     "output_type": "stream",
     "text": [
      "\u001b[2m\u001b[36m(func pid=13256)\u001b[0m \n",
      "\u001b[2m\u001b[36m(func pid=13256)\u001b[0m Epoch 48\n"
     ]
    },
    {
     "name": "stderr",
     "output_type": "stream",
     "text": [
      "  8%|▊         | 13/173 [00:00<00:01, 123.90it/s]\n",
      " 15%|█▌        | 26/173 [00:00<00:01, 125.94it/s]\n",
      " 23%|██▎       | 39/173 [00:00<00:01, 127.13it/s]\n",
      " 30%|███       | 52/173 [00:00<00:00, 126.79it/s]\n",
      " 38%|███▊      | 65/173 [00:00<00:00, 126.91it/s]\n",
      " 45%|████▌     | 78/173 [00:00<00:00, 126.55it/s]\n",
      " 53%|█████▎    | 92/173 [00:00<00:00, 127.80it/s]\n",
      " 61%|██████    | 105/173 [00:00<00:00, 126.96it/s]\n",
      " 68%|██████▊   | 118/173 [00:00<00:00, 123.61it/s]\n",
      " 76%|███████▌  | 131/173 [00:01<00:00, 122.39it/s]\n",
      " 83%|████████▎ | 144/173 [00:01<00:00, 120.76it/s]\n",
      " 91%|█████████ | 157/173 [00:01<00:00, 114.45it/s]\n",
      "  0%|          | 0/50 [00:00<?, ?it/s]\n",
      "100%|██████████| 50/50 [00:00<00:00, 331.37it/s]\n",
      "  0%|          | 0/173 [00:00<?, ?it/s]\n",
      "  7%|▋         | 12/173 [00:00<00:01, 116.73it/s]\n"
     ]
    },
    {
     "name": "stdout",
     "output_type": "stream",
     "text": [
      "\u001b[2m\u001b[36m(func pid=13256)\u001b[0m \n",
      "\u001b[2m\u001b[36m(func pid=13256)\u001b[0m Epoch 49\n"
     ]
    },
    {
     "name": "stderr",
     "output_type": "stream",
     "text": [
      " 14%|█▍        | 25/173 [00:00<00:01, 121.21it/s]\n",
      " 22%|██▏       | 38/173 [00:00<00:01, 121.08it/s]\n",
      " 29%|██▉       | 51/173 [00:00<00:01, 120.92it/s]\n",
      " 37%|███▋      | 64/173 [00:00<00:00, 123.16it/s]\n",
      " 45%|████▍     | 77/173 [00:00<00:00, 122.55it/s]\n",
      " 52%|█████▏    | 90/173 [00:00<00:00, 123.38it/s]\n",
      " 60%|█████▉    | 103/173 [00:00<00:00, 122.76it/s]\n",
      " 67%|██████▋   | 116/173 [00:00<00:00, 122.71it/s]\n",
      " 75%|███████▍  | 129/173 [00:01<00:00, 122.01it/s]\n",
      " 82%|████████▏ | 142/173 [00:01<00:00, 124.00it/s]\n",
      " 90%|████████▉ | 155/173 [00:01<00:00, 125.20it/s]\n",
      "100%|██████████| 173/173 [00:01<00:00, 122.58it/s]\n",
      "  0%|          | 0/50 [00:00<?, ?it/s]\n",
      "100%|██████████| 50/50 [00:00<00:00, 326.31it/s]\n",
      "  0%|          | 0/173 [00:00<?, ?it/s]\n",
      " 14%|█▍        | 25/173 [00:00<00:01, 121.53it/s]\n"
     ]
    },
    {
     "name": "stdout",
     "output_type": "stream",
     "text": [
      "\u001b[2m\u001b[36m(func pid=13256)\u001b[0m \n",
      "\u001b[2m\u001b[36m(func pid=13256)\u001b[0m Epoch 50\n"
     ]
    },
    {
     "name": "stderr",
     "output_type": "stream",
     "text": [
      " 22%|██▏       | 38/173 [00:00<00:01, 119.57it/s]\n",
      " 29%|██▉       | 50/173 [00:00<00:01, 119.62it/s]\n",
      " 36%|███▌      | 62/173 [00:00<00:01, 105.10it/s]\n",
      " 43%|████▎     | 74/173 [00:00<00:00, 109.49it/s]\n",
      " 50%|█████     | 87/173 [00:00<00:00, 113.14it/s]\n",
      " 58%|█████▊    | 100/173 [00:00<00:00, 116.04it/s]\n",
      " 65%|██████▍   | 112/173 [00:00<00:00, 114.54it/s]\n",
      " 79%|███████▊  | 136/173 [00:01<00:00, 113.45it/s]\n",
      " 86%|████████▌ | 149/173 [00:01<00:00, 117.17it/s]\n",
      "  0%|          | 0/50 [00:00<?, ?it/s]\n",
      "100%|██████████| 50/50 [00:00<00:00, 298.04it/s]\n",
      "  0%|          | 0/173 [00:00<?, ?it/s]\n",
      "  7%|▋         | 12/173 [00:00<00:01, 116.29it/s]\n"
     ]
    },
    {
     "name": "stdout",
     "output_type": "stream",
     "text": [
      "\u001b[2m\u001b[36m(func pid=13256)\u001b[0m \n",
      "\u001b[2m\u001b[36m(func pid=13256)\u001b[0m Epoch 51\n"
     ]
    },
    {
     "name": "stderr",
     "output_type": "stream",
     "text": [
      " 14%|█▍        | 25/173 [00:00<00:01, 118.83it/s]\n",
      " 21%|██▏       | 37/173 [00:00<00:01, 118.83it/s]\n",
      " 29%|██▉       | 50/173 [00:00<00:01, 119.68it/s]\n",
      " 43%|████▎     | 74/173 [00:00<00:00, 117.04it/s]\n",
      " 50%|█████     | 87/173 [00:00<00:00, 119.00it/s]\n",
      " 58%|█████▊    | 100/173 [00:00<00:00, 120.93it/s]\n",
      " 65%|██████▌   | 113/173 [00:00<00:00, 116.24it/s]\n",
      " 73%|███████▎  | 126/173 [00:01<00:00, 117.86it/s]\n",
      " 80%|███████▉  | 138/173 [00:01<00:00, 117.74it/s]\n",
      " 87%|████████▋ | 150/173 [00:01<00:00, 110.79it/s]\n",
      "  0%|          | 0/50 [00:00<?, ?it/s]\n",
      "100%|██████████| 50/50 [00:00<00:00, 308.45it/s]\n",
      "  0%|          | 0/173 [00:00<?, ?it/s]\n",
      "  7%|▋         | 12/173 [00:00<00:01, 113.26it/s]\n"
     ]
    },
    {
     "name": "stdout",
     "output_type": "stream",
     "text": [
      "\u001b[2m\u001b[36m(func pid=13256)\u001b[0m \n",
      "\u001b[2m\u001b[36m(func pid=13256)\u001b[0m Epoch 52\n"
     ]
    },
    {
     "name": "stderr",
     "output_type": "stream",
     "text": [
      " 14%|█▍        | 25/173 [00:00<00:01, 119.45it/s]\n",
      " 21%|██▏       | 37/173 [00:00<00:01, 112.71it/s]\n",
      " 28%|██▊       | 49/173 [00:00<00:01, 109.28it/s]\n",
      " 35%|███▍      | 60/173 [00:00<00:01, 89.87it/s] \n",
      " 42%|████▏     | 72/173 [00:00<00:01, 98.11it/s]\n",
      " 49%|████▊     | 84/173 [00:00<00:00, 103.95it/s]\n",
      " 56%|█████▌    | 97/173 [00:00<00:00, 109.42it/s]\n",
      " 64%|██████▎   | 110/173 [00:01<00:00, 112.66it/s]\n",
      " 71%|███████   | 123/173 [00:01<00:00, 115.14it/s]\n",
      " 78%|███████▊  | 135/173 [00:01<00:00, 116.44it/s]\n",
      " 85%|████████▍ | 147/173 [00:01<00:00, 116.88it/s]\n",
      " 92%|█████████▏| 159/173 [00:01<00:00, 117.31it/s]\n",
      "100%|██████████| 173/173 [00:01<00:00, 111.68it/s]\n",
      "  0%|          | 0/50 [00:00<?, ?it/s]\n",
      " 60%|██████    | 30/50 [00:00<00:00, 295.12it/s]\n"
     ]
    },
    {
     "name": "stdout",
     "output_type": "stream",
     "text": [
      "\u001b[2m\u001b[36m(func pid=13256)\u001b[0m \n",
      "\u001b[2m\u001b[36m(func pid=13256)\u001b[0m Epoch 53\n"
     ]
    },
    {
     "name": "stderr",
     "output_type": "stream",
     "text": [
      "100%|██████████| 50/50 [00:00<00:00, 299.36it/s]\n",
      "  0%|          | 0/173 [00:00<?, ?it/s]\n",
      "  7%|▋         | 12/173 [00:00<00:01, 116.01it/s]\n",
      " 14%|█▍        | 24/173 [00:00<00:01, 117.20it/s]\n",
      " 21%|██        | 36/173 [00:00<00:01, 114.90it/s]\n",
      " 28%|██▊       | 49/173 [00:00<00:01, 116.96it/s]\n",
      " 36%|███▌      | 62/173 [00:00<00:00, 118.23it/s]\n",
      " 43%|████▎     | 75/173 [00:00<00:00, 119.06it/s]\n",
      " 51%|█████     | 88/173 [00:00<00:00, 119.05it/s]\n",
      " 58%|█████▊    | 101/173 [00:00<00:00, 119.51it/s]\n",
      " 66%|██████▌   | 114/173 [00:00<00:00, 120.08it/s]\n",
      " 73%|███████▎  | 127/173 [00:01<00:00, 119.96it/s]\n",
      " 80%|████████  | 139/173 [00:01<00:00, 119.90it/s]\n",
      "  0%|          | 0/50 [00:00<?, ?it/s]\n",
      "100%|██████████| 50/50 [00:00<00:00, 320.54it/s]\n",
      "  0%|          | 0/173 [00:00<?, ?it/s]\n",
      "  6%|▋         | 11/173 [00:00<00:01, 106.97it/s]\n"
     ]
    },
    {
     "name": "stdout",
     "output_type": "stream",
     "text": [
      "\u001b[2m\u001b[36m(func pid=13256)\u001b[0m \n",
      "\u001b[2m\u001b[36m(func pid=13256)\u001b[0m Epoch 54\n"
     ]
    },
    {
     "name": "stderr",
     "output_type": "stream",
     "text": [
      " 14%|█▍        | 24/173 [00:00<00:01, 116.19it/s]\n",
      " 21%|██▏       | 37/173 [00:00<00:01, 119.28it/s]\n",
      " 29%|██▉       | 50/173 [00:00<00:01, 121.04it/s]\n",
      " 36%|███▋      | 63/173 [00:00<00:00, 122.06it/s]\n",
      " 44%|████▍     | 76/173 [00:00<00:00, 116.60it/s]\n",
      " 51%|█████     | 88/173 [00:00<00:00, 112.46it/s]\n",
      " 58%|█████▊    | 100/173 [00:00<00:00, 114.39it/s]\n",
      " 72%|███████▏  | 125/173 [00:01<00:00, 113.82it/s]\n",
      " 79%|███████▉  | 137/173 [00:01<00:00, 113.93it/s]\n",
      " 86%|████████▌ | 149/173 [00:01<00:00, 115.02it/s]\n",
      " 93%|█████████▎| 161/173 [00:01<00:00, 115.81it/s]\n",
      "  0%|          | 0/50 [00:00<?, ?it/s]\n",
      "100%|██████████| 50/50 [00:00<00:00, 287.15it/s]\n",
      "  0%|          | 0/173 [00:00<?, ?it/s]\n",
      "  8%|▊         | 13/173 [00:00<00:01, 122.28it/s]\n"
     ]
    },
    {
     "name": "stdout",
     "output_type": "stream",
     "text": [
      "\u001b[2m\u001b[36m(func pid=13256)\u001b[0m \n",
      "\u001b[2m\u001b[36m(func pid=13256)\u001b[0m Epoch 55\n"
     ]
    },
    {
     "name": "stderr",
     "output_type": "stream",
     "text": [
      " 15%|█▌        | 26/173 [00:00<00:01, 125.79it/s]\n",
      " 23%|██▎       | 39/173 [00:00<00:01, 124.03it/s]\n",
      " 30%|███       | 52/173 [00:00<00:00, 124.35it/s]\n",
      " 38%|███▊      | 65/173 [00:00<00:00, 122.52it/s]\n",
      " 45%|████▌     | 78/173 [00:00<00:00, 124.22it/s]\n",
      " 53%|█████▎    | 91/173 [00:00<00:00, 122.48it/s]\n",
      " 60%|██████    | 104/173 [00:00<00:00, 122.60it/s]\n",
      " 68%|██████▊   | 117/173 [00:00<00:00, 120.01it/s]\n",
      " 75%|███████▌  | 130/173 [00:01<00:00, 118.52it/s]\n",
      " 83%|████████▎ | 143/173 [00:01<00:00, 119.11it/s]\n",
      " 90%|█████████ | 156/173 [00:01<00:00, 119.53it/s]\n",
      "100%|██████████| 173/173 [00:01<00:00, 121.61it/s]\n",
      "  0%|          | 0/50 [00:00<?, ?it/s]\n",
      " 58%|█████▊    | 29/50 [00:00<00:00, 286.90it/s]\n",
      "100%|██████████| 50/50 [00:00<00:00, 303.37it/s]\n",
      "  0%|          | 0/173 [00:00<?, ?it/s]\n",
      "  7%|▋         | 12/173 [00:00<00:01, 119.31it/s]\n"
     ]
    },
    {
     "name": "stdout",
     "output_type": "stream",
     "text": [
      "\u001b[2m\u001b[36m(func pid=13256)\u001b[0m \n",
      "\u001b[2m\u001b[36m(func pid=13256)\u001b[0m Epoch 56\n"
     ]
    },
    {
     "name": "stderr",
     "output_type": "stream",
     "text": [
      " 14%|█▍        | 24/173 [00:00<00:01, 118.86it/s]\n",
      " 21%|██        | 36/173 [00:00<00:01, 116.83it/s]\n",
      " 28%|██▊       | 48/173 [00:00<00:01, 116.19it/s]\n",
      " 35%|███▌      | 61/173 [00:00<00:00, 117.68it/s]\n",
      " 42%|████▏     | 73/173 [00:00<00:00, 118.08it/s]\n",
      " 50%|████▉     | 86/173 [00:00<00:00, 119.98it/s]\n",
      " 57%|█████▋    | 99/173 [00:00<00:00, 121.65it/s]\n",
      " 65%|██████▍   | 112/173 [00:00<00:00, 120.01it/s]\n",
      " 72%|███████▏  | 125/173 [00:01<00:00, 118.58it/s]\n",
      " 80%|███████▉  | 138/173 [00:01<00:00, 120.47it/s]\n",
      " 87%|████████▋ | 151/173 [00:01<00:00, 119.89it/s]\n",
      " 95%|█████████▍| 164/173 [00:01<00:00, 120.38it/s]\n",
      " 64%|██████▍   | 32/50 [00:00<00:00, 316.63it/s]\n",
      "100%|██████████| 50/50 [00:00<00:00, 318.75it/s]\n",
      "  0%|          | 0/173 [00:00<?, ?it/s]\n",
      "  7%|▋         | 12/173 [00:00<00:01, 112.69it/s]\n"
     ]
    },
    {
     "name": "stdout",
     "output_type": "stream",
     "text": [
      "\u001b[2m\u001b[36m(func pid=13256)\u001b[0m \n",
      "\u001b[2m\u001b[36m(func pid=13256)\u001b[0m Epoch 57\n"
     ]
    },
    {
     "name": "stderr",
     "output_type": "stream",
     "text": [
      " 14%|█▍        | 25/173 [00:00<00:01, 119.41it/s]\n",
      " 21%|██▏       | 37/173 [00:00<00:01, 119.18it/s]\n",
      " 28%|██▊       | 49/173 [00:00<00:01, 87.87it/s] \n",
      " 34%|███▍      | 59/173 [00:00<00:01, 90.58it/s]\n",
      " 40%|███▉      | 69/173 [00:00<00:01, 91.22it/s]\n",
      " 47%|████▋     | 81/173 [00:00<00:00, 97.71it/s]\n",
      " 53%|█████▎    | 92/173 [00:00<00:00, 100.24it/s]\n",
      " 60%|██████    | 104/173 [00:01<00:00, 104.41it/s]\n",
      " 75%|███████▍  | 129/173 [00:01<00:00, 112.33it/s]\n",
      " 82%|████████▏ | 141/173 [00:01<00:00, 110.02it/s]\n",
      " 88%|████████▊ | 153/173 [00:01<00:00, 110.17it/s]\n",
      " 95%|█████████▌| 165/173 [00:01<00:00, 109.98it/s]\n",
      "  0%|          | 0/50 [00:00<?, ?it/s]\n",
      "100%|██████████| 50/50 [00:00<00:00, 277.70it/s]\n",
      "  0%|          | 0/173 [00:00<?, ?it/s]\n",
      "  6%|▋         | 11/173 [00:00<00:01, 104.67it/s]\n"
     ]
    },
    {
     "name": "stdout",
     "output_type": "stream",
     "text": [
      "\u001b[2m\u001b[36m(func pid=13256)\u001b[0m \n",
      "\u001b[2m\u001b[36m(func pid=13256)\u001b[0m Epoch 58\n"
     ]
    },
    {
     "name": "stderr",
     "output_type": "stream",
     "text": [
      " 13%|█▎        | 23/173 [00:00<00:01, 108.18it/s]\n",
      " 20%|█▉        | 34/173 [00:00<00:01, 105.94it/s]\n",
      " 26%|██▌       | 45/173 [00:00<00:01, 107.03it/s]\n",
      " 34%|███▎      | 58/173 [00:00<00:01, 111.89it/s]\n",
      " 41%|████      | 71/173 [00:00<00:00, 114.89it/s]\n",
      " 48%|████▊     | 83/173 [00:00<00:00, 114.90it/s]\n",
      " 55%|█████▍    | 95/173 [00:00<00:00, 116.34it/s]\n",
      " 62%|██████▏   | 107/173 [00:00<00:00, 112.50it/s]\n",
      " 69%|██████▉   | 119/173 [00:01<00:00, 110.22it/s]\n",
      " 76%|███████▋  | 132/173 [00:01<00:00, 113.67it/s]\n",
      " 84%|████████▍ | 145/173 [00:01<00:00, 116.16it/s]\n",
      " 91%|█████████ | 157/173 [00:01<00:00, 116.67it/s]\n",
      "100%|██████████| 173/173 [00:01<00:00, 113.89it/s]\n",
      "  0%|          | 0/50 [00:00<?, ?it/s]\n",
      "100%|██████████| 50/50 [00:00<00:00, 312.56it/s]\n",
      "  0%|          | 0/173 [00:00<?, ?it/s]\n",
      "  7%|▋         | 12/173 [00:00<00:01, 112.42it/s]\n"
     ]
    },
    {
     "name": "stdout",
     "output_type": "stream",
     "text": [
      "\u001b[2m\u001b[36m(func pid=13256)\u001b[0m \n",
      "\u001b[2m\u001b[36m(func pid=13256)\u001b[0m Epoch 59\n"
     ]
    },
    {
     "name": "stderr",
     "output_type": "stream",
     "text": [
      " 14%|█▍        | 25/173 [00:00<00:01, 115.97it/s]\n",
      " 22%|██▏       | 38/173 [00:00<00:01, 119.88it/s]\n",
      " 29%|██▉       | 50/173 [00:00<00:01, 109.61it/s]\n",
      " 36%|███▌      | 62/173 [00:00<00:01, 110.79it/s]\n",
      " 43%|████▎     | 75/173 [00:00<00:00, 116.13it/s]\n",
      " 51%|█████     | 88/173 [00:00<00:00, 119.24it/s]\n",
      " 58%|█████▊    | 101/173 [00:00<00:00, 120.03it/s]\n",
      " 66%|██████▌   | 114/173 [00:00<00:00, 122.29it/s]\n",
      " 73%|███████▎  | 127/173 [00:01<00:00, 121.69it/s]\n",
      " 81%|████████  | 140/173 [00:01<00:00, 118.20it/s]\n",
      " 95%|█████████▌| 165/173 [00:01<00:00, 120.88it/s]\n",
      "  0%|          | 0/50 [00:00<?, ?it/s]\n",
      "100%|██████████| 50/50 [00:00<00:00, 316.39it/s]\n",
      "  0%|          | 0/173 [00:00<?, ?it/s]\n",
      "  7%|▋         | 12/173 [00:00<00:01, 117.51it/s]\n"
     ]
    },
    {
     "name": "stdout",
     "output_type": "stream",
     "text": [
      "\u001b[2m\u001b[36m(func pid=13256)\u001b[0m \n",
      "\u001b[2m\u001b[36m(func pid=13256)\u001b[0m Epoch 60\n"
     ]
    },
    {
     "name": "stderr",
     "output_type": "stream",
     "text": [
      " 14%|█▍        | 25/173 [00:00<00:01, 119.51it/s]\n",
      " 21%|██▏       | 37/173 [00:00<00:01, 115.75it/s]\n",
      " 28%|██▊       | 49/173 [00:00<00:01, 110.97it/s]\n",
      " 35%|███▌      | 61/173 [00:00<00:01, 111.02it/s]\n",
      " 42%|████▏     | 73/173 [00:00<00:00, 105.14it/s]\n",
      " 50%|████▉     | 86/173 [00:00<00:00, 111.21it/s]\n",
      " 57%|█████▋    | 98/173 [00:00<00:00, 112.77it/s]\n",
      " 64%|██████▍   | 111/173 [00:00<00:00, 115.15it/s]\n",
      " 72%|███████▏  | 124/173 [00:01<00:00, 119.10it/s]\n",
      " 79%|███████▉  | 137/173 [00:01<00:00, 120.26it/s]\n",
      " 87%|████████▋ | 150/173 [00:01<00:00, 121.61it/s]\n",
      "100%|██████████| 173/173 [00:01<00:00, 117.27it/s]\n",
      "  0%|          | 0/50 [00:00<?, ?it/s]\n",
      " 66%|██████▌   | 33/50 [00:00<00:00, 320.77it/s]\n",
      "100%|██████████| 50/50 [00:00<00:00, 324.20it/s]\n",
      "  0%|          | 0/173 [00:00<?, ?it/s]\n",
      "  7%|▋         | 12/173 [00:00<00:01, 116.62it/s]\n"
     ]
    },
    {
     "name": "stdout",
     "output_type": "stream",
     "text": [
      "\u001b[2m\u001b[36m(func pid=13256)\u001b[0m \n",
      "\u001b[2m\u001b[36m(func pid=13256)\u001b[0m Epoch 61\n"
     ]
    },
    {
     "name": "stderr",
     "output_type": "stream",
     "text": [
      " 14%|█▍        | 25/173 [00:00<00:01, 120.70it/s]\n",
      " 22%|██▏       | 38/173 [00:00<00:01, 123.28it/s]\n",
      " 29%|██▉       | 51/173 [00:00<00:00, 122.61it/s]\n",
      " 37%|███▋      | 64/173 [00:00<00:00, 123.86it/s]\n",
      " 45%|████▍     | 77/173 [00:00<00:00, 123.83it/s]\n",
      " 52%|█████▏    | 90/173 [00:00<00:00, 122.34it/s]\n",
      " 60%|█████▉    | 103/173 [00:00<00:00, 120.24it/s]\n",
      " 67%|██████▋   | 116/173 [00:00<00:00, 119.25it/s]\n",
      " 75%|███████▍  | 129/173 [00:01<00:00, 120.45it/s]\n",
      " 82%|████████▏ | 142/173 [00:01<00:00, 119.90it/s]\n",
      " 90%|████████▉ | 155/173 [00:01<00:00, 122.06it/s]\n",
      "100%|██████████| 173/173 [00:01<00:00, 122.19it/s]\n",
      "  0%|          | 0/50 [00:00<?, ?it/s]\n",
      "100%|██████████| 50/50 [00:00<00:00, 334.00it/s]\n",
      "  0%|          | 0/173 [00:00<?, ?it/s]\n",
      "  8%|▊         | 13/173 [00:00<00:01, 121.48it/s]\n"
     ]
    },
    {
     "name": "stdout",
     "output_type": "stream",
     "text": [
      "\u001b[2m\u001b[36m(func pid=13256)\u001b[0m \n",
      "\u001b[2m\u001b[36m(func pid=13256)\u001b[0m Epoch 62\n"
     ]
    },
    {
     "name": "stderr",
     "output_type": "stream",
     "text": [
      " 15%|█▌        | 26/173 [00:00<00:01, 84.15it/s] \n",
      " 22%|██▏       | 38/173 [00:00<00:01, 94.43it/s]\n",
      " 29%|██▉       | 50/173 [00:00<00:01, 101.46it/s]\n",
      " 36%|███▌      | 62/173 [00:00<00:01, 102.53it/s]\n",
      " 42%|████▏     | 73/173 [00:00<00:01, 97.21it/s] \n",
      " 49%|████▉     | 85/173 [00:00<00:00, 101.60it/s]\n",
      " 56%|█████▌    | 97/173 [00:00<00:00, 105.90it/s]\n",
      " 62%|██████▏   | 108/173 [00:01<00:00, 106.78it/s]\n",
      " 70%|██████▉   | 121/173 [00:01<00:00, 111.04it/s]\n",
      " 77%|███████▋  | 134/173 [00:01<00:00, 115.25it/s]\n",
      "100%|██████████| 173/173 [00:01<00:00, 108.75it/s]\n",
      "  0%|          | 0/50 [00:00<?, ?it/s]\n",
      " 62%|██████▏   | 31/50 [00:00<00:00, 301.47it/s]\n",
      "100%|██████████| 50/50 [00:00<00:00, 310.96it/s]\n",
      "  0%|          | 0/173 [00:00<?, ?it/s]\n",
      "  7%|▋         | 12/173 [00:00<00:01, 117.53it/s]\n"
     ]
    },
    {
     "name": "stdout",
     "output_type": "stream",
     "text": [
      "\u001b[2m\u001b[36m(func pid=13256)\u001b[0m \n",
      "\u001b[2m\u001b[36m(func pid=13256)\u001b[0m Epoch 63\n"
     ]
    },
    {
     "name": "stderr",
     "output_type": "stream",
     "text": [
      " 14%|█▍        | 24/173 [00:00<00:01, 109.99it/s]\n",
      " 21%|██        | 36/173 [00:00<00:01, 110.65it/s]\n",
      " 28%|██▊       | 48/173 [00:00<00:01, 110.82it/s]\n",
      " 35%|███▍      | 60/173 [00:00<00:01, 100.33it/s]\n",
      " 42%|████▏     | 73/173 [00:00<00:00, 107.82it/s]\n",
      " 50%|████▉     | 86/173 [00:00<00:00, 113.66it/s]\n",
      " 57%|█████▋    | 98/173 [00:00<00:00, 114.15it/s]\n",
      " 64%|██████▍   | 111/173 [00:00<00:00, 117.59it/s]\n",
      " 72%|███████▏  | 124/173 [00:01<00:00, 119.81it/s]\n",
      " 79%|███████▉  | 137/173 [00:01<00:00, 116.28it/s]\n",
      "100%|██████████| 173/173 [00:01<00:00, 115.73it/s]\n",
      "  0%|          | 0/50 [00:00<?, ?it/s]\n",
      " 62%|██████▏   | 31/50 [00:00<00:00, 304.15it/s]\n",
      "100%|██████████| 50/50 [00:00<00:00, 310.76it/s]\n",
      "  0%|          | 0/173 [00:00<?, ?it/s]\n",
      "  7%|▋         | 12/173 [00:00<00:01, 113.83it/s]\n"
     ]
    },
    {
     "name": "stdout",
     "output_type": "stream",
     "text": [
      "\u001b[2m\u001b[36m(func pid=13256)\u001b[0m \n",
      "\u001b[2m\u001b[36m(func pid=13256)\u001b[0m Epoch 64\n"
     ]
    },
    {
     "name": "stderr",
     "output_type": "stream",
     "text": [
      " 15%|█▌        | 26/173 [00:00<00:01, 123.78it/s]\n",
      " 23%|██▎       | 39/173 [00:00<00:01, 123.38it/s]\n",
      " 30%|███       | 52/173 [00:00<00:00, 122.21it/s]\n",
      " 38%|███▊      | 65/173 [00:00<00:00, 121.13it/s]\n",
      " 45%|████▌     | 78/173 [00:00<00:00, 121.79it/s]\n",
      " 53%|█████▎    | 91/173 [00:00<00:00, 122.60it/s]\n",
      " 60%|██████    | 104/173 [00:00<00:00, 122.66it/s]\n",
      " 68%|██████▊   | 117/173 [00:00<00:00, 121.57it/s]\n",
      " 75%|███████▌  | 130/173 [00:01<00:00, 121.35it/s]\n",
      " 83%|████████▎ | 143/173 [00:01<00:00, 123.38it/s]\n",
      " 90%|█████████ | 156/173 [00:01<00:00, 122.03it/s]\n",
      "100%|██████████| 173/173 [00:01<00:00, 122.32it/s]\n",
      "  0%|          | 0/50 [00:00<?, ?it/s]\n",
      " 64%|██████▍   | 32/50 [00:00<00:00, 312.34it/s]\n",
      "100%|██████████| 50/50 [00:00<00:00, 321.88it/s]\n",
      "  0%|          | 0/173 [00:00<?, ?it/s]\n"
     ]
    },
    {
     "name": "stdout",
     "output_type": "stream",
     "text": [
      "\u001b[2m\u001b[36m(func pid=13256)\u001b[0m \n",
      "\u001b[2m\u001b[36m(func pid=13256)\u001b[0m Epoch 65\n"
     ]
    },
    {
     "name": "stderr",
     "output_type": "stream",
     "text": [
      "  8%|▊         | 13/173 [00:00<00:01, 122.62it/s]\n",
      " 15%|█▌        | 26/173 [00:00<00:01, 119.90it/s]\n",
      " 23%|██▎       | 39/173 [00:00<00:01, 121.23it/s]\n",
      " 30%|███       | 52/173 [00:00<00:01, 119.56it/s]\n",
      " 38%|███▊      | 65/173 [00:00<00:00, 120.12it/s]\n",
      " 45%|████▌     | 78/173 [00:00<00:00, 119.98it/s]\n",
      " 53%|█████▎    | 91/173 [00:00<00:00, 120.80it/s]\n",
      " 60%|██████    | 104/173 [00:00<00:00, 120.21it/s]\n",
      " 68%|██████▊   | 117/173 [00:00<00:00, 120.36it/s]\n",
      " 75%|███████▌  | 130/173 [00:01<00:00, 120.28it/s]\n",
      " 83%|████████▎ | 143/173 [00:01<00:00, 120.20it/s]\n",
      " 90%|█████████ | 156/173 [00:01<00:00, 117.45it/s]\n",
      "  0%|          | 0/50 [00:00<?, ?it/s]\n",
      " 58%|█████▊    | 29/50 [00:00<00:00, 289.58it/s]\n",
      "100%|██████████| 50/50 [00:00<00:00, 290.48it/s]\n",
      "  0%|          | 0/173 [00:00<?, ?it/s]\n",
      "  6%|▌         | 10/173 [00:00<00:01, 96.88it/s]\n"
     ]
    },
    {
     "name": "stdout",
     "output_type": "stream",
     "text": [
      "\u001b[2m\u001b[36m(func pid=13256)\u001b[0m \n",
      "\u001b[2m\u001b[36m(func pid=13256)\u001b[0m Epoch 66\n"
     ]
    },
    {
     "name": "stderr",
     "output_type": "stream",
     "text": [
      " 12%|█▏        | 21/173 [00:00<00:01, 99.02it/s]\n",
      " 18%|█▊        | 32/173 [00:00<00:01, 100.43it/s]\n",
      " 25%|██▍       | 43/173 [00:00<00:01, 92.04it/s] \n",
      " 31%|███       | 54/173 [00:00<00:01, 97.72it/s]\n",
      " 38%|███▊      | 65/173 [00:00<00:01, 99.85it/s]\n",
      " 45%|████▍     | 77/173 [00:00<00:00, 105.60it/s]\n",
      " 51%|█████▏    | 89/173 [00:00<00:00, 107.72it/s]\n",
      " 59%|█████▉    | 102/173 [00:00<00:00, 111.48it/s]\n",
      " 66%|██████▌   | 114/173 [00:01<00:00, 113.51it/s]\n",
      " 73%|███████▎  | 127/173 [00:01<00:00, 115.47it/s]\n",
      " 81%|████████  | 140/173 [00:01<00:00, 117.58it/s]\n",
      " 88%|████████▊ | 153/173 [00:01<00:00, 119.10it/s]\n",
      "  0%|          | 0/50 [00:00<?, ?it/s]\n",
      "100%|██████████| 50/50 [00:00<00:00, 301.31it/s]\n",
      "  0%|          | 0/173 [00:00<?, ?it/s]\n",
      "  4%|▍         | 7/173 [00:00<00:03, 51.88it/s]\n"
     ]
    },
    {
     "name": "stdout",
     "output_type": "stream",
     "text": [
      "\u001b[2m\u001b[36m(func pid=13256)\u001b[0m \n",
      "\u001b[2m\u001b[36m(func pid=13256)\u001b[0m Epoch 67\n"
     ]
    },
    {
     "name": "stderr",
     "output_type": "stream",
     "text": [
      " 12%|█▏        | 20/173 [00:00<00:01, 89.61it/s]\n",
      " 18%|█▊        | 32/173 [00:00<00:01, 101.47it/s]\n",
      " 25%|██▌       | 44/173 [00:00<00:01, 106.84it/s]\n",
      " 32%|███▏      | 56/173 [00:00<00:01, 111.34it/s]\n",
      " 39%|███▉      | 68/173 [00:00<00:00, 113.11it/s]\n",
      " 47%|████▋     | 81/173 [00:00<00:00, 116.78it/s]\n",
      " 54%|█████▍    | 93/173 [00:00<00:00, 115.33it/s]\n",
      " 61%|██████    | 105/173 [00:00<00:00, 114.51it/s]\n",
      " 68%|██████▊   | 117/173 [00:01<00:00, 115.76it/s]\n",
      " 83%|████████▎ | 143/173 [00:01<00:00, 120.26it/s]\n",
      " 90%|█████████ | 156/173 [00:01<00:00, 121.00it/s]\n",
      "100%|██████████| 173/173 [00:01<00:00, 112.61it/s]\n",
      "  0%|          | 0/50 [00:00<?, ?it/s]\n",
      " 60%|██████    | 30/50 [00:00<00:00, 298.60it/s]\n",
      "100%|██████████| 50/50 [00:00<00:00, 306.98it/s]\n",
      "  0%|          | 0/173 [00:00<?, ?it/s]\n",
      "  7%|▋         | 12/173 [00:00<00:01, 112.97it/s]\n"
     ]
    },
    {
     "name": "stdout",
     "output_type": "stream",
     "text": [
      "\u001b[2m\u001b[36m(func pid=13256)\u001b[0m \n",
      "\u001b[2m\u001b[36m(func pid=13256)\u001b[0m Epoch 68\n"
     ]
    },
    {
     "name": "stderr",
     "output_type": "stream",
     "text": [
      " 14%|█▍        | 24/173 [00:00<00:01, 113.03it/s]\n",
      " 21%|██        | 36/173 [00:00<00:01, 96.66it/s] \n",
      " 28%|██▊       | 48/173 [00:00<00:01, 101.24it/s]\n",
      " 35%|███▌      | 61/173 [00:00<00:01, 108.77it/s]\n",
      " 43%|████▎     | 74/173 [00:00<00:00, 112.49it/s]\n",
      " 50%|█████     | 87/173 [00:00<00:00, 116.04it/s]\n",
      " 58%|█████▊    | 100/173 [00:00<00:00, 118.16it/s]\n",
      " 65%|██████▌   | 113/173 [00:00<00:00, 119.21it/s]\n",
      " 73%|███████▎  | 126/173 [00:01<00:00, 120.45it/s]\n",
      " 80%|████████  | 139/173 [00:01<00:00, 121.59it/s]\n",
      "\n",
      "  0%|          | 0/50 [00:00<?, ?it/s]\n",
      " 60%|██████    | 30/50 [00:00<00:00, 296.39it/s]\n",
      "100%|██████████| 50/50 [00:00<00:00, 295.79it/s]\n",
      "  0%|          | 0/173 [00:00<?, ?it/s]\n",
      "  6%|▋         | 11/173 [00:00<00:01, 102.78it/s]\n"
     ]
    },
    {
     "name": "stdout",
     "output_type": "stream",
     "text": [
      "\u001b[2m\u001b[36m(func pid=13256)\u001b[0m \n",
      "\u001b[2m\u001b[36m(func pid=13256)\u001b[0m Epoch 69\n"
     ]
    },
    {
     "name": "stderr",
     "output_type": "stream",
     "text": [
      " 14%|█▍        | 24/173 [00:00<00:01, 113.84it/s]\n",
      " 21%|██        | 36/173 [00:00<00:01, 115.48it/s]\n",
      " 28%|██▊       | 49/173 [00:00<00:01, 119.06it/s]\n",
      " 35%|███▌      | 61/173 [00:00<00:01, 110.56it/s]\n",
      " 43%|████▎     | 74/173 [00:00<00:00, 115.74it/s]\n",
      " 50%|████▉     | 86/173 [00:00<00:00, 115.99it/s]\n",
      " 57%|█████▋    | 99/173 [00:00<00:00, 117.47it/s]\n",
      " 65%|██████▍   | 112/173 [00:00<00:00, 120.78it/s]\n",
      " 72%|███████▏  | 125/173 [00:01<00:00, 123.10it/s]\n",
      " 80%|███████▉  | 138/173 [00:01<00:00, 124.05it/s]\n",
      "  0%|          | 0/50 [00:00<?, ?it/s]\n",
      "100%|██████████| 50/50 [00:00<00:00, 319.54it/s]\n",
      "  0%|          | 0/173 [00:00<?, ?it/s]\n",
      "  7%|▋         | 12/173 [00:00<00:01, 119.34it/s]\n"
     ]
    },
    {
     "name": "stdout",
     "output_type": "stream",
     "text": [
      "\u001b[2m\u001b[36m(func pid=13256)\u001b[0m \n",
      "\u001b[2m\u001b[36m(func pid=13256)\u001b[0m Epoch 70\n"
     ]
    },
    {
     "name": "stderr",
     "output_type": "stream",
     "text": [
      " 14%|█▍        | 24/173 [00:00<00:01, 112.60it/s]\n",
      " 21%|██▏       | 37/173 [00:00<00:01, 117.71it/s]\n",
      " 28%|██▊       | 49/173 [00:00<00:01, 114.03it/s]\n",
      " 35%|███▌      | 61/173 [00:00<00:01, 111.34it/s]\n",
      " 42%|████▏     | 73/173 [00:00<00:00, 111.55it/s]\n",
      " 49%|████▉     | 85/173 [00:00<00:00, 112.75it/s]\n",
      " 57%|█████▋    | 98/173 [00:00<00:00, 116.61it/s]\n",
      " 64%|██████▍   | 111/173 [00:00<00:00, 119.58it/s]\n",
      " 72%|███████▏  | 124/173 [00:01<00:00, 121.57it/s]\n",
      " 79%|███████▉  | 137/173 [00:01<00:00, 121.49it/s]\n",
      " 87%|████████▋ | 150/173 [00:01<00:00, 118.30it/s]\n",
      " 94%|█████████▍| 163/173 [00:01<00:00, 119.46it/s]\n",
      "100%|██████████| 173/173 [00:01<00:00, 117.22it/s]\n",
      "  0%|          | 0/50 [00:00<?, ?it/s]\n",
      "100%|██████████| 50/50 [00:00<00:00, 337.33it/s]\n",
      "  0%|          | 0/173 [00:00<?, ?it/s]\n",
      "  8%|▊         | 13/173 [00:00<00:01, 123.00it/s]\n",
      " 15%|█▌        | 26/173 [00:00<00:01, 125.94it/s]\n"
     ]
    },
    {
     "name": "stdout",
     "output_type": "stream",
     "text": [
      "\u001b[2m\u001b[36m(func pid=13256)\u001b[0m \n",
      "\u001b[2m\u001b[36m(func pid=13256)\u001b[0m Epoch 71\n"
     ]
    },
    {
     "name": "stderr",
     "output_type": "stream",
     "text": [
      " 23%|██▎       | 39/173 [00:00<00:01, 127.03it/s]\n",
      " 30%|███       | 52/173 [00:00<00:00, 126.21it/s]\n",
      " 38%|███▊      | 65/173 [00:00<00:00, 126.44it/s]\n",
      " 45%|████▌     | 78/173 [00:00<00:00, 116.87it/s]\n",
      " 53%|█████▎    | 91/173 [00:00<00:00, 119.19it/s]\n",
      " 60%|██████    | 104/173 [00:00<00:00, 122.10it/s]\n",
      " 68%|██████▊   | 117/173 [00:00<00:00, 123.86it/s]\n",
      " 75%|███████▌  | 130/173 [00:01<00:00, 124.11it/s]\n",
      " 83%|████████▎ | 143/173 [00:01<00:00, 121.48it/s]\n",
      " 90%|█████████ | 156/173 [00:01<00:00, 121.86it/s]\n",
      "  0%|          | 0/50 [00:00<?, ?it/s]\n",
      " 62%|██████▏   | 31/50 [00:00<00:00, 303.92it/s]\n",
      "100%|██████████| 50/50 [00:00<00:00, 203.24it/s]\n",
      "  0%|          | 0/173 [00:00<?, ?it/s]\n",
      "  7%|▋         | 12/173 [00:00<00:01, 118.53it/s]\n"
     ]
    },
    {
     "name": "stdout",
     "output_type": "stream",
     "text": [
      "\u001b[2m\u001b[36m(func pid=13256)\u001b[0m \n",
      "\u001b[2m\u001b[36m(func pid=13256)\u001b[0m Epoch 72\n"
     ]
    },
    {
     "name": "stderr",
     "output_type": "stream",
     "text": [
      " 14%|█▍        | 25/173 [00:00<00:01, 121.23it/s]\n",
      " 22%|██▏       | 38/173 [00:00<00:01, 122.81it/s]\n",
      " 29%|██▉       | 51/173 [00:00<00:01, 121.90it/s]\n",
      " 37%|███▋      | 64/173 [00:00<00:00, 112.95it/s]\n",
      " 44%|████▍     | 76/173 [00:00<00:00, 115.01it/s]\n",
      " 51%|█████▏    | 89/173 [00:00<00:00, 117.87it/s]\n",
      " 59%|█████▉    | 102/173 [00:00<00:00, 120.16it/s]\n",
      " 66%|██████▋   | 115/173 [00:00<00:00, 119.87it/s]\n",
      " 74%|███████▍  | 128/173 [00:01<00:00, 119.64it/s]\n",
      " 82%|████████▏ | 141/173 [00:01<00:00, 121.46it/s]\n",
      " 89%|████████▉ | 154/173 [00:01<00:00, 122.71it/s]\n",
      "100%|██████████| 173/173 [00:01<00:00, 120.53it/s]\n",
      "  0%|          | 0/50 [00:00<?, ?it/s]\n",
      " 62%|██████▏   | 31/50 [00:00<00:00, 306.64it/s]\n",
      "100%|██████████| 50/50 [00:00<00:00, 310.51it/s]\n",
      "  0%|          | 0/173 [00:00<?, ?it/s]\n",
      "  7%|▋         | 12/173 [00:00<00:01, 116.32it/s]\n"
     ]
    },
    {
     "name": "stdout",
     "output_type": "stream",
     "text": [
      "\u001b[2m\u001b[36m(func pid=13256)\u001b[0m \n",
      "\u001b[2m\u001b[36m(func pid=13256)\u001b[0m Epoch 73\n"
     ]
    },
    {
     "name": "stderr",
     "output_type": "stream",
     "text": [
      " 14%|█▍        | 25/173 [00:00<00:01, 123.67it/s]\n",
      " 22%|██▏       | 38/173 [00:00<00:01, 123.18it/s]\n",
      " 29%|██▉       | 51/173 [00:00<00:00, 122.47it/s]\n",
      " 37%|███▋      | 64/173 [00:00<00:00, 120.88it/s]\n",
      " 45%|████▍     | 77/173 [00:00<00:00, 121.06it/s]\n",
      " 52%|█████▏    | 90/173 [00:00<00:00, 121.92it/s]\n",
      " 60%|█████▉    | 103/173 [00:00<00:00, 123.51it/s]\n",
      " 67%|██████▋   | 116/173 [00:00<00:00, 120.91it/s]\n",
      " 75%|███████▍  | 129/173 [00:01<00:00, 120.73it/s]\n",
      " 82%|████████▏ | 142/173 [00:01<00:00, 120.61it/s]\n",
      " 90%|████████▉ | 155/173 [00:01<00:00, 120.55it/s]\n",
      "100%|██████████| 173/173 [00:01<00:00, 121.32it/s]\n",
      "  0%|          | 0/50 [00:00<?, ?it/s]\n",
      "100%|██████████| 50/50 [00:00<00:00, 318.39it/s]\n",
      "  0%|          | 0/173 [00:00<?, ?it/s]\n",
      "  6%|▋         | 11/173 [00:00<00:01, 109.08it/s]\n",
      " 13%|█▎        | 23/173 [00:00<00:01, 111.44it/s]\n"
     ]
    },
    {
     "name": "stdout",
     "output_type": "stream",
     "text": [
      "\u001b[2m\u001b[36m(func pid=13256)\u001b[0m \n",
      "\u001b[2m\u001b[36m(func pid=13256)\u001b[0m Epoch 74\n"
     ]
    },
    {
     "name": "stderr",
     "output_type": "stream",
     "text": [
      " 20%|██        | 35/173 [00:00<00:01, 114.86it/s]\n",
      " 27%|██▋       | 47/173 [00:00<00:01, 116.19it/s]\n",
      " 35%|███▍      | 60/173 [00:00<00:00, 117.53it/s]\n",
      " 42%|████▏     | 72/173 [00:00<00:00, 110.67it/s]\n",
      " 49%|████▊     | 84/173 [00:00<00:00, 113.07it/s]\n",
      " 55%|█████▌    | 96/173 [00:00<00:00, 114.61it/s]\n",
      " 63%|██████▎   | 109/173 [00:00<00:00, 116.38it/s]\n",
      " 71%|███████   | 122/173 [00:01<00:00, 117.67it/s]\n",
      " 77%|███████▋  | 134/173 [00:01<00:00, 117.63it/s]\n",
      " 85%|████████▍ | 147/173 [00:01<00:00, 119.07it/s]\n",
      " 92%|█████████▏| 159/173 [00:01<00:00, 118.02it/s]\n",
      "  0%|          | 0/50 [00:00<?, ?it/s]\n",
      "100%|██████████| 50/50 [00:00<00:00, 287.61it/s]\n",
      "  0%|          | 0/173 [00:00<?, ?it/s]\n"
     ]
    },
    {
     "name": "stdout",
     "output_type": "stream",
     "text": [
      "\u001b[2m\u001b[36m(func pid=13256)\u001b[0m Epoch 00074: reducing learning rate of group 0 to 2.1058e-04.\n",
      "\u001b[2m\u001b[36m(func pid=13256)\u001b[0m \n",
      "\u001b[2m\u001b[36m(func pid=13256)\u001b[0m Epoch 75\n"
     ]
    },
    {
     "name": "stderr",
     "output_type": "stream",
     "text": [
      "  5%|▌         | 9/173 [00:00<00:01, 87.33it/s]\n",
      " 20%|█▉        | 34/173 [00:00<00:01, 115.46it/s]\n",
      " 27%|██▋       | 47/173 [00:00<00:01, 119.17it/s]\n",
      " 35%|███▍      | 60/173 [00:00<00:00, 121.72it/s]\n",
      " 42%|████▏     | 73/173 [00:00<00:00, 121.31it/s]\n",
      " 50%|████▉     | 86/173 [00:00<00:00, 121.24it/s]\n",
      " 57%|█████▋    | 99/173 [00:00<00:00, 122.70it/s]\n",
      " 65%|██████▍   | 112/173 [00:00<00:00, 122.73it/s]\n",
      " 72%|███████▏  | 125/173 [00:01<00:00, 120.80it/s]\n",
      " 80%|███████▉  | 138/173 [00:01<00:00, 122.33it/s]\n",
      " 87%|████████▋ | 151/173 [00:01<00:00, 120.96it/s]\n",
      "100%|██████████| 173/173 [00:01<00:00, 119.71it/s]\n",
      "  0%|          | 0/50 [00:00<?, ?it/s]\n",
      " 64%|██████▍   | 32/50 [00:00<00:00, 313.05it/s]\n",
      "100%|██████████| 50/50 [00:00<00:00, 314.02it/s]\n",
      "  0%|          | 0/173 [00:00<?, ?it/s]\n",
      "  7%|▋         | 12/173 [00:00<00:01, 116.90it/s]\n"
     ]
    },
    {
     "name": "stdout",
     "output_type": "stream",
     "text": [
      "\u001b[2m\u001b[36m(func pid=13256)\u001b[0m \n",
      "\u001b[2m\u001b[36m(func pid=13256)\u001b[0m Epoch 76\n"
     ]
    },
    {
     "name": "stderr",
     "output_type": "stream",
     "text": [
      " 14%|█▍        | 24/173 [00:00<00:01, 118.67it/s]\n",
      " 21%|██▏       | 37/173 [00:00<00:01, 119.52it/s]\n",
      " 28%|██▊       | 49/173 [00:00<00:01, 118.46it/s]\n",
      " 36%|███▌      | 62/173 [00:00<00:00, 120.66it/s]\n",
      " 43%|████▎     | 75/173 [00:00<00:00, 120.05it/s]\n",
      " 51%|█████     | 88/173 [00:00<00:00, 120.62it/s]\n",
      " 58%|█████▊    | 101/173 [00:00<00:00, 122.34it/s]\n",
      " 66%|██████▌   | 114/173 [00:00<00:00, 122.49it/s]\n",
      " 73%|███████▎  | 127/173 [00:01<00:00, 123.95it/s]\n",
      " 81%|████████  | 140/173 [00:01<00:00, 123.24it/s]\n",
      " 88%|████████▊ | 153/173 [00:01<00:00, 123.67it/s]\n",
      " 96%|█████████▌| 166/173 [00:01<00:00, 123.70it/s]\n",
      "100%|██████████| 173/173 [00:01<00:00, 121.85it/s]\n",
      "  0%|          | 0/50 [00:00<?, ?it/s]\n",
      " 44%|████▍     | 22/50 [00:00<00:00, 152.72it/s]\n",
      "100%|██████████| 50/50 [00:00<00:00, 219.62it/s]\n",
      "  0%|          | 0/173 [00:00<?, ?it/s]\n"
     ]
    },
    {
     "name": "stdout",
     "output_type": "stream",
     "text": [
      "\u001b[2m\u001b[36m(func pid=13256)\u001b[0m \n",
      "\u001b[2m\u001b[36m(func pid=13256)\u001b[0m Epoch 77\n"
     ]
    },
    {
     "name": "stderr",
     "output_type": "stream",
     "text": [
      "  8%|▊         | 13/173 [00:00<00:01, 126.40it/s]\n",
      " 15%|█▌        | 26/173 [00:00<00:01, 122.78it/s]\n"
     ]
    }
   ],
   "source": [
    "from functools import partial\n",
    "\n",
    "config = {\n",
    "    \"mlflow_experiment_id\": experiment_id,\n",
    "    \"weights_dir\": weights_dir,\n",
    "    \"cwd\": cwd,\n",
    "    \"target_variable\": target_variable,\n",
    "    \"arch\": tune.grid_search([\"LSTM\", \"LSTMTemporalAttention\"]), # \"FCN\", \"FCNTemporalAttention\", \n",
    "    \"sequence_length\": tune.grid_search([25]),\n",
    "    'num_epochs': tune.grid_search([150]),\n",
    "    'num_layers': tune.choice([2, 3, 4]),\n",
    "    \"lr\": tune.loguniform(1e-4, 1e-1),\n",
    "    \"weigth_decay\": tune.choice([0, 0.001, 0.0001]),\n",
    "    \"batch_size\": tune.choice([256, 256*2]),\n",
    "    \"hidden_size\": tune.grid_search([64]),\n",
    "    \"variables\": tune.grid_search([None, 'Nedbør Nilsebu', 'Q_Lyngsaana'])\n",
    "}\n",
    "\n",
    "\n",
    "analysis = tune.run(\n",
    "    partial(train_model, data_dir=data_dir),\n",
    "    config=config,\n",
    "    resources_per_trial={\"cpu\": 12, \"gpu\": 1},\n",
    "    num_samples=1,\n",
    "    callbacks=[MLflowLoggerCallback(experiment_name=exp_name)],\n",
    ")"
   ]
  }
 ],
 "metadata": {
  "kernelspec": {
   "display_name": "my_env",
   "language": "python",
   "name": "python3"
  },
  "language_info": {
   "codemirror_mode": {
    "name": "ipython",
    "version": 3
   },
   "file_extension": ".py",
   "mimetype": "text/x-python",
   "name": "python",
   "nbconvert_exporter": "python",
   "pygments_lexer": "ipython3",
   "version": "3.7.9"
  },
  "orig_nbformat": 4,
  "vscode": {
   "interpreter": {
    "hash": "ab06ce908a8abf9762b166587a79a7b3fe0760e63d13e53395d21ef1a2a21042"
   }
  }
 },
 "nbformat": 4,
 "nbformat_minor": 2
}
