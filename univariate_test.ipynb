{
 "cells": [
  {
   "cell_type": "code",
   "execution_count": 53,
   "metadata": {},
   "outputs": [
    {
     "ename": "ModuleNotFoundError",
     "evalue": "No module named 'cufflinks'",
     "output_type": "error",
     "traceback": [
      "\u001b[1;31m---------------------------------------------------------------------------\u001b[0m",
      "\u001b[1;31mModuleNotFoundError\u001b[0m                       Traceback (most recent call last)",
      "Cell \u001b[1;32mIn[53], line 12\u001b[0m\n\u001b[0;32m     10\u001b[0m \u001b[39mfrom\u001b[39;00m \u001b[39mkeras\u001b[39;00m\u001b[39m.\u001b[39;00m\u001b[39mmodels\u001b[39;00m \u001b[39mimport\u001b[39;00m Sequential\n\u001b[0;32m     11\u001b[0m \u001b[39mfrom\u001b[39;00m \u001b[39mkeras\u001b[39;00m\u001b[39m.\u001b[39;00m\u001b[39mlayers\u001b[39;00m \u001b[39mimport\u001b[39;00m LSTM, Dense, Flatten\n\u001b[1;32m---> 12\u001b[0m \u001b[39mimport\u001b[39;00m \u001b[39mcufflinks\u001b[39;00m \u001b[39mas\u001b[39;00m \u001b[39mcf\u001b[39;00m\n\u001b[0;32m     13\u001b[0m \u001b[39mfrom\u001b[39;00m \u001b[39mplotly\u001b[39;00m\u001b[39m.\u001b[39;00m\u001b[39moffline\u001b[39;00m \u001b[39mimport\u001b[39;00m init_notebook_mode, plot, iplot\n\u001b[0;32m     14\u001b[0m init_notebook_mode(connected\u001b[39m=\u001b[39m\u001b[39mTrue\u001b[39;00m)\n",
      "\u001b[1;31mModuleNotFoundError\u001b[0m: No module named 'cufflinks'"
     ]
    }
   ],
   "source": [
    "# Imports\n",
    "import numpy as np\n",
    "import pandas as pd\n",
    "import os\n",
    "from sklearn.preprocessing import MinMaxScaler\n",
    "from sklearn.model_selection import train_test_split\n",
    "from sklearn.linear_model import LinearRegression\n",
    "from sklearn.metrics import mean_squared_error\n",
    "from sklearn.metrics import mean_absolute_error\n",
    "from keras.models import Sequential\n",
    "from keras.layers import LSTM, Dense, Flatten\n",
    "import cufflinks as cf\n",
    "from plotly.offline import init_notebook_mode, plot, iplot\n",
    "init_notebook_mode(connected=True)\n",
    "cf.go_offline()\n",
    "from keras.layers import MaxPooling1D, Conv1D, Dropout\n",
    "##"
   ]
  },
  {
   "cell_type": "code",
   "execution_count": 49,
   "metadata": {},
   "outputs": [],
   "source": [
    "def read_data(dir):\n",
    "    data_list = []\n",
    "    for filename in os.listdir(dir):\n",
    "        if filename.endswith(\".xlsx\"):\n",
    "            data_list.append(pd.read_excel(os.path.join(dir, filename)))\n",
    "        else:\n",
    "            data_list.append(pd.read_csv(os.path.join(dir, filename), sep=';', encoding='latin-1', on_bad_lines='skip'))\n",
    "    return data_list"
   ]
  },
  {
   "cell_type": "code",
   "execution_count": 34,
   "metadata": {},
   "outputs": [
    {
     "ename": "NameError",
     "evalue": "name 'read_data' is not defined",
     "output_type": "error",
     "traceback": [
      "\u001b[1;31m---------------------------------------------------------------------------\u001b[0m",
      "\u001b[1;31mNameError\u001b[0m                                 Traceback (most recent call last)",
      "Cell \u001b[1;32mIn[34], line 3\u001b[0m\n\u001b[0;32m      1\u001b[0m \u001b[39m#data = read_data(\"./data/clean_data/Håkvik\")\u001b[39;00m\n\u001b[0;32m      2\u001b[0m \u001b[39m#data = read_data(\"./data/clean_data/Nedre Neset\")\u001b[39;00m\n\u001b[1;32m----> 3\u001b[0m data \u001b[39m=\u001b[39m read_data(\u001b[39m\"\u001b[39m\u001b[39m./data/clean_data/Trollheim\u001b[39m\u001b[39m\"\u001b[39m)\n\u001b[0;32m      4\u001b[0m target_Haavik \u001b[39m=\u001b[39m data[\u001b[39m0\u001b[39m]\n\u001b[0;32m      5\u001b[0m target_Haavik\u001b[39m.\u001b[39mindex \u001b[39m=\u001b[39m pd\u001b[39m.\u001b[39mto_datetime(target_Haavik\u001b[39m.\u001b[39mindex)\n",
      "\u001b[1;31mNameError\u001b[0m: name 'read_data' is not defined"
     ]
    }
   ],
   "source": [
    "#data = read_data(\"./data/clean_data/Håkvik\")\n",
    "#data = read_data(\"./data/clean_data/Nedre Neset\")\n",
    "data = read_data(\"./data/raw_data/Lyse/cascaded_use_case_data.xlsx\")\n",
    "target_Haavik = data[0]\n",
    "target_Haavik.index = pd.to_datetime(target_Haavik.index)\n",
    "target_Haavik.info()"
   ]
  },
  {
   "cell_type": "code",
   "execution_count": 35,
   "metadata": {},
   "outputs": [
    {
     "ename": "NameError",
     "evalue": "name 'target_Haavik' is not defined",
     "output_type": "error",
     "traceback": [
      "\u001b[1;31m---------------------------------------------------------------------------\u001b[0m",
      "\u001b[1;31mNameError\u001b[0m                                 Traceback (most recent call last)",
      "Cell \u001b[1;32mIn[35], line 2\u001b[0m\n\u001b[0;32m      1\u001b[0m scaler \u001b[39m=\u001b[39m MinMaxScaler()\n\u001b[1;32m----> 2\u001b[0m target_data \u001b[39m=\u001b[39m target_Haavik\u001b[39m.\u001b[39mvalues\n\u001b[0;32m      3\u001b[0m scaler\u001b[39m.\u001b[39mfit(target_data)\n\u001b[0;32m      4\u001b[0m scaled_data \u001b[39m=\u001b[39m scaler\u001b[39m.\u001b[39mtransform(target_data)\n",
      "\u001b[1;31mNameError\u001b[0m: name 'target_Haavik' is not defined"
     ]
    }
   ],
   "source": [
    "scaler = MinMaxScaler()\n",
    "target_data = target_Haavik.values\n",
    "scaler.fit(target_data)\n",
    "scaled_data = scaler.transform(target_data)"
   ]
  },
  {
   "cell_type": "code",
   "execution_count": 36,
   "metadata": {},
   "outputs": [
    {
     "ename": "NameError",
     "evalue": "name 'scaled_data' is not defined",
     "output_type": "error",
     "traceback": [
      "\u001b[1;31m---------------------------------------------------------------------------\u001b[0m",
      "\u001b[1;31mNameError\u001b[0m                                 Traceback (most recent call last)",
      "Cell \u001b[1;32mIn[36], line 12\u001b[0m\n\u001b[0;32m     10\u001b[0m     \u001b[39mreturn\u001b[39;00m np\u001b[39m.\u001b[39marray(X), np\u001b[39m.\u001b[39marray(y)\n\u001b[0;32m     11\u001b[0m n_features \u001b[39m=\u001b[39m \u001b[39m3\u001b[39m\n\u001b[1;32m---> 12\u001b[0m X, y \u001b[39m=\u001b[39m prepare_data(scaled_data, n_features)\n",
      "\u001b[1;31mNameError\u001b[0m: name 'scaled_data' is not defined"
     ]
    }
   ],
   "source": [
    "def prepare_data(timeseries_data, n):\n",
    "    X, y = [], []\n",
    "    for i in range(len(timeseries_data)):\n",
    "        end_idx = i + n\n",
    "        if end_idx > len(timeseries_data) - 1:\n",
    "            break\n",
    "        seq_x, seq_y = timeseries_data[i:end_idx], timeseries_data[end_idx]\n",
    "        X.append(seq_x)\n",
    "        y.append(seq_y)\n",
    "    return np.array(X), np.array(y)\n",
    "n_features = 3\n",
    "X, y = prepare_data(scaled_data, n_features)"
   ]
  },
  {
   "cell_type": "code",
   "execution_count": 37,
   "metadata": {},
   "outputs": [
    {
     "ename": "NameError",
     "evalue": "name 'X' is not defined",
     "output_type": "error",
     "traceback": [
      "\u001b[1;31m---------------------------------------------------------------------------\u001b[0m",
      "\u001b[1;31mNameError\u001b[0m                                 Traceback (most recent call last)",
      "Cell \u001b[1;32mIn[37], line 2\u001b[0m\n\u001b[0;32m      1\u001b[0m \u001b[39m# 70 / 20 / 10\u001b[39;00m\n\u001b[1;32m----> 2\u001b[0m X_train, X_test_val, y_train, y_test_val \u001b[39m=\u001b[39m train_test_split(X, y, test_size\u001b[39m=\u001b[39m\u001b[39mint\u001b[39m(\u001b[39mlen\u001b[39m(target_Haavik)\u001b[39m*\u001b[39m\u001b[39m0.3\u001b[39m), shuffle\u001b[39m=\u001b[39m\u001b[39mFalse\u001b[39;00m)\n\u001b[0;32m      3\u001b[0m X_val, X_test, y_val, y_test \u001b[39m=\u001b[39m train_test_split(X_test_val, y_test_val, test_size\u001b[39m=\u001b[39m\u001b[39mint\u001b[39m(\u001b[39mlen\u001b[39m(X_test_val)\u001b[39m*\u001b[39m\u001b[39m0.3\u001b[39m), shuffle\u001b[39m=\u001b[39m\u001b[39mFalse\u001b[39;00m)\n\u001b[0;32m      4\u001b[0m X_train\u001b[39m.\u001b[39mshape, X_val\u001b[39m.\u001b[39mshape, X_test\u001b[39m.\u001b[39mshape\n",
      "\u001b[1;31mNameError\u001b[0m: name 'X' is not defined"
     ]
    }
   ],
   "source": [
    "# 70 / 20 / 10\n",
    "X_train, X_test_val, y_train, y_test_val = train_test_split(X, y, test_size=int(len(target_Haavik)*0.3), shuffle=False)\n",
    "X_val, X_test, y_val, y_test = train_test_split(X_test_val, y_test_val, test_size=int(len(X_test_val)*0.3), shuffle=False)\n",
    "X_train.shape, X_val.shape, X_test.shape"
   ]
  },
  {
   "cell_type": "code",
   "execution_count": 38,
   "metadata": {},
   "outputs": [
    {
     "ename": "NameError",
     "evalue": "name 'Sequential' is not defined",
     "output_type": "error",
     "traceback": [
      "\u001b[1;31m---------------------------------------------------------------------------\u001b[0m",
      "\u001b[1;31mNameError\u001b[0m                                 Traceback (most recent call last)",
      "Cell \u001b[1;32mIn[38], line 1\u001b[0m\n\u001b[1;32m----> 1\u001b[0m lstm \u001b[39m=\u001b[39m Sequential()\n\u001b[0;32m      2\u001b[0m lstm\u001b[39m.\u001b[39madd(LSTM(\u001b[39m64\u001b[39m, activation\u001b[39m=\u001b[39m\u001b[39m'\u001b[39m\u001b[39mrelu\u001b[39m\u001b[39m'\u001b[39m, return_sequences\u001b[39m=\u001b[39m\u001b[39mTrue\u001b[39;00m, input_shape\u001b[39m=\u001b[39m(n_features, \u001b[39m1\u001b[39m)))\n\u001b[0;32m      3\u001b[0m lstm\u001b[39m.\u001b[39madd(LSTM(\u001b[39m64\u001b[39m, activation\u001b[39m=\u001b[39m\u001b[39m'\u001b[39m\u001b[39mrelu\u001b[39m\u001b[39m'\u001b[39m))\n",
      "\u001b[1;31mNameError\u001b[0m: name 'Sequential' is not defined"
     ]
    }
   ],
   "source": [
    "lstm = Sequential()\n",
    "lstm.add(LSTM(64, activation='relu', return_sequences=True, input_shape=(n_features, 1)))\n",
    "lstm.add(LSTM(64, activation='relu'))\n",
    "lstm.add(Dense(1))\n",
    "lstm.compile(optimizer='adam', loss='mse')\n",
    "lstm.fit(X_train, y_train, epochs=20, verbose=0, batch_size=64, validation_data=(X_val, y_val))\n",
    "lstm.summary()"
   ]
  },
  {
   "cell_type": "code",
   "execution_count": 39,
   "metadata": {},
   "outputs": [
    {
     "ename": "NameError",
     "evalue": "name 'Sequential' is not defined",
     "output_type": "error",
     "traceback": [
      "\u001b[1;31m---------------------------------------------------------------------------\u001b[0m",
      "\u001b[1;31mNameError\u001b[0m                                 Traceback (most recent call last)",
      "Cell \u001b[1;32mIn[39], line 1\u001b[0m\n\u001b[1;32m----> 1\u001b[0m cnn \u001b[39m=\u001b[39m Sequential()\n\u001b[0;32m      2\u001b[0m cnn\u001b[39m.\u001b[39madd(Conv1D(filters\u001b[39m=\u001b[39m\u001b[39m64\u001b[39m, kernel_size\u001b[39m=\u001b[39m\u001b[39m2\u001b[39m, activation\u001b[39m=\u001b[39m\u001b[39m'\u001b[39m\u001b[39mrelu\u001b[39m\u001b[39m'\u001b[39m, input_shape\u001b[39m=\u001b[39m(n_features, \u001b[39m1\u001b[39m)))\n\u001b[0;32m      3\u001b[0m cnn\u001b[39m.\u001b[39madd(MaxPooling1D(pool_size\u001b[39m=\u001b[39m\u001b[39m2\u001b[39m))\n",
      "\u001b[1;31mNameError\u001b[0m: name 'Sequential' is not defined"
     ]
    }
   ],
   "source": [
    "cnn = Sequential()\n",
    "cnn.add(Conv1D(filters=64, kernel_size=2, activation='relu', input_shape=(n_features, 1)))\n",
    "cnn.add(MaxPooling1D(pool_size=2))\n",
    "cnn.add(Flatten())\n",
    "cnn.add(Dense(50, activation='relu'))\n",
    "cnn.add(Dense(1))\n",
    "cnn.compile(optimizer='adam', loss='mse')\n",
    "cnn.fit(X_train, y_train, epochs=20, verbose=0, batch_size=64, validation_data=(X_val, y_val))\n",
    "cnn.summary()"
   ]
  },
  {
   "cell_type": "code",
   "execution_count": null,
   "metadata": {},
   "outputs": [],
   "source": [
    "mlp = Sequential()\n",
    "mlp.add(Dense(64, activation='relu', input_dim=3))\n",
    "mlp.add(Dense(1))\n",
    "mlp.compile(optimizer='adam', loss='mse')\n",
    "mlp.fit(X_train, y_train, epochs=20, verbose=0, batch_size=64, validation_data=(X_val, y_val))\n",
    "mlp.summary()"
   ]
  },
  {
   "cell_type": "code",
   "execution_count": null,
   "metadata": {},
   "outputs": [],
   "source": [
    "y_val = scaler.inverse_transform(y_val)"
   ]
  },
  {
   "cell_type": "code",
   "execution_count": null,
   "metadata": {},
   "outputs": [],
   "source": [
    "lstm_predictions = lstm.predict(X_val).flatten()\n",
    "lstm_predictions = scaler.inverse_transform(lstm_predictions.reshape(-1,1))\n",
    "lstm_val_mae = mean_absolute_error(y_val, lstm_predictions)"
   ]
  },
  {
   "cell_type": "code",
   "execution_count": null,
   "metadata": {},
   "outputs": [],
   "source": [
    "cnn_predictions = cnn.predict(X_val).flatten()\n",
    "cnn_predictions = scaler.inverse_transform(cnn_predictions.reshape(-1,1))\n",
    "cnn_val_mae = mean_absolute_error(y_val, cnn_predictions)"
   ]
  },
  {
   "cell_type": "code",
   "execution_count": null,
   "metadata": {},
   "outputs": [],
   "source": [
    "mlp_predictions = mlp.predict(X_val).flatten()\n",
    "mlp_predictions = scaler.inverse_transform(mlp_predictions.reshape(-1,1))\n",
    "mlp_val_mae = mean_absolute_error(y_val, mlp_predictions)"
   ]
  },
  {
   "cell_type": "code",
   "execution_count": null,
   "metadata": {},
   "outputs": [],
   "source": [
    "idx_val = target_Haavik.index[len(X_train):len(X_train)+len(X_val)]"
   ]
  },
  {
   "cell_type": "code",
   "execution_count": 5,
   "metadata": {},
   "outputs": [
    {
     "ename": "NameError",
     "evalue": "name 'lstm_predictions' is not defined",
     "output_type": "error",
     "traceback": [
      "\u001b[1;31m---------------------------------------------------------------------------\u001b[0m",
      "\u001b[1;31mNameError\u001b[0m                                 Traceback (most recent call last)",
      "Cell \u001b[1;32mIn[5], line 2\u001b[0m\n\u001b[0;32m      1\u001b[0m predictions \u001b[39m=\u001b[39m pd\u001b[39m.\u001b[39mDataFrame(data\u001b[39m=\u001b[39m{\n\u001b[1;32m----> 2\u001b[0m     \u001b[39m'\u001b[39m\u001b[39mLSTM predictions\u001b[39m\u001b[39m'\u001b[39m: [y[\u001b[39m0\u001b[39m] \u001b[39mfor\u001b[39;00m y \u001b[39min\u001b[39;00m lstm_predictions],\n\u001b[0;32m      3\u001b[0m     \u001b[39m'\u001b[39m\u001b[39mActuals\u001b[39m\u001b[39m'\u001b[39m: [y[\u001b[39m0\u001b[39m] \u001b[39mfor\u001b[39;00m y \u001b[39min\u001b[39;00m y_val]}, index\u001b[39m=\u001b[39midx_val)\n\u001b[0;32m      4\u001b[0m predictions\u001b[39m.\u001b[39miplot(kind\u001b[39m=\u001b[39m\u001b[39m'\u001b[39m\u001b[39mspread\u001b[39m\u001b[39m'\u001b[39m)\n",
      "\u001b[1;31mNameError\u001b[0m: name 'lstm_predictions' is not defined"
     ]
    }
   ],
   "source": [
    "predictions = pd.DataFrame(data={\n",
    "    'LSTM predictions': [y[0] for y in lstm_predictions],\n",
    "    'Actuals': [y[0] for y in y_val]}, index=idx_val)\n",
    "predictions.iplot(kind='spread')"
   ]
  },
  {
   "cell_type": "code",
   "execution_count": 6,
   "metadata": {},
   "outputs": [
    {
     "ename": "NameError",
     "evalue": "name 'target_Haavik' is not defined",
     "output_type": "error",
     "traceback": [
      "\u001b[1;31m---------------------------------------------------------------------------\u001b[0m",
      "\u001b[1;31mNameError\u001b[0m                                 Traceback (most recent call last)",
      "Cell \u001b[1;32mIn[6], line 1\u001b[0m\n\u001b[1;32m----> 1\u001b[0m mean_value \u001b[39m=\u001b[39m np\u001b[39m.\u001b[39mmean(target_Haavik\u001b[39m.\u001b[39mvalues)\n\u001b[0;32m      2\u001b[0m val_comparisons \u001b[39m=\u001b[39m pd\u001b[39m.\u001b[39mDataFrame(data\u001b[39m=\u001b[39m{\n\u001b[0;32m      3\u001b[0m     \u001b[39m'\u001b[39m\u001b[39mcnn\u001b[39m\u001b[39m'\u001b[39m: [cnn_val_mae, mean_squared_error(y_val, cnn_predictions, squared\u001b[39m=\u001b[39m\u001b[39mFalse\u001b[39;00m), mean_squared_error(y_val, cnn_predictions, squared\u001b[39m=\u001b[39m\u001b[39mFalse\u001b[39;00m)\u001b[39m/\u001b[39m mean_value],\n\u001b[0;32m      4\u001b[0m     \u001b[39m'\u001b[39m\u001b[39mlstm\u001b[39m\u001b[39m'\u001b[39m: [lstm_val_mae, mean_squared_error(y_val, lstm_predictions, squared\u001b[39m=\u001b[39m\u001b[39mFalse\u001b[39;00m), mean_squared_error(y_val, lstm_predictions, squared\u001b[39m=\u001b[39m\u001b[39mFalse\u001b[39;00m)\u001b[39m/\u001b[39m mean_value],\n\u001b[0;32m      5\u001b[0m     \u001b[39m'\u001b[39m\u001b[39mmlp\u001b[39m\u001b[39m'\u001b[39m: [mlp_val_mae, mean_squared_error(y_val, mlp_predictions, squared\u001b[39m=\u001b[39m\u001b[39mFalse\u001b[39;00m), mean_squared_error(y_val, mlp_predictions, squared\u001b[39m=\u001b[39m\u001b[39mFalse\u001b[39;00m)\u001b[39m/\u001b[39m mean_value],\n\u001b[0;32m      6\u001b[0m }, index\u001b[39m=\u001b[39m[\u001b[39m'\u001b[39m\u001b[39mMAE\u001b[39m\u001b[39m'\u001b[39m, \u001b[39m'\u001b[39m\u001b[39mRMSE\u001b[39m\u001b[39m'\u001b[39m, \u001b[39m'\u001b[39m\u001b[39mNRMSE\u001b[39m\u001b[39m'\u001b[39m])\n\u001b[0;32m      7\u001b[0m val_comparisons\n",
      "\u001b[1;31mNameError\u001b[0m: name 'target_Haavik' is not defined"
     ]
    }
   ],
   "source": [
    "mean_value = np.mean(target_Haavik.values)\n",
    "val_comparisons = pd.DataFrame(data={\n",
    "    'cnn': [cnn_val_mae, mean_squared_error(y_val, cnn_predictions, squared=False), mean_squared_error(y_val, cnn_predictions, squared=False)/ mean_value],\n",
    "    'lstm': [lstm_val_mae, mean_squared_error(y_val, lstm_predictions, squared=False), mean_squared_error(y_val, lstm_predictions, squared=False)/ mean_value],\n",
    "    'mlp': [mlp_val_mae, mean_squared_error(y_val, mlp_predictions, squared=False), mean_squared_error(y_val, mlp_predictions, squared=False)/ mean_value],\n",
    "}, index=['MAE', 'RMSE', 'NRMSE'])\n",
    "val_comparisons"
   ]
  },
  {
   "cell_type": "code",
   "execution_count": 7,
   "metadata": {},
   "outputs": [
    {
     "ename": "NameError",
     "evalue": "name 'scaler' is not defined",
     "output_type": "error",
     "traceback": [
      "\u001b[1;31m---------------------------------------------------------------------------\u001b[0m",
      "\u001b[1;31mNameError\u001b[0m                                 Traceback (most recent call last)",
      "Cell \u001b[1;32mIn[7], line 1\u001b[0m\n\u001b[1;32m----> 1\u001b[0m y_test \u001b[39m=\u001b[39m scaler\u001b[39m.\u001b[39minverse_transform(y_test)\n\u001b[0;32m      2\u001b[0m lstm_test_predictions \u001b[39m=\u001b[39m lstm\u001b[39m.\u001b[39mpredict(X_test)\n\u001b[0;32m      3\u001b[0m lstm_test_predictions \u001b[39m=\u001b[39m scaler\u001b[39m.\u001b[39minverse_transform(lstm_test_predictions\u001b[39m.\u001b[39mreshape(\u001b[39m-\u001b[39m\u001b[39m1\u001b[39m,\u001b[39m1\u001b[39m))\n",
      "\u001b[1;31mNameError\u001b[0m: name 'scaler' is not defined"
     ]
    }
   ],
   "source": [
    "y_test = scaler.inverse_transform(y_test)\n",
    "lstm_test_predictions = lstm.predict(X_test)\n",
    "lstm_test_predictions = scaler.inverse_transform(lstm_test_predictions.reshape(-1,1))\n",
    "lstm_test_mae = mean_absolute_error(y_test, lstm_test_predictions)\n",
    "print(\"Mean Absolute Error lstm on test data:\", lstm_test_mae)\n",
    "print(\"RMSE on test data:\", mean_squared_error(y_test, lstm_test_predictions, squared=False))\n",
    "print(\"NRSME on test data\", mean_squared_error(y_test, lstm_test_predictions, squared=False)/ mean_value)"
   ]
  },
  {
   "cell_type": "code",
   "execution_count": null,
   "metadata": {},
   "outputs": [],
   "source": [
    "test_predictions = pd.DataFrame(data={\n",
    "    'LSTM predictions': [y[0] for y in lstm_test_predictions],\n",
    "    'Actuals': [y[0] for y in y_test]}, index=target_Haavik.index[len(target_data)-len(y_test):])\n",
    "test_predictions.iplot(kind='spread')"
   ]
  },
  {
   "cell_type": "code",
   "execution_count": null,
   "metadata": {},
   "outputs": [],
   "source": [
    "y_train = scaler.inverse_transform(y_train)\n",
    "lstm_train_predictions = lstm.predict(X_train)\n",
    "lstm_train_predictions = scaler.inverse_transform(lstm_train_predictions.reshape(-1,1))\n",
    "lstm_test_mae = mean_absolute_error(y_train, lstm_train_predictions)\n",
    "print(\"Mean Absolute Error lstm on train data:\", lstm_test_mae)\n",
    "print(\"RMSE on train data:\", mean_squared_error(y_train, lstm_train_predictions, squared=False))\n",
    "print(\"NRSME on train data\", mean_squared_error(y_train, lstm_train_predictions, squared=False)/ mean_value)"
   ]
  },
  {
   "cell_type": "code",
   "execution_count": null,
   "metadata": {},
   "outputs": [],
   "source": [
    "val = [x[0] for x in X_val]\n",
    "history = [x for x in val]\n",
    "p = list()\n",
    "for i in range(len(val)):\n",
    "\tyhat = history[-1]\n",
    "\tp.append(yhat)\n",
    "\tobs = val[i]\n",
    "\thistory.append(obs)\n",
    "print(\"Mean Absolute Error:\", mean_absolute_error(y_val, scaler.inverse_transform(p)))\n",
    "print(\"RMSE:\", mean_squared_error(y_val, scaler.inverse_transform(p), squared=False))"
   ]
  }
 ],
 "metadata": {
  "kernelspec": {
   "display_name": "Python 3",
   "language": "python",
   "name": "python3"
  },
  "language_info": {
   "codemirror_mode": {
    "name": "ipython",
    "version": 3
   },
   "file_extension": ".py",
   "mimetype": "text/x-python",
   "name": "python",
   "nbconvert_exporter": "python",
   "pygments_lexer": "ipython3",
   "version": "3.10.7"
  },
  "orig_nbformat": 4,
  "vscode": {
   "interpreter": {
    "hash": "a74f7ce21f6bee90c696f81c1b05feea5b0771b1a6bf085ce5fd8f9cc559567a"
   }
  }
 },
 "nbformat": 4,
 "nbformat_minor": 2
}
