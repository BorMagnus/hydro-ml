{
 "cells": [
  {
   "cell_type": "code",
   "execution_count": 83,
   "metadata": {},
   "outputs": [],
   "source": [
    "import pandas as pd\n",
    "from sklearn.preprocessing import MinMaxScaler\n",
    "from tensorflow.keras import Model\n",
    "from tensorflow.keras.layers import Input, Dense, SimpleRNN\n",
    "from tensorflow.keras.layers import Layer\n",
    "from tensorflow.keras.metrics import mean_squared_error\n",
    "from tensorflow.keras.models import Sequential\n",
    "import numpy as np\n",
    "import tensorflow.keras.backend as K"
   ]
  },
  {
   "cell_type": "code",
   "execution_count": 84,
   "metadata": {},
   "outputs": [],
   "source": [
    "def get_data(path):\n",
    "    data = []\n",
    "    for i in [\"train\", \"val\", \"test\"]:\n",
    "        data.append(pd.read_csv(path + i + \".csv\", index_col=\"Datetime\"))\n",
    "    return data[0], data[1], data[2]\n",
    "# Load data\n",
    "#path = '../data/clean_data/univariate_Q_Kallveit/'\n",
    "data = pd.read_csv(\"../data/clean_data/univariate_Q_Kallveit/univariate_Q_Kallveit.csv\", index_col=\"Datetime\")"
   ]
  },
  {
   "cell_type": "code",
   "execution_count": 85,
   "metadata": {},
   "outputs": [],
   "source": [
    "def format_data(time_steps, train_percent, scale_data=True):\n",
    "    dat = data.values\n",
    "    Y_ind = np.arange(time_steps, len(dat), 1)\n",
    "    Y = dat[Y_ind]\n",
    "    rows_x = len(Y)\n",
    "    X = dat[0:rows_x]\n",
    "    for i in range(time_steps-1):\n",
    "        temp = dat[i+1:rows_x+i+1]\n",
    "        X = np.column_stack((X, temp))\n",
    "    # random permutation with fixed seed\n",
    "    rand = np.random.RandomState(seed=13)\n",
    "    idx = rand.permutation(rows_x)\n",
    "    split = int(train_percent*rows_x)\n",
    "    train_ind = idx[0:split]\n",
    "    test_ind = idx[split:]\n",
    "    trainX = X[train_ind]\n",
    "    trainY = Y[train_ind]\n",
    "    testX = X[test_ind]\n",
    "    testY = Y[test_ind]\n",
    "    trainX = np.reshape(trainX, (len(trainX), time_steps, 1))\n",
    "    testX = np.reshape(testX, (len(testX), time_steps, 1))\n",
    "    return trainX, trainY, testX, testY"
   ]
  },
  {
   "cell_type": "code",
   "execution_count": 86,
   "metadata": {},
   "outputs": [],
   "source": [
    "# Set up parameters\n",
    "time_steps = 6\n",
    "hidden_units = 4\n",
    "epochs = 30\n",
    "batch_size = 32 # 32, 64, 128, 256\n",
    "\n",
    "\n",
    "# Create a traditional RNN network\n",
    "def create_RNN(hidden_units, dense_units, input_shape, activation):\n",
    "    model = Sequential()\n",
    "    model.add(SimpleRNN(hidden_units, input_shape=input_shape, activation=activation[0]))\n",
    "    model.add(Dense(units=dense_units, activation=activation[1]))\n",
    "    model.compile(loss='mse', optimizer='adam')\n",
    "    return model\n",
    "\n",
    "model_RNN = create_RNN(hidden_units=hidden_units, dense_units=1,\n",
    "                       input_shape=(time_steps,1), activation=['tanh', 'tanh'])"
   ]
  },
  {
   "cell_type": "code",
   "execution_count": 87,
   "metadata": {},
   "outputs": [
    {
     "name": "stdout",
     "output_type": "stream",
     "text": [
      "Epoch 1/30\n",
      "1246/1246 - 2s - loss: 88.7397 - val_loss: 86.1185 - 2s/epoch - 1ms/step\n",
      "Epoch 2/30\n",
      "1246/1246 - 1s - loss: 87.4491 - val_loss: 86.0802 - 1s/epoch - 856us/step\n",
      "Epoch 3/30\n",
      "1246/1246 - 1s - loss: 87.4221 - val_loss: 86.0622 - 1s/epoch - 853us/step\n",
      "Epoch 4/30\n",
      "1246/1246 - 1s - loss: 87.4094 - val_loss: 86.0535 - 1s/epoch - 874us/step\n",
      "Epoch 5/30\n",
      "1246/1246 - 1s - loss: 87.4031 - val_loss: 86.0490 - 1s/epoch - 871us/step\n",
      "Epoch 6/30\n",
      "1246/1246 - 1s - loss: 87.3998 - val_loss: 86.0468 - 1s/epoch - 859us/step\n",
      "Epoch 7/30\n",
      "1246/1246 - 1s - loss: 87.3982 - val_loss: 86.0455 - 1s/epoch - 903us/step\n",
      "Epoch 8/30\n",
      "1246/1246 - 1s - loss: 87.3973 - val_loss: 86.0449 - 1s/epoch - 878us/step\n",
      "Epoch 9/30\n",
      "1246/1246 - 1s - loss: 87.3968 - val_loss: 86.0446 - 1s/epoch - 890us/step\n",
      "Epoch 10/30\n",
      "1246/1246 - 1s - loss: 87.3965 - val_loss: 86.0444 - 1s/epoch - 872us/step\n",
      "Epoch 11/30\n",
      "1246/1246 - 1s - loss: 87.3964 - val_loss: 86.0443 - 1s/epoch - 891us/step\n",
      "Epoch 12/30\n",
      "1246/1246 - 1s - loss: 87.3963 - val_loss: 86.0442 - 1s/epoch - 915us/step\n",
      "Epoch 13/30\n",
      "1246/1246 - 1s - loss: 87.3963 - val_loss: 86.0442 - 1s/epoch - 924us/step\n",
      "Epoch 14/30\n",
      "1246/1246 - 1s - loss: 87.3963 - val_loss: 86.0442 - 1s/epoch - 925us/step\n",
      "Epoch 15/30\n",
      "1246/1246 - 1s - loss: 87.3962 - val_loss: 86.0442 - 1s/epoch - 961us/step\n",
      "Epoch 16/30\n",
      "1246/1246 - 1s - loss: 87.3963 - val_loss: 86.0442 - 1s/epoch - 993us/step\n",
      "Epoch 17/30\n",
      "1246/1246 - 1s - loss: 87.3962 - val_loss: 86.0442 - 1s/epoch - 940us/step\n",
      "Epoch 18/30\n",
      "1246/1246 - 1s - loss: 87.3962 - val_loss: 86.0442 - 1s/epoch - 931us/step\n",
      "Epoch 19/30\n",
      "1246/1246 - 1s - loss: 87.3963 - val_loss: 86.0442 - 1s/epoch - 961us/step\n",
      "Epoch 20/30\n",
      "1246/1246 - 1s - loss: 87.3963 - val_loss: 86.0442 - 1s/epoch - 907us/step\n",
      "Epoch 21/30\n",
      "1246/1246 - 1s - loss: 87.3963 - val_loss: 86.0442 - 1s/epoch - 942us/step\n",
      "Epoch 22/30\n",
      "1246/1246 - 1s - loss: 87.3962 - val_loss: 86.0442 - 1s/epoch - 873us/step\n",
      "Epoch 23/30\n",
      "1246/1246 - 1s - loss: 87.3963 - val_loss: 86.0442 - 1s/epoch - 891us/step\n",
      "Epoch 24/30\n",
      "1246/1246 - 1s - loss: 87.3962 - val_loss: 86.0442 - 1s/epoch - 913us/step\n",
      "Epoch 25/30\n",
      "1246/1246 - 1s - loss: 87.3962 - val_loss: 86.0442 - 1s/epoch - 909us/step\n",
      "Epoch 26/30\n",
      "1246/1246 - 1s - loss: 87.3962 - val_loss: 86.0442 - 1s/epoch - 881us/step\n",
      "Epoch 27/30\n",
      "1246/1246 - 1s - loss: 87.3963 - val_loss: 86.0442 - 1s/epoch - 907us/step\n",
      "Epoch 28/30\n",
      "1246/1246 - 1s - loss: 87.3962 - val_loss: 86.0442 - 1s/epoch - 922us/step\n",
      "Epoch 29/30\n",
      "1246/1246 - 1s - loss: 87.3962 - val_loss: 86.0442 - 1s/epoch - 934us/step\n",
      "Epoch 30/30\n",
      "1246/1246 - 1s - loss: 87.3963 - val_loss: 86.0442 - 1s/epoch - 923us/step\n",
      "1385/1385 [==============================] - 1s 653us/step - loss: 87.2610\n",
      "594/594 [==============================] - 0s 630us/step - loss: 88.3765\n"
     ]
    }
   ],
   "source": [
    "# Generate the dataset for the network\n",
    "trainX, trainY, testX, testY  = format_data(time_steps, 0.7)\n",
    "# Train the network\n",
    "model_RNN.fit(trainX, trainY, epochs=epochs, batch_size=batch_size, verbose=2, validation_split=0.1)\n",
    "\n",
    "# Evalute model\n",
    "train_mse = model_RNN.evaluate(trainX, trainY)\n",
    "test_mse = model_RNN.evaluate(testX, testY)"
   ]
  },
  {
   "cell_type": "code",
   "execution_count": 88,
   "metadata": {},
   "outputs": [
    {
     "name": "stdout",
     "output_type": "stream",
     "text": [
      "Train set MSE =  87.26095581054688\n",
      "Test set MSE =  88.37645721435547\n"
     ]
    }
   ],
   "source": [
    "# Print error\n",
    "print(\"Train set MSE = \", train_mse)\n",
    "print(\"Test set MSE = \", test_mse)"
   ]
  },
  {
   "cell_type": "code",
   "execution_count": 89,
   "metadata": {},
   "outputs": [],
   "source": [
    "# Add attention layer to the deep learning network\n",
    "class attention(Layer):\n",
    "    def __init__(self,**kwargs):\n",
    "        super().__init__(**kwargs)\n",
    "\n",
    "    def build(self,input_shape):\n",
    "        self.W=self.add_weight(name='attention_weight', shape=(input_shape[-1],1),\n",
    "                               initializer='random_normal', trainable=True)\n",
    "        self.b=self.add_weight(name='attention_bias', shape=(input_shape[1],1),\n",
    "                               initializer='zeros', trainable=True)\n",
    "        super().build(input_shape)\n",
    "\n",
    "    def call(self,x):\n",
    "        # Alignment scores. Pass them through tanh function\n",
    "        e = K.tanh(K.dot(x,self.W)+self.b)\n",
    "        # Remove dimension of size 1\n",
    "        e = K.squeeze(e, axis=-1)\n",
    "        # Compute the weights\n",
    "        alpha = K.softmax(e)\n",
    "        # Reshape to tensorFlow format\n",
    "        alpha = K.expand_dims(alpha, axis=-1)\n",
    "        # Compute the context vector\n",
    "        context = x * alpha\n",
    "        context = K.sum(context, axis=1)\n",
    "        return context"
   ]
  },
  {
   "cell_type": "code",
   "execution_count": 90,
   "metadata": {},
   "outputs": [],
   "source": [
    "def create_RNN_with_attention(hidden_units, dense_units, input_shape, activation):\n",
    "    x = Input(shape=input_shape)\n",
    "    RNN_layer = SimpleRNN(hidden_units, return_sequences=True, activation=activation)(x)\n",
    "    attention_layer = attention()(RNN_layer)\n",
    "    outputs = Dense(dense_units, trainable=True, activation=activation)(attention_layer)\n",
    "    model = Model(x,outputs)\n",
    "    model.compile(loss='mse', optimizer='adam')\n",
    "    return model"
   ]
  },
  {
   "cell_type": "code",
   "execution_count": 91,
   "metadata": {},
   "outputs": [
    {
     "name": "stdout",
     "output_type": "stream",
     "text": [
      "Model: \"model_9\"\n",
      "_________________________________________________________________\n",
      " Layer (type)                Output Shape              Param #   \n",
      "=================================================================\n",
      " input_10 (InputLayer)       [(None, 6, 1)]            0         \n",
      "                                                                 \n",
      " simple_rnn_18 (SimpleRNN)   (None, 6, 4)              24        \n",
      "                                                                 \n",
      " attention_9 (attention)     (None, 4)                 10        \n",
      "                                                                 \n",
      " dense_18 (Dense)            (None, 1)                 5         \n",
      "                                                                 \n",
      "=================================================================\n",
      "Total params: 39\n",
      "Trainable params: 39\n",
      "Non-trainable params: 0\n",
      "_________________________________________________________________\n",
      "Epoch 1/30\n",
      "1246/1246 - 2s - loss: 91.4410 - val_loss: 86.2011 - 2s/epoch - 2ms/step\n",
      "Epoch 2/30\n",
      "1246/1246 - 1s - loss: 87.4849 - val_loss: 86.0930 - 1s/epoch - 976us/step\n",
      "Epoch 3/30\n",
      "1246/1246 - 1s - loss: 87.4284 - val_loss: 86.0649 - 1s/epoch - 1ms/step\n",
      "Epoch 4/30\n",
      "1246/1246 - 1s - loss: 87.4108 - val_loss: 86.0541 - 1s/epoch - 963us/step\n",
      "Epoch 5/30\n",
      "1246/1246 - 1s - loss: 87.4034 - val_loss: 86.0492 - 1s/epoch - 964us/step\n",
      "Epoch 6/30\n",
      "1246/1246 - 1s - loss: 87.3999 - val_loss: 86.0468 - 1s/epoch - 960us/step\n",
      "Epoch 7/30\n",
      "1246/1246 - 1s - loss: 87.3981 - val_loss: 86.0455 - 1s/epoch - 976us/step\n",
      "Epoch 8/30\n",
      "1246/1246 - 1s - loss: 87.3972 - val_loss: 86.0449 - 1s/epoch - 1ms/step\n",
      "Epoch 9/30\n",
      "1246/1246 - 1s - loss: 87.3968 - val_loss: 86.0446 - 1s/epoch - 1ms/step\n",
      "Epoch 10/30\n",
      "1246/1246 - 1s - loss: 87.3965 - val_loss: 86.0444 - 1s/epoch - 1ms/step\n",
      "Epoch 11/30\n",
      "1246/1246 - 1s - loss: 87.3964 - val_loss: 86.0443 - 1s/epoch - 1ms/step\n",
      "Epoch 12/30\n",
      "1246/1246 - 1s - loss: 87.3963 - val_loss: 86.0442 - 1s/epoch - 998us/step\n",
      "Epoch 13/30\n",
      "1246/1246 - 1s - loss: 87.3963 - val_loss: 86.0442 - 1s/epoch - 975us/step\n",
      "Epoch 14/30\n",
      "1246/1246 - 1s - loss: 87.3963 - val_loss: 86.0442 - 1s/epoch - 966us/step\n",
      "Epoch 15/30\n",
      "1246/1246 - 1s - loss: 87.3962 - val_loss: 86.0442 - 1s/epoch - 968us/step\n",
      "Epoch 16/30\n",
      "1246/1246 - 1s - loss: 87.3962 - val_loss: 86.0442 - 1s/epoch - 995us/step\n",
      "Epoch 17/30\n",
      "1246/1246 - 1s - loss: 87.3963 - val_loss: 86.0442 - 1s/epoch - 950us/step\n",
      "Epoch 18/30\n",
      "1246/1246 - 1s - loss: 87.3963 - val_loss: 86.0442 - 1s/epoch - 940us/step\n",
      "Epoch 19/30\n",
      "1246/1246 - 1s - loss: 87.3962 - val_loss: 86.0442 - 1s/epoch - 954us/step\n",
      "Epoch 20/30\n",
      "1246/1246 - 1s - loss: 87.3962 - val_loss: 86.0442 - 1s/epoch - 953us/step\n",
      "Epoch 21/30\n",
      "1246/1246 - 1s - loss: 87.3963 - val_loss: 86.0442 - 1s/epoch - 962us/step\n",
      "Epoch 22/30\n",
      "1246/1246 - 1s - loss: 87.3962 - val_loss: 86.0442 - 1s/epoch - 975us/step\n",
      "Epoch 23/30\n",
      "1246/1246 - 1s - loss: 87.3962 - val_loss: 86.0442 - 1s/epoch - 993us/step\n",
      "Epoch 24/30\n",
      "1246/1246 - 1s - loss: 87.3962 - val_loss: 86.0442 - 1s/epoch - 965us/step\n",
      "Epoch 25/30\n",
      "1246/1246 - 1s - loss: 87.3962 - val_loss: 86.0442 - 1s/epoch - 958us/step\n",
      "Epoch 26/30\n",
      "1246/1246 - 1s - loss: 87.3962 - val_loss: 86.0442 - 1s/epoch - 959us/step\n",
      "Epoch 27/30\n",
      "1246/1246 - 1s - loss: 87.3962 - val_loss: 86.0442 - 1s/epoch - 962us/step\n",
      "Epoch 28/30\n",
      "1246/1246 - 1s - loss: 87.3963 - val_loss: 86.0442 - 1s/epoch - 983us/step\n",
      "Epoch 29/30\n",
      "1246/1246 - 1s - loss: 87.3962 - val_loss: 86.0442 - 1s/epoch - 1ms/step\n",
      "Epoch 30/30\n",
      "1246/1246 - 1s - loss: 87.3962 - val_loss: 86.0442 - 1s/epoch - 978us/step\n"
     ]
    },
    {
     "data": {
      "text/plain": [
       "<keras.callbacks.History at 0x1e85df17708>"
      ]
     },
     "execution_count": 91,
     "metadata": {},
     "output_type": "execute_result"
    }
   ],
   "source": [
    "# Create the model with attention, train and evaluate\n",
    "model_attention = create_RNN_with_attention(hidden_units=hidden_units, dense_units=1,\n",
    "                                  input_shape=(time_steps,1), activation='tanh')\n",
    "model_attention.summary()\n",
    "model_attention.fit(trainX, trainY, epochs=epochs, batch_size=batch_size, verbose=2, validation_split=0.1)"
   ]
  },
  {
   "cell_type": "code",
   "execution_count": 92,
   "metadata": {},
   "outputs": [
    {
     "name": "stdout",
     "output_type": "stream",
     "text": [
      "1385/1385 [==============================] - 1s 659us/step - loss: 87.2610\n",
      "594/594 [==============================] - 0s 663us/step - loss: 88.3765\n",
      "Train set MSE with attention =  87.26095581054688\n",
      "Test set MSE with attention =  88.37645721435547\n"
     ]
    }
   ],
   "source": [
    "# Evalute model\n",
    "train_mse_attn = model_attention.evaluate(trainX, trainY)\n",
    "test_mse_attn = model_attention.evaluate(testX, testY)\n",
    "\n",
    "# Print error\n",
    "print(\"Train set MSE with attention = \", train_mse_attn)\n",
    "print(\"Test set MSE with attention = \", test_mse_attn)"
   ]
  }
 ],
 "metadata": {
  "kernelspec": {
   "display_name": "my_env",
   "language": "python",
   "name": "python3"
  },
  "language_info": {
   "codemirror_mode": {
    "name": "ipython",
    "version": 3
   },
   "file_extension": ".py",
   "mimetype": "text/x-python",
   "name": "python",
   "nbconvert_exporter": "python",
   "pygments_lexer": "ipython3",
   "version": "3.7.9 (tags/v3.7.9:13c94747c7, Aug 17 2020, 18:58:18) [MSC v.1900 64 bit (AMD64)]"
  },
  "orig_nbformat": 4,
  "vscode": {
   "interpreter": {
    "hash": "ab06ce908a8abf9762b166587a79a7b3fe0760e63d13e53395d21ef1a2a21042"
   }
  }
 },
 "nbformat": 4,
 "nbformat_minor": 2
}
