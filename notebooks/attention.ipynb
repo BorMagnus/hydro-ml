{
 "cells": [
  {
   "cell_type": "code",
   "execution_count": 48,
   "metadata": {},
   "outputs": [],
   "source": [
    "import pandas as pd\n",
    "from sklearn.preprocessing import MinMaxScaler\n",
    "from tensorflow.keras import Model\n",
    "from tensorflow.keras.layers import Input, Dense, SimpleRNN\n",
    "from tensorflow.keras.layers import Layer\n",
    "from tensorflow.keras.metrics import mean_squared_error\n",
    "from tensorflow.keras.models import Sequential\n",
    "import numpy as np\n",
    "import tensorflow.keras.backend as K"
   ]
  },
  {
   "cell_type": "code",
   "execution_count": 49,
   "metadata": {},
   "outputs": [],
   "source": [
    "def get_data(path):\n",
    "    data = []\n",
    "    for i in [\"train\", \"val\", \"test\"]:\n",
    "        data.append(pd.read_csv(path + i + \".csv\", index_col=\"Datetime\"))\n",
    "    return data[0], data[1], data[2]\n",
    "# Load data\n",
    "#path = '../data/clean_data/univariate_Q_Kallveit/'\n",
    "train = pd.read_csv(\"../data/clean_data/univariate_Q_Kallveit/univariate_Q_Kallveit.csv\", index_col=\"Datetime\")"
   ]
  },
  {
   "cell_type": "code",
   "execution_count": 50,
   "metadata": {},
   "outputs": [],
   "source": [
    "def format_data(time_steps, train_percent, scale_data=True):\n",
    "    dat = train.values\n",
    "    Y_ind = np.arange(time_steps, len(dat), 1)\n",
    "    Y = dat[Y_ind]\n",
    "    rows_x = len(Y)\n",
    "    X = dat[0:rows_x]\n",
    "    for i in range(time_steps-1):\n",
    "        temp = dat[i+1:rows_x+i+1]\n",
    "        X = np.column_stack((X, temp))\n",
    "    # random permutation with fixed seed\n",
    "    rand = np.random.RandomState(seed=13)\n",
    "    idx = rand.permutation(rows_x)\n",
    "    split = int(train_percent*rows_x)\n",
    "    train_ind = idx[0:split]\n",
    "    test_ind = idx[split:]\n",
    "    trainX = X[train_ind]\n",
    "    trainY = Y[train_ind]\n",
    "    testX = X[test_ind]\n",
    "    testY = Y[test_ind]\n",
    "    trainX = np.reshape(trainX, (len(trainX), time_steps, 1))\n",
    "    testX = np.reshape(testX, (len(testX), time_steps, 1))\n",
    "    return trainX, trainY, testX, testY"
   ]
  },
  {
   "cell_type": "code",
   "execution_count": 51,
   "metadata": {},
   "outputs": [],
   "source": [
    "# Set up parameters\n",
    "time_steps = 20\n",
    "hidden_units = 4\n",
    "epochs = 30\n",
    "batch_size = 128 # 32, 64, 128, 256\n",
    "\n",
    "\n",
    "# Create a traditional RNN network\n",
    "def create_RNN(hidden_units, dense_units, input_shape, activation):\n",
    "    model = Sequential()\n",
    "    model.add(SimpleRNN(hidden_units, input_shape=input_shape, activation=activation[0]))\n",
    "    model.add(Dense(units=dense_units, activation=activation[1]))\n",
    "    model.compile(loss='mse', optimizer='adam')\n",
    "    return model\n",
    "\n",
    "model_RNN = create_RNN(hidden_units=hidden_units, dense_units=1,\n",
    "                       input_shape=(time_steps,1), activation=['tanh', 'tanh'])"
   ]
  },
  {
   "cell_type": "code",
   "execution_count": 52,
   "metadata": {},
   "outputs": [
    {
     "name": "stdout",
     "output_type": "stream",
     "text": [
      "Epoch 1/30\n",
      "346/346 - 1s - loss: 87.6886 - 1s/epoch - 3ms/step\n",
      "Epoch 2/30\n",
      "346/346 - 1s - loss: 87.5123 - 541ms/epoch - 2ms/step\n",
      "Epoch 3/30\n",
      "346/346 - 1s - loss: 87.4886 - 551ms/epoch - 2ms/step\n",
      "Epoch 4/30\n",
      "346/346 - 1s - loss: 87.4864 - 520ms/epoch - 2ms/step\n",
      "Epoch 5/30\n",
      "346/346 - 1s - loss: 87.4849 - 561ms/epoch - 2ms/step\n",
      "Epoch 6/30\n",
      "346/346 - 1s - loss: 87.4837 - 516ms/epoch - 1ms/step\n",
      "Epoch 7/30\n",
      "346/346 - 1s - loss: 87.4828 - 521ms/epoch - 2ms/step\n",
      "Epoch 8/30\n",
      "346/346 - 1s - loss: 87.4822 - 519ms/epoch - 2ms/step\n",
      "Epoch 9/30\n",
      "346/346 - 1s - loss: 87.4816 - 539ms/epoch - 2ms/step\n",
      "Epoch 10/30\n",
      "346/346 - 1s - loss: 87.4812 - 522ms/epoch - 2ms/step\n",
      "Epoch 11/30\n",
      "346/346 - 1s - loss: 87.4809 - 519ms/epoch - 2ms/step\n",
      "Epoch 12/30\n",
      "346/346 - 1s - loss: 87.4806 - 538ms/epoch - 2ms/step\n",
      "Epoch 13/30\n",
      "346/346 - 1s - loss: 87.4804 - 550ms/epoch - 2ms/step\n",
      "Epoch 14/30\n",
      "346/346 - 1s - loss: 87.4803 - 578ms/epoch - 2ms/step\n",
      "Epoch 15/30\n",
      "346/346 - 1s - loss: 87.4801 - 521ms/epoch - 2ms/step\n",
      "Epoch 16/30\n",
      "346/346 - 1s - loss: 87.4800 - 503ms/epoch - 1ms/step\n",
      "Epoch 17/30\n",
      "346/346 - 1s - loss: 87.4799 - 533ms/epoch - 2ms/step\n",
      "Epoch 18/30\n",
      "346/346 - 1s - loss: 87.4799 - 529ms/epoch - 2ms/step\n",
      "Epoch 19/30\n",
      "346/346 - 1s - loss: 87.4798 - 526ms/epoch - 2ms/step\n",
      "Epoch 20/30\n",
      "346/346 - 1s - loss: 87.4797 - 558ms/epoch - 2ms/step\n",
      "Epoch 21/30\n",
      "346/346 - 1s - loss: 87.4797 - 527ms/epoch - 2ms/step\n",
      "Epoch 22/30\n",
      "346/346 - 1s - loss: 87.4797 - 519ms/epoch - 1ms/step\n",
      "Epoch 23/30\n",
      "346/346 - 1s - loss: 87.4796 - 524ms/epoch - 2ms/step\n",
      "Epoch 24/30\n",
      "346/346 - 1s - loss: 87.4796 - 532ms/epoch - 2ms/step\n",
      "Epoch 25/30\n",
      "346/346 - 1s - loss: 87.4795 - 535ms/epoch - 2ms/step\n",
      "Epoch 26/30\n",
      "346/346 - 1s - loss: 87.4795 - 572ms/epoch - 2ms/step\n",
      "Epoch 27/30\n",
      "346/346 - 1s - loss: 87.4795 - 541ms/epoch - 2ms/step\n",
      "Epoch 28/30\n",
      "346/346 - 1s - loss: 87.4795 - 546ms/epoch - 2ms/step\n",
      "Epoch 29/30\n",
      "346/346 - 1s - loss: 87.4795 - 533ms/epoch - 2ms/step\n",
      "Epoch 30/30\n",
      "346/346 - 1s - loss: 87.4795 - 513ms/epoch - 1ms/step\n",
      "1384/1384 [==============================] - 1s 875us/step - loss: 87.4796\n",
      "594/594 [==============================] - 1s 912us/step - loss: 87.8499\n"
     ]
    }
   ],
   "source": [
    "# Generate the dataset for the network\n",
    "trainX, trainY, testX, testY  = format_data(time_steps, 0.7)\n",
    "# Train the network\n",
    "model_RNN.fit(trainX, trainY, epochs=epochs, batch_size=batch_size, verbose=2)\n",
    "\n",
    "# Evalute model\n",
    "train_mse = model_RNN.evaluate(trainX, trainY)\n",
    "test_mse = model_RNN.evaluate(testX, testY)"
   ]
  },
  {
   "cell_type": "code",
   "execution_count": 53,
   "metadata": {},
   "outputs": [
    {
     "name": "stdout",
     "output_type": "stream",
     "text": [
      "Train set MSE =  87.47956085205078\n",
      "Test set MSE =  87.84986114501953\n"
     ]
    }
   ],
   "source": [
    "# Print error\n",
    "print(\"Train set MSE = \", train_mse)\n",
    "print(\"Test set MSE = \", test_mse)"
   ]
  },
  {
   "cell_type": "code",
   "execution_count": 54,
   "metadata": {},
   "outputs": [],
   "source": [
    "# Add attention layer to the deep learning network\n",
    "class attention(Layer):\n",
    "    def __init__(self,**kwargs):\n",
    "        super().__init__(**kwargs)\n",
    "\n",
    "    def build(self,input_shape):\n",
    "        self.W=self.add_weight(name='attention_weight', shape=(input_shape[-1],1),\n",
    "                               initializer='random_normal', trainable=True)\n",
    "        self.b=self.add_weight(name='attention_bias', shape=(input_shape[1],1),\n",
    "                               initializer='zeros', trainable=True)\n",
    "        super().build(input_shape)\n",
    "\n",
    "    def call(self,x):\n",
    "        # Alignment scores. Pass them through tanh function\n",
    "        e = K.tanh(K.dot(x,self.W)+self.b)\n",
    "        # Remove dimension of size 1\n",
    "        e = K.squeeze(e, axis=-1)\n",
    "        # Compute the weights\n",
    "        alpha = K.softmax(e)\n",
    "        # Reshape to tensorFlow format\n",
    "        alpha = K.expand_dims(alpha, axis=-1)\n",
    "        # Compute the context vector\n",
    "        context = x * alpha\n",
    "        context = K.sum(context, axis=1)\n",
    "        return context"
   ]
  },
  {
   "cell_type": "code",
   "execution_count": 55,
   "metadata": {},
   "outputs": [],
   "source": [
    "def create_RNN_with_attention(hidden_units, dense_units, input_shape, activation):\n",
    "    x = Input(shape=input_shape)\n",
    "    RNN_layer = SimpleRNN(hidden_units, return_sequences=True, activation=activation)(x)\n",
    "    attention_layer = attention()(RNN_layer)\n",
    "    outputs = Dense(dense_units, trainable=True, activation=activation)(attention_layer)\n",
    "    model = Model(x,outputs)\n",
    "    model.compile(loss='mse', optimizer='adam')\n",
    "    return model"
   ]
  },
  {
   "cell_type": "code",
   "execution_count": 56,
   "metadata": {},
   "outputs": [
    {
     "name": "stdout",
     "output_type": "stream",
     "text": [
      "Model: \"model_6\"\n",
      "_________________________________________________________________\n",
      " Layer (type)                Output Shape              Param #   \n",
      "=================================================================\n",
      " input_7 (InputLayer)        [(None, 20, 1)]           0         \n",
      "                                                                 \n",
      " simple_rnn_11 (SimpleRNN)   (None, 20, 4)             24        \n",
      "                                                                 \n",
      " attention_6 (attention)     (None, 4)                 24        \n",
      "                                                                 \n",
      " dense_11 (Dense)            (None, 1)                 5         \n",
      "                                                                 \n",
      "=================================================================\n",
      "Total params: 53\n",
      "Trainable params: 53\n",
      "Non-trainable params: 0\n",
      "_________________________________________________________________\n",
      "Epoch 1/30\n",
      "346/346 - 2s - loss: 90.1783 - 2s/epoch - 5ms/step\n",
      "Epoch 2/30\n",
      "346/346 - 1s - loss: 87.6993 - 558ms/epoch - 2ms/step\n",
      "Epoch 3/30\n",
      "346/346 - 1s - loss: 87.6239 - 580ms/epoch - 2ms/step\n",
      "Epoch 4/30\n",
      "346/346 - 1s - loss: 87.5806 - 584ms/epoch - 2ms/step\n",
      "Epoch 5/30\n",
      "346/346 - 1s - loss: 87.5529 - 578ms/epoch - 2ms/step\n",
      "Epoch 6/30\n",
      "346/346 - 1s - loss: 87.5318 - 589ms/epoch - 2ms/step\n",
      "Epoch 7/30\n",
      "346/346 - 1s - loss: 87.4867 - 652ms/epoch - 2ms/step\n",
      "Epoch 8/30\n",
      "346/346 - 1s - loss: 87.4840 - 593ms/epoch - 2ms/step\n",
      "Epoch 9/30\n",
      "346/346 - 1s - loss: 87.4837 - 567ms/epoch - 2ms/step\n",
      "Epoch 10/30\n",
      "346/346 - 1s - loss: 87.4836 - 565ms/epoch - 2ms/step\n",
      "Epoch 11/30\n",
      "346/346 - 1s - loss: 87.4833 - 542ms/epoch - 2ms/step\n",
      "Epoch 12/30\n",
      "346/346 - 1s - loss: 87.4831 - 561ms/epoch - 2ms/step\n",
      "Epoch 13/30\n",
      "346/346 - 1s - loss: 87.4829 - 573ms/epoch - 2ms/step\n",
      "Epoch 14/30\n",
      "346/346 - 1s - loss: 87.4827 - 577ms/epoch - 2ms/step\n",
      "Epoch 15/30\n",
      "346/346 - 1s - loss: 87.4825 - 570ms/epoch - 2ms/step\n",
      "Epoch 16/30\n",
      "346/346 - 1s - loss: 87.4822 - 575ms/epoch - 2ms/step\n",
      "Epoch 17/30\n",
      "346/346 - 1s - loss: 87.4820 - 614ms/epoch - 2ms/step\n",
      "Epoch 18/30\n",
      "346/346 - 1s - loss: 87.4817 - 601ms/epoch - 2ms/step\n",
      "Epoch 19/30\n",
      "346/346 - 1s - loss: 87.4815 - 588ms/epoch - 2ms/step\n",
      "Epoch 20/30\n",
      "346/346 - 1s - loss: 87.4813 - 588ms/epoch - 2ms/step\n",
      "Epoch 21/30\n",
      "346/346 - 1s - loss: 87.4811 - 642ms/epoch - 2ms/step\n",
      "Epoch 22/30\n",
      "346/346 - 1s - loss: 87.4810 - 604ms/epoch - 2ms/step\n",
      "Epoch 23/30\n",
      "346/346 - 1s - loss: 87.4807 - 544ms/epoch - 2ms/step\n",
      "Epoch 24/30\n",
      "346/346 - 1s - loss: 87.4806 - 591ms/epoch - 2ms/step\n",
      "Epoch 25/30\n",
      "346/346 - 1s - loss: 87.4804 - 543ms/epoch - 2ms/step\n",
      "Epoch 26/30\n",
      "346/346 - 1s - loss: 87.4803 - 544ms/epoch - 2ms/step\n",
      "Epoch 27/30\n",
      "346/346 - 1s - loss: 87.4802 - 518ms/epoch - 1ms/step\n",
      "Epoch 28/30\n",
      "346/346 - 1s - loss: 87.4801 - 512ms/epoch - 1ms/step\n",
      "Epoch 29/30\n",
      "346/346 - 1s - loss: 87.4800 - 524ms/epoch - 2ms/step\n",
      "Epoch 30/30\n",
      "346/346 - 1s - loss: 87.4799 - 547ms/epoch - 2ms/step\n"
     ]
    },
    {
     "data": {
      "text/plain": [
       "<keras.callbacks.History at 0x1e85fbefa48>"
      ]
     },
     "execution_count": 56,
     "metadata": {},
     "output_type": "execute_result"
    }
   ],
   "source": [
    "# Create the model with attention, train and evaluate\n",
    "model_attention = create_RNN_with_attention(hidden_units=hidden_units, dense_units=1,\n",
    "                                  input_shape=(time_steps,1), activation='tanh')\n",
    "model_attention.summary()\n",
    "model_attention.fit(trainX, trainY, epochs=epochs, batch_size=batch_size, verbose=2)"
   ]
  },
  {
   "cell_type": "code",
   "execution_count": 57,
   "metadata": {},
   "outputs": [
    {
     "name": "stdout",
     "output_type": "stream",
     "text": [
      "1384/1384 [==============================] - 1s 911us/step - loss: 87.4799\n",
      "594/594 [==============================] - 1s 939us/step - loss: 87.8502\n",
      "Train set MSE with attention =  87.47994232177734\n",
      "Test set MSE with attention =  87.85021209716797\n"
     ]
    }
   ],
   "source": [
    "# Evalute model\n",
    "train_mse_attn = model_attention.evaluate(trainX, trainY)\n",
    "test_mse_attn = model_attention.evaluate(testX, testY)\n",
    "\n",
    "# Print error\n",
    "print(\"Train set MSE with attention = \", train_mse_attn)\n",
    "print(\"Test set MSE with attention = \", test_mse_attn)"
   ]
  }
 ],
 "metadata": {
  "kernelspec": {
   "display_name": "my_env",
   "language": "python",
   "name": "python3"
  },
  "language_info": {
   "codemirror_mode": {
    "name": "ipython",
    "version": 3
   },
   "file_extension": ".py",
   "mimetype": "text/x-python",
   "name": "python",
   "nbconvert_exporter": "python",
   "pygments_lexer": "ipython3",
   "version": "3.7.9"
  },
  "orig_nbformat": 4,
  "vscode": {
   "interpreter": {
    "hash": "ab06ce908a8abf9762b166587a79a7b3fe0760e63d13e53395d21ef1a2a21042"
   }
  }
 },
 "nbformat": 4,
 "nbformat_minor": 2
}
