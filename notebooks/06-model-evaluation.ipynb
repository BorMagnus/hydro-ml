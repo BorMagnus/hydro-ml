{
 "cells": [
  {
   "cell_type": "code",
   "execution_count": 1,
   "metadata": {},
   "outputs": [
    {
     "ename": "ImportError",
     "evalue": "cannot import name 'Analysis' from 'ray.tune' (c:\\Code\\Master\\hydro-ml\\.venv\\lib\\site-packages\\ray\\tune\\__init__.py)",
     "output_type": "error",
     "traceback": [
      "\u001b[1;31m---------------------------------------------------------------------------\u001b[0m",
      "\u001b[1;31mImportError\u001b[0m                               Traceback (most recent call last)",
      "Cell \u001b[1;32mIn[1], line 4\u001b[0m\n\u001b[0;32m      2\u001b[0m \u001b[39mimport\u001b[39;00m \u001b[39mos\u001b[39;00m\n\u001b[0;32m      3\u001b[0m \u001b[39mfrom\u001b[39;00m \u001b[39mray\u001b[39;00m \u001b[39mimport\u001b[39;00m tune\n\u001b[1;32m----> 4\u001b[0m \u001b[39mfrom\u001b[39;00m \u001b[39mray\u001b[39;00m\u001b[39m.\u001b[39;00m\u001b[39mtune\u001b[39;00m \u001b[39mimport\u001b[39;00m Analysis\n",
      "\u001b[1;31mImportError\u001b[0m: cannot import name 'Analysis' from 'ray.tune' (c:\\Code\\Master\\hydro-ml\\.venv\\lib\\site-packages\\ray\\tune\\__init__.py)"
     ]
    }
   ],
   "source": [
    "import torch\n",
    "import os\n",
    "from ray import tune\n",
    "from ray.tune import Analysis"
   ]
  },
  {
   "cell_type": "code",
   "execution_count": 8,
   "metadata": {},
   "outputs": [],
   "source": [
    "from ray.tune.analysis import ExperimentAnalysis\n",
    "\n",
    "# Set the experiment folder path\n",
    "exp_folder_path = \"../ray_results/inflow_forecasting/timestamp\"\n",
    "\n",
    "\n",
    "\n",
    "# Load the trial information\n",
    "#analysis = ExperimentAnalysis(trials=)\n"
   ]
  }
 ],
 "metadata": {
  "kernelspec": {
   "display_name": "hydro-ml",
   "language": "python",
   "name": "hydro-ml"
  },
  "language_info": {
   "codemirror_mode": {
    "name": "ipython",
    "version": 3
   },
   "file_extension": ".py",
   "mimetype": "text/x-python",
   "name": "python",
   "nbconvert_exporter": "python",
   "pygments_lexer": "ipython3",
   "version": "3.10.10"
  },
  "orig_nbformat": 4
 },
 "nbformat": 4,
 "nbformat_minor": 2
}
