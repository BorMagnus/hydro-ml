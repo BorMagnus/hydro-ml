{
 "cells": [
  {
   "cell_type": "code",
   "execution_count": 1,
   "metadata": {},
   "outputs": [],
   "source": [
    "import numpy as np\n",
    "import matplotlib.pyplot as plt\n",
    "import pandas as pd\n",
    "import torch\n",
    "import torch.nn as nn\n",
    "import torch.nn.functional as F\n",
    "import torch.optim as optim\n",
    "from torch.autograd import Variable\n",
    "from sklearn.preprocessing import MinMaxScaler"
   ]
  },
  {
   "cell_type": "code",
   "execution_count": 2,
   "metadata": {},
   "outputs": [
    {
     "name": "stdout",
     "output_type": "stream",
     "text": [
      "torch.Size([128, 24]) torch.Size([128, 1])\n"
     ]
    }
   ],
   "source": [
    "use_GPU = torch.cuda.is_available()\n",
    "if use_GPU:\n",
    "    mode = {\"name\": \"cuda\", \"device\": torch.device(\"cuda\")}\n",
    "else:\n",
    "    mode = {\"name\": \"cpu\", \"device\": torch.device(\"cpu\")}\n",
    "error_criterion = nn.MSELoss().to(mode[\"device\"])\n",
    "loss_criterion = nn.MSELoss().to(mode[\"device\"])\n",
    "\n",
    "in_dim = 1\n",
    "hidden_dim = 64\n",
    "out_dim = 1\n",
    "sequence_length = 24\n",
    "batch_size = 128\n",
    "\n",
    "num_epochs=15\n",
    "num_workers=11\n",
    "lr = 1e-3\n",
    "regularization=1e-6\n",
    "\n",
    "input = torch.randn(batch_size, sequence_length)\n",
    "random_data_y = torch.randn(batch_size, 1)\n",
    "print(input.shape, random_data_y.shape)"
   ]
  },
  {
   "cell_type": "code",
   "execution_count": 3,
   "metadata": {},
   "outputs": [],
   "source": [
    "class FCN(nn.Module):\n",
    "    \n",
    "    def __init__(self, in_dim, hidden_dim, out_dim, sequence_length):\n",
    "\n",
    "        super(FCN, self).__init__()\n",
    "        self.in_dim = in_dim\n",
    "        self.hidden_dim = hidden_dim\n",
    "        self.out_dim = out_dim\n",
    "        self.sequence_length = sequence_length\n",
    "\n",
    "        self.layer_in = nn.Linear(sequence_length, hidden_dim,bias=False)\n",
    "        self.fcn = nn.Linear(hidden_dim, hidden_dim)\n",
    "        self.layer_out = nn.Linear(hidden_dim, out_dim, bias=False)\n",
    "        self.sigmoid = nn.Sigmoid()\n",
    "        self.relu = nn.ReLU()\n",
    "\n",
    "    def forward (self,input):\n",
    "        out = self.layer_in(input)\n",
    "        out = self.sigmoid(out)\n",
    "        out = self.fcn(out)\n",
    "        out = self.sigmoid(out)\n",
    "        out = self.layer_out(out)\n",
    "      \n",
    "        return out"
   ]
  },
  {
   "cell_type": "code",
   "execution_count": 4,
   "metadata": {},
   "outputs": [],
   "source": [
    "class LSTM(nn.Module):\n",
    "    def __init__(self, in_dim, hidden_dim, out_dim):\n",
    "        super(LSTM, self).__init__()\n",
    "        self.in_dim = in_dim\n",
    "        self.hidden_dim = hidden_dim\n",
    "        self.out_dim = out_dim\n",
    "        self.sequence_length = sequence_length\n",
    "        # lstm1, lstm2, linear are all layers in the network\n",
    "        self.lstm1 = nn.LSTMCell(in_dim, hidden_dim)\n",
    "        self.lstm2 = nn.LSTMCell(hidden_dim, hidden_dim)\n",
    "        self.linear = nn.Linear(hidden_dim, hidden_dim)\n",
    "        self.linear_out = nn.Linear(hidden_dim*sequence_length, out_dim)\n",
    "\n",
    "        \n",
    "    def forward(self, y):\n",
    "        outputs = []\n",
    "        h_t = torch.zeros(y.size(0), self.hidden_dim, dtype=torch.float32)\n",
    "        c_t = torch.zeros(y.size(0), self.hidden_dim, dtype=torch.float32)\n",
    "        h_t2 = torch.zeros(y.size(0), self.hidden_dim, dtype=torch.float32)\n",
    "        c_t2 = torch.zeros(y.size(0), self.hidden_dim, dtype=torch.float32)\n",
    "        \n",
    "        for time_step in y.split(1, dim=1):\n",
    "            # N, 1\n",
    "            h_t, c_t = self.lstm1(time_step, (h_t, c_t)) # initial hidden and cell states\n",
    "            h_t2, c_t2 = self.lstm2(h_t, (h_t2, c_t2)) # new hidden and cell states\n",
    "            output = self.linear(h_t2) # output from the last FC layer\n",
    "            outputs.append(output)\n",
    "        # transform list to tensor    \n",
    "        outputs = torch.cat(outputs, dim=1)\n",
    "        out = self.linear_out(outputs)\n",
    "        return out"
   ]
  },
  {
   "cell_type": "code",
   "execution_count": 5,
   "metadata": {},
   "outputs": [],
   "source": [
    "class LSTM2(nn.Module):\n",
    "    def __init__(self, in_dim, hidden_dim, out_dim):\n",
    "        super(LSTM2, self).__init__()\n",
    "        self.in_dim = in_dim\n",
    "        self.hidden_dim = hidden_dim\n",
    "        self.out_dim = out_dim\n",
    "\n",
    "        self.lstm1 = nn.LSTMCell(in_dim, hidden_dim)\n",
    "        self.lstm2 = nn.LSTMCell(hidden_dim, hidden_dim)\n",
    "\n",
    "        self.T_A = nn.Linear(sequence_length*hidden_dim, sequence_length)\n",
    "        \n",
    "        self.linear = nn.Linear(hidden_dim, hidden_dim)\n",
    "        self.linear_out = nn.Linear(hidden_dim, out_dim)\n",
    "\n",
    "        self.sigmoid = nn.Sigmoid()\n",
    "        self.relu = nn.ReLU()\n",
    "        self.softmax = nn.Softmax(dim=0)\n",
    "        \n",
    "    def forward(self, y):\n",
    "        outputs = []\n",
    "        h_t = torch.zeros(y.size(0), self.hidden_dim, dtype=torch.float32)\n",
    "        c_t = torch.zeros(y.size(0), self.hidden_dim, dtype=torch.float32)\n",
    "        h_t2 = torch.zeros(y.size(0), self.hidden_dim, dtype=torch.float32)\n",
    "        c_t2 = torch.zeros(y.size(0), self.hidden_dim, dtype=torch.float32)\n",
    "        \n",
    "        for time_step in y.split(1, dim=1):\n",
    "            h_t, c_t = self.lstm1(time_step, (h_t, c_t)) # initial hidden and cell states\n",
    "            h_t2, c_t2 = self.lstm2(h_t, (h_t2, c_t2)) # new hidden and cell states\n",
    "            output = self.linear(h_t2) # output from the last FC layer\n",
    "            outputs.append(output)\n",
    "            \n",
    "        total_ht = outputs[0]\n",
    "        for i in range(1, len(outputs)):\n",
    "            total_ht = torch.cat((total_ht, outputs[i]), 1)\n",
    "\n",
    "        beta_t =  self.relu(self.T_A(total_ht))\n",
    "        beta_t = self.softmax(beta_t)\n",
    "\n",
    "        out = torch.zeros(y.size(0), self.hidden_dim)\n",
    "\n",
    "        for i in range(len(outputs)):\n",
    "                      \n",
    "            out = out + outputs[i]*beta_t[:,i].reshape(out.size(0), 1)\n",
    "\n",
    "        out = self.linear_out(out)\n",
    "        \n",
    "        return out"
   ]
  },
  {
   "cell_type": "code",
   "execution_count": 6,
   "metadata": {},
   "outputs": [
    {
     "name": "stdout",
     "output_type": "stream",
     "text": [
      "torch.Size([128, 1])\n",
      "torch.Size([128, 1])\n"
     ]
    },
    {
     "data": {
      "text/plain": [
       "tensor(1.0261, grad_fn=<MseLossBackward0>)"
      ]
     },
     "execution_count": 6,
     "metadata": {},
     "output_type": "execute_result"
    }
   ],
   "source": [
    "model = FCN(in_dim, hidden_dim, out_dim, sequence_length)\n",
    "y_pred = model(input)\n",
    "print(y_pred.shape)\n",
    "print(random_data_y.shape)\n",
    "mse_loss = nn.MSELoss()\n",
    "mse_loss(y_pred, random_data_y)"
   ]
  },
  {
   "cell_type": "code",
   "execution_count": 7,
   "metadata": {},
   "outputs": [
    {
     "name": "stdout",
     "output_type": "stream",
     "text": [
      "torch.Size([128, 1])\n",
      "torch.Size([128, 1])\n"
     ]
    },
    {
     "data": {
      "text/plain": [
       "tensor(1.0224, grad_fn=<MseLossBackward0>)"
      ]
     },
     "execution_count": 7,
     "metadata": {},
     "output_type": "execute_result"
    }
   ],
   "source": [
    "model = LSTM(1, 64, 1)\n",
    "y_pred = model(input)\n",
    "print(y_pred.shape)\n",
    "print(random_data_y.shape)\n",
    "mse_loss = nn.MSELoss()\n",
    "mse_loss(y_pred, random_data_y)"
   ]
  },
  {
   "cell_type": "code",
   "execution_count": 8,
   "metadata": {},
   "outputs": [
    {
     "name": "stdout",
     "output_type": "stream",
     "text": [
      "torch.Size([128, 1])\n",
      "torch.Size([128, 1])\n"
     ]
    },
    {
     "data": {
      "text/plain": [
       "tensor(1.0591, grad_fn=<MseLossBackward0>)"
      ]
     },
     "execution_count": 8,
     "metadata": {},
     "output_type": "execute_result"
    }
   ],
   "source": [
    "model = LSTM2(1, 64, 1)\n",
    "y_pred = model(input)\n",
    "print(y_pred.shape)\n",
    "print(random_data_y.shape)\n",
    "mse_loss = nn.MSELoss()\n",
    "mse_loss(y_pred, random_data_y)"
   ]
  },
  {
   "cell_type": "code",
   "execution_count": null,
   "metadata": {},
   "outputs": [],
   "source": []
  }
 ],
 "metadata": {
  "kernelspec": {
   "display_name": "my_env",
   "language": "python",
   "name": "python3"
  },
  "language_info": {
   "codemirror_mode": {
    "name": "ipython",
    "version": 3
   },
   "file_extension": ".py",
   "mimetype": "text/x-python",
   "name": "python",
   "nbconvert_exporter": "python",
   "pygments_lexer": "ipython3",
   "version": "3.7.9 (tags/v3.7.9:13c94747c7, Aug 17 2020, 18:58:18) [MSC v.1900 64 bit (AMD64)]"
  },
  "orig_nbformat": 4,
  "vscode": {
   "interpreter": {
    "hash": "ab06ce908a8abf9762b166587a79a7b3fe0760e63d13e53395d21ef1a2a21042"
   }
  }
 },
 "nbformat": 4,
 "nbformat_minor": 2
}
