{
 "cells": [
  {
   "cell_type": "code",
   "execution_count": 1,
   "metadata": {},
   "outputs": [],
   "source": [
    "import sys\n",
    "import os\n",
    "\n",
    "import pandas as pd\n",
    "import numpy as np\n",
    "from scipy.stats import pearsonr\n",
    "import matplotlib.pyplot as plt\n",
    "import plotly.graph_objects as go\n",
    "\n",
    "module_path = os.path.abspath(os.path.join(\"../src\"))\n",
    "if module_path not in sys.path:\n",
    "    sys.path.append(module_path)\n",
    "\n",
    "from data import Data"
   ]
  },
  {
   "cell_type": "code",
   "execution_count": 2,
   "metadata": {},
   "outputs": [],
   "source": [
    "def get_correlation_matrix(data):\n",
    "    # Calculate the partial correlation matrix\n",
    "    corr_matrix = data.corr()\n",
    "    partial_corr_matrix = pd.DataFrame(np.zeros_like(corr_matrix), columns=corr_matrix.columns, index=corr_matrix.index)\n",
    "    for i in range(len(partial_corr_matrix.columns)):\n",
    "        for j in range(i+1, len(partial_corr_matrix.index)):\n",
    "            control_variables = [x for x in corr_matrix.index if x not in [partial_corr_matrix.index[j], partial_corr_matrix.columns[i]]]\n",
    "            partial_corr = pearsonr(data[partial_corr_matrix.index[j]] - data[control_variables].mean(axis=1), data[partial_corr_matrix.columns[i]] - data[control_variables].mean(axis=1))[0]\n",
    "            partial_corr_matrix.iloc[j, i] = partial_corr\n",
    "            partial_corr_matrix.iloc[i, j] = partial_corr\n",
    "\n",
    "    # Plot the partial correlation matrix as a heatmap using Plotly\n",
    "    fig = go.Figure(data=go.Heatmap(\n",
    "        z=partial_corr_matrix,\n",
    "        x=partial_corr_matrix.columns,\n",
    "        y=partial_corr_matrix.index,\n",
    "        colorscale='RdBu',\n",
    "        zmid=0,\n",
    "        zmin=-1,\n",
    "        zmax=1,\n",
    "        hovertemplate='Variable 1: %{x}<br>Variable 2: %{y}<br>Partial Correlation: %{z:.2f}<extra></extra>'\n",
    "    ))\n",
    "\n",
    "    fig.update_layout(\n",
    "        title='Partial Correlation Matrix of Hydrological Inflow Variables',\n",
    "        xaxis_title='Variable 1',\n",
    "        yaxis_title='Variable 2',\n",
    "        xaxis=dict(side='top'),\n",
    "        yaxis=dict(autorange='reversed'),\n",
    "        width=800,\n",
    "        height=800,\n",
    "        margin=dict(t=100)\n",
    "    )\n",
    "\n",
    "    fig.show()"
   ]
  },
  {
   "cell_type": "code",
   "execution_count": 3,
   "metadata": {},
   "outputs": [
    {
     "data": {
      "application/vnd.plotly.v1+json": {
       "config": {
        "plotlyServerURL": "https://plot.ly"
       },
       "data": [
        {
         "colorscale": [
          [
           0,
           "rgb(103,0,31)"
          ],
          [
           0.1,
           "rgb(178,24,43)"
          ],
          [
           0.2,
           "rgb(214,96,77)"
          ],
          [
           0.3,
           "rgb(244,165,130)"
          ],
          [
           0.4,
           "rgb(253,219,199)"
          ],
          [
           0.5,
           "rgb(247,247,247)"
          ],
          [
           0.6,
           "rgb(209,229,240)"
          ],
          [
           0.7,
           "rgb(146,197,222)"
          ],
          [
           0.8,
           "rgb(67,147,195)"
          ],
          [
           0.9,
           "rgb(33,102,172)"
          ],
          [
           1,
           "rgb(5,48,97)"
          ]
         ],
         "hovertemplate": "Variable 1: %{x}<br>Variable 2: %{y}<br>Partial Correlation: %{z:.2f}<extra></extra>",
         "type": "heatmap",
         "x": [
          "Wind_Speed_Nilsebu",
          "Air_Temperature_Nilsebu",
          "Wind_Direction_Nilsebu",
          "Relative_Humidity_Nilsebu",
          "Air_Temperature_Fister",
          "Precipitation_Fister",
          "Flow_Lyngsvatn_Overflow",
          "Flow_Tapping",
          "Water_Level_Kalltveit",
          "Flow_Kalltveit",
          "Water_Temperature_Kalltveit_Kum",
          "Precipitation_Nilsebu",
          "Flow_HBV",
          "Precipitation_HBV",
          "Temperature_HBV",
          "Flow_Without_Tapping_Kalltveit",
          "Flow_Lyngsaana",
          "Water_Temperature_Lyngsaana"
         ],
         "y": [
          "Wind_Speed_Nilsebu",
          "Air_Temperature_Nilsebu",
          "Wind_Direction_Nilsebu",
          "Relative_Humidity_Nilsebu",
          "Air_Temperature_Fister",
          "Precipitation_Fister",
          "Flow_Lyngsvatn_Overflow",
          "Flow_Tapping",
          "Water_Level_Kalltveit",
          "Flow_Kalltveit",
          "Water_Temperature_Kalltveit_Kum",
          "Precipitation_Nilsebu",
          "Flow_HBV",
          "Precipitation_HBV",
          "Temperature_HBV",
          "Flow_Without_Tapping_Kalltveit",
          "Flow_Lyngsaana",
          "Water_Temperature_Lyngsaana"
         ],
         "z": [
          [
           0,
           0.68795078277883,
           -0.003476137133655588,
           0.22509776714439428,
           0.7380863986554096,
           0.9584581637664824,
           0.9558448181778216,
           0.9430186488945866,
           0.9615997252914803,
           0.6120616899695424,
           0.9196097268181536,
           0.9532761679201547,
           0.6600384652108935,
           0.9600525966183487,
           0.687624282110402,
           0.5999797214519146,
           0.8860659173976642,
           0.7373503883975996
          ],
          [
           0.68795078277883,
           0,
           -0.15974853302786424,
           0.11278687546819083,
           0.9797020295036636,
           0.7418168604316414,
           0.7368608751662757,
           0.7415320458500456,
           0.7424765171657673,
           0.4583622713645451,
           0.826838625134921,
           0.734802872851699,
           0.513159957607061,
           0.738710898689583,
           0.9976391730769281,
           0.4347302847054057,
           0.656304542680066,
           0.9556819077013426
          ],
          [
           -0.003476137133655588,
           -0.15974853302786424,
           0,
           0.0011169106155094759,
           -0.13694114484908426,
           0.009375761921468129,
           0.013597138593802677,
           -0.02004593008702325,
           0.020784235144350936,
           0.16084260165472175,
           -0.05321839374921427,
           0.030765787283914884,
           0.16813004182567975,
           0.03303465613469731,
           -0.15899769088732219,
           0.16970097102792264,
           0.15586152972144482,
           -0.07307643798674124
          ],
          [
           0.22509776714439428,
           0.11278687546819083,
           0.0011169106155094759,
           0,
           0.13578528256130507,
           0.21445928167327624,
           0.21598951251523757,
           0.22401037393221546,
           0.22152393715789584,
           0.09156296775389432,
           0.20651710656102462,
           0.21076546231944762,
           0.04902426623341744,
           0.21526083675831445,
           0.11747757955989789,
           0.08342121404654304,
           0.180427442428953,
           0.14764594261649525
          ],
          [
           0.7380863986554096,
           0.9797020295036636,
           -0.13694114484908426,
           0.13578528256130507,
           0,
           0.7837146525753004,
           0.7794486030589564,
           0.782859848958652,
           0.7853118476163709,
           0.47933813648729195,
           0.8610370794291873,
           0.7766497050188221,
           0.5381362650468295,
           0.7809150690382233,
           0.9773985924210821,
           0.45625132543149766,
           0.6930194601033733,
           0.9629482600607925
          ],
          [
           0.9584581637664824,
           0.7418168604316414,
           0.009375761921468129,
           0.21445928167327624,
           0.7837146525753004,
           0,
           0.9907458720686286,
           0.9778578971169772,
           0.9955909472224315,
           0.6168483325121191,
           0.9680407111801564,
           0.9864910749087489,
           0.6711631724062345,
           0.9931627248904602,
           0.7410060058049517,
           0.6035684031955934,
           0.9076492924286954,
           0.8047096844866402
          ],
          [
           0.9558448181778216,
           0.7368608751662757,
           0.013597138593802677,
           0.21598951251523757,
           0.7794486030589564,
           0.9907458720686286,
           0,
           0.979422652741439,
           0.9954879831050383,
           0.6114845291320802,
           0.9670604599562317,
           0.9825010232939295,
           0.6697589588439182,
           0.9898090330530827,
           0.7363155720301637,
           0.5965317962691274,
           0.904980698643206,
           0.8033753471655284
          ],
          [
           0.9430186488945866,
           0.7415320458500456,
           -0.02004593008702325,
           0.22401037393221546,
           0.782859848958652,
           0.9778578971169772,
           0.979422652741439,
           0,
           0.9829285390796652,
           0.5834192792047177,
           0.9633508025858527,
           0.9692118070792392,
           0.631876850944801,
           0.9765270444662077,
           0.7404651917718102,
           0.5538596174932207,
           0.8731439378005242,
           0.8114245298473914
          ],
          [
           0.9615997252914803,
           0.7424765171657673,
           0.020784235144350936,
           0.22152393715789584,
           0.7853118476163709,
           0.9955909472224315,
           0.9954879831050383,
           0.9829285390796652,
           0,
           0.6195979976491626,
           0.9714075314849522,
           0.9880228068993623,
           0.6755623320858765,
           0.9950840761124512,
           0.7418262868103207,
           0.6059544308766371,
           0.9104925842396889,
           0.8071178171667215
          ],
          [
           0.6120616899695424,
           0.4583622713645451,
           0.16084260165472175,
           0.09156296775389432,
           0.47933813648729195,
           0.6168483325121191,
           0.6114845291320802,
           0.5834192792047177,
           0.6195979976491626,
           0,
           0.5774316817126021,
           0.6404882993073326,
           0.9584092967728186,
           0.6384610074829122,
           0.45487878835102186,
           0.9914478907037962,
           0.8677042561688748,
           0.46066769697714177
          ],
          [
           0.9196097268181536,
           0.826838625134921,
           -0.05321839374921427,
           0.20651710656102462,
           0.8610370794291873,
           0.9680407111801564,
           0.9670604599562317,
           0.9633508025858527,
           0.9714075314849522,
           0.5774316817126021,
           0,
           0.9597960442676436,
           0.6394378716918092,
           0.9660175919425067,
           0.8257379085278844,
           0.5572369749392297,
           0.8678830836839764,
           0.8945633897996108
          ],
          [
           0.9532761679201547,
           0.734802872851699,
           0.030765787283914884,
           0.21076546231944762,
           0.7766497050188221,
           0.9864910749087489,
           0.9825010232939295,
           0.9692118070792392,
           0.9880228068993623,
           0.6404882993073326,
           0.9597960442676436,
           0,
           0.6894347622947502,
           0.9925388365577579,
           0.7338815431128187,
           0.6274487100236481,
           0.914402901911727,
           0.7949813014437043
          ],
          [
           0.6600384652108935,
           0.513159957607061,
           0.16813004182567975,
           0.04902426623341744,
           0.5381362650468295,
           0.6711631724062345,
           0.6697589588439182,
           0.631876850944801,
           0.6755623320858765,
           0.9584092967728186,
           0.6394378716918092,
           0.6894347622947502,
           0,
           0.6885440649115943,
           0.5095203724488935,
           0.9579962141190319,
           0.881480978271679,
           0.5264629707338822
          ],
          [
           0.9600525966183487,
           0.738710898689583,
           0.03303465613469731,
           0.21526083675831445,
           0.7809150690382233,
           0.9931627248904602,
           0.9898090330530827,
           0.9765270444662077,
           0.9950840761124512,
           0.6384610074829122,
           0.9660175919425067,
           0.9925388365577579,
           0.6885440649115943,
           0,
           0.7379645469455117,
           0.6252804817706898,
           0.9176620105466022,
           0.8002963865223438
          ],
          [
           0.687624282110402,
           0.9976391730769281,
           -0.15899769088732219,
           0.11747757955989789,
           0.9773985924210821,
           0.7410060058049517,
           0.7363155720301637,
           0.7404651917718102,
           0.7418262868103207,
           0.45487878835102186,
           0.8257379085278844,
           0.7338815431128187,
           0.5095203724488935,
           0.7379645469455117,
           0,
           0.4311365947862312,
           0.6547764955863763,
           0.9531216760192753
          ],
          [
           0.5999797214519146,
           0.4347302847054057,
           0.16970097102792264,
           0.08342121404654304,
           0.45625132543149766,
           0.6035684031955934,
           0.5965317962691274,
           0.5538596174932207,
           0.6059544308766371,
           0.9914478907037962,
           0.5572369749392297,
           0.6274487100236481,
           0.9579962141190319,
           0.6252804817706898,
           0.4311365947862312,
           0,
           0.863749427035144,
           0.4335318885485817
          ],
          [
           0.8860659173976642,
           0.656304542680066,
           0.15586152972144482,
           0.180427442428953,
           0.6930194601033733,
           0.9076492924286954,
           0.904980698643206,
           0.8731439378005242,
           0.9104925842396889,
           0.8677042561688748,
           0.8678830836839764,
           0.914402901911727,
           0.881480978271679,
           0.9176620105466022,
           0.6547764955863763,
           0.863749427035144,
           0,
           0.6932617921003024
          ],
          [
           0.7373503883975996,
           0.9556819077013426,
           -0.07307643798674124,
           0.14764594261649525,
           0.9629482600607925,
           0.8047096844866402,
           0.8033753471655284,
           0.8114245298473914,
           0.8071178171667215,
           0.46066769697714177,
           0.8945633897996108,
           0.7949813014437043,
           0.5264629707338822,
           0.8002963865223438,
           0.9531216760192753,
           0.4335318885485817,
           0.6932617921003024,
           0
          ]
         ],
         "zmax": 1,
         "zmid": 0,
         "zmin": -1
        }
       ],
       "layout": {
        "height": 800,
        "margin": {
         "t": 100
        },
        "template": {
         "data": {
          "bar": [
           {
            "error_x": {
             "color": "#2a3f5f"
            },
            "error_y": {
             "color": "#2a3f5f"
            },
            "marker": {
             "line": {
              "color": "#E5ECF6",
              "width": 0.5
             },
             "pattern": {
              "fillmode": "overlay",
              "size": 10,
              "solidity": 0.2
             }
            },
            "type": "bar"
           }
          ],
          "barpolar": [
           {
            "marker": {
             "line": {
              "color": "#E5ECF6",
              "width": 0.5
             },
             "pattern": {
              "fillmode": "overlay",
              "size": 10,
              "solidity": 0.2
             }
            },
            "type": "barpolar"
           }
          ],
          "carpet": [
           {
            "aaxis": {
             "endlinecolor": "#2a3f5f",
             "gridcolor": "white",
             "linecolor": "white",
             "minorgridcolor": "white",
             "startlinecolor": "#2a3f5f"
            },
            "baxis": {
             "endlinecolor": "#2a3f5f",
             "gridcolor": "white",
             "linecolor": "white",
             "minorgridcolor": "white",
             "startlinecolor": "#2a3f5f"
            },
            "type": "carpet"
           }
          ],
          "choropleth": [
           {
            "colorbar": {
             "outlinewidth": 0,
             "ticks": ""
            },
            "type": "choropleth"
           }
          ],
          "contour": [
           {
            "colorbar": {
             "outlinewidth": 0,
             "ticks": ""
            },
            "colorscale": [
             [
              0,
              "#0d0887"
             ],
             [
              0.1111111111111111,
              "#46039f"
             ],
             [
              0.2222222222222222,
              "#7201a8"
             ],
             [
              0.3333333333333333,
              "#9c179e"
             ],
             [
              0.4444444444444444,
              "#bd3786"
             ],
             [
              0.5555555555555556,
              "#d8576b"
             ],
             [
              0.6666666666666666,
              "#ed7953"
             ],
             [
              0.7777777777777778,
              "#fb9f3a"
             ],
             [
              0.8888888888888888,
              "#fdca26"
             ],
             [
              1,
              "#f0f921"
             ]
            ],
            "type": "contour"
           }
          ],
          "contourcarpet": [
           {
            "colorbar": {
             "outlinewidth": 0,
             "ticks": ""
            },
            "type": "contourcarpet"
           }
          ],
          "heatmap": [
           {
            "colorbar": {
             "outlinewidth": 0,
             "ticks": ""
            },
            "colorscale": [
             [
              0,
              "#0d0887"
             ],
             [
              0.1111111111111111,
              "#46039f"
             ],
             [
              0.2222222222222222,
              "#7201a8"
             ],
             [
              0.3333333333333333,
              "#9c179e"
             ],
             [
              0.4444444444444444,
              "#bd3786"
             ],
             [
              0.5555555555555556,
              "#d8576b"
             ],
             [
              0.6666666666666666,
              "#ed7953"
             ],
             [
              0.7777777777777778,
              "#fb9f3a"
             ],
             [
              0.8888888888888888,
              "#fdca26"
             ],
             [
              1,
              "#f0f921"
             ]
            ],
            "type": "heatmap"
           }
          ],
          "heatmapgl": [
           {
            "colorbar": {
             "outlinewidth": 0,
             "ticks": ""
            },
            "colorscale": [
             [
              0,
              "#0d0887"
             ],
             [
              0.1111111111111111,
              "#46039f"
             ],
             [
              0.2222222222222222,
              "#7201a8"
             ],
             [
              0.3333333333333333,
              "#9c179e"
             ],
             [
              0.4444444444444444,
              "#bd3786"
             ],
             [
              0.5555555555555556,
              "#d8576b"
             ],
             [
              0.6666666666666666,
              "#ed7953"
             ],
             [
              0.7777777777777778,
              "#fb9f3a"
             ],
             [
              0.8888888888888888,
              "#fdca26"
             ],
             [
              1,
              "#f0f921"
             ]
            ],
            "type": "heatmapgl"
           }
          ],
          "histogram": [
           {
            "marker": {
             "pattern": {
              "fillmode": "overlay",
              "size": 10,
              "solidity": 0.2
             }
            },
            "type": "histogram"
           }
          ],
          "histogram2d": [
           {
            "colorbar": {
             "outlinewidth": 0,
             "ticks": ""
            },
            "colorscale": [
             [
              0,
              "#0d0887"
             ],
             [
              0.1111111111111111,
              "#46039f"
             ],
             [
              0.2222222222222222,
              "#7201a8"
             ],
             [
              0.3333333333333333,
              "#9c179e"
             ],
             [
              0.4444444444444444,
              "#bd3786"
             ],
             [
              0.5555555555555556,
              "#d8576b"
             ],
             [
              0.6666666666666666,
              "#ed7953"
             ],
             [
              0.7777777777777778,
              "#fb9f3a"
             ],
             [
              0.8888888888888888,
              "#fdca26"
             ],
             [
              1,
              "#f0f921"
             ]
            ],
            "type": "histogram2d"
           }
          ],
          "histogram2dcontour": [
           {
            "colorbar": {
             "outlinewidth": 0,
             "ticks": ""
            },
            "colorscale": [
             [
              0,
              "#0d0887"
             ],
             [
              0.1111111111111111,
              "#46039f"
             ],
             [
              0.2222222222222222,
              "#7201a8"
             ],
             [
              0.3333333333333333,
              "#9c179e"
             ],
             [
              0.4444444444444444,
              "#bd3786"
             ],
             [
              0.5555555555555556,
              "#d8576b"
             ],
             [
              0.6666666666666666,
              "#ed7953"
             ],
             [
              0.7777777777777778,
              "#fb9f3a"
             ],
             [
              0.8888888888888888,
              "#fdca26"
             ],
             [
              1,
              "#f0f921"
             ]
            ],
            "type": "histogram2dcontour"
           }
          ],
          "mesh3d": [
           {
            "colorbar": {
             "outlinewidth": 0,
             "ticks": ""
            },
            "type": "mesh3d"
           }
          ],
          "parcoords": [
           {
            "line": {
             "colorbar": {
              "outlinewidth": 0,
              "ticks": ""
             }
            },
            "type": "parcoords"
           }
          ],
          "pie": [
           {
            "automargin": true,
            "type": "pie"
           }
          ],
          "scatter": [
           {
            "fillpattern": {
             "fillmode": "overlay",
             "size": 10,
             "solidity": 0.2
            },
            "type": "scatter"
           }
          ],
          "scatter3d": [
           {
            "line": {
             "colorbar": {
              "outlinewidth": 0,
              "ticks": ""
             }
            },
            "marker": {
             "colorbar": {
              "outlinewidth": 0,
              "ticks": ""
             }
            },
            "type": "scatter3d"
           }
          ],
          "scattercarpet": [
           {
            "marker": {
             "colorbar": {
              "outlinewidth": 0,
              "ticks": ""
             }
            },
            "type": "scattercarpet"
           }
          ],
          "scattergeo": [
           {
            "marker": {
             "colorbar": {
              "outlinewidth": 0,
              "ticks": ""
             }
            },
            "type": "scattergeo"
           }
          ],
          "scattergl": [
           {
            "marker": {
             "colorbar": {
              "outlinewidth": 0,
              "ticks": ""
             }
            },
            "type": "scattergl"
           }
          ],
          "scattermapbox": [
           {
            "marker": {
             "colorbar": {
              "outlinewidth": 0,
              "ticks": ""
             }
            },
            "type": "scattermapbox"
           }
          ],
          "scatterpolar": [
           {
            "marker": {
             "colorbar": {
              "outlinewidth": 0,
              "ticks": ""
             }
            },
            "type": "scatterpolar"
           }
          ],
          "scatterpolargl": [
           {
            "marker": {
             "colorbar": {
              "outlinewidth": 0,
              "ticks": ""
             }
            },
            "type": "scatterpolargl"
           }
          ],
          "scatterternary": [
           {
            "marker": {
             "colorbar": {
              "outlinewidth": 0,
              "ticks": ""
             }
            },
            "type": "scatterternary"
           }
          ],
          "surface": [
           {
            "colorbar": {
             "outlinewidth": 0,
             "ticks": ""
            },
            "colorscale": [
             [
              0,
              "#0d0887"
             ],
             [
              0.1111111111111111,
              "#46039f"
             ],
             [
              0.2222222222222222,
              "#7201a8"
             ],
             [
              0.3333333333333333,
              "#9c179e"
             ],
             [
              0.4444444444444444,
              "#bd3786"
             ],
             [
              0.5555555555555556,
              "#d8576b"
             ],
             [
              0.6666666666666666,
              "#ed7953"
             ],
             [
              0.7777777777777778,
              "#fb9f3a"
             ],
             [
              0.8888888888888888,
              "#fdca26"
             ],
             [
              1,
              "#f0f921"
             ]
            ],
            "type": "surface"
           }
          ],
          "table": [
           {
            "cells": {
             "fill": {
              "color": "#EBF0F8"
             },
             "line": {
              "color": "white"
             }
            },
            "header": {
             "fill": {
              "color": "#C8D4E3"
             },
             "line": {
              "color": "white"
             }
            },
            "type": "table"
           }
          ]
         },
         "layout": {
          "annotationdefaults": {
           "arrowcolor": "#2a3f5f",
           "arrowhead": 0,
           "arrowwidth": 1
          },
          "autotypenumbers": "strict",
          "coloraxis": {
           "colorbar": {
            "outlinewidth": 0,
            "ticks": ""
           }
          },
          "colorscale": {
           "diverging": [
            [
             0,
             "#8e0152"
            ],
            [
             0.1,
             "#c51b7d"
            ],
            [
             0.2,
             "#de77ae"
            ],
            [
             0.3,
             "#f1b6da"
            ],
            [
             0.4,
             "#fde0ef"
            ],
            [
             0.5,
             "#f7f7f7"
            ],
            [
             0.6,
             "#e6f5d0"
            ],
            [
             0.7,
             "#b8e186"
            ],
            [
             0.8,
             "#7fbc41"
            ],
            [
             0.9,
             "#4d9221"
            ],
            [
             1,
             "#276419"
            ]
           ],
           "sequential": [
            [
             0,
             "#0d0887"
            ],
            [
             0.1111111111111111,
             "#46039f"
            ],
            [
             0.2222222222222222,
             "#7201a8"
            ],
            [
             0.3333333333333333,
             "#9c179e"
            ],
            [
             0.4444444444444444,
             "#bd3786"
            ],
            [
             0.5555555555555556,
             "#d8576b"
            ],
            [
             0.6666666666666666,
             "#ed7953"
            ],
            [
             0.7777777777777778,
             "#fb9f3a"
            ],
            [
             0.8888888888888888,
             "#fdca26"
            ],
            [
             1,
             "#f0f921"
            ]
           ],
           "sequentialminus": [
            [
             0,
             "#0d0887"
            ],
            [
             0.1111111111111111,
             "#46039f"
            ],
            [
             0.2222222222222222,
             "#7201a8"
            ],
            [
             0.3333333333333333,
             "#9c179e"
            ],
            [
             0.4444444444444444,
             "#bd3786"
            ],
            [
             0.5555555555555556,
             "#d8576b"
            ],
            [
             0.6666666666666666,
             "#ed7953"
            ],
            [
             0.7777777777777778,
             "#fb9f3a"
            ],
            [
             0.8888888888888888,
             "#fdca26"
            ],
            [
             1,
             "#f0f921"
            ]
           ]
          },
          "colorway": [
           "#636efa",
           "#EF553B",
           "#00cc96",
           "#ab63fa",
           "#FFA15A",
           "#19d3f3",
           "#FF6692",
           "#B6E880",
           "#FF97FF",
           "#FECB52"
          ],
          "font": {
           "color": "#2a3f5f"
          },
          "geo": {
           "bgcolor": "white",
           "lakecolor": "white",
           "landcolor": "#E5ECF6",
           "showlakes": true,
           "showland": true,
           "subunitcolor": "white"
          },
          "hoverlabel": {
           "align": "left"
          },
          "hovermode": "closest",
          "mapbox": {
           "style": "light"
          },
          "paper_bgcolor": "white",
          "plot_bgcolor": "#E5ECF6",
          "polar": {
           "angularaxis": {
            "gridcolor": "white",
            "linecolor": "white",
            "ticks": ""
           },
           "bgcolor": "#E5ECF6",
           "radialaxis": {
            "gridcolor": "white",
            "linecolor": "white",
            "ticks": ""
           }
          },
          "scene": {
           "xaxis": {
            "backgroundcolor": "#E5ECF6",
            "gridcolor": "white",
            "gridwidth": 2,
            "linecolor": "white",
            "showbackground": true,
            "ticks": "",
            "zerolinecolor": "white"
           },
           "yaxis": {
            "backgroundcolor": "#E5ECF6",
            "gridcolor": "white",
            "gridwidth": 2,
            "linecolor": "white",
            "showbackground": true,
            "ticks": "",
            "zerolinecolor": "white"
           },
           "zaxis": {
            "backgroundcolor": "#E5ECF6",
            "gridcolor": "white",
            "gridwidth": 2,
            "linecolor": "white",
            "showbackground": true,
            "ticks": "",
            "zerolinecolor": "white"
           }
          },
          "shapedefaults": {
           "line": {
            "color": "#2a3f5f"
           }
          },
          "ternary": {
           "aaxis": {
            "gridcolor": "white",
            "linecolor": "white",
            "ticks": ""
           },
           "baxis": {
            "gridcolor": "white",
            "linecolor": "white",
            "ticks": ""
           },
           "bgcolor": "#E5ECF6",
           "caxis": {
            "gridcolor": "white",
            "linecolor": "white",
            "ticks": ""
           }
          },
          "title": {
           "x": 0.05
          },
          "xaxis": {
           "automargin": true,
           "gridcolor": "white",
           "linecolor": "white",
           "ticks": "",
           "title": {
            "standoff": 15
           },
           "zerolinecolor": "white",
           "zerolinewidth": 2
          },
          "yaxis": {
           "automargin": true,
           "gridcolor": "white",
           "linecolor": "white",
           "ticks": "",
           "title": {
            "standoff": 15
           },
           "zerolinecolor": "white",
           "zerolinewidth": 2
          }
         }
        },
        "title": {
         "text": "Partial Correlation Matrix of Hydrological Inflow Variables"
        },
        "width": 800,
        "xaxis": {
         "side": "top",
         "title": {
          "text": "Variable 1"
         }
        },
        "yaxis": {
         "autorange": "reversed",
         "title": {
          "text": "Variable 2"
         }
        }
       }
      }
     },
     "metadata": {},
     "output_type": "display_data"
    },
    {
     "data": {
      "application/vnd.plotly.v1+json": {
       "config": {
        "plotlyServerURL": "https://plot.ly"
       },
       "data": [
        {
         "colorscale": [
          [
           0,
           "rgb(103,0,31)"
          ],
          [
           0.1,
           "rgb(178,24,43)"
          ],
          [
           0.2,
           "rgb(214,96,77)"
          ],
          [
           0.3,
           "rgb(244,165,130)"
          ],
          [
           0.4,
           "rgb(253,219,199)"
          ],
          [
           0.5,
           "rgb(247,247,247)"
          ],
          [
           0.6,
           "rgb(209,229,240)"
          ],
          [
           0.7,
           "rgb(146,197,222)"
          ],
          [
           0.8,
           "rgb(67,147,195)"
          ],
          [
           0.9,
           "rgb(33,102,172)"
          ],
          [
           1,
           "rgb(5,48,97)"
          ]
         ],
         "hovertemplate": "Variable 1: %{x}<br>Variable 2: %{y}<br>Partial Correlation: %{z:.2f}<extra></extra>",
         "type": "heatmap",
         "x": [
          "Wind_Speed_Nilsebu",
          "Air_Temperature_Nilsebu",
          "Wind_Direction_Nilsebu",
          "Relative_Humidity_Nilsebu",
          "Water_Level_Lyngsaana",
          "Water_Temperature_Hiafossen",
          "Water_Level_Hiafossen",
          "Air_Temperature_Fister",
          "Precipitation_Fister",
          "Flow_Lyngsvatn_Overflow",
          "Flow_Tapping",
          "Water_Level_Kalltveit",
          "Flow_Kalltveit",
          "Water_Temperature_Kalltveit_Kum",
          "Precipitation_Nilsebu",
          "Flow_HBV",
          "Precipitation_HBV",
          "Temperature_HBV",
          "Flow_Without_Tapping_Kalltveit",
          "Flow_Lyngsaana",
          "Water_Temperature_Lyngsaana"
         ],
         "y": [
          "Wind_Speed_Nilsebu",
          "Air_Temperature_Nilsebu",
          "Wind_Direction_Nilsebu",
          "Relative_Humidity_Nilsebu",
          "Water_Level_Lyngsaana",
          "Water_Temperature_Hiafossen",
          "Water_Level_Hiafossen",
          "Air_Temperature_Fister",
          "Precipitation_Fister",
          "Flow_Lyngsvatn_Overflow",
          "Flow_Tapping",
          "Water_Level_Kalltveit",
          "Flow_Kalltveit",
          "Water_Temperature_Kalltveit_Kum",
          "Precipitation_Nilsebu",
          "Flow_HBV",
          "Precipitation_HBV",
          "Temperature_HBV",
          "Flow_Without_Tapping_Kalltveit",
          "Flow_Lyngsaana",
          "Water_Temperature_Lyngsaana"
         ],
         "z": [
          [
           0,
           0.6025589090767568,
           -0.01254342430116414,
           0.18253442327095828,
           0.9465963466380528,
           0.6565036949639146,
           0.9460299468699389,
           0.6570652962499295,
           0.9419953231567855,
           0.9455701304524972,
           0.9191248249098106,
           0.9465921584458314,
           0.5192149327925707,
           0.889059521725984,
           0.9411796033442332,
           0.5777549247233761,
           0.94493667145841,
           0.6021268545871138,
           0.5046027833599578,
           0.8489686979164501,
           0.6515193055558522
          ],
          [
           0.6025589090767568,
           0,
           -0.16204891079575234,
           0.06505517700666467,
           0.6679287810656428,
           0.9307750545249354,
           0.6724018127903667,
           0.9753231127398465,
           0.6695261320943023,
           0.6707881100194196,
           0.6708993457485772,
           0.6708577265806274,
           0.3390056296147563,
           0.782046959107138,
           0.6630463012175842,
           0.41366968762368167,
           0.6654855703066149,
           0.9962900289573005,
           0.31000546832397524,
           0.5553595832753193,
           0.9473839941753794
          ],
          [
           -0.01254342430116414,
           -0.16204891079575234,
           0,
           0.0120955691181681,
           0.013761251742178777,
           -0.09430246670837018,
           0.0097884401891348,
           -0.1399536682559504,
           -0.001601925543081792,
           0.001594023390824621,
           -0.038951908718555715,
           0.01190391169358872,
           0.1608372780764131,
           -0.06877232612617111,
           0.023854299176040965,
           0.17467912667052002,
           0.025964347276751433,
           -0.16096606202779454,
           0.1712713857179112,
           0.1600132212914138,
           -0.07876637703913161
          ],
          [
           0.18253442327095828,
           0.06505517700666467,
           0.0120955691181681,
           0,
           0.18437889627697318,
           0.08702126713163838,
           0.18546109140052539,
           0.08124685656470315,
           0.1794616046280915,
           0.18495165808768627,
           0.1844577552252861,
           0.1855945539169885,
           0.1070215696237211,
           0.16629855557899748,
           0.1822730296328229,
           0.059302093293499517,
           0.18272966122307335,
           0.07243373621335894,
           0.09716357511835873,
           0.17186097227474134,
           0.08382237825744678
          ],
          [
           0.9465963466380528,
           0.6679287810656428,
           0.013761251742178777,
           0.18437889627697318,
           0,
           0.743780352858327,
           0.9998016268034664,
           0.714452851798881,
           0.9934883763732233,
           0.9996369983691689,
           0.9731134305567393,
           0.9998692646220172,
           0.5155285821507853,
           0.9598836990598774,
           0.9888997590148929,
           0.5889244830971334,
           0.9929416265331563,
           0.6669297094477719,
           0.49995455289815505,
           0.8768584605356985,
           0.7375828711999933
          ],
          [
           0.6565036949639146,
           0.9307750545249354,
           -0.09430246670837018,
           0.08702126713163838,
           0.743780352858327,
           0,
           0.749420662696011,
           0.9381636860527895,
           0.7434971609047006,
           0.7488504573086066,
           0.7594182317211524,
           0.7470050544164021,
           0.31717039148690157,
           0.8749753134207993,
           0.7338650924690283,
           0.40349704477799964,
           0.7379265418476293,
           0.9275990253244298,
           0.2805635769397652,
           0.5846545185096574,
           0.9919327288998079
          ],
          [
           0.9460299468699389,
           0.6724018127903667,
           0.0097884401891348,
           0.18546109140052539,
           0.9998016268034664,
           0.749420662696011,
           0,
           0.7187866473986213,
           0.9933713819573036,
           0.9997365245753161,
           0.9751024793327524,
           0.9999345035767389,
           0.5156186601493117,
           0.9613145428951525,
           0.9887058482228177,
           0.5888899491468178,
           0.9927734989196041,
           0.6714070510254084,
           0.49843339926460817,
           0.8744955031899176,
           0.7429359946534227
          ],
          [
           0.6570652962499295,
           0.9753231127398465,
           -0.1399536682559504,
           0.08124685656470315,
           0.714452851798881,
           0.9381636860527895,
           0.7187866473986213,
           0,
           0.7143714682677358,
           0.7171006387547826,
           0.7148492068951696,
           0.7171094823903381,
           0.36005275658809105,
           0.8188368843402488,
           0.7081143233384295,
           0.44040525553488946,
           0.710845217215339,
           0.971722635200723,
           0.3317708780159396,
           0.5945962087116164,
           0.9548534047849506
          ],
          [
           0.9419953231567855,
           0.6695261320943023,
           -0.001601925543081792,
           0.1794616046280915,
           0.9934883763732233,
           0.7434971609047006,
           0.9933713819573036,
           0.7143714682677358,
           0,
           0.993183639014305,
           0.9670666791985545,
           0.993508062104915,
           0.5169346740517778,
           0.9556037176606125,
           0.9866875423278298,
           0.5862904705432579,
           0.990231332308367,
           0.6682729801936033,
           0.5007033979836011,
           0.8735349206483265,
           0.7370006087016919
          ],
          [
           0.9455701304524972,
           0.6707881100194196,
           0.001594023390824621,
           0.18495165808768627,
           0.9996369983691689,
           0.7488504573086066,
           0.9997365245753161,
           0.7171006387547826,
           0.993183639014305,
           0,
           0.9753299600848206,
           0.9997004614396172,
           0.49806076556005563,
           0.9611452629983274,
           0.9878726256768141,
           0.5729752651904172,
           0.9921199190988379,
           0.6698873530012861,
           0.48127006840569697,
           0.8660401108776604,
           0.7416678016816206
          ],
          [
           0.9191248249098106,
           0.6708993457485772,
           -0.038951908718555715,
           0.1844577552252861,
           0.9731134305567393,
           0.7594182317211524,
           0.9751024793327524,
           0.7148492068951696,
           0.9670666791985545,
           0.9753299600848206,
           0,
           0.9744782244365097,
           0.4732836664195783,
           0.9494853931016852,
           0.9612363962987482,
           0.5327967810944028,
           0.9654648302334765,
           0.6691581421228805,
           0.4354079512488478,
           0.82191546804263,
           0.7468625148619255
          ],
          [
           0.9465921584458314,
           0.6708577265806274,
           0.01190391169358872,
           0.1855945539169885,
           0.9998692646220172,
           0.7470050544164021,
           0.9999345035767389,
           0.7171094823903381,
           0.993508062104915,
           0.9997004614396172,
           0.9744782244365097,
           0,
           0.5198986816462131,
           0.9606438014427153,
           0.9891519611559336,
           0.5918561887358449,
           0.9931679386624502,
           0.6698308699595803,
           0.5031728733623994,
           0.8772462081705562,
           0.7404557747064404
          ],
          [
           0.5192149327925707,
           0.3390056296147563,
           0.1608372780764131,
           0.1070215696237211,
           0.5155285821507853,
           0.31717039148690157,
           0.5156186601493117,
           0.36005275658809105,
           0.5169346740517778,
           0.49806076556005563,
           0.4732836664195783,
           0.5198986816462131,
           0,
           0.46791837682119536,
           0.553121200891299,
           0.9396587311740833,
           0.5465759282413961,
           0.3341464657354811,
           0.9893669150303568,
           0.8369779045442995,
           0.33178641361534833
          ],
          [
           0.889059521725984,
           0.782046959107138,
           -0.06877232612617111,
           0.16629855557899748,
           0.9598836990598774,
           0.8749753134207993,
           0.9613145428951525,
           0.8188368843402488,
           0.9556037176606125,
           0.9611452629983274,
           0.9494853931016852,
           0.9606438014427153,
           0.46791837682119536,
           0,
           0.9488942538455664,
           0.5497311308152115,
           0.9531164998158836,
           0.7801282192336858,
           0.44171472795336486,
           0.8185524770934564,
           0.8605903876921273
          ],
          [
           0.9411796033442332,
           0.6630463012175842,
           0.023854299176040965,
           0.1822730296328229,
           0.9888997590148929,
           0.7338650924690283,
           0.9887058482228177,
           0.7081143233384295,
           0.9866875423278298,
           0.9878726256768141,
           0.9612363962987482,
           0.9891519611559336,
           0.553121200891299,
           0.9488942538455664,
           0,
           0.6144255366422107,
           0.9957037966388781,
           0.6616255307001914,
           0.5367556585343461,
           0.889867235829729,
           0.7272521629465344
          ],
          [
           0.5777549247233761,
           0.41366968762368167,
           0.17467912667052002,
           0.059302093293499517,
           0.5889244830971334,
           0.40349704477799964,
           0.5888899491468178,
           0.44040525553488946,
           0.5862904705432579,
           0.5729752651904172,
           0.5327967810944028,
           0.5918561887358449,
           0.9396587311740833,
           0.5497311308152115,
           0.6144255366422107,
           0,
           0.6097868402538764,
           0.40820580652955446,
           0.9412978315195607,
           0.8491020746940626,
           0.42416393120872026
          ],
          [
           0.94493667145841,
           0.6654855703066149,
           0.025964347276751433,
           0.18272966122307335,
           0.9929416265331563,
           0.7379265418476293,
           0.9927734989196041,
           0.710845217215339,
           0.990231332308367,
           0.9921199190988379,
           0.9654648302334765,
           0.9931679386624502,
           0.5465759282413961,
           0.9531164998158836,
           0.9957037966388781,
           0.6097868402538764,
           0,
           0.6643892639171314,
           0.5303142406499748,
           0.8887566944055613,
           0.7310738491159876
          ],
          [
           0.6021268545871138,
           0.9962900289573005,
           -0.16096606202779454,
           0.07243373621335894,
           0.6669297094477719,
           0.9275990253244298,
           0.6714070510254084,
           0.971722635200723,
           0.6682729801936033,
           0.6698873530012861,
           0.6691581421228805,
           0.6698308699595803,
           0.3341464657354811,
           0.7801282192336858,
           0.6616255307001914,
           0.40820580652955446,
           0.6643892639171314,
           0,
           0.30502110690585055,
           0.5531910807907943,
           0.9433437484185269
          ],
          [
           0.5046027833599578,
           0.31000546832397524,
           0.1712713857179112,
           0.09716357511835873,
           0.49995455289815505,
           0.2805635769397652,
           0.49843339926460817,
           0.3317708780159396,
           0.5007033979836011,
           0.48127006840569697,
           0.4354079512488478,
           0.5031728733623994,
           0.9893669150303568,
           0.44171472795336486,
           0.5367556585343461,
           0.9412978315195607,
           0.5303142406499748,
           0.30502110690585055,
           0,
           0.8337093646201577,
           0.2988602337307699
          ],
          [
           0.8489686979164501,
           0.5553595832753193,
           0.1600132212914138,
           0.17186097227474134,
           0.8768584605356985,
           0.5846545185096574,
           0.8744955031899176,
           0.5945962087116164,
           0.8735349206483265,
           0.8660401108776604,
           0.82191546804263,
           0.8772462081705562,
           0.8369779045442995,
           0.8185524770934564,
           0.889867235829729,
           0.8491020746940626,
           0.8887566944055613,
           0.5531910807907943,
           0.8337093646201577,
           0,
           0.5874026247559669
          ],
          [
           0.6515193055558522,
           0.9473839941753794,
           -0.07876637703913161,
           0.08382237825744678,
           0.7375828711999933,
           0.9919327288998079,
           0.7429359946534227,
           0.9548534047849506,
           0.7370006087016919,
           0.7416678016816206,
           0.7468625148619255,
           0.7404557747064404,
           0.33178641361534833,
           0.8605903876921273,
           0.7272521629465344,
           0.42416393120872026,
           0.7310738491159876,
           0.9433437484185269,
           0.2988602337307699,
           0.5874026247559669,
           0
          ]
         ],
         "zmax": 1,
         "zmid": 0,
         "zmin": -1
        }
       ],
       "layout": {
        "height": 800,
        "margin": {
         "t": 100
        },
        "template": {
         "data": {
          "bar": [
           {
            "error_x": {
             "color": "#2a3f5f"
            },
            "error_y": {
             "color": "#2a3f5f"
            },
            "marker": {
             "line": {
              "color": "#E5ECF6",
              "width": 0.5
             },
             "pattern": {
              "fillmode": "overlay",
              "size": 10,
              "solidity": 0.2
             }
            },
            "type": "bar"
           }
          ],
          "barpolar": [
           {
            "marker": {
             "line": {
              "color": "#E5ECF6",
              "width": 0.5
             },
             "pattern": {
              "fillmode": "overlay",
              "size": 10,
              "solidity": 0.2
             }
            },
            "type": "barpolar"
           }
          ],
          "carpet": [
           {
            "aaxis": {
             "endlinecolor": "#2a3f5f",
             "gridcolor": "white",
             "linecolor": "white",
             "minorgridcolor": "white",
             "startlinecolor": "#2a3f5f"
            },
            "baxis": {
             "endlinecolor": "#2a3f5f",
             "gridcolor": "white",
             "linecolor": "white",
             "minorgridcolor": "white",
             "startlinecolor": "#2a3f5f"
            },
            "type": "carpet"
           }
          ],
          "choropleth": [
           {
            "colorbar": {
             "outlinewidth": 0,
             "ticks": ""
            },
            "type": "choropleth"
           }
          ],
          "contour": [
           {
            "colorbar": {
             "outlinewidth": 0,
             "ticks": ""
            },
            "colorscale": [
             [
              0,
              "#0d0887"
             ],
             [
              0.1111111111111111,
              "#46039f"
             ],
             [
              0.2222222222222222,
              "#7201a8"
             ],
             [
              0.3333333333333333,
              "#9c179e"
             ],
             [
              0.4444444444444444,
              "#bd3786"
             ],
             [
              0.5555555555555556,
              "#d8576b"
             ],
             [
              0.6666666666666666,
              "#ed7953"
             ],
             [
              0.7777777777777778,
              "#fb9f3a"
             ],
             [
              0.8888888888888888,
              "#fdca26"
             ],
             [
              1,
              "#f0f921"
             ]
            ],
            "type": "contour"
           }
          ],
          "contourcarpet": [
           {
            "colorbar": {
             "outlinewidth": 0,
             "ticks": ""
            },
            "type": "contourcarpet"
           }
          ],
          "heatmap": [
           {
            "colorbar": {
             "outlinewidth": 0,
             "ticks": ""
            },
            "colorscale": [
             [
              0,
              "#0d0887"
             ],
             [
              0.1111111111111111,
              "#46039f"
             ],
             [
              0.2222222222222222,
              "#7201a8"
             ],
             [
              0.3333333333333333,
              "#9c179e"
             ],
             [
              0.4444444444444444,
              "#bd3786"
             ],
             [
              0.5555555555555556,
              "#d8576b"
             ],
             [
              0.6666666666666666,
              "#ed7953"
             ],
             [
              0.7777777777777778,
              "#fb9f3a"
             ],
             [
              0.8888888888888888,
              "#fdca26"
             ],
             [
              1,
              "#f0f921"
             ]
            ],
            "type": "heatmap"
           }
          ],
          "heatmapgl": [
           {
            "colorbar": {
             "outlinewidth": 0,
             "ticks": ""
            },
            "colorscale": [
             [
              0,
              "#0d0887"
             ],
             [
              0.1111111111111111,
              "#46039f"
             ],
             [
              0.2222222222222222,
              "#7201a8"
             ],
             [
              0.3333333333333333,
              "#9c179e"
             ],
             [
              0.4444444444444444,
              "#bd3786"
             ],
             [
              0.5555555555555556,
              "#d8576b"
             ],
             [
              0.6666666666666666,
              "#ed7953"
             ],
             [
              0.7777777777777778,
              "#fb9f3a"
             ],
             [
              0.8888888888888888,
              "#fdca26"
             ],
             [
              1,
              "#f0f921"
             ]
            ],
            "type": "heatmapgl"
           }
          ],
          "histogram": [
           {
            "marker": {
             "pattern": {
              "fillmode": "overlay",
              "size": 10,
              "solidity": 0.2
             }
            },
            "type": "histogram"
           }
          ],
          "histogram2d": [
           {
            "colorbar": {
             "outlinewidth": 0,
             "ticks": ""
            },
            "colorscale": [
             [
              0,
              "#0d0887"
             ],
             [
              0.1111111111111111,
              "#46039f"
             ],
             [
              0.2222222222222222,
              "#7201a8"
             ],
             [
              0.3333333333333333,
              "#9c179e"
             ],
             [
              0.4444444444444444,
              "#bd3786"
             ],
             [
              0.5555555555555556,
              "#d8576b"
             ],
             [
              0.6666666666666666,
              "#ed7953"
             ],
             [
              0.7777777777777778,
              "#fb9f3a"
             ],
             [
              0.8888888888888888,
              "#fdca26"
             ],
             [
              1,
              "#f0f921"
             ]
            ],
            "type": "histogram2d"
           }
          ],
          "histogram2dcontour": [
           {
            "colorbar": {
             "outlinewidth": 0,
             "ticks": ""
            },
            "colorscale": [
             [
              0,
              "#0d0887"
             ],
             [
              0.1111111111111111,
              "#46039f"
             ],
             [
              0.2222222222222222,
              "#7201a8"
             ],
             [
              0.3333333333333333,
              "#9c179e"
             ],
             [
              0.4444444444444444,
              "#bd3786"
             ],
             [
              0.5555555555555556,
              "#d8576b"
             ],
             [
              0.6666666666666666,
              "#ed7953"
             ],
             [
              0.7777777777777778,
              "#fb9f3a"
             ],
             [
              0.8888888888888888,
              "#fdca26"
             ],
             [
              1,
              "#f0f921"
             ]
            ],
            "type": "histogram2dcontour"
           }
          ],
          "mesh3d": [
           {
            "colorbar": {
             "outlinewidth": 0,
             "ticks": ""
            },
            "type": "mesh3d"
           }
          ],
          "parcoords": [
           {
            "line": {
             "colorbar": {
              "outlinewidth": 0,
              "ticks": ""
             }
            },
            "type": "parcoords"
           }
          ],
          "pie": [
           {
            "automargin": true,
            "type": "pie"
           }
          ],
          "scatter": [
           {
            "fillpattern": {
             "fillmode": "overlay",
             "size": 10,
             "solidity": 0.2
            },
            "type": "scatter"
           }
          ],
          "scatter3d": [
           {
            "line": {
             "colorbar": {
              "outlinewidth": 0,
              "ticks": ""
             }
            },
            "marker": {
             "colorbar": {
              "outlinewidth": 0,
              "ticks": ""
             }
            },
            "type": "scatter3d"
           }
          ],
          "scattercarpet": [
           {
            "marker": {
             "colorbar": {
              "outlinewidth": 0,
              "ticks": ""
             }
            },
            "type": "scattercarpet"
           }
          ],
          "scattergeo": [
           {
            "marker": {
             "colorbar": {
              "outlinewidth": 0,
              "ticks": ""
             }
            },
            "type": "scattergeo"
           }
          ],
          "scattergl": [
           {
            "marker": {
             "colorbar": {
              "outlinewidth": 0,
              "ticks": ""
             }
            },
            "type": "scattergl"
           }
          ],
          "scattermapbox": [
           {
            "marker": {
             "colorbar": {
              "outlinewidth": 0,
              "ticks": ""
             }
            },
            "type": "scattermapbox"
           }
          ],
          "scatterpolar": [
           {
            "marker": {
             "colorbar": {
              "outlinewidth": 0,
              "ticks": ""
             }
            },
            "type": "scatterpolar"
           }
          ],
          "scatterpolargl": [
           {
            "marker": {
             "colorbar": {
              "outlinewidth": 0,
              "ticks": ""
             }
            },
            "type": "scatterpolargl"
           }
          ],
          "scatterternary": [
           {
            "marker": {
             "colorbar": {
              "outlinewidth": 0,
              "ticks": ""
             }
            },
            "type": "scatterternary"
           }
          ],
          "surface": [
           {
            "colorbar": {
             "outlinewidth": 0,
             "ticks": ""
            },
            "colorscale": [
             [
              0,
              "#0d0887"
             ],
             [
              0.1111111111111111,
              "#46039f"
             ],
             [
              0.2222222222222222,
              "#7201a8"
             ],
             [
              0.3333333333333333,
              "#9c179e"
             ],
             [
              0.4444444444444444,
              "#bd3786"
             ],
             [
              0.5555555555555556,
              "#d8576b"
             ],
             [
              0.6666666666666666,
              "#ed7953"
             ],
             [
              0.7777777777777778,
              "#fb9f3a"
             ],
             [
              0.8888888888888888,
              "#fdca26"
             ],
             [
              1,
              "#f0f921"
             ]
            ],
            "type": "surface"
           }
          ],
          "table": [
           {
            "cells": {
             "fill": {
              "color": "#EBF0F8"
             },
             "line": {
              "color": "white"
             }
            },
            "header": {
             "fill": {
              "color": "#C8D4E3"
             },
             "line": {
              "color": "white"
             }
            },
            "type": "table"
           }
          ]
         },
         "layout": {
          "annotationdefaults": {
           "arrowcolor": "#2a3f5f",
           "arrowhead": 0,
           "arrowwidth": 1
          },
          "autotypenumbers": "strict",
          "coloraxis": {
           "colorbar": {
            "outlinewidth": 0,
            "ticks": ""
           }
          },
          "colorscale": {
           "diverging": [
            [
             0,
             "#8e0152"
            ],
            [
             0.1,
             "#c51b7d"
            ],
            [
             0.2,
             "#de77ae"
            ],
            [
             0.3,
             "#f1b6da"
            ],
            [
             0.4,
             "#fde0ef"
            ],
            [
             0.5,
             "#f7f7f7"
            ],
            [
             0.6,
             "#e6f5d0"
            ],
            [
             0.7,
             "#b8e186"
            ],
            [
             0.8,
             "#7fbc41"
            ],
            [
             0.9,
             "#4d9221"
            ],
            [
             1,
             "#276419"
            ]
           ],
           "sequential": [
            [
             0,
             "#0d0887"
            ],
            [
             0.1111111111111111,
             "#46039f"
            ],
            [
             0.2222222222222222,
             "#7201a8"
            ],
            [
             0.3333333333333333,
             "#9c179e"
            ],
            [
             0.4444444444444444,
             "#bd3786"
            ],
            [
             0.5555555555555556,
             "#d8576b"
            ],
            [
             0.6666666666666666,
             "#ed7953"
            ],
            [
             0.7777777777777778,
             "#fb9f3a"
            ],
            [
             0.8888888888888888,
             "#fdca26"
            ],
            [
             1,
             "#f0f921"
            ]
           ],
           "sequentialminus": [
            [
             0,
             "#0d0887"
            ],
            [
             0.1111111111111111,
             "#46039f"
            ],
            [
             0.2222222222222222,
             "#7201a8"
            ],
            [
             0.3333333333333333,
             "#9c179e"
            ],
            [
             0.4444444444444444,
             "#bd3786"
            ],
            [
             0.5555555555555556,
             "#d8576b"
            ],
            [
             0.6666666666666666,
             "#ed7953"
            ],
            [
             0.7777777777777778,
             "#fb9f3a"
            ],
            [
             0.8888888888888888,
             "#fdca26"
            ],
            [
             1,
             "#f0f921"
            ]
           ]
          },
          "colorway": [
           "#636efa",
           "#EF553B",
           "#00cc96",
           "#ab63fa",
           "#FFA15A",
           "#19d3f3",
           "#FF6692",
           "#B6E880",
           "#FF97FF",
           "#FECB52"
          ],
          "font": {
           "color": "#2a3f5f"
          },
          "geo": {
           "bgcolor": "white",
           "lakecolor": "white",
           "landcolor": "#E5ECF6",
           "showlakes": true,
           "showland": true,
           "subunitcolor": "white"
          },
          "hoverlabel": {
           "align": "left"
          },
          "hovermode": "closest",
          "mapbox": {
           "style": "light"
          },
          "paper_bgcolor": "white",
          "plot_bgcolor": "#E5ECF6",
          "polar": {
           "angularaxis": {
            "gridcolor": "white",
            "linecolor": "white",
            "ticks": ""
           },
           "bgcolor": "#E5ECF6",
           "radialaxis": {
            "gridcolor": "white",
            "linecolor": "white",
            "ticks": ""
           }
          },
          "scene": {
           "xaxis": {
            "backgroundcolor": "#E5ECF6",
            "gridcolor": "white",
            "gridwidth": 2,
            "linecolor": "white",
            "showbackground": true,
            "ticks": "",
            "zerolinecolor": "white"
           },
           "yaxis": {
            "backgroundcolor": "#E5ECF6",
            "gridcolor": "white",
            "gridwidth": 2,
            "linecolor": "white",
            "showbackground": true,
            "ticks": "",
            "zerolinecolor": "white"
           },
           "zaxis": {
            "backgroundcolor": "#E5ECF6",
            "gridcolor": "white",
            "gridwidth": 2,
            "linecolor": "white",
            "showbackground": true,
            "ticks": "",
            "zerolinecolor": "white"
           }
          },
          "shapedefaults": {
           "line": {
            "color": "#2a3f5f"
           }
          },
          "ternary": {
           "aaxis": {
            "gridcolor": "white",
            "linecolor": "white",
            "ticks": ""
           },
           "baxis": {
            "gridcolor": "white",
            "linecolor": "white",
            "ticks": ""
           },
           "bgcolor": "#E5ECF6",
           "caxis": {
            "gridcolor": "white",
            "linecolor": "white",
            "ticks": ""
           }
          },
          "title": {
           "x": 0.05
          },
          "xaxis": {
           "automargin": true,
           "gridcolor": "white",
           "linecolor": "white",
           "ticks": "",
           "title": {
            "standoff": 15
           },
           "zerolinecolor": "white",
           "zerolinewidth": 2
          },
          "yaxis": {
           "automargin": true,
           "gridcolor": "white",
           "linecolor": "white",
           "ticks": "",
           "title": {
            "standoff": 15
           },
           "zerolinecolor": "white",
           "zerolinewidth": 2
          }
         }
        },
        "title": {
         "text": "Partial Correlation Matrix of Hydrological Inflow Variables"
        },
        "width": 800,
        "xaxis": {
         "side": "top",
         "title": {
          "text": "Variable 1"
         }
        },
        "yaxis": {
         "autorange": "reversed",
         "title": {
          "text": "Variable 2"
         }
        }
       }
      }
     },
     "metadata": {},
     "output_type": "display_data"
    },
    {
     "data": {
      "application/vnd.plotly.v1+json": {
       "config": {
        "plotlyServerURL": "https://plot.ly"
       },
       "data": [
        {
         "colorscale": [
          [
           0,
           "rgb(103,0,31)"
          ],
          [
           0.1,
           "rgb(178,24,43)"
          ],
          [
           0.2,
           "rgb(214,96,77)"
          ],
          [
           0.3,
           "rgb(244,165,130)"
          ],
          [
           0.4,
           "rgb(253,219,199)"
          ],
          [
           0.5,
           "rgb(247,247,247)"
          ],
          [
           0.6,
           "rgb(209,229,240)"
          ],
          [
           0.7,
           "rgb(146,197,222)"
          ],
          [
           0.8,
           "rgb(67,147,195)"
          ],
          [
           0.9,
           "rgb(33,102,172)"
          ],
          [
           1,
           "rgb(5,48,97)"
          ]
         ],
         "hovertemplate": "Variable 1: %{x}<br>Variable 2: %{y}<br>Partial Correlation: %{z:.2f}<extra></extra>",
         "type": "heatmap",
         "x": [
          "Wind_Speed_Nilsebu",
          "Air_Temperature_Nilsebu",
          "Wind_Direction_Nilsebu",
          "Relative_Humidity_Nilsebu",
          "Water_Level_Lyngsaana",
          "Water_Temperature_Hiafossen",
          "Water_Level_Hiafossen",
          "Air_Temperature_Fister",
          "Precipitation_Fister",
          "Flow_Lyngsvatn_Overflow",
          "Flow_Tapping",
          "Water_Level_Kalltveit",
          "Flow_Kalltveit",
          "Water_Temperature_Kalltveit_Kum",
          "Precipitation_Nilsebu",
          "Water_Temperature_Hiavatn",
          "Water_Level_Hiavatn",
          "Water_Temperature_Musdalsvatn",
          "Water_Level_Musdalsvatn",
          "Water_Temperature_Musdalsvatn_Downstream",
          "Water_Level_Musdalsvatn_Downstream",
          "Water_Temperature_Viglesdalsvatn",
          "Water_Level_Viglesdalsvatn",
          "Flow_HBV",
          "Precipitation_HBV",
          "Temperature_HBV",
          "Flow_Without_Tapping_Kalltveit",
          "Flow_Lyngsaana",
          "Water_Temperature_Lyngsaana"
         ],
         "y": [
          "Wind_Speed_Nilsebu",
          "Air_Temperature_Nilsebu",
          "Wind_Direction_Nilsebu",
          "Relative_Humidity_Nilsebu",
          "Water_Level_Lyngsaana",
          "Water_Temperature_Hiafossen",
          "Water_Level_Hiafossen",
          "Air_Temperature_Fister",
          "Precipitation_Fister",
          "Flow_Lyngsvatn_Overflow",
          "Flow_Tapping",
          "Water_Level_Kalltveit",
          "Flow_Kalltveit",
          "Water_Temperature_Kalltveit_Kum",
          "Precipitation_Nilsebu",
          "Water_Temperature_Hiavatn",
          "Water_Level_Hiavatn",
          "Water_Temperature_Musdalsvatn",
          "Water_Level_Musdalsvatn",
          "Water_Temperature_Musdalsvatn_Downstream",
          "Water_Level_Musdalsvatn_Downstream",
          "Water_Temperature_Viglesdalsvatn",
          "Water_Level_Viglesdalsvatn",
          "Flow_HBV",
          "Precipitation_HBV",
          "Temperature_HBV",
          "Flow_Without_Tapping_Kalltveit",
          "Flow_Lyngsaana",
          "Water_Temperature_Lyngsaana"
         ],
         "z": [
          [
           0,
           0.3600865753261431,
           0.010502472119468611,
           0.1403256356569806,
           0.9139571468290217,
           0.40894236031858355,
           0.9132710915386767,
           0.4316710673612132,
           0.9054483922531863,
           0.9121633447165494,
           0.865148721023191,
           0.9141373792845706,
           0.3684625153841049,
           0.8078702129129207,
           0.9039386169993164,
           0.400484566546823,
           0.91319328074565,
           0.41279948230821717,
           0.9109817308816299,
           0.4341635431133909,
           0.9126989078651782,
           0.41078710275335456,
           0.9129496882181848,
           0.415414111529075,
           0.9104841060643255,
           0.3602020941842375,
           0.3600305946196918,
           0.7510216904822057,
           0.40427653853513995
          ],
          [
           0.3600865753261431,
           0,
           -0.1608808533572977,
           0.01527288346019098,
           0.4410366469182639,
           0.8958716250231875,
           0.4480182629666252,
           0.9629768475331979,
           0.44638317683789097,
           0.4471502539555701,
           0.44737833707163716,
           0.44525950321786967,
           0.10281701453533004,
           0.638354280053401,
           0.43207232250065064,
           0.8781980581613907,
           0.44996859037958165,
           0.8568791049749651,
           0.46167233168929617,
           0.8733207955300643,
           0.4503873454937288,
           0.8687245645629392,
           0.45147660703511555,
           0.15465400117279987,
           0.43629405369403407,
           0.9940248448712798,
           0.08146732094956928,
           0.272613355376424,
           0.9225747023516386
          ],
          [
           0.010502472119468611,
           -0.1608808533572977,
           0,
           0.0029916721569529896,
           0.04037860876746133,
           -0.09520929596601563,
           0.03623502410036629,
           -0.13950197802842904,
           0.02380067914526786,
           0.02631086552423898,
           -0.017782270384842324,
           0.03898122159139413,
           0.16913646404844884,
           -0.05772118297692492,
           0.05210676701513711,
           -0.09098448669673993,
           0.03982438521927238,
           -0.09680134464651896,
           0.031149089997371093,
           -0.1021955893057781,
           0.032388373278293504,
           -0.09980328056802595,
           0.037490520240999,
           0.1847591982884382,
           0.054258275525222374,
           -0.15942481126517802,
           0.1771305073136816,
           0.1739074695344844,
           -0.07661935729723698
          ],
          [
           0.1403256356569806,
           0.01527288346019098,
           0.0029916721569529896,
           0,
           0.14560117489795782,
           0.03825309387699538,
           0.14781520543064808,
           0.030306700391032858,
           0.13799775648534912,
           0.1469544827507693,
           0.15245230378107616,
           0.14775172252171098,
           0.06450885793572667,
           0.1302685592193305,
           0.14277540650744305,
           0.037554628880525555,
           0.14868950316922083,
           0.04302481097760104,
           0.14941454537092846,
           0.04835692505833425,
           0.1484031213014511,
           0.04041651677312669,
           0.1483278990432106,
           0.013832962107544141,
           0.14296844208731257,
           0.024565250442418207,
           0.05138997347765409,
           0.12381009921789579,
           0.03341152001078026
          ],
          [
           0.9139571468290217,
           0.4410366469182639,
           0.04037860876746133,
           0.14560117489795782,
           0,
           0.5275795292056101,
           0.9996381149170942,
           0.5010795192619404,
           0.9878479578652607,
           0.9993037451511705,
           0.9488969854226034,
           0.9997510204442046,
           0.3516006548431155,
           0.920469404954067,
           0.9786884050480579,
           0.5200897693740903,
           0.999386518326002,
           0.5307939278749363,
           0.9981191793666561,
           0.552696613101196,
           0.9993080296247819,
           0.531192510613734,
           0.9994920911737304,
           0.4140616146609516,
           0.9867860273010358,
           0.44009586877479523,
           0.343966258266251,
           0.7866906438265606,
           0.5201875572075538
          ],
          [
           0.40894236031858355,
           0.8958716250231875,
           -0.09520929596601563,
           0.03825309387699538,
           0.5275795292056101,
           0,
           0.5366654525164332,
           0.8993043898784845,
           0.530121069133439,
           0.537785856284859,
           0.5565291175170758,
           0.5324205783727487,
           0.04627861851270857,
           0.7680821643290353,
           0.5086334486137324,
           0.9981963995760197,
           0.537698207919696,
           0.9882835836882836,
           0.5517646544545138,
           0.9918560149996022,
           0.5409018545935156,
           0.9951914563338455,
           0.5395407376856812,
           0.10623968226825647,
           0.5163607569823074,
           0.8907220318190493,
           0.01605539553116883,
           0.2759029258663995,
           0.9859850484234864
          ],
          [
           0.9132710915386767,
           0.4480182629666252,
           0.03623502410036629,
           0.14781520543064808,
           0.9996381149170942,
           0.5366654525164332,
           0,
           0.5078670966452364,
           0.9876741507423494,
           0.9995209695760181,
           0.9525787232669521,
           0.9998826958944301,
           0.35123526638258307,
           0.9227405976294188,
           0.978274770807545,
           0.5291886022237309,
           0.9998658300487895,
           0.5395684698390332,
           0.9991840490103732,
           0.5613224039844082,
           0.9998689894873193,
           0.5401230412986967,
           0.9999374525108854,
           0.41291655299925684,
           0.9864752678543838,
           0.4470827353157236,
           0.34129654749028926,
           0.7822557780922532,
           0.5286468648434143
          ],
          [
           0.4316710673612132,
           0.9629768475331979,
           -0.13950197802842904,
           0.030306700391032858,
           0.5010795192619404,
           0.8993043898784845,
           0.5078670966452364,
           0,
           0.5036817718484917,
           0.5068017542876,
           0.5031217807254033,
           0.5049398737673341,
           0.12273982920299897,
           0.68510847909625,
           0.48965224720829514,
           0.8817737391356455,
           0.5096846055616222,
           0.8599768914447955,
           0.5206983901929692,
           0.877293550023725,
           0.5103724778744325,
           0.8730148202838738,
           0.5110975770202919,
           0.18245510820481295,
           0.49443987540491807,
           0.9571254802831031,
           0.10203836358026523,
           0.3179769558618119,
           0.927266458261678
          ],
          [
           0.9054483922531863,
           0.44638317683789097,
           0.02380067914526786,
           0.13799775648534912,
           0.9878479578652607,
           0.530121069133439,
           0.9876741507423494,
           0.5036817718484917,
           0,
           0.9872759803631177,
           0.9377938866725216,
           0.9878941578219504,
           0.3543382711151173,
           0.9131964085075617,
           0.974746909463615,
           0.5230896250530214,
           0.9873865493565953,
           0.5345223340763641,
           0.9864594255154672,
           0.5556867149741869,
           0.9875568125725984,
           0.5343179251060236,
           0.9875238296520488,
           0.41101410431225816,
           0.981759725665406,
           0.44498863681752004,
           0.3456468612607254,
           0.7812365480209891,
           0.5222265784213291
          ],
          [
           0.9121633447165494,
           0.4471502539555701,
           0.02631086552423898,
           0.1469544827507693,
           0.9993037451511705,
           0.537785856284859,
           0.9995209695760181,
           0.5068017542876,
           0.9872759803631177,
           0,
           0.9531041252994616,
           0.999429542650181,
           0.32517941215523943,
           0.923130563807975,
           0.9766193863993096,
           0.5303246945160397,
           0.9990722838022917,
           0.5407225238955555,
           0.9983021505366122,
           0.562389118748856,
           0.9995610720830196,
           0.5412416718898023,
           0.9993398148887707,
           0.388366733866197,
           0.9851599343623375,
           0.4463746481689031,
           0.3160296275009491,
           0.7673847005951011,
           0.5284949165104592
          ],
          [
           0.865148721023191,
           0.44737833707163716,
           -0.017782270384842324,
           0.15245230378107616,
           0.9488969854226034,
           0.5565291175170758,
           0.9525787232669521,
           0.5031217807254033,
           0.9377938866725216,
           0.9531041252994616,
           0,
           0.9513807311371538,
           0.28789426039076976,
           0.8995362598351166,
           0.9257222939431223,
           0.5503249837962111,
           0.9526281403724274,
           0.5648434982220802,
           0.9565749262236546,
           0.5841053153700034,
           0.9548774633595378,
           0.5615305878003064,
           0.9528495083257477,
           0.32342855043240276,
           0.9342638701127605,
           0.44515481537460555,
           0.2487395947840815,
           0.6891683997200703,
           0.5374502150149543
          ],
          [
           0.9141373792845706,
           0.44525950321786967,
           0.03898122159139413,
           0.14775172252171098,
           0.9997510204442046,
           0.5324205783727487,
           0.9998826958944301,
           0.5049398737673341,
           0.9878941578219504,
           0.999429542650181,
           0.9513807311371538,
           0,
           0.3580588904456767,
           0.9214946551776074,
           0.97913447767116,
           0.5249440789280546,
           0.9998029938832325,
           0.5355250622216354,
           0.9988331673471054,
           0.5573323376932462,
           0.999717903364041,
           0.5360064005312352,
           0.9998451870351622,
           0.4182178964196689,
           0.9872079524897777,
           0.4442699852904247,
           0.3487180357597686,
           0.7873250806253774,
           0.5243390878865111
          ],
          [
           0.3684625153841049,
           0.10281701453533004,
           0.16913646404844884,
           0.06450885793572667,
           0.3516006548431155,
           0.04627861851270857,
           0.35123526638258307,
           0.12273982920299897,
           0.3543382711151173,
           0.32517941215523943,
           0.28789426039076976,
           0.3580588904456767,
           0,
           0.2661932481035764,
           0.4108813227379681,
           0.04310560870269553,
           0.3622387459929949,
           0.05179211330078934,
           0.3558963667542006,
           0.06206685828600096,
           0.34651788250754656,
           0.05037266336837546,
           0.3554926339922941,
           0.9365109848359743,
           0.4002944704617091,
           0.09679149193618596,
           0.9876206449713752,
           0.8135503360694538,
           0.07090909356973288
          ],
          [
           0.8078702129129207,
           0.638354280053401,
           -0.05772118297692492,
           0.1302685592193305,
           0.920469404954067,
           0.7680821643290353,
           0.9227405976294188,
           0.68510847909625,
           0.9131964085075617,
           0.923130563807975,
           0.8995362598351166,
           0.9214946551776074,
           0.2661932481035764,
           0,
           0.8983953817474856,
           0.7669771177427217,
           0.9229743609648592,
           0.7803166674439919,
           0.9261651434701664,
           0.7962436709612474,
           0.9240367742300968,
           0.7799387267808486,
           0.9237007488100275,
           0.3334837578774733,
           0.9069120359635959,
           0.6355468923274417,
           0.24578055782101954,
           0.6741094046145085,
           0.7434088237471029
          ],
          [
           0.9039386169993164,
           0.43207232250065064,
           0.05210676701513711,
           0.14277540650744305,
           0.9786884050480579,
           0.5086334486137324,
           0.978274770807545,
           0.48965224720829514,
           0.974746909463615,
           0.9766193863993096,
           0.9257222939431223,
           0.97913447767116,
           0.4108813227379681,
           0.8983953817474856,
           0,
           0.5020818181200071,
           0.9782867150996024,
           0.5140571963789734,
           0.976886563989651,
           0.5347463905852788,
           0.977937146203514,
           0.5137275341988469,
           0.9781499025177861,
           0.4566478611119086,
           0.9919047542239599,
           0.4304478430478521,
           0.4016986504089286,
           0.8116969742050163,
           0.5007747608242197
          ],
          [
           0.400484566546823,
           0.8781980581613907,
           -0.09098448669673993,
           0.037554628880525555,
           0.5200897693740903,
           0.9981963995760197,
           0.5291886022237309,
           0.8817737391356455,
           0.5230896250530214,
           0.5303246945160397,
           0.5503249837962111,
           0.5249440789280546,
           0.04310560870269553,
           0.7669771177427217,
           0.5020818181200071,
           0,
           0.5301727861052571,
           0.9914840636729134,
           0.5443366371556843,
           0.9928185936089614,
           0.5334775271459459,
           0.9980192206109086,
           0.5320350133287292,
           0.10022130615012981,
           0.5098064308670962,
           0.8732765594714273,
           0.012369563073881835,
           0.2698291547820987,
           0.9790445120662239
          ],
          [
           0.91319328074565,
           0.44996859037958165,
           0.03982438521927238,
           0.14868950316922083,
           0.999386518326002,
           0.537698207919696,
           0.9998658300487895,
           0.5096846055616222,
           0.9873865493565953,
           0.9990722838022917,
           0.9526281403724274,
           0.9998029938832325,
           0.3622387459929949,
           0.9229743609648592,
           0.9782867150996024,
           0.5301727861052571,
           0,
           0.5405086851433357,
           0.9993524355553877,
           0.5622821209031403,
           0.9997413251694758,
           0.5411324220416949,
           0.999955679493124,
           0.4237290454144921,
           0.9864101116469575,
           0.4489784771108247,
           0.35168584348295084,
           0.7871859104136395,
           0.5300008776592046
          ],
          [
           0.41279948230821717,
           0.8568791049749651,
           -0.09680134464651896,
           0.04302481097760104,
           0.5307939278749363,
           0.9882835836882836,
           0.5395684698390332,
           0.8599768914447955,
           0.5345223340763641,
           0.5407225238955555,
           0.5648434982220802,
           0.5355250622216354,
           0.05179211330078934,
           0.7803166674439919,
           0.5140571963789734,
           0.9914840636729134,
           0.5405086851433357,
           0,
           0.5544797322712068,
           0.9975626592235814,
           0.5438962598203585,
           0.993694476388137,
           0.5422573971538717,
           0.10164304499848738,
           0.5214627115013727,
           0.8521182523932631,
           0.01798178677018486,
           0.28509608587616253,
           0.9623053052710531
          ],
          [
           0.9109817308816299,
           0.46167233168929617,
           0.031149089997371093,
           0.14941454537092846,
           0.9981191793666561,
           0.5517646544545138,
           0.9991840490103732,
           0.5206983901929692,
           0.9864594255154672,
           0.9983021505366122,
           0.9565749262236546,
           0.9988331673471054,
           0.3558963667542006,
           0.9261651434701664,
           0.976886563989651,
           0.5443366371556843,
           0.9993524355553877,
           0.5544797322712068,
           0,
           0.575947439058223,
           0.9993541509681739,
           0.5550061852398689,
           0.9994032986057699,
           0.4161519281975762,
           0.9850653172135037,
           0.4605497952858162,
           0.34254752536278266,
           0.7801202268040779,
           0.5435318689821834
          ],
          [
           0.4341635431133909,
           0.8733207955300643,
           -0.1021955893057781,
           0.04835692505833425,
           0.552696613101196,
           0.9918560149996022,
           0.5613224039844082,
           0.877293550023725,
           0.5556867149741869,
           0.562389118748856,
           0.5841053153700034,
           0.5573323376932462,
           0.06206685828600096,
           0.7962436709612474,
           0.5347463905852788,
           0.9928185936089614,
           0.5622821209031403,
           0.9975626592235814,
           0.575947439058223,
           0,
           0.5655150401749438,
           0.9939075025954681,
           0.5640210645429362,
           0.11387503610945987,
           0.5422709333932593,
           0.8684155109317406,
           0.028468546359616254,
           0.30428138936522126,
           0.9699792774699261
          ],
          [
           0.9126989078651782,
           0.4503873454937288,
           0.032388373278293504,
           0.1484031213014511,
           0.9993080296247819,
           0.5409018545935156,
           0.9998689894873193,
           0.5103724778744325,
           0.9875568125725984,
           0.9995610720830196,
           0.9548774633595378,
           0.999717903364041,
           0.34651788250754656,
           0.9240367742300968,
           0.977937146203514,
           0.5334775271459459,
           0.9997413251694758,
           0.5438962598203585,
           0.9993541509681739,
           0.5655150401749438,
           0,
           0.5443816987632984,
           0.9998437063466099,
           0.4075158131967699,
           0.9861960066096539,
           0.4494613261125627,
           0.33550888560832964,
           0.7776526119364895,
           0.532369471776004
          ],
          [
           0.41078710275335456,
           0.8687245645629392,
           -0.09980328056802595,
           0.04041651677312669,
           0.531192510613734,
           0.9951914563338455,
           0.5401230412986967,
           0.8730148202838738,
           0.5343179251060236,
           0.5412416718898023,
           0.5615305878003064,
           0.5360064005312352,
           0.05037266336837546,
           0.7799387267808486,
           0.5137275341988469,
           0.9980192206109086,
           0.5411324220416949,
           0.993694476388137,
           0.5550061852398689,
           0.9939075025954681,
           0.5443816987632984,
           0,
           0.5429319878979426,
           0.10552426036460355,
           0.5213655793411685,
           0.8638373876627028,
           0.01879594953995596,
           0.2818112098696661,
           0.9713231118891756
          ],
          [
           0.9129496882181848,
           0.45147660703511555,
           0.037490520240999,
           0.1483278990432106,
           0.9994920911737304,
           0.5395407376856812,
           0.9999374525108854,
           0.5110975770202919,
           0.9875238296520488,
           0.9993398148887707,
           0.9528495083257477,
           0.9998451870351622,
           0.3554926339922941,
           0.9237007488100275,
           0.9781499025177861,
           0.5320350133287292,
           0.999955679493124,
           0.5422573971538717,
           0.9994032986057699,
           0.5640210645429362,
           0.9998437063466099,
           0.5429319878979426,
           0,
           0.41737195844932806,
           0.9863365071019383,
           0.45049612293396546,
           0.3451351797933042,
           0.7836759910179002,
           0.5316777891615019
          ],
          [
           0.415414111529075,
           0.15465400117279987,
           0.1847591982884382,
           0.013832962107544141,
           0.4140616146609516,
           0.10623968226825647,
           0.41291655299925684,
           0.18245510820481295,
           0.41101410431225816,
           0.388366733866197,
           0.32342855043240276,
           0.4182178964196689,
           0.9365109848359743,
           0.3334837578774733,
           0.4566478611119086,
           0.10022130615012981,
           0.4237290454144921,
           0.10164304499848738,
           0.4161519281975762,
           0.11387503610945987,
           0.4075158131967699,
           0.10552426036460355,
           0.41737195844932806,
           0,
           0.44938385237503675,
           0.14757294905976925,
           0.9423179649868949,
           0.8174865973009514,
           0.1397407389852517
          ],
          [
           0.9104841060643255,
           0.43629405369403407,
           0.054258275525222374,
           0.14296844208731257,
           0.9867860273010358,
           0.5163607569823074,
           0.9864752678543838,
           0.49443987540491807,
           0.981759725665406,
           0.9851599343623375,
           0.9342638701127605,
           0.9872079524897777,
           0.4002944704617091,
           0.9069120359635959,
           0.9919047542239599,
           0.5098064308670962,
           0.9864101116469575,
           0.5214627115013727,
           0.9850653172135037,
           0.5422709333932593,
           0.9861960066096539,
           0.5213655793411685,
           0.9863365071019383,
           0.44938385237503675,
           0,
           0.43525714569465795,
           0.3913019441440155,
           0.8092128153531748,
           0.5080191859419222
          ],
          [
           0.3602020941842375,
           0.9940248448712798,
           -0.15942481126517802,
           0.024565250442418207,
           0.44009586877479523,
           0.8907220318190493,
           0.4470827353157236,
           0.9571254802831031,
           0.44498863681752004,
           0.4463746481689031,
           0.44515481537460555,
           0.4442699852904247,
           0.09679149193618596,
           0.6355468923274417,
           0.4304478430478521,
           0.8732765594714273,
           0.4489784771108247,
           0.8521182523932631,
           0.4605497952858162,
           0.8684155109317406,
           0.4494613261125627,
           0.8638373876627028,
           0.45049612293396546,
           0.14757294905976925,
           0.43525714569465795,
           0,
           0.07527815353803988,
           0.26999843628760195,
           0.915897000022911
          ],
          [
           0.3600305946196918,
           0.08146732094956928,
           0.1771305073136816,
           0.05138997347765409,
           0.343966258266251,
           0.01605539553116883,
           0.34129654749028926,
           0.10203836358026523,
           0.3456468612607254,
           0.3160296275009491,
           0.2487395947840815,
           0.3487180357597686,
           0.9876206449713752,
           0.24578055782101954,
           0.4016986504089286,
           0.012369563073881835,
           0.35168584348295084,
           0.01798178677018486,
           0.34254752536278266,
           0.028468546359616254,
           0.33550888560832964,
           0.01879594953995596,
           0.3451351797933042,
           0.9423179649868949,
           0.3913019441440155,
           0.07527815353803988,
           0,
           0.8171857756473234,
           0.0454727373445446
          ],
          [
           0.7510216904822057,
           0.272613355376424,
           0.1739074695344844,
           0.12381009921789579,
           0.7866906438265606,
           0.2759029258663995,
           0.7822557780922532,
           0.3179769558618119,
           0.7812365480209891,
           0.7673847005951011,
           0.6891683997200703,
           0.7873250806253774,
           0.8135503360694538,
           0.6741094046145085,
           0.8116969742050163,
           0.2698291547820987,
           0.7871859104136395,
           0.28509608587616253,
           0.7801202268040779,
           0.30428138936522126,
           0.7776526119364895,
           0.2818112098696661,
           0.7836759910179002,
           0.8174865973009514,
           0.8092128153531748,
           0.26999843628760195,
           0.8171857756473234,
           0,
           0.2856606288491315
          ],
          [
           0.40427653853513995,
           0.9225747023516386,
           -0.07661935729723698,
           0.03341152001078026,
           0.5201875572075538,
           0.9859850484234864,
           0.5286468648434143,
           0.927266458261678,
           0.5222265784213291,
           0.5284949165104592,
           0.5374502150149543,
           0.5243390878865111,
           0.07090909356973288,
           0.7434088237471029,
           0.5007747608242197,
           0.9790445120662239,
           0.5300008776592046,
           0.9623053052710531,
           0.5435318689821834,
           0.9699792774699261,
           0.532369471776004,
           0.9713231118891756,
           0.5316777891615019,
           0.1397407389852517,
           0.5080191859419222,
           0.915897000022911,
           0.0454727373445446,
           0.2856606288491315,
           0
          ]
         ],
         "zmax": 1,
         "zmid": 0,
         "zmin": -1
        }
       ],
       "layout": {
        "height": 800,
        "margin": {
         "t": 100
        },
        "template": {
         "data": {
          "bar": [
           {
            "error_x": {
             "color": "#2a3f5f"
            },
            "error_y": {
             "color": "#2a3f5f"
            },
            "marker": {
             "line": {
              "color": "#E5ECF6",
              "width": 0.5
             },
             "pattern": {
              "fillmode": "overlay",
              "size": 10,
              "solidity": 0.2
             }
            },
            "type": "bar"
           }
          ],
          "barpolar": [
           {
            "marker": {
             "line": {
              "color": "#E5ECF6",
              "width": 0.5
             },
             "pattern": {
              "fillmode": "overlay",
              "size": 10,
              "solidity": 0.2
             }
            },
            "type": "barpolar"
           }
          ],
          "carpet": [
           {
            "aaxis": {
             "endlinecolor": "#2a3f5f",
             "gridcolor": "white",
             "linecolor": "white",
             "minorgridcolor": "white",
             "startlinecolor": "#2a3f5f"
            },
            "baxis": {
             "endlinecolor": "#2a3f5f",
             "gridcolor": "white",
             "linecolor": "white",
             "minorgridcolor": "white",
             "startlinecolor": "#2a3f5f"
            },
            "type": "carpet"
           }
          ],
          "choropleth": [
           {
            "colorbar": {
             "outlinewidth": 0,
             "ticks": ""
            },
            "type": "choropleth"
           }
          ],
          "contour": [
           {
            "colorbar": {
             "outlinewidth": 0,
             "ticks": ""
            },
            "colorscale": [
             [
              0,
              "#0d0887"
             ],
             [
              0.1111111111111111,
              "#46039f"
             ],
             [
              0.2222222222222222,
              "#7201a8"
             ],
             [
              0.3333333333333333,
              "#9c179e"
             ],
             [
              0.4444444444444444,
              "#bd3786"
             ],
             [
              0.5555555555555556,
              "#d8576b"
             ],
             [
              0.6666666666666666,
              "#ed7953"
             ],
             [
              0.7777777777777778,
              "#fb9f3a"
             ],
             [
              0.8888888888888888,
              "#fdca26"
             ],
             [
              1,
              "#f0f921"
             ]
            ],
            "type": "contour"
           }
          ],
          "contourcarpet": [
           {
            "colorbar": {
             "outlinewidth": 0,
             "ticks": ""
            },
            "type": "contourcarpet"
           }
          ],
          "heatmap": [
           {
            "colorbar": {
             "outlinewidth": 0,
             "ticks": ""
            },
            "colorscale": [
             [
              0,
              "#0d0887"
             ],
             [
              0.1111111111111111,
              "#46039f"
             ],
             [
              0.2222222222222222,
              "#7201a8"
             ],
             [
              0.3333333333333333,
              "#9c179e"
             ],
             [
              0.4444444444444444,
              "#bd3786"
             ],
             [
              0.5555555555555556,
              "#d8576b"
             ],
             [
              0.6666666666666666,
              "#ed7953"
             ],
             [
              0.7777777777777778,
              "#fb9f3a"
             ],
             [
              0.8888888888888888,
              "#fdca26"
             ],
             [
              1,
              "#f0f921"
             ]
            ],
            "type": "heatmap"
           }
          ],
          "heatmapgl": [
           {
            "colorbar": {
             "outlinewidth": 0,
             "ticks": ""
            },
            "colorscale": [
             [
              0,
              "#0d0887"
             ],
             [
              0.1111111111111111,
              "#46039f"
             ],
             [
              0.2222222222222222,
              "#7201a8"
             ],
             [
              0.3333333333333333,
              "#9c179e"
             ],
             [
              0.4444444444444444,
              "#bd3786"
             ],
             [
              0.5555555555555556,
              "#d8576b"
             ],
             [
              0.6666666666666666,
              "#ed7953"
             ],
             [
              0.7777777777777778,
              "#fb9f3a"
             ],
             [
              0.8888888888888888,
              "#fdca26"
             ],
             [
              1,
              "#f0f921"
             ]
            ],
            "type": "heatmapgl"
           }
          ],
          "histogram": [
           {
            "marker": {
             "pattern": {
              "fillmode": "overlay",
              "size": 10,
              "solidity": 0.2
             }
            },
            "type": "histogram"
           }
          ],
          "histogram2d": [
           {
            "colorbar": {
             "outlinewidth": 0,
             "ticks": ""
            },
            "colorscale": [
             [
              0,
              "#0d0887"
             ],
             [
              0.1111111111111111,
              "#46039f"
             ],
             [
              0.2222222222222222,
              "#7201a8"
             ],
             [
              0.3333333333333333,
              "#9c179e"
             ],
             [
              0.4444444444444444,
              "#bd3786"
             ],
             [
              0.5555555555555556,
              "#d8576b"
             ],
             [
              0.6666666666666666,
              "#ed7953"
             ],
             [
              0.7777777777777778,
              "#fb9f3a"
             ],
             [
              0.8888888888888888,
              "#fdca26"
             ],
             [
              1,
              "#f0f921"
             ]
            ],
            "type": "histogram2d"
           }
          ],
          "histogram2dcontour": [
           {
            "colorbar": {
             "outlinewidth": 0,
             "ticks": ""
            },
            "colorscale": [
             [
              0,
              "#0d0887"
             ],
             [
              0.1111111111111111,
              "#46039f"
             ],
             [
              0.2222222222222222,
              "#7201a8"
             ],
             [
              0.3333333333333333,
              "#9c179e"
             ],
             [
              0.4444444444444444,
              "#bd3786"
             ],
             [
              0.5555555555555556,
              "#d8576b"
             ],
             [
              0.6666666666666666,
              "#ed7953"
             ],
             [
              0.7777777777777778,
              "#fb9f3a"
             ],
             [
              0.8888888888888888,
              "#fdca26"
             ],
             [
              1,
              "#f0f921"
             ]
            ],
            "type": "histogram2dcontour"
           }
          ],
          "mesh3d": [
           {
            "colorbar": {
             "outlinewidth": 0,
             "ticks": ""
            },
            "type": "mesh3d"
           }
          ],
          "parcoords": [
           {
            "line": {
             "colorbar": {
              "outlinewidth": 0,
              "ticks": ""
             }
            },
            "type": "parcoords"
           }
          ],
          "pie": [
           {
            "automargin": true,
            "type": "pie"
           }
          ],
          "scatter": [
           {
            "fillpattern": {
             "fillmode": "overlay",
             "size": 10,
             "solidity": 0.2
            },
            "type": "scatter"
           }
          ],
          "scatter3d": [
           {
            "line": {
             "colorbar": {
              "outlinewidth": 0,
              "ticks": ""
             }
            },
            "marker": {
             "colorbar": {
              "outlinewidth": 0,
              "ticks": ""
             }
            },
            "type": "scatter3d"
           }
          ],
          "scattercarpet": [
           {
            "marker": {
             "colorbar": {
              "outlinewidth": 0,
              "ticks": ""
             }
            },
            "type": "scattercarpet"
           }
          ],
          "scattergeo": [
           {
            "marker": {
             "colorbar": {
              "outlinewidth": 0,
              "ticks": ""
             }
            },
            "type": "scattergeo"
           }
          ],
          "scattergl": [
           {
            "marker": {
             "colorbar": {
              "outlinewidth": 0,
              "ticks": ""
             }
            },
            "type": "scattergl"
           }
          ],
          "scattermapbox": [
           {
            "marker": {
             "colorbar": {
              "outlinewidth": 0,
              "ticks": ""
             }
            },
            "type": "scattermapbox"
           }
          ],
          "scatterpolar": [
           {
            "marker": {
             "colorbar": {
              "outlinewidth": 0,
              "ticks": ""
             }
            },
            "type": "scatterpolar"
           }
          ],
          "scatterpolargl": [
           {
            "marker": {
             "colorbar": {
              "outlinewidth": 0,
              "ticks": ""
             }
            },
            "type": "scatterpolargl"
           }
          ],
          "scatterternary": [
           {
            "marker": {
             "colorbar": {
              "outlinewidth": 0,
              "ticks": ""
             }
            },
            "type": "scatterternary"
           }
          ],
          "surface": [
           {
            "colorbar": {
             "outlinewidth": 0,
             "ticks": ""
            },
            "colorscale": [
             [
              0,
              "#0d0887"
             ],
             [
              0.1111111111111111,
              "#46039f"
             ],
             [
              0.2222222222222222,
              "#7201a8"
             ],
             [
              0.3333333333333333,
              "#9c179e"
             ],
             [
              0.4444444444444444,
              "#bd3786"
             ],
             [
              0.5555555555555556,
              "#d8576b"
             ],
             [
              0.6666666666666666,
              "#ed7953"
             ],
             [
              0.7777777777777778,
              "#fb9f3a"
             ],
             [
              0.8888888888888888,
              "#fdca26"
             ],
             [
              1,
              "#f0f921"
             ]
            ],
            "type": "surface"
           }
          ],
          "table": [
           {
            "cells": {
             "fill": {
              "color": "#EBF0F8"
             },
             "line": {
              "color": "white"
             }
            },
            "header": {
             "fill": {
              "color": "#C8D4E3"
             },
             "line": {
              "color": "white"
             }
            },
            "type": "table"
           }
          ]
         },
         "layout": {
          "annotationdefaults": {
           "arrowcolor": "#2a3f5f",
           "arrowhead": 0,
           "arrowwidth": 1
          },
          "autotypenumbers": "strict",
          "coloraxis": {
           "colorbar": {
            "outlinewidth": 0,
            "ticks": ""
           }
          },
          "colorscale": {
           "diverging": [
            [
             0,
             "#8e0152"
            ],
            [
             0.1,
             "#c51b7d"
            ],
            [
             0.2,
             "#de77ae"
            ],
            [
             0.3,
             "#f1b6da"
            ],
            [
             0.4,
             "#fde0ef"
            ],
            [
             0.5,
             "#f7f7f7"
            ],
            [
             0.6,
             "#e6f5d0"
            ],
            [
             0.7,
             "#b8e186"
            ],
            [
             0.8,
             "#7fbc41"
            ],
            [
             0.9,
             "#4d9221"
            ],
            [
             1,
             "#276419"
            ]
           ],
           "sequential": [
            [
             0,
             "#0d0887"
            ],
            [
             0.1111111111111111,
             "#46039f"
            ],
            [
             0.2222222222222222,
             "#7201a8"
            ],
            [
             0.3333333333333333,
             "#9c179e"
            ],
            [
             0.4444444444444444,
             "#bd3786"
            ],
            [
             0.5555555555555556,
             "#d8576b"
            ],
            [
             0.6666666666666666,
             "#ed7953"
            ],
            [
             0.7777777777777778,
             "#fb9f3a"
            ],
            [
             0.8888888888888888,
             "#fdca26"
            ],
            [
             1,
             "#f0f921"
            ]
           ],
           "sequentialminus": [
            [
             0,
             "#0d0887"
            ],
            [
             0.1111111111111111,
             "#46039f"
            ],
            [
             0.2222222222222222,
             "#7201a8"
            ],
            [
             0.3333333333333333,
             "#9c179e"
            ],
            [
             0.4444444444444444,
             "#bd3786"
            ],
            [
             0.5555555555555556,
             "#d8576b"
            ],
            [
             0.6666666666666666,
             "#ed7953"
            ],
            [
             0.7777777777777778,
             "#fb9f3a"
            ],
            [
             0.8888888888888888,
             "#fdca26"
            ],
            [
             1,
             "#f0f921"
            ]
           ]
          },
          "colorway": [
           "#636efa",
           "#EF553B",
           "#00cc96",
           "#ab63fa",
           "#FFA15A",
           "#19d3f3",
           "#FF6692",
           "#B6E880",
           "#FF97FF",
           "#FECB52"
          ],
          "font": {
           "color": "#2a3f5f"
          },
          "geo": {
           "bgcolor": "white",
           "lakecolor": "white",
           "landcolor": "#E5ECF6",
           "showlakes": true,
           "showland": true,
           "subunitcolor": "white"
          },
          "hoverlabel": {
           "align": "left"
          },
          "hovermode": "closest",
          "mapbox": {
           "style": "light"
          },
          "paper_bgcolor": "white",
          "plot_bgcolor": "#E5ECF6",
          "polar": {
           "angularaxis": {
            "gridcolor": "white",
            "linecolor": "white",
            "ticks": ""
           },
           "bgcolor": "#E5ECF6",
           "radialaxis": {
            "gridcolor": "white",
            "linecolor": "white",
            "ticks": ""
           }
          },
          "scene": {
           "xaxis": {
            "backgroundcolor": "#E5ECF6",
            "gridcolor": "white",
            "gridwidth": 2,
            "linecolor": "white",
            "showbackground": true,
            "ticks": "",
            "zerolinecolor": "white"
           },
           "yaxis": {
            "backgroundcolor": "#E5ECF6",
            "gridcolor": "white",
            "gridwidth": 2,
            "linecolor": "white",
            "showbackground": true,
            "ticks": "",
            "zerolinecolor": "white"
           },
           "zaxis": {
            "backgroundcolor": "#E5ECF6",
            "gridcolor": "white",
            "gridwidth": 2,
            "linecolor": "white",
            "showbackground": true,
            "ticks": "",
            "zerolinecolor": "white"
           }
          },
          "shapedefaults": {
           "line": {
            "color": "#2a3f5f"
           }
          },
          "ternary": {
           "aaxis": {
            "gridcolor": "white",
            "linecolor": "white",
            "ticks": ""
           },
           "baxis": {
            "gridcolor": "white",
            "linecolor": "white",
            "ticks": ""
           },
           "bgcolor": "#E5ECF6",
           "caxis": {
            "gridcolor": "white",
            "linecolor": "white",
            "ticks": ""
           }
          },
          "title": {
           "x": 0.05
          },
          "xaxis": {
           "automargin": true,
           "gridcolor": "white",
           "linecolor": "white",
           "ticks": "",
           "title": {
            "standoff": 15
           },
           "zerolinecolor": "white",
           "zerolinewidth": 2
          },
          "yaxis": {
           "automargin": true,
           "gridcolor": "white",
           "linecolor": "white",
           "ticks": "",
           "title": {
            "standoff": 15
           },
           "zerolinecolor": "white",
           "zerolinewidth": 2
          }
         }
        },
        "title": {
         "text": "Partial Correlation Matrix of Hydrological Inflow Variables"
        },
        "width": 800,
        "xaxis": {
         "side": "top",
         "title": {
          "text": "Variable 1"
         }
        },
        "yaxis": {
         "autorange": "reversed",
         "title": {
          "text": "Variable 2"
         }
        }
       }
      }
     },
     "metadata": {},
     "output_type": "display_data"
    },
    {
     "data": {
      "application/vnd.plotly.v1+json": {
       "config": {
        "plotlyServerURL": "https://plot.ly"
       },
       "data": [
        {
         "colorscale": [
          [
           0,
           "rgb(103,0,31)"
          ],
          [
           0.1,
           "rgb(178,24,43)"
          ],
          [
           0.2,
           "rgb(214,96,77)"
          ],
          [
           0.3,
           "rgb(244,165,130)"
          ],
          [
           0.4,
           "rgb(253,219,199)"
          ],
          [
           0.5,
           "rgb(247,247,247)"
          ],
          [
           0.6,
           "rgb(209,229,240)"
          ],
          [
           0.7,
           "rgb(146,197,222)"
          ],
          [
           0.8,
           "rgb(67,147,195)"
          ],
          [
           0.9,
           "rgb(33,102,172)"
          ],
          [
           1,
           "rgb(5,48,97)"
          ]
         ],
         "hovertemplate": "Variable 1: %{x}<br>Variable 2: %{y}<br>Partial Correlation: %{z:.2f}<extra></extra>",
         "type": "heatmap",
         "x": [
          "Wind_Speed_Nilsebu",
          "Air_Temperature_Nilsebu",
          "Wind_Direction_Nilsebu",
          "Relative_Humidity_Nilsebu",
          "Water_Level_Lyngsaana",
          "Water_Temperature_Hiafossen",
          "Water_Level_Hiafossen",
          "Air_Temperature_Fister",
          "Precipitation_Fister",
          "Flow_Lyngsvatn_Overflow",
          "Flow_Tapping",
          "Water_Level_Kalltveit",
          "Flow_Kalltveit",
          "Water_Temperature_Kalltveit_Kum",
          "Precipitation_Nilsebu",
          "Water_Temperature_Hiavatn",
          "Water_Level_Hiavatn",
          "Water_Temperature_Musdalsvatn",
          "Water_Level_Musdalsvatn",
          "Water_Temperature_Musdalsvatn_Downstream",
          "Water_Level_Musdalsvatn_Downstream",
          "Water_Temperature_Viglesdalsvatn",
          "Water_Level_Viglesdalsvatn",
          "Flow_HBV",
          "Precipitation_HBV",
          "Temperature_HBV",
          "SNOW_MELT_HBV",
          "Snow_Water_Equivalent_HBV",
          "Evaporation_HBV",
          "Soil_Water_Storage_HBV",
          "Groundwater_Storage_HBV",
          "Flow_Without_Tapping_Kalltveit",
          "Mean_Flow_HBV",
          "Flow_Lyngsaana",
          "Water_Temperature_Lyngsaana",
          "Water_Temperature_Kalltveit_River"
         ],
         "y": [
          "Wind_Speed_Nilsebu",
          "Air_Temperature_Nilsebu",
          "Wind_Direction_Nilsebu",
          "Relative_Humidity_Nilsebu",
          "Water_Level_Lyngsaana",
          "Water_Temperature_Hiafossen",
          "Water_Level_Hiafossen",
          "Air_Temperature_Fister",
          "Precipitation_Fister",
          "Flow_Lyngsvatn_Overflow",
          "Flow_Tapping",
          "Water_Level_Kalltveit",
          "Flow_Kalltveit",
          "Water_Temperature_Kalltveit_Kum",
          "Precipitation_Nilsebu",
          "Water_Temperature_Hiavatn",
          "Water_Level_Hiavatn",
          "Water_Temperature_Musdalsvatn",
          "Water_Level_Musdalsvatn",
          "Water_Temperature_Musdalsvatn_Downstream",
          "Water_Level_Musdalsvatn_Downstream",
          "Water_Temperature_Viglesdalsvatn",
          "Water_Level_Viglesdalsvatn",
          "Flow_HBV",
          "Precipitation_HBV",
          "Temperature_HBV",
          "SNOW_MELT_HBV",
          "Snow_Water_Equivalent_HBV",
          "Evaporation_HBV",
          "Soil_Water_Storage_HBV",
          "Groundwater_Storage_HBV",
          "Flow_Without_Tapping_Kalltveit",
          "Mean_Flow_HBV",
          "Flow_Lyngsaana",
          "Water_Temperature_Lyngsaana",
          "Water_Temperature_Kalltveit_River"
         ],
         "z": [
          [
           0,
           0.8270764429504566,
           -0.06733538233832842,
           0.22113765507982583,
           0.9753721896254163,
           0.8616476851787256,
           0.9752166398526362,
           0.8493892348089158,
           0.9731769612897819,
           0.9750405851411688,
           0.9594122854692638,
           0.9754088995943864,
           0.8042888213876103,
           0.9582497337627723,
           0.9729574281786042,
           0.8596487607390734,
           0.9751540056355914,
           0.8720226219882732,
           0.9746288958119199,
           0.8783629075108782,
           0.9750865042193718,
           0.8655979469477001,
           0.9751206863601708,
           0.7996715444680085,
           0.9739033475622553,
           0.8270665176250616,
           0.9746424047508573,
           -0.011306047398158915,
           0.9748570677880727,
           0.313676092803952,
           0.46764420786788186,
           0.7939836216878758,
           0.8361305787688845,
           0.9435559864605655,
           0.8503974745814341,
           0.8553315248926237
          ],
          [
           0.8270764429504566,
           0,
           -0.1250151278470153,
           0.1427548989936645,
           0.8598530225636546,
           0.9689993205662442,
           0.8618726716201447,
           0.9876297453400195,
           0.8588476057514673,
           0.8604247279640049,
           0.8569151031997535,
           0.8609379283222556,
           0.7137257630113834,
           0.9025786819636777,
           0.8562955349753152,
           0.9635083528494038,
           0.86250657891992,
           0.9582870053083979,
           0.8657773832644169,
           0.9623033608819669,
           0.8626487714209585,
           0.9605512230087184,
           0.8626204592495682,
           0.7143020824168532,
           0.8576730104504515,
           0.9940087003427764,
           0.864217909455014,
           -0.29768152163630657,
           0.8629705585713257,
           -0.11290244073372026,
           0.5579544414626887,
           0.6932765993796455,
           0.7422759754770948,
           0.8167186192103292,
           0.9778029153134044,
           0.9766003788897338
          ],
          [
           -0.06733538233832842,
           -0.1250151278470153,
           0,
           -0.12328217578223453,
           -0.061210554485025145,
           -0.07967133123553646,
           -0.06241490063091354,
           -0.11865101071873572,
           -0.06493259233164596,
           -0.06507674010820427,
           -0.06447635025146403,
           -0.062011667436822855,
           0.05501266971002043,
           -0.07104909818636886,
           -0.058112749377447516,
           -0.07695057983894273,
           -0.06169401200609103,
           -0.07382669827926788,
           -0.06317240216992938,
           -0.0756453748414557,
           -0.06355019440839638,
           -0.07879055038559492,
           -0.062234479437157125,
           0.05340508569570391,
           -0.05884336826993691,
           -0.12288761379177465,
           -0.06659986071531765,
           0.15044882216762043,
           -0.06561578820712288,
           0.04995043306077536,
           0.08645132515843656,
           0.06329649318196551,
           0.0442706660163244,
           -0.004998034689303966,
           -0.07724966909873252,
           -0.07711693641333311
          ],
          [
           0.22113765507982583,
           0.1427548989936645,
           -0.12328217578223453,
           0,
           0.19619275885415463,
           0.129161742792898,
           0.1971789707339592,
           0.1603673910951319,
           0.18494073403445732,
           0.20036629422433877,
           0.19899110533182904,
           0.1968982238116973,
           0.036635085544657074,
           0.17232494497692252,
           0.18334689764294632,
           0.1243971149686268,
           0.1964097289423949,
           0.1234204799820237,
           0.19542609647576129,
           0.12820053596495304,
           0.19766985508019813,
           0.1255731509726831,
           0.1967770224379876,
           0.032926511699715916,
           0.186369657158819,
           0.14889432415482773,
           0.2019709054804129,
           0.08646614670439569,
           0.2001826269114233,
           0.16705954008521529,
           -0.04105874124391726,
           0.03063645238503694,
           0.061216283828874576,
           0.13168999323086042,
           0.12363912174193918,
           0.1286069567202979
          ],
          [
           0.9753721896254163,
           0.8598530225636546,
           -0.061210554485025145,
           0.19619275885415463,
           0,
           0.9016297758629435,
           0.9999255001642307,
           0.8784178672942823,
           0.9964654441069714,
           0.9998614479211565,
           0.9845525201475951,
           0.9999560091292159,
           0.8127032528358114,
           0.9886725853462635,
           0.9949642469378782,
           0.8998699372733905,
           0.9998590887900427,
           0.9102449995359522,
           0.9995707248469093,
           0.9162840213155647,
           0.999864268147041,
           0.9052589522851485,
           0.9998835594436576,
           0.8107768462437128,
           0.9965428462701925,
           0.8587401751040983,
           0.999682305501002,
           -0.10570258404262235,
           0.9998328098879636,
           0.2918905598963438,
           0.4824234445929916,
           0.8020603606034223,
           0.8495110299616926,
           0.9597733936301692,
           0.8908179748952844,
           0.8944022797980762
          ],
          [
           0.8616476851787256,
           0.9689993205662442,
           -0.07967133123553646,
           0.129161742792898,
           0.9016297758629435,
           0,
           0.9038511599747963,
           0.9729284642265945,
           0.9002545786564179,
           0.902732831912109,
           0.9019253965792194,
           0.9028779961574682,
           0.7366788255471871,
           0.9474038819466424,
           0.8968069035860556,
           0.9994622001720341,
           0.9045545677148914,
           0.9972583550039122,
           0.9077475955678965,
           0.9977744184827786,
           0.904752619312349,
           0.998630259667549,
           0.9046338264658988,
           0.7379937182716423,
           0.8989978836693816,
           0.9640377091621763,
           0.9043996381349565,
           -0.36896110908495133,
           0.9048787909252799,
           -0.10555706521923064,
           0.5478631724799454,
           0.7152698664876543,
           0.7700063051420369,
           0.8501217274776407,
           0.9962808746260432,
           0.9977818959196719
          ],
          [
           0.9752166398526362,
           0.8618726716201447,
           -0.06241490063091354,
           0.1971789707339592,
           0.9999255001642307,
           0.9038511599747963,
           0,
           0.8803591408770158,
           0.9963855821233588,
           0.9998950410980414,
           0.9855229384484178,
           0.9999850952225015,
           0.8130170612750501,
           0.9892009834333235,
           0.9948331032160596,
           0.902105773291081,
           0.9999767325408317,
           0.912226951684565,
           0.9998101986867572,
           0.9182022726977179,
           0.9999823661668955,
           0.9074367597933114,
           0.9999904837486471,
           0.8109624651867628,
           0.9964524971012149,
           0.8607282943576287,
           0.9997815176082699,
           -0.11175133101429373,
           0.9998927737816095,
           0.28788267045565585,
           0.4844789280523014,
           0.8015209198539834,
           0.8494677950975167,
           0.9588292797854893,
           0.893058226000433,
           0.8965710387184002
          ],
          [
           0.8493892348089158,
           0.9876297453400195,
           -0.11865101071873572,
           0.1603673910951319,
           0.8784178672942823,
           0.9729284642265945,
           0.8803591408770158,
           0,
           0.877033550295012,
           0.8789829951871857,
           0.8747062323998859,
           0.8794543462160049,
           0.7273342153338545,
           0.9180747569756822,
           0.874501348276512,
           0.9678968093292204,
           0.880982449950945,
           0.9641748430171093,
           0.88405338695177,
           0.9679514260358256,
           0.8811278745835776,
           0.9654613865086417,
           0.8810779898903717,
           0.728016333977738,
           0.8758881199010264,
           0.9820317828401139,
           0.8824903675979527,
           -0.2485841724261269,
           0.8813319327887862,
           -0.07473078225356096,
           0.5623236256500109,
           0.7074646225715951,
           0.7574034325439988,
           0.8339253973025963,
           0.9802348584911112,
           0.9800639206169847
          ],
          [
           0.9731769612897819,
           0.8588476057514673,
           -0.06493259233164596,
           0.18494073403445732,
           0.9964654441069714,
           0.9002545786564179,
           0.9963855821233588,
           0.877033550295012,
           0,
           0.9962975958756415,
           0.9806266035900209,
           0.9964223471808488,
           0.8110544714123035,
           0.9856466366716017,
           0.9930562600406024,
           0.8986833480149101,
           0.996297869769475,
           0.9090257629705617,
           0.9960835458336379,
           0.9148543060098373,
           0.996358893090569,
           0.9040481997616279,
           0.9963294568992348,
           0.8088792351186384,
           0.9944140410061886,
           0.857501125245199,
           0.9961147466342297,
           -0.12078514842781785,
           0.9962815356989084,
           0.28672265303241834,
           0.4833348869334329,
           0.8005723701874385,
           0.847002220116475,
           0.9572437397272561,
           0.8894654771745834,
           0.8931134353367732
          ],
          [
           0.9750405851411688,
           0.8604247279640049,
           -0.06507674010820427,
           0.20036629422433877,
           0.9998614479211565,
           0.902732831912109,
           0.9998950410980414,
           0.8789829951871857,
           0.9962975958756415,
           0,
           0.9851508544166911,
           0.9998843703234714,
           0.8052688445517514,
           0.9887009127923923,
           0.9944843444902971,
           0.9009406219316802,
           0.9997937037568079,
           0.9110411273746283,
           0.9995626498892943,
           0.9170382857075904,
           0.9998978624985636,
           0.9062958285281741,
           0.9998441935392405,
           0.8032984047285519,
           0.9961836713822466,
           0.8593850436863194,
           0.9998509053860185,
           -0.11198584144863352,
           0.9999824215117,
           0.28832077989838706,
           0.47453082373470484,
           0.7940238135109721,
           0.8429997381609367,
           0.9557315712788745,
           0.8916961821237838,
           0.8953912262569524
          ],
          [
           0.9594122854692638,
           0.8569151031997535,
           -0.06447635025146403,
           0.19899110533182904,
           0.9845525201475951,
           0.9019253965792194,
           0.9855229384484178,
           0.8747062323998859,
           0.9806266035900209,
           0.9851508544166911,
           0,
           0.9853527283468004,
           0.8113121891143589,
           0.9799588540062648,
           0.9787161437174487,
           0.900280498309971,
           0.9859247868413759,
           0.9096100074594612,
           0.9865343192264132,
           0.9152184636387302,
           0.986100462012621,
           0.9056116441009913,
           0.9857760901856425,
           0.8051576510506268,
           0.9805613174232415,
           0.8542942583556034,
           0.9850246438886352,
           -0.1663397121126596,
           0.9853101650120291,
           0.2541616285176687,
           0.47029665382817315,
           0.7879198784389676,
           0.8390842018269744,
           0.9372921007720553,
           0.8902073900949863,
           0.8936743530476738
          ],
          [
           0.9754088995943864,
           0.8609379283222556,
           -0.062011667436822855,
           0.1968982238116973,
           0.9999560091292159,
           0.9028779961574682,
           0.9999850952225015,
           0.8794543462160049,
           0.9964223471808488,
           0.9998843703234714,
           0.9853527283468004,
           0,
           0.8141565160889831,
           0.988981433724047,
           0.9949909134452115,
           0.901127737810049,
           0.9999536354059408,
           0.9113606143505363,
           0.999734849241727,
           0.9173561577005798,
           0.9999537673329673,
           0.9064989027471729,
           0.9999653767586104,
           0.8120536387573911,
           0.9965786829859621,
           0.8597698762958721,
           0.9997387295066014,
           -0.1100474081510068,
           0.9998703626915033,
           0.2895908486093904,
           0.4841518836027688,
           0.8029300581709726,
           0.8502678309343124,
           0.9596663538125058,
           0.8920168563401906,
           0.8955859434740238
          ],
          [
           0.8042888213876103,
           0.7137257630113834,
           0.05501266971002043,
           0.036635085544657074,
           0.8127032528358114,
           0.7366788255471871,
           0.8130170612750501,
           0.7273342153338545,
           0.8110544714123035,
           0.8052688445517514,
           0.8113121891143589,
           0.8141565160889831,
           0,
           0.8110862744497301,
           0.8258626348981765,
           0.7367207482139203,
           0.8157646645547281,
           0.7496818228186676,
           0.8159417870321684,
           0.7542396134753873,
           0.8119298379627589,
           0.7417992873495332,
           0.8142021503773059,
           0.9921975292421524,
           0.8228635104714997,
           0.707791958652734,
           0.8051455327349307,
           -0.0029859510092829673,
           0.8053770851992743,
           0.27947924256266765,
           0.7436012181245703,
           0.990120051427863,
           0.9644074136588163,
           0.9263202938811634,
           0.7328624787950645,
           0.7318916816533292
          ],
          [
           0.9582497337627723,
           0.9025786819636777,
           -0.07104909818636886,
           0.17232494497692252,
           0.9886725853462635,
           0.9474038819466424,
           0.9892009834333235,
           0.9180747569756822,
           0.9856466366716017,
           0.9887009127923923,
           0.9799588540062648,
           0.988981433724047,
           0.8110862744497301,
           0,
           0.9837406153605087,
           0.9469428278412374,
           0.9894717919550372,
           0.9546648667781077,
           0.9900163164131649,
           0.9590895332457355,
           0.9894296798008217,
           0.9514931201798452,
           0.9894471491090875,
           0.8111541845638248,
           0.9854178921606724,
           0.9000362064106807,
           0.9886262065102707,
           -0.28977405583122906,
           0.9892733616648749,
           0.18124092772303635,
           0.5123548421861203,
           0.7953871583558211,
           0.847479391293489,
           0.9459446741378577,
           0.9365946775033476,
           0.9397505742903842
          ],
          [
           0.9729574281786042,
           0.8562955349753152,
           -0.058112749377447516,
           0.18334689764294632,
           0.9949642469378782,
           0.8968069035860556,
           0.9948331032160596,
           0.874501348276512,
           0.9930562600406024,
           0.9944843444902971,
           0.9787161437174487,
           0.9949909134452115,
           0.8258626348981765,
           0.9837406153605087,
           0,
           0.8952743086621595,
           0.9947855957138696,
           0.9059426799489151,
           0.9945008129912116,
           0.9117681240122566,
           0.9947478334851388,
           0.9007795487413809,
           0.9947686085038762,
           0.8230806464567527,
           0.9975297005904468,
           0.8549091848727307,
           0.9942469450980236,
           -0.11004586372211773,
           0.9944497810263764,
           0.2909734090899345,
           0.49737107062080893,
           0.8158893389822427,
           0.8570110716935986,
           0.9638678457713479,
           0.885804081476718,
           0.8896293141042828
          ],
          [
           0.8596487607390734,
           0.9635083528494038,
           -0.07695057983894273,
           0.1243971149686268,
           0.8998699372733905,
           0.9994622001720341,
           0.902105773291081,
           0.9678968093292204,
           0.8986833480149101,
           0.9009406219316802,
           0.900280498309971,
           0.901127737810049,
           0.7367207482139203,
           0.9469428278412374,
           0.8952743086621595,
           0,
           0.9028261293247231,
           0.9979549656320387,
           0.9060534850974721,
           0.9979187090778879,
           0.9030133811234774,
           0.9993760566951203,
           0.9029003221075932,
           0.7378640336486169,
           0.8974983852152476,
           0.9587215397526875,
           0.9024196258194864,
           -0.3736927541535624,
           0.9030650722905273,
           -0.11152012448863097,
           0.5473063024018583,
           0.7152380889884784,
           0.7694885812907001,
           0.8489815931391133,
           0.9944285144969542,
           0.9961007172249644
          ],
          [
           0.9751540056355914,
           0.86250657891992,
           -0.06169401200609103,
           0.1964097289423949,
           0.9998590887900427,
           0.9045545677148914,
           0.9999767325408317,
           0.880982449950945,
           0.996297869769475,
           0.9997937037568079,
           0.9859247868413759,
           0.9999536354059408,
           0.8157646645547281,
           0.9894717919550372,
           0.9947855957138696,
           0.9028261293247231,
           0,
           0.9129419508057093,
           0.9998689547201188,
           0.9188871985642951,
           0.9999642030541557,
           0.9081501166750939,
           0.9999943460838411,
           0.8137312465029798,
           0.9963965341826158,
           0.8613273642628523,
           0.9996919497216236,
           -0.11329098502440926,
           0.9998020598831088,
           0.2871594711954057,
           0.4882758330460285,
           0.8039768793498123,
           0.8518411865698484,
           0.9595270004774352,
           0.8938199567523545,
           0.8972509854473829
          ],
          [
           0.8720226219882732,
           0.9582870053083979,
           -0.07382669827926788,
           0.1234204799820237,
           0.9102449995359522,
           0.9972583550039122,
           0.912226951684565,
           0.9641748430171093,
           0.9090257629705617,
           0.9110411273746283,
           0.9096100074594612,
           0.9113606143505363,
           0.7496818228186676,
           0.9546648667781077,
           0.9059426799489151,
           0.9979549656320387,
           0.9129419508057093,
           0,
           0.915874417435455,
           0.9993443791688642,
           0.9130421506104579,
           0.9985688415841835,
           0.9129807990638916,
           0.7502893763247557,
           0.9080387343929646,
           0.953742755612058,
           0.9121791696402858,
           -0.43989244883951817,
           0.9130447271360984,
           -0.09165736897288834,
           0.5440123220942549,
           0.728895465958585,
           0.7824120435106585,
           0.8625644627982347,
           0.9908930485416988,
           0.992655268235872
          ],
          [
           0.9746288958119199,
           0.8657773832644169,
           -0.06317240216992938,
           0.19542609647576129,
           0.9995707248469093,
           0.9077475955678965,
           0.9998101986867572,
           0.88405338695177,
           0.9960835458336379,
           0.9995626498892943,
           0.9865343192264132,
           0.999734849241727,
           0.8159417870321684,
           0.9900163164131649,
           0.9945008129912116,
           0.9060534850974721,
           0.9998689547201188,
           0.915874417435455,
           0,
           0.9217083400504118,
           0.9998534090501253,
           0.9112681306408963,
           0.9998678552304799,
           0.813774449751111,
           0.9961358052751556,
           0.8644581539660731,
           0.9995461728746122,
           -0.1245501533714835,
           0.9996105388032412,
           0.2804517664847643,
           0.49152169835954,
           0.8033893722218038,
           0.8516041834396683,
           0.9587079528816714,
           0.8971350448552299,
           0.9004788348836752
          ],
          [
           0.8783629075108782,
           0.9623033608819669,
           -0.0756453748414557,
           0.12820053596495304,
           0.9162840213155647,
           0.9977744184827786,
           0.9182022726977179,
           0.9679514260358256,
           0.9148543060098373,
           0.9170382857075904,
           0.9152184636387302,
           0.9173561577005798,
           0.7542396134753873,
           0.9590895332457355,
           0.9117681240122566,
           0.9979187090778879,
           0.9188871985642951,
           0.9993443791688642,
           0.9217083400504118,
           0,
           0.9189838263769498,
           0.9983095055659111,
           0.9189286323614184,
           0.7548046120803774,
           0.9138255991294477,
           0.9576600463733741,
           0.9182645629190505,
           -0.4313203468247985,
           0.9189986842577075,
           -0.07913421312085445,
           0.5437198712888986,
           0.7335028638478627,
           0.7870638221112229,
           0.8685267760741956,
           0.9922405760846359,
           0.9939976580395028
          ],
          [
           0.9750865042193718,
           0.8626487714209585,
           -0.06355019440839638,
           0.19766985508019813,
           0.999864268147041,
           0.904752619312349,
           0.9999823661668955,
           0.8811278745835776,
           0.996358893090569,
           0.9998978624985636,
           0.986100462012621,
           0.9999537673329673,
           0.8119298379627589,
           0.9894296798008217,
           0.9947478334851388,
           0.9030133811234774,
           0.9999642030541557,
           0.9130421506104579,
           0.9998534090501253,
           0.9189838263769498,
           0,
           0.9083278482408936,
           0.9999811302949059,
           0.8097896579986419,
           0.9963912473733489,
           0.8614924234589236,
           0.9998050836907935,
           -0.11630398301062941,
           0.9999068484004153,
           0.28581715916595934,
           0.48359150968339487,
           0.8000846059278377,
           0.8483211247467343,
           0.9579007042917862,
           0.8939355519181025,
           0.8974525337302801
          ],
          [
           0.8655979469477001,
           0.9605512230087184,
           -0.07879055038559492,
           0.1255731509726831,
           0.9052589522851485,
           0.998630259667549,
           0.9074367597933114,
           0.9654613865086417,
           0.9040481997616279,
           0.9062958285281741,
           0.9056116441009913,
           0.9064989027471729,
           0.7417992873495332,
           0.9514931201798452,
           0.9007795487413809,
           0.9993760566951203,
           0.9081501166750939,
           0.9985688415841835,
           0.9112681306408963,
           0.9983095055659111,
           0.9083278482408936,
           0,
           0.9082131117711716,
           0.7427242568142913,
           0.9029678925619212,
           0.955848652765108,
           0.9076288409851595,
           -0.39338040816809244,
           0.908343181437767,
           -0.10067516677624777,
           0.5445313050040411,
           0.7202178546252258,
           0.7742227694944857,
           0.8548436128604388,
           0.9921412637214155,
           0.9940070683593758
          ],
          [
           0.9751206863601708,
           0.8626204592495682,
           -0.062234479437157125,
           0.1967770224379876,
           0.9998835594436576,
           0.9046338264658988,
           0.9999904837486471,
           0.8810779898903717,
           0.9963294568992348,
           0.9998441935392405,
           0.9857760901856425,
           0.9999653767586104,
           0.8142021503773059,
           0.9894471491090875,
           0.9947686085038762,
           0.9029003221075932,
           0.9999943460838411,
           0.9129807990638916,
           0.9998678552304799,
           0.9189286323614184,
           0.9999811302949059,
           0.9082131117711716,
           0,
           0.8121799732086126,
           0.9963919871924464,
           0.861445968107957,
           0.9997463286829926,
           -0.11348125850466947,
           0.9998524183284349,
           0.2867356878064817,
           0.48670497577091504,
           0.8025056233701928,
           0.850536763066933,
           0.9589883292871091,
           0.8938913151328103,
           0.8973462564234173
          ],
          [
           0.7996715444680085,
           0.7143020824168532,
           0.05340508569570391,
           0.032926511699715916,
           0.8107768462437128,
           0.7379937182716423,
           0.8109624651867628,
           0.728016333977738,
           0.8088792351186384,
           0.8032984047285519,
           0.8051576510506268,
           0.8120536387573911,
           0.9921975292421524,
           0.8111541845638248,
           0.8230806464567527,
           0.7378640336486169,
           0.8137312465029798,
           0.7502893763247557,
           0.813774449751111,
           0.7548046120803774,
           0.8097896579986419,
           0.7427242568142913,
           0.8121799732086126,
           0,
           0.8203789090764103,
           0.708036890109846,
           0.8031962010265624,
           0.03300843253790736,
           0.8034254506691599,
           0.28976706222984466,
           0.7620370812392276,
           0.9864422923594324,
           0.9696961144965889,
           0.9225759169010805,
           0.7344394479722923,
           0.7329955443670928
          ],
          [
           0.9739033475622553,
           0.8576730104504515,
           -0.05884336826993691,
           0.186369657158819,
           0.9965428462701925,
           0.8989978836693816,
           0.9964524971012149,
           0.8758881199010264,
           0.9944140410061886,
           0.9961836713822466,
           0.9805613174232415,
           0.9965786829859621,
           0.8228635104714997,
           0.9854178921606724,
           0.9975297005904468,
           0.8974983852152476,
           0.9963965341826158,
           0.9080387343929646,
           0.9961358052751556,
           0.9138255991294477,
           0.9963912473733489,
           0.9029678925619212,
           0.9963919871924464,
           0.8203789090764103,
           0,
           0.8567412531076268,
           0.9959513166084926,
           -0.10807729099908912,
           0.9961613128271545,
           0.28972241846115887,
           0.49550227847664285,
           0.8126279461378539,
           0.8551461706280238,
           0.9631263493244947,
           0.8879077306446064,
           0.8916110790844227
          ],
          [
           0.8270665176250616,
           0.9940087003427764,
           -0.12288761379177465,
           0.14889432415482773,
           0.8587401751040983,
           0.9640377091621763,
           0.8607282943576287,
           0.9820317828401139,
           0.857501125245199,
           0.8593850436863194,
           0.8542942583556034,
           0.8597698762958721,
           0.707791958652734,
           0.9000362064106807,
           0.8549091848727307,
           0.9587215397526875,
           0.8613273642628523,
           0.953742755612058,
           0.8644581539660731,
           0.9576600463733741,
           0.8614924234589236,
           0.955848652765108,
           0.861445968107957,
           0.708036890109846,
           0.8567412531076268,
           0,
           0.8632776659788025,
           -0.2950155811516122,
           0.8619745889137762,
           -0.10819906687757547,
           0.5596340288213668,
           0.6872027433380498,
           0.7406742622447823,
           0.8148933369363274,
           0.9716073131034769,
           0.9712478892791168
          ],
          [
           0.9746424047508573,
           0.864217909455014,
           -0.06659986071531765,
           0.2019709054804129,
           0.999682305501002,
           0.9043996381349565,
           0.9997815176082699,
           0.8824903675979527,
           0.9961147466342297,
           0.9998509053860185,
           0.9850246438886352,
           0.9997387295066014,
           0.8051455327349307,
           0.9886262065102707,
           0.9942469450980236,
           0.9024196258194864,
           0.9996919497216236,
           0.9121791696402858,
           0.9995461728746122,
           0.9182645629190505,
           0.9998050836907935,
           0.9076288409851595,
           0.9997463286829926,
           0.8031962010265624,
           0.9959513166084926,
           0.8632776659788025,
           0,
           -0.09599285198348777,
           0.9998706538508207,
           0.2890437814299072,
           0.48048138989031036,
           0.7937184700204443,
           0.8429859293212362,
           0.9551797389526011,
           0.8940395440970561,
           0.8974748297535098
          ],
          [
           -0.011306047398158915,
           -0.29768152163630657,
           0.15044882216762043,
           0.08646614670439569,
           -0.10570258404262235,
           -0.36896110908495133,
           -0.11175133101429373,
           -0.2485841724261269,
           -0.12078514842781785,
           -0.11198584144863352,
           -0.1663397121126596,
           -0.1100474081510068,
           -0.0029859510092829673,
           -0.28977405583122906,
           -0.11004586372211773,
           -0.3736927541535624,
           -0.11329098502440926,
           -0.43989244883951817,
           -0.1245501533714835,
           -0.4313203468247985,
           -0.11630398301062941,
           -0.39338040816809244,
           -0.11348125850466947,
           0.03300843253790736,
           -0.10807729099908912,
           -0.2950155811516122,
           -0.09599285198348777,
           0,
           -0.11666467961449367,
           0.4282799485070128,
           0.21239914270683058,
           0.03898746128116415,
           0.07005713646336797,
           -0.06339758190472256,
           -0.3224351209874385,
           -0.32235269976769604
          ],
          [
           0.9748570677880727,
           0.8629705585713257,
           -0.06561578820712288,
           0.2001826269114233,
           0.9998328098879636,
           0.9048787909252799,
           0.9998927737816095,
           0.8813319327887862,
           0.9962815356989084,
           0.9999824215117,
           0.9853101650120291,
           0.9998703626915033,
           0.8053770851992743,
           0.9892733616648749,
           0.9944497810263764,
           0.9030650722905273,
           0.9998020598831088,
           0.9130447271360984,
           0.9996105388032412,
           0.9189986842577075,
           0.9999068484004153,
           0.908343181437767,
           0.9998524183284349,
           0.8034254506691599,
           0.9961613128271545,
           0.8619745889137762,
           0.9998706538508207,
           -0.11666467961449367,
           0,
           0.2845807238742126,
           0.47631463771922844,
           0.7939311911522229,
           0.8430852542552324,
           0.9555401663751601,
           0.8940134743549696,
           0.8976489946018499
          ],
          [
           0.313676092803952,
           -0.11290244073372026,
           0.04995043306077536,
           0.16705954008521529,
           0.2918905598963438,
           -0.10555706521923064,
           0.28788267045565585,
           -0.07473078225356096,
           0.28672265303241834,
           0.28832077989838706,
           0.2541616285176687,
           0.2895908486093904,
           0.27947924256266765,
           0.18124092772303635,
           0.2909734090899345,
           -0.11152012448863097,
           0.2871594711954057,
           -0.09165736897288834,
           0.2804517664847643,
           -0.07913421312085445,
           0.28581715916595934,
           -0.10067516677624777,
           0.2867356878064817,
           0.28976706222984466,
           0.28972241846115887,
           -0.10819906687757547,
           0.2890437814299072,
           0.4282799485070128,
           0.2845807238742126,
           0,
           0.2150791723846889,
           0.3057427007634743,
           0.3077692077198009,
           0.3249739624835454,
           -0.1035506864327237,
           -0.10933184884365935
          ],
          [
           0.46764420786788186,
           0.5579544414626887,
           0.08645132515843656,
           -0.04105874124391726,
           0.4824234445929916,
           0.5478631724799454,
           0.4844789280523014,
           0.5623236256500109,
           0.4833348869334329,
           0.47453082373470484,
           0.47029665382817315,
           0.4841518836027688,
           0.7436012181245703,
           0.5123548421861203,
           0.49737107062080893,
           0.5473063024018583,
           0.4882758330460285,
           0.5440123220942549,
           0.49152169835954,
           0.5437198712888986,
           0.48359150968339487,
           0.5445313050040411,
           0.48670497577091504,
           0.7620370812392276,
           0.49550227847664285,
           0.5596340288213668,
           0.48048138989031036,
           0.21239914270683058,
           0.47631463771922844,
           0.2150791723846889,
           0,
           0.7507174524023192,
           0.7585479003265472,
           0.6083397111307006,
           0.5677886791928056,
           0.5541148041044176
          ],
          [
           0.7939836216878758,
           0.6932765993796455,
           0.06329649318196551,
           0.03063645238503694,
           0.8020603606034223,
           0.7152698664876543,
           0.8015209198539834,
           0.7074646225715951,
           0.8005723701874385,
           0.7940238135109721,
           0.7879198784389676,
           0.8029300581709726,
           0.990120051427863,
           0.7953871583558211,
           0.8158893389822427,
           0.7152380889884784,
           0.8039768793498123,
           0.728895465958585,
           0.8033893722218038,
           0.7335028638478627,
           0.8000846059278377,
           0.7202178546252258,
           0.8025056233701928,
           0.9864422923594324,
           0.8126279461378539,
           0.6872027433380498,
           0.7937184700204443,
           0.03898746128116415,
           0.7939311911522229,
           0.3057427007634743,
           0.7507174524023192,
           0,
           0.9698296146403091,
           0.9245380864106868,
           0.7112850685279712,
           0.7109907912463347
          ],
          [
           0.8361305787688845,
           0.7422759754770948,
           0.0442706660163244,
           0.061216283828874576,
           0.8495110299616926,
           0.7700063051420369,
           0.8494677950975167,
           0.7574034325439988,
           0.847002220116475,
           0.8429997381609367,
           0.8390842018269744,
           0.8502678309343124,
           0.9644074136588163,
           0.847479391293489,
           0.8570110716935986,
           0.7694885812907001,
           0.8518411865698484,
           0.7824120435106585,
           0.8516041834396683,
           0.7870638221112229,
           0.8483211247467343,
           0.7742227694944857,
           0.850536763066933,
           0.9696961144965889,
           0.8551461706280238,
           0.7406742622447823,
           0.8429859293212362,
           0.07005713646336797,
           0.8430852542552324,
           0.3077692077198009,
           0.7585479003265472,
           0.9698296146403091,
           0,
           0.9367379336892269,
           0.765575161676895,
           0.7648141678991417
          ],
          [
           0.9435559864605655,
           0.8167186192103292,
           -0.004998034689303966,
           0.13168999323086042,
           0.9597733936301692,
           0.8501217274776407,
           0.9588292797854893,
           0.8339253973025963,
           0.9572437397272561,
           0.9557315712788745,
           0.9372921007720553,
           0.9596663538125058,
           0.9263202938811634,
           0.9459446741378577,
           0.9638678457713479,
           0.8489815931391133,
           0.9595270004774352,
           0.8625644627982347,
           0.9587079528816714,
           0.8685267760741956,
           0.9579007042917862,
           0.8548436128604388,
           0.9589883292871091,
           0.9225759169010805,
           0.9631263493244947,
           0.8148933369363274,
           0.9551797389526011,
           -0.06339758190472256,
           0.9555401663751601,
           0.3249739624835454,
           0.6083397111307006,
           0.9245380864106868,
           0.9367379336892269,
           0,
           0.8410183930621699,
           0.8438226110282023
          ],
          [
           0.8503974745814341,
           0.9778029153134044,
           -0.07724966909873252,
           0.12363912174193918,
           0.8908179748952844,
           0.9962808746260432,
           0.893058226000433,
           0.9802348584911112,
           0.8894654771745834,
           0.8916961821237838,
           0.8902073900949863,
           0.8920168563401906,
           0.7328624787950645,
           0.9365946775033476,
           0.885804081476718,
           0.9944285144969542,
           0.8938199567523545,
           0.9908930485416988,
           0.8971350448552299,
           0.9922405760846359,
           0.8939355519181025,
           0.9921412637214155,
           0.8938913151328103,
           0.7344394479722923,
           0.8879077306446064,
           0.9716073131034769,
           0.8940395440970561,
           -0.3224351209874385,
           0.8940134743549696,
           -0.1035506864327237,
           0.5677886791928056,
           0.7112850685279712,
           0.765575161676895,
           0.8410183930621699,
           0,
           0.9984896167200804
          ],
          [
           0.8553315248926237,
           0.9766003788897338,
           -0.07711693641333311,
           0.1286069567202979,
           0.8944022797980762,
           0.9977818959196719,
           0.8965710387184002,
           0.9800639206169847,
           0.8931134353367732,
           0.8953912262569524,
           0.8936743530476738,
           0.8955859434740238,
           0.7318916816533292,
           0.9397505742903842,
           0.8896293141042828,
           0.9961007172249644,
           0.8972509854473829,
           0.992655268235872,
           0.9004788348836752,
           0.9939976580395028,
           0.8974525337302801,
           0.9940070683593758,
           0.8973462564234173,
           0.7329955443670928,
           0.8916110790844227,
           0.9712478892791168,
           0.8974748297535098,
           -0.32235269976769604,
           0.8976489946018499,
           -0.10933184884365935,
           0.5541148041044176,
           0.7109907912463347,
           0.7648141678991417,
           0.8438226110282023,
           0.9984896167200804,
           0
          ]
         ],
         "zmax": 1,
         "zmid": 0,
         "zmin": -1
        }
       ],
       "layout": {
        "height": 800,
        "margin": {
         "t": 100
        },
        "template": {
         "data": {
          "bar": [
           {
            "error_x": {
             "color": "#2a3f5f"
            },
            "error_y": {
             "color": "#2a3f5f"
            },
            "marker": {
             "line": {
              "color": "#E5ECF6",
              "width": 0.5
             },
             "pattern": {
              "fillmode": "overlay",
              "size": 10,
              "solidity": 0.2
             }
            },
            "type": "bar"
           }
          ],
          "barpolar": [
           {
            "marker": {
             "line": {
              "color": "#E5ECF6",
              "width": 0.5
             },
             "pattern": {
              "fillmode": "overlay",
              "size": 10,
              "solidity": 0.2
             }
            },
            "type": "barpolar"
           }
          ],
          "carpet": [
           {
            "aaxis": {
             "endlinecolor": "#2a3f5f",
             "gridcolor": "white",
             "linecolor": "white",
             "minorgridcolor": "white",
             "startlinecolor": "#2a3f5f"
            },
            "baxis": {
             "endlinecolor": "#2a3f5f",
             "gridcolor": "white",
             "linecolor": "white",
             "minorgridcolor": "white",
             "startlinecolor": "#2a3f5f"
            },
            "type": "carpet"
           }
          ],
          "choropleth": [
           {
            "colorbar": {
             "outlinewidth": 0,
             "ticks": ""
            },
            "type": "choropleth"
           }
          ],
          "contour": [
           {
            "colorbar": {
             "outlinewidth": 0,
             "ticks": ""
            },
            "colorscale": [
             [
              0,
              "#0d0887"
             ],
             [
              0.1111111111111111,
              "#46039f"
             ],
             [
              0.2222222222222222,
              "#7201a8"
             ],
             [
              0.3333333333333333,
              "#9c179e"
             ],
             [
              0.4444444444444444,
              "#bd3786"
             ],
             [
              0.5555555555555556,
              "#d8576b"
             ],
             [
              0.6666666666666666,
              "#ed7953"
             ],
             [
              0.7777777777777778,
              "#fb9f3a"
             ],
             [
              0.8888888888888888,
              "#fdca26"
             ],
             [
              1,
              "#f0f921"
             ]
            ],
            "type": "contour"
           }
          ],
          "contourcarpet": [
           {
            "colorbar": {
             "outlinewidth": 0,
             "ticks": ""
            },
            "type": "contourcarpet"
           }
          ],
          "heatmap": [
           {
            "colorbar": {
             "outlinewidth": 0,
             "ticks": ""
            },
            "colorscale": [
             [
              0,
              "#0d0887"
             ],
             [
              0.1111111111111111,
              "#46039f"
             ],
             [
              0.2222222222222222,
              "#7201a8"
             ],
             [
              0.3333333333333333,
              "#9c179e"
             ],
             [
              0.4444444444444444,
              "#bd3786"
             ],
             [
              0.5555555555555556,
              "#d8576b"
             ],
             [
              0.6666666666666666,
              "#ed7953"
             ],
             [
              0.7777777777777778,
              "#fb9f3a"
             ],
             [
              0.8888888888888888,
              "#fdca26"
             ],
             [
              1,
              "#f0f921"
             ]
            ],
            "type": "heatmap"
           }
          ],
          "heatmapgl": [
           {
            "colorbar": {
             "outlinewidth": 0,
             "ticks": ""
            },
            "colorscale": [
             [
              0,
              "#0d0887"
             ],
             [
              0.1111111111111111,
              "#46039f"
             ],
             [
              0.2222222222222222,
              "#7201a8"
             ],
             [
              0.3333333333333333,
              "#9c179e"
             ],
             [
              0.4444444444444444,
              "#bd3786"
             ],
             [
              0.5555555555555556,
              "#d8576b"
             ],
             [
              0.6666666666666666,
              "#ed7953"
             ],
             [
              0.7777777777777778,
              "#fb9f3a"
             ],
             [
              0.8888888888888888,
              "#fdca26"
             ],
             [
              1,
              "#f0f921"
             ]
            ],
            "type": "heatmapgl"
           }
          ],
          "histogram": [
           {
            "marker": {
             "pattern": {
              "fillmode": "overlay",
              "size": 10,
              "solidity": 0.2
             }
            },
            "type": "histogram"
           }
          ],
          "histogram2d": [
           {
            "colorbar": {
             "outlinewidth": 0,
             "ticks": ""
            },
            "colorscale": [
             [
              0,
              "#0d0887"
             ],
             [
              0.1111111111111111,
              "#46039f"
             ],
             [
              0.2222222222222222,
              "#7201a8"
             ],
             [
              0.3333333333333333,
              "#9c179e"
             ],
             [
              0.4444444444444444,
              "#bd3786"
             ],
             [
              0.5555555555555556,
              "#d8576b"
             ],
             [
              0.6666666666666666,
              "#ed7953"
             ],
             [
              0.7777777777777778,
              "#fb9f3a"
             ],
             [
              0.8888888888888888,
              "#fdca26"
             ],
             [
              1,
              "#f0f921"
             ]
            ],
            "type": "histogram2d"
           }
          ],
          "histogram2dcontour": [
           {
            "colorbar": {
             "outlinewidth": 0,
             "ticks": ""
            },
            "colorscale": [
             [
              0,
              "#0d0887"
             ],
             [
              0.1111111111111111,
              "#46039f"
             ],
             [
              0.2222222222222222,
              "#7201a8"
             ],
             [
              0.3333333333333333,
              "#9c179e"
             ],
             [
              0.4444444444444444,
              "#bd3786"
             ],
             [
              0.5555555555555556,
              "#d8576b"
             ],
             [
              0.6666666666666666,
              "#ed7953"
             ],
             [
              0.7777777777777778,
              "#fb9f3a"
             ],
             [
              0.8888888888888888,
              "#fdca26"
             ],
             [
              1,
              "#f0f921"
             ]
            ],
            "type": "histogram2dcontour"
           }
          ],
          "mesh3d": [
           {
            "colorbar": {
             "outlinewidth": 0,
             "ticks": ""
            },
            "type": "mesh3d"
           }
          ],
          "parcoords": [
           {
            "line": {
             "colorbar": {
              "outlinewidth": 0,
              "ticks": ""
             }
            },
            "type": "parcoords"
           }
          ],
          "pie": [
           {
            "automargin": true,
            "type": "pie"
           }
          ],
          "scatter": [
           {
            "fillpattern": {
             "fillmode": "overlay",
             "size": 10,
             "solidity": 0.2
            },
            "type": "scatter"
           }
          ],
          "scatter3d": [
           {
            "line": {
             "colorbar": {
              "outlinewidth": 0,
              "ticks": ""
             }
            },
            "marker": {
             "colorbar": {
              "outlinewidth": 0,
              "ticks": ""
             }
            },
            "type": "scatter3d"
           }
          ],
          "scattercarpet": [
           {
            "marker": {
             "colorbar": {
              "outlinewidth": 0,
              "ticks": ""
             }
            },
            "type": "scattercarpet"
           }
          ],
          "scattergeo": [
           {
            "marker": {
             "colorbar": {
              "outlinewidth": 0,
              "ticks": ""
             }
            },
            "type": "scattergeo"
           }
          ],
          "scattergl": [
           {
            "marker": {
             "colorbar": {
              "outlinewidth": 0,
              "ticks": ""
             }
            },
            "type": "scattergl"
           }
          ],
          "scattermapbox": [
           {
            "marker": {
             "colorbar": {
              "outlinewidth": 0,
              "ticks": ""
             }
            },
            "type": "scattermapbox"
           }
          ],
          "scatterpolar": [
           {
            "marker": {
             "colorbar": {
              "outlinewidth": 0,
              "ticks": ""
             }
            },
            "type": "scatterpolar"
           }
          ],
          "scatterpolargl": [
           {
            "marker": {
             "colorbar": {
              "outlinewidth": 0,
              "ticks": ""
             }
            },
            "type": "scatterpolargl"
           }
          ],
          "scatterternary": [
           {
            "marker": {
             "colorbar": {
              "outlinewidth": 0,
              "ticks": ""
             }
            },
            "type": "scatterternary"
           }
          ],
          "surface": [
           {
            "colorbar": {
             "outlinewidth": 0,
             "ticks": ""
            },
            "colorscale": [
             [
              0,
              "#0d0887"
             ],
             [
              0.1111111111111111,
              "#46039f"
             ],
             [
              0.2222222222222222,
              "#7201a8"
             ],
             [
              0.3333333333333333,
              "#9c179e"
             ],
             [
              0.4444444444444444,
              "#bd3786"
             ],
             [
              0.5555555555555556,
              "#d8576b"
             ],
             [
              0.6666666666666666,
              "#ed7953"
             ],
             [
              0.7777777777777778,
              "#fb9f3a"
             ],
             [
              0.8888888888888888,
              "#fdca26"
             ],
             [
              1,
              "#f0f921"
             ]
            ],
            "type": "surface"
           }
          ],
          "table": [
           {
            "cells": {
             "fill": {
              "color": "#EBF0F8"
             },
             "line": {
              "color": "white"
             }
            },
            "header": {
             "fill": {
              "color": "#C8D4E3"
             },
             "line": {
              "color": "white"
             }
            },
            "type": "table"
           }
          ]
         },
         "layout": {
          "annotationdefaults": {
           "arrowcolor": "#2a3f5f",
           "arrowhead": 0,
           "arrowwidth": 1
          },
          "autotypenumbers": "strict",
          "coloraxis": {
           "colorbar": {
            "outlinewidth": 0,
            "ticks": ""
           }
          },
          "colorscale": {
           "diverging": [
            [
             0,
             "#8e0152"
            ],
            [
             0.1,
             "#c51b7d"
            ],
            [
             0.2,
             "#de77ae"
            ],
            [
             0.3,
             "#f1b6da"
            ],
            [
             0.4,
             "#fde0ef"
            ],
            [
             0.5,
             "#f7f7f7"
            ],
            [
             0.6,
             "#e6f5d0"
            ],
            [
             0.7,
             "#b8e186"
            ],
            [
             0.8,
             "#7fbc41"
            ],
            [
             0.9,
             "#4d9221"
            ],
            [
             1,
             "#276419"
            ]
           ],
           "sequential": [
            [
             0,
             "#0d0887"
            ],
            [
             0.1111111111111111,
             "#46039f"
            ],
            [
             0.2222222222222222,
             "#7201a8"
            ],
            [
             0.3333333333333333,
             "#9c179e"
            ],
            [
             0.4444444444444444,
             "#bd3786"
            ],
            [
             0.5555555555555556,
             "#d8576b"
            ],
            [
             0.6666666666666666,
             "#ed7953"
            ],
            [
             0.7777777777777778,
             "#fb9f3a"
            ],
            [
             0.8888888888888888,
             "#fdca26"
            ],
            [
             1,
             "#f0f921"
            ]
           ],
           "sequentialminus": [
            [
             0,
             "#0d0887"
            ],
            [
             0.1111111111111111,
             "#46039f"
            ],
            [
             0.2222222222222222,
             "#7201a8"
            ],
            [
             0.3333333333333333,
             "#9c179e"
            ],
            [
             0.4444444444444444,
             "#bd3786"
            ],
            [
             0.5555555555555556,
             "#d8576b"
            ],
            [
             0.6666666666666666,
             "#ed7953"
            ],
            [
             0.7777777777777778,
             "#fb9f3a"
            ],
            [
             0.8888888888888888,
             "#fdca26"
            ],
            [
             1,
             "#f0f921"
            ]
           ]
          },
          "colorway": [
           "#636efa",
           "#EF553B",
           "#00cc96",
           "#ab63fa",
           "#FFA15A",
           "#19d3f3",
           "#FF6692",
           "#B6E880",
           "#FF97FF",
           "#FECB52"
          ],
          "font": {
           "color": "#2a3f5f"
          },
          "geo": {
           "bgcolor": "white",
           "lakecolor": "white",
           "landcolor": "#E5ECF6",
           "showlakes": true,
           "showland": true,
           "subunitcolor": "white"
          },
          "hoverlabel": {
           "align": "left"
          },
          "hovermode": "closest",
          "mapbox": {
           "style": "light"
          },
          "paper_bgcolor": "white",
          "plot_bgcolor": "#E5ECF6",
          "polar": {
           "angularaxis": {
            "gridcolor": "white",
            "linecolor": "white",
            "ticks": ""
           },
           "bgcolor": "#E5ECF6",
           "radialaxis": {
            "gridcolor": "white",
            "linecolor": "white",
            "ticks": ""
           }
          },
          "scene": {
           "xaxis": {
            "backgroundcolor": "#E5ECF6",
            "gridcolor": "white",
            "gridwidth": 2,
            "linecolor": "white",
            "showbackground": true,
            "ticks": "",
            "zerolinecolor": "white"
           },
           "yaxis": {
            "backgroundcolor": "#E5ECF6",
            "gridcolor": "white",
            "gridwidth": 2,
            "linecolor": "white",
            "showbackground": true,
            "ticks": "",
            "zerolinecolor": "white"
           },
           "zaxis": {
            "backgroundcolor": "#E5ECF6",
            "gridcolor": "white",
            "gridwidth": 2,
            "linecolor": "white",
            "showbackground": true,
            "ticks": "",
            "zerolinecolor": "white"
           }
          },
          "shapedefaults": {
           "line": {
            "color": "#2a3f5f"
           }
          },
          "ternary": {
           "aaxis": {
            "gridcolor": "white",
            "linecolor": "white",
            "ticks": ""
           },
           "baxis": {
            "gridcolor": "white",
            "linecolor": "white",
            "ticks": ""
           },
           "bgcolor": "#E5ECF6",
           "caxis": {
            "gridcolor": "white",
            "linecolor": "white",
            "ticks": ""
           }
          },
          "title": {
           "x": 0.05
          },
          "xaxis": {
           "automargin": true,
           "gridcolor": "white",
           "linecolor": "white",
           "ticks": "",
           "title": {
            "standoff": 15
           },
           "zerolinecolor": "white",
           "zerolinewidth": 2
          },
          "yaxis": {
           "automargin": true,
           "gridcolor": "white",
           "linecolor": "white",
           "ticks": "",
           "title": {
            "standoff": 15
           },
           "zerolinecolor": "white",
           "zerolinewidth": 2
          }
         }
        },
        "title": {
         "text": "Partial Correlation Matrix of Hydrological Inflow Variables"
        },
        "width": 800,
        "xaxis": {
         "side": "top",
         "title": {
          "text": "Variable 1"
         }
        },
        "yaxis": {
         "autorange": "reversed",
         "title": {
          "text": "Variable 2"
         }
        }
       }
      }
     },
     "metadata": {},
     "output_type": "display_data"
    }
   ],
   "source": [
    "data_dir = \"../data/\"\n",
    "clean_data_dir = os.path.abspath(os.path.join(data_dir, \"clean_data\"))\n",
    "\n",
    "# Loop through each datafile in the data directory\n",
    "for filename in os.listdir(clean_data_dir):\n",
    "    # Get the full path of the file\n",
    "    file_path = os.path.join(clean_data_dir, filename)\n",
    "    datetime = \"Datetime\"    \n",
    "    d = Data(filename, datetime)\n",
    "    data = d.get_data()\n",
    "    get_correlation_matrix(data)"
   ]
  },
  {
   "cell_type": "code",
   "execution_count": 4,
   "metadata": {},
   "outputs": [],
   "source": [
    "filename = 'cleaned_data_1.csv'\n",
    "datetime = \"Datetime\"\n",
    "d = Data(filename, datetime)"
   ]
  },
  {
   "cell_type": "code",
   "execution_count": 5,
   "metadata": {},
   "outputs": [],
   "source": [
    "data = d.get_data()"
   ]
  },
  {
   "cell_type": "code",
   "execution_count": 37,
   "metadata": {},
   "outputs": [
    {
     "data": {
      "text/html": [
       "<div>\n",
       "<style scoped>\n",
       "    .dataframe tbody tr th:only-of-type {\n",
       "        vertical-align: middle;\n",
       "    }\n",
       "\n",
       "    .dataframe tbody tr th {\n",
       "        vertical-align: top;\n",
       "    }\n",
       "\n",
       "    .dataframe thead th {\n",
       "        text-align: right;\n",
       "    }\n",
       "</style>\n",
       "<table border=\"1\" class=\"dataframe\">\n",
       "  <thead>\n",
       "    <tr style=\"text-align: right;\">\n",
       "      <th></th>\n",
       "      <th>Wind_Speed_Nilsebu</th>\n",
       "      <th>Air_Temperature_Nilsebu</th>\n",
       "      <th>Wind_Direction_Nilsebu</th>\n",
       "      <th>Relative_Humidity_Nilsebu</th>\n",
       "      <th>Air_Temperature_Fister</th>\n",
       "      <th>Precipitation_Fister</th>\n",
       "      <th>Flow_Lyngsvatn_Overflow</th>\n",
       "      <th>Flow_Tapping</th>\n",
       "      <th>Water_Level_Kalltveit</th>\n",
       "      <th>Flow_Kalltveit</th>\n",
       "      <th>Water_Temperature_Kalltveit_Kum</th>\n",
       "      <th>Precipitation_Nilsebu</th>\n",
       "      <th>Flow_HBV</th>\n",
       "      <th>Precipitation_HBV</th>\n",
       "      <th>Temperature_HBV</th>\n",
       "      <th>Flow_Without_Tapping_Kalltveit</th>\n",
       "      <th>Flow_Lyngsaana</th>\n",
       "      <th>Water_Temperature_Lyngsaana</th>\n",
       "    </tr>\n",
       "    <tr>\n",
       "      <th>Datetime</th>\n",
       "      <th></th>\n",
       "      <th></th>\n",
       "      <th></th>\n",
       "      <th></th>\n",
       "      <th></th>\n",
       "      <th></th>\n",
       "      <th></th>\n",
       "      <th></th>\n",
       "      <th></th>\n",
       "      <th></th>\n",
       "      <th></th>\n",
       "      <th></th>\n",
       "      <th></th>\n",
       "      <th></th>\n",
       "      <th></th>\n",
       "      <th></th>\n",
       "      <th></th>\n",
       "      <th></th>\n",
       "    </tr>\n",
       "  </thead>\n",
       "  <tbody>\n",
       "    <tr>\n",
       "      <th>2015-01-01 00:00:00</th>\n",
       "      <td>6.4</td>\n",
       "      <td>1.5</td>\n",
       "      <td>200.0</td>\n",
       "      <td>97.3</td>\n",
       "      <td>7.0</td>\n",
       "      <td>1.800000</td>\n",
       "      <td>0.0</td>\n",
       "      <td>0.000000</td>\n",
       "      <td>0.55625</td>\n",
       "      <td>3.37060</td>\n",
       "      <td>5.5600</td>\n",
       "      <td>0.0</td>\n",
       "      <td>1.784105</td>\n",
       "      <td>0.808318</td>\n",
       "      <td>1.887160</td>\n",
       "      <td>3.370600</td>\n",
       "      <td>1.102521</td>\n",
       "      <td>2.000000</td>\n",
       "    </tr>\n",
       "    <tr>\n",
       "      <th>2015-01-01 01:00:00</th>\n",
       "      <td>5.8</td>\n",
       "      <td>1.9</td>\n",
       "      <td>197.5</td>\n",
       "      <td>95.0</td>\n",
       "      <td>7.0</td>\n",
       "      <td>2.000000</td>\n",
       "      <td>0.0</td>\n",
       "      <td>0.000000</td>\n",
       "      <td>0.55925</td>\n",
       "      <td>3.45242</td>\n",
       "      <td>5.5600</td>\n",
       "      <td>0.0</td>\n",
       "      <td>1.804824</td>\n",
       "      <td>0.000000</td>\n",
       "      <td>2.416214</td>\n",
       "      <td>3.452420</td>\n",
       "      <td>1.109938</td>\n",
       "      <td>2.100000</td>\n",
       "    </tr>\n",
       "    <tr>\n",
       "      <th>2015-01-01 02:00:00</th>\n",
       "      <td>6.1</td>\n",
       "      <td>1.6</td>\n",
       "      <td>205.3</td>\n",
       "      <td>96.7</td>\n",
       "      <td>7.3</td>\n",
       "      <td>2.200000</td>\n",
       "      <td>0.0</td>\n",
       "      <td>0.000000</td>\n",
       "      <td>0.56325</td>\n",
       "      <td>3.56260</td>\n",
       "      <td>5.5950</td>\n",
       "      <td>1.0</td>\n",
       "      <td>1.883905</td>\n",
       "      <td>0.808318</td>\n",
       "      <td>1.987160</td>\n",
       "      <td>3.562600</td>\n",
       "      <td>1.218400</td>\n",
       "      <td>2.100000</td>\n",
       "    </tr>\n",
       "    <tr>\n",
       "      <th>2015-01-01 03:00:00</th>\n",
       "      <td>6.8</td>\n",
       "      <td>1.7</td>\n",
       "      <td>202.7</td>\n",
       "      <td>98.1</td>\n",
       "      <td>7.5</td>\n",
       "      <td>2.400000</td>\n",
       "      <td>0.0</td>\n",
       "      <td>0.000000</td>\n",
       "      <td>0.56976</td>\n",
       "      <td>3.74423</td>\n",
       "      <td>5.5600</td>\n",
       "      <td>0.0</td>\n",
       "      <td>1.901547</td>\n",
       "      <td>0.000000</td>\n",
       "      <td>2.216214</td>\n",
       "      <td>3.744230</td>\n",
       "      <td>1.371236</td>\n",
       "      <td>2.000000</td>\n",
       "    </tr>\n",
       "    <tr>\n",
       "      <th>2015-01-01 04:00:00</th>\n",
       "      <td>9.0</td>\n",
       "      <td>2.4</td>\n",
       "      <td>225.2</td>\n",
       "      <td>94.1</td>\n",
       "      <td>7.6</td>\n",
       "      <td>0.500000</td>\n",
       "      <td>0.0</td>\n",
       "      <td>0.000000</td>\n",
       "      <td>0.57976</td>\n",
       "      <td>4.02901</td>\n",
       "      <td>5.5600</td>\n",
       "      <td>1.0</td>\n",
       "      <td>2.018551</td>\n",
       "      <td>0.808318</td>\n",
       "      <td>2.787160</td>\n",
       "      <td>4.029010</td>\n",
       "      <td>1.501314</td>\n",
       "      <td>2.100000</td>\n",
       "    </tr>\n",
       "    <tr>\n",
       "      <th>...</th>\n",
       "      <td>...</td>\n",
       "      <td>...</td>\n",
       "      <td>...</td>\n",
       "      <td>...</td>\n",
       "      <td>...</td>\n",
       "      <td>...</td>\n",
       "      <td>...</td>\n",
       "      <td>...</td>\n",
       "      <td>...</td>\n",
       "      <td>...</td>\n",
       "      <td>...</td>\n",
       "      <td>...</td>\n",
       "      <td>...</td>\n",
       "      <td>...</td>\n",
       "      <td>...</td>\n",
       "      <td>...</td>\n",
       "      <td>...</td>\n",
       "      <td>...</td>\n",
       "    </tr>\n",
       "    <tr>\n",
       "      <th>2022-03-21 19:00:00</th>\n",
       "      <td>11.3</td>\n",
       "      <td>-1.0</td>\n",
       "      <td>106.3</td>\n",
       "      <td>84.7</td>\n",
       "      <td>6.7</td>\n",
       "      <td>0.000000</td>\n",
       "      <td>0.0</td>\n",
       "      <td>0.911868</td>\n",
       "      <td>0.51450</td>\n",
       "      <td>2.43457</td>\n",
       "      <td>4.0125</td>\n",
       "      <td>0.0</td>\n",
       "      <td>1.569434</td>\n",
       "      <td>0.000000</td>\n",
       "      <td>-0.447506</td>\n",
       "      <td>1.572981</td>\n",
       "      <td>0.464860</td>\n",
       "      <td>1.323438</td>\n",
       "    </tr>\n",
       "    <tr>\n",
       "      <th>2022-03-21 20:00:00</th>\n",
       "      <td>11.7</td>\n",
       "      <td>-0.4</td>\n",
       "      <td>105.8</td>\n",
       "      <td>84.7</td>\n",
       "      <td>5.7</td>\n",
       "      <td>0.000000</td>\n",
       "      <td>0.0</td>\n",
       "      <td>0.913824</td>\n",
       "      <td>0.51413</td>\n",
       "      <td>2.42514</td>\n",
       "      <td>4.0750</td>\n",
       "      <td>0.0</td>\n",
       "      <td>1.553322</td>\n",
       "      <td>0.000000</td>\n",
       "      <td>0.152494</td>\n",
       "      <td>1.556832</td>\n",
       "      <td>0.451835</td>\n",
       "      <td>1.264649</td>\n",
       "    </tr>\n",
       "    <tr>\n",
       "      <th>2022-03-21 21:00:00</th>\n",
       "      <td>9.5</td>\n",
       "      <td>0.4</td>\n",
       "      <td>143.2</td>\n",
       "      <td>80.8</td>\n",
       "      <td>6.3</td>\n",
       "      <td>0.000000</td>\n",
       "      <td>0.0</td>\n",
       "      <td>0.914003</td>\n",
       "      <td>0.51375</td>\n",
       "      <td>2.41576</td>\n",
       "      <td>4.0750</td>\n",
       "      <td>0.0</td>\n",
       "      <td>1.537725</td>\n",
       "      <td>0.000000</td>\n",
       "      <td>0.952494</td>\n",
       "      <td>1.541402</td>\n",
       "      <td>0.450595</td>\n",
       "      <td>1.244922</td>\n",
       "    </tr>\n",
       "    <tr>\n",
       "      <th>2022-03-21 22:00:00</th>\n",
       "      <td>8.7</td>\n",
       "      <td>0.5</td>\n",
       "      <td>145.8</td>\n",
       "      <td>78.0</td>\n",
       "      <td>5.2</td>\n",
       "      <td>1.099694</td>\n",
       "      <td>0.0</td>\n",
       "      <td>0.915423</td>\n",
       "      <td>0.51338</td>\n",
       "      <td>2.40640</td>\n",
       "      <td>4.0500</td>\n",
       "      <td>0.1</td>\n",
       "      <td>1.523938</td>\n",
       "      <td>0.000000</td>\n",
       "      <td>1.052494</td>\n",
       "      <td>1.526564</td>\n",
       "      <td>0.433061</td>\n",
       "      <td>1.252735</td>\n",
       "    </tr>\n",
       "    <tr>\n",
       "      <th>2022-03-21 23:00:00</th>\n",
       "      <td>8.4</td>\n",
       "      <td>0.2</td>\n",
       "      <td>152.5</td>\n",
       "      <td>85.3</td>\n",
       "      <td>3.3</td>\n",
       "      <td>1.299944</td>\n",
       "      <td>0.0</td>\n",
       "      <td>0.914022</td>\n",
       "      <td>0.51275</td>\n",
       "      <td>2.39081</td>\n",
       "      <td>4.0750</td>\n",
       "      <td>0.0</td>\n",
       "      <td>1.505453</td>\n",
       "      <td>0.000000</td>\n",
       "      <td>0.752494</td>\n",
       "      <td>1.505963</td>\n",
       "      <td>0.439196</td>\n",
       "      <td>1.230469</td>\n",
       "    </tr>\n",
       "  </tbody>\n",
       "</table>\n",
       "<p>63288 rows × 18 columns</p>\n",
       "</div>"
      ],
      "text/plain": [
       "                     Wind_Speed_Nilsebu  Air_Temperature_Nilsebu  \\\n",
       "Datetime                                                           \n",
       "2015-01-01 00:00:00                 6.4                      1.5   \n",
       "2015-01-01 01:00:00                 5.8                      1.9   \n",
       "2015-01-01 02:00:00                 6.1                      1.6   \n",
       "2015-01-01 03:00:00                 6.8                      1.7   \n",
       "2015-01-01 04:00:00                 9.0                      2.4   \n",
       "...                                 ...                      ...   \n",
       "2022-03-21 19:00:00                11.3                     -1.0   \n",
       "2022-03-21 20:00:00                11.7                     -0.4   \n",
       "2022-03-21 21:00:00                 9.5                      0.4   \n",
       "2022-03-21 22:00:00                 8.7                      0.5   \n",
       "2022-03-21 23:00:00                 8.4                      0.2   \n",
       "\n",
       "                     Wind_Direction_Nilsebu  Relative_Humidity_Nilsebu  \\\n",
       "Datetime                                                                 \n",
       "2015-01-01 00:00:00                   200.0                       97.3   \n",
       "2015-01-01 01:00:00                   197.5                       95.0   \n",
       "2015-01-01 02:00:00                   205.3                       96.7   \n",
       "2015-01-01 03:00:00                   202.7                       98.1   \n",
       "2015-01-01 04:00:00                   225.2                       94.1   \n",
       "...                                     ...                        ...   \n",
       "2022-03-21 19:00:00                   106.3                       84.7   \n",
       "2022-03-21 20:00:00                   105.8                       84.7   \n",
       "2022-03-21 21:00:00                   143.2                       80.8   \n",
       "2022-03-21 22:00:00                   145.8                       78.0   \n",
       "2022-03-21 23:00:00                   152.5                       85.3   \n",
       "\n",
       "                     Air_Temperature_Fister  Precipitation_Fister  \\\n",
       "Datetime                                                            \n",
       "2015-01-01 00:00:00                     7.0              1.800000   \n",
       "2015-01-01 01:00:00                     7.0              2.000000   \n",
       "2015-01-01 02:00:00                     7.3              2.200000   \n",
       "2015-01-01 03:00:00                     7.5              2.400000   \n",
       "2015-01-01 04:00:00                     7.6              0.500000   \n",
       "...                                     ...                   ...   \n",
       "2022-03-21 19:00:00                     6.7              0.000000   \n",
       "2022-03-21 20:00:00                     5.7              0.000000   \n",
       "2022-03-21 21:00:00                     6.3              0.000000   \n",
       "2022-03-21 22:00:00                     5.2              1.099694   \n",
       "2022-03-21 23:00:00                     3.3              1.299944   \n",
       "\n",
       "                     Flow_Lyngsvatn_Overflow  Flow_Tapping  \\\n",
       "Datetime                                                     \n",
       "2015-01-01 00:00:00                      0.0      0.000000   \n",
       "2015-01-01 01:00:00                      0.0      0.000000   \n",
       "2015-01-01 02:00:00                      0.0      0.000000   \n",
       "2015-01-01 03:00:00                      0.0      0.000000   \n",
       "2015-01-01 04:00:00                      0.0      0.000000   \n",
       "...                                      ...           ...   \n",
       "2022-03-21 19:00:00                      0.0      0.911868   \n",
       "2022-03-21 20:00:00                      0.0      0.913824   \n",
       "2022-03-21 21:00:00                      0.0      0.914003   \n",
       "2022-03-21 22:00:00                      0.0      0.915423   \n",
       "2022-03-21 23:00:00                      0.0      0.914022   \n",
       "\n",
       "                     Water_Level_Kalltveit  Flow_Kalltveit  \\\n",
       "Datetime                                                     \n",
       "2015-01-01 00:00:00                0.55625         3.37060   \n",
       "2015-01-01 01:00:00                0.55925         3.45242   \n",
       "2015-01-01 02:00:00                0.56325         3.56260   \n",
       "2015-01-01 03:00:00                0.56976         3.74423   \n",
       "2015-01-01 04:00:00                0.57976         4.02901   \n",
       "...                                    ...             ...   \n",
       "2022-03-21 19:00:00                0.51450         2.43457   \n",
       "2022-03-21 20:00:00                0.51413         2.42514   \n",
       "2022-03-21 21:00:00                0.51375         2.41576   \n",
       "2022-03-21 22:00:00                0.51338         2.40640   \n",
       "2022-03-21 23:00:00                0.51275         2.39081   \n",
       "\n",
       "                     Water_Temperature_Kalltveit_Kum  Precipitation_Nilsebu  \\\n",
       "Datetime                                                                      \n",
       "2015-01-01 00:00:00                           5.5600                    0.0   \n",
       "2015-01-01 01:00:00                           5.5600                    0.0   \n",
       "2015-01-01 02:00:00                           5.5950                    1.0   \n",
       "2015-01-01 03:00:00                           5.5600                    0.0   \n",
       "2015-01-01 04:00:00                           5.5600                    1.0   \n",
       "...                                              ...                    ...   \n",
       "2022-03-21 19:00:00                           4.0125                    0.0   \n",
       "2022-03-21 20:00:00                           4.0750                    0.0   \n",
       "2022-03-21 21:00:00                           4.0750                    0.0   \n",
       "2022-03-21 22:00:00                           4.0500                    0.1   \n",
       "2022-03-21 23:00:00                           4.0750                    0.0   \n",
       "\n",
       "                     Flow_HBV  Precipitation_HBV  Temperature_HBV  \\\n",
       "Datetime                                                            \n",
       "2015-01-01 00:00:00  1.784105           0.808318         1.887160   \n",
       "2015-01-01 01:00:00  1.804824           0.000000         2.416214   \n",
       "2015-01-01 02:00:00  1.883905           0.808318         1.987160   \n",
       "2015-01-01 03:00:00  1.901547           0.000000         2.216214   \n",
       "2015-01-01 04:00:00  2.018551           0.808318         2.787160   \n",
       "...                       ...                ...              ...   \n",
       "2022-03-21 19:00:00  1.569434           0.000000        -0.447506   \n",
       "2022-03-21 20:00:00  1.553322           0.000000         0.152494   \n",
       "2022-03-21 21:00:00  1.537725           0.000000         0.952494   \n",
       "2022-03-21 22:00:00  1.523938           0.000000         1.052494   \n",
       "2022-03-21 23:00:00  1.505453           0.000000         0.752494   \n",
       "\n",
       "                     Flow_Without_Tapping_Kalltveit  Flow_Lyngsaana  \\\n",
       "Datetime                                                              \n",
       "2015-01-01 00:00:00                        3.370600        1.102521   \n",
       "2015-01-01 01:00:00                        3.452420        1.109938   \n",
       "2015-01-01 02:00:00                        3.562600        1.218400   \n",
       "2015-01-01 03:00:00                        3.744230        1.371236   \n",
       "2015-01-01 04:00:00                        4.029010        1.501314   \n",
       "...                                             ...             ...   \n",
       "2022-03-21 19:00:00                        1.572981        0.464860   \n",
       "2022-03-21 20:00:00                        1.556832        0.451835   \n",
       "2022-03-21 21:00:00                        1.541402        0.450595   \n",
       "2022-03-21 22:00:00                        1.526564        0.433061   \n",
       "2022-03-21 23:00:00                        1.505963        0.439196   \n",
       "\n",
       "                     Water_Temperature_Lyngsaana  \n",
       "Datetime                                          \n",
       "2015-01-01 00:00:00                     2.000000  \n",
       "2015-01-01 01:00:00                     2.100000  \n",
       "2015-01-01 02:00:00                     2.100000  \n",
       "2015-01-01 03:00:00                     2.000000  \n",
       "2015-01-01 04:00:00                     2.100000  \n",
       "...                                          ...  \n",
       "2022-03-21 19:00:00                     1.323438  \n",
       "2022-03-21 20:00:00                     1.264649  \n",
       "2022-03-21 21:00:00                     1.244922  \n",
       "2022-03-21 22:00:00                     1.252735  \n",
       "2022-03-21 23:00:00                     1.230469  \n",
       "\n",
       "[63288 rows x 18 columns]"
      ]
     },
     "execution_count": 37,
     "metadata": {},
     "output_type": "execute_result"
    }
   ],
   "source": [
    "data"
   ]
  },
  {
   "cell_type": "code",
   "execution_count": 44,
   "metadata": {},
   "outputs": [],
   "source": [
    "import pandas as pd\n",
    "import numpy as np\n",
    "\n",
    "def generate_synthetic_data(row_count):\n",
    "    synthetic_data = pd.DataFrame()\n",
    "\n",
    "    # For each column in the original dataframe, generate synthetic data based on its type and distribution\n",
    "    for column in data.columns:\n",
    "        if data[column].dtype == np.float64 or data[column].dtype == np.int64:\n",
    "            # Generate synthetic numeric data based on the mean and standard deviation\n",
    "            mean = data[column].mean()\n",
    "            std = data[column].std()\n",
    "            synthetic_data[column] = np.random.normal(mean, std, row_count)\n",
    "        elif data[column].dtype == object:\n",
    "            # Generate synthetic categorical data based on the unique values and their frequencies\n",
    "            unique_values, counts = np.unique(data[column].dropna(), return_counts=True)\n",
    "            synthetic_data[column] = np.random.choice(unique_values, row_count, p=counts/counts.sum())\n",
    "        else:\n",
    "            # Handle other data types or skip the column\n",
    "            pass\n",
    "\n",
    "    # Handle datetime index\n",
    "    datetime_index = pd.to_datetime(data.index)\n",
    "    min_date = datetime_index.min()\n",
    "    max_date = datetime_index.max()\n",
    "    date_range = (max_date - min_date).total_seconds()\n",
    "    synthetic_seconds = np.random.uniform(0, date_range, row_count)\n",
    "    synthetic_dates = [min_date + pd.Timedelta(seconds=seconds) for seconds in synthetic_seconds]\n",
    "    synthetic_data.index = pd.to_datetime(synthetic_dates)\n",
    "\n",
    "    return synthetic_data\n"
   ]
  },
  {
   "cell_type": "code",
   "execution_count": 49,
   "metadata": {},
   "outputs": [],
   "source": [
    "row_count = 1000\n",
    "small_synthetic_data = generate_synthetic_data(row_count)"
   ]
  },
  {
   "cell_type": "code",
   "execution_count": 50,
   "metadata": {},
   "outputs": [
    {
     "data": {
      "text/html": [
       "<div>\n",
       "<style scoped>\n",
       "    .dataframe tbody tr th:only-of-type {\n",
       "        vertical-align: middle;\n",
       "    }\n",
       "\n",
       "    .dataframe tbody tr th {\n",
       "        vertical-align: top;\n",
       "    }\n",
       "\n",
       "    .dataframe thead th {\n",
       "        text-align: right;\n",
       "    }\n",
       "</style>\n",
       "<table border=\"1\" class=\"dataframe\">\n",
       "  <thead>\n",
       "    <tr style=\"text-align: right;\">\n",
       "      <th></th>\n",
       "      <th>Wind_Speed_Nilsebu</th>\n",
       "      <th>Air_Temperature_Nilsebu</th>\n",
       "      <th>Wind_Direction_Nilsebu</th>\n",
       "      <th>Relative_Humidity_Nilsebu</th>\n",
       "      <th>Air_Temperature_Fister</th>\n",
       "      <th>Precipitation_Fister</th>\n",
       "      <th>Flow_Lyngsvatn_Overflow</th>\n",
       "      <th>Flow_Tapping</th>\n",
       "      <th>Water_Level_Kalltveit</th>\n",
       "      <th>Flow_Kalltveit</th>\n",
       "      <th>Water_Temperature_Kalltveit_Kum</th>\n",
       "      <th>Precipitation_Nilsebu</th>\n",
       "      <th>Flow_HBV</th>\n",
       "      <th>Precipitation_HBV</th>\n",
       "      <th>Temperature_HBV</th>\n",
       "      <th>Flow_Without_Tapping_Kalltveit</th>\n",
       "      <th>Flow_Lyngsaana</th>\n",
       "      <th>Water_Temperature_Lyngsaana</th>\n",
       "    </tr>\n",
       "  </thead>\n",
       "  <tbody>\n",
       "    <tr>\n",
       "      <th>2015-06-02 09:57:46.230879392</th>\n",
       "      <td>2.167470</td>\n",
       "      <td>-7.073374</td>\n",
       "      <td>247.675330</td>\n",
       "      <td>88.469022</td>\n",
       "      <td>7.341071</td>\n",
       "      <td>-0.464548</td>\n",
       "      <td>-0.510538</td>\n",
       "      <td>0.990881</td>\n",
       "      <td>0.538521</td>\n",
       "      <td>10.248347</td>\n",
       "      <td>8.419428</td>\n",
       "      <td>1.911861</td>\n",
       "      <td>16.835565</td>\n",
       "      <td>0.074002</td>\n",
       "      <td>4.903764</td>\n",
       "      <td>-7.201880</td>\n",
       "      <td>3.020403</td>\n",
       "      <td>12.637145</td>\n",
       "    </tr>\n",
       "    <tr>\n",
       "      <th>2018-11-01 23:07:08.066906096</th>\n",
       "      <td>3.391857</td>\n",
       "      <td>9.129103</td>\n",
       "      <td>218.616704</td>\n",
       "      <td>114.943670</td>\n",
       "      <td>4.471128</td>\n",
       "      <td>0.264441</td>\n",
       "      <td>0.301172</td>\n",
       "      <td>1.432227</td>\n",
       "      <td>0.609935</td>\n",
       "      <td>8.275816</td>\n",
       "      <td>6.516736</td>\n",
       "      <td>0.895657</td>\n",
       "      <td>6.914515</td>\n",
       "      <td>0.254637</td>\n",
       "      <td>0.236893</td>\n",
       "      <td>5.581154</td>\n",
       "      <td>4.953459</td>\n",
       "      <td>0.064799</td>\n",
       "    </tr>\n",
       "    <tr>\n",
       "      <th>2020-10-14 19:33:33.315285440</th>\n",
       "      <td>8.767340</td>\n",
       "      <td>-2.613183</td>\n",
       "      <td>188.403666</td>\n",
       "      <td>114.244197</td>\n",
       "      <td>27.791205</td>\n",
       "      <td>-0.417579</td>\n",
       "      <td>0.054702</td>\n",
       "      <td>0.378859</td>\n",
       "      <td>0.692034</td>\n",
       "      <td>-1.142199</td>\n",
       "      <td>4.559478</td>\n",
       "      <td>-0.578632</td>\n",
       "      <td>4.145863</td>\n",
       "      <td>0.392939</td>\n",
       "      <td>2.777033</td>\n",
       "      <td>12.314991</td>\n",
       "      <td>4.643666</td>\n",
       "      <td>-2.405215</td>\n",
       "    </tr>\n",
       "    <tr>\n",
       "      <th>2019-09-29 20:25:17.362266048</th>\n",
       "      <td>8.603707</td>\n",
       "      <td>-0.631860</td>\n",
       "      <td>267.342298</td>\n",
       "      <td>47.476763</td>\n",
       "      <td>12.452775</td>\n",
       "      <td>0.487869</td>\n",
       "      <td>0.986714</td>\n",
       "      <td>1.597552</td>\n",
       "      <td>0.751264</td>\n",
       "      <td>3.686866</td>\n",
       "      <td>4.917825</td>\n",
       "      <td>1.804098</td>\n",
       "      <td>1.103034</td>\n",
       "      <td>0.203196</td>\n",
       "      <td>5.717029</td>\n",
       "      <td>9.912102</td>\n",
       "      <td>-1.193943</td>\n",
       "      <td>2.882928</td>\n",
       "    </tr>\n",
       "    <tr>\n",
       "      <th>2021-12-29 03:18:36.461018400</th>\n",
       "      <td>8.906922</td>\n",
       "      <td>-0.673370</td>\n",
       "      <td>423.684125</td>\n",
       "      <td>68.872009</td>\n",
       "      <td>6.328068</td>\n",
       "      <td>1.662695</td>\n",
       "      <td>-0.863025</td>\n",
       "      <td>-0.264181</td>\n",
       "      <td>0.475234</td>\n",
       "      <td>-4.899517</td>\n",
       "      <td>7.166442</td>\n",
       "      <td>0.969351</td>\n",
       "      <td>7.682585</td>\n",
       "      <td>1.280458</td>\n",
       "      <td>11.770602</td>\n",
       "      <td>4.238953</td>\n",
       "      <td>4.239994</td>\n",
       "      <td>8.053818</td>\n",
       "    </tr>\n",
       "    <tr>\n",
       "      <th>...</th>\n",
       "      <td>...</td>\n",
       "      <td>...</td>\n",
       "      <td>...</td>\n",
       "      <td>...</td>\n",
       "      <td>...</td>\n",
       "      <td>...</td>\n",
       "      <td>...</td>\n",
       "      <td>...</td>\n",
       "      <td>...</td>\n",
       "      <td>...</td>\n",
       "      <td>...</td>\n",
       "      <td>...</td>\n",
       "      <td>...</td>\n",
       "      <td>...</td>\n",
       "      <td>...</td>\n",
       "      <td>...</td>\n",
       "      <td>...</td>\n",
       "      <td>...</td>\n",
       "    </tr>\n",
       "    <tr>\n",
       "      <th>2017-10-01 00:12:52.683059296</th>\n",
       "      <td>9.085889</td>\n",
       "      <td>10.200341</td>\n",
       "      <td>213.664608</td>\n",
       "      <td>72.049505</td>\n",
       "      <td>8.420769</td>\n",
       "      <td>-0.077373</td>\n",
       "      <td>-0.351113</td>\n",
       "      <td>-0.256065</td>\n",
       "      <td>0.527899</td>\n",
       "      <td>-1.094730</td>\n",
       "      <td>2.296041</td>\n",
       "      <td>-0.271526</td>\n",
       "      <td>1.505380</td>\n",
       "      <td>-1.050806</td>\n",
       "      <td>6.981974</td>\n",
       "      <td>0.463076</td>\n",
       "      <td>2.446150</td>\n",
       "      <td>1.894370</td>\n",
       "    </tr>\n",
       "    <tr>\n",
       "      <th>2020-05-19 20:34:21.754452928</th>\n",
       "      <td>6.969131</td>\n",
       "      <td>9.330294</td>\n",
       "      <td>274.913119</td>\n",
       "      <td>50.799326</td>\n",
       "      <td>4.293525</td>\n",
       "      <td>-0.034452</td>\n",
       "      <td>-0.286173</td>\n",
       "      <td>1.143258</td>\n",
       "      <td>0.887972</td>\n",
       "      <td>22.917619</td>\n",
       "      <td>3.072311</td>\n",
       "      <td>-0.171966</td>\n",
       "      <td>12.318057</td>\n",
       "      <td>0.609014</td>\n",
       "      <td>-13.683937</td>\n",
       "      <td>4.167981</td>\n",
       "      <td>3.131605</td>\n",
       "      <td>5.900053</td>\n",
       "    </tr>\n",
       "    <tr>\n",
       "      <th>2020-08-05 01:13:29.318682880</th>\n",
       "      <td>5.565166</td>\n",
       "      <td>-3.563099</td>\n",
       "      <td>148.024270</td>\n",
       "      <td>0.957644</td>\n",
       "      <td>10.685532</td>\n",
       "      <td>-0.092879</td>\n",
       "      <td>0.956385</td>\n",
       "      <td>2.422047</td>\n",
       "      <td>0.833507</td>\n",
       "      <td>9.141670</td>\n",
       "      <td>4.476774</td>\n",
       "      <td>-0.234747</td>\n",
       "      <td>10.125643</td>\n",
       "      <td>0.303080</td>\n",
       "      <td>8.344628</td>\n",
       "      <td>-3.411535</td>\n",
       "      <td>-1.399706</td>\n",
       "      <td>3.135298</td>\n",
       "    </tr>\n",
       "    <tr>\n",
       "      <th>2020-03-24 02:42:15.409936928</th>\n",
       "      <td>8.157384</td>\n",
       "      <td>-3.815964</td>\n",
       "      <td>326.433433</td>\n",
       "      <td>46.478175</td>\n",
       "      <td>5.123326</td>\n",
       "      <td>0.300603</td>\n",
       "      <td>1.412409</td>\n",
       "      <td>1.081604</td>\n",
       "      <td>0.669195</td>\n",
       "      <td>-7.418127</td>\n",
       "      <td>7.695077</td>\n",
       "      <td>-0.357075</td>\n",
       "      <td>3.274271</td>\n",
       "      <td>0.085809</td>\n",
       "      <td>10.633915</td>\n",
       "      <td>-3.742041</td>\n",
       "      <td>3.346650</td>\n",
       "      <td>1.981238</td>\n",
       "    </tr>\n",
       "    <tr>\n",
       "      <th>2017-08-13 12:14:36.624274816</th>\n",
       "      <td>5.082283</td>\n",
       "      <td>15.898320</td>\n",
       "      <td>427.570474</td>\n",
       "      <td>73.779651</td>\n",
       "      <td>12.729776</td>\n",
       "      <td>0.472176</td>\n",
       "      <td>1.197652</td>\n",
       "      <td>1.023814</td>\n",
       "      <td>0.752598</td>\n",
       "      <td>1.577745</td>\n",
       "      <td>4.633777</td>\n",
       "      <td>0.688919</td>\n",
       "      <td>4.805384</td>\n",
       "      <td>0.267924</td>\n",
       "      <td>2.843804</td>\n",
       "      <td>-0.971318</td>\n",
       "      <td>-1.325211</td>\n",
       "      <td>9.575981</td>\n",
       "    </tr>\n",
       "  </tbody>\n",
       "</table>\n",
       "<p>1000 rows × 18 columns</p>\n",
       "</div>"
      ],
      "text/plain": [
       "                               Wind_Speed_Nilsebu  Air_Temperature_Nilsebu  \\\n",
       "2015-06-02 09:57:46.230879392            2.167470                -7.073374   \n",
       "2018-11-01 23:07:08.066906096            3.391857                 9.129103   \n",
       "2020-10-14 19:33:33.315285440            8.767340                -2.613183   \n",
       "2019-09-29 20:25:17.362266048            8.603707                -0.631860   \n",
       "2021-12-29 03:18:36.461018400            8.906922                -0.673370   \n",
       "...                                           ...                      ...   \n",
       "2017-10-01 00:12:52.683059296            9.085889                10.200341   \n",
       "2020-05-19 20:34:21.754452928            6.969131                 9.330294   \n",
       "2020-08-05 01:13:29.318682880            5.565166                -3.563099   \n",
       "2020-03-24 02:42:15.409936928            8.157384                -3.815964   \n",
       "2017-08-13 12:14:36.624274816            5.082283                15.898320   \n",
       "\n",
       "                               Wind_Direction_Nilsebu  \\\n",
       "2015-06-02 09:57:46.230879392              247.675330   \n",
       "2018-11-01 23:07:08.066906096              218.616704   \n",
       "2020-10-14 19:33:33.315285440              188.403666   \n",
       "2019-09-29 20:25:17.362266048              267.342298   \n",
       "2021-12-29 03:18:36.461018400              423.684125   \n",
       "...                                               ...   \n",
       "2017-10-01 00:12:52.683059296              213.664608   \n",
       "2020-05-19 20:34:21.754452928              274.913119   \n",
       "2020-08-05 01:13:29.318682880              148.024270   \n",
       "2020-03-24 02:42:15.409936928              326.433433   \n",
       "2017-08-13 12:14:36.624274816              427.570474   \n",
       "\n",
       "                               Relative_Humidity_Nilsebu  \\\n",
       "2015-06-02 09:57:46.230879392                  88.469022   \n",
       "2018-11-01 23:07:08.066906096                 114.943670   \n",
       "2020-10-14 19:33:33.315285440                 114.244197   \n",
       "2019-09-29 20:25:17.362266048                  47.476763   \n",
       "2021-12-29 03:18:36.461018400                  68.872009   \n",
       "...                                                  ...   \n",
       "2017-10-01 00:12:52.683059296                  72.049505   \n",
       "2020-05-19 20:34:21.754452928                  50.799326   \n",
       "2020-08-05 01:13:29.318682880                   0.957644   \n",
       "2020-03-24 02:42:15.409936928                  46.478175   \n",
       "2017-08-13 12:14:36.624274816                  73.779651   \n",
       "\n",
       "                               Air_Temperature_Fister  Precipitation_Fister  \\\n",
       "2015-06-02 09:57:46.230879392                7.341071             -0.464548   \n",
       "2018-11-01 23:07:08.066906096                4.471128              0.264441   \n",
       "2020-10-14 19:33:33.315285440               27.791205             -0.417579   \n",
       "2019-09-29 20:25:17.362266048               12.452775              0.487869   \n",
       "2021-12-29 03:18:36.461018400                6.328068              1.662695   \n",
       "...                                               ...                   ...   \n",
       "2017-10-01 00:12:52.683059296                8.420769             -0.077373   \n",
       "2020-05-19 20:34:21.754452928                4.293525             -0.034452   \n",
       "2020-08-05 01:13:29.318682880               10.685532             -0.092879   \n",
       "2020-03-24 02:42:15.409936928                5.123326              0.300603   \n",
       "2017-08-13 12:14:36.624274816               12.729776              0.472176   \n",
       "\n",
       "                               Flow_Lyngsvatn_Overflow  Flow_Tapping  \\\n",
       "2015-06-02 09:57:46.230879392                -0.510538      0.990881   \n",
       "2018-11-01 23:07:08.066906096                 0.301172      1.432227   \n",
       "2020-10-14 19:33:33.315285440                 0.054702      0.378859   \n",
       "2019-09-29 20:25:17.362266048                 0.986714      1.597552   \n",
       "2021-12-29 03:18:36.461018400                -0.863025     -0.264181   \n",
       "...                                                ...           ...   \n",
       "2017-10-01 00:12:52.683059296                -0.351113     -0.256065   \n",
       "2020-05-19 20:34:21.754452928                -0.286173      1.143258   \n",
       "2020-08-05 01:13:29.318682880                 0.956385      2.422047   \n",
       "2020-03-24 02:42:15.409936928                 1.412409      1.081604   \n",
       "2017-08-13 12:14:36.624274816                 1.197652      1.023814   \n",
       "\n",
       "                               Water_Level_Kalltveit  Flow_Kalltveit  \\\n",
       "2015-06-02 09:57:46.230879392               0.538521       10.248347   \n",
       "2018-11-01 23:07:08.066906096               0.609935        8.275816   \n",
       "2020-10-14 19:33:33.315285440               0.692034       -1.142199   \n",
       "2019-09-29 20:25:17.362266048               0.751264        3.686866   \n",
       "2021-12-29 03:18:36.461018400               0.475234       -4.899517   \n",
       "...                                              ...             ...   \n",
       "2017-10-01 00:12:52.683059296               0.527899       -1.094730   \n",
       "2020-05-19 20:34:21.754452928               0.887972       22.917619   \n",
       "2020-08-05 01:13:29.318682880               0.833507        9.141670   \n",
       "2020-03-24 02:42:15.409936928               0.669195       -7.418127   \n",
       "2017-08-13 12:14:36.624274816               0.752598        1.577745   \n",
       "\n",
       "                               Water_Temperature_Kalltveit_Kum  \\\n",
       "2015-06-02 09:57:46.230879392                         8.419428   \n",
       "2018-11-01 23:07:08.066906096                         6.516736   \n",
       "2020-10-14 19:33:33.315285440                         4.559478   \n",
       "2019-09-29 20:25:17.362266048                         4.917825   \n",
       "2021-12-29 03:18:36.461018400                         7.166442   \n",
       "...                                                        ...   \n",
       "2017-10-01 00:12:52.683059296                         2.296041   \n",
       "2020-05-19 20:34:21.754452928                         3.072311   \n",
       "2020-08-05 01:13:29.318682880                         4.476774   \n",
       "2020-03-24 02:42:15.409936928                         7.695077   \n",
       "2017-08-13 12:14:36.624274816                         4.633777   \n",
       "\n",
       "                               Precipitation_Nilsebu   Flow_HBV  \\\n",
       "2015-06-02 09:57:46.230879392               1.911861  16.835565   \n",
       "2018-11-01 23:07:08.066906096               0.895657   6.914515   \n",
       "2020-10-14 19:33:33.315285440              -0.578632   4.145863   \n",
       "2019-09-29 20:25:17.362266048               1.804098   1.103034   \n",
       "2021-12-29 03:18:36.461018400               0.969351   7.682585   \n",
       "...                                              ...        ...   \n",
       "2017-10-01 00:12:52.683059296              -0.271526   1.505380   \n",
       "2020-05-19 20:34:21.754452928              -0.171966  12.318057   \n",
       "2020-08-05 01:13:29.318682880              -0.234747  10.125643   \n",
       "2020-03-24 02:42:15.409936928              -0.357075   3.274271   \n",
       "2017-08-13 12:14:36.624274816               0.688919   4.805384   \n",
       "\n",
       "                               Precipitation_HBV  Temperature_HBV  \\\n",
       "2015-06-02 09:57:46.230879392           0.074002         4.903764   \n",
       "2018-11-01 23:07:08.066906096           0.254637         0.236893   \n",
       "2020-10-14 19:33:33.315285440           0.392939         2.777033   \n",
       "2019-09-29 20:25:17.362266048           0.203196         5.717029   \n",
       "2021-12-29 03:18:36.461018400           1.280458        11.770602   \n",
       "...                                          ...              ...   \n",
       "2017-10-01 00:12:52.683059296          -1.050806         6.981974   \n",
       "2020-05-19 20:34:21.754452928           0.609014       -13.683937   \n",
       "2020-08-05 01:13:29.318682880           0.303080         8.344628   \n",
       "2020-03-24 02:42:15.409936928           0.085809        10.633915   \n",
       "2017-08-13 12:14:36.624274816           0.267924         2.843804   \n",
       "\n",
       "                               Flow_Without_Tapping_Kalltveit  Flow_Lyngsaana  \\\n",
       "2015-06-02 09:57:46.230879392                       -7.201880        3.020403   \n",
       "2018-11-01 23:07:08.066906096                        5.581154        4.953459   \n",
       "2020-10-14 19:33:33.315285440                       12.314991        4.643666   \n",
       "2019-09-29 20:25:17.362266048                        9.912102       -1.193943   \n",
       "2021-12-29 03:18:36.461018400                        4.238953        4.239994   \n",
       "...                                                       ...             ...   \n",
       "2017-10-01 00:12:52.683059296                        0.463076        2.446150   \n",
       "2020-05-19 20:34:21.754452928                        4.167981        3.131605   \n",
       "2020-08-05 01:13:29.318682880                       -3.411535       -1.399706   \n",
       "2020-03-24 02:42:15.409936928                       -3.742041        3.346650   \n",
       "2017-08-13 12:14:36.624274816                       -0.971318       -1.325211   \n",
       "\n",
       "                               Water_Temperature_Lyngsaana  \n",
       "2015-06-02 09:57:46.230879392                    12.637145  \n",
       "2018-11-01 23:07:08.066906096                     0.064799  \n",
       "2020-10-14 19:33:33.315285440                    -2.405215  \n",
       "2019-09-29 20:25:17.362266048                     2.882928  \n",
       "2021-12-29 03:18:36.461018400                     8.053818  \n",
       "...                                                    ...  \n",
       "2017-10-01 00:12:52.683059296                     1.894370  \n",
       "2020-05-19 20:34:21.754452928                     5.900053  \n",
       "2020-08-05 01:13:29.318682880                     3.135298  \n",
       "2020-03-24 02:42:15.409936928                     1.981238  \n",
       "2017-08-13 12:14:36.624274816                     9.575981  \n",
       "\n",
       "[1000 rows x 18 columns]"
      ]
     },
     "execution_count": 50,
     "metadata": {},
     "output_type": "execute_result"
    }
   ],
   "source": [
    "small_synthetic_data"
   ]
  },
  {
   "cell_type": "code",
   "execution_count": 51,
   "metadata": {},
   "outputs": [],
   "source": [
    "small_synthetic_data_reset = small_synthetic_data.reset_index().rename(columns={'index': 'Datetime'})\n",
    "csv_format_options = {\n",
    "    'date_format': '%Y-%m-%d %H:%M:%S',\n",
    "    'float_format': '%.2f',\n",
    "    'index': False,\n",
    "    'header': True,\n",
    "    'sep': ','\n",
    "}\n",
    "small_synthetic_data.to_csv(\"../data/small_synthetic_data.csv\", **csv_format_options)"
   ]
  }
 ],
 "metadata": {
  "kernelspec": {
   "display_name": "hydro-ml",
   "language": "python",
   "name": "hydro-ml"
  },
  "language_info": {
   "codemirror_mode": {
    "name": "ipython",
    "version": 3
   },
   "file_extension": ".py",
   "mimetype": "text/x-python",
   "name": "python",
   "nbconvert_exporter": "python",
   "pygments_lexer": "ipython3",
   "version": "3.10.10"
  },
  "orig_nbformat": 4
 },
 "nbformat": 4,
 "nbformat_minor": 2
}
