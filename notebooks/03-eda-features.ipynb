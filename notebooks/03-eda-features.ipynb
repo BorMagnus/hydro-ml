{
 "cells": [
  {
   "cell_type": "code",
   "execution_count": null,
   "metadata": {},
   "outputs": [],
   "source": []
  },
  {
   "cell_type": "code",
   "execution_count": null,
   "metadata": {},
   "outputs": [],
   "source": []
  },
  {
   "cell_type": "code",
   "execution_count": null,
   "metadata": {},
   "outputs": [],
   "source": []
  },
  {
   "cell_type": "code",
   "execution_count": null,
   "metadata": {},
   "outputs": [],
   "source": []
  },
  {
   "cell_type": "code",
   "execution_count": null,
   "metadata": {},
   "outputs": [],
   "source": [
    "data_1 = [\n",
    "    \"Flow_Lyngsåna\",\n",
    "    \"Flow_Tapping_Kalltveit\",\n",
    "    \"Flow_Tapping\",\n",
    "    \"Flow_Lyngsvatn_Overflow\",\n",
    "    \"Precipitation_Nilsebu\",\n",
    "    \"Air_Temperature_Nilsebu\",\n",
    "    \"Precipitation_Fister\",\n",
    "    \"Air Temperature Fister\",\n",
    "]\n",
    "target = \"Flow_Kalltveit\""
   ]
  }
 ],
 "metadata": {
  "kernelspec": {
   "display_name": "hydro-ml",
   "language": "python",
   "name": "hydro-ml"
  },
  "language_info": {
   "codemirror_mode": {
    "name": "ipython",
    "version": 3
   },
   "file_extension": ".py",
   "mimetype": "text/x-python",
   "name": "python",
   "nbconvert_exporter": "python",
   "pygments_lexer": "ipython3",
   "version": "3.10.10"
  },
  "orig_nbformat": 4
 },
 "nbformat": 4,
 "nbformat_minor": 2
}
