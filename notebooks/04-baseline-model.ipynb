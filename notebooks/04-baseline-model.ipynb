{
 "cells": [
  {
   "cell_type": "code",
   "execution_count": 1,
   "id": "bec08c5e",
   "metadata": {},
   "outputs": [],
   "source": [
    "import numpy as np\n",
    "from statsmodels.tsa.arima.model import ARIMA\n",
    "from sklearn.metrics import mean_absolute_error, mean_squared_error\n",
    "import pandas as pd\n",
    "from pmdarima.arima import auto_arima\n",
    "import matplotlib.pyplot as plt\n",
    "from statsmodels.graphics.tsaplots import plot_acf, plot_pacf"
   ]
  },
  {
   "cell_type": "code",
   "execution_count": 2,
   "id": "4c6c5b9f",
   "metadata": {},
   "outputs": [],
   "source": [
    "def find_best_order(data):\n",
    "    best_fit = auto_arima(data, seasonal=False, suppress_warnings=True, stepwise=True, max_P=10, max_d=10, max_q=10, start_p=5, start_q=5)\n",
    "    print(best_fit.order)\n",
    "    return best_fit.order"
   ]
  },
  {
   "cell_type": "code",
   "execution_count": 3,
   "id": "7f14d667",
   "metadata": {},
   "outputs": [],
   "source": [
    "def train_arima(data):\n",
    "    train_size = int(len(data) * 0.9)\n",
    "    train, test = data[:train_size], data[train_size:]\n",
    "    \n",
    "    p = 5# Insert the value of p determined from the PACF plot\n",
    "    d = 1# Insert the value of d based on the number of times differencing was applied\n",
    "    q = 6# Insert the value of q determined from the ACF plot\n",
    "\n",
    "    model = ARIMA(train, order=(p, d, q))\n",
    "    model_fit = model.fit()\n",
    "    \n",
    "    print(model_fit.summary())\n",
    "\n",
    "    forecast_steps = 1\n",
    "    forecast = model_fit.forecast(steps=forecast_steps)\n",
    "\n",
    "    \n",
    "    mae = mean_absolute_error(test, forecast)\n",
    "    mse = mean_squared_error(test, forecast)\n",
    "    rmse = np.sqrt(mse)\n",
    "\n",
    "    print(\"Mean Absolute Error (MAE):\", mae)\n",
    "    print(\"Mean Squared Error (MSE):\", mse)\n",
    "    print(\"Root Mean Squared Error (RMSE):\", rmse)\n",
    "\n",
    "    return mae, mse, rmse"
   ]
  },
  {
   "cell_type": "code",
   "execution_count": 4,
   "id": "e8aef372",
   "metadata": {},
   "outputs": [],
   "source": [
    "def prepare_data(file_path):\n",
    "    data = pd.read_csv(file_path)\n",
    "    data.set_index(\"Datetime\", inplace=True)\n",
    "    target_data = data[\"Flow_Kalltveit\"].values\n",
    "    return target_data\n"
   ]
  },
  {
   "cell_type": "code",
   "execution_count": 5,
   "id": "6b799e54",
   "metadata": {},
   "outputs": [],
   "source": [
    "def plot_target_data(target_data):\n",
    "    plt.plot(target_data)\n",
    "    plt.xlabel('Time')\n",
    "    plt.ylabel('Flow_Kalltveit')\n",
    "    plt.title('Flow_Kalltveit Time Series')\n",
    "    plt.show()\n",
    "\n",
    "def plot_diff_target_data(target_data):\n",
    "    plt.plot(target_data)\n",
    "    plt.xlabel('Time')\n",
    "    plt.ylabel('Differenced Flow_Kalltveit')\n",
    "    plt.title('Differenced Flow_Kalltveit Time Series')\n",
    "    plt.show()\n",
    "    return target_data"
   ]
  },
  {
   "cell_type": "code",
   "execution_count": 6,
   "id": "5c12bad9",
   "metadata": {},
   "outputs": [
    {
     "name": "stdout",
     "output_type": "stream",
     "text": [
      "Dataset 1:\n"
     ]
    },
    {
     "name": "stderr",
     "output_type": "stream",
     "text": [
      "c:\\Code\\Master\\hydro-ml\\.venv\\lib\\site-packages\\statsmodels\\tsa\\statespace\\sarimax.py:966: UserWarning: Non-stationary starting autoregressive parameters found. Using zeros as starting parameters.\n",
      "  warn('Non-stationary starting autoregressive parameters'\n",
      "c:\\Code\\Master\\hydro-ml\\.venv\\lib\\site-packages\\statsmodels\\tsa\\statespace\\sarimax.py:978: UserWarning: Non-invertible starting MA parameters found. Using zeros as starting parameters.\n",
      "  warn('Non-invertible starting MA parameters found.'\n",
      "c:\\Code\\Master\\hydro-ml\\.venv\\lib\\site-packages\\statsmodels\\base\\model.py:604: ConvergenceWarning: Maximum Likelihood optimization failed to converge. Check mle_retvals\n",
      "  warnings.warn(\"Maximum Likelihood optimization failed to \"\n"
     ]
    },
    {
     "name": "stdout",
     "output_type": "stream",
     "text": [
      "                               SARIMAX Results                                \n",
      "==============================================================================\n",
      "Dep. Variable:                      y   No. Observations:                56958\n",
      "Model:                 ARIMA(5, 1, 6)   Log Likelihood              -20117.028\n",
      "Date:                Tue, 18 Apr 2023   AIC                          40258.056\n",
      "Time:                        00:35:29   BIC                          40365.457\n",
      "Sample:                             0   HQIC                         40291.497\n",
      "                              - 56958                                         \n",
      "Covariance Type:                  opg                                         \n",
      "==============================================================================\n",
      "                 coef    std err          z      P>|z|      [0.025      0.975]\n",
      "------------------------------------------------------------------------------\n",
      "ar.L1         -1.9033      0.005   -391.579      0.000      -1.913      -1.894\n",
      "ar.L2         -1.0995      0.007   -150.027      0.000      -1.114      -1.085\n",
      "ar.L3          0.3099      0.006     55.885      0.000       0.299       0.321\n",
      "ar.L4          0.5454      0.005    113.926      0.000       0.536       0.555\n",
      "ar.L5          0.1145      0.004     25.760      0.000       0.106       0.123\n",
      "ma.L1          2.1917      0.005    419.265      0.000       2.181       2.202\n",
      "ma.L2          1.3276      0.011    117.171      0.000       1.305       1.350\n",
      "ma.L3         -0.9986      0.013    -75.057      0.000      -1.025      -0.972\n",
      "ma.L4         -1.9989      0.011   -173.954      0.000      -2.021      -1.976\n",
      "ma.L5         -1.2115      0.009   -138.932      0.000      -1.229      -1.194\n",
      "ma.L6         -0.3103      0.003   -119.492      0.000      -0.315      -0.305\n",
      "sigma2         0.1186      0.000    443.653      0.000       0.118       0.119\n",
      "===================================================================================\n",
      "Ljung-Box (L1) (Q):                   0.01   Jarque-Bera (JB):         798087822.72\n",
      "Prob(Q):                              0.93   Prob(JB):                         0.00\n",
      "Heteroskedasticity (H):               1.53   Skew:                             0.73\n",
      "Prob(H) (two-sided):                  0.00   Kurtosis:                       582.90\n",
      "===================================================================================\n",
      "\n",
      "Warnings:\n",
      "[1] Covariance matrix calculated using the outer product of gradients (complex-step).\n"
     ]
    },
    {
     "ename": "ValueError",
     "evalue": "Found input variables with inconsistent numbers of samples: [6329, 1]",
     "output_type": "error",
     "traceback": [
      "\u001b[1;31m---------------------------------------------------------------------------\u001b[0m",
      "\u001b[1;31mValueError\u001b[0m                                Traceback (most recent call last)",
      "Cell \u001b[1;32mIn[6], line 20\u001b[0m\n\u001b[0;32m     12\u001b[0m \u001b[39m#plot_diff_target_data(target_data)\u001b[39;00m\n\u001b[0;32m     13\u001b[0m \u001b[39m#best_order = find_best_order(target_data)\u001b[39;00m\n\u001b[0;32m     14\u001b[0m \u001b[39m#plot_pacf(target_data, lags=25)\u001b[39;00m\n\u001b[0;32m     15\u001b[0m \u001b[39m#plt.show()\u001b[39;00m\n\u001b[0;32m     16\u001b[0m \u001b[39m#plot_acf(target_data, lags=25)\u001b[39;00m\n\u001b[0;32m     17\u001b[0m \u001b[39m#plt.show()\u001b[39;00m\n\u001b[0;32m     19\u001b[0m \u001b[39mprint\u001b[39m(\u001b[39mf\u001b[39m\u001b[39m\"\u001b[39m\u001b[39mDataset \u001b[39m\u001b[39m{\u001b[39;00mi\u001b[39m}\u001b[39;00m\u001b[39m:\u001b[39m\u001b[39m\"\u001b[39m)\n\u001b[1;32m---> 20\u001b[0m mae, mse, rmse \u001b[39m=\u001b[39m train_arima(target_data)\n",
      "Cell \u001b[1;32mIn[3], line 18\u001b[0m, in \u001b[0;36mtrain_arima\u001b[1;34m(data)\u001b[0m\n\u001b[0;32m     14\u001b[0m forecast_steps \u001b[39m=\u001b[39m \u001b[39m1\u001b[39m\n\u001b[0;32m     15\u001b[0m forecast \u001b[39m=\u001b[39m model_fit\u001b[39m.\u001b[39mforecast(steps\u001b[39m=\u001b[39mforecast_steps)\n\u001b[1;32m---> 18\u001b[0m mae \u001b[39m=\u001b[39m mean_absolute_error(test, forecast)\n\u001b[0;32m     19\u001b[0m mse \u001b[39m=\u001b[39m mean_squared_error(test, forecast)\n\u001b[0;32m     20\u001b[0m rmse \u001b[39m=\u001b[39m np\u001b[39m.\u001b[39msqrt(mse)\n",
      "File \u001b[1;32mc:\\Code\\Master\\hydro-ml\\.venv\\lib\\site-packages\\sklearn\\metrics\\_regression.py:196\u001b[0m, in \u001b[0;36mmean_absolute_error\u001b[1;34m(y_true, y_pred, sample_weight, multioutput)\u001b[0m\n\u001b[0;32m    141\u001b[0m \u001b[39mdef\u001b[39;00m \u001b[39mmean_absolute_error\u001b[39m(\n\u001b[0;32m    142\u001b[0m     y_true, y_pred, \u001b[39m*\u001b[39m, sample_weight\u001b[39m=\u001b[39m\u001b[39mNone\u001b[39;00m, multioutput\u001b[39m=\u001b[39m\u001b[39m\"\u001b[39m\u001b[39muniform_average\u001b[39m\u001b[39m\"\u001b[39m\n\u001b[0;32m    143\u001b[0m ):\n\u001b[0;32m    144\u001b[0m \u001b[39m    \u001b[39m\u001b[39m\"\"\"Mean absolute error regression loss.\u001b[39;00m\n\u001b[0;32m    145\u001b[0m \n\u001b[0;32m    146\u001b[0m \u001b[39m    Read more in the :ref:`User Guide <mean_absolute_error>`.\u001b[39;00m\n\u001b[1;32m   (...)\u001b[0m\n\u001b[0;32m    194\u001b[0m \u001b[39m    0.85...\u001b[39;00m\n\u001b[0;32m    195\u001b[0m \u001b[39m    \"\"\"\u001b[39;00m\n\u001b[1;32m--> 196\u001b[0m     y_type, y_true, y_pred, multioutput \u001b[39m=\u001b[39m _check_reg_targets(\n\u001b[0;32m    197\u001b[0m         y_true, y_pred, multioutput\n\u001b[0;32m    198\u001b[0m     )\n\u001b[0;32m    199\u001b[0m     check_consistent_length(y_true, y_pred, sample_weight)\n\u001b[0;32m    200\u001b[0m     output_errors \u001b[39m=\u001b[39m np\u001b[39m.\u001b[39maverage(np\u001b[39m.\u001b[39mabs(y_pred \u001b[39m-\u001b[39m y_true), weights\u001b[39m=\u001b[39msample_weight, axis\u001b[39m=\u001b[39m\u001b[39m0\u001b[39m)\n",
      "File \u001b[1;32mc:\\Code\\Master\\hydro-ml\\.venv\\lib\\site-packages\\sklearn\\metrics\\_regression.py:100\u001b[0m, in \u001b[0;36m_check_reg_targets\u001b[1;34m(y_true, y_pred, multioutput, dtype)\u001b[0m\n\u001b[0;32m     66\u001b[0m \u001b[39mdef\u001b[39;00m \u001b[39m_check_reg_targets\u001b[39m(y_true, y_pred, multioutput, dtype\u001b[39m=\u001b[39m\u001b[39m\"\u001b[39m\u001b[39mnumeric\u001b[39m\u001b[39m\"\u001b[39m):\n\u001b[0;32m     67\u001b[0m \u001b[39m    \u001b[39m\u001b[39m\"\"\"Check that y_true and y_pred belong to the same regression task.\u001b[39;00m\n\u001b[0;32m     68\u001b[0m \n\u001b[0;32m     69\u001b[0m \u001b[39m    Parameters\u001b[39;00m\n\u001b[1;32m   (...)\u001b[0m\n\u001b[0;32m     98\u001b[0m \u001b[39m        correct keyword.\u001b[39;00m\n\u001b[0;32m     99\u001b[0m \u001b[39m    \"\"\"\u001b[39;00m\n\u001b[1;32m--> 100\u001b[0m     check_consistent_length(y_true, y_pred)\n\u001b[0;32m    101\u001b[0m     y_true \u001b[39m=\u001b[39m check_array(y_true, ensure_2d\u001b[39m=\u001b[39m\u001b[39mFalse\u001b[39;00m, dtype\u001b[39m=\u001b[39mdtype)\n\u001b[0;32m    102\u001b[0m     y_pred \u001b[39m=\u001b[39m check_array(y_pred, ensure_2d\u001b[39m=\u001b[39m\u001b[39mFalse\u001b[39;00m, dtype\u001b[39m=\u001b[39mdtype)\n",
      "File \u001b[1;32mc:\\Code\\Master\\hydro-ml\\.venv\\lib\\site-packages\\sklearn\\utils\\validation.py:397\u001b[0m, in \u001b[0;36mcheck_consistent_length\u001b[1;34m(*arrays)\u001b[0m\n\u001b[0;32m    395\u001b[0m uniques \u001b[39m=\u001b[39m np\u001b[39m.\u001b[39munique(lengths)\n\u001b[0;32m    396\u001b[0m \u001b[39mif\u001b[39;00m \u001b[39mlen\u001b[39m(uniques) \u001b[39m>\u001b[39m \u001b[39m1\u001b[39m:\n\u001b[1;32m--> 397\u001b[0m     \u001b[39mraise\u001b[39;00m \u001b[39mValueError\u001b[39;00m(\n\u001b[0;32m    398\u001b[0m         \u001b[39m\"\u001b[39m\u001b[39mFound input variables with inconsistent numbers of samples: \u001b[39m\u001b[39m%r\u001b[39;00m\u001b[39m\"\u001b[39m\n\u001b[0;32m    399\u001b[0m         \u001b[39m%\u001b[39m [\u001b[39mint\u001b[39m(l) \u001b[39mfor\u001b[39;00m l \u001b[39min\u001b[39;00m lengths]\n\u001b[0;32m    400\u001b[0m     )\n",
      "\u001b[1;31mValueError\u001b[0m: Found input variables with inconsistent numbers of samples: [6329, 1]"
     ]
    }
   ],
   "source": [
    "file_names = [\n",
    "    \"../data/clean_data/cleaned_data_1.csv\",\n",
    "    \"../data/clean_data/cleaned_data_2.csv\",\n",
    "    \"../data/clean_data/cleaned_data_3.csv\",\n",
    "    \"../data/clean_data/cleaned_data_4.csv\",\n",
    "]\n",
    "\n",
    "for i, file_path in enumerate(file_names, 1):\n",
    "    target_data = prepare_data(file_path)\n",
    "    #plot_target_data(target_data)\n",
    "    target_data = np.diff(target_data)\n",
    "    #plot_diff_target_data(target_data)\n",
    "    #best_order = find_best_order(target_data)\n",
    "    #plot_pacf(target_data, lags=25)\n",
    "    #plt.show()\n",
    "    #plot_acf(target_data, lags=25)\n",
    "    #plt.show()\n",
    "\n",
    "    print(f\"Dataset {i}:\")\n",
    "    mae, mse, rmse = train_arima(target_data)"
   ]
  },
  {
   "cell_type": "markdown",
   "id": "edb2eaa5",
   "metadata": {},
   "source": [
    "Dataset 1:\n",
    "  MAE: 3.4936\n",
    "  MSE: 58.4553\n",
    "  RMSE: 7.6456\n",
    "\n",
    "Dataset 2:\n",
    "  MAE: 6.2305\n",
    "  MSE: 57.7023\n",
    "  RMSE: 7.5962\n",
    "\n",
    "Dataset 3:\n",
    "  MAE: 4.0248\n",
    "  MSE: 48.3744\n",
    "  RMSE: 6.9552\n",
    "\n",
    "\n",
    "Dataset 4:\n",
    "  MAE: 6.1155\n",
    "  MSE: 47.5642\n",
    "  RMSE: 6.8967"
   ]
  }
 ],
 "metadata": {
  "kernelspec": {
   "display_name": "hydro-ml",
   "language": "python",
   "name": "hydro-ml"
  },
  "language_info": {
   "codemirror_mode": {
    "name": "ipython",
    "version": 3
   },
   "file_extension": ".py",
   "mimetype": "text/x-python",
   "name": "python",
   "nbconvert_exporter": "python",
   "pygments_lexer": "ipython3",
   "version": "3.10.10"
  }
 },
 "nbformat": 4,
 "nbformat_minor": 5
}
