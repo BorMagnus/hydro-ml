{
 "cells": [
  {
   "cell_type": "code",
   "execution_count": null,
   "id": "bec08c5e",
   "metadata": {},
   "outputs": [],
   "source": [
    "import numpy as np\n",
    "from statsmodels.tsa.arima.model import ARIMA\n",
    "from sklearn.metrics import mean_absolute_error, mean_squared_error\n",
    "import pandas as pd\n",
    "from pmdarima.arima import auto_arima\n",
    "import matplotlib.pyplot as plt\n",
    "from statsmodels.graphics.tsaplots import plot_acf, plot_pacf"
   ]
  },
  {
   "cell_type": "code",
   "execution_count": null,
   "id": "4c6c5b9f",
   "metadata": {},
   "outputs": [],
   "source": [
    "def find_best_order(data):\n",
    "    best_fit = auto_arima(\n",
    "        data,\n",
    "        seasonal=False,\n",
    "        suppress_warnings=True,\n",
    "        stepwise=True,\n",
    "        max_P=10,\n",
    "        max_d=10,\n",
    "        max_q=10,\n",
    "        start_p=5,\n",
    "        start_q=5,\n",
    "    )\n",
    "    print(best_fit.order)\n",
    "    return best_fit.order"
   ]
  },
  {
   "cell_type": "code",
   "execution_count": null,
   "id": "7f14d667",
   "metadata": {},
   "outputs": [],
   "source": [
    "def train_arima(data):\n",
    "    train_size = int(len(data) * 0.9)\n",
    "    train, test = data[:train_size], data[train_size:]\n",
    "\n",
    "    p = 5  # Insert the value of p determined from the PACF plot\n",
    "    d = 1  # Insert the value of d based on the number of times differencing was applied\n",
    "    q = 6  # Insert the value of q determined from the ACF plot\n",
    "\n",
    "    model = ARIMA(train, order=(p, d, q))\n",
    "    model_fit = model.fit()\n",
    "\n",
    "    print(model_fit.summary())\n",
    "\n",
    "    forecast_steps = 1\n",
    "    forecast = model_fit.forecast(steps=forecast_steps)\n",
    "\n",
    "    mae = mean_absolute_error(test, forecast)\n",
    "    mse = mean_squared_error(test, forecast)\n",
    "    rmse = np.sqrt(mse)\n",
    "\n",
    "    print(\"Mean Absolute Error (MAE):\", mae)\n",
    "    print(\"Mean Squared Error (MSE):\", mse)\n",
    "    print(\"Root Mean Squared Error (RMSE):\", rmse)\n",
    "\n",
    "    return mae, mse, rmse"
   ]
  },
  {
   "cell_type": "code",
   "execution_count": null,
   "id": "e8aef372",
   "metadata": {},
   "outputs": [],
   "source": [
    "def prepare_data(file_path):\n",
    "    data = pd.read_csv(file_path)\n",
    "    data.set_index(\"Datetime\", inplace=True)\n",
    "    target_data = data[\"Flow_Kalltveit\"].values\n",
    "    return target_data"
   ]
  },
  {
   "cell_type": "code",
   "execution_count": null,
   "id": "6b799e54",
   "metadata": {},
   "outputs": [],
   "source": [
    "def plot_target_data(target_data):\n",
    "    plt.plot(target_data)\n",
    "    plt.xlabel(\"Time\")\n",
    "    plt.ylabel(\"Flow_Kalltveit\")\n",
    "    plt.title(\"Flow_Kalltveit Time Series\")\n",
    "    plt.show()\n",
    "\n",
    "\n",
    "def plot_diff_target_data(target_data):\n",
    "    plt.plot(target_data)\n",
    "    plt.xlabel(\"Time\")\n",
    "    plt.ylabel(\"Differenced Flow_Kalltveit\")\n",
    "    plt.title(\"Differenced Flow_Kalltveit Time Series\")\n",
    "    plt.show()\n",
    "    return target_data"
   ]
  },
  {
   "cell_type": "code",
   "execution_count": null,
   "id": "5c12bad9",
   "metadata": {},
   "outputs": [],
   "source": [
    "file_names = [\n",
    "    \"../data/clean_data/cleaned_data_1.csv\",\n",
    "    \"../data/clean_data/cleaned_data_2.csv\",\n",
    "    \"../data/clean_data/cleaned_data_3.csv\",\n",
    "    \"../data/clean_data/cleaned_data_4.csv\",\n",
    "]\n",
    "\n",
    "for i, file_path in enumerate(file_names, 1):\n",
    "    target_data = prepare_data(file_path)\n",
    "    # plot_target_data(target_data)\n",
    "    target_data = np.diff(target_data)\n",
    "    # plot_diff_target_data(target_data)\n",
    "    # best_order = find_best_order(target_data)\n",
    "    # plot_pacf(target_data, lags=25)\n",
    "    # plt.show()\n",
    "    # plot_acf(target_data, lags=25)\n",
    "    # plt.show()\n",
    "\n",
    "    print(f\"Dataset {i}:\")\n",
    "    mae, mse, rmse = train_arima(target_data)"
   ]
  },
  {
   "cell_type": "markdown",
   "id": "edb2eaa5",
   "metadata": {},
   "source": [
    "Dataset 1:\n",
    "  MAE: 3.4936\n",
    "  MSE: 58.4553\n",
    "  RMSE: 7.6456\n",
    "\n",
    "Dataset 2:\n",
    "  MAE: 6.2305\n",
    "  MSE: 57.7023\n",
    "  RMSE: 7.5962\n",
    "\n",
    "Dataset 3:\n",
    "  MAE: 4.0248\n",
    "  MSE: 48.3744\n",
    "  RMSE: 6.9552\n",
    "\n",
    "\n",
    "Dataset 4:\n",
    "  MAE: 6.1155\n",
    "  MSE: 47.5642\n",
    "  RMSE: 6.8967"
   ]
  }
 ],
 "metadata": {
  "kernelspec": {
   "display_name": "hydro-ml",
   "language": "python",
   "name": "hydro-ml"
  },
  "language_info": {
   "codemirror_mode": {
    "name": "ipython",
    "version": 3
   },
   "file_extension": ".py",
   "mimetype": "text/x-python",
   "name": "python",
   "nbconvert_exporter": "python",
   "pygments_lexer": "ipython3",
   "version": "3.10.10"
  }
 },
 "nbformat": 4,
 "nbformat_minor": 5
}
