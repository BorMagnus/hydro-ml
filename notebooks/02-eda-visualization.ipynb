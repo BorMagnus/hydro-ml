{
 "cells": [
  {
   "cell_type": "code",
   "execution_count": 15,
   "metadata": {},
   "outputs": [],
   "source": [
    "import os\n",
    "import sys\n",
    "\n",
    "import pandas as pd\n",
    "\n",
    "module_path = os.path.abspath(os.path.join(\"../src\"))\n",
    "if module_path not in sys.path:\n",
    "    sys.path.append(module_path)\n",
    "\n",
    "from data import Data"
   ]
  },
  {
   "cell_type": "code",
   "execution_count": 16,
   "metadata": {},
   "outputs": [],
   "source": [
    "file_name = \"cleaned_data_1.csv\"\n",
    "date_variable = \"Datetime\""
   ]
  },
  {
   "cell_type": "code",
   "execution_count": 17,
   "metadata": {},
   "outputs": [],
   "source": [
    "d = Data(file_name, date_variable)\n",
    "data_1 = d.get_csv_data()"
   ]
  },
  {
   "cell_type": "code",
   "execution_count": 18,
   "metadata": {},
   "outputs": [
    {
     "name": "stdout",
     "output_type": "stream",
     "text": [
      "<class 'pandas.core.frame.DataFrame'>\n",
      "Index: 63288 entries, 2015-01-01 00:00:00 to 2022-03-21 23:00:00\n",
      "Data columns (total 18 columns):\n",
      " #   Column                           Non-Null Count  Dtype  \n",
      "---  ------                           --------------  -----  \n",
      " 0   Wind_Speed_Nilsebu               63288 non-null  float64\n",
      " 1   Air_Temperature_Nilsebu          63288 non-null  float64\n",
      " 2   Wind_Direction_Nilsebu           63288 non-null  float64\n",
      " 3   Relative_Humidity_Nilsebu        63288 non-null  float64\n",
      " 4   Air_Temperature_Fister           63288 non-null  float64\n",
      " 5   Precipitation_Fister             63288 non-null  float64\n",
      " 6   Flow_Lyngsvatn_Overflow          63288 non-null  float64\n",
      " 7   Flow_Tapping                     63288 non-null  float64\n",
      " 8   Water_Level_Kalltveit            63288 non-null  float64\n",
      " 9   Flow_Kalltveit                   63288 non-null  float64\n",
      " 10  Water_Temperature_Kalltveit_Kum  63288 non-null  float64\n",
      " 11  Precipitation_Nilsebu            63288 non-null  float64\n",
      " 12  Flow_HBV                         63288 non-null  float64\n",
      " 13  Precipitation_HBV                63288 non-null  float64\n",
      " 14  Temperature_HBV                  63288 non-null  float64\n",
      " 15  Flow_Without_Tapping_Kalltveit   63288 non-null  float64\n",
      " 16  Flow_Lyngsaana                   63288 non-null  float64\n",
      " 17  Water_Temperature_Lyngsaana      63288 non-null  float64\n",
      "dtypes: float64(18)\n",
      "memory usage: 9.2+ MB\n"
     ]
    }
   ],
   "source": [
    "data_1.info()"
   ]
  }
 ],
 "metadata": {
  "kernelspec": {
   "display_name": "hydro-ml",
   "language": "python",
   "name": "hydro-ml"
  },
  "language_info": {
   "codemirror_mode": {
    "name": "ipython",
    "version": 3
   },
   "file_extension": ".py",
   "mimetype": "text/x-python",
   "name": "python",
   "nbconvert_exporter": "python",
   "pygments_lexer": "ipython3",
   "version": "3.10.10"
  },
  "orig_nbformat": 4
 },
 "nbformat": 4,
 "nbformat_minor": 2
}
